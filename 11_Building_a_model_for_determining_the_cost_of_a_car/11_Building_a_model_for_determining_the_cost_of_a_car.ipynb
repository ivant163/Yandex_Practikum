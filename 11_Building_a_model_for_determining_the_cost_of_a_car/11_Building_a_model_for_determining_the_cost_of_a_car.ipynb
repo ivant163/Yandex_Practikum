{
 "cells": [
  {
   "cell_type": "markdown",
   "metadata": {},
   "source": [
    "# Определение стоимости автомобилей"
   ]
  },
  {
   "cell_type": "markdown",
   "metadata": {},
   "source": [
    "Сервис по продаже автомобилей с пробегом «Не бит, не крашен» разрабатывает приложение для привлечения новых клиентов. В нём можно быстро узнать рыночную стоимость своего автомобиля. В вашем распоряжении исторические данные: технические характеристики, комплектации и цены автомобилей. Вам нужно построить модель для определения стоимости. \n",
    "\n",
    "Заказчику важны:\n",
    "\n",
    "- качество предсказания;\n",
    "- скорость предсказания;\n",
    "- время обучения.  \n",
    "\n",
    "Для оценки качества моделей мы применим метрику RMSE.\n",
    "Значение метрики RMSE должно быть меньше 2500.  \n",
    "\n",
    "Целевой признак Price — цена (евро)"
   ]
  },
  {
   "cell_type": "markdown",
   "metadata": {},
   "source": [
    "## 1. Подготовка данных"
   ]
  },
  {
   "cell_type": "code",
   "execution_count": 1,
   "metadata": {},
   "outputs": [],
   "source": [
    "import pandas as pd\n",
    "import seaborn as sns\n",
    "import matplotlib.pyplot as plt\n",
    "import numpy as np\n",
    "import pandas as pd\n",
    "import requests\n",
    "import lightgbm as lgb\n",
    "import lightgbm\n",
    "import time \n",
    "\n",
    "from catboost import CatBoostRegressor\n",
    "from catboost import cv\n",
    "from sklearn.model_selection import train_test_split \n",
    "from sklearn.metrics import roc_auc_score\n",
    "from sklearn.linear_model import LinearRegression\n",
    "from sklearn.model_selection import cross_val_score, GridSearchCV\n",
    "from sklearn.metrics import mean_squared_error\n",
    "from sklearn.tree import DecisionTreeRegressor\n",
    "from sklearn. model_selection import LeaveOneOut\n",
    "from sklearn.linear_model import Ridge\n",
    "from sklearn.pipeline import Pipeline\n",
    "from sklearn.feature_selection import SelectKBest, chi2\n",
    "from lightgbm import LGBMRegressor, LGBMClassifier, Booster\n",
    "\n",
    "from numpy import mean\n",
    "from numpy import absolute\n",
    "from numpy import sqrt\n",
    "import numpy as np\n",
    "\n",
    "RANDOMSTATE = 12345"
   ]
  },
  {
   "cell_type": "markdown",
   "metadata": {},
   "source": [
    "Подключил библиотеки и определил переменные"
   ]
  },
  {
   "cell_type": "code",
   "execution_count": 2,
   "metadata": {},
   "outputs": [],
   "source": [
    "data = pd.read_csv('/datasets/autos.csv')"
   ]
  },
  {
   "cell_type": "markdown",
   "metadata": {},
   "source": [
    "Загрузил датасет и сохранил его в переменной data"
   ]
  },
  {
   "cell_type": "markdown",
   "metadata": {},
   "source": [
    "### Вывод"
   ]
  },
  {
   "cell_type": "markdown",
   "metadata": {},
   "source": [
    "Библиотеки подключены, данные загружены."
   ]
  },
  {
   "cell_type": "markdown",
   "metadata": {},
   "source": [
    "## 2. Анализ данных"
   ]
  },
  {
   "cell_type": "code",
   "execution_count": 3,
   "metadata": {
    "scrolled": true
   },
   "outputs": [
    {
     "data": {
      "text/html": [
       "<div>\n",
       "<style scoped>\n",
       "    .dataframe tbody tr th:only-of-type {\n",
       "        vertical-align: middle;\n",
       "    }\n",
       "\n",
       "    .dataframe tbody tr th {\n",
       "        vertical-align: top;\n",
       "    }\n",
       "\n",
       "    .dataframe thead th {\n",
       "        text-align: right;\n",
       "    }\n",
       "</style>\n",
       "<table border=\"1\" class=\"dataframe\">\n",
       "  <thead>\n",
       "    <tr style=\"text-align: right;\">\n",
       "      <th></th>\n",
       "      <th>DateCrawled</th>\n",
       "      <th>Price</th>\n",
       "      <th>VehicleType</th>\n",
       "      <th>RegistrationYear</th>\n",
       "      <th>Gearbox</th>\n",
       "      <th>Power</th>\n",
       "      <th>Model</th>\n",
       "      <th>Kilometer</th>\n",
       "      <th>RegistrationMonth</th>\n",
       "      <th>FuelType</th>\n",
       "      <th>Brand</th>\n",
       "      <th>Repaired</th>\n",
       "      <th>DateCreated</th>\n",
       "      <th>NumberOfPictures</th>\n",
       "      <th>PostalCode</th>\n",
       "      <th>LastSeen</th>\n",
       "    </tr>\n",
       "  </thead>\n",
       "  <tbody>\n",
       "    <tr>\n",
       "      <th>0</th>\n",
       "      <td>2016-03-24 11:52:17</td>\n",
       "      <td>480</td>\n",
       "      <td>NaN</td>\n",
       "      <td>1993</td>\n",
       "      <td>manual</td>\n",
       "      <td>0</td>\n",
       "      <td>golf</td>\n",
       "      <td>150000</td>\n",
       "      <td>0</td>\n",
       "      <td>petrol</td>\n",
       "      <td>volkswagen</td>\n",
       "      <td>NaN</td>\n",
       "      <td>2016-03-24 00:00:00</td>\n",
       "      <td>0</td>\n",
       "      <td>70435</td>\n",
       "      <td>2016-04-07 03:16:57</td>\n",
       "    </tr>\n",
       "    <tr>\n",
       "      <th>1</th>\n",
       "      <td>2016-03-24 10:58:45</td>\n",
       "      <td>18300</td>\n",
       "      <td>coupe</td>\n",
       "      <td>2011</td>\n",
       "      <td>manual</td>\n",
       "      <td>190</td>\n",
       "      <td>NaN</td>\n",
       "      <td>125000</td>\n",
       "      <td>5</td>\n",
       "      <td>gasoline</td>\n",
       "      <td>audi</td>\n",
       "      <td>yes</td>\n",
       "      <td>2016-03-24 00:00:00</td>\n",
       "      <td>0</td>\n",
       "      <td>66954</td>\n",
       "      <td>2016-04-07 01:46:50</td>\n",
       "    </tr>\n",
       "    <tr>\n",
       "      <th>2</th>\n",
       "      <td>2016-03-14 12:52:21</td>\n",
       "      <td>9800</td>\n",
       "      <td>suv</td>\n",
       "      <td>2004</td>\n",
       "      <td>auto</td>\n",
       "      <td>163</td>\n",
       "      <td>grand</td>\n",
       "      <td>125000</td>\n",
       "      <td>8</td>\n",
       "      <td>gasoline</td>\n",
       "      <td>jeep</td>\n",
       "      <td>NaN</td>\n",
       "      <td>2016-03-14 00:00:00</td>\n",
       "      <td>0</td>\n",
       "      <td>90480</td>\n",
       "      <td>2016-04-05 12:47:46</td>\n",
       "    </tr>\n",
       "  </tbody>\n",
       "</table>\n",
       "</div>"
      ],
      "text/plain": [
       "           DateCrawled  Price VehicleType  RegistrationYear Gearbox  Power  \\\n",
       "0  2016-03-24 11:52:17    480         NaN              1993  manual      0   \n",
       "1  2016-03-24 10:58:45  18300       coupe              2011  manual    190   \n",
       "2  2016-03-14 12:52:21   9800         suv              2004    auto    163   \n",
       "\n",
       "   Model  Kilometer  RegistrationMonth  FuelType       Brand Repaired  \\\n",
       "0   golf     150000                  0    petrol  volkswagen      NaN   \n",
       "1    NaN     125000                  5  gasoline        audi      yes   \n",
       "2  grand     125000                  8  gasoline        jeep      NaN   \n",
       "\n",
       "           DateCreated  NumberOfPictures  PostalCode             LastSeen  \n",
       "0  2016-03-24 00:00:00                 0       70435  2016-04-07 03:16:57  \n",
       "1  2016-03-24 00:00:00                 0       66954  2016-04-07 01:46:50  \n",
       "2  2016-03-14 00:00:00                 0       90480  2016-04-05 12:47:46  "
      ]
     },
     "execution_count": 3,
     "metadata": {},
     "output_type": "execute_result"
    }
   ],
   "source": [
    "data.head(3)"
   ]
  },
  {
   "cell_type": "markdown",
   "metadata": {},
   "source": [
    "Просмотрел первые 3 значения в датасете"
   ]
  },
  {
   "cell_type": "code",
   "execution_count": 4,
   "metadata": {
    "scrolled": true
   },
   "outputs": [
    {
     "data": {
      "text/plain": [
       "(354369, 16)"
      ]
     },
     "execution_count": 4,
     "metadata": {},
     "output_type": "execute_result"
    }
   ],
   "source": [
    "data.shape"
   ]
  },
  {
   "cell_type": "markdown",
   "metadata": {},
   "source": [
    "Просмотрел информацию о количестве наблюдений и признаков"
   ]
  },
  {
   "cell_type": "code",
   "execution_count": 5,
   "metadata": {
    "scrolled": false
   },
   "outputs": [
    {
     "data": {
      "text/plain": [
       "Index(['DateCrawled', 'Price', 'VehicleType', 'RegistrationYear', 'Gearbox',\n",
       "       'Power', 'Model', 'Kilometer', 'RegistrationMonth', 'FuelType', 'Brand',\n",
       "       'Repaired', 'DateCreated', 'NumberOfPictures', 'PostalCode',\n",
       "       'LastSeen'],\n",
       "      dtype='object')"
      ]
     },
     "execution_count": 5,
     "metadata": {},
     "output_type": "execute_result"
    }
   ],
   "source": [
    "data.columns"
   ]
  },
  {
   "cell_type": "markdown",
   "metadata": {},
   "source": [
    "Вывел названия столбцов и проверил их"
   ]
  },
  {
   "cell_type": "code",
   "execution_count": 6,
   "metadata": {},
   "outputs": [
    {
     "data": {
      "text/plain": [
       "4"
      ]
     },
     "execution_count": 6,
     "metadata": {},
     "output_type": "execute_result"
    }
   ],
   "source": [
    "data.duplicated().sum()"
   ]
  },
  {
   "cell_type": "markdown",
   "metadata": {},
   "source": [
    "Проверил датасет на дубликаты, есть 4 строки, которые являются точными копиями"
   ]
  },
  {
   "cell_type": "code",
   "execution_count": 7,
   "metadata": {},
   "outputs": [],
   "source": [
    "data = data.drop_duplicates().reset_index(drop=True)"
   ]
  },
  {
   "cell_type": "markdown",
   "metadata": {},
   "source": [
    "Удалил повторяющиеся строки"
   ]
  },
  {
   "cell_type": "code",
   "execution_count": 8,
   "metadata": {
    "scrolled": true
   },
   "outputs": [
    {
     "data": {
      "text/plain": [
       "0"
      ]
     },
     "execution_count": 8,
     "metadata": {},
     "output_type": "execute_result"
    }
   ],
   "source": [
    "data.duplicated().sum()"
   ]
  },
  {
   "cell_type": "markdown",
   "metadata": {},
   "source": [
    "Повторно проверил датасет и убедился в отсутствии дубликатов"
   ]
  },
  {
   "cell_type": "code",
   "execution_count": 9,
   "metadata": {
    "scrolled": false
   },
   "outputs": [
    {
     "name": "stdout",
     "output_type": "stream",
     "text": [
      "<class 'pandas.core.frame.DataFrame'>\n",
      "RangeIndex: 354365 entries, 0 to 354364\n",
      "Data columns (total 16 columns):\n",
      " #   Column             Non-Null Count   Dtype \n",
      "---  ------             --------------   ----- \n",
      " 0   DateCrawled        354365 non-null  object\n",
      " 1   Price              354365 non-null  int64 \n",
      " 2   VehicleType        316875 non-null  object\n",
      " 3   RegistrationYear   354365 non-null  int64 \n",
      " 4   Gearbox            334532 non-null  object\n",
      " 5   Power              354365 non-null  int64 \n",
      " 6   Model              334660 non-null  object\n",
      " 7   Kilometer          354365 non-null  int64 \n",
      " 8   RegistrationMonth  354365 non-null  int64 \n",
      " 9   FuelType           321470 non-null  object\n",
      " 10  Brand              354365 non-null  object\n",
      " 11  Repaired           283211 non-null  object\n",
      " 12  DateCreated        354365 non-null  object\n",
      " 13  NumberOfPictures   354365 non-null  int64 \n",
      " 14  PostalCode         354365 non-null  int64 \n",
      " 15  LastSeen           354365 non-null  object\n",
      "dtypes: int64(7), object(9)\n",
      "memory usage: 43.3+ MB\n"
     ]
    }
   ],
   "source": [
    "data.info()"
   ]
  },
  {
   "cell_type": "markdown",
   "metadata": {},
   "source": [
    "Просмотрел общую информацию по датафрейму"
   ]
  },
  {
   "cell_type": "code",
   "execution_count": 10,
   "metadata": {
    "scrolled": false
   },
   "outputs": [
    {
     "name": "stdout",
     "output_type": "stream",
     "text": [
      "<class 'pandas.core.frame.DataFrame'>\n",
      "RangeIndex: 354365 entries, 0 to 354364\n",
      "Data columns (total 16 columns):\n",
      " #   Column             Non-Null Count   Dtype         \n",
      "---  ------             --------------   -----         \n",
      " 0   DateCrawled        354365 non-null  datetime64[ns]\n",
      " 1   Price              354365 non-null  int64         \n",
      " 2   VehicleType        316875 non-null  object        \n",
      " 3   RegistrationYear   354365 non-null  int64         \n",
      " 4   Gearbox            334532 non-null  object        \n",
      " 5   Power              354365 non-null  int64         \n",
      " 6   Model              334660 non-null  object        \n",
      " 7   Kilometer          354365 non-null  int64         \n",
      " 8   RegistrationMonth  354365 non-null  int64         \n",
      " 9   FuelType           321470 non-null  object        \n",
      " 10  Brand              354365 non-null  object        \n",
      " 11  Repaired           283211 non-null  object        \n",
      " 12  DateCreated        354365 non-null  datetime64[ns]\n",
      " 13  NumberOfPictures   354365 non-null  int64         \n",
      " 14  PostalCode         354365 non-null  int64         \n",
      " 15  LastSeen           354365 non-null  datetime64[ns]\n",
      "dtypes: datetime64[ns](3), int64(7), object(6)\n",
      "memory usage: 43.3+ MB\n"
     ]
    }
   ],
   "source": [
    "data['DateCrawled'] = pd.to_datetime(data['DateCrawled'], format='%Y-%m-%dT%H:%M:%S')\n",
    "data['DateCreated'] = pd.to_datetime(data['DateCreated'], format='%Y-%m-%dT%H:%M:%S')\n",
    "data['LastSeen'] = pd.to_datetime(data['LastSeen'], format='%Y-%m-%dT%H:%M:%S')\n",
    "data.info()"
   ]
  },
  {
   "cell_type": "markdown",
   "metadata": {},
   "source": [
    "Изменил тип данных в столбце с датой на datetime"
   ]
  },
  {
   "cell_type": "code",
   "execution_count": 11,
   "metadata": {
    "scrolled": true
   },
   "outputs": [
    {
     "data": {
      "text/plain": [
       "DateCrawled              0\n",
       "Price                    0\n",
       "VehicleType          37490\n",
       "RegistrationYear         0\n",
       "Gearbox              19833\n",
       "Power                    0\n",
       "Model                19705\n",
       "Kilometer                0\n",
       "RegistrationMonth        0\n",
       "FuelType             32895\n",
       "Brand                    0\n",
       "Repaired             71154\n",
       "DateCreated              0\n",
       "NumberOfPictures         0\n",
       "PostalCode               0\n",
       "LastSeen                 0\n",
       "dtype: int64"
      ]
     },
     "execution_count": 11,
     "metadata": {},
     "output_type": "execute_result"
    }
   ],
   "source": [
    "data.isna().sum()"
   ]
  },
  {
   "cell_type": "markdown",
   "metadata": {},
   "source": [
    "Проверил количество пропущенных значений, в 5 столбцах есть пропущенные данные"
   ]
  },
  {
   "cell_type": "code",
   "execution_count": 12,
   "metadata": {
    "scrolled": true
   },
   "outputs": [
    {
     "data": {
      "text/plain": [
       "DateCrawled          271174\n",
       "Price                  3731\n",
       "VehicleType               8\n",
       "RegistrationYear        151\n",
       "Gearbox                   2\n",
       "Power                   712\n",
       "Model                   250\n",
       "Kilometer                13\n",
       "RegistrationMonth        13\n",
       "FuelType                  7\n",
       "Brand                    40\n",
       "Repaired                  2\n",
       "DateCreated             109\n",
       "NumberOfPictures          1\n",
       "PostalCode             8143\n",
       "LastSeen             179150\n",
       "dtype: int64"
      ]
     },
     "execution_count": 12,
     "metadata": {},
     "output_type": "execute_result"
    }
   ],
   "source": [
    "data.nunique()"
   ]
  },
  {
   "cell_type": "markdown",
   "metadata": {},
   "source": [
    "Проверил количество уникальных значений"
   ]
  },
  {
   "cell_type": "code",
   "execution_count": 13,
   "metadata": {},
   "outputs": [],
   "source": [
    "data['Repaired'] = data['Repaired'].fillna('no')"
   ]
  },
  {
   "cell_type": "markdown",
   "metadata": {},
   "source": [
    "Изучив данные делаю вывод, что в столбце Repaired значение Nan соответствует No, т.е. машина не была в ремонте. Делаю замену всех Nan на no"
   ]
  },
  {
   "cell_type": "code",
   "execution_count": 14,
   "metadata": {
    "scrolled": true
   },
   "outputs": [
    {
     "data": {
      "text/plain": [
       "2"
      ]
     },
     "execution_count": 14,
     "metadata": {},
     "output_type": "execute_result"
    }
   ],
   "source": [
    "data['Repaired'].nunique()"
   ]
  },
  {
   "cell_type": "markdown",
   "metadata": {},
   "source": [
    "Проверяю количество уникальных значений в столбце Repaired, теперь их два Yes и no"
   ]
  },
  {
   "cell_type": "code",
   "execution_count": 15,
   "metadata": {
    "scrolled": true
   },
   "outputs": [
    {
     "data": {
      "text/plain": [
       "DateCrawled              0\n",
       "Price                    0\n",
       "VehicleType          37490\n",
       "RegistrationYear         0\n",
       "Gearbox              19833\n",
       "Power                    0\n",
       "Model                19705\n",
       "Kilometer                0\n",
       "RegistrationMonth        0\n",
       "FuelType             32895\n",
       "Brand                    0\n",
       "Repaired                 0\n",
       "DateCreated              0\n",
       "NumberOfPictures         0\n",
       "PostalCode               0\n",
       "LastSeen                 0\n",
       "dtype: int64"
      ]
     },
     "execution_count": 15,
     "metadata": {},
     "output_type": "execute_result"
    }
   ],
   "source": [
    "data.isna().sum()"
   ]
  },
  {
   "cell_type": "markdown",
   "metadata": {},
   "source": [
    "Проверяю, что в столбце Repaired больше нет пропусков"
   ]
  },
  {
   "cell_type": "code",
   "execution_count": 16,
   "metadata": {
    "scrolled": false
   },
   "outputs": [
    {
     "data": {
      "text/html": [
       "<div>\n",
       "<style scoped>\n",
       "    .dataframe tbody tr th:only-of-type {\n",
       "        vertical-align: middle;\n",
       "    }\n",
       "\n",
       "    .dataframe tbody tr th {\n",
       "        vertical-align: top;\n",
       "    }\n",
       "\n",
       "    .dataframe thead th {\n",
       "        text-align: right;\n",
       "    }\n",
       "</style>\n",
       "<table border=\"1\" class=\"dataframe\">\n",
       "  <thead>\n",
       "    <tr style=\"text-align: right;\">\n",
       "      <th></th>\n",
       "      <th>DateCrawled</th>\n",
       "      <th>Price</th>\n",
       "      <th>VehicleType</th>\n",
       "      <th>RegistrationYear</th>\n",
       "      <th>Gearbox</th>\n",
       "      <th>Power</th>\n",
       "      <th>Model</th>\n",
       "      <th>Kilometer</th>\n",
       "      <th>RegistrationMonth</th>\n",
       "      <th>FuelType</th>\n",
       "      <th>Brand</th>\n",
       "      <th>Repaired</th>\n",
       "      <th>DateCreated</th>\n",
       "      <th>NumberOfPictures</th>\n",
       "      <th>PostalCode</th>\n",
       "      <th>LastSeen</th>\n",
       "    </tr>\n",
       "  </thead>\n",
       "  <tbody>\n",
       "    <tr>\n",
       "      <th>0</th>\n",
       "      <td>2016-03-24 11:52:17</td>\n",
       "      <td>480</td>\n",
       "      <td>NaN</td>\n",
       "      <td>1993</td>\n",
       "      <td>manual</td>\n",
       "      <td>0</td>\n",
       "      <td>golf</td>\n",
       "      <td>150000</td>\n",
       "      <td>0</td>\n",
       "      <td>petrol</td>\n",
       "      <td>volkswagen</td>\n",
       "      <td>0</td>\n",
       "      <td>2016-03-24</td>\n",
       "      <td>0</td>\n",
       "      <td>70435</td>\n",
       "      <td>2016-04-07 03:16:57</td>\n",
       "    </tr>\n",
       "    <tr>\n",
       "      <th>1</th>\n",
       "      <td>2016-03-24 10:58:45</td>\n",
       "      <td>18300</td>\n",
       "      <td>coupe</td>\n",
       "      <td>2011</td>\n",
       "      <td>manual</td>\n",
       "      <td>190</td>\n",
       "      <td>NaN</td>\n",
       "      <td>125000</td>\n",
       "      <td>5</td>\n",
       "      <td>gasoline</td>\n",
       "      <td>audi</td>\n",
       "      <td>1</td>\n",
       "      <td>2016-03-24</td>\n",
       "      <td>0</td>\n",
       "      <td>66954</td>\n",
       "      <td>2016-04-07 01:46:50</td>\n",
       "    </tr>\n",
       "    <tr>\n",
       "      <th>2</th>\n",
       "      <td>2016-03-14 12:52:21</td>\n",
       "      <td>9800</td>\n",
       "      <td>suv</td>\n",
       "      <td>2004</td>\n",
       "      <td>auto</td>\n",
       "      <td>163</td>\n",
       "      <td>grand</td>\n",
       "      <td>125000</td>\n",
       "      <td>8</td>\n",
       "      <td>gasoline</td>\n",
       "      <td>jeep</td>\n",
       "      <td>0</td>\n",
       "      <td>2016-03-14</td>\n",
       "      <td>0</td>\n",
       "      <td>90480</td>\n",
       "      <td>2016-04-05 12:47:46</td>\n",
       "    </tr>\n",
       "    <tr>\n",
       "      <th>3</th>\n",
       "      <td>2016-03-17 16:54:04</td>\n",
       "      <td>1500</td>\n",
       "      <td>small</td>\n",
       "      <td>2001</td>\n",
       "      <td>manual</td>\n",
       "      <td>75</td>\n",
       "      <td>golf</td>\n",
       "      <td>150000</td>\n",
       "      <td>6</td>\n",
       "      <td>petrol</td>\n",
       "      <td>volkswagen</td>\n",
       "      <td>0</td>\n",
       "      <td>2016-03-17</td>\n",
       "      <td>0</td>\n",
       "      <td>91074</td>\n",
       "      <td>2016-03-17 17:40:17</td>\n",
       "    </tr>\n",
       "    <tr>\n",
       "      <th>4</th>\n",
       "      <td>2016-03-31 17:25:20</td>\n",
       "      <td>3600</td>\n",
       "      <td>small</td>\n",
       "      <td>2008</td>\n",
       "      <td>manual</td>\n",
       "      <td>69</td>\n",
       "      <td>fabia</td>\n",
       "      <td>90000</td>\n",
       "      <td>7</td>\n",
       "      <td>gasoline</td>\n",
       "      <td>skoda</td>\n",
       "      <td>0</td>\n",
       "      <td>2016-03-31</td>\n",
       "      <td>0</td>\n",
       "      <td>60437</td>\n",
       "      <td>2016-04-06 10:17:21</td>\n",
       "    </tr>\n",
       "    <tr>\n",
       "      <th>...</th>\n",
       "      <td>...</td>\n",
       "      <td>...</td>\n",
       "      <td>...</td>\n",
       "      <td>...</td>\n",
       "      <td>...</td>\n",
       "      <td>...</td>\n",
       "      <td>...</td>\n",
       "      <td>...</td>\n",
       "      <td>...</td>\n",
       "      <td>...</td>\n",
       "      <td>...</td>\n",
       "      <td>...</td>\n",
       "      <td>...</td>\n",
       "      <td>...</td>\n",
       "      <td>...</td>\n",
       "      <td>...</td>\n",
       "    </tr>\n",
       "    <tr>\n",
       "      <th>354360</th>\n",
       "      <td>2016-03-21 09:50:58</td>\n",
       "      <td>0</td>\n",
       "      <td>NaN</td>\n",
       "      <td>2005</td>\n",
       "      <td>manual</td>\n",
       "      <td>0</td>\n",
       "      <td>colt</td>\n",
       "      <td>150000</td>\n",
       "      <td>7</td>\n",
       "      <td>petrol</td>\n",
       "      <td>mitsubishi</td>\n",
       "      <td>1</td>\n",
       "      <td>2016-03-21</td>\n",
       "      <td>0</td>\n",
       "      <td>2694</td>\n",
       "      <td>2016-03-21 10:42:49</td>\n",
       "    </tr>\n",
       "    <tr>\n",
       "      <th>354361</th>\n",
       "      <td>2016-03-14 17:48:27</td>\n",
       "      <td>2200</td>\n",
       "      <td>NaN</td>\n",
       "      <td>2005</td>\n",
       "      <td>NaN</td>\n",
       "      <td>0</td>\n",
       "      <td>NaN</td>\n",
       "      <td>20000</td>\n",
       "      <td>1</td>\n",
       "      <td>NaN</td>\n",
       "      <td>sonstige_autos</td>\n",
       "      <td>0</td>\n",
       "      <td>2016-03-14</td>\n",
       "      <td>0</td>\n",
       "      <td>39576</td>\n",
       "      <td>2016-04-06 00:46:52</td>\n",
       "    </tr>\n",
       "    <tr>\n",
       "      <th>354362</th>\n",
       "      <td>2016-03-05 19:56:21</td>\n",
       "      <td>1199</td>\n",
       "      <td>convertible</td>\n",
       "      <td>2000</td>\n",
       "      <td>auto</td>\n",
       "      <td>101</td>\n",
       "      <td>fortwo</td>\n",
       "      <td>125000</td>\n",
       "      <td>3</td>\n",
       "      <td>petrol</td>\n",
       "      <td>smart</td>\n",
       "      <td>0</td>\n",
       "      <td>2016-03-05</td>\n",
       "      <td>0</td>\n",
       "      <td>26135</td>\n",
       "      <td>2016-03-11 18:17:12</td>\n",
       "    </tr>\n",
       "    <tr>\n",
       "      <th>354363</th>\n",
       "      <td>2016-03-19 18:57:12</td>\n",
       "      <td>9200</td>\n",
       "      <td>bus</td>\n",
       "      <td>1996</td>\n",
       "      <td>manual</td>\n",
       "      <td>102</td>\n",
       "      <td>transporter</td>\n",
       "      <td>150000</td>\n",
       "      <td>3</td>\n",
       "      <td>gasoline</td>\n",
       "      <td>volkswagen</td>\n",
       "      <td>0</td>\n",
       "      <td>2016-03-19</td>\n",
       "      <td>0</td>\n",
       "      <td>87439</td>\n",
       "      <td>2016-04-07 07:15:26</td>\n",
       "    </tr>\n",
       "    <tr>\n",
       "      <th>354364</th>\n",
       "      <td>2016-03-20 19:41:08</td>\n",
       "      <td>3400</td>\n",
       "      <td>wagon</td>\n",
       "      <td>2002</td>\n",
       "      <td>manual</td>\n",
       "      <td>100</td>\n",
       "      <td>golf</td>\n",
       "      <td>150000</td>\n",
       "      <td>6</td>\n",
       "      <td>gasoline</td>\n",
       "      <td>volkswagen</td>\n",
       "      <td>0</td>\n",
       "      <td>2016-03-20</td>\n",
       "      <td>0</td>\n",
       "      <td>40764</td>\n",
       "      <td>2016-03-24 12:45:21</td>\n",
       "    </tr>\n",
       "  </tbody>\n",
       "</table>\n",
       "<p>354365 rows × 16 columns</p>\n",
       "</div>"
      ],
      "text/plain": [
       "               DateCrawled  Price  VehicleType  RegistrationYear Gearbox  \\\n",
       "0      2016-03-24 11:52:17    480          NaN              1993  manual   \n",
       "1      2016-03-24 10:58:45  18300        coupe              2011  manual   \n",
       "2      2016-03-14 12:52:21   9800          suv              2004    auto   \n",
       "3      2016-03-17 16:54:04   1500        small              2001  manual   \n",
       "4      2016-03-31 17:25:20   3600        small              2008  manual   \n",
       "...                    ...    ...          ...               ...     ...   \n",
       "354360 2016-03-21 09:50:58      0          NaN              2005  manual   \n",
       "354361 2016-03-14 17:48:27   2200          NaN              2005     NaN   \n",
       "354362 2016-03-05 19:56:21   1199  convertible              2000    auto   \n",
       "354363 2016-03-19 18:57:12   9200          bus              1996  manual   \n",
       "354364 2016-03-20 19:41:08   3400        wagon              2002  manual   \n",
       "\n",
       "        Power        Model  Kilometer  RegistrationMonth  FuelType  \\\n",
       "0           0         golf     150000                  0    petrol   \n",
       "1         190          NaN     125000                  5  gasoline   \n",
       "2         163        grand     125000                  8  gasoline   \n",
       "3          75         golf     150000                  6    petrol   \n",
       "4          69        fabia      90000                  7  gasoline   \n",
       "...       ...          ...        ...                ...       ...   \n",
       "354360      0         colt     150000                  7    petrol   \n",
       "354361      0          NaN      20000                  1       NaN   \n",
       "354362    101       fortwo     125000                  3    petrol   \n",
       "354363    102  transporter     150000                  3  gasoline   \n",
       "354364    100         golf     150000                  6  gasoline   \n",
       "\n",
       "                 Brand  Repaired DateCreated  NumberOfPictures  PostalCode  \\\n",
       "0           volkswagen         0  2016-03-24                 0       70435   \n",
       "1                 audi         1  2016-03-24                 0       66954   \n",
       "2                 jeep         0  2016-03-14                 0       90480   \n",
       "3           volkswagen         0  2016-03-17                 0       91074   \n",
       "4                skoda         0  2016-03-31                 0       60437   \n",
       "...                ...       ...         ...               ...         ...   \n",
       "354360      mitsubishi         1  2016-03-21                 0        2694   \n",
       "354361  sonstige_autos         0  2016-03-14                 0       39576   \n",
       "354362           smart         0  2016-03-05                 0       26135   \n",
       "354363      volkswagen         0  2016-03-19                 0       87439   \n",
       "354364      volkswagen         0  2016-03-20                 0       40764   \n",
       "\n",
       "                  LastSeen  \n",
       "0      2016-04-07 03:16:57  \n",
       "1      2016-04-07 01:46:50  \n",
       "2      2016-04-05 12:47:46  \n",
       "3      2016-03-17 17:40:17  \n",
       "4      2016-04-06 10:17:21  \n",
       "...                    ...  \n",
       "354360 2016-03-21 10:42:49  \n",
       "354361 2016-04-06 00:46:52  \n",
       "354362 2016-03-11 18:17:12  \n",
       "354363 2016-04-07 07:15:26  \n",
       "354364 2016-03-24 12:45:21  \n",
       "\n",
       "[354365 rows x 16 columns]"
      ]
     },
     "execution_count": 16,
     "metadata": {},
     "output_type": "execute_result"
    }
   ],
   "source": [
    "data.replace({'Repaired' : {'yes' : 1, 'no' : 0}})"
   ]
  },
  {
   "cell_type": "markdown",
   "metadata": {},
   "source": [
    "Для удобства работы заменил значения в толбце Repaired yes на 1, значения no на 0"
   ]
  },
  {
   "cell_type": "code",
   "execution_count": 17,
   "metadata": {},
   "outputs": [],
   "source": [
    "data = data.dropna(subset=['Model'])"
   ]
  },
  {
   "cell_type": "markdown",
   "metadata": {},
   "source": [
    "Проанализировав данные решил удалить те строки где пропущена модель авто, т.к. считаю что отсутствие марки это очень важный параметр и он должен быть заполнен правильно, заполнить его случайными или медианными значениями не получится, такое восстановление может исказить данные а т.к. количество таких данных составило около 5% то считаю, что это допустимо."
   ]
  },
  {
   "cell_type": "code",
   "execution_count": 18,
   "metadata": {
    "scrolled": true
   },
   "outputs": [
    {
     "data": {
      "text/plain": [
       "DateCrawled              0\n",
       "Price                    0\n",
       "VehicleType          30662\n",
       "RegistrationYear         0\n",
       "Gearbox              15702\n",
       "Power                    0\n",
       "Model                    0\n",
       "Kilometer                0\n",
       "RegistrationMonth        0\n",
       "FuelType             25732\n",
       "Brand                    0\n",
       "Repaired                 0\n",
       "DateCreated              0\n",
       "NumberOfPictures         0\n",
       "PostalCode               0\n",
       "LastSeen                 0\n",
       "dtype: int64"
      ]
     },
     "execution_count": 18,
     "metadata": {},
     "output_type": "execute_result"
    }
   ],
   "source": [
    "data.isna().sum()"
   ]
  },
  {
   "cell_type": "markdown",
   "metadata": {},
   "source": [
    "Проверяю, что в столбце Model больше нет пропусков"
   ]
  },
  {
   "cell_type": "code",
   "execution_count": 19,
   "metadata": {
    "scrolled": false
   },
   "outputs": [],
   "source": [
    "data[['VehicleType', 'Gearbox', 'FuelType']] = data[['VehicleType', 'Gearbox', 'FuelType']]. fillna (0)"
   ]
  },
  {
   "cell_type": "markdown",
   "metadata": {},
   "source": [
    "Заменил пропущенные значения в сболбцах VehicleType, Gearbox, FuelType на 0. Как правильно заполнить эти данные не понятно, но выкидывать их не стоит, т.к. при подборе авто можно будет часть данных уточнить самостоятельно, например по фото легко определить тип трансмиссии АКПП или МКПП."
   ]
  },
  {
   "cell_type": "code",
   "execution_count": 20,
   "metadata": {
    "scrolled": true
   },
   "outputs": [
    {
     "data": {
      "text/plain": [
       "DateCrawled          0\n",
       "Price                0\n",
       "VehicleType          0\n",
       "RegistrationYear     0\n",
       "Gearbox              0\n",
       "Power                0\n",
       "Model                0\n",
       "Kilometer            0\n",
       "RegistrationMonth    0\n",
       "FuelType             0\n",
       "Brand                0\n",
       "Repaired             0\n",
       "DateCreated          0\n",
       "NumberOfPictures     0\n",
       "PostalCode           0\n",
       "LastSeen             0\n",
       "dtype: int64"
      ]
     },
     "execution_count": 20,
     "metadata": {},
     "output_type": "execute_result"
    }
   ],
   "source": [
    "data.isna().sum()"
   ]
  },
  {
   "cell_type": "markdown",
   "metadata": {},
   "source": [
    "Убедился в отсутсвии пропусков"
   ]
  },
  {
   "cell_type": "code",
   "execution_count": 21,
   "metadata": {
    "scrolled": true
   },
   "outputs": [
    {
     "data": {
      "text/plain": [
       "0        8588\n",
       "500      5215\n",
       "1500     5001\n",
       "1200     4299\n",
       "1000     4250\n",
       "         ... \n",
       "7435        1\n",
       "16845       1\n",
       "17159       1\n",
       "7396        1\n",
       "10985       1\n",
       "Name: Price, Length: 3670, dtype: int64"
      ]
     },
     "execution_count": 21,
     "metadata": {},
     "output_type": "execute_result"
    }
   ],
   "source": [
    "data['Price'].value_counts()"
   ]
  },
  {
   "cell_type": "markdown",
   "metadata": {},
   "source": [
    "Проверил стоимость авто, у 8588 стоимость указана 0."
   ]
  },
  {
   "cell_type": "code",
   "execution_count": 22,
   "metadata": {
    "scrolled": true
   },
   "outputs": [
    {
     "data": {
      "image/png": "[encoded data removed]",
      "text/plain": [
       "<Figure size 432x288 with 1 Axes>"
      ]
     },
     "metadata": {
      "needs_background": "light"
     },
     "output_type": "display_data"
    }
   ],
   "source": [
    "sns.histplot(data.Price.values, bins=50, kde=True);"
   ]
  },
  {
   "cell_type": "markdown",
   "metadata": {},
   "source": [
    "Посмотрел как распределилась стоимость авто на графике"
   ]
  },
  {
   "cell_type": "code",
   "execution_count": 23,
   "metadata": {},
   "outputs": [],
   "source": [
    "data = data.query('Price > 0')"
   ]
  },
  {
   "cell_type": "markdown",
   "metadata": {},
   "source": [
    "Решил отсечь объявления, где стоимость указана 0."
   ]
  },
  {
   "cell_type": "code",
   "execution_count": 24,
   "metadata": {
    "scrolled": true
   },
   "outputs": [
    {
     "data": {
      "image/png": "[encoded data removed]",
      "text/plain": [
       "<Figure size 432x288 with 1 Axes>"
      ]
     },
     "metadata": {
      "needs_background": "light"
     },
     "output_type": "display_data"
    }
   ],
   "source": [
    "sns.histplot(data.Price.values, bins=50, kde=True);"
   ]
  },
  {
   "cell_type": "markdown",
   "metadata": {},
   "source": [
    "Повторно посмотрел как распределилась стоимость авто на графике\n"
   ]
  },
  {
   "cell_type": "code",
   "execution_count": 25,
   "metadata": {
    "scrolled": false
   },
   "outputs": [
    {
     "data": {
      "text/plain": [
       "500      5215\n",
       "1500     5001\n",
       "1200     4299\n",
       "1000     4250\n",
       "2500     4171\n",
       "         ... \n",
       "7435        1\n",
       "16845       1\n",
       "17159       1\n",
       "7396        1\n",
       "10985       1\n",
       "Name: Price, Length: 3669, dtype: int64"
      ]
     },
     "execution_count": 25,
     "metadata": {},
     "output_type": "execute_result"
    }
   ],
   "source": [
    "data['Price'].value_counts()"
   ]
  },
  {
   "cell_type": "markdown",
   "metadata": {},
   "source": [
    "Теперь нет объявлений с нулевой стоимостью"
   ]
  },
  {
   "cell_type": "code",
   "execution_count": 26,
   "metadata": {
    "scrolled": false
   },
   "outputs": [
    {
     "data": {
      "text/plain": [
       "count    326072.000000\n",
       "mean        111.984697\n",
       "std         182.968370\n",
       "min           0.000000\n",
       "25%          71.000000\n",
       "50%         105.000000\n",
       "75%         143.000000\n",
       "max       20000.000000\n",
       "Name: Power, dtype: float64"
      ]
     },
     "execution_count": 26,
     "metadata": {},
     "output_type": "execute_result"
    }
   ],
   "source": [
    "data['Power'].describe()"
   ]
  },
  {
   "cell_type": "code",
   "execution_count": 27,
   "metadata": {},
   "outputs": [],
   "source": [
    "data = data[data['Power']<=1000]"
   ]
  },
  {
   "cell_type": "markdown",
   "metadata": {},
   "source": [
    "Вижу что данные искажены, т.к. не может быть мощность 20000 л/с"
   ]
  },
  {
   "cell_type": "code",
   "execution_count": 28,
   "metadata": {
    "scrolled": true
   },
   "outputs": [
    {
     "data": {
      "image/png": "[encoded data removed]",
      "text/plain": [
       "<Figure size 432x288 with 1 Axes>"
      ]
     },
     "metadata": {
      "needs_background": "light"
     },
     "output_type": "display_data"
    }
   ],
   "source": [
    "sns.histplot(data.Power.values, bins=50, kde=True);"
   ]
  },
  {
   "cell_type": "markdown",
   "metadata": {},
   "source": [
    "Вижу большие выбросы в 0"
   ]
  },
  {
   "cell_type": "code",
   "execution_count": 29,
   "metadata": {},
   "outputs": [
    {
     "data": {
      "text/plain": [
       "count    325820.000000\n",
       "mean        108.820781\n",
       "std          62.650088\n",
       "min           0.000000\n",
       "25%          71.000000\n",
       "50%         105.000000\n",
       "75%         143.000000\n",
       "max        1000.000000\n",
       "Name: Power, dtype: float64"
      ]
     },
     "execution_count": 29,
     "metadata": {},
     "output_type": "execute_result"
    }
   ],
   "source": [
    "data['Power'].describe()"
   ]
  },
  {
   "cell_type": "code",
   "execution_count": 30,
   "metadata": {},
   "outputs": [],
   "source": [
    "data = data[data['Power']>0]"
   ]
  },
  {
   "cell_type": "markdown",
   "metadata": {},
   "source": [
    "Убрал значения меньше 0"
   ]
  },
  {
   "cell_type": "code",
   "execution_count": 31,
   "metadata": {
    "scrolled": true
   },
   "outputs": [
    {
     "data": {
      "image/png": "[encoded data removed]",
      "text/plain": [
       "<Figure size 432x288 with 1 Axes>"
      ]
     },
     "metadata": {
      "needs_background": "light"
     },
     "output_type": "display_data"
    }
   ],
   "source": [
    "sns.histplot(data.Power.values, bins=50, kde=True);"
   ]
  },
  {
   "cell_type": "markdown",
   "metadata": {},
   "source": [
    "Убрал значения меньше 0"
   ]
  },
  {
   "cell_type": "code",
   "execution_count": 32,
   "metadata": {
    "scrolled": true
   },
   "outputs": [
    {
     "data": {
      "image/png": "[encoded data removed]",
      "text/plain": [
       "<Figure size 432x288 with 1 Axes>"
      ]
     },
     "metadata": {
      "needs_background": "light"
     },
     "output_type": "display_data"
    }
   ],
   "source": [
    "data = data[data['RegistrationYear']>1950]\n",
    "data = data[data['RegistrationYear']<2023]\n",
    "sns.histplot(data.Power.values, bins=50, kde=True);"
   ]
  },
  {
   "cell_type": "markdown",
   "metadata": {},
   "source": [
    "Оставил автомобили с датой регистарции с 1950-2023 годы"
   ]
  },
  {
   "cell_type": "code",
   "execution_count": 33,
   "metadata": {
    "scrolled": false
   },
   "outputs": [
    {
     "data": {
      "image/png": "[encoded data removed]",
      "text/plain": [
       "<Figure size 864x720 with 2 Axes>"
      ]
     },
     "metadata": {
      "needs_background": "light"
     },
     "output_type": "display_data"
    }
   ],
   "source": [
    "plt.figure(figsize=(12,10))\n",
    "correlation_matrix = data.corr()\n",
    "sns.heatmap(correlation_matrix, annot = True);"
   ]
  },
  {
   "cell_type": "markdown",
   "metadata": {},
   "source": [
    "Построил график корреляции параметров и принял решение удалить не нужные признаки"
   ]
  },
  {
   "cell_type": "code",
   "execution_count": 34,
   "metadata": {
    "scrolled": true
   },
   "outputs": [],
   "source": [
    "data=data.drop(['DateCrawled','DateCreated','PostalCode','LastSeen','NumberOfPictures'], axis=1)"
   ]
  },
  {
   "cell_type": "markdown",
   "metadata": {},
   "source": [
    "Удалил DateCrawled, DateCreated, PostalCode, LastSeen, NumberOfPictures"
   ]
  },
  {
   "cell_type": "code",
   "execution_count": 35,
   "metadata": {
    "scrolled": true
   },
   "outputs": [
    {
     "data": {
      "text/html": [
       "<div>\n",
       "<style scoped>\n",
       "    .dataframe tbody tr th:only-of-type {\n",
       "        vertical-align: middle;\n",
       "    }\n",
       "\n",
       "    .dataframe tbody tr th {\n",
       "        vertical-align: top;\n",
       "    }\n",
       "\n",
       "    .dataframe thead th {\n",
       "        text-align: right;\n",
       "    }\n",
       "</style>\n",
       "<table border=\"1\" class=\"dataframe\">\n",
       "  <thead>\n",
       "    <tr style=\"text-align: right;\">\n",
       "      <th></th>\n",
       "      <th>Price</th>\n",
       "      <th>VehicleType</th>\n",
       "      <th>RegistrationYear</th>\n",
       "      <th>Gearbox</th>\n",
       "      <th>Power</th>\n",
       "      <th>Model</th>\n",
       "      <th>Kilometer</th>\n",
       "      <th>RegistrationMonth</th>\n",
       "      <th>FuelType</th>\n",
       "      <th>Brand</th>\n",
       "      <th>Repaired</th>\n",
       "    </tr>\n",
       "  </thead>\n",
       "  <tbody>\n",
       "    <tr>\n",
       "      <th>2</th>\n",
       "      <td>9800</td>\n",
       "      <td>suv</td>\n",
       "      <td>2004</td>\n",
       "      <td>auto</td>\n",
       "      <td>163</td>\n",
       "      <td>grand</td>\n",
       "      <td>125000</td>\n",
       "      <td>8</td>\n",
       "      <td>gasoline</td>\n",
       "      <td>jeep</td>\n",
       "      <td>no</td>\n",
       "    </tr>\n",
       "    <tr>\n",
       "      <th>3</th>\n",
       "      <td>1500</td>\n",
       "      <td>small</td>\n",
       "      <td>2001</td>\n",
       "      <td>manual</td>\n",
       "      <td>75</td>\n",
       "      <td>golf</td>\n",
       "      <td>150000</td>\n",
       "      <td>6</td>\n",
       "      <td>petrol</td>\n",
       "      <td>volkswagen</td>\n",
       "      <td>no</td>\n",
       "    </tr>\n",
       "    <tr>\n",
       "      <th>4</th>\n",
       "      <td>3600</td>\n",
       "      <td>small</td>\n",
       "      <td>2008</td>\n",
       "      <td>manual</td>\n",
       "      <td>69</td>\n",
       "      <td>fabia</td>\n",
       "      <td>90000</td>\n",
       "      <td>7</td>\n",
       "      <td>gasoline</td>\n",
       "      <td>skoda</td>\n",
       "      <td>no</td>\n",
       "    </tr>\n",
       "  </tbody>\n",
       "</table>\n",
       "</div>"
      ],
      "text/plain": [
       "   Price VehicleType  RegistrationYear Gearbox  Power  Model  Kilometer  \\\n",
       "2   9800         suv              2004    auto    163  grand     125000   \n",
       "3   1500       small              2001  manual     75   golf     150000   \n",
       "4   3600       small              2008  manual     69  fabia      90000   \n",
       "\n",
       "   RegistrationMonth  FuelType       Brand Repaired  \n",
       "2                  8  gasoline        jeep       no  \n",
       "3                  6    petrol  volkswagen       no  \n",
       "4                  7  gasoline       skoda       no  "
      ]
     },
     "execution_count": 35,
     "metadata": {},
     "output_type": "execute_result"
    }
   ],
   "source": [
    "data.head(3)"
   ]
  },
  {
   "cell_type": "markdown",
   "metadata": {},
   "source": [
    "Просмотрел как выглядит финальный датасет"
   ]
  },
  {
   "cell_type": "code",
   "execution_count": 36,
   "metadata": {
    "scrolled": false
   },
   "outputs": [
    {
     "data": {
      "image/png": "[encoded data removed]",
      "text/plain": [
       "<Figure size 864x720 with 2 Axes>"
      ]
     },
     "metadata": {
      "needs_background": "light"
     },
     "output_type": "display_data"
    }
   ],
   "source": [
    "plt.figure(figsize=(12,10))\n",
    "correlation_matrix = data.corr()\n",
    "sns.heatmap(correlation_matrix, annot = True);"
   ]
  },
  {
   "cell_type": "markdown",
   "metadata": {},
   "source": [
    "Повторно построил график коррекляции параметров, на этом предобработку решил завершить"
   ]
  },
  {
   "cell_type": "code",
   "execution_count": 37,
   "metadata": {},
   "outputs": [],
   "source": [
    "data = data[data['RegistrationMonth']>0]"
   ]
  },
  {
   "cell_type": "code",
   "execution_count": 38,
   "metadata": {},
   "outputs": [
    {
     "data": {
      "image/png": "[encoded data removed]",
      "text/plain": [
       "<Figure size 432x288 with 1 Axes>"
      ]
     },
     "metadata": {
      "needs_background": "light"
     },
     "output_type": "display_data"
    }
   ],
   "source": [
    "sns.histplot(data.RegistrationMonth.values, bins=50, kde=True);"
   ]
  },
  {
   "cell_type": "markdown",
   "metadata": {},
   "source": [
    "### Вывод"
   ]
  },
  {
   "cell_type": "markdown",
   "metadata": {},
   "source": [
    "В разделе №2 своего проекта я произвел предобработку данных:  \n",
    "- Удалил полные дубликаты в датасете;  \n",
    "- Преобразовал признаки с датой в формат **datetotime**;  \n",
    "- Заменил в признаке Repairer значения **Nan** на **No** а потом заменил все **Yes** на **1** и **No** на **0**;  \n",
    "- Удалил все записи со значениями **Nan** из признака **Model**;  \n",
    "- Заменил на **0** все пропуски в **VehicleType**, **Gearbox**, **FuelType**;  \n",
    "- Исключил из признака **Price** все записи со значением **0**;  \n",
    "- В признаке **Power** скорректировал записи о мощности автомобилей в диапазоне от **0** до **1000** л/с;  \n",
    "- Удалил все не важные признаки **DateCrawled**, **DateCreated**, **PostalCode**, **LastScreen**, **NumberOfPictures**;  \n",
    "- Построил график корреляции параметров;  \n",
    "- Предобрабола год регистрации авто **RegistrationYear** оставив только автомобили в диапазоне 1950-2023 гг."
   ]
  },
  {
   "cell_type": "markdown",
   "metadata": {},
   "source": [
    "## 3. Подготовка выборки для обучения"
   ]
  },
  {
   "cell_type": "code",
   "execution_count": 39,
   "metadata": {},
   "outputs": [],
   "source": [
    "data_cat = pd.get_dummies(data, columns=['Brand','Model','VehicleType','Gearbox','FuelType', 'Repaired'])"
   ]
  },
  {
   "cell_type": "markdown",
   "metadata": {},
   "source": [
    "С помощью **pd.get_dummies** перевел категории в числа"
   ]
  },
  {
   "cell_type": "code",
   "execution_count": 40,
   "metadata": {
    "scrolled": false
   },
   "outputs": [
    {
     "data": {
      "text/html": [
       "<div>\n",
       "<style scoped>\n",
       "    .dataframe tbody tr th:only-of-type {\n",
       "        vertical-align: middle;\n",
       "    }\n",
       "\n",
       "    .dataframe tbody tr th {\n",
       "        vertical-align: top;\n",
       "    }\n",
       "\n",
       "    .dataframe thead th {\n",
       "        text-align: right;\n",
       "    }\n",
       "</style>\n",
       "<table border=\"1\" class=\"dataframe\">\n",
       "  <thead>\n",
       "    <tr style=\"text-align: right;\">\n",
       "      <th></th>\n",
       "      <th>Price</th>\n",
       "      <th>RegistrationYear</th>\n",
       "      <th>Power</th>\n",
       "      <th>Kilometer</th>\n",
       "      <th>RegistrationMonth</th>\n",
       "      <th>Brand_alfa_romeo</th>\n",
       "      <th>Brand_audi</th>\n",
       "      <th>Brand_bmw</th>\n",
       "      <th>Brand_chevrolet</th>\n",
       "      <th>Brand_chrysler</th>\n",
       "      <th>...</th>\n",
       "      <th>FuelType_0</th>\n",
       "      <th>FuelType_cng</th>\n",
       "      <th>FuelType_electric</th>\n",
       "      <th>FuelType_gasoline</th>\n",
       "      <th>FuelType_hybrid</th>\n",
       "      <th>FuelType_lpg</th>\n",
       "      <th>FuelType_other</th>\n",
       "      <th>FuelType_petrol</th>\n",
       "      <th>Repaired_no</th>\n",
       "      <th>Repaired_yes</th>\n",
       "    </tr>\n",
       "  </thead>\n",
       "  <tbody>\n",
       "    <tr>\n",
       "      <th>2</th>\n",
       "      <td>9800</td>\n",
       "      <td>2004</td>\n",
       "      <td>163</td>\n",
       "      <td>125000</td>\n",
       "      <td>8</td>\n",
       "      <td>0</td>\n",
       "      <td>0</td>\n",
       "      <td>0</td>\n",
       "      <td>0</td>\n",
       "      <td>0</td>\n",
       "      <td>...</td>\n",
       "      <td>0</td>\n",
       "      <td>0</td>\n",
       "      <td>0</td>\n",
       "      <td>1</td>\n",
       "      <td>0</td>\n",
       "      <td>0</td>\n",
       "      <td>0</td>\n",
       "      <td>0</td>\n",
       "      <td>1</td>\n",
       "      <td>0</td>\n",
       "    </tr>\n",
       "    <tr>\n",
       "      <th>3</th>\n",
       "      <td>1500</td>\n",
       "      <td>2001</td>\n",
       "      <td>75</td>\n",
       "      <td>150000</td>\n",
       "      <td>6</td>\n",
       "      <td>0</td>\n",
       "      <td>0</td>\n",
       "      <td>0</td>\n",
       "      <td>0</td>\n",
       "      <td>0</td>\n",
       "      <td>...</td>\n",
       "      <td>0</td>\n",
       "      <td>0</td>\n",
       "      <td>0</td>\n",
       "      <td>0</td>\n",
       "      <td>0</td>\n",
       "      <td>0</td>\n",
       "      <td>0</td>\n",
       "      <td>1</td>\n",
       "      <td>1</td>\n",
       "      <td>0</td>\n",
       "    </tr>\n",
       "    <tr>\n",
       "      <th>4</th>\n",
       "      <td>3600</td>\n",
       "      <td>2008</td>\n",
       "      <td>69</td>\n",
       "      <td>90000</td>\n",
       "      <td>7</td>\n",
       "      <td>0</td>\n",
       "      <td>0</td>\n",
       "      <td>0</td>\n",
       "      <td>0</td>\n",
       "      <td>0</td>\n",
       "      <td>...</td>\n",
       "      <td>0</td>\n",
       "      <td>0</td>\n",
       "      <td>0</td>\n",
       "      <td>1</td>\n",
       "      <td>0</td>\n",
       "      <td>0</td>\n",
       "      <td>0</td>\n",
       "      <td>0</td>\n",
       "      <td>1</td>\n",
       "      <td>0</td>\n",
       "    </tr>\n",
       "  </tbody>\n",
       "</table>\n",
       "<p>3 rows × 315 columns</p>\n",
       "</div>"
      ],
      "text/plain": [
       "   Price  RegistrationYear  Power  Kilometer  RegistrationMonth  \\\n",
       "2   9800              2004    163     125000                  8   \n",
       "3   1500              2001     75     150000                  6   \n",
       "4   3600              2008     69      90000                  7   \n",
       "\n",
       "   Brand_alfa_romeo  Brand_audi  Brand_bmw  Brand_chevrolet  Brand_chrysler  \\\n",
       "2                 0           0          0                0               0   \n",
       "3                 0           0          0                0               0   \n",
       "4                 0           0          0                0               0   \n",
       "\n",
       "   ...  FuelType_0  FuelType_cng  FuelType_electric  FuelType_gasoline  \\\n",
       "2  ...           0             0                  0                  1   \n",
       "3  ...           0             0                  0                  0   \n",
       "4  ...           0             0                  0                  1   \n",
       "\n",
       "   FuelType_hybrid  FuelType_lpg  FuelType_other  FuelType_petrol  \\\n",
       "2                0             0               0                0   \n",
       "3                0             0               0                1   \n",
       "4                0             0               0                0   \n",
       "\n",
       "   Repaired_no  Repaired_yes  \n",
       "2            1             0  \n",
       "3            1             0  \n",
       "4            1             0  \n",
       "\n",
       "[3 rows x 315 columns]"
      ]
     },
     "execution_count": 40,
     "metadata": {},
     "output_type": "execute_result"
    }
   ],
   "source": [
    "data_cat.head(3)"
   ]
  },
  {
   "cell_type": "code",
   "execution_count": 41,
   "metadata": {},
   "outputs": [],
   "source": [
    "features_cat = data_cat.drop(['Price'], axis=1) #выделил признаки\n",
    "target_cat = data_cat['Price'] #выделил целевой признак\n",
    "features_train_cat, features_test_cat, target_train_cat, target_test_cat = train_test_split(features_cat, target_cat, test_size=0.3, random_state=RANDOMSTATE)"
   ]
  },
  {
   "cell_type": "code",
   "execution_count": 42,
   "metadata": {},
   "outputs": [
    {
     "name": "stdout",
     "output_type": "stream",
     "text": [
      "Train - 70% (193803, 314)\n",
      "Test - 30% (83059, 314)\n"
     ]
    }
   ],
   "source": [
    "print('Train - 70%', features_train_cat.shape)\n",
    "print('Test - 30%', features_test_cat.shape)"
   ]
  },
  {
   "cell_type": "markdown",
   "metadata": {},
   "source": [
    "### Вывод"
   ]
  },
  {
   "cell_type": "markdown",
   "metadata": {},
   "source": [
    "В разделе №3 своего проекта я подготовил данные для обучения, разделил датасет на обучающую и тестовую выборки, выделил целевые признаки."
   ]
  },
  {
   "cell_type": "markdown",
   "metadata": {},
   "source": [
    "## 4. Обучение моделей"
   ]
  },
  {
   "cell_type": "markdown",
   "metadata": {},
   "source": [
    "### 4.1 LinearRegression"
   ]
  },
  {
   "cell_type": "code",
   "execution_count": 46,
   "metadata": {
    "scrolled": false
   },
   "outputs": [
    {
     "name": "stdout",
     "output_type": "stream",
     "text": [
      "Fitting 5 folds for each of 8 candidates, totalling 40 fits\n",
      "Значение RMSE для LinearRegression:  2976.60\n",
      "Время обучения модели:  18.65\n",
      "Время предсказания модели:  0.10\n",
      "CPU times: total: 8.66 s\n",
      "Wall time: 3min 28s\n"
     ]
    }
   ],
   "source": [
    "%%time\n",
    "\n",
    "pipeline = Pipeline([('selector', SelectKBest()), ('model', LinearRegression())])\n",
    "model_1 = GridSearchCV(estimator = pipeline, param_grid = {'selector__k':[3,4,5,6,7,8,9,10]}, n_jobs=-1, scoring=\"neg_root_mean_squared_error\", cv=5, verbose=3)\n",
    "model_1.fit(features_train_cat, target_train_cat)\n",
    "model_1.best_estimator_.fit(features_train_cat, target_train_cat)\n",
    "\n",
    "index_1 = np.argmax(model_1.cv_results_['mean_test_score'])\n",
    "print('Значение RMSE для LinearRegression: {: 0.2f}'.format(-model_1.best_score_))\n",
    "print('Время обучения модели: {: 0.2f}'.format(model_1.cv_results_['mean_fit_time'][index_1]))\n",
    "print('Время предсказания модели: {: 0.2f}'.format(model_1.cv_results_['mean_score_time'][index_1]))"
   ]
  },
  {
   "cell_type": "markdown",
   "metadata": {},
   "source": [
    "Применил к модели LinearRegression GridSearchCV."
   ]
  },
  {
   "cell_type": "markdown",
   "metadata": {},
   "source": [
    "### 4.2 CatBoostRegressor"
   ]
  },
  {
   "cell_type": "code",
   "execution_count": 48,
   "metadata": {
    "scrolled": false
   },
   "outputs": [
    {
     "name": "stdout",
     "output_type": "stream",
     "text": [
      "Learning rate set to 0.090839\n",
      "0:\tlearn: 4370.5957659\ttotal: 170ms\tremaining: 2m 49s\n",
      "1:\tlearn: 4128.9163247\ttotal: 184ms\tremaining: 1m 31s\n",
      "2:\tlearn: 3904.9778298\ttotal: 197ms\tremaining: 1m 5s\n",
      "3:\tlearn: 3709.4127081\ttotal: 210ms\tremaining: 52.2s\n",
      "4:\tlearn: 3531.7209455\ttotal: 225ms\tremaining: 44.8s\n",
      "5:\tlearn: 3372.0337358\ttotal: 239ms\tremaining: 39.5s\n",
      "6:\tlearn: 3229.2286653\ttotal: 252ms\tremaining: 35.7s\n",
      "7:\tlearn: 3104.1118342\ttotal: 265ms\tremaining: 32.8s\n",
      "8:\tlearn: 2991.6044199\ttotal: 279ms\tremaining: 30.7s\n",
      "9:\tlearn: 2895.3018247\ttotal: 293ms\tremaining: 29s\n",
      "10:\tlearn: 2810.0830982\ttotal: 305ms\tremaining: 27.4s\n",
      "Значение RMSE для CatBoostRegressor:  1595.76\n",
      "Время обучения модели:  13.78\n",
      "Время предсказания модели:  0.06\n",
      "CPU times: total: 6min 57s\n",
      "Wall time: 1min 40s\n"
     ]
    }
   ],
   "source": [
    "%%time\n",
    "\n",
    "model_2 = CatBoostRegressor()\n",
    "hyperparams = [{'random_state':[RANDOMSTATE]}]\n",
    "\n",
    "model_2 = GridSearchCV(model_2, hyperparams, scoring='neg_root_mean_squared_error')\n",
    "model_2.fit(features_train_cat, target_train_cat)\n",
    "model_2.best_estimator_.fit(features_train_cat, target_train_cat)\n",
    "\n",
    "index_2 = np.argmax(model_2.cv_results_['mean_test_score'])\n",
    "print('Значение RMSE для CatBoostRegressor: {: 0.2f}'.format(-model_2.best_score_))\n",
    "print('Время обучения модели: {: 0.2f}'.format(model_2.cv_results_['mean_fit_time'][index_2]))\n",
    "print('Время предсказания модели: {: 0.2f}'.format(model_2.cv_results_['mean_score_time'][index_2]))"
   ]
  },
  {
   "cell_type": "markdown",
   "metadata": {},
   "source": [
    "# 4.3 lightGBM"
   ]
  },
  {
   "cell_type": "code",
   "execution_count": 49,
   "metadata": {},
   "outputs": [
    {
     "name": "stdout",
     "output_type": "stream",
     "text": [
      "Значение RMSE для lightGBM:  1571.14\n",
      "Время обучения модели:  1.38\n",
      "Время предсказания модели:  0.17\n",
      "CPU times: total: 3min 52s\n",
      "Wall time: 1min 3s\n"
     ]
    }
   ],
   "source": [
    "%%time\n",
    "\n",
    "model_3 = LGBMRegressor()\n",
    "hyperparams = [{'num_leaves':[5, 50, 100], 'learning_rate':[0.1, 0.3, 0.5], 'random_state':[RANDOMSTATE]}]\n",
    "\n",
    "model_3 = GridSearchCV(model_3, hyperparams, scoring='neg_root_mean_squared_error')\n",
    "model_3.fit(features_train_cat, target_train_cat)\n",
    "model_3.best_estimator_.fit(features_train_cat, target_train_cat)\n",
    "\n",
    "index_3 = np.argmax(model_3.cv_results_['mean_test_score'])\n",
    "print('Значение RMSE для lightGBM: {: 0.2f}'.format(-model_3.best_score_))\n",
    "print('Время обучения модели: {: 0.2f}'.format(model_3.cv_results_['mean_fit_time'][index_3]))\n",
    "print('Время предсказания модели: {: 0.2f}'.format(model_3.cv_results_['mean_score_time'][index_3]))"
   ]
  },
  {
   "cell_type": "markdown",
   "metadata": {},
   "source": [
    "### 4.4 DecisionTreeRegressor"
   ]
  },
  {
   "cell_type": "code",
   "execution_count": 50,
   "metadata": {},
   "outputs": [
    {
     "name": "stdout",
     "output_type": "stream",
     "text": [
      "Значение RMSE для LinearRegression:  2676.54\n",
      "Время обучения модели:  1.43\n",
      "Время предсказания модели:  0.05\n",
      "CPU times: total: 24.7 s\n",
      "Wall time: 24.6 s\n"
     ]
    }
   ],
   "source": [
    "%%time\n",
    "\n",
    "model_4 = DecisionTreeRegressor()\n",
    "hyperparams = [{'max_depth': range(1, 5), 'random_state':[RANDOMSTATE]}]\n",
    "\n",
    "model_4 = GridSearchCV(model_4, hyperparams, scoring='neg_root_mean_squared_error')\n",
    "model_4.fit(features_train_cat, target_train_cat)\n",
    "model_4.best_estimator_.fit(features_train_cat, target_train_cat)\n",
    "\n",
    "index_4 = np.argmax(model_4.cv_results_['mean_test_score'])\n",
    "print('Значение RMSE для LinearRegression: {: 0.2f}'.format(-model_4.best_score_))\n",
    "print('Время обучения модели: {: 0.2f}'.format(model_4.cv_results_['mean_fit_time'][index_4]))\n",
    "print('Время предсказания модели: {: 0.2f}'.format(model_4.cv_results_['mean_score_time'][index_4]))"
   ]
  },
  {
   "cell_type": "markdown",
   "metadata": {},
   "source": [
    "### Вывод"
   ]
  },
  {
   "cell_type": "markdown",
   "metadata": {},
   "source": [
    "В данном разделе своего проекта я обучил 4 различные модели:  \n",
    "- LinearRegression;  \n",
    "- CatBoostRegressor;  \n",
    "- lightGBM;  \n",
    "- DecisionTreeRegressor."
   ]
  },
  {
   "cell_type": "markdown",
   "metadata": {},
   "source": [
    "## 5. Анализ моделей"
   ]
  },
  {
   "cell_type": "markdown",
   "metadata": {},
   "source": [
    "- Лучшее значение RMSE у модели lightGBM = 1571;  \n",
    "- Лучшее время обучение у модели lightGBM = 1.41;  \n",
    "- Самое низкое значение RMSE у модели LinearRegression = 2976;\n",
    "- Дольше всех обучалась модель CatBoostRegressor = 17.12;\n",
    "- Самое лучшее время предсказания модели у DecisionTreeRegressor = 0.06.  "
   ]
  },
  {
   "cell_type": "code",
   "execution_count": 51,
   "metadata": {},
   "outputs": [
    {
     "data": {
      "text/html": [
       "<div>\n",
       "<style scoped>\n",
       "    .dataframe tbody tr th:only-of-type {\n",
       "        vertical-align: middle;\n",
       "    }\n",
       "\n",
       "    .dataframe tbody tr th {\n",
       "        vertical-align: top;\n",
       "    }\n",
       "\n",
       "    .dataframe thead th {\n",
       "        text-align: right;\n",
       "    }\n",
       "</style>\n",
       "<table border=\"1\" class=\"dataframe\">\n",
       "  <thead>\n",
       "    <tr style=\"text-align: right;\">\n",
       "      <th></th>\n",
       "      <th>Param</th>\n",
       "      <th>LR</th>\n",
       "      <th>CatBoost</th>\n",
       "      <th>lightGBM</th>\n",
       "      <th>DecisionTreeReg</th>\n",
       "    </tr>\n",
       "  </thead>\n",
       "  <tbody>\n",
       "    <tr>\n",
       "      <th>0</th>\n",
       "      <td>Best_score</td>\n",
       "      <td>2976.595696</td>\n",
       "      <td>1595.763572</td>\n",
       "      <td>1571.138034</td>\n",
       "      <td>2676.537005</td>\n",
       "    </tr>\n",
       "    <tr>\n",
       "      <th>1</th>\n",
       "      <td>Время обучения</td>\n",
       "      <td>18.649111</td>\n",
       "      <td>13.778009</td>\n",
       "      <td>1.377145</td>\n",
       "      <td>1.428537</td>\n",
       "    </tr>\n",
       "    <tr>\n",
       "      <th>2</th>\n",
       "      <td>Время предсказания</td>\n",
       "      <td>0.100049</td>\n",
       "      <td>0.058186</td>\n",
       "      <td>0.173195</td>\n",
       "      <td>0.053106</td>\n",
       "    </tr>\n",
       "  </tbody>\n",
       "</table>\n",
       "</div>"
      ],
      "text/plain": [
       "                Param           LR     CatBoost     lightGBM  DecisionTreeReg\n",
       "0          Best_score  2976.595696  1595.763572  1571.138034      2676.537005\n",
       "1      Время обучения    18.649111    13.778009     1.377145         1.428537\n",
       "2  Время предсказания     0.100049     0.058186     0.173195         0.053106"
      ]
     },
     "execution_count": 51,
     "metadata": {},
     "output_type": "execute_result"
    }
   ],
   "source": [
    "df = pd.DataFrame({ 'Param':['Best_score', 'Время обучения', 'Время предсказания'],\n",
    "                    'LR':[-model_1.best_score_, model_1.cv_results_['mean_fit_time'][index_1], model_1.cv_results_['mean_score_time'][index_1]],\n",
    "                    'CatBoost':[-model_2.best_score_, model_2.cv_results_['mean_fit_time'][index_2], model_2.cv_results_['mean_score_time'][index_2]],\n",
    "                    'lightGBM':[-model_3.best_score_, model_3.cv_results_['mean_fit_time'][index_3], model_3.cv_results_['mean_score_time'][index_3]],\n",
    "                    'DecisionTreeReg':[-model_4.best_score_, model_4.cv_results_['mean_fit_time'][index_4], model_4.cv_results_['mean_score_time'][index_4]]\n",
    "                })\n",
    "                                      \n",
    "df"
   ]
  },
  {
   "cell_type": "markdown",
   "metadata": {},
   "source": [
    "Обе модели градиентного бустинга (CatBoostRegressor, lightGBM) стабильно показали отличные показатели RMSE."
   ]
  },
  {
   "cell_type": "markdown",
   "metadata": {},
   "source": [
    "## 6. Проверка модели на тестовой выборке"
   ]
  },
  {
   "cell_type": "code",
   "execution_count": 52,
   "metadata": {
    "scrolled": false
   },
   "outputs": [
    {
     "name": "stdout",
     "output_type": "stream",
     "text": [
      "Значение RMSE для lightGBM:  1573.50\n",
      "CPU times: total: 1.41 s\n",
      "Wall time: 450 ms\n"
     ]
    }
   ],
   "source": [
    "%%time\n",
    "rmse_5 = mean_squared_error(target_test_cat, model_3.predict(features_test_cat))\n",
    "print('Значение RMSE для lightGBM: {: 0.2f}'.format(rmse_5 ** 0.5))"
   ]
  },
  {
   "cell_type": "markdown",
   "metadata": {},
   "source": [
    "### Вывод"
   ]
  },
  {
   "cell_type": "markdown",
   "metadata": {},
   "source": [
    "В данном разделе своего проекта я выполнил тестирование модели lightGBM на тестовой выборке.  \n",
    "- Значение RMSE незначительно увеличилось = 1573;  "
   ]
  },
  {
   "cell_type": "markdown",
   "metadata": {},
   "source": [
    "### Вывод по проекту"
   ]
  },
  {
   "cell_type": "markdown",
   "metadata": {},
   "source": [
    "В ходе работы было выполнено:\n",
    "\n",
    "- Загружены данные и проведена предобработка;\n",
    "- Выполнено сравнение моделей с использованием различных наборов гиперпараметров;\n",
    "- Выбрана лучшая модель по результатам метрики RMSE и времени обучения для тестирования на тестовой выборке.\n",
    "\n",
    "В ходе выполнения проекта лучшей моделью стала модель **lightGBM**, у нее самое низкое значение RMSE и самое низкое время обучения.  \n",
    "\n",
    "LinearRegression и RiDecisionTreeRegressor оказались очень медленными для решения данных задач.  "
   ]
  }
 ],
 "metadata": {
  "ExecuteTimeLog": [
   {
    "duration": 1862,
    "start_time": "2023-01-25T12:06:09.008Z"
   },
   {
    "duration": 1582,
    "start_time": "2023-01-25T12:06:12.592Z"
   },
   {
    "duration": 17,
    "start_time": "2023-01-25T12:06:38.987Z"
   },
   {
    "duration": 4,
    "start_time": "2023-01-25T12:06:40.779Z"
   },
   {
    "duration": 5,
    "start_time": "2023-01-25T12:06:41.529Z"
   },
   {
    "duration": 449,
    "start_time": "2023-01-25T12:06:44.263Z"
   },
   {
    "duration": 546,
    "start_time": "2023-01-25T12:06:45.870Z"
   },
   {
    "duration": 452,
    "start_time": "2023-01-25T12:07:01.992Z"
   },
   {
    "duration": 113,
    "start_time": "2023-01-25T12:07:06.845Z"
   },
   {
    "duration": 322,
    "start_time": "2023-01-25T12:07:13.923Z"
   },
   {
    "duration": 71,
    "start_time": "2023-01-25T12:07:15.782Z"
   },
   {
    "duration": 235,
    "start_time": "2023-01-25T12:07:18.125Z"
   },
   {
    "duration": 21,
    "start_time": "2023-01-25T12:07:22.582Z"
   },
   {
    "duration": 30,
    "start_time": "2023-01-25T12:07:48.735Z"
   },
   {
    "duration": 31,
    "start_time": "2023-01-25T12:08:11.847Z"
   },
   {
    "duration": 70,
    "start_time": "2023-01-25T12:08:13.412Z"
   },
   {
    "duration": 159,
    "start_time": "2023-01-25T12:08:26.523Z"
   },
   {
    "duration": 52,
    "start_time": "2023-01-25T12:08:35.046Z"
   },
   {
    "duration": 64,
    "start_time": "2023-01-25T12:09:25.319Z"
   },
   {
    "duration": 5,
    "start_time": "2023-01-25T12:09:37.755Z"
   },
   {
    "duration": 59,
    "start_time": "2023-01-25T12:09:40.616Z"
   },
   {
    "duration": 6,
    "start_time": "2023-01-25T12:09:47.938Z"
   },
   {
    "duration": 94,
    "start_time": "2023-01-25T12:11:16.270Z"
   },
   {
    "duration": 13,
    "start_time": "2023-01-25T12:12:06.079Z"
   },
   {
    "duration": 1713,
    "start_time": "2023-01-25T12:12:09.440Z"
   },
   {
    "duration": 41,
    "start_time": "2023-01-25T12:12:15.446Z"
   },
   {
    "duration": 1655,
    "start_time": "2023-01-25T12:12:46.709Z"
   },
   {
    "duration": 8,
    "start_time": "2023-01-25T12:13:07.809Z"
   },
   {
    "duration": 19,
    "start_time": "2023-01-25T12:13:09.940Z"
   },
   {
    "duration": 25,
    "start_time": "2023-01-25T12:13:24.940Z"
   },
   {
    "duration": 1532,
    "start_time": "2023-01-25T12:13:28.048Z"
   },
   {
    "duration": 16,
    "start_time": "2023-01-25T12:13:30.940Z"
   },
   {
    "duration": 23,
    "start_time": "2023-01-25T12:13:32.898Z"
   },
   {
    "duration": 1345,
    "start_time": "2023-01-25T12:14:00.746Z"
   },
   {
    "duration": 632,
    "start_time": "2023-01-25T12:14:04.252Z"
   },
   {
    "duration": 16,
    "start_time": "2023-01-25T12:14:51.543Z"
   },
   {
    "duration": 16,
    "start_time": "2023-01-25T12:15:19.858Z"
   },
   {
    "duration": 418,
    "start_time": "2023-01-25T12:15:22.791Z"
   },
   {
    "duration": 19,
    "start_time": "2023-01-25T12:16:03.336Z"
   },
   {
    "duration": 13,
    "start_time": "2023-01-25T12:16:08.651Z"
   },
   {
    "duration": 5,
    "start_time": "2023-01-25T12:16:16.034Z"
   },
   {
    "duration": 11,
    "start_time": "2023-01-25T12:17:22.973Z"
   },
   {
    "duration": 568,
    "start_time": "2023-01-25T12:18:17.653Z"
   },
   {
    "duration": 21,
    "start_time": "2023-01-25T12:18:24.117Z"
   },
   {
    "duration": 463,
    "start_time": "2023-01-25T12:19:13.553Z"
   },
   {
    "duration": 3,
    "start_time": "2023-01-25T12:19:15.657Z"
   },
   {
    "duration": 6,
    "start_time": "2023-01-25T12:19:25.135Z"
   },
   {
    "duration": 7,
    "start_time": "2023-01-25T12:19:25.143Z"
   },
   {
    "duration": 1688,
    "start_time": "2023-01-25T12:19:25.152Z"
   },
   {
    "duration": 12,
    "start_time": "2023-01-25T12:19:26.842Z"
   },
   {
    "duration": 9,
    "start_time": "2023-01-25T12:19:26.856Z"
   },
   {
    "duration": 9,
    "start_time": "2023-01-25T12:19:26.866Z"
   },
   {
    "duration": 431,
    "start_time": "2023-01-25T12:19:26.877Z"
   },
   {
    "duration": 467,
    "start_time": "2023-01-25T12:19:27.310Z"
   },
   {
    "duration": 401,
    "start_time": "2023-01-25T12:19:27.779Z"
   },
   {
    "duration": 119,
    "start_time": "2023-01-25T12:19:28.182Z"
   },
   {
    "duration": 338,
    "start_time": "2023-01-25T12:19:28.304Z"
   },
   {
    "duration": 82,
    "start_time": "2023-01-25T12:19:28.645Z"
   },
   {
    "duration": 245,
    "start_time": "2023-01-25T12:19:28.740Z"
   },
   {
    "duration": 27,
    "start_time": "2023-01-25T12:19:28.986Z"
   },
   {
    "duration": 55,
    "start_time": "2023-01-25T12:19:29.015Z"
   },
   {
    "duration": 100,
    "start_time": "2023-01-25T12:19:29.072Z"
   },
   {
    "duration": 147,
    "start_time": "2023-01-25T12:19:29.173Z"
   },
   {
    "duration": 55,
    "start_time": "2023-01-25T12:19:29.322Z"
   },
   {
    "duration": 84,
    "start_time": "2023-01-25T12:19:29.379Z"
   },
   {
    "duration": 53,
    "start_time": "2023-01-25T12:19:29.465Z"
   },
   {
    "duration": 87,
    "start_time": "2023-01-25T12:19:29.519Z"
   },
   {
    "duration": 32,
    "start_time": "2023-01-25T12:19:29.608Z"
   },
   {
    "duration": 1698,
    "start_time": "2023-01-25T12:19:29.642Z"
   },
   {
    "duration": 32,
    "start_time": "2023-01-25T12:19:31.342Z"
   },
   {
    "duration": 1536,
    "start_time": "2023-01-25T12:19:31.376Z"
   },
   {
    "duration": 20,
    "start_time": "2023-01-25T12:19:32.914Z"
   },
   {
    "duration": 18,
    "start_time": "2023-01-25T12:19:32.935Z"
   },
   {
    "duration": 23,
    "start_time": "2023-01-25T12:19:32.954Z"
   },
   {
    "duration": 1422,
    "start_time": "2023-01-25T12:19:32.981Z"
   },
   {
    "duration": 33,
    "start_time": "2023-01-25T12:19:34.405Z"
   },
   {
    "duration": 23,
    "start_time": "2023-01-25T12:19:34.440Z"
   },
   {
    "duration": 1348,
    "start_time": "2023-01-25T12:19:34.464Z"
   },
   {
    "duration": 724,
    "start_time": "2023-01-25T12:19:35.814Z"
   },
   {
    "duration": 16,
    "start_time": "2023-01-25T12:19:36.540Z"
   },
   {
    "duration": 11,
    "start_time": "2023-01-25T12:19:36.558Z"
   },
   {
    "duration": 448,
    "start_time": "2023-01-25T12:19:36.570Z"
   },
   {
    "duration": 624,
    "start_time": "2023-01-25T12:19:37.019Z"
   },
   {
    "duration": 15,
    "start_time": "2023-01-25T12:19:37.644Z"
   },
   {
    "duration": 478,
    "start_time": "2023-01-25T12:19:37.660Z"
   },
   {
    "duration": 4,
    "start_time": "2023-01-25T12:19:38.140Z"
   },
   {
    "duration": 18,
    "start_time": "2023-01-25T12:31:42.320Z"
   },
   {
    "duration": 8,
    "start_time": "2023-01-25T12:31:52.148Z"
   },
   {
    "duration": 4,
    "start_time": "2023-01-25T12:31:56.951Z"
   },
   {
    "duration": 5,
    "start_time": "2023-01-25T12:31:59.790Z"
   },
   {
    "duration": 4,
    "start_time": "2023-01-29T19:36:54.196Z"
   },
   {
    "duration": 1739,
    "start_time": "2023-01-29T19:36:54.202Z"
   },
   {
    "duration": 1305,
    "start_time": "2023-01-29T19:36:55.943Z"
   },
   {
    "duration": 17,
    "start_time": "2023-01-29T19:36:57.249Z"
   },
   {
    "duration": 4,
    "start_time": "2023-01-29T19:36:57.268Z"
   },
   {
    "duration": 10,
    "start_time": "2023-01-29T19:36:57.273Z"
   },
   {
    "duration": 521,
    "start_time": "2023-01-29T19:36:57.284Z"
   },
   {
    "duration": 594,
    "start_time": "2023-01-29T19:36:57.807Z"
   },
   {
    "duration": 502,
    "start_time": "2023-01-29T19:36:58.403Z"
   },
   {
    "duration": 121,
    "start_time": "2023-01-29T19:36:58.907Z"
   },
   {
    "duration": 335,
    "start_time": "2023-01-29T19:36:59.030Z"
   },
   {
    "duration": 81,
    "start_time": "2023-01-29T19:36:59.367Z"
   },
   {
    "duration": 251,
    "start_time": "2023-01-29T19:36:59.450Z"
   },
   {
    "duration": 30,
    "start_time": "2023-01-29T19:36:59.703Z"
   },
   {
    "duration": 31,
    "start_time": "2023-01-29T19:36:59.734Z"
   },
   {
    "duration": 89,
    "start_time": "2023-01-29T19:36:59.766Z"
   },
   {
    "duration": 178,
    "start_time": "2023-01-29T19:36:59.857Z"
   },
   {
    "duration": 52,
    "start_time": "2023-01-29T19:37:00.037Z"
   },
   {
    "duration": 83,
    "start_time": "2023-01-29T19:37:00.091Z"
   },
   {
    "duration": 69,
    "start_time": "2023-01-29T19:37:00.175Z"
   },
   {
    "duration": 66,
    "start_time": "2023-01-29T19:37:00.246Z"
   },
   {
    "duration": 18,
    "start_time": "2023-01-29T19:37:00.314Z"
   },
   {
    "duration": 1672,
    "start_time": "2023-01-29T19:37:00.334Z"
   },
   {
    "duration": 39,
    "start_time": "2023-01-29T19:37:02.008Z"
   },
   {
    "duration": 1527,
    "start_time": "2023-01-29T19:37:02.049Z"
   },
   {
    "duration": 9,
    "start_time": "2023-01-29T19:37:03.578Z"
   },
   {
    "duration": 18,
    "start_time": "2023-01-29T19:37:03.589Z"
   },
   {
    "duration": 41,
    "start_time": "2023-01-29T19:37:03.608Z"
   },
   {
    "duration": 1533,
    "start_time": "2023-01-29T19:37:03.653Z"
   },
   {
    "duration": 15,
    "start_time": "2023-01-29T19:37:05.188Z"
   },
   {
    "duration": 37,
    "start_time": "2023-01-29T19:37:05.205Z"
   },
   {
    "duration": 1351,
    "start_time": "2023-01-29T19:37:05.244Z"
   },
   {
    "duration": 1373,
    "start_time": "2023-01-29T19:37:06.598Z"
   },
   {
    "duration": 607,
    "start_time": "2023-01-29T19:37:07.973Z"
   },
   {
    "duration": 18,
    "start_time": "2023-01-29T19:37:08.582Z"
   },
   {
    "duration": 33,
    "start_time": "2023-01-29T19:37:08.601Z"
   },
   {
    "duration": 425,
    "start_time": "2023-01-29T19:37:08.636Z"
   },
   {
    "duration": 19,
    "start_time": "2023-01-29T19:37:09.063Z"
   },
   {
    "duration": 1166,
    "start_time": "2023-01-29T19:37:09.084Z"
   },
   {
    "duration": 656,
    "start_time": "2023-01-29T19:37:10.253Z"
   },
   {
    "duration": 19,
    "start_time": "2023-01-29T19:37:10.911Z"
   },
   {
    "duration": 446,
    "start_time": "2023-01-29T19:37:10.932Z"
   },
   {
    "duration": 4,
    "start_time": "2023-01-29T19:37:11.380Z"
   },
   {
    "duration": 5,
    "start_time": "2023-01-29T19:37:11.386Z"
   },
   {
    "duration": 89836,
    "start_time": "2023-01-29T19:37:11.393Z"
   },
   {
    "duration": 3,
    "start_time": "2023-01-29T19:38:41.231Z"
   },
   {
    "duration": 17078,
    "start_time": "2023-01-29T19:38:41.236Z"
   },
   {
    "duration": 468223,
    "start_time": "2023-01-29T19:38:58.316Z"
   },
   {
    "duration": 23209,
    "start_time": "2023-01-29T19:46:46.541Z"
   },
   {
    "duration": 12,
    "start_time": "2023-01-29T19:47:09.752Z"
   },
   {
    "duration": 1079,
    "start_time": "2023-01-29T19:47:09.766Z"
   },
   {
    "duration": 31103,
    "start_time": "2023-01-29T20:40:44.722Z"
   },
   {
    "duration": 13,
    "start_time": "2023-01-29T20:44:02.599Z"
   },
   {
    "duration": 12,
    "start_time": "2023-01-29T20:44:25.334Z"
   },
   {
    "duration": 3,
    "start_time": "2023-01-30T10:21:52.825Z"
   },
   {
    "duration": 1931,
    "start_time": "2023-01-30T10:21:52.830Z"
   },
   {
    "duration": 1752,
    "start_time": "2023-01-30T10:21:54.763Z"
   },
   {
    "duration": 17,
    "start_time": "2023-01-30T10:21:56.517Z"
   },
   {
    "duration": 4,
    "start_time": "2023-01-30T10:21:56.536Z"
   },
   {
    "duration": 19,
    "start_time": "2023-01-30T10:21:56.541Z"
   },
   {
    "duration": 477,
    "start_time": "2023-01-30T10:21:56.562Z"
   },
   {
    "duration": 597,
    "start_time": "2023-01-30T10:21:57.041Z"
   },
   {
    "duration": 468,
    "start_time": "2023-01-30T10:21:57.641Z"
   },
   {
    "duration": 115,
    "start_time": "2023-01-30T10:21:58.111Z"
   },
   {
    "duration": 330,
    "start_time": "2023-01-30T10:21:58.227Z"
   },
   {
    "duration": 78,
    "start_time": "2023-01-30T10:21:58.559Z"
   },
   {
    "duration": 256,
    "start_time": "2023-01-30T10:21:58.639Z"
   },
   {
    "duration": 23,
    "start_time": "2023-01-30T10:21:58.897Z"
   },
   {
    "duration": 31,
    "start_time": "2023-01-30T10:21:58.922Z"
   },
   {
    "duration": 91,
    "start_time": "2023-01-30T10:21:58.955Z"
   },
   {
    "duration": 188,
    "start_time": "2023-01-30T10:21:59.048Z"
   },
   {
    "duration": 51,
    "start_time": "2023-01-30T10:21:59.238Z"
   },
   {
    "duration": 66,
    "start_time": "2023-01-30T10:21:59.302Z"
   },
   {
    "duration": 62,
    "start_time": "2023-01-30T10:21:59.370Z"
   },
   {
    "duration": 73,
    "start_time": "2023-01-30T10:21:59.433Z"
   },
   {
    "duration": 9,
    "start_time": "2023-01-30T10:21:59.508Z"
   },
   {
    "duration": 1719,
    "start_time": "2023-01-30T10:21:59.518Z"
   },
   {
    "duration": 34,
    "start_time": "2023-01-30T10:22:01.240Z"
   },
   {
    "duration": 1543,
    "start_time": "2023-01-30T10:22:01.276Z"
   },
   {
    "duration": 8,
    "start_time": "2023-01-30T10:22:02.821Z"
   },
   {
    "duration": 46,
    "start_time": "2023-01-30T10:22:02.831Z"
   },
   {
    "duration": 33,
    "start_time": "2023-01-30T10:22:02.879Z"
   },
   {
    "duration": 1505,
    "start_time": "2023-01-30T10:22:02.914Z"
   },
   {
    "duration": 18,
    "start_time": "2023-01-30T10:22:04.421Z"
   },
   {
    "duration": 24,
    "start_time": "2023-01-30T10:22:04.440Z"
   },
   {
    "duration": 1289,
    "start_time": "2023-01-30T10:22:04.466Z"
   },
   {
    "duration": 1307,
    "start_time": "2023-01-30T10:22:05.756Z"
   },
   {
    "duration": 607,
    "start_time": "2023-01-30T10:22:07.065Z"
   },
   {
    "duration": 17,
    "start_time": "2023-01-30T10:22:07.673Z"
   },
   {
    "duration": 19,
    "start_time": "2023-01-30T10:22:07.692Z"
   },
   {
    "duration": 395,
    "start_time": "2023-01-30T10:22:07.712Z"
   },
   {
    "duration": 18,
    "start_time": "2023-01-30T10:22:08.108Z"
   },
   {
    "duration": 1147,
    "start_time": "2023-01-30T10:22:08.128Z"
   },
   {
    "duration": 685,
    "start_time": "2023-01-30T10:22:09.276Z"
   },
   {
    "duration": 14,
    "start_time": "2023-01-30T10:22:09.962Z"
   },
   {
    "duration": 454,
    "start_time": "2023-01-30T10:22:09.978Z"
   },
   {
    "duration": 5,
    "start_time": "2023-01-30T10:22:10.434Z"
   },
   {
    "duration": 8,
    "start_time": "2023-01-30T10:22:10.441Z"
   },
   {
    "duration": 94457,
    "start_time": "2023-01-30T10:22:10.451Z"
   },
   {
    "duration": 3,
    "start_time": "2023-01-30T10:23:44.910Z"
   },
   {
    "duration": 69,
    "start_time": "2023-01-30T10:25:45.681Z"
   },
   {
    "duration": 118,
    "start_time": "2023-01-30T10:25:48.873Z"
   },
   {
    "duration": 31289,
    "start_time": "2023-01-30T10:25:53.421Z"
   },
   {
    "duration": 10129,
    "start_time": "2023-01-30T10:26:31.205Z"
   },
   {
    "duration": 153158,
    "start_time": "2023-01-30T10:27:43.200Z"
   },
   {
    "duration": 0,
    "start_time": "2023-01-30T10:30:16.360Z"
   },
   {
    "duration": 184091,
    "start_time": "2023-01-30T10:30:22.796Z"
   },
   {
    "duration": 4,
    "start_time": "2023-01-30T10:33:56.424Z"
   },
   {
    "duration": 4,
    "start_time": "2023-01-30T10:34:21.078Z"
   },
   {
    "duration": 4,
    "start_time": "2023-02-01T11:31:50.502Z"
   },
   {
    "duration": 1777,
    "start_time": "2023-02-01T11:31:50.508Z"
   },
   {
    "duration": 1595,
    "start_time": "2023-02-01T11:31:52.287Z"
   },
   {
    "duration": 16,
    "start_time": "2023-02-01T11:31:53.884Z"
   },
   {
    "duration": 12,
    "start_time": "2023-02-01T11:31:53.902Z"
   },
   {
    "duration": 21,
    "start_time": "2023-02-01T11:31:53.916Z"
   },
   {
    "duration": 489,
    "start_time": "2023-02-01T11:31:53.939Z"
   },
   {
    "duration": 644,
    "start_time": "2023-02-01T11:31:54.430Z"
   },
   {
    "duration": 481,
    "start_time": "2023-02-01T11:31:55.075Z"
   },
   {
    "duration": 119,
    "start_time": "2023-02-01T11:31:55.558Z"
   },
   {
    "duration": 325,
    "start_time": "2023-02-01T11:31:55.680Z"
   },
   {
    "duration": 80,
    "start_time": "2023-02-01T11:31:56.007Z"
   },
   {
    "duration": 259,
    "start_time": "2023-02-01T11:31:56.088Z"
   },
   {
    "duration": 20,
    "start_time": "2023-02-01T11:31:56.348Z"
   },
   {
    "duration": 34,
    "start_time": "2023-02-01T11:31:56.369Z"
   },
   {
    "duration": 97,
    "start_time": "2023-02-01T11:31:56.405Z"
   },
   {
    "duration": 193,
    "start_time": "2023-02-01T11:31:56.504Z"
   },
   {
    "duration": 70,
    "start_time": "2023-02-01T11:31:56.699Z"
   },
   {
    "duration": 75,
    "start_time": "2023-02-01T11:31:56.771Z"
   },
   {
    "duration": 53,
    "start_time": "2023-02-01T11:31:56.848Z"
   },
   {
    "duration": 89,
    "start_time": "2023-02-01T11:31:56.902Z"
   },
   {
    "duration": 8,
    "start_time": "2023-02-01T11:31:56.993Z"
   },
   {
    "duration": 1728,
    "start_time": "2023-02-01T11:31:57.003Z"
   },
   {
    "duration": 41,
    "start_time": "2023-02-01T11:31:58.732Z"
   },
   {
    "duration": 2024,
    "start_time": "2023-02-01T11:31:58.775Z"
   },
   {
    "duration": 9,
    "start_time": "2023-02-01T11:32:00.801Z"
   },
   {
    "duration": 38,
    "start_time": "2023-02-01T11:32:00.811Z"
   },
   {
    "duration": 29,
    "start_time": "2023-02-01T11:32:00.851Z"
   },
   {
    "duration": 1594,
    "start_time": "2023-02-01T11:32:00.884Z"
   },
   {
    "duration": 19,
    "start_time": "2023-02-01T11:32:02.481Z"
   },
   {
    "duration": 47,
    "start_time": "2023-02-01T11:32:02.503Z"
   },
   {
    "duration": 1322,
    "start_time": "2023-02-01T11:32:02.552Z"
   },
   {
    "duration": 1379,
    "start_time": "2023-02-01T11:32:03.876Z"
   },
   {
    "duration": 646,
    "start_time": "2023-02-01T11:32:05.257Z"
   },
   {
    "duration": 18,
    "start_time": "2023-02-01T11:32:05.905Z"
   },
   {
    "duration": 30,
    "start_time": "2023-02-01T11:32:05.925Z"
   },
   {
    "duration": 508,
    "start_time": "2023-02-01T11:32:05.957Z"
   },
   {
    "duration": 20,
    "start_time": "2023-02-01T11:32:06.467Z"
   },
   {
    "duration": 1277,
    "start_time": "2023-02-01T11:32:06.489Z"
   },
   {
    "duration": 663,
    "start_time": "2023-02-01T11:32:07.768Z"
   },
   {
    "duration": 14,
    "start_time": "2023-02-01T11:32:08.433Z"
   },
   {
    "duration": 545,
    "start_time": "2023-02-01T11:32:08.449Z"
   },
   {
    "duration": 4,
    "start_time": "2023-02-01T11:32:08.995Z"
   },
   {
    "duration": 21,
    "start_time": "2023-02-01T11:32:09.001Z"
   },
   {
    "duration": 91865,
    "start_time": "2023-02-01T11:32:09.024Z"
   },
   {
    "duration": 3,
    "start_time": "2023-02-01T11:33:40.891Z"
   },
   {
    "duration": 2528487,
    "start_time": "2023-02-01T11:34:19.291Z"
   },
   {
    "duration": 26974,
    "start_time": "2023-02-01T12:16:27.780Z"
   },
   {
    "duration": 19,
    "start_time": "2023-02-01T12:16:54.756Z"
   },
   {
    "duration": 0,
    "start_time": "2023-02-01T12:16:54.778Z"
   },
   {
    "duration": 0,
    "start_time": "2023-02-01T12:16:54.782Z"
   },
   {
    "duration": 1,
    "start_time": "2023-02-01T12:16:54.783Z"
   },
   {
    "duration": 0,
    "start_time": "2023-02-01T12:16:54.787Z"
   },
   {
    "duration": 15,
    "start_time": "2023-02-01T12:19:24.569Z"
   },
   {
    "duration": 4,
    "start_time": "2023-02-01T12:20:00.072Z"
   },
   {
    "duration": 1667,
    "start_time": "2023-02-01T12:20:00.104Z"
   },
   {
    "duration": 1309,
    "start_time": "2023-02-01T12:20:01.774Z"
   },
   {
    "duration": 24,
    "start_time": "2023-02-01T12:20:03.087Z"
   },
   {
    "duration": 5,
    "start_time": "2023-02-01T12:20:03.137Z"
   },
   {
    "duration": 11,
    "start_time": "2023-02-01T12:20:03.145Z"
   },
   {
    "duration": 588,
    "start_time": "2023-02-01T12:20:03.158Z"
   },
   {
    "duration": 621,
    "start_time": "2023-02-01T12:20:03.748Z"
   },
   {
    "duration": 505,
    "start_time": "2023-02-01T12:20:04.371Z"
   },
   {
    "duration": 119,
    "start_time": "2023-02-01T12:20:04.879Z"
   },
   {
    "duration": 361,
    "start_time": "2023-02-01T12:20:05.001Z"
   },
   {
    "duration": 81,
    "start_time": "2023-02-01T12:20:05.364Z"
   },
   {
    "duration": 270,
    "start_time": "2023-02-01T12:20:05.447Z"
   },
   {
    "duration": 23,
    "start_time": "2023-02-01T12:20:05.721Z"
   },
   {
    "duration": 60,
    "start_time": "2023-02-01T12:20:05.746Z"
   },
   {
    "duration": 75,
    "start_time": "2023-02-01T12:20:05.808Z"
   },
   {
    "duration": 230,
    "start_time": "2023-02-01T12:20:05.885Z"
   },
   {
    "duration": 68,
    "start_time": "2023-02-01T12:20:06.118Z"
   },
   {
    "duration": 83,
    "start_time": "2023-02-01T12:20:06.188Z"
   },
   {
    "duration": 71,
    "start_time": "2023-02-01T12:20:06.273Z"
   },
   {
    "duration": 70,
    "start_time": "2023-02-01T12:20:06.346Z"
   },
   {
    "duration": 11,
    "start_time": "2023-02-01T12:20:06.436Z"
   },
   {
    "duration": 1682,
    "start_time": "2023-02-01T12:20:06.449Z"
   },
   {
    "duration": 39,
    "start_time": "2023-02-01T12:20:08.137Z"
   },
   {
    "duration": 1712,
    "start_time": "2023-02-01T12:20:08.179Z"
   },
   {
    "duration": 14,
    "start_time": "2023-02-01T12:20:09.894Z"
   },
   {
    "duration": 114,
    "start_time": "2023-02-01T12:20:09.911Z"
   },
   {
    "duration": 141,
    "start_time": "2023-02-01T12:20:10.027Z"
   },
   {
    "duration": 1701,
    "start_time": "2023-02-01T12:20:10.171Z"
   },
   {
    "duration": 19,
    "start_time": "2023-02-01T12:20:11.874Z"
   },
   {
    "duration": 54,
    "start_time": "2023-02-01T12:20:11.896Z"
   },
   {
    "duration": 1373,
    "start_time": "2023-02-01T12:20:11.952Z"
   },
   {
    "duration": 1460,
    "start_time": "2023-02-01T12:20:13.327Z"
   },
   {
    "duration": 669,
    "start_time": "2023-02-01T12:20:14.789Z"
   },
   {
    "duration": 23,
    "start_time": "2023-02-01T12:20:15.461Z"
   },
   {
    "duration": 43,
    "start_time": "2023-02-01T12:20:15.487Z"
   },
   {
    "duration": 441,
    "start_time": "2023-02-01T12:20:15.536Z"
   },
   {
    "duration": 25,
    "start_time": "2023-02-01T12:20:15.979Z"
   },
   {
    "duration": 1202,
    "start_time": "2023-02-01T12:20:16.007Z"
   },
   {
    "duration": 803,
    "start_time": "2023-02-01T12:20:17.211Z"
   },
   {
    "duration": 27,
    "start_time": "2023-02-01T12:20:18.019Z"
   },
   {
    "duration": 519,
    "start_time": "2023-02-01T12:20:18.047Z"
   },
   {
    "duration": 6,
    "start_time": "2023-02-01T12:20:18.568Z"
   },
   {
    "duration": 25,
    "start_time": "2023-02-01T12:20:18.576Z"
   },
   {
    "duration": 142243,
    "start_time": "2023-02-01T12:20:18.603Z"
   },
   {
    "duration": 3,
    "start_time": "2023-02-01T12:22:40.851Z"
   },
   {
    "duration": 191243,
    "start_time": "2023-02-01T12:22:40.938Z"
   },
   {
    "duration": 1400616,
    "start_time": "2023-02-01T12:25:52.183Z"
   },
   {
    "duration": 27204,
    "start_time": "2023-02-01T12:49:12.800Z"
   },
   {
    "duration": 13,
    "start_time": "2023-02-01T12:49:40.006Z"
   },
   {
    "duration": 0,
    "start_time": "2023-02-01T12:49:40.021Z"
   },
   {
    "duration": 4,
    "start_time": "2023-02-01T14:18:38.469Z"
   },
   {
    "duration": 1814,
    "start_time": "2023-02-01T14:18:38.476Z"
   },
   {
    "duration": 1555,
    "start_time": "2023-02-01T14:18:40.292Z"
   },
   {
    "duration": 18,
    "start_time": "2023-02-01T14:18:41.849Z"
   },
   {
    "duration": 23,
    "start_time": "2023-02-01T14:18:41.870Z"
   },
   {
    "duration": 50,
    "start_time": "2023-02-01T14:18:41.894Z"
   },
   {
    "duration": 562,
    "start_time": "2023-02-01T14:18:41.946Z"
   },
   {
    "duration": 633,
    "start_time": "2023-02-01T14:18:42.510Z"
   },
   {
    "duration": 541,
    "start_time": "2023-02-01T14:18:43.145Z"
   },
   {
    "duration": 128,
    "start_time": "2023-02-01T14:18:43.688Z"
   },
   {
    "duration": 345,
    "start_time": "2023-02-01T14:18:43.818Z"
   },
   {
    "duration": 85,
    "start_time": "2023-02-01T14:18:44.165Z"
   },
   {
    "duration": 298,
    "start_time": "2023-02-01T14:18:44.252Z"
   },
   {
    "duration": 22,
    "start_time": "2023-02-01T14:18:44.553Z"
   },
   {
    "duration": 38,
    "start_time": "2023-02-01T14:18:44.576Z"
   },
   {
    "duration": 90,
    "start_time": "2023-02-01T14:18:44.616Z"
   },
   {
    "duration": 181,
    "start_time": "2023-02-01T14:18:44.707Z"
   },
   {
    "duration": 71,
    "start_time": "2023-02-01T14:18:44.890Z"
   },
   {
    "duration": 89,
    "start_time": "2023-02-01T14:18:44.963Z"
   },
   {
    "duration": 67,
    "start_time": "2023-02-01T14:18:45.054Z"
   },
   {
    "duration": 86,
    "start_time": "2023-02-01T14:18:45.123Z"
   },
   {
    "duration": 26,
    "start_time": "2023-02-01T14:18:45.211Z"
   },
   {
    "duration": 1726,
    "start_time": "2023-02-01T14:18:45.239Z"
   },
   {
    "duration": 38,
    "start_time": "2023-02-01T14:18:46.967Z"
   },
   {
    "duration": 1705,
    "start_time": "2023-02-01T14:18:47.007Z"
   },
   {
    "duration": 9,
    "start_time": "2023-02-01T14:18:48.714Z"
   },
   {
    "duration": 67,
    "start_time": "2023-02-01T14:18:48.725Z"
   },
   {
    "duration": 46,
    "start_time": "2023-02-01T14:18:48.793Z"
   },
   {
    "duration": 1610,
    "start_time": "2023-02-01T14:18:48.841Z"
   },
   {
    "duration": 18,
    "start_time": "2023-02-01T14:18:50.453Z"
   },
   {
    "duration": 36,
    "start_time": "2023-02-01T14:18:50.473Z"
   },
   {
    "duration": 1383,
    "start_time": "2023-02-01T14:18:50.511Z"
   },
   {
    "duration": 1383,
    "start_time": "2023-02-01T14:18:51.896Z"
   },
   {
    "duration": 684,
    "start_time": "2023-02-01T14:18:53.281Z"
   },
   {
    "duration": 18,
    "start_time": "2023-02-01T14:18:53.967Z"
   },
   {
    "duration": 18,
    "start_time": "2023-02-01T14:18:53.987Z"
   },
   {
    "duration": 448,
    "start_time": "2023-02-01T14:18:54.007Z"
   },
   {
    "duration": 26,
    "start_time": "2023-02-01T14:18:54.457Z"
   },
   {
    "duration": 1445,
    "start_time": "2023-02-01T14:18:54.487Z"
   },
   {
    "duration": 684,
    "start_time": "2023-02-01T14:18:55.934Z"
   },
   {
    "duration": 19,
    "start_time": "2023-02-01T14:18:56.623Z"
   },
   {
    "duration": 495,
    "start_time": "2023-02-01T14:18:56.644Z"
   },
   {
    "duration": 4,
    "start_time": "2023-02-01T14:18:57.141Z"
   },
   {
    "duration": 22,
    "start_time": "2023-02-01T14:18:57.147Z"
   },
   {
    "duration": 129567,
    "start_time": "2023-02-01T14:18:57.171Z"
   },
   {
    "duration": 3,
    "start_time": "2023-02-01T14:21:06.739Z"
   },
   {
    "duration": 191359,
    "start_time": "2023-02-01T14:21:06.744Z"
   },
   {
    "duration": 1271388,
    "start_time": "2023-02-01T14:24:18.106Z"
   },
   {
    "duration": 27325,
    "start_time": "2023-02-01T14:45:29.495Z"
   },
   {
    "duration": 20,
    "start_time": "2023-02-01T14:45:56.821Z"
   },
   {
    "duration": 0,
    "start_time": "2023-02-01T14:45:56.843Z"
   },
   {
    "duration": 4,
    "start_time": "2023-02-02T03:37:31.158Z"
   },
   {
    "duration": 1611,
    "start_time": "2023-02-02T03:37:31.164Z"
   },
   {
    "duration": 1485,
    "start_time": "2023-02-02T03:37:32.777Z"
   },
   {
    "duration": 16,
    "start_time": "2023-02-02T03:37:34.266Z"
   },
   {
    "duration": 12,
    "start_time": "2023-02-02T03:37:34.284Z"
   },
   {
    "duration": 8,
    "start_time": "2023-02-02T03:37:34.298Z"
   },
   {
    "duration": 517,
    "start_time": "2023-02-02T03:37:34.308Z"
   },
   {
    "duration": 601,
    "start_time": "2023-02-02T03:37:34.826Z"
   },
   {
    "duration": 467,
    "start_time": "2023-02-02T03:37:35.429Z"
   },
   {
    "duration": 132,
    "start_time": "2023-02-02T03:37:35.897Z"
   },
   {
    "duration": 341,
    "start_time": "2023-02-02T03:37:36.031Z"
   },
   {
    "duration": 94,
    "start_time": "2023-02-02T03:37:36.374Z"
   },
   {
    "duration": 267,
    "start_time": "2023-02-02T03:37:36.470Z"
   },
   {
    "duration": 28,
    "start_time": "2023-02-02T03:37:36.740Z"
   },
   {
    "duration": 43,
    "start_time": "2023-02-02T03:37:36.770Z"
   },
   {
    "duration": 100,
    "start_time": "2023-02-02T03:37:36.817Z"
   },
   {
    "duration": 178,
    "start_time": "2023-02-02T03:37:36.919Z"
   },
   {
    "duration": 53,
    "start_time": "2023-02-02T03:37:37.098Z"
   },
   {
    "duration": 85,
    "start_time": "2023-02-02T03:37:37.152Z"
   },
   {
    "duration": 61,
    "start_time": "2023-02-02T03:37:37.239Z"
   },
   {
    "duration": 84,
    "start_time": "2023-02-02T03:37:37.302Z"
   },
   {
    "duration": 9,
    "start_time": "2023-02-02T03:37:37.388Z"
   },
   {
    "duration": 1463,
    "start_time": "2023-02-02T03:37:37.399Z"
   },
   {
    "duration": 32,
    "start_time": "2023-02-02T03:37:38.868Z"
   },
   {
    "duration": 1495,
    "start_time": "2023-02-02T03:37:38.902Z"
   },
   {
    "duration": 9,
    "start_time": "2023-02-02T03:37:40.398Z"
   },
   {
    "duration": 38,
    "start_time": "2023-02-02T03:37:40.408Z"
   },
   {
    "duration": 23,
    "start_time": "2023-02-02T03:37:40.447Z"
   },
   {
    "duration": 1297,
    "start_time": "2023-02-02T03:37:40.472Z"
   },
   {
    "duration": 15,
    "start_time": "2023-02-02T03:37:41.771Z"
   },
   {
    "duration": 22,
    "start_time": "2023-02-02T03:37:41.787Z"
   },
   {
    "duration": 1285,
    "start_time": "2023-02-02T03:37:41.811Z"
   },
   {
    "duration": 1329,
    "start_time": "2023-02-02T03:37:43.098Z"
   },
   {
    "duration": 623,
    "start_time": "2023-02-02T03:37:44.429Z"
   },
   {
    "duration": 21,
    "start_time": "2023-02-02T03:37:45.054Z"
   },
   {
    "duration": 28,
    "start_time": "2023-02-02T03:37:45.077Z"
   },
   {
    "duration": 407,
    "start_time": "2023-02-02T03:37:45.106Z"
   },
   {
    "duration": 17,
    "start_time": "2023-02-02T03:37:45.515Z"
   },
   {
    "duration": 1265,
    "start_time": "2023-02-02T03:37:45.535Z"
   },
   {
    "duration": 536,
    "start_time": "2023-02-02T03:37:46.804Z"
   },
   {
    "duration": 14,
    "start_time": "2023-02-02T03:37:47.341Z"
   },
   {
    "duration": 426,
    "start_time": "2023-02-02T03:37:47.367Z"
   },
   {
    "duration": 4,
    "start_time": "2023-02-02T03:37:47.794Z"
   },
   {
    "duration": 5,
    "start_time": "2023-02-02T03:37:47.800Z"
   },
   {
    "duration": 109075,
    "start_time": "2023-02-02T03:37:47.807Z"
   },
   {
    "duration": 4,
    "start_time": "2023-02-02T03:39:36.968Z"
   },
   {
    "duration": 164607,
    "start_time": "2023-02-02T03:39:36.974Z"
   },
   {
    "duration": 1838,
    "start_time": "2023-02-04T14:15:21.178Z"
   },
   {
    "duration": 1302,
    "start_time": "2023-02-04T14:15:23.018Z"
   },
   {
    "duration": 24,
    "start_time": "2023-02-04T14:15:24.322Z"
   },
   {
    "duration": 6,
    "start_time": "2023-02-04T14:15:24.348Z"
   },
   {
    "duration": 15,
    "start_time": "2023-02-04T14:15:24.356Z"
   },
   {
    "duration": 501,
    "start_time": "2023-02-04T14:15:24.373Z"
   },
   {
    "duration": 598,
    "start_time": "2023-02-04T14:15:24.876Z"
   },
   {
    "duration": 489,
    "start_time": "2023-02-04T14:15:25.476Z"
   },
   {
    "duration": 147,
    "start_time": "2023-02-04T14:15:25.966Z"
   },
   {
    "duration": 391,
    "start_time": "2023-02-04T14:15:26.117Z"
   },
   {
    "duration": 101,
    "start_time": "2023-02-04T14:15:26.510Z"
   },
   {
    "duration": 300,
    "start_time": "2023-02-04T14:15:26.613Z"
   },
   {
    "duration": 25,
    "start_time": "2023-02-04T14:15:26.915Z"
   },
   {
    "duration": 45,
    "start_time": "2023-02-04T14:15:26.942Z"
   },
   {
    "duration": 107,
    "start_time": "2023-02-04T14:15:26.989Z"
   },
   {
    "duration": 203,
    "start_time": "2023-02-04T14:15:27.097Z"
   },
   {
    "duration": 70,
    "start_time": "2023-02-04T14:15:27.302Z"
   },
   {
    "duration": 104,
    "start_time": "2023-02-04T14:15:27.374Z"
   },
   {
    "duration": 65,
    "start_time": "2023-02-04T14:15:27.480Z"
   },
   {
    "duration": 93,
    "start_time": "2023-02-04T14:15:27.547Z"
   },
   {
    "duration": 14,
    "start_time": "2023-02-04T14:15:27.643Z"
   },
   {
    "duration": 1646,
    "start_time": "2023-02-04T14:15:27.659Z"
   },
   {
    "duration": 41,
    "start_time": "2023-02-04T14:15:29.306Z"
   },
   {
    "duration": 1608,
    "start_time": "2023-02-04T14:15:29.350Z"
   },
   {
    "duration": 10,
    "start_time": "2023-02-04T14:15:30.960Z"
   },
   {
    "duration": 37,
    "start_time": "2023-02-04T14:15:30.971Z"
   },
   {
    "duration": 27,
    "start_time": "2023-02-04T14:15:31.010Z"
   },
   {
    "duration": 1650,
    "start_time": "2023-02-04T14:15:31.043Z"
   },
   {
    "duration": 16,
    "start_time": "2023-02-04T14:15:32.695Z"
   },
   {
    "duration": 44,
    "start_time": "2023-02-04T14:15:32.713Z"
   },
   {
    "duration": 1450,
    "start_time": "2023-02-04T14:15:32.760Z"
   },
   {
    "duration": 1588,
    "start_time": "2023-02-04T14:15:34.212Z"
   },
   {
    "duration": 677,
    "start_time": "2023-02-04T14:15:35.802Z"
   },
   {
    "duration": 20,
    "start_time": "2023-02-04T14:15:36.481Z"
   },
   {
    "duration": 38,
    "start_time": "2023-02-04T14:15:36.503Z"
   },
   {
    "duration": 458,
    "start_time": "2023-02-04T14:15:36.544Z"
   },
   {
    "duration": 18,
    "start_time": "2023-02-04T14:15:37.004Z"
   },
   {
    "duration": 1521,
    "start_time": "2023-02-04T14:15:37.024Z"
   },
   {
    "duration": 646,
    "start_time": "2023-02-04T14:15:38.548Z"
   },
   {
    "duration": 17,
    "start_time": "2023-02-04T14:15:39.196Z"
   },
   {
    "duration": 467,
    "start_time": "2023-02-04T14:15:39.215Z"
   },
   {
    "duration": 4,
    "start_time": "2023-02-04T14:15:39.684Z"
   },
   {
    "duration": 15,
    "start_time": "2023-02-04T14:15:39.690Z"
   },
   {
    "duration": 8,
    "start_time": "2023-02-04T14:15:39.707Z"
   },
   {
    "duration": 21,
    "start_time": "2023-02-04T14:15:39.717Z"
   },
   {
    "duration": 148563,
    "start_time": "2023-02-04T14:15:51.684Z"
   },
   {
    "duration": 4,
    "start_time": "2023-02-04T14:18:53.400Z"
   },
   {
    "duration": 5,
    "start_time": "2023-02-04T14:18:55.925Z"
   },
   {
    "duration": 33,
    "start_time": "2023-02-04T14:19:54.726Z"
   }
  ],
  "kernelspec": {
   "display_name": "Python 3 (ipykernel)",
   "language": "python",
   "name": "python3"
  },
  "language_info": {
   "codemirror_mode": {
    "name": "ipython",
    "version": 3
   },
   "file_extension": ".py",
   "mimetype": "text/x-python",
   "name": "python",
   "nbconvert_exporter": "python",
   "pygments_lexer": "ipython3",
   "version": "3.9.12"
  },
  "toc": {
   "base_numbering": 1,
   "nav_menu": {},
   "number_sections": true,
   "sideBar": true,
   "skip_h1_title": true,
   "title_cell": "Table of Contents",
   "title_sidebar": "Contents",
   "toc_cell": false,
   "toc_position": {
    "height": "calc(100% - 180px)",
    "left": "10px",
    "top": "150px",
    "width": "288px"
   },
   "toc_section_display": true,
   "toc_window_display": true
  }
 },
 "nbformat": 4,
 "nbformat_minor": 2
}
