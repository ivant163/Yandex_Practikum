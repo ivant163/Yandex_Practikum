{
 "cells": [
  {
   "cell_type": "markdown",
   "metadata": {},
   "source": [
    "# Защита персональных данных клиентов"
   ]
  },
  {
   "cell_type": "markdown",
   "metadata": {},
   "source": [
    "Вам нужно защитить данные клиентов страховой компании «Хоть потоп». Разработайте такой метод преобразования данных, чтобы по ним было сложно восстановить персональную информацию. Обоснуйте корректность его работы.\n",
    "\n",
    "Нужно защитить данные, чтобы при преобразовании качество моделей машинного обучения не ухудшилось. Подбирать наилучшую модель не требуется."
   ]
  },
  {
   "cell_type": "markdown",
   "metadata": {},
   "source": [
    "### Описание данных."
   ]
  },
  {
   "cell_type": "markdown",
   "metadata": {},
   "source": [
    "**Признаки:** пол, возраст и зарплата застрахованного, количество членов его семьи.  \n",
    "**Целевой признак:** количество страховых выплат клиенту за последние 5 лет."
   ]
  },
  {
   "cell_type": "markdown",
   "metadata": {},
   "source": [
    "## 1. Загрузите и изучите данные."
   ]
  },
  {
   "cell_type": "code",
   "execution_count": 1,
   "metadata": {},
   "outputs": [],
   "source": [
    "import pandas as pd\n",
    "import numpy as np\n",
    "\n",
    "from sklearn.model_selection import train_test_split \n",
    "from sklearn.linear_model import LinearRegression\n",
    "from sklearn.metrics import mean_squared_error\n",
    "from sklearn.metrics import r2_score\n",
    "from sklearn.preprocessing import StandardScaler\n",
    "from math import sqrt\n",
    "\n",
    "RANDOM_STATE = 12345"
   ]
  },
  {
   "cell_type": "markdown",
   "metadata": {},
   "source": [
    "Подключил библиотеки."
   ]
  },
  {
   "cell_type": "code",
   "execution_count": 2,
   "metadata": {},
   "outputs": [],
   "source": [
    "data = pd.read_csv('/datasets/insurance.csv')"
   ]
  },
  {
   "cell_type": "markdown",
   "metadata": {},
   "source": [
    "Загрузил данные."
   ]
  },
  {
   "cell_type": "code",
   "execution_count": 3,
   "metadata": {
    "scrolled": true
   },
   "outputs": [
    {
     "data": {
      "text/html": [
       "<div>\n",
       "<style scoped>\n",
       "    .dataframe tbody tr th:only-of-type {\n",
       "        vertical-align: middle;\n",
       "    }\n",
       "\n",
       "    .dataframe tbody tr th {\n",
       "        vertical-align: top;\n",
       "    }\n",
       "\n",
       "    .dataframe thead th {\n",
       "        text-align: right;\n",
       "    }\n",
       "</style>\n",
       "<table border=\"1\" class=\"dataframe\">\n",
       "  <thead>\n",
       "    <tr style=\"text-align: right;\">\n",
       "      <th></th>\n",
       "      <th>Пол</th>\n",
       "      <th>Возраст</th>\n",
       "      <th>Зарплата</th>\n",
       "      <th>Члены семьи</th>\n",
       "      <th>Страховые выплаты</th>\n",
       "    </tr>\n",
       "  </thead>\n",
       "  <tbody>\n",
       "    <tr>\n",
       "      <th>0</th>\n",
       "      <td>1</td>\n",
       "      <td>41.0</td>\n",
       "      <td>49600.0</td>\n",
       "      <td>1</td>\n",
       "      <td>0</td>\n",
       "    </tr>\n",
       "    <tr>\n",
       "      <th>1</th>\n",
       "      <td>0</td>\n",
       "      <td>46.0</td>\n",
       "      <td>38000.0</td>\n",
       "      <td>1</td>\n",
       "      <td>1</td>\n",
       "    </tr>\n",
       "    <tr>\n",
       "      <th>2</th>\n",
       "      <td>0</td>\n",
       "      <td>29.0</td>\n",
       "      <td>21000.0</td>\n",
       "      <td>0</td>\n",
       "      <td>0</td>\n",
       "    </tr>\n",
       "    <tr>\n",
       "      <th>3</th>\n",
       "      <td>0</td>\n",
       "      <td>21.0</td>\n",
       "      <td>41700.0</td>\n",
       "      <td>2</td>\n",
       "      <td>0</td>\n",
       "    </tr>\n",
       "    <tr>\n",
       "      <th>4</th>\n",
       "      <td>1</td>\n",
       "      <td>28.0</td>\n",
       "      <td>26100.0</td>\n",
       "      <td>0</td>\n",
       "      <td>0</td>\n",
       "    </tr>\n",
       "  </tbody>\n",
       "</table>\n",
       "</div>"
      ],
      "text/plain": [
       "   Пол  Возраст  Зарплата  Члены семьи  Страховые выплаты\n",
       "0    1     41.0   49600.0            1                  0\n",
       "1    0     46.0   38000.0            1                  1\n",
       "2    0     29.0   21000.0            0                  0\n",
       "3    0     21.0   41700.0            2                  0\n",
       "4    1     28.0   26100.0            0                  0"
      ]
     },
     "execution_count": 3,
     "metadata": {},
     "output_type": "execute_result"
    }
   ],
   "source": [
    "data.head(5)"
   ]
  },
  {
   "cell_type": "markdown",
   "metadata": {},
   "source": [
    "Просмотрел первые 5 значений в таблице."
   ]
  },
  {
   "cell_type": "code",
   "execution_count": 4,
   "metadata": {},
   "outputs": [
    {
     "name": "stdout",
     "output_type": "stream",
     "text": [
      "Index(['Пол', 'Возраст', 'Зарплата', 'Члены семьи', 'Страховые выплаты'], dtype='object')\n"
     ]
    }
   ],
   "source": [
    "print(data.columns)"
   ]
  },
  {
   "cell_type": "markdown",
   "metadata": {},
   "source": [
    "Просмотрел перечень стоблцов."
   ]
  },
  {
   "cell_type": "code",
   "execution_count": 5,
   "metadata": {},
   "outputs": [
    {
     "data": {
      "text/plain": [
       "153"
      ]
     },
     "execution_count": 5,
     "metadata": {},
     "output_type": "execute_result"
    }
   ],
   "source": [
    "data.duplicated().sum()"
   ]
  },
  {
   "cell_type": "markdown",
   "metadata": {},
   "source": [
    "Проверил количество явных дубликатов, обнаружил 153 дубликата."
   ]
  },
  {
   "cell_type": "code",
   "execution_count": 6,
   "metadata": {},
   "outputs": [],
   "source": [
    "data = data.drop_duplicates()"
   ]
  },
  {
   "cell_type": "markdown",
   "metadata": {},
   "source": [
    "Удалил дубликаты."
   ]
  },
  {
   "cell_type": "code",
   "execution_count": 7,
   "metadata": {
    "scrolled": true
   },
   "outputs": [
    {
     "data": {
      "text/plain": [
       "0"
      ]
     },
     "execution_count": 7,
     "metadata": {},
     "output_type": "execute_result"
    }
   ],
   "source": [
    "data.duplicated().sum()"
   ]
  },
  {
   "cell_type": "markdown",
   "metadata": {},
   "source": [
    "Убедился в отсутствии дубликатов."
   ]
  },
  {
   "cell_type": "code",
   "execution_count": 8,
   "metadata": {
    "scrolled": false
   },
   "outputs": [
    {
     "data": {
      "text/plain": [
       "Пол                  0\n",
       "Возраст              0\n",
       "Зарплата             0\n",
       "Члены семьи          0\n",
       "Страховые выплаты    0\n",
       "dtype: int64"
      ]
     },
     "execution_count": 8,
     "metadata": {},
     "output_type": "execute_result"
    }
   ],
   "source": [
    "data.isna().sum()"
   ]
  },
  {
   "cell_type": "markdown",
   "metadata": {},
   "source": [
    "Проверил количество пропущенных значений."
   ]
  },
  {
   "cell_type": "code",
   "execution_count": 9,
   "metadata": {
    "scrolled": true
   },
   "outputs": [
    {
     "data": {
      "text/plain": [
       "Пол                    2\n",
       "Возраст               46\n",
       "Зарплата             524\n",
       "Члены семьи            7\n",
       "Страховые выплаты      6\n",
       "dtype: int64"
      ]
     },
     "execution_count": 9,
     "metadata": {},
     "output_type": "execute_result"
    }
   ],
   "source": [
    "data.nunique()"
   ]
  },
  {
   "cell_type": "markdown",
   "metadata": {},
   "source": [
    "Проверил количество уникальных значений."
   ]
  },
  {
   "cell_type": "code",
   "execution_count": 10,
   "metadata": {
    "scrolled": false
   },
   "outputs": [
    {
     "name": "stdout",
     "output_type": "stream",
     "text": [
      "<class 'pandas.core.frame.DataFrame'>\n",
      "Int64Index: 4847 entries, 0 to 4999\n",
      "Data columns (total 5 columns):\n",
      " #   Column             Non-Null Count  Dtype  \n",
      "---  ------             --------------  -----  \n",
      " 0   Пол                4847 non-null   int64  \n",
      " 1   Возраст            4847 non-null   float64\n",
      " 2   Зарплата           4847 non-null   float64\n",
      " 3   Члены семьи        4847 non-null   int64  \n",
      " 4   Страховые выплаты  4847 non-null   int64  \n",
      "dtypes: float64(2), int64(3)\n",
      "memory usage: 227.2 KB\n"
     ]
    }
   ],
   "source": [
    "data.info()"
   ]
  },
  {
   "cell_type": "markdown",
   "metadata": {},
   "source": [
    "Просмотрел общую информацию по датафрейму, увидел, что столбцы \"Возраст\" и \"Зарплата\" имеют формат float."
   ]
  },
  {
   "cell_type": "code",
   "execution_count": 11,
   "metadata": {
    "scrolled": true
   },
   "outputs": [
    {
     "data": {
      "text/plain": [
       "Пол                  int64\n",
       "Возраст              int32\n",
       "Зарплата             int32\n",
       "Члены семьи          int64\n",
       "Страховые выплаты    int64\n",
       "dtype: object"
      ]
     },
     "execution_count": 11,
     "metadata": {},
     "output_type": "execute_result"
    }
   ],
   "source": [
    "data['Возраст'] = data['Возраст'].astype(int)\n",
    "data['Зарплата'] = data['Зарплата'].astype(int)\n",
    "data.dtypes"
   ]
  },
  {
   "cell_type": "markdown",
   "metadata": {},
   "source": [
    "Изменил тип столбцов \"Возраст\" и \"Зарплата\" на int."
   ]
  },
  {
   "cell_type": "code",
   "execution_count": 12,
   "metadata": {
    "scrolled": true
   },
   "outputs": [
    {
     "data": {
      "text/html": [
       "<div>\n",
       "<style scoped>\n",
       "    .dataframe tbody tr th:only-of-type {\n",
       "        vertical-align: middle;\n",
       "    }\n",
       "\n",
       "    .dataframe tbody tr th {\n",
       "        vertical-align: top;\n",
       "    }\n",
       "\n",
       "    .dataframe thead th {\n",
       "        text-align: right;\n",
       "    }\n",
       "</style>\n",
       "<table border=\"1\" class=\"dataframe\">\n",
       "  <thead>\n",
       "    <tr style=\"text-align: right;\">\n",
       "      <th></th>\n",
       "      <th>Пол</th>\n",
       "      <th>Возраст</th>\n",
       "      <th>Зарплата</th>\n",
       "      <th>Члены семьи</th>\n",
       "      <th>Страховые выплаты</th>\n",
       "    </tr>\n",
       "  </thead>\n",
       "  <tbody>\n",
       "    <tr>\n",
       "      <th>count</th>\n",
       "      <td>4847.000000</td>\n",
       "      <td>4847.000000</td>\n",
       "      <td>4847.000000</td>\n",
       "      <td>4847.000000</td>\n",
       "      <td>4847.000000</td>\n",
       "    </tr>\n",
       "    <tr>\n",
       "      <th>mean</th>\n",
       "      <td>0.498453</td>\n",
       "      <td>31.023932</td>\n",
       "      <td>39895.811223</td>\n",
       "      <td>1.203425</td>\n",
       "      <td>0.152259</td>\n",
       "    </tr>\n",
       "    <tr>\n",
       "      <th>std</th>\n",
       "      <td>0.500049</td>\n",
       "      <td>8.487995</td>\n",
       "      <td>9972.952441</td>\n",
       "      <td>1.098664</td>\n",
       "      <td>0.468934</td>\n",
       "    </tr>\n",
       "    <tr>\n",
       "      <th>min</th>\n",
       "      <td>0.000000</td>\n",
       "      <td>18.000000</td>\n",
       "      <td>5300.000000</td>\n",
       "      <td>0.000000</td>\n",
       "      <td>0.000000</td>\n",
       "    </tr>\n",
       "    <tr>\n",
       "      <th>25%</th>\n",
       "      <td>0.000000</td>\n",
       "      <td>24.000000</td>\n",
       "      <td>33200.000000</td>\n",
       "      <td>0.000000</td>\n",
       "      <td>0.000000</td>\n",
       "    </tr>\n",
       "    <tr>\n",
       "      <th>50%</th>\n",
       "      <td>0.000000</td>\n",
       "      <td>30.000000</td>\n",
       "      <td>40200.000000</td>\n",
       "      <td>1.000000</td>\n",
       "      <td>0.000000</td>\n",
       "    </tr>\n",
       "    <tr>\n",
       "      <th>75%</th>\n",
       "      <td>1.000000</td>\n",
       "      <td>37.000000</td>\n",
       "      <td>46600.000000</td>\n",
       "      <td>2.000000</td>\n",
       "      <td>0.000000</td>\n",
       "    </tr>\n",
       "    <tr>\n",
       "      <th>max</th>\n",
       "      <td>1.000000</td>\n",
       "      <td>65.000000</td>\n",
       "      <td>79000.000000</td>\n",
       "      <td>6.000000</td>\n",
       "      <td>5.000000</td>\n",
       "    </tr>\n",
       "  </tbody>\n",
       "</table>\n",
       "</div>"
      ],
      "text/plain": [
       "               Пол      Возраст      Зарплата  Члены семьи  Страховые выплаты\n",
       "count  4847.000000  4847.000000   4847.000000  4847.000000        4847.000000\n",
       "mean      0.498453    31.023932  39895.811223     1.203425           0.152259\n",
       "std       0.500049     8.487995   9972.952441     1.098664           0.468934\n",
       "min       0.000000    18.000000   5300.000000     0.000000           0.000000\n",
       "25%       0.000000    24.000000  33200.000000     0.000000           0.000000\n",
       "50%       0.000000    30.000000  40200.000000     1.000000           0.000000\n",
       "75%       1.000000    37.000000  46600.000000     2.000000           0.000000\n",
       "max       1.000000    65.000000  79000.000000     6.000000           5.000000"
      ]
     },
     "execution_count": 12,
     "metadata": {},
     "output_type": "execute_result"
    }
   ],
   "source": [
    "data.describe()"
   ]
  },
  {
   "cell_type": "markdown",
   "metadata": {},
   "source": [
    "Проанализировал датафрэим функцией describe()."
   ]
  },
  {
   "cell_type": "markdown",
   "metadata": {},
   "source": [
    "### Вывод."
   ]
  },
  {
   "cell_type": "markdown",
   "metadata": {},
   "source": [
    "Завершил предобработку данных, перехожу к  выполнению проекта."
   ]
  },
  {
   "cell_type": "markdown",
   "metadata": {},
   "source": [
    "## 2. Умножение матриц"
   ]
  },
  {
   "cell_type": "markdown",
   "metadata": {},
   "source": [
    "В этом задании вы можете записывать формулы в *Jupyter Notebook.*\n",
    "\n",
    "Чтобы записать формулу внутри текста, окружите её символами доллара \\\\$; если снаружи —  двойными символами \\\\$\\\\$. Эти формулы записываются на языке вёрстки *LaTeX.* \n",
    "\n",
    "Для примера мы записали формулы линейной регрессии. Можете их скопировать и отредактировать, чтобы решить задачу.\n",
    "\n",
    "Работать в *LaTeX* необязательно."
   ]
  },
  {
   "cell_type": "markdown",
   "metadata": {},
   "source": [
    "Обозначения:\n",
    "\n",
    "- $X$ — матрица признаков (нулевой столбец состоит из единиц)\n",
    "\n",
    "- $y$ — вектор целевого признака\n",
    "\n",
    "- $P$ — матрица, на которую умножаются признаки\n",
    "\n",
    "- $w$ — вектор весов линейной регрессии (нулевой элемент равен сдвигу)"
   ]
  },
  {
   "cell_type": "markdown",
   "metadata": {},
   "source": [
    "Предсказания:\n",
    "\n",
    "$$\n",
    "a = Xw\n",
    "$$\n",
    "\n",
    "Задача обучения:\n",
    "\n",
    "$$\n",
    "w = \\arg\\min_w MSE(Xw, y)\n",
    "$$\n",
    "\n",
    "Формула обучения:\n",
    "\n",
    "$$\n",
    "w = (X^TX)^{-1}X^Ty\n",
    "$$"
   ]
  },
  {
   "cell_type": "markdown",
   "metadata": {},
   "source": [
    "**Ответ: - не изменится**\n",
    "\n",
    "**Обоснование:**"
   ]
  },
  {
   "cell_type": "markdown",
   "metadata": {},
   "source": [
    "Новая матрица признаков $X1$ будет равняться произведению матрицы $X$ на обратимую маьтрицу $P$."
   ]
  },
  {
   "cell_type": "markdown",
   "metadata": {},
   "source": [
    "$$\n",
    "X_{1}=XP\n",
    "$$"
   ]
  },
  {
   "cell_type": "markdown",
   "metadata": {},
   "source": [
    "Подставим значение $XP$ в формулу $w$ и вычислим $w_{1}$."
   ]
  },
  {
   "cell_type": "markdown",
   "metadata": {},
   "source": [
    "$$\n",
    "w_{1}=((XP)^TXP)^{-1} (XP)^T y\n",
    "$$"
   ]
  },
  {
   "cell_type": "markdown",
   "metadata": {},
   "source": [
    "Расскроем произведение $(XP)^T$:"
   ]
  },
  {
   "cell_type": "markdown",
   "metadata": {},
   "source": [
    "$$\n",
    "w_{1}=(P^TX^TXP)^{-1} P^TX^T y\n",
    "$$"
   ]
  },
  {
   "cell_type": "markdown",
   "metadata": {},
   "source": [
    "Выполним перегруппировку."
   ]
  },
  {
   "cell_type": "markdown",
   "metadata": {},
   "source": [
    "$$\n",
    "w_{1}=(P^T(X^TX)P)^{-1} P^TX^T y\n",
    "$$"
   ]
  },
  {
   "cell_type": "markdown",
   "metadata": {},
   "source": [
    "Расскроем скобки $(P^T(X^TX)P)^{-1}$"
   ]
  },
  {
   "cell_type": "markdown",
   "metadata": {},
   "source": [
    "$$\n",
    "w_{1}=P^{-1}(X^TX)^{-1} (P^T)^{-1}P^TX^{T} y\n",
    "$$"
   ]
  },
  {
   "cell_type": "markdown",
   "metadata": {},
   "source": [
    "По условию $P$ это обратимая матрица, т.е. произведение $(P^{T})^{-1}P^{T}=E$ (единичная матрица)."
   ]
  },
  {
   "cell_type": "markdown",
   "metadata": {},
   "source": [
    "$$(P^{T})^{-1}P^{T}=E$$"
   ]
  },
  {
   "cell_type": "markdown",
   "metadata": {},
   "source": [
    "$$\n",
    "w_{1}=P^{-1}(X^{T}X)^{-1}EX^{T}y=P^{-1}(X^TX)^{-1} X^T y\n",
    "$$"
   ]
  },
  {
   "cell_type": "markdown",
   "metadata": {},
   "source": [
    "Получилась формула для $w$"
   ]
  },
  {
   "cell_type": "markdown",
   "metadata": {},
   "source": [
    "$$\n",
    "w_{1}=P^{-1}(X^{T}X)^{-1}X^{T}y=P^{-1}w\n",
    "$$"
   ]
  },
  {
   "cell_type": "markdown",
   "metadata": {},
   "source": [
    "Получившееся значение весов $w_{1}$ подставим в формулу для предстазания линейной регрессии."
   ]
  },
  {
   "cell_type": "markdown",
   "metadata": {},
   "source": [
    "$$\n",
    "a=Xw\n",
    "$$"
   ]
  },
  {
   "cell_type": "markdown",
   "metadata": {},
   "source": [
    "Подставим в эту формулу значения $X1$ и $w_{1}$"
   ]
  },
  {
   "cell_type": "markdown",
   "metadata": {},
   "source": [
    "$$\n",
    "a_{1}=X_{1}w_{1}=XPP^{-1}w\n",
    "$$"
   ]
  },
  {
   "cell_type": "markdown",
   "metadata": {},
   "source": [
    "Из условия матрица является обратимой, по этому ее произведение снова равно:"
   ]
  },
  {
   "cell_type": "markdown",
   "metadata": {},
   "source": [
    "$$\n",
    "PP^{-1}=E\n",
    "$$"
   ]
  },
  {
   "cell_type": "markdown",
   "metadata": {},
   "source": [
    "Подставим значение $PP^{-1}$ в формулу расчета $a1$."
   ]
  },
  {
   "cell_type": "markdown",
   "metadata": {},
   "source": [
    "$$\n",
    "a_{1}=XPP^{-1}w=XEw=Xw=a\n",
    "$$"
   ]
  },
  {
   "cell_type": "markdown",
   "metadata": {},
   "source": [
    "### Вывод."
   ]
  },
  {
   "cell_type": "markdown",
   "metadata": {},
   "source": [
    "В результате проведенного исследования, мы увидели, что предсказания для матрицы признаков умноженных на\n",
    "обратимую матрицу равны предсказаниям.\n",
    "\n",
    "Качество линейной регрессии при умножении признаков на обратимую матрицу не меняется.  \n",
    "\n",
    "Параметры линейной регрессии в исходной задаче и в преобразованной связаны как:"
   ]
  },
  {
   "cell_type": "markdown",
   "metadata": {},
   "source": [
    "$$\n",
    "w_{1}=P^{-1}w\n",
    "$$"
   ]
  },
  {
   "cell_type": "markdown",
   "metadata": {},
   "source": [
    "## 3. Алгоритм преобразования"
   ]
  },
  {
   "cell_type": "markdown",
   "metadata": {},
   "source": [
    "- С помощью библиотери np создадим произвольную квадратную матрицу с размерностью 4х4 (равной количеству столбцов матрицы признаков).\n",
    "- Матрица обязательно должна быть обратимой, если это не так, то надо создать новую матрицу.\n",
    "- Перемножим матрицу признаков и полученную обратимую матрицу, тем самым зашифровывая истинные значения."
   ]
  },
  {
   "cell_type": "markdown",
   "metadata": {},
   "source": [
    "**Обоснование**\n",
    "Проведя исследование в п.2 мы сделали вывод, что качество линейной регрессии при умножении признаков на обратимую матрицу не меняется."
   ]
  },
  {
   "cell_type": "markdown",
   "metadata": {},
   "source": [
    "## 4. Проверка алгоритма"
   ]
  },
  {
   "cell_type": "code",
   "execution_count": 13,
   "metadata": {},
   "outputs": [],
   "source": [
    "target = data['Страховые выплаты']\n",
    "features = data.drop(['Страховые выплаты'] , axis=1)"
   ]
  },
  {
   "cell_type": "markdown",
   "metadata": {},
   "source": [
    "Выделил признаки."
   ]
  },
  {
   "cell_type": "code",
   "execution_count": 14,
   "metadata": {},
   "outputs": [],
   "source": [
    "features_train, features_test, target_train, target_test = train_test_split(features, target, test_size=0.25, random_state=RANDOM_STATE)"
   ]
  },
  {
   "cell_type": "markdown",
   "metadata": {},
   "source": [
    "Разделил датафрэим на обучающую и тестовую выборку в размере 75% и 25%."
   ]
  },
  {
   "cell_type": "code",
   "execution_count": 15,
   "metadata": {
    "scrolled": true
   },
   "outputs": [
    {
     "name": "stdout",
     "output_type": "stream",
     "text": [
      "(3635, 4)\n",
      "(3635,)\n",
      "(1212, 4)\n",
      "(1212,)\n"
     ]
    }
   ],
   "source": [
    "print(features_train.shape)\n",
    "print(target_train.shape)\n",
    "print(features_test.shape)\n",
    "print(target_test.shape)"
   ]
  },
  {
   "cell_type": "markdown",
   "metadata": {},
   "source": [
    "Просмотрел информацию о количестве наблюдений и признаков в каждой таблице."
   ]
  },
  {
   "cell_type": "code",
   "execution_count": 16,
   "metadata": {
    "scrolled": true
   },
   "outputs": [
    {
     "name": "stdout",
     "output_type": "stream",
     "text": [
      "[[9 9 6 4]\n",
      " [1 5 1 7]\n",
      " [0 9 8 5]\n",
      " [0 0 4 5]]\n"
     ]
    }
   ],
   "source": [
    "matrix = np.random.randint(10,size=(4, 4))\n",
    "print(matrix)"
   ]
  },
  {
   "cell_type": "markdown",
   "metadata": {},
   "source": [
    "С помощью np создал произвольную матрицу 4х4."
   ]
  },
  {
   "cell_type": "code",
   "execution_count": 17,
   "metadata": {
    "scrolled": true
   },
   "outputs": [
    {
     "name": "stdout",
     "output_type": "stream",
     "text": [
      "[[ 0.11332595 -0.01993355 -0.10225175  0.03949797]\n",
      " [-0.0073828   0.06644518  0.08157992 -0.16869694]\n",
      " [ 0.0166113  -0.14950166  0.06644518  0.12956811]\n",
      " [-0.01328904  0.11960133 -0.05315615  0.09634551]]\n"
     ]
    }
   ],
   "source": [
    "matrix_obr = np.linalg.inv(matrix)\n",
    "print(matrix_obr)"
   ]
  },
  {
   "cell_type": "markdown",
   "metadata": {},
   "source": [
    "Проверил матрицу на обратимость."
   ]
  },
  {
   "cell_type": "code",
   "execution_count": 18,
   "metadata": {},
   "outputs": [],
   "source": [
    "features_train_trans = features_train.dot(matrix)\n",
    "features_test_trans = features_test.dot(matrix)"
   ]
  },
  {
   "cell_type": "markdown",
   "metadata": {},
   "source": [
    "Умножил признаки матриц на сгенерированную матрицу."
   ]
  },
  {
   "cell_type": "code",
   "execution_count": 19,
   "metadata": {},
   "outputs": [
    {
     "name": "stdout",
     "output_type": "stream",
     "text": [
      "R2 0.42307727615837243\n"
     ]
    }
   ],
   "source": [
    "model = LinearRegression()\n",
    "model.fit(features_train, target_train)\n",
    "predictions = model.predict(features_test)\n",
    "print('R2', r2_score(target_test, predictions))"
   ]
  },
  {
   "cell_type": "markdown",
   "metadata": {},
   "source": [
    "Обучил модель линейной регрессии на исходных данных и проверил метрику R2."
   ]
  },
  {
   "cell_type": "code",
   "execution_count": 20,
   "metadata": {},
   "outputs": [
    {
     "name": "stdout",
     "output_type": "stream",
     "text": [
      "R2 0.4230772761583089\n"
     ]
    }
   ],
   "source": [
    "model = LinearRegression()\n",
    "model.fit(features_train_trans, target_train)\n",
    "predictions = model.predict(features_test_trans)\n",
    "print('R2', r2_score(target_test, predictions))"
   ]
  },
  {
   "cell_type": "markdown",
   "metadata": {},
   "source": [
    "Обучил модель линейной регрессии на преобразованных данных и проверил метрику R2."
   ]
  },
  {
   "cell_type": "markdown",
   "metadata": {},
   "source": [
    "### Вывод."
   ]
  },
  {
   "cell_type": "markdown",
   "metadata": {},
   "source": [
    "В результате прктического эксперимента, мы обучили две модели линейной регресии и на практике проверили, что умножение признаков на обратимую матрицу не меняет качество линейной регрессии."
   ]
  }
 ],
 "metadata": {
  "ExecuteTimeLog": [
   {
    "duration": 45,
    "start_time": "2023-01-03T14:32:52.647Z"
   },
   {
    "duration": 1596,
    "start_time": "2023-01-03T14:33:04.384Z"
   },
   {
    "duration": 90,
    "start_time": "2023-01-03T14:33:05.982Z"
   },
   {
    "duration": 14,
    "start_time": "2023-01-03T14:33:06.074Z"
   },
   {
    "duration": 20,
    "start_time": "2023-01-03T14:33:06.089Z"
   },
   {
    "duration": 17,
    "start_time": "2023-01-03T14:33:06.110Z"
   },
   {
    "duration": 10,
    "start_time": "2023-01-03T14:33:06.128Z"
   },
   {
    "duration": 8,
    "start_time": "2023-01-03T14:33:06.140Z"
   },
   {
    "duration": 14,
    "start_time": "2023-01-03T14:33:06.149Z"
   },
   {
    "duration": 12,
    "start_time": "2023-01-03T14:33:06.164Z"
   },
   {
    "duration": 18,
    "start_time": "2023-01-03T14:33:06.179Z"
   },
   {
    "duration": 6,
    "start_time": "2023-01-03T14:33:06.199Z"
   },
   {
    "duration": 38,
    "start_time": "2023-01-03T14:33:06.206Z"
   },
   {
    "duration": 11,
    "start_time": "2023-01-03T14:33:06.245Z"
   },
   {
    "duration": 9,
    "start_time": "2023-01-03T14:33:06.257Z"
   },
   {
    "duration": 10,
    "start_time": "2023-01-03T14:33:06.269Z"
   },
   {
    "duration": 9,
    "start_time": "2023-01-03T14:33:06.280Z"
   },
   {
    "duration": 30,
    "start_time": "2023-01-03T14:33:06.291Z"
   },
   {
    "duration": 8,
    "start_time": "2023-01-03T14:33:06.323Z"
   },
   {
    "duration": 90,
    "start_time": "2023-01-03T14:33:06.333Z"
   },
   {
    "duration": 14,
    "start_time": "2023-01-03T14:33:06.425Z"
   },
   {
    "duration": 83,
    "start_time": "2023-01-03T14:33:06.440Z"
   },
   {
    "duration": 15,
    "start_time": "2023-01-03T14:33:20.670Z"
   },
   {
    "duration": 1431,
    "start_time": "2023-01-03T15:58:29.684Z"
   },
   {
    "duration": 129,
    "start_time": "2023-01-03T15:58:31.117Z"
   },
   {
    "duration": 16,
    "start_time": "2023-01-03T15:58:31.248Z"
   },
   {
    "duration": 20,
    "start_time": "2023-01-03T15:58:31.266Z"
   },
   {
    "duration": 26,
    "start_time": "2023-01-03T15:58:31.288Z"
   },
   {
    "duration": 18,
    "start_time": "2023-01-03T15:58:31.316Z"
   },
   {
    "duration": 15,
    "start_time": "2023-01-03T15:58:31.336Z"
   },
   {
    "duration": 24,
    "start_time": "2023-01-03T15:58:31.352Z"
   },
   {
    "duration": 26,
    "start_time": "2023-01-03T15:58:31.377Z"
   },
   {
    "duration": 18,
    "start_time": "2023-01-03T15:58:31.404Z"
   },
   {
    "duration": 6,
    "start_time": "2023-01-03T15:58:31.424Z"
   },
   {
    "duration": 30,
    "start_time": "2023-01-03T15:58:31.431Z"
   },
   {
    "duration": 3,
    "start_time": "2023-01-03T15:58:31.463Z"
   },
   {
    "duration": 9,
    "start_time": "2023-01-03T15:58:31.468Z"
   },
   {
    "duration": 20,
    "start_time": "2023-01-03T15:58:31.478Z"
   },
   {
    "duration": 10,
    "start_time": "2023-01-03T15:58:31.499Z"
   },
   {
    "duration": 12,
    "start_time": "2023-01-03T15:58:31.510Z"
   },
   {
    "duration": 13,
    "start_time": "2023-01-03T15:58:31.525Z"
   },
   {
    "duration": 88,
    "start_time": "2023-01-03T15:58:31.540Z"
   },
   {
    "duration": 11,
    "start_time": "2023-01-03T15:58:31.630Z"
   },
   {
    "duration": 1647,
    "start_time": "2023-01-03T16:35:47.316Z"
   },
   {
    "duration": 47,
    "start_time": "2023-01-03T16:35:48.965Z"
   },
   {
    "duration": 15,
    "start_time": "2023-01-03T16:35:49.013Z"
   },
   {
    "duration": 6,
    "start_time": "2023-01-03T16:35:49.029Z"
   },
   {
    "duration": 8,
    "start_time": "2023-01-03T16:35:49.037Z"
   },
   {
    "duration": 20,
    "start_time": "2023-01-03T16:35:49.046Z"
   },
   {
    "duration": 10,
    "start_time": "2023-01-03T16:35:49.068Z"
   },
   {
    "duration": 8,
    "start_time": "2023-01-03T16:35:49.080Z"
   },
   {
    "duration": 8,
    "start_time": "2023-01-03T16:35:49.089Z"
   },
   {
    "duration": 23,
    "start_time": "2023-01-03T16:35:49.098Z"
   },
   {
    "duration": 6,
    "start_time": "2023-01-03T16:35:49.123Z"
   },
   {
    "duration": 27,
    "start_time": "2023-01-03T16:35:49.131Z"
   },
   {
    "duration": 3,
    "start_time": "2023-01-03T16:35:49.160Z"
   },
   {
    "duration": 14,
    "start_time": "2023-01-03T16:35:49.167Z"
   },
   {
    "duration": 6,
    "start_time": "2023-01-03T16:35:49.182Z"
   },
   {
    "duration": 6,
    "start_time": "2023-01-03T16:35:49.190Z"
   },
   {
    "duration": 24,
    "start_time": "2023-01-03T16:35:49.198Z"
   },
   {
    "duration": 9,
    "start_time": "2023-01-03T16:35:49.224Z"
   },
   {
    "duration": 93,
    "start_time": "2023-01-03T16:35:49.235Z"
   },
   {
    "duration": 28,
    "start_time": "2023-01-03T16:35:49.330Z"
   },
   {
    "duration": 1585,
    "start_time": "2023-01-03T18:02:31.093Z"
   },
   {
    "duration": 87,
    "start_time": "2023-01-03T18:02:32.680Z"
   },
   {
    "duration": 15,
    "start_time": "2023-01-03T18:02:32.769Z"
   },
   {
    "duration": 8,
    "start_time": "2023-01-03T18:02:32.786Z"
   },
   {
    "duration": 11,
    "start_time": "2023-01-03T18:02:32.796Z"
   },
   {
    "duration": 8,
    "start_time": "2023-01-03T18:02:32.809Z"
   },
   {
    "duration": 30,
    "start_time": "2023-01-03T18:02:32.818Z"
   },
   {
    "duration": 30,
    "start_time": "2023-01-03T18:02:32.849Z"
   },
   {
    "duration": 25,
    "start_time": "2023-01-03T18:02:32.881Z"
   },
   {
    "duration": 10,
    "start_time": "2023-01-03T18:02:32.909Z"
   },
   {
    "duration": 17,
    "start_time": "2023-01-03T18:02:32.921Z"
   },
   {
    "duration": 22,
    "start_time": "2023-01-03T18:02:32.939Z"
   },
   {
    "duration": 3,
    "start_time": "2023-01-03T18:02:32.962Z"
   },
   {
    "duration": 19,
    "start_time": "2023-01-03T18:02:32.967Z"
   },
   {
    "duration": 10,
    "start_time": "2023-01-03T18:02:32.987Z"
   },
   {
    "duration": 13,
    "start_time": "2023-01-03T18:02:32.998Z"
   },
   {
    "duration": 9,
    "start_time": "2023-01-03T18:02:33.012Z"
   },
   {
    "duration": 23,
    "start_time": "2023-01-03T18:02:33.026Z"
   },
   {
    "duration": 12,
    "start_time": "2023-01-03T18:02:33.122Z"
   },
   {
    "duration": 92,
    "start_time": "2023-01-03T18:02:33.135Z"
   }
  ],
  "kernelspec": {
   "display_name": "Python 3 (ipykernel)",
   "language": "python",
   "name": "python3"
  },
  "language_info": {
   "codemirror_mode": {
    "name": "ipython",
    "version": 3
   },
   "file_extension": ".py",
   "mimetype": "text/x-python",
   "name": "python",
   "nbconvert_exporter": "python",
   "pygments_lexer": "ipython3",
   "version": "3.9.12"
  },
  "toc": {
   "base_numbering": 1,
   "nav_menu": {},
   "number_sections": true,
   "sideBar": true,
   "skip_h1_title": true,
   "title_cell": "Содержание",
   "title_sidebar": "Contents",
   "toc_cell": true,
   "toc_position": {},
   "toc_section_display": true,
   "toc_window_display": true
  }
 },
 "nbformat": 4,
 "nbformat_minor": 2
}
