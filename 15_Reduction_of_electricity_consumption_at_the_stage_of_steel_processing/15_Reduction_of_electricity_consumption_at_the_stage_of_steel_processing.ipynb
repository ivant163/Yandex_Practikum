{
 "cells": [
  {
   "cell_type": "markdown",
   "metadata": {
    "toc": true
   },
   "source": [
    "<h1>Содержание<span class=\"tocSkip\"></span></h1>\n",
    "<div class=\"toc\"><ul class=\"toc-item\"><li><ul class=\"toc-item\"><li><span><a href=\"#УСТРОЙСТВО-АГРЕГАТА-КОВШ-ПЕЧЬ\" data-toc-modified-id=\"УСТРОЙСТВО-АГРЕГАТА-КОВШ-ПЕЧЬ-0.1\"><span class=\"toc-item-num\">0.1&nbsp;&nbsp;</span>УСТРОЙСТВО АГРЕГАТА КОВШ-ПЕЧЬ</a></span></li><li><span><a href=\"#Описание-данных:\" data-toc-modified-id=\"Описание-данных:-0.2\"><span class=\"toc-item-num\">0.2&nbsp;&nbsp;</span>Описание данных:</a></span></li><li><span><a href=\"#1.-Список-уточняющих-вопросов:\" data-toc-modified-id=\"1.-Список-уточняющих-вопросов:-0.3\"><span class=\"toc-item-num\">0.3&nbsp;&nbsp;</span>1. Список уточняющих вопросов:</a></span></li><li><span><a href=\"#2.-Примерный-план-решения-задачи:\" data-toc-modified-id=\"2.-Примерный-план-решения-задачи:-0.4\"><span class=\"toc-item-num\">0.4&nbsp;&nbsp;</span>2. Примерный план решения задачи:</a></span></li><li><span><a href=\"#3.-Пропишите-3–5-основных-шагов,-каждый-поясните-не-более-двумя-предложениями.\" data-toc-modified-id=\"3.-Пропишите-3–5-основных-шагов,-каждый-поясните-не-более-двумя-предложениями.-0.5\"><span class=\"toc-item-num\">0.5&nbsp;&nbsp;</span>3. Пропишите 3–5 основных шагов, каждый поясните не более двумя предложениями.</a></span></li><li><span><a href=\"#4.-Цель-проекта:\" data-toc-modified-id=\"4.-Цель-проекта:-0.6\"><span class=\"toc-item-num\">0.6&nbsp;&nbsp;</span>4. Цель проекта:</a></span></li></ul></li><li><span><a href=\"#1.-Подготовка\" data-toc-modified-id=\"1.-Подготовка-1\"><span class=\"toc-item-num\">1&nbsp;&nbsp;</span>1. Подготовка</a></span><ul class=\"toc-item\"><li><span><a href=\"#1.1-data_arc---данные-об-электродах\" data-toc-modified-id=\"1.1-data_arc---данные-об-электродах-1.1\"><span class=\"toc-item-num\">1.1&nbsp;&nbsp;</span>1.1 data_arc - данные об электродах</a></span></li><li><span><a href=\"#Вывод---data_arc\" data-toc-modified-id=\"Вывод---data_arc-1.2\"><span class=\"toc-item-num\">1.2&nbsp;&nbsp;</span>Вывод - data_arc</a></span></li><li><span><a href=\"#1.2-data_bulk---данные-о-подаче-сыпучих-материалов-(объём)\" data-toc-modified-id=\"1.2-data_bulk---данные-о-подаче-сыпучих-материалов-(объём)-1.3\"><span class=\"toc-item-num\">1.3&nbsp;&nbsp;</span>1.2 data_bulk - данные о подаче сыпучих материалов (объём)</a></span></li><li><span><a href=\"#Вывод---data_bulk\" data-toc-modified-id=\"Вывод---data_bulk-1.4\"><span class=\"toc-item-num\">1.4&nbsp;&nbsp;</span>Вывод - data_bulk</a></span></li><li><span><a href=\"#1.3-data_bulk_time---данные-о-подаче-сыпучих-материалов-(время)\" data-toc-modified-id=\"1.3-data_bulk_time---данные-о-подаче-сыпучих-материалов-(время)-1.5\"><span class=\"toc-item-num\">1.5&nbsp;&nbsp;</span>1.3 data_bulk_time - данные о подаче сыпучих материалов (время)</a></span></li><li><span><a href=\"#Вывод---data_bulk_time\" data-toc-modified-id=\"Вывод---data_bulk_time-1.6\"><span class=\"toc-item-num\">1.6&nbsp;&nbsp;</span>Вывод - data_bulk_time</a></span></li><li><span><a href=\"#1.4-data_gas---данные-о-продувке-сплава-газом.\" data-toc-modified-id=\"1.4-data_gas---данные-о-продувке-сплава-газом.-1.7\"><span class=\"toc-item-num\">1.7&nbsp;&nbsp;</span>1.4 data_gas - данные о продувке сплава газом.</a></span></li><li><span><a href=\"#Вывод---data_gas\" data-toc-modified-id=\"Вывод---data_gas-1.8\"><span class=\"toc-item-num\">1.8&nbsp;&nbsp;</span>Вывод - data_gas</a></span></li><li><span><a href=\"#1.5-data_temp---результаты-измерения-температуры.\" data-toc-modified-id=\"1.5-data_temp---результаты-измерения-температуры.-1.9\"><span class=\"toc-item-num\">1.9&nbsp;&nbsp;</span>1.5 data_temp - результаты измерения температуры.</a></span></li><li><span><a href=\"#Вывод---data_temp\" data-toc-modified-id=\"Вывод---data_temp-1.10\"><span class=\"toc-item-num\">1.10&nbsp;&nbsp;</span>Вывод - data_temp</a></span></li><li><span><a href=\"#1.6-data_wire---данные-о-проволочных-материалах-(объём).\" data-toc-modified-id=\"1.6-data_wire---данные-о-проволочных-материалах-(объём).-1.11\"><span class=\"toc-item-num\">1.11&nbsp;&nbsp;</span>1.6 data_wire - данные о проволочных материалах (объём).</a></span></li><li><span><a href=\"#Вывод----data_wire\" data-toc-modified-id=\"Вывод----data_wire-1.12\"><span class=\"toc-item-num\">1.12&nbsp;&nbsp;</span>Вывод -  data_wire</a></span></li><li><span><a href=\"#1.7-data_wire_time---данные-о-проволочных-материалах-(время).\" data-toc-modified-id=\"1.7-data_wire_time---данные-о-проволочных-материалах-(время).-1.13\"><span class=\"toc-item-num\">1.13&nbsp;&nbsp;</span>1.7 data_wire_time - данные о проволочных материалах (время).</a></span></li><li><span><a href=\"#Вывод---data_wire_time\" data-toc-modified-id=\"Вывод---data_wire_time-1.14\"><span class=\"toc-item-num\">1.14&nbsp;&nbsp;</span>Вывод - data_wire_time</a></span></li></ul></li><li><span><a href=\"#Вывод-по-разделу.\" data-toc-modified-id=\"Вывод-по-разделу.-2\"><span class=\"toc-item-num\">2&nbsp;&nbsp;</span>Вывод по разделу.</a></span><ul class=\"toc-item\"><li><span><a href=\"#2.-Подготовка-выборки-для-обучения\" data-toc-modified-id=\"2.-Подготовка-выборки-для-обучения-2.1\"><span class=\"toc-item-num\">2.1&nbsp;&nbsp;</span>2. Подготовка выборки для обучения</a></span></li></ul></li><li><span><a href=\"#Вывод-по-разделу.\" data-toc-modified-id=\"Вывод-по-разделу.-3\"><span class=\"toc-item-num\">3&nbsp;&nbsp;</span>Вывод по разделу.</a></span></li><li><span><a href=\"#3.-Обучение-моделей\" data-toc-modified-id=\"3.-Обучение-моделей-4\"><span class=\"toc-item-num\">4&nbsp;&nbsp;</span>3. Обучение моделей</a></span><ul class=\"toc-item\"><li><span><a href=\"#3.1-LinearRegression\" data-toc-modified-id=\"3.1-LinearRegression-4.1\"><span class=\"toc-item-num\">4.1&nbsp;&nbsp;</span>3.1 LinearRegression</a></span></li><li><span><a href=\"#3.2-CatBoostRegressor\" data-toc-modified-id=\"3.2-CatBoostRegressor-4.2\"><span class=\"toc-item-num\">4.2&nbsp;&nbsp;</span>3.2 CatBoostRegressor</a></span></li><li><span><a href=\"#3.3-DecisionTreeRegressor\" data-toc-modified-id=\"3.3-DecisionTreeRegressor-4.3\"><span class=\"toc-item-num\">4.3&nbsp;&nbsp;</span>3.3 DecisionTreeRegressor</a></span></li></ul></li><li><span><a href=\"#Вывод-по-разделу.\" data-toc-modified-id=\"Вывод-по-разделу.-5\"><span class=\"toc-item-num\">5&nbsp;&nbsp;</span>Вывод по разделу.</a></span></li><li><span><a href=\"#Вывод-по-проекту\" data-toc-modified-id=\"Вывод-по-проекту-6\"><span class=\"toc-item-num\">6&nbsp;&nbsp;</span>Вывод по проекту</a></span></li><li><span><a href=\"#Чек-лист-проверки\" data-toc-modified-id=\"Чек-лист-проверки-7\"><span class=\"toc-item-num\">7&nbsp;&nbsp;</span>Чек-лист проверки</a></span></li></ul></div>"
   ]
  },
  {
   "cell_type": "markdown",
   "metadata": {},
   "source": [
    "#  Промышленность — задача проекта"
   ]
  },
  {
   "cell_type": "markdown",
   "metadata": {},
   "source": [
    "Чтобы оптимизировать производственные расходы, металлургический комбинат ООО «Так закаляем сталь» решил уменьшить потребление электроэнергии на этапе обработки стали. Необходимо построить модель, которая предскажет температуру стали."
   ]
  },
  {
   "cell_type": "markdown",
   "metadata": {},
   "source": [
    "Обеспечение качества стали для изготовления отливок в условиях жесткой конкуренции на мировых рынках является первостепенной задачей. Эта задача решается, в основном, с помощью внепечной обработке стали, в частности на агрегатах ковш-печь.\n",
    "Установка ковш - печь предназначена для обработки жидкой стали. На установке осуществляются следующие технологические операции:\n",
    "- нагрев металла электрической дугой;\n",
    "- продувка металла аргоном для усреднения химического состава металла и его температуры по объему сталеразливочного ковша;\n",
    "- коррекция химического состава металла;\n",
    "- десульфурация металла белым основным шлаком;\n",
    "- измерение температуры и отбор проб металла и шлака;\n",
    "- микролегирование или получение металла с узкими пределами содержания элементов путем ввода порошковой проволоки с различными видами наполнителей."
   ]
  },
  {
   "cell_type": "markdown",
   "metadata": {},
   "source": [
    "### УСТРОЙСТВО АГРЕГАТА КОВШ-ПЕЧЬ"
   ]
  },
  {
   "cell_type": "markdown",
   "metadata": {},
   "source": [
    "В ковше наводится рафинировочный шлак, сверху в него опускают электроды системы электродугового нагрева таким образом, чтобы обеспечить достаточную эффективную теплопередачу и одновременно защитить огнеупоры ковша от дуги. При этом остаточные оксиды железа в шлаке восстанавливаются графитовыми электродами. В результате получают \"ультрачистую\" сталь с низким содержанием серы."
   ]
  },
  {
   "cell_type": "markdown",
   "metadata": {},
   "source": [
    "<p><img src='https://studbooks.net/imag_/8/267980/image001.png' width=320, heigth=240, style=\"float:left; padding-right:50px\"/></p> \n",
    "\n",
    "1 - Сталеразливочный ковш; <br/>\n",
    "2 - Трайб-аппарат;<br/>\n",
    "3 - Свод агрегата ковш-печь;<br/>\n",
    "4 - Графитированные электроды; <br/>\n",
    "5 - Воронка подачи сыпучих;<br/> \n",
    "6 - Аварийная фурма.<br/>"
   ]
  },
  {
   "cell_type": "markdown",
   "metadata": {},
   "source": [
    "Рисунок 1 - Общая схема установки ковш-печь:"
   ]
  },
  {
   "cell_type": "markdown",
   "metadata": {},
   "source": [
    "### Описание данных:"
   ]
  },
  {
   "cell_type": "markdown",
   "metadata": {},
   "source": [
    "Данные состоят из файлов, полученных из разных источников:\n",
    "\n",
    "- `data_arc.csv` — данные об электродах;\n",
    "- `data_bulk.csv` — данные о подаче сыпучих материалов (объём);\n",
    "- `data_bulk_time.csv` *—* данные о подаче сыпучих материалов (время);\n",
    "- `data_gas.csv` — данные о продувке сплава газом;\n",
    "- `data_temp.csv` — результаты измерения температуры;\n",
    "- `data_wire.csv` — данные о проволочных материалах (объём);\n",
    "- `data_wire_time.csv` — данные о проволочных материалах (время).\n",
    "\n",
    "Во всех файлах столбец `key` содержит номер партии. В файлах может быть несколько строк с одинаковым значением `key`: они соответствуют разным итерациям обработки."
   ]
  },
  {
   "cell_type": "markdown",
   "metadata": {},
   "source": [
    "### 1. Список уточняющих вопросов:"
   ]
  },
  {
   "cell_type": "markdown",
   "metadata": {},
   "source": [
    "1. На встрече хочется услышать подробное объяснение технологического процесса, для понимания как происходит процесс обработки стали и какие моменты технологического процесса необходимо отслеживать, понять что такое целевой химический состав, как его измерить, из каких данных его необходимо получить;\n",
    "2. В представленных DS очень много данных, хочется разобраться с тем, какие данные необходимо использовать а какие можно отбросить;\n",
    "3. Предполагаю, что для разбиения DS на выборки необходимо будет собрать сводную таблицу, с удовольствием выслушаю примеры как это сделать правильно (из каких таблиц и по какому ключу (видимо key));\n",
    "4. Хочется получить подсказку по работе с пропусками, что с ними делать на каком этапе, сразу пытаться обработать или сначала свести все в общую таблицу а уже потом дропать или заменять;\n",
    "5. Очень хочется получить подсказку о том, какие модели стоит обучать в первую очередь."
   ]
  },
  {
   "cell_type": "markdown",
   "metadata": {},
   "source": [
    "### 2. Примерный план решения задачи:"
   ]
  },
  {
   "cell_type": "markdown",
   "metadata": {},
   "source": [
    "- [x] Необходимо загрузить предоставленные данные;\n",
    "- [x] Провести исследовательский анализ данных;\n",
    "-- [x] `data_arc.csv` — данные об электродах;\n",
    "-- [x] `data_bulk.csv` — данные о подаче сыпучих материалов (объём);\n",
    "-- [x] `data_bulk_time.csv` *—* данные о подаче сыпучих материалов (время);\n",
    "-- [x] `data_gas.csv` — данные о продувке сплава газом;\n",
    "-- [x] `data_temp.csv` — результаты измерения температуры;\n",
    "-- [x] `data_wire.csv` — данные о проволочных материалах (объём);\n",
    "-- [x] `data_wire_time.csv` — данные о проволочных материалах (время).\n",
    "- [x] Выполнить предобработку данных.\n",
    "- [x] Выделить целевые признаки;\n",
    "- [x] Разделить DS на выборки;\n",
    "- [x] Обучить несколько различных моделей с подбором гиперпараметров;\n",
    "-- [x] LinearRegression;\n",
    "-- [x] CatBoostRegressor;\n",
    "-- [x] DecisionTreeRegressor;\n",
    "- [x] Выбрать лучшую модель и проверить ее на тестовых данных;\n",
    "- [x] Подготовить отчет по выполненному проекту."
   ]
  },
  {
   "cell_type": "markdown",
   "metadata": {},
   "source": [
    "### 3. Пропишите 3–5 основных шагов, каждый поясните не более двумя предложениями."
   ]
  },
  {
   "cell_type": "markdown",
   "metadata": {},
   "source": [
    "1. Первым делом я загрузил DS и проанализировал данные;\n",
    "2. Выполлнил минимальную предобработку данных;\n",
    "3. Далее я буду пытаться свести данные в общую таблицу;\n",
    "4. Потом постараюсь поработать с пропусками;\n",
    "5. Выполню разделение DS на выборки;\n",
    "6. Обучу модели без гиперпараметров, проверю результаты;\n",
    "7. Если результаты мне не подойдут, то займусь подбором гиперпараметров;\n",
    "8. После получения значения MAE не больше 6.8 выполню проверку лучшей модели на тестовой выборке."
   ]
  },
  {
   "cell_type": "markdown",
   "metadata": {},
   "source": [
    "### 4. Цель проекта:"
   ]
  },
  {
   "cell_type": "markdown",
   "metadata": {},
   "source": [
    "С помощью математической модели предсказать температуру стали таким образом, чтобы уменьшить потребление электроэнергии на этапе обработки стали."
   ]
  },
  {
   "cell_type": "markdown",
   "metadata": {},
   "source": [
    "## 1. Подготовка"
   ]
  },
  {
   "cell_type": "code",
   "execution_count": 1,
   "metadata": {},
   "outputs": [
    {
     "data": {
      "text/plain": [
       "{'divide': 'warn', 'over': 'warn', 'under': 'ignore', 'invalid': 'warn'}"
      ]
     },
     "execution_count": 1,
     "metadata": {},
     "output_type": "execute_result"
    }
   ],
   "source": [
    "import math\n",
    "import pandas as pd\n",
    "import statsmodels.api as sm\n",
    "import seaborn as sns\n",
    "import matplotlib.pyplot as plt\n",
    "import numpy as np\n",
    "\n",
    "from sklearn.model_selection import train_test_split \n",
    "from sklearn.linear_model import LinearRegression\n",
    "from sklearn.metrics import mean_absolute_error\n",
    "from sklearn.pipeline import Pipeline\n",
    "from sklearn.feature_selection import SelectKBest, chi2\n",
    "from sklearn.model_selection import cross_val_score, GridSearchCV\n",
    "from sklearn.tree import DecisionTreeRegressor\n",
    "from catboost import CatBoostRegressor\n",
    "from catboost import cv\n",
    "\n",
    "FIGSIZE = (15, 8)\n",
    "RANDOMSTATE = 100423\n",
    "\n",
    "np.seterr(invalid='ignore')"
   ]
  },
  {
   "cell_type": "markdown",
   "metadata": {},
   "source": [
    "Подключил библиотеки и определил переменные."
   ]
  },
  {
   "cell_type": "code",
   "execution_count": 2,
   "metadata": {},
   "outputs": [],
   "source": [
    "try:\n",
    "    data_arc = pd.read_csv('/datasets/final_steel/data_arc.csv')\n",
    "    data_bulk = pd.read_csv('/datasets/final_steel/data_bulk.csv')\n",
    "    data_bulk_time = pd.read_csv('/datasets/final_steel/data_bulk_time.csv')\n",
    "    data_gas = pd.read_csv('/datasets/final_steel/data_gas.csv')\n",
    "    data_temp = pd.read_csv('/datasets/final_steel/data_temp.csv')\n",
    "    data_wire = pd.read_csv('/datasets/final_steel/data_wire.csv')\n",
    "    data_wire_time = pd.read_csv('/datasets/final_steel/data_wire_time.csv')\n",
    "except FileNotFoundError:\n",
    "    data_arc = pd.read_csv('C:\\data\\data_arc.csv')\n",
    "    data_bulk = pd.read_csv('C:\\data\\data_bulk.csv')\n",
    "    data_bulk_time = pd.read_csv('C:\\data\\data_bulk_time.csv')\n",
    "    data_gas = pd.read_csv('C:\\data\\data_gas.csv')\n",
    "    data_temp = pd.read_csv('C:\\data\\data_temp.csv')\n",
    "    data_wire = pd.read_csv('C:\\data\\data_wire.csv')\n",
    "    data_wire_time = pd.read_csv('C:\\data\\data_wire_time.csv')"
   ]
  },
  {
   "cell_type": "markdown",
   "metadata": {},
   "source": [
    "Загрузил датасеты и создал переменные."
   ]
  },
  {
   "cell_type": "markdown",
   "metadata": {},
   "source": [
    "### 1.1 data_arc - данные об электродах"
   ]
  },
  {
   "cell_type": "code",
   "execution_count": 3,
   "metadata": {
    "scrolled": true
   },
   "outputs": [
    {
     "data": {
      "text/html": [
       "<div>\n",
       "<style scoped>\n",
       "    .dataframe tbody tr th:only-of-type {\n",
       "        vertical-align: middle;\n",
       "    }\n",
       "\n",
       "    .dataframe tbody tr th {\n",
       "        vertical-align: top;\n",
       "    }\n",
       "\n",
       "    .dataframe thead th {\n",
       "        text-align: right;\n",
       "    }\n",
       "</style>\n",
       "<table border=\"1\" class=\"dataframe\">\n",
       "  <thead>\n",
       "    <tr style=\"text-align: right;\">\n",
       "      <th></th>\n",
       "      <th>key</th>\n",
       "      <th>Начало нагрева дугой</th>\n",
       "      <th>Конец нагрева дугой</th>\n",
       "      <th>Активная мощность</th>\n",
       "      <th>Реактивная мощность</th>\n",
       "    </tr>\n",
       "  </thead>\n",
       "  <tbody>\n",
       "    <tr>\n",
       "      <th>0</th>\n",
       "      <td>1</td>\n",
       "      <td>2019-05-03 11:02:14</td>\n",
       "      <td>2019-05-03 11:06:02</td>\n",
       "      <td>0.976059</td>\n",
       "      <td>0.687084</td>\n",
       "    </tr>\n",
       "    <tr>\n",
       "      <th>1</th>\n",
       "      <td>1</td>\n",
       "      <td>2019-05-03 11:07:28</td>\n",
       "      <td>2019-05-03 11:10:33</td>\n",
       "      <td>0.805607</td>\n",
       "      <td>0.520285</td>\n",
       "    </tr>\n",
       "    <tr>\n",
       "      <th>2</th>\n",
       "      <td>1</td>\n",
       "      <td>2019-05-03 11:11:44</td>\n",
       "      <td>2019-05-03 11:14:36</td>\n",
       "      <td>0.744363</td>\n",
       "      <td>0.498805</td>\n",
       "    </tr>\n",
       "    <tr>\n",
       "      <th>3</th>\n",
       "      <td>1</td>\n",
       "      <td>2019-05-03 11:18:14</td>\n",
       "      <td>2019-05-03 11:24:19</td>\n",
       "      <td>1.659363</td>\n",
       "      <td>1.062669</td>\n",
       "    </tr>\n",
       "    <tr>\n",
       "      <th>4</th>\n",
       "      <td>1</td>\n",
       "      <td>2019-05-03 11:26:09</td>\n",
       "      <td>2019-05-03 11:28:37</td>\n",
       "      <td>0.692755</td>\n",
       "      <td>0.414397</td>\n",
       "    </tr>\n",
       "  </tbody>\n",
       "</table>\n",
       "</div>"
      ],
      "text/plain": [
       "   key Начало нагрева дугой  Конец нагрева дугой  Активная мощность  \\\n",
       "0    1  2019-05-03 11:02:14  2019-05-03 11:06:02           0.976059   \n",
       "1    1  2019-05-03 11:07:28  2019-05-03 11:10:33           0.805607   \n",
       "2    1  2019-05-03 11:11:44  2019-05-03 11:14:36           0.744363   \n",
       "3    1  2019-05-03 11:18:14  2019-05-03 11:24:19           1.659363   \n",
       "4    1  2019-05-03 11:26:09  2019-05-03 11:28:37           0.692755   \n",
       "\n",
       "   Реактивная мощность  \n",
       "0             0.687084  \n",
       "1             0.520285  \n",
       "2             0.498805  \n",
       "3             1.062669  \n",
       "4             0.414397  "
      ]
     },
     "execution_count": 3,
     "metadata": {},
     "output_type": "execute_result"
    }
   ],
   "source": [
    "data_arc.head(5)"
   ]
  },
  {
   "cell_type": "markdown",
   "metadata": {},
   "source": [
    "Просмотрел DS, первое что сделаю это переименую столбцы."
   ]
  },
  {
   "cell_type": "code",
   "execution_count": 4,
   "metadata": {},
   "outputs": [],
   "source": [
    "data_arc.rename(columns = {'key':'key',\n",
    "                            'Начало нагрева дугой':'arc_start',\n",
    "                            'Конец нагрева дугой':'arc_stop',\n",
    "                            'Активная мощность':'act_power',\n",
    "                            'Реактивная мощность':'react_power'\n",
    "                            }, inplace = True)"
   ]
  },
  {
   "cell_type": "markdown",
   "metadata": {},
   "source": [
    "Переименовал столбцы."
   ]
  },
  {
   "cell_type": "code",
   "execution_count": 5,
   "metadata": {
    "scrolled": true
   },
   "outputs": [
    {
     "data": {
      "text/html": [
       "<div>\n",
       "<style scoped>\n",
       "    .dataframe tbody tr th:only-of-type {\n",
       "        vertical-align: middle;\n",
       "    }\n",
       "\n",
       "    .dataframe tbody tr th {\n",
       "        vertical-align: top;\n",
       "    }\n",
       "\n",
       "    .dataframe thead th {\n",
       "        text-align: right;\n",
       "    }\n",
       "</style>\n",
       "<table border=\"1\" class=\"dataframe\">\n",
       "  <thead>\n",
       "    <tr style=\"text-align: right;\">\n",
       "      <th></th>\n",
       "      <th>key</th>\n",
       "      <th>arc_start</th>\n",
       "      <th>arc_stop</th>\n",
       "      <th>act_power</th>\n",
       "      <th>react_power</th>\n",
       "    </tr>\n",
       "  </thead>\n",
       "  <tbody>\n",
       "    <tr>\n",
       "      <th>0</th>\n",
       "      <td>1</td>\n",
       "      <td>2019-05-03 11:02:14</td>\n",
       "      <td>2019-05-03 11:06:02</td>\n",
       "      <td>0.976059</td>\n",
       "      <td>0.687084</td>\n",
       "    </tr>\n",
       "    <tr>\n",
       "      <th>1</th>\n",
       "      <td>1</td>\n",
       "      <td>2019-05-03 11:07:28</td>\n",
       "      <td>2019-05-03 11:10:33</td>\n",
       "      <td>0.805607</td>\n",
       "      <td>0.520285</td>\n",
       "    </tr>\n",
       "    <tr>\n",
       "      <th>2</th>\n",
       "      <td>1</td>\n",
       "      <td>2019-05-03 11:11:44</td>\n",
       "      <td>2019-05-03 11:14:36</td>\n",
       "      <td>0.744363</td>\n",
       "      <td>0.498805</td>\n",
       "    </tr>\n",
       "    <tr>\n",
       "      <th>3</th>\n",
       "      <td>1</td>\n",
       "      <td>2019-05-03 11:18:14</td>\n",
       "      <td>2019-05-03 11:24:19</td>\n",
       "      <td>1.659363</td>\n",
       "      <td>1.062669</td>\n",
       "    </tr>\n",
       "    <tr>\n",
       "      <th>4</th>\n",
       "      <td>1</td>\n",
       "      <td>2019-05-03 11:26:09</td>\n",
       "      <td>2019-05-03 11:28:37</td>\n",
       "      <td>0.692755</td>\n",
       "      <td>0.414397</td>\n",
       "    </tr>\n",
       "  </tbody>\n",
       "</table>\n",
       "</div>"
      ],
      "text/plain": [
       "   key            arc_start             arc_stop  act_power  react_power\n",
       "0    1  2019-05-03 11:02:14  2019-05-03 11:06:02   0.976059     0.687084\n",
       "1    1  2019-05-03 11:07:28  2019-05-03 11:10:33   0.805607     0.520285\n",
       "2    1  2019-05-03 11:11:44  2019-05-03 11:14:36   0.744363     0.498805\n",
       "3    1  2019-05-03 11:18:14  2019-05-03 11:24:19   1.659363     1.062669\n",
       "4    1  2019-05-03 11:26:09  2019-05-03 11:28:37   0.692755     0.414397"
      ]
     },
     "execution_count": 5,
     "metadata": {},
     "output_type": "execute_result"
    }
   ],
   "source": [
    "data_arc.head(5)"
   ]
  },
  {
   "cell_type": "markdown",
   "metadata": {},
   "source": [
    "Проверил, что изменения применились."
   ]
  },
  {
   "cell_type": "code",
   "execution_count": 6,
   "metadata": {},
   "outputs": [
    {
     "name": "stdout",
     "output_type": "stream",
     "text": [
      "<class 'pandas.core.frame.DataFrame'>\n",
      "RangeIndex: 14876 entries, 0 to 14875\n",
      "Data columns (total 5 columns):\n",
      " #   Column       Non-Null Count  Dtype  \n",
      "---  ------       --------------  -----  \n",
      " 0   key          14876 non-null  int64  \n",
      " 1   arc_start    14876 non-null  object \n",
      " 2   arc_stop     14876 non-null  object \n",
      " 3   act_power    14876 non-null  float64\n",
      " 4   react_power  14876 non-null  float64\n",
      "dtypes: float64(2), int64(1), object(2)\n",
      "memory usage: 581.2+ KB\n"
     ]
    }
   ],
   "source": [
    "data_arc.info()"
   ]
  },
  {
   "cell_type": "markdown",
   "metadata": {},
   "source": [
    "Вывел основную информацию о DS с помощью метода info(), обнаружил, что дата в arc_start и arc_stop хранится в формате object."
   ]
  },
  {
   "cell_type": "code",
   "execution_count": 7,
   "metadata": {},
   "outputs": [],
   "source": [
    "data_arc['arc_start'] = pd.to_datetime(data_arc['arc_start'], format='%Y-%m-%dT%H:%M:%S')\n",
    "data_arc['arc_stop'] = pd.to_datetime(data_arc['arc_stop'], format='%Y-%m-%dT%H:%M:%S')"
   ]
  },
  {
   "cell_type": "markdown",
   "metadata": {},
   "source": [
    "Изменил типа данных в столбцах и преобразовал значение функцией pd.to_datetime."
   ]
  },
  {
   "cell_type": "code",
   "execution_count": 8,
   "metadata": {
    "scrolled": true
   },
   "outputs": [
    {
     "name": "stdout",
     "output_type": "stream",
     "text": [
      "<class 'pandas.core.frame.DataFrame'>\n",
      "RangeIndex: 14876 entries, 0 to 14875\n",
      "Data columns (total 5 columns):\n",
      " #   Column       Non-Null Count  Dtype         \n",
      "---  ------       --------------  -----         \n",
      " 0   key          14876 non-null  int64         \n",
      " 1   arc_start    14876 non-null  datetime64[ns]\n",
      " 2   arc_stop     14876 non-null  datetime64[ns]\n",
      " 3   act_power    14876 non-null  float64       \n",
      " 4   react_power  14876 non-null  float64       \n",
      "dtypes: datetime64[ns](2), float64(2), int64(1)\n",
      "memory usage: 581.2 KB\n"
     ]
    }
   ],
   "source": [
    "data_arc.info()"
   ]
  },
  {
   "cell_type": "markdown",
   "metadata": {},
   "source": [
    "Проверил, что изменения применились."
   ]
  },
  {
   "cell_type": "code",
   "execution_count": 9,
   "metadata": {
    "scrolled": true
   },
   "outputs": [
    {
     "data": {
      "text/plain": [
       "key            0\n",
       "arc_start      0\n",
       "arc_stop       0\n",
       "act_power      0\n",
       "react_power    0\n",
       "dtype: int64"
      ]
     },
     "execution_count": 9,
     "metadata": {},
     "output_type": "execute_result"
    }
   ],
   "source": [
    "data_arc.isna().sum()"
   ]
  },
  {
   "cell_type": "markdown",
   "metadata": {},
   "source": [
    "Проверил количество пропущенных значений для каждого столбца, убедился в их отсутствии."
   ]
  },
  {
   "cell_type": "code",
   "execution_count": 10,
   "metadata": {
    "scrolled": false
   },
   "outputs": [
    {
     "data": {
      "text/plain": [
       "0"
      ]
     },
     "execution_count": 10,
     "metadata": {},
     "output_type": "execute_result"
    }
   ],
   "source": [
    "data_arc.duplicated().sum()"
   ]
  },
  {
   "cell_type": "markdown",
   "metadata": {},
   "source": [
    "Проверил количество явных дубликатов, убедился в их отсутствии."
   ]
  },
  {
   "cell_type": "code",
   "execution_count": 11,
   "metadata": {},
   "outputs": [
    {
     "data": {
      "text/plain": [
       "key             3214\n",
       "arc_start      14875\n",
       "arc_stop       14876\n",
       "act_power      14869\n",
       "react_power    14866\n",
       "dtype: int64"
      ]
     },
     "execution_count": 11,
     "metadata": {},
     "output_type": "execute_result"
    }
   ],
   "source": [
    "data_arc.nunique()"
   ]
  },
  {
   "cell_type": "markdown",
   "metadata": {},
   "source": [
    "Проверил количеств уникальных значений, по количеству уникальнх значений в столбце key делаю вывод, что партий было 3214."
   ]
  },
  {
   "cell_type": "code",
   "execution_count": 12,
   "metadata": {},
   "outputs": [
    {
     "data": {
      "text/plain": [
       "key            0\n",
       "arc_start      0\n",
       "arc_stop       0\n",
       "act_power      0\n",
       "react_power    0\n",
       "dtype: int64"
      ]
     },
     "execution_count": 12,
     "metadata": {},
     "output_type": "execute_result"
    }
   ],
   "source": [
    "data_arc.isnull().sum()"
   ]
  },
  {
   "cell_type": "markdown",
   "metadata": {},
   "source": [
    "Проверил количеств аномальных значений, убедился в их отсутствии."
   ]
  },
  {
   "cell_type": "code",
   "execution_count": 13,
   "metadata": {
    "scrolled": false
   },
   "outputs": [
    {
     "data": {
      "image/png": "[encoded data removed]",
      "text/plain": [
       "<Figure size 1080x1440 with 6 Axes>"
      ]
     },
     "metadata": {
      "needs_background": "light"
     },
     "output_type": "display_data"
    }
   ],
   "source": [
    "data_arc.hist(grid=True, figsize=(15, 20));"
   ]
  },
  {
   "cell_type": "markdown",
   "metadata": {},
   "source": [
    "Построил графики по всем признакам, вижу, что с реативной мощностью есть проблемы."
   ]
  },
  {
   "cell_type": "code",
   "execution_count": 14,
   "metadata": {},
   "outputs": [
    {
     "data": {
      "image/png": "[encoded data removed]",
      "text/plain": [
       "<Figure size 1080x576 with 1 Axes>"
      ]
     },
     "metadata": {
      "needs_background": "light"
     },
     "output_type": "display_data"
    }
   ],
   "source": [
    "data_arc['arc_start'].hist(grid=True, figsize=FIGSIZE)\n",
    "plt.xlabel('Дата', fontsize = 16)\n",
    "plt.ylabel('Мощность', fontsize = 16)\n",
    "plt.title('Реактивная мощность', fontsize = 16)\n",
    "plt.show()"
   ]
  },
  {
   "cell_type": "code",
   "execution_count": 15,
   "metadata": {},
   "outputs": [
    {
     "data": {
      "text/html": [
       "<div>\n",
       "<style scoped>\n",
       "    .dataframe tbody tr th:only-of-type {\n",
       "        vertical-align: middle;\n",
       "    }\n",
       "\n",
       "    .dataframe tbody tr th {\n",
       "        vertical-align: top;\n",
       "    }\n",
       "\n",
       "    .dataframe thead th {\n",
       "        text-align: right;\n",
       "    }\n",
       "</style>\n",
       "<table border=\"1\" class=\"dataframe\">\n",
       "  <thead>\n",
       "    <tr style=\"text-align: right;\">\n",
       "      <th></th>\n",
       "      <th>key</th>\n",
       "      <th>act_power</th>\n",
       "      <th>react_power</th>\n",
       "    </tr>\n",
       "  </thead>\n",
       "  <tbody>\n",
       "    <tr>\n",
       "      <th>count</th>\n",
       "      <td>14876.000000</td>\n",
       "      <td>14876.000000</td>\n",
       "      <td>14876.000000</td>\n",
       "    </tr>\n",
       "    <tr>\n",
       "      <th>mean</th>\n",
       "      <td>1615.220422</td>\n",
       "      <td>0.670441</td>\n",
       "      <td>0.452592</td>\n",
       "    </tr>\n",
       "    <tr>\n",
       "      <th>std</th>\n",
       "      <td>934.571502</td>\n",
       "      <td>0.408159</td>\n",
       "      <td>5.878702</td>\n",
       "    </tr>\n",
       "    <tr>\n",
       "      <th>min</th>\n",
       "      <td>1.000000</td>\n",
       "      <td>0.030002</td>\n",
       "      <td>-715.504924</td>\n",
       "    </tr>\n",
       "    <tr>\n",
       "      <th>25%</th>\n",
       "      <td>806.000000</td>\n",
       "      <td>0.395297</td>\n",
       "      <td>0.290991</td>\n",
       "    </tr>\n",
       "    <tr>\n",
       "      <th>50%</th>\n",
       "      <td>1617.000000</td>\n",
       "      <td>0.555517</td>\n",
       "      <td>0.415962</td>\n",
       "    </tr>\n",
       "    <tr>\n",
       "      <th>75%</th>\n",
       "      <td>2429.000000</td>\n",
       "      <td>0.857034</td>\n",
       "      <td>0.637371</td>\n",
       "    </tr>\n",
       "    <tr>\n",
       "      <th>max</th>\n",
       "      <td>3241.000000</td>\n",
       "      <td>3.731596</td>\n",
       "      <td>2.676388</td>\n",
       "    </tr>\n",
       "  </tbody>\n",
       "</table>\n",
       "</div>"
      ],
      "text/plain": [
       "                key     act_power   react_power\n",
       "count  14876.000000  14876.000000  14876.000000\n",
       "mean    1615.220422      0.670441      0.452592\n",
       "std      934.571502      0.408159      5.878702\n",
       "min        1.000000      0.030002   -715.504924\n",
       "25%      806.000000      0.395297      0.290991\n",
       "50%     1617.000000      0.555517      0.415962\n",
       "75%     2429.000000      0.857034      0.637371\n",
       "max     3241.000000      3.731596      2.676388"
      ]
     },
     "execution_count": 15,
     "metadata": {},
     "output_type": "execute_result"
    }
   ],
   "source": [
    "data_arc.describe()"
   ]
  },
  {
   "cell_type": "markdown",
   "metadata": {},
   "source": [
    "Делаю оценку DS, вижу, что минимальное значение реативной мощности отрицательное. Ниже попробую предобработать данный признак."
   ]
  },
  {
   "cell_type": "code",
   "execution_count": 16,
   "metadata": {},
   "outputs": [],
   "source": [
    "data_arc = data_arc[data_arc['react_power'] >= 0]"
   ]
  },
  {
   "cell_type": "markdown",
   "metadata": {},
   "source": [
    "Усек все значения меньше 0."
   ]
  },
  {
   "cell_type": "code",
   "execution_count": 17,
   "metadata": {
    "scrolled": true
   },
   "outputs": [
    {
     "data": {
      "text/html": [
       "<div>\n",
       "<style scoped>\n",
       "    .dataframe tbody tr th:only-of-type {\n",
       "        vertical-align: middle;\n",
       "    }\n",
       "\n",
       "    .dataframe tbody tr th {\n",
       "        vertical-align: top;\n",
       "    }\n",
       "\n",
       "    .dataframe thead th {\n",
       "        text-align: right;\n",
       "    }\n",
       "</style>\n",
       "<table border=\"1\" class=\"dataframe\">\n",
       "  <thead>\n",
       "    <tr style=\"text-align: right;\">\n",
       "      <th></th>\n",
       "      <th>key</th>\n",
       "      <th>act_power</th>\n",
       "      <th>react_power</th>\n",
       "    </tr>\n",
       "  </thead>\n",
       "  <tbody>\n",
       "    <tr>\n",
       "      <th>count</th>\n",
       "      <td>14875.000000</td>\n",
       "      <td>14875.000000</td>\n",
       "      <td>14875.000000</td>\n",
       "    </tr>\n",
       "    <tr>\n",
       "      <th>mean</th>\n",
       "      <td>1615.186756</td>\n",
       "      <td>0.670453</td>\n",
       "      <td>0.500723</td>\n",
       "    </tr>\n",
       "    <tr>\n",
       "      <th>std</th>\n",
       "      <td>934.593897</td>\n",
       "      <td>0.408170</td>\n",
       "      <td>0.310880</td>\n",
       "    </tr>\n",
       "    <tr>\n",
       "      <th>min</th>\n",
       "      <td>1.000000</td>\n",
       "      <td>0.030002</td>\n",
       "      <td>0.020806</td>\n",
       "    </tr>\n",
       "    <tr>\n",
       "      <th>25%</th>\n",
       "      <td>806.000000</td>\n",
       "      <td>0.395295</td>\n",
       "      <td>0.291003</td>\n",
       "    </tr>\n",
       "    <tr>\n",
       "      <th>50%</th>\n",
       "      <td>1617.000000</td>\n",
       "      <td>0.555565</td>\n",
       "      <td>0.415984</td>\n",
       "    </tr>\n",
       "    <tr>\n",
       "      <th>75%</th>\n",
       "      <td>2429.000000</td>\n",
       "      <td>0.857049</td>\n",
       "      <td>0.637403</td>\n",
       "    </tr>\n",
       "    <tr>\n",
       "      <th>max</th>\n",
       "      <td>3241.000000</td>\n",
       "      <td>3.731596</td>\n",
       "      <td>2.676388</td>\n",
       "    </tr>\n",
       "  </tbody>\n",
       "</table>\n",
       "</div>"
      ],
      "text/plain": [
       "                key     act_power   react_power\n",
       "count  14875.000000  14875.000000  14875.000000\n",
       "mean    1615.186756      0.670453      0.500723\n",
       "std      934.593897      0.408170      0.310880\n",
       "min        1.000000      0.030002      0.020806\n",
       "25%      806.000000      0.395295      0.291003\n",
       "50%     1617.000000      0.555565      0.415984\n",
       "75%     2429.000000      0.857049      0.637403\n",
       "max     3241.000000      3.731596      2.676388"
      ]
     },
     "execution_count": 17,
     "metadata": {},
     "output_type": "execute_result"
    }
   ],
   "source": [
    "data_arc.describe()"
   ]
  },
  {
   "cell_type": "markdown",
   "metadata": {},
   "source": [
    "Повторно проверяю DS, значения -715 больше нет."
   ]
  },
  {
   "cell_type": "code",
   "execution_count": 18,
   "metadata": {},
   "outputs": [
    {
     "data": {
      "image/png": "[encoded data removed]",
      "text/plain": [
       "<Figure size 1080x576 with 1 Axes>"
      ]
     },
     "metadata": {
      "needs_background": "light"
     },
     "output_type": "display_data"
    }
   ],
   "source": [
    "data_arc['react_power'].hist(grid=True, figsize=FIGSIZE)\n",
    "plt.xlabel('Дата', fontsize = 16)\n",
    "plt.ylabel('Мощность', fontsize = 16)\n",
    "plt.title('Реактивная мощность', fontsize = 16)\n",
    "plt.show()"
   ]
  },
  {
   "cell_type": "markdown",
   "metadata": {},
   "source": [
    "Построил отдельно график распределения реактивной мощности, теперь распределение выглядит нормально."
   ]
  },
  {
   "cell_type": "code",
   "execution_count": 19,
   "metadata": {
    "scrolled": true
   },
   "outputs": [
    {
     "name": "stdout",
     "output_type": "stream",
     "text": [
      "0.9631819131519802\n"
     ]
    }
   ],
   "source": [
    "print(data_arc['act_power'].corr(data_arc['react_power']))"
   ]
  },
  {
   "cell_type": "markdown",
   "metadata": {},
   "source": [
    "Проверил кореляцию между активной и реактивной мощностью, кореляция высокая, такие параметры буду негативно сказываться на обучении моделей."
   ]
  },
  {
   "cell_type": "markdown",
   "metadata": {},
   "source": [
    "Имея в DS данные по активной и реактивной мощности, я ввожу дополнительный параметр Полная мощность. Формула для расчета приведена ниже:"
   ]
  },
  {
   "cell_type": "markdown",
   "metadata": {},
   "source": [
    "$$ S=\\sqrt{P^2+Q^2} $$"
   ]
  },
  {
   "cell_type": "markdown",
   "metadata": {},
   "source": [
    "$P$ — активная мощность, $Q$ — реактивная мощность"
   ]
  },
  {
   "cell_type": "code",
   "execution_count": 20,
   "metadata": {},
   "outputs": [],
   "source": [
    "def s (row):\n",
    "    s = math.sqrt(row['act_power']**2 + row['react_power']**2)\n",
    "    return s"
   ]
  },
  {
   "cell_type": "markdown",
   "metadata": {},
   "source": [
    "Подготовил функцию для расчета полной мощности."
   ]
  },
  {
   "cell_type": "code",
   "execution_count": 21,
   "metadata": {},
   "outputs": [],
   "source": [
    "data_arc['full_power'] = data_arc.apply(s, axis=1)"
   ]
  },
  {
   "cell_type": "markdown",
   "metadata": {},
   "source": [
    "Вызвал функцию S."
   ]
  },
  {
   "cell_type": "code",
   "execution_count": 22,
   "metadata": {
    "scrolled": true
   },
   "outputs": [
    {
     "data": {
      "text/html": [
       "<div>\n",
       "<style scoped>\n",
       "    .dataframe tbody tr th:only-of-type {\n",
       "        vertical-align: middle;\n",
       "    }\n",
       "\n",
       "    .dataframe tbody tr th {\n",
       "        vertical-align: top;\n",
       "    }\n",
       "\n",
       "    .dataframe thead th {\n",
       "        text-align: right;\n",
       "    }\n",
       "</style>\n",
       "<table border=\"1\" class=\"dataframe\">\n",
       "  <thead>\n",
       "    <tr style=\"text-align: right;\">\n",
       "      <th></th>\n",
       "      <th>key</th>\n",
       "      <th>arc_start</th>\n",
       "      <th>arc_stop</th>\n",
       "      <th>act_power</th>\n",
       "      <th>react_power</th>\n",
       "      <th>full_power</th>\n",
       "    </tr>\n",
       "  </thead>\n",
       "  <tbody>\n",
       "    <tr>\n",
       "      <th>0</th>\n",
       "      <td>1</td>\n",
       "      <td>2019-05-03 11:02:14</td>\n",
       "      <td>2019-05-03 11:06:02</td>\n",
       "      <td>0.976059</td>\n",
       "      <td>0.687084</td>\n",
       "      <td>1.193639</td>\n",
       "    </tr>\n",
       "    <tr>\n",
       "      <th>1</th>\n",
       "      <td>1</td>\n",
       "      <td>2019-05-03 11:07:28</td>\n",
       "      <td>2019-05-03 11:10:33</td>\n",
       "      <td>0.805607</td>\n",
       "      <td>0.520285</td>\n",
       "      <td>0.959010</td>\n",
       "    </tr>\n",
       "    <tr>\n",
       "      <th>2</th>\n",
       "      <td>1</td>\n",
       "      <td>2019-05-03 11:11:44</td>\n",
       "      <td>2019-05-03 11:14:36</td>\n",
       "      <td>0.744363</td>\n",
       "      <td>0.498805</td>\n",
       "      <td>0.896038</td>\n",
       "    </tr>\n",
       "    <tr>\n",
       "      <th>3</th>\n",
       "      <td>1</td>\n",
       "      <td>2019-05-03 11:18:14</td>\n",
       "      <td>2019-05-03 11:24:19</td>\n",
       "      <td>1.659363</td>\n",
       "      <td>1.062669</td>\n",
       "      <td>1.970470</td>\n",
       "    </tr>\n",
       "    <tr>\n",
       "      <th>4</th>\n",
       "      <td>1</td>\n",
       "      <td>2019-05-03 11:26:09</td>\n",
       "      <td>2019-05-03 11:28:37</td>\n",
       "      <td>0.692755</td>\n",
       "      <td>0.414397</td>\n",
       "      <td>0.807239</td>\n",
       "    </tr>\n",
       "  </tbody>\n",
       "</table>\n",
       "</div>"
      ],
      "text/plain": [
       "   key           arc_start            arc_stop  act_power  react_power  \\\n",
       "0    1 2019-05-03 11:02:14 2019-05-03 11:06:02   0.976059     0.687084   \n",
       "1    1 2019-05-03 11:07:28 2019-05-03 11:10:33   0.805607     0.520285   \n",
       "2    1 2019-05-03 11:11:44 2019-05-03 11:14:36   0.744363     0.498805   \n",
       "3    1 2019-05-03 11:18:14 2019-05-03 11:24:19   1.659363     1.062669   \n",
       "4    1 2019-05-03 11:26:09 2019-05-03 11:28:37   0.692755     0.414397   \n",
       "\n",
       "   full_power  \n",
       "0    1.193639  \n",
       "1    0.959010  \n",
       "2    0.896038  \n",
       "3    1.970470  \n",
       "4    0.807239  "
      ]
     },
     "execution_count": 22,
     "metadata": {},
     "output_type": "execute_result"
    }
   ],
   "source": [
    "data_arc.head(5)"
   ]
  },
  {
   "cell_type": "markdown",
   "metadata": {},
   "source": [
    "Проверил, что добавился новый столбец."
   ]
  },
  {
   "cell_type": "code",
   "execution_count": 23,
   "metadata": {},
   "outputs": [],
   "source": [
    "data_arc = data_arc.groupby(by = 'key', as_index = False).sum()"
   ]
  },
  {
   "cell_type": "markdown",
   "metadata": {},
   "source": [
    "Сгруппировал DS по ключу key."
   ]
  },
  {
   "cell_type": "code",
   "execution_count": 24,
   "metadata": {
    "scrolled": false
   },
   "outputs": [
    {
     "data": {
      "text/html": [
       "<div>\n",
       "<style scoped>\n",
       "    .dataframe tbody tr th:only-of-type {\n",
       "        vertical-align: middle;\n",
       "    }\n",
       "\n",
       "    .dataframe tbody tr th {\n",
       "        vertical-align: top;\n",
       "    }\n",
       "\n",
       "    .dataframe thead th {\n",
       "        text-align: right;\n",
       "    }\n",
       "</style>\n",
       "<table border=\"1\" class=\"dataframe\">\n",
       "  <thead>\n",
       "    <tr style=\"text-align: right;\">\n",
       "      <th></th>\n",
       "      <th>key</th>\n",
       "      <th>act_power</th>\n",
       "      <th>react_power</th>\n",
       "      <th>full_power</th>\n",
       "    </tr>\n",
       "  </thead>\n",
       "  <tbody>\n",
       "    <tr>\n",
       "      <th>0</th>\n",
       "      <td>1</td>\n",
       "      <td>4.878147</td>\n",
       "      <td>3.183241</td>\n",
       "      <td>5.826395</td>\n",
       "    </tr>\n",
       "    <tr>\n",
       "      <th>1</th>\n",
       "      <td>2</td>\n",
       "      <td>3.052598</td>\n",
       "      <td>1.998112</td>\n",
       "      <td>3.649216</td>\n",
       "    </tr>\n",
       "    <tr>\n",
       "      <th>2</th>\n",
       "      <td>3</td>\n",
       "      <td>2.525882</td>\n",
       "      <td>1.599076</td>\n",
       "      <td>2.989534</td>\n",
       "    </tr>\n",
       "    <tr>\n",
       "      <th>3</th>\n",
       "      <td>4</td>\n",
       "      <td>3.209250</td>\n",
       "      <td>2.060298</td>\n",
       "      <td>3.814962</td>\n",
       "    </tr>\n",
       "    <tr>\n",
       "      <th>4</th>\n",
       "      <td>5</td>\n",
       "      <td>3.347173</td>\n",
       "      <td>2.252643</td>\n",
       "      <td>4.035758</td>\n",
       "    </tr>\n",
       "  </tbody>\n",
       "</table>\n",
       "</div>"
      ],
      "text/plain": [
       "   key  act_power  react_power  full_power\n",
       "0    1   4.878147     3.183241    5.826395\n",
       "1    2   3.052598     1.998112    3.649216\n",
       "2    3   2.525882     1.599076    2.989534\n",
       "3    4   3.209250     2.060298    3.814962\n",
       "4    5   3.347173     2.252643    4.035758"
      ]
     },
     "execution_count": 24,
     "metadata": {},
     "output_type": "execute_result"
    }
   ],
   "source": [
    "data_arc.head(5)"
   ]
  },
  {
   "cell_type": "markdown",
   "metadata": {},
   "source": [
    "Проверил, что изменения применились."
   ]
  },
  {
   "cell_type": "markdown",
   "metadata": {},
   "source": [
    "### Вывод - data_arc"
   ]
  },
  {
   "cell_type": "markdown",
   "metadata": {},
   "source": [
    "В данном разделе я произвел анализ DS data_arc, в ходе анализа я:\n",
    "- загрузил DS data_arc;\n",
    "- переименовал столбцы;\n",
    "- проверил кол-во пропусков, пропусков не оказалось;\n",
    "- проверил кол-во дубликатов, дубликатов не оказалось;\n",
    "- проверил кол-во уникальных значений;\n",
    "- скорректировал выбросы по реактивной мощности;\n",
    "- построил графики параметров и убедился в том, что данные распределены нормально;\n",
    "- проверил кореляцию между активной и реативной мощностью;\n",
    "- подготовил функцию и ввел новый параметр в DS full_power.  \n",
    "В дальнейшем при объединение всех DS параметры act_power и react_power будут исключены."
   ]
  },
  {
   "cell_type": "markdown",
   "metadata": {},
   "source": [
    "### 1.2 data_bulk - данные о подаче сыпучих материалов (объём)"
   ]
  },
  {
   "cell_type": "code",
   "execution_count": 25,
   "metadata": {
    "scrolled": true
   },
   "outputs": [
    {
     "data": {
      "text/html": [
       "<div>\n",
       "<style scoped>\n",
       "    .dataframe tbody tr th:only-of-type {\n",
       "        vertical-align: middle;\n",
       "    }\n",
       "\n",
       "    .dataframe tbody tr th {\n",
       "        vertical-align: top;\n",
       "    }\n",
       "\n",
       "    .dataframe thead th {\n",
       "        text-align: right;\n",
       "    }\n",
       "</style>\n",
       "<table border=\"1\" class=\"dataframe\">\n",
       "  <thead>\n",
       "    <tr style=\"text-align: right;\">\n",
       "      <th></th>\n",
       "      <th>key</th>\n",
       "      <th>Bulk 1</th>\n",
       "      <th>Bulk 2</th>\n",
       "      <th>Bulk 3</th>\n",
       "      <th>Bulk 4</th>\n",
       "      <th>Bulk 5</th>\n",
       "      <th>Bulk 6</th>\n",
       "      <th>Bulk 7</th>\n",
       "      <th>Bulk 8</th>\n",
       "      <th>Bulk 9</th>\n",
       "      <th>Bulk 10</th>\n",
       "      <th>Bulk 11</th>\n",
       "      <th>Bulk 12</th>\n",
       "      <th>Bulk 13</th>\n",
       "      <th>Bulk 14</th>\n",
       "      <th>Bulk 15</th>\n",
       "    </tr>\n",
       "  </thead>\n",
       "  <tbody>\n",
       "    <tr>\n",
       "      <th>0</th>\n",
       "      <td>1</td>\n",
       "      <td>NaN</td>\n",
       "      <td>NaN</td>\n",
       "      <td>NaN</td>\n",
       "      <td>43.0</td>\n",
       "      <td>NaN</td>\n",
       "      <td>NaN</td>\n",
       "      <td>NaN</td>\n",
       "      <td>NaN</td>\n",
       "      <td>NaN</td>\n",
       "      <td>NaN</td>\n",
       "      <td>NaN</td>\n",
       "      <td>206.0</td>\n",
       "      <td>NaN</td>\n",
       "      <td>150.0</td>\n",
       "      <td>154.0</td>\n",
       "    </tr>\n",
       "    <tr>\n",
       "      <th>1</th>\n",
       "      <td>2</td>\n",
       "      <td>NaN</td>\n",
       "      <td>NaN</td>\n",
       "      <td>NaN</td>\n",
       "      <td>73.0</td>\n",
       "      <td>NaN</td>\n",
       "      <td>NaN</td>\n",
       "      <td>NaN</td>\n",
       "      <td>NaN</td>\n",
       "      <td>NaN</td>\n",
       "      <td>NaN</td>\n",
       "      <td>NaN</td>\n",
       "      <td>206.0</td>\n",
       "      <td>NaN</td>\n",
       "      <td>149.0</td>\n",
       "      <td>154.0</td>\n",
       "    </tr>\n",
       "    <tr>\n",
       "      <th>2</th>\n",
       "      <td>3</td>\n",
       "      <td>NaN</td>\n",
       "      <td>NaN</td>\n",
       "      <td>NaN</td>\n",
       "      <td>34.0</td>\n",
       "      <td>NaN</td>\n",
       "      <td>NaN</td>\n",
       "      <td>NaN</td>\n",
       "      <td>NaN</td>\n",
       "      <td>NaN</td>\n",
       "      <td>NaN</td>\n",
       "      <td>NaN</td>\n",
       "      <td>205.0</td>\n",
       "      <td>NaN</td>\n",
       "      <td>152.0</td>\n",
       "      <td>153.0</td>\n",
       "    </tr>\n",
       "    <tr>\n",
       "      <th>3</th>\n",
       "      <td>4</td>\n",
       "      <td>NaN</td>\n",
       "      <td>NaN</td>\n",
       "      <td>NaN</td>\n",
       "      <td>81.0</td>\n",
       "      <td>NaN</td>\n",
       "      <td>NaN</td>\n",
       "      <td>NaN</td>\n",
       "      <td>NaN</td>\n",
       "      <td>NaN</td>\n",
       "      <td>NaN</td>\n",
       "      <td>NaN</td>\n",
       "      <td>207.0</td>\n",
       "      <td>NaN</td>\n",
       "      <td>153.0</td>\n",
       "      <td>154.0</td>\n",
       "    </tr>\n",
       "    <tr>\n",
       "      <th>4</th>\n",
       "      <td>5</td>\n",
       "      <td>NaN</td>\n",
       "      <td>NaN</td>\n",
       "      <td>NaN</td>\n",
       "      <td>78.0</td>\n",
       "      <td>NaN</td>\n",
       "      <td>NaN</td>\n",
       "      <td>NaN</td>\n",
       "      <td>NaN</td>\n",
       "      <td>NaN</td>\n",
       "      <td>NaN</td>\n",
       "      <td>NaN</td>\n",
       "      <td>203.0</td>\n",
       "      <td>NaN</td>\n",
       "      <td>151.0</td>\n",
       "      <td>152.0</td>\n",
       "    </tr>\n",
       "  </tbody>\n",
       "</table>\n",
       "</div>"
      ],
      "text/plain": [
       "   key  Bulk 1  Bulk 2  Bulk 3  Bulk 4  Bulk 5  Bulk 6  Bulk 7  Bulk 8  \\\n",
       "0    1     NaN     NaN     NaN    43.0     NaN     NaN     NaN     NaN   \n",
       "1    2     NaN     NaN     NaN    73.0     NaN     NaN     NaN     NaN   \n",
       "2    3     NaN     NaN     NaN    34.0     NaN     NaN     NaN     NaN   \n",
       "3    4     NaN     NaN     NaN    81.0     NaN     NaN     NaN     NaN   \n",
       "4    5     NaN     NaN     NaN    78.0     NaN     NaN     NaN     NaN   \n",
       "\n",
       "   Bulk 9  Bulk 10  Bulk 11  Bulk 12  Bulk 13  Bulk 14  Bulk 15  \n",
       "0     NaN      NaN      NaN    206.0      NaN    150.0    154.0  \n",
       "1     NaN      NaN      NaN    206.0      NaN    149.0    154.0  \n",
       "2     NaN      NaN      NaN    205.0      NaN    152.0    153.0  \n",
       "3     NaN      NaN      NaN    207.0      NaN    153.0    154.0  \n",
       "4     NaN      NaN      NaN    203.0      NaN    151.0    152.0  "
      ]
     },
     "execution_count": 25,
     "metadata": {},
     "output_type": "execute_result"
    }
   ],
   "source": [
    "data_bulk.head(5)"
   ]
  },
  {
   "cell_type": "markdown",
   "metadata": {},
   "source": [
    "Просмотрел DS, первое что сделаю это переименую столбцы."
   ]
  },
  {
   "cell_type": "code",
   "execution_count": 26,
   "metadata": {},
   "outputs": [],
   "source": [
    "data_bulk.rename(columns = {'Bulk 1':'bulk_1',\n",
    "                           'Bulk 2':'bulk_2',\n",
    "                           'Bulk 3':'bulk_3',\n",
    "                           'Bulk 4':'bulk_4',\n",
    "                           'Bulk 5':'bulk_5',\n",
    "                           'Bulk 6':'bulk_6',\n",
    "                           'Bulk 7':'bulk_7',\n",
    "                           'Bulk 8':'bulk_8',\n",
    "                           'Bulk 9':'bulk_9',\n",
    "                           'Bulk 10':'bulk_10',\n",
    "                           'Bulk 11':'bulk_11',\n",
    "                           'Bulk 12':'bulk_12',\n",
    "                           'Bulk 13':'bulk_13',\n",
    "                           'Bulk 14':'bulk_14',\n",
    "                           'Bulk 15':'bulk_15',\n",
    "                            }, inplace = True)"
   ]
  },
  {
   "cell_type": "markdown",
   "metadata": {},
   "source": [
    "Переименовал столбцы."
   ]
  },
  {
   "cell_type": "code",
   "execution_count": 27,
   "metadata": {},
   "outputs": [
    {
     "data": {
      "text/html": [
       "<div>\n",
       "<style scoped>\n",
       "    .dataframe tbody tr th:only-of-type {\n",
       "        vertical-align: middle;\n",
       "    }\n",
       "\n",
       "    .dataframe tbody tr th {\n",
       "        vertical-align: top;\n",
       "    }\n",
       "\n",
       "    .dataframe thead th {\n",
       "        text-align: right;\n",
       "    }\n",
       "</style>\n",
       "<table border=\"1\" class=\"dataframe\">\n",
       "  <thead>\n",
       "    <tr style=\"text-align: right;\">\n",
       "      <th></th>\n",
       "      <th>key</th>\n",
       "      <th>bulk_1</th>\n",
       "      <th>bulk_2</th>\n",
       "      <th>bulk_3</th>\n",
       "      <th>bulk_4</th>\n",
       "      <th>bulk_5</th>\n",
       "      <th>bulk_6</th>\n",
       "      <th>bulk_7</th>\n",
       "      <th>bulk_8</th>\n",
       "      <th>bulk_9</th>\n",
       "      <th>bulk_10</th>\n",
       "      <th>bulk_11</th>\n",
       "      <th>bulk_12</th>\n",
       "      <th>bulk_13</th>\n",
       "      <th>bulk_14</th>\n",
       "      <th>bulk_15</th>\n",
       "    </tr>\n",
       "  </thead>\n",
       "  <tbody>\n",
       "    <tr>\n",
       "      <th>0</th>\n",
       "      <td>1</td>\n",
       "      <td>NaN</td>\n",
       "      <td>NaN</td>\n",
       "      <td>NaN</td>\n",
       "      <td>43.0</td>\n",
       "      <td>NaN</td>\n",
       "      <td>NaN</td>\n",
       "      <td>NaN</td>\n",
       "      <td>NaN</td>\n",
       "      <td>NaN</td>\n",
       "      <td>NaN</td>\n",
       "      <td>NaN</td>\n",
       "      <td>206.0</td>\n",
       "      <td>NaN</td>\n",
       "      <td>150.0</td>\n",
       "      <td>154.0</td>\n",
       "    </tr>\n",
       "    <tr>\n",
       "      <th>1</th>\n",
       "      <td>2</td>\n",
       "      <td>NaN</td>\n",
       "      <td>NaN</td>\n",
       "      <td>NaN</td>\n",
       "      <td>73.0</td>\n",
       "      <td>NaN</td>\n",
       "      <td>NaN</td>\n",
       "      <td>NaN</td>\n",
       "      <td>NaN</td>\n",
       "      <td>NaN</td>\n",
       "      <td>NaN</td>\n",
       "      <td>NaN</td>\n",
       "      <td>206.0</td>\n",
       "      <td>NaN</td>\n",
       "      <td>149.0</td>\n",
       "      <td>154.0</td>\n",
       "    </tr>\n",
       "    <tr>\n",
       "      <th>2</th>\n",
       "      <td>3</td>\n",
       "      <td>NaN</td>\n",
       "      <td>NaN</td>\n",
       "      <td>NaN</td>\n",
       "      <td>34.0</td>\n",
       "      <td>NaN</td>\n",
       "      <td>NaN</td>\n",
       "      <td>NaN</td>\n",
       "      <td>NaN</td>\n",
       "      <td>NaN</td>\n",
       "      <td>NaN</td>\n",
       "      <td>NaN</td>\n",
       "      <td>205.0</td>\n",
       "      <td>NaN</td>\n",
       "      <td>152.0</td>\n",
       "      <td>153.0</td>\n",
       "    </tr>\n",
       "  </tbody>\n",
       "</table>\n",
       "</div>"
      ],
      "text/plain": [
       "   key  bulk_1  bulk_2  bulk_3  bulk_4  bulk_5  bulk_6  bulk_7  bulk_8  \\\n",
       "0    1     NaN     NaN     NaN    43.0     NaN     NaN     NaN     NaN   \n",
       "1    2     NaN     NaN     NaN    73.0     NaN     NaN     NaN     NaN   \n",
       "2    3     NaN     NaN     NaN    34.0     NaN     NaN     NaN     NaN   \n",
       "\n",
       "   bulk_9  bulk_10  bulk_11  bulk_12  bulk_13  bulk_14  bulk_15  \n",
       "0     NaN      NaN      NaN    206.0      NaN    150.0    154.0  \n",
       "1     NaN      NaN      NaN    206.0      NaN    149.0    154.0  \n",
       "2     NaN      NaN      NaN    205.0      NaN    152.0    153.0  "
      ]
     },
     "execution_count": 27,
     "metadata": {},
     "output_type": "execute_result"
    }
   ],
   "source": [
    "data_bulk.head(3)"
   ]
  },
  {
   "cell_type": "markdown",
   "metadata": {},
   "source": [
    "Проверил, что изменения применились. "
   ]
  },
  {
   "cell_type": "code",
   "execution_count": 28,
   "metadata": {},
   "outputs": [
    {
     "name": "stdout",
     "output_type": "stream",
     "text": [
      "<class 'pandas.core.frame.DataFrame'>\n",
      "RangeIndex: 3129 entries, 0 to 3128\n",
      "Data columns (total 16 columns):\n",
      " #   Column   Non-Null Count  Dtype  \n",
      "---  ------   --------------  -----  \n",
      " 0   key      3129 non-null   int64  \n",
      " 1   bulk_1   252 non-null    float64\n",
      " 2   bulk_2   22 non-null     float64\n",
      " 3   bulk_3   1298 non-null   float64\n",
      " 4   bulk_4   1014 non-null   float64\n",
      " 5   bulk_5   77 non-null     float64\n",
      " 6   bulk_6   576 non-null    float64\n",
      " 7   bulk_7   25 non-null     float64\n",
      " 8   bulk_8   1 non-null      float64\n",
      " 9   bulk_9   19 non-null     float64\n",
      " 10  bulk_10  176 non-null    float64\n",
      " 11  bulk_11  177 non-null    float64\n",
      " 12  bulk_12  2450 non-null   float64\n",
      " 13  bulk_13  18 non-null     float64\n",
      " 14  bulk_14  2806 non-null   float64\n",
      " 15  bulk_15  2248 non-null   float64\n",
      "dtypes: float64(15), int64(1)\n",
      "memory usage: 391.2 KB\n"
     ]
    }
   ],
   "source": [
    "data_bulk.info()"
   ]
  },
  {
   "cell_type": "markdown",
   "metadata": {},
   "source": [
    "Вывел основную информацию о DS с помощью метода info()."
   ]
  },
  {
   "cell_type": "code",
   "execution_count": 29,
   "metadata": {},
   "outputs": [
    {
     "data": {
      "text/plain": [
       "key           0\n",
       "bulk_1     2877\n",
       "bulk_2     3107\n",
       "bulk_3     1831\n",
       "bulk_4     2115\n",
       "bulk_5     3052\n",
       "bulk_6     2553\n",
       "bulk_7     3104\n",
       "bulk_8     3128\n",
       "bulk_9     3110\n",
       "bulk_10    2953\n",
       "bulk_11    2952\n",
       "bulk_12     679\n",
       "bulk_13    3111\n",
       "bulk_14     323\n",
       "bulk_15     881\n",
       "dtype: int64"
      ]
     },
     "execution_count": 29,
     "metadata": {},
     "output_type": "execute_result"
    }
   ],
   "source": [
    "data_bulk.isna().sum()"
   ]
  },
  {
   "cell_type": "markdown",
   "metadata": {},
   "source": [
    "Проверил количество пропущенных значений для каждого столбца, во всех столбцах кроме key присутствую пропуски в большом количестве."
   ]
  },
  {
   "cell_type": "code",
   "execution_count": 30,
   "metadata": {},
   "outputs": [
    {
     "data": {
      "text/plain": [
       "0"
      ]
     },
     "execution_count": 30,
     "metadata": {},
     "output_type": "execute_result"
    }
   ],
   "source": [
    "data_bulk.duplicated().sum()"
   ]
  },
  {
   "cell_type": "markdown",
   "metadata": {},
   "source": [
    "Проверил количество явных дубликатов, убедился в их отсутствии."
   ]
  },
  {
   "cell_type": "code",
   "execution_count": 31,
   "metadata": {},
   "outputs": [
    {
     "data": {
      "text/plain": [
       "key        3129\n",
       "bulk_1       47\n",
       "bulk_2       15\n",
       "bulk_3      278\n",
       "bulk_4      206\n",
       "bulk_5       55\n",
       "bulk_6      205\n",
       "bulk_7       25\n",
       "bulk_8        1\n",
       "bulk_9       10\n",
       "bulk_10      77\n",
       "bulk_11     101\n",
       "bulk_12     331\n",
       "bulk_13      14\n",
       "bulk_14     284\n",
       "bulk_15     156\n",
       "dtype: int64"
      ]
     },
     "execution_count": 31,
     "metadata": {},
     "output_type": "execute_result"
    }
   ],
   "source": [
    "data_bulk.nunique()"
   ]
  },
  {
   "cell_type": "markdown",
   "metadata": {},
   "source": [
    "Проверил количеств уникальных значений."
   ]
  },
  {
   "cell_type": "code",
   "execution_count": 32,
   "metadata": {},
   "outputs": [
    {
     "data": {
      "text/plain": [
       "key           0\n",
       "bulk_1     2877\n",
       "bulk_2     3107\n",
       "bulk_3     1831\n",
       "bulk_4     2115\n",
       "bulk_5     3052\n",
       "bulk_6     2553\n",
       "bulk_7     3104\n",
       "bulk_8     3128\n",
       "bulk_9     3110\n",
       "bulk_10    2953\n",
       "bulk_11    2952\n",
       "bulk_12     679\n",
       "bulk_13    3111\n",
       "bulk_14     323\n",
       "bulk_15     881\n",
       "dtype: int64"
      ]
     },
     "execution_count": 32,
     "metadata": {},
     "output_type": "execute_result"
    }
   ],
   "source": [
    "data_bulk.isnull().sum()"
   ]
  },
  {
   "cell_type": "markdown",
   "metadata": {},
   "source": [
    "Проверил количеств аномальных значений, увидел большое количество аномальных значений."
   ]
  },
  {
   "cell_type": "code",
   "execution_count": 33,
   "metadata": {
    "scrolled": false
   },
   "outputs": [
    {
     "data": {
      "image/png": "[encoded data removed]",
      "text/plain": [
       "<Figure size 1080x1440 with 16 Axes>"
      ]
     },
     "metadata": {
      "needs_background": "light"
     },
     "output_type": "display_data"
    }
   ],
   "source": [
    "data_bulk.hist(grid=True, figsize=(15, 20));"
   ]
  },
  {
   "cell_type": "markdown",
   "metadata": {},
   "source": [
    "Построил графики по всем признакам, вижу, что bulk_8 использовалась мало, скорее всего эти данные можно будет удалить в общем DS."
   ]
  },
  {
   "cell_type": "code",
   "execution_count": 34,
   "metadata": {},
   "outputs": [
    {
     "data": {
      "text/html": [
       "<div>\n",
       "<style scoped>\n",
       "    .dataframe tbody tr th:only-of-type {\n",
       "        vertical-align: middle;\n",
       "    }\n",
       "\n",
       "    .dataframe tbody tr th {\n",
       "        vertical-align: top;\n",
       "    }\n",
       "\n",
       "    .dataframe thead th {\n",
       "        text-align: right;\n",
       "    }\n",
       "</style>\n",
       "<table border=\"1\" class=\"dataframe\">\n",
       "  <thead>\n",
       "    <tr style=\"text-align: right;\">\n",
       "      <th></th>\n",
       "      <th>key</th>\n",
       "      <th>bulk_1</th>\n",
       "      <th>bulk_2</th>\n",
       "      <th>bulk_3</th>\n",
       "      <th>bulk_4</th>\n",
       "      <th>bulk_5</th>\n",
       "      <th>bulk_6</th>\n",
       "      <th>bulk_7</th>\n",
       "      <th>bulk_8</th>\n",
       "      <th>bulk_9</th>\n",
       "      <th>bulk_10</th>\n",
       "      <th>bulk_11</th>\n",
       "      <th>bulk_12</th>\n",
       "      <th>bulk_13</th>\n",
       "      <th>bulk_14</th>\n",
       "      <th>bulk_15</th>\n",
       "    </tr>\n",
       "  </thead>\n",
       "  <tbody>\n",
       "    <tr>\n",
       "      <th>count</th>\n",
       "      <td>3129.000000</td>\n",
       "      <td>252.000000</td>\n",
       "      <td>22.000000</td>\n",
       "      <td>1298.000000</td>\n",
       "      <td>1014.000000</td>\n",
       "      <td>77.000000</td>\n",
       "      <td>576.000000</td>\n",
       "      <td>25.000000</td>\n",
       "      <td>1.0</td>\n",
       "      <td>19.000000</td>\n",
       "      <td>176.000000</td>\n",
       "      <td>177.000000</td>\n",
       "      <td>2450.000000</td>\n",
       "      <td>18.000000</td>\n",
       "      <td>2806.000000</td>\n",
       "      <td>2248.000000</td>\n",
       "    </tr>\n",
       "    <tr>\n",
       "      <th>mean</th>\n",
       "      <td>1624.383509</td>\n",
       "      <td>39.242063</td>\n",
       "      <td>253.045455</td>\n",
       "      <td>113.879045</td>\n",
       "      <td>104.394477</td>\n",
       "      <td>107.025974</td>\n",
       "      <td>118.925347</td>\n",
       "      <td>305.600000</td>\n",
       "      <td>49.0</td>\n",
       "      <td>76.315789</td>\n",
       "      <td>83.284091</td>\n",
       "      <td>76.819209</td>\n",
       "      <td>260.471020</td>\n",
       "      <td>181.111111</td>\n",
       "      <td>170.284747</td>\n",
       "      <td>160.513345</td>\n",
       "    </tr>\n",
       "    <tr>\n",
       "      <th>std</th>\n",
       "      <td>933.337642</td>\n",
       "      <td>18.277654</td>\n",
       "      <td>21.180578</td>\n",
       "      <td>75.483494</td>\n",
       "      <td>48.184126</td>\n",
       "      <td>81.790646</td>\n",
       "      <td>72.057776</td>\n",
       "      <td>191.022904</td>\n",
       "      <td>NaN</td>\n",
       "      <td>21.720581</td>\n",
       "      <td>26.060347</td>\n",
       "      <td>59.655365</td>\n",
       "      <td>120.649269</td>\n",
       "      <td>46.088009</td>\n",
       "      <td>65.868652</td>\n",
       "      <td>51.765319</td>\n",
       "    </tr>\n",
       "    <tr>\n",
       "      <th>min</th>\n",
       "      <td>1.000000</td>\n",
       "      <td>10.000000</td>\n",
       "      <td>228.000000</td>\n",
       "      <td>6.000000</td>\n",
       "      <td>12.000000</td>\n",
       "      <td>11.000000</td>\n",
       "      <td>17.000000</td>\n",
       "      <td>47.000000</td>\n",
       "      <td>49.0</td>\n",
       "      <td>63.000000</td>\n",
       "      <td>24.000000</td>\n",
       "      <td>8.000000</td>\n",
       "      <td>53.000000</td>\n",
       "      <td>151.000000</td>\n",
       "      <td>16.000000</td>\n",
       "      <td>1.000000</td>\n",
       "    </tr>\n",
       "    <tr>\n",
       "      <th>25%</th>\n",
       "      <td>816.000000</td>\n",
       "      <td>27.000000</td>\n",
       "      <td>242.000000</td>\n",
       "      <td>58.000000</td>\n",
       "      <td>72.000000</td>\n",
       "      <td>70.000000</td>\n",
       "      <td>69.750000</td>\n",
       "      <td>155.000000</td>\n",
       "      <td>49.0</td>\n",
       "      <td>66.000000</td>\n",
       "      <td>64.000000</td>\n",
       "      <td>25.000000</td>\n",
       "      <td>204.000000</td>\n",
       "      <td>153.250000</td>\n",
       "      <td>119.000000</td>\n",
       "      <td>105.000000</td>\n",
       "    </tr>\n",
       "    <tr>\n",
       "      <th>50%</th>\n",
       "      <td>1622.000000</td>\n",
       "      <td>31.000000</td>\n",
       "      <td>251.500000</td>\n",
       "      <td>97.500000</td>\n",
       "      <td>102.000000</td>\n",
       "      <td>86.000000</td>\n",
       "      <td>100.000000</td>\n",
       "      <td>298.000000</td>\n",
       "      <td>49.0</td>\n",
       "      <td>68.000000</td>\n",
       "      <td>86.500000</td>\n",
       "      <td>64.000000</td>\n",
       "      <td>208.000000</td>\n",
       "      <td>155.500000</td>\n",
       "      <td>151.000000</td>\n",
       "      <td>160.000000</td>\n",
       "    </tr>\n",
       "    <tr>\n",
       "      <th>75%</th>\n",
       "      <td>2431.000000</td>\n",
       "      <td>46.000000</td>\n",
       "      <td>257.750000</td>\n",
       "      <td>152.000000</td>\n",
       "      <td>133.000000</td>\n",
       "      <td>132.000000</td>\n",
       "      <td>157.000000</td>\n",
       "      <td>406.000000</td>\n",
       "      <td>49.0</td>\n",
       "      <td>70.500000</td>\n",
       "      <td>102.000000</td>\n",
       "      <td>106.000000</td>\n",
       "      <td>316.000000</td>\n",
       "      <td>203.500000</td>\n",
       "      <td>205.750000</td>\n",
       "      <td>205.000000</td>\n",
       "    </tr>\n",
       "    <tr>\n",
       "      <th>max</th>\n",
       "      <td>3241.000000</td>\n",
       "      <td>185.000000</td>\n",
       "      <td>325.000000</td>\n",
       "      <td>454.000000</td>\n",
       "      <td>281.000000</td>\n",
       "      <td>603.000000</td>\n",
       "      <td>503.000000</td>\n",
       "      <td>772.000000</td>\n",
       "      <td>49.0</td>\n",
       "      <td>147.000000</td>\n",
       "      <td>159.000000</td>\n",
       "      <td>313.000000</td>\n",
       "      <td>1849.000000</td>\n",
       "      <td>305.000000</td>\n",
       "      <td>636.000000</td>\n",
       "      <td>405.000000</td>\n",
       "    </tr>\n",
       "  </tbody>\n",
       "</table>\n",
       "</div>"
      ],
      "text/plain": [
       "               key      bulk_1      bulk_2       bulk_3       bulk_4  \\\n",
       "count  3129.000000  252.000000   22.000000  1298.000000  1014.000000   \n",
       "mean   1624.383509   39.242063  253.045455   113.879045   104.394477   \n",
       "std     933.337642   18.277654   21.180578    75.483494    48.184126   \n",
       "min       1.000000   10.000000  228.000000     6.000000    12.000000   \n",
       "25%     816.000000   27.000000  242.000000    58.000000    72.000000   \n",
       "50%    1622.000000   31.000000  251.500000    97.500000   102.000000   \n",
       "75%    2431.000000   46.000000  257.750000   152.000000   133.000000   \n",
       "max    3241.000000  185.000000  325.000000   454.000000   281.000000   \n",
       "\n",
       "           bulk_5      bulk_6      bulk_7  bulk_8      bulk_9     bulk_10  \\\n",
       "count   77.000000  576.000000   25.000000     1.0   19.000000  176.000000   \n",
       "mean   107.025974  118.925347  305.600000    49.0   76.315789   83.284091   \n",
       "std     81.790646   72.057776  191.022904     NaN   21.720581   26.060347   \n",
       "min     11.000000   17.000000   47.000000    49.0   63.000000   24.000000   \n",
       "25%     70.000000   69.750000  155.000000    49.0   66.000000   64.000000   \n",
       "50%     86.000000  100.000000  298.000000    49.0   68.000000   86.500000   \n",
       "75%    132.000000  157.000000  406.000000    49.0   70.500000  102.000000   \n",
       "max    603.000000  503.000000  772.000000    49.0  147.000000  159.000000   \n",
       "\n",
       "          bulk_11      bulk_12     bulk_13      bulk_14      bulk_15  \n",
       "count  177.000000  2450.000000   18.000000  2806.000000  2248.000000  \n",
       "mean    76.819209   260.471020  181.111111   170.284747   160.513345  \n",
       "std     59.655365   120.649269   46.088009    65.868652    51.765319  \n",
       "min      8.000000    53.000000  151.000000    16.000000     1.000000  \n",
       "25%     25.000000   204.000000  153.250000   119.000000   105.000000  \n",
       "50%     64.000000   208.000000  155.500000   151.000000   160.000000  \n",
       "75%    106.000000   316.000000  203.500000   205.750000   205.000000  \n",
       "max    313.000000  1849.000000  305.000000   636.000000   405.000000  "
      ]
     },
     "execution_count": 34,
     "metadata": {},
     "output_type": "execute_result"
    }
   ],
   "source": [
    "data_bulk.describe()"
   ]
  },
  {
   "cell_type": "markdown",
   "metadata": {},
   "source": [
    "Делаю оценку DS."
   ]
  },
  {
   "cell_type": "markdown",
   "metadata": {},
   "source": [
    "### Вывод - data_bulk"
   ]
  },
  {
   "cell_type": "markdown",
   "metadata": {},
   "source": [
    "В данном разделе я произвел анализ DS data_bulk, в ходе анализа я:\n",
    "\n",
    "- загрузил DS data_bulk;\n",
    "- переименовал столбцы;\n",
    "- проверил кол-во пропусков, пропусков оказалось много;\n",
    "- проверил кол-во дубликатов, дубликатов оказалось много;\n",
    "- проверил кол-во уникальных значений;\n",
    "- построил графики параметров.  \n",
    "\n",
    "По результату проведенного анализа я делаю вывод, что bulk_1 и т.д. это разные виды сыпучих материалов, которые добавляются в сплав в разном количестве, именно из за этого данные распределены неравномерно. Скорее всего это связано с особенностью технологического процесса и дополнительной предобработки не требуется."
   ]
  },
  {
   "cell_type": "markdown",
   "metadata": {},
   "source": [
    "### 1.3 data_bulk_time - данные о подаче сыпучих материалов (время)"
   ]
  },
  {
   "cell_type": "code",
   "execution_count": 35,
   "metadata": {
    "scrolled": true
   },
   "outputs": [
    {
     "data": {
      "text/html": [
       "<div>\n",
       "<style scoped>\n",
       "    .dataframe tbody tr th:only-of-type {\n",
       "        vertical-align: middle;\n",
       "    }\n",
       "\n",
       "    .dataframe tbody tr th {\n",
       "        vertical-align: top;\n",
       "    }\n",
       "\n",
       "    .dataframe thead th {\n",
       "        text-align: right;\n",
       "    }\n",
       "</style>\n",
       "<table border=\"1\" class=\"dataframe\">\n",
       "  <thead>\n",
       "    <tr style=\"text-align: right;\">\n",
       "      <th></th>\n",
       "      <th>key</th>\n",
       "      <th>Bulk 1</th>\n",
       "      <th>Bulk 2</th>\n",
       "      <th>Bulk 3</th>\n",
       "      <th>Bulk 4</th>\n",
       "      <th>Bulk 5</th>\n",
       "      <th>Bulk 6</th>\n",
       "      <th>Bulk 7</th>\n",
       "      <th>Bulk 8</th>\n",
       "      <th>Bulk 9</th>\n",
       "      <th>Bulk 10</th>\n",
       "      <th>Bulk 11</th>\n",
       "      <th>Bulk 12</th>\n",
       "      <th>Bulk 13</th>\n",
       "      <th>Bulk 14</th>\n",
       "      <th>Bulk 15</th>\n",
       "    </tr>\n",
       "  </thead>\n",
       "  <tbody>\n",
       "    <tr>\n",
       "      <th>0</th>\n",
       "      <td>1</td>\n",
       "      <td>NaN</td>\n",
       "      <td>NaN</td>\n",
       "      <td>NaN</td>\n",
       "      <td>2019-05-03 11:21:30</td>\n",
       "      <td>NaN</td>\n",
       "      <td>NaN</td>\n",
       "      <td>NaN</td>\n",
       "      <td>NaN</td>\n",
       "      <td>NaN</td>\n",
       "      <td>NaN</td>\n",
       "      <td>NaN</td>\n",
       "      <td>2019-05-03 11:03:52</td>\n",
       "      <td>NaN</td>\n",
       "      <td>2019-05-03 11:03:52</td>\n",
       "      <td>2019-05-03 11:03:52</td>\n",
       "    </tr>\n",
       "    <tr>\n",
       "      <th>1</th>\n",
       "      <td>2</td>\n",
       "      <td>NaN</td>\n",
       "      <td>NaN</td>\n",
       "      <td>NaN</td>\n",
       "      <td>2019-05-03 11:46:38</td>\n",
       "      <td>NaN</td>\n",
       "      <td>NaN</td>\n",
       "      <td>NaN</td>\n",
       "      <td>NaN</td>\n",
       "      <td>NaN</td>\n",
       "      <td>NaN</td>\n",
       "      <td>NaN</td>\n",
       "      <td>2019-05-03 11:40:20</td>\n",
       "      <td>NaN</td>\n",
       "      <td>2019-05-03 11:40:20</td>\n",
       "      <td>2019-05-03 11:40:20</td>\n",
       "    </tr>\n",
       "    <tr>\n",
       "      <th>2</th>\n",
       "      <td>3</td>\n",
       "      <td>NaN</td>\n",
       "      <td>NaN</td>\n",
       "      <td>NaN</td>\n",
       "      <td>2019-05-03 12:31:06</td>\n",
       "      <td>NaN</td>\n",
       "      <td>NaN</td>\n",
       "      <td>NaN</td>\n",
       "      <td>NaN</td>\n",
       "      <td>NaN</td>\n",
       "      <td>NaN</td>\n",
       "      <td>NaN</td>\n",
       "      <td>2019-05-03 12:09:40</td>\n",
       "      <td>NaN</td>\n",
       "      <td>2019-05-03 12:09:40</td>\n",
       "      <td>2019-05-03 12:09:40</td>\n",
       "    </tr>\n",
       "    <tr>\n",
       "      <th>3</th>\n",
       "      <td>4</td>\n",
       "      <td>NaN</td>\n",
       "      <td>NaN</td>\n",
       "      <td>NaN</td>\n",
       "      <td>2019-05-03 12:48:43</td>\n",
       "      <td>NaN</td>\n",
       "      <td>NaN</td>\n",
       "      <td>NaN</td>\n",
       "      <td>NaN</td>\n",
       "      <td>NaN</td>\n",
       "      <td>NaN</td>\n",
       "      <td>NaN</td>\n",
       "      <td>2019-05-03 12:41:24</td>\n",
       "      <td>NaN</td>\n",
       "      <td>2019-05-03 12:41:24</td>\n",
       "      <td>2019-05-03 12:41:24</td>\n",
       "    </tr>\n",
       "    <tr>\n",
       "      <th>4</th>\n",
       "      <td>5</td>\n",
       "      <td>NaN</td>\n",
       "      <td>NaN</td>\n",
       "      <td>NaN</td>\n",
       "      <td>2019-05-03 13:18:50</td>\n",
       "      <td>NaN</td>\n",
       "      <td>NaN</td>\n",
       "      <td>NaN</td>\n",
       "      <td>NaN</td>\n",
       "      <td>NaN</td>\n",
       "      <td>NaN</td>\n",
       "      <td>NaN</td>\n",
       "      <td>2019-05-03 13:12:56</td>\n",
       "      <td>NaN</td>\n",
       "      <td>2019-05-03 13:12:56</td>\n",
       "      <td>2019-05-03 13:12:56</td>\n",
       "    </tr>\n",
       "  </tbody>\n",
       "</table>\n",
       "</div>"
      ],
      "text/plain": [
       "   key Bulk 1 Bulk 2 Bulk 3               Bulk 4 Bulk 5 Bulk 6 Bulk 7 Bulk 8  \\\n",
       "0    1    NaN    NaN    NaN  2019-05-03 11:21:30    NaN    NaN    NaN    NaN   \n",
       "1    2    NaN    NaN    NaN  2019-05-03 11:46:38    NaN    NaN    NaN    NaN   \n",
       "2    3    NaN    NaN    NaN  2019-05-03 12:31:06    NaN    NaN    NaN    NaN   \n",
       "3    4    NaN    NaN    NaN  2019-05-03 12:48:43    NaN    NaN    NaN    NaN   \n",
       "4    5    NaN    NaN    NaN  2019-05-03 13:18:50    NaN    NaN    NaN    NaN   \n",
       "\n",
       "  Bulk 9 Bulk 10 Bulk 11              Bulk 12 Bulk 13              Bulk 14  \\\n",
       "0    NaN     NaN     NaN  2019-05-03 11:03:52     NaN  2019-05-03 11:03:52   \n",
       "1    NaN     NaN     NaN  2019-05-03 11:40:20     NaN  2019-05-03 11:40:20   \n",
       "2    NaN     NaN     NaN  2019-05-03 12:09:40     NaN  2019-05-03 12:09:40   \n",
       "3    NaN     NaN     NaN  2019-05-03 12:41:24     NaN  2019-05-03 12:41:24   \n",
       "4    NaN     NaN     NaN  2019-05-03 13:12:56     NaN  2019-05-03 13:12:56   \n",
       "\n",
       "               Bulk 15  \n",
       "0  2019-05-03 11:03:52  \n",
       "1  2019-05-03 11:40:20  \n",
       "2  2019-05-03 12:09:40  \n",
       "3  2019-05-03 12:41:24  \n",
       "4  2019-05-03 13:12:56  "
      ]
     },
     "execution_count": 35,
     "metadata": {},
     "output_type": "execute_result"
    }
   ],
   "source": [
    "data_bulk_time.head(5)"
   ]
  },
  {
   "cell_type": "markdown",
   "metadata": {},
   "source": [
    "Просмотрел DS, первое что сделаю это переименую столбцы."
   ]
  },
  {
   "cell_type": "code",
   "execution_count": 36,
   "metadata": {},
   "outputs": [],
   "source": [
    "data_bulk_time.rename(columns = {'Bulk 1':'bulk_1',\n",
    "                           'Bulk 2':'bulk_2',\n",
    "                           'Bulk 3':'bulk_3',\n",
    "                           'Bulk 4':'bulk_4',\n",
    "                           'Bulk 5':'bulk_5',\n",
    "                           'Bulk 6':'bulk_6',\n",
    "                           'Bulk 7':'bulk_7',\n",
    "                           'Bulk 8':'bulk_8',\n",
    "                           'Bulk 9':'bulk_9',\n",
    "                           'Bulk 10':'bulk_10',\n",
    "                           'Bulk 11':'bulk_11',\n",
    "                           'Bulk 12':'bulk_12',\n",
    "                           'Bulk 13':'bulk_13',\n",
    "                           'Bulk 14':'bulk_14',\n",
    "                           'Bulk 15':'bulk_15',\n",
    "                            }, inplace = True)"
   ]
  },
  {
   "cell_type": "markdown",
   "metadata": {},
   "source": [
    "Переименовал столбцы."
   ]
  },
  {
   "cell_type": "code",
   "execution_count": 37,
   "metadata": {},
   "outputs": [
    {
     "data": {
      "text/html": [
       "<div>\n",
       "<style scoped>\n",
       "    .dataframe tbody tr th:only-of-type {\n",
       "        vertical-align: middle;\n",
       "    }\n",
       "\n",
       "    .dataframe tbody tr th {\n",
       "        vertical-align: top;\n",
       "    }\n",
       "\n",
       "    .dataframe thead th {\n",
       "        text-align: right;\n",
       "    }\n",
       "</style>\n",
       "<table border=\"1\" class=\"dataframe\">\n",
       "  <thead>\n",
       "    <tr style=\"text-align: right;\">\n",
       "      <th></th>\n",
       "      <th>key</th>\n",
       "      <th>bulk_1</th>\n",
       "      <th>bulk_2</th>\n",
       "      <th>bulk_3</th>\n",
       "      <th>bulk_4</th>\n",
       "      <th>bulk_5</th>\n",
       "      <th>bulk_6</th>\n",
       "      <th>bulk_7</th>\n",
       "      <th>bulk_8</th>\n",
       "      <th>bulk_9</th>\n",
       "      <th>bulk_10</th>\n",
       "      <th>bulk_11</th>\n",
       "      <th>bulk_12</th>\n",
       "      <th>bulk_13</th>\n",
       "      <th>bulk_14</th>\n",
       "      <th>bulk_15</th>\n",
       "    </tr>\n",
       "  </thead>\n",
       "  <tbody>\n",
       "    <tr>\n",
       "      <th>0</th>\n",
       "      <td>1</td>\n",
       "      <td>NaN</td>\n",
       "      <td>NaN</td>\n",
       "      <td>NaN</td>\n",
       "      <td>2019-05-03 11:21:30</td>\n",
       "      <td>NaN</td>\n",
       "      <td>NaN</td>\n",
       "      <td>NaN</td>\n",
       "      <td>NaN</td>\n",
       "      <td>NaN</td>\n",
       "      <td>NaN</td>\n",
       "      <td>NaN</td>\n",
       "      <td>2019-05-03 11:03:52</td>\n",
       "      <td>NaN</td>\n",
       "      <td>2019-05-03 11:03:52</td>\n",
       "      <td>2019-05-03 11:03:52</td>\n",
       "    </tr>\n",
       "    <tr>\n",
       "      <th>1</th>\n",
       "      <td>2</td>\n",
       "      <td>NaN</td>\n",
       "      <td>NaN</td>\n",
       "      <td>NaN</td>\n",
       "      <td>2019-05-03 11:46:38</td>\n",
       "      <td>NaN</td>\n",
       "      <td>NaN</td>\n",
       "      <td>NaN</td>\n",
       "      <td>NaN</td>\n",
       "      <td>NaN</td>\n",
       "      <td>NaN</td>\n",
       "      <td>NaN</td>\n",
       "      <td>2019-05-03 11:40:20</td>\n",
       "      <td>NaN</td>\n",
       "      <td>2019-05-03 11:40:20</td>\n",
       "      <td>2019-05-03 11:40:20</td>\n",
       "    </tr>\n",
       "    <tr>\n",
       "      <th>2</th>\n",
       "      <td>3</td>\n",
       "      <td>NaN</td>\n",
       "      <td>NaN</td>\n",
       "      <td>NaN</td>\n",
       "      <td>2019-05-03 12:31:06</td>\n",
       "      <td>NaN</td>\n",
       "      <td>NaN</td>\n",
       "      <td>NaN</td>\n",
       "      <td>NaN</td>\n",
       "      <td>NaN</td>\n",
       "      <td>NaN</td>\n",
       "      <td>NaN</td>\n",
       "      <td>2019-05-03 12:09:40</td>\n",
       "      <td>NaN</td>\n",
       "      <td>2019-05-03 12:09:40</td>\n",
       "      <td>2019-05-03 12:09:40</td>\n",
       "    </tr>\n",
       "  </tbody>\n",
       "</table>\n",
       "</div>"
      ],
      "text/plain": [
       "   key bulk_1 bulk_2 bulk_3               bulk_4 bulk_5 bulk_6 bulk_7 bulk_8  \\\n",
       "0    1    NaN    NaN    NaN  2019-05-03 11:21:30    NaN    NaN    NaN    NaN   \n",
       "1    2    NaN    NaN    NaN  2019-05-03 11:46:38    NaN    NaN    NaN    NaN   \n",
       "2    3    NaN    NaN    NaN  2019-05-03 12:31:06    NaN    NaN    NaN    NaN   \n",
       "\n",
       "  bulk_9 bulk_10 bulk_11              bulk_12 bulk_13              bulk_14  \\\n",
       "0    NaN     NaN     NaN  2019-05-03 11:03:52     NaN  2019-05-03 11:03:52   \n",
       "1    NaN     NaN     NaN  2019-05-03 11:40:20     NaN  2019-05-03 11:40:20   \n",
       "2    NaN     NaN     NaN  2019-05-03 12:09:40     NaN  2019-05-03 12:09:40   \n",
       "\n",
       "               bulk_15  \n",
       "0  2019-05-03 11:03:52  \n",
       "1  2019-05-03 11:40:20  \n",
       "2  2019-05-03 12:09:40  "
      ]
     },
     "execution_count": 37,
     "metadata": {},
     "output_type": "execute_result"
    }
   ],
   "source": [
    "data_bulk_time.head(3)"
   ]
  },
  {
   "cell_type": "markdown",
   "metadata": {},
   "source": [
    "Проверил, что изменения применились. "
   ]
  },
  {
   "cell_type": "code",
   "execution_count": 38,
   "metadata": {
    "scrolled": false
   },
   "outputs": [
    {
     "name": "stdout",
     "output_type": "stream",
     "text": [
      "<class 'pandas.core.frame.DataFrame'>\n",
      "RangeIndex: 3129 entries, 0 to 3128\n",
      "Data columns (total 16 columns):\n",
      " #   Column   Non-Null Count  Dtype \n",
      "---  ------   --------------  ----- \n",
      " 0   key      3129 non-null   int64 \n",
      " 1   bulk_1   252 non-null    object\n",
      " 2   bulk_2   22 non-null     object\n",
      " 3   bulk_3   1298 non-null   object\n",
      " 4   bulk_4   1014 non-null   object\n",
      " 5   bulk_5   77 non-null     object\n",
      " 6   bulk_6   576 non-null    object\n",
      " 7   bulk_7   25 non-null     object\n",
      " 8   bulk_8   1 non-null      object\n",
      " 9   bulk_9   19 non-null     object\n",
      " 10  bulk_10  176 non-null    object\n",
      " 11  bulk_11  177 non-null    object\n",
      " 12  bulk_12  2450 non-null   object\n",
      " 13  bulk_13  18 non-null     object\n",
      " 14  bulk_14  2806 non-null   object\n",
      " 15  bulk_15  2248 non-null   object\n",
      "dtypes: int64(1), object(15)\n",
      "memory usage: 391.2+ KB\n"
     ]
    }
   ],
   "source": [
    "data_bulk_time.info()"
   ]
  },
  {
   "cell_type": "markdown",
   "metadata": {},
   "source": [
    "Вывел основную информацию о DS с помощью метода info(), обнаружил, что дата в bulk_1 и т.д. хранится в формате object."
   ]
  },
  {
   "cell_type": "code",
   "execution_count": 39,
   "metadata": {},
   "outputs": [],
   "source": [
    "data_bulk_time['bulk_1'] = pd.to_datetime(data_bulk_time['bulk_1'], format='%Y-%m-%dT%H:%M:%S')\n",
    "data_bulk_time['bulk_2'] = pd.to_datetime(data_bulk_time['bulk_2'], format='%Y-%m-%dT%H:%M:%S')\n",
    "data_bulk_time['bulk_3'] = pd.to_datetime(data_bulk_time['bulk_3'], format='%Y-%m-%dT%H:%M:%S')\n",
    "data_bulk_time['bulk_4'] = pd.to_datetime(data_bulk_time['bulk_4'], format='%Y-%m-%dT%H:%M:%S')\n",
    "data_bulk_time['bulk_5'] = pd.to_datetime(data_bulk_time['bulk_5'], format='%Y-%m-%dT%H:%M:%S')\n",
    "data_bulk_time['bulk_6'] = pd.to_datetime(data_bulk_time['bulk_6'], format='%Y-%m-%dT%H:%M:%S')\n",
    "data_bulk_time['bulk_7'] = pd.to_datetime(data_bulk_time['bulk_7'], format='%Y-%m-%dT%H:%M:%S')\n",
    "data_bulk_time['bulk_8'] = pd.to_datetime(data_bulk_time['bulk_8'], format='%Y-%m-%dT%H:%M:%S')\n",
    "data_bulk_time['bulk_9'] = pd.to_datetime(data_bulk_time['bulk_9'], format='%Y-%m-%dT%H:%M:%S')\n",
    "data_bulk_time['bulk_10'] = pd.to_datetime(data_bulk_time['bulk_10'], format='%Y-%m-%dT%H:%M:%S')\n",
    "data_bulk_time['bulk_11'] = pd.to_datetime(data_bulk_time['bulk_11'], format='%Y-%m-%dT%H:%M:%S')\n",
    "data_bulk_time['bulk_12'] = pd.to_datetime(data_bulk_time['bulk_12'], format='%Y-%m-%dT%H:%M:%S')\n",
    "data_bulk_time['bulk_13'] = pd.to_datetime(data_bulk_time['bulk_13'], format='%Y-%m-%dT%H:%M:%S')\n",
    "data_bulk_time['bulk_14'] = pd.to_datetime(data_bulk_time['bulk_14'], format='%Y-%m-%dT%H:%M:%S')\n",
    "data_bulk_time['bulk_15'] = pd.to_datetime(data_bulk_time['bulk_15'], format='%Y-%m-%dT%H:%M:%S')"
   ]
  },
  {
   "cell_type": "markdown",
   "metadata": {},
   "source": [
    "Изменил типа данных в столбцах и преобразовал значение функцией pd.to_datetime."
   ]
  },
  {
   "cell_type": "code",
   "execution_count": 40,
   "metadata": {},
   "outputs": [
    {
     "name": "stdout",
     "output_type": "stream",
     "text": [
      "<class 'pandas.core.frame.DataFrame'>\n",
      "RangeIndex: 3129 entries, 0 to 3128\n",
      "Data columns (total 16 columns):\n",
      " #   Column   Non-Null Count  Dtype         \n",
      "---  ------   --------------  -----         \n",
      " 0   key      3129 non-null   int64         \n",
      " 1   bulk_1   252 non-null    datetime64[ns]\n",
      " 2   bulk_2   22 non-null     datetime64[ns]\n",
      " 3   bulk_3   1298 non-null   datetime64[ns]\n",
      " 4   bulk_4   1014 non-null   datetime64[ns]\n",
      " 5   bulk_5   77 non-null     datetime64[ns]\n",
      " 6   bulk_6   576 non-null    datetime64[ns]\n",
      " 7   bulk_7   25 non-null     datetime64[ns]\n",
      " 8   bulk_8   1 non-null      datetime64[ns]\n",
      " 9   bulk_9   19 non-null     datetime64[ns]\n",
      " 10  bulk_10  176 non-null    datetime64[ns]\n",
      " 11  bulk_11  177 non-null    datetime64[ns]\n",
      " 12  bulk_12  2450 non-null   datetime64[ns]\n",
      " 13  bulk_13  18 non-null     datetime64[ns]\n",
      " 14  bulk_14  2806 non-null   datetime64[ns]\n",
      " 15  bulk_15  2248 non-null   datetime64[ns]\n",
      "dtypes: datetime64[ns](15), int64(1)\n",
      "memory usage: 391.2 KB\n"
     ]
    }
   ],
   "source": [
    "data_bulk_time.info()"
   ]
  },
  {
   "cell_type": "markdown",
   "metadata": {},
   "source": [
    "Проверил, что изменения применились."
   ]
  },
  {
   "cell_type": "code",
   "execution_count": 41,
   "metadata": {},
   "outputs": [
    {
     "data": {
      "text/plain": [
       "key           0\n",
       "bulk_1     2877\n",
       "bulk_2     3107\n",
       "bulk_3     1831\n",
       "bulk_4     2115\n",
       "bulk_5     3052\n",
       "bulk_6     2553\n",
       "bulk_7     3104\n",
       "bulk_8     3128\n",
       "bulk_9     3110\n",
       "bulk_10    2953\n",
       "bulk_11    2952\n",
       "bulk_12     679\n",
       "bulk_13    3111\n",
       "bulk_14     323\n",
       "bulk_15     881\n",
       "dtype: int64"
      ]
     },
     "execution_count": 41,
     "metadata": {},
     "output_type": "execute_result"
    }
   ],
   "source": [
    "data_bulk_time.isna().sum()"
   ]
  },
  {
   "cell_type": "markdown",
   "metadata": {},
   "source": [
    "Проверил количество пропущенных значений для каждого столбца, во всех столбцах кроме key присутствую пропуски в большом количестве."
   ]
  },
  {
   "cell_type": "code",
   "execution_count": 42,
   "metadata": {},
   "outputs": [
    {
     "data": {
      "text/plain": [
       "0"
      ]
     },
     "execution_count": 42,
     "metadata": {},
     "output_type": "execute_result"
    }
   ],
   "source": [
    "data_bulk_time.duplicated().sum()"
   ]
  },
  {
   "cell_type": "markdown",
   "metadata": {},
   "source": [
    "Проверил количество явных дубликатов, убедился в их отсутствии."
   ]
  },
  {
   "cell_type": "code",
   "execution_count": 43,
   "metadata": {},
   "outputs": [
    {
     "data": {
      "text/plain": [
       "key        3129\n",
       "bulk_1      252\n",
       "bulk_2       22\n",
       "bulk_3     1298\n",
       "bulk_4     1014\n",
       "bulk_5       77\n",
       "bulk_6      576\n",
       "bulk_7       25\n",
       "bulk_8        1\n",
       "bulk_9       19\n",
       "bulk_10     176\n",
       "bulk_11     177\n",
       "bulk_12    2450\n",
       "bulk_13      18\n",
       "bulk_14    2806\n",
       "bulk_15    2248\n",
       "dtype: int64"
      ]
     },
     "execution_count": 43,
     "metadata": {},
     "output_type": "execute_result"
    }
   ],
   "source": [
    "data_bulk_time.nunique()"
   ]
  },
  {
   "cell_type": "markdown",
   "metadata": {},
   "source": [
    "Проверил количеств уникальных значений."
   ]
  },
  {
   "cell_type": "code",
   "execution_count": 44,
   "metadata": {},
   "outputs": [
    {
     "data": {
      "text/plain": [
       "key           0\n",
       "bulk_1     2877\n",
       "bulk_2     3107\n",
       "bulk_3     1831\n",
       "bulk_4     2115\n",
       "bulk_5     3052\n",
       "bulk_6     2553\n",
       "bulk_7     3104\n",
       "bulk_8     3128\n",
       "bulk_9     3110\n",
       "bulk_10    2953\n",
       "bulk_11    2952\n",
       "bulk_12     679\n",
       "bulk_13    3111\n",
       "bulk_14     323\n",
       "bulk_15     881\n",
       "dtype: int64"
      ]
     },
     "execution_count": 44,
     "metadata": {},
     "output_type": "execute_result"
    }
   ],
   "source": [
    "data_bulk_time.isnull().sum()"
   ]
  },
  {
   "cell_type": "markdown",
   "metadata": {},
   "source": [
    "Проверил количеств аномальных значений."
   ]
  },
  {
   "cell_type": "code",
   "execution_count": 45,
   "metadata": {},
   "outputs": [
    {
     "data": {
      "text/html": [
       "<div>\n",
       "<style scoped>\n",
       "    .dataframe tbody tr th:only-of-type {\n",
       "        vertical-align: middle;\n",
       "    }\n",
       "\n",
       "    .dataframe tbody tr th {\n",
       "        vertical-align: top;\n",
       "    }\n",
       "\n",
       "    .dataframe thead th {\n",
       "        text-align: right;\n",
       "    }\n",
       "</style>\n",
       "<table border=\"1\" class=\"dataframe\">\n",
       "  <thead>\n",
       "    <tr style=\"text-align: right;\">\n",
       "      <th></th>\n",
       "      <th>key</th>\n",
       "    </tr>\n",
       "  </thead>\n",
       "  <tbody>\n",
       "    <tr>\n",
       "      <th>count</th>\n",
       "      <td>3129.000000</td>\n",
       "    </tr>\n",
       "    <tr>\n",
       "      <th>mean</th>\n",
       "      <td>1624.383509</td>\n",
       "    </tr>\n",
       "    <tr>\n",
       "      <th>std</th>\n",
       "      <td>933.337642</td>\n",
       "    </tr>\n",
       "    <tr>\n",
       "      <th>min</th>\n",
       "      <td>1.000000</td>\n",
       "    </tr>\n",
       "    <tr>\n",
       "      <th>25%</th>\n",
       "      <td>816.000000</td>\n",
       "    </tr>\n",
       "    <tr>\n",
       "      <th>50%</th>\n",
       "      <td>1622.000000</td>\n",
       "    </tr>\n",
       "    <tr>\n",
       "      <th>75%</th>\n",
       "      <td>2431.000000</td>\n",
       "    </tr>\n",
       "    <tr>\n",
       "      <th>max</th>\n",
       "      <td>3241.000000</td>\n",
       "    </tr>\n",
       "  </tbody>\n",
       "</table>\n",
       "</div>"
      ],
      "text/plain": [
       "               key\n",
       "count  3129.000000\n",
       "mean   1624.383509\n",
       "std     933.337642\n",
       "min       1.000000\n",
       "25%     816.000000\n",
       "50%    1622.000000\n",
       "75%    2431.000000\n",
       "max    3241.000000"
      ]
     },
     "execution_count": 45,
     "metadata": {},
     "output_type": "execute_result"
    }
   ],
   "source": [
    "data_bulk_time.describe()"
   ]
  },
  {
   "cell_type": "markdown",
   "metadata": {},
   "source": [
    "Делаю оценку DS."
   ]
  },
  {
   "cell_type": "markdown",
   "metadata": {},
   "source": [
    "### Вывод - data_bulk_time"
   ]
  },
  {
   "cell_type": "markdown",
   "metadata": {},
   "source": [
    "В данном разделе я произвел анализ DS data_bulk_time, в ходе анализа я:\n",
    "\n",
    "- загрузил DS data_bulk_time;\n",
    "- переименовал столбцы;\n",
    "- проверил кол-во пропусков, пропусков оказалось много;\n",
    "- проверил кол-во дубликатов, дубликатов не оказалось;\n",
    "- проверил кол-во уникальных значений.  \n",
    "По результату проведенного анализа я делаю вывод, что данные по времени примерно совпадают с данными по объему. Считаю, что дополнительной предобработки не требуется."
   ]
  },
  {
   "cell_type": "markdown",
   "metadata": {},
   "source": [
    "### 1.4 data_gas - данные о продувке сплава газом."
   ]
  },
  {
   "cell_type": "code",
   "execution_count": 46,
   "metadata": {
    "scrolled": true
   },
   "outputs": [
    {
     "data": {
      "text/html": [
       "<div>\n",
       "<style scoped>\n",
       "    .dataframe tbody tr th:only-of-type {\n",
       "        vertical-align: middle;\n",
       "    }\n",
       "\n",
       "    .dataframe tbody tr th {\n",
       "        vertical-align: top;\n",
       "    }\n",
       "\n",
       "    .dataframe thead th {\n",
       "        text-align: right;\n",
       "    }\n",
       "</style>\n",
       "<table border=\"1\" class=\"dataframe\">\n",
       "  <thead>\n",
       "    <tr style=\"text-align: right;\">\n",
       "      <th></th>\n",
       "      <th>key</th>\n",
       "      <th>Газ 1</th>\n",
       "    </tr>\n",
       "  </thead>\n",
       "  <tbody>\n",
       "    <tr>\n",
       "      <th>0</th>\n",
       "      <td>1</td>\n",
       "      <td>29.749986</td>\n",
       "    </tr>\n",
       "    <tr>\n",
       "      <th>1</th>\n",
       "      <td>2</td>\n",
       "      <td>12.555561</td>\n",
       "    </tr>\n",
       "    <tr>\n",
       "      <th>2</th>\n",
       "      <td>3</td>\n",
       "      <td>28.554793</td>\n",
       "    </tr>\n",
       "    <tr>\n",
       "      <th>3</th>\n",
       "      <td>4</td>\n",
       "      <td>18.841219</td>\n",
       "    </tr>\n",
       "    <tr>\n",
       "      <th>4</th>\n",
       "      <td>5</td>\n",
       "      <td>5.413692</td>\n",
       "    </tr>\n",
       "  </tbody>\n",
       "</table>\n",
       "</div>"
      ],
      "text/plain": [
       "   key      Газ 1\n",
       "0    1  29.749986\n",
       "1    2  12.555561\n",
       "2    3  28.554793\n",
       "3    4  18.841219\n",
       "4    5   5.413692"
      ]
     },
     "execution_count": 46,
     "metadata": {},
     "output_type": "execute_result"
    }
   ],
   "source": [
    "data_gas.head(5)"
   ]
  },
  {
   "cell_type": "markdown",
   "metadata": {},
   "source": [
    "Просмотрел DS, первое что сделаю это переименую столбцы."
   ]
  },
  {
   "cell_type": "code",
   "execution_count": 47,
   "metadata": {},
   "outputs": [],
   "source": [
    "data_gas.rename(columns = {'Газ 1':'gas_1',\n",
    "                            }, inplace = True)"
   ]
  },
  {
   "cell_type": "code",
   "execution_count": 48,
   "metadata": {},
   "outputs": [
    {
     "data": {
      "text/html": [
       "<div>\n",
       "<style scoped>\n",
       "    .dataframe tbody tr th:only-of-type {\n",
       "        vertical-align: middle;\n",
       "    }\n",
       "\n",
       "    .dataframe tbody tr th {\n",
       "        vertical-align: top;\n",
       "    }\n",
       "\n",
       "    .dataframe thead th {\n",
       "        text-align: right;\n",
       "    }\n",
       "</style>\n",
       "<table border=\"1\" class=\"dataframe\">\n",
       "  <thead>\n",
       "    <tr style=\"text-align: right;\">\n",
       "      <th></th>\n",
       "      <th>key</th>\n",
       "      <th>gas_1</th>\n",
       "    </tr>\n",
       "  </thead>\n",
       "  <tbody>\n",
       "    <tr>\n",
       "      <th>0</th>\n",
       "      <td>1</td>\n",
       "      <td>29.749986</td>\n",
       "    </tr>\n",
       "    <tr>\n",
       "      <th>1</th>\n",
       "      <td>2</td>\n",
       "      <td>12.555561</td>\n",
       "    </tr>\n",
       "    <tr>\n",
       "      <th>2</th>\n",
       "      <td>3</td>\n",
       "      <td>28.554793</td>\n",
       "    </tr>\n",
       "  </tbody>\n",
       "</table>\n",
       "</div>"
      ],
      "text/plain": [
       "   key      gas_1\n",
       "0    1  29.749986\n",
       "1    2  12.555561\n",
       "2    3  28.554793"
      ]
     },
     "execution_count": 48,
     "metadata": {},
     "output_type": "execute_result"
    }
   ],
   "source": [
    "data_gas.head(3)"
   ]
  },
  {
   "cell_type": "markdown",
   "metadata": {},
   "source": [
    "Проверил, что изменения применились."
   ]
  },
  {
   "cell_type": "code",
   "execution_count": 49,
   "metadata": {},
   "outputs": [
    {
     "name": "stdout",
     "output_type": "stream",
     "text": [
      "<class 'pandas.core.frame.DataFrame'>\n",
      "RangeIndex: 3239 entries, 0 to 3238\n",
      "Data columns (total 2 columns):\n",
      " #   Column  Non-Null Count  Dtype  \n",
      "---  ------  --------------  -----  \n",
      " 0   key     3239 non-null   int64  \n",
      " 1   gas_1   3239 non-null   float64\n",
      "dtypes: float64(1), int64(1)\n",
      "memory usage: 50.7 KB\n"
     ]
    }
   ],
   "source": [
    "data_gas.info()"
   ]
  },
  {
   "cell_type": "markdown",
   "metadata": {},
   "source": [
    "Вывел основную информацию о DS с помощью метода info()."
   ]
  },
  {
   "cell_type": "code",
   "execution_count": 50,
   "metadata": {},
   "outputs": [
    {
     "data": {
      "text/plain": [
       "key      0\n",
       "gas_1    0\n",
       "dtype: int64"
      ]
     },
     "execution_count": 50,
     "metadata": {},
     "output_type": "execute_result"
    }
   ],
   "source": [
    "data_gas.isna().sum()"
   ]
  },
  {
   "cell_type": "markdown",
   "metadata": {},
   "source": [
    "Проверил количество пропущенных значений, убедился в их отсутствии."
   ]
  },
  {
   "cell_type": "code",
   "execution_count": 51,
   "metadata": {},
   "outputs": [
    {
     "data": {
      "text/plain": [
       "0"
      ]
     },
     "execution_count": 51,
     "metadata": {},
     "output_type": "execute_result"
    }
   ],
   "source": [
    "data_gas.duplicated().sum()"
   ]
  },
  {
   "cell_type": "markdown",
   "metadata": {},
   "source": [
    "Проверил количество явных дубликатов, убедился в их отсутствии."
   ]
  },
  {
   "cell_type": "code",
   "execution_count": 52,
   "metadata": {},
   "outputs": [
    {
     "data": {
      "text/plain": [
       "key      3239\n",
       "gas_1    3239\n",
       "dtype: int64"
      ]
     },
     "execution_count": 52,
     "metadata": {},
     "output_type": "execute_result"
    }
   ],
   "source": [
    "data_gas.nunique()"
   ]
  },
  {
   "cell_type": "markdown",
   "metadata": {},
   "source": [
    "Проверил количеств уникальных значений."
   ]
  },
  {
   "cell_type": "code",
   "execution_count": 53,
   "metadata": {},
   "outputs": [
    {
     "data": {
      "text/plain": [
       "key      0\n",
       "gas_1    0\n",
       "dtype: int64"
      ]
     },
     "execution_count": 53,
     "metadata": {},
     "output_type": "execute_result"
    }
   ],
   "source": [
    "data_gas.isnull().sum()"
   ]
  },
  {
   "cell_type": "markdown",
   "metadata": {},
   "source": [
    "Проверил количеств аномальных значений, убедился в их отсутствии."
   ]
  },
  {
   "cell_type": "code",
   "execution_count": 54,
   "metadata": {
    "scrolled": true
   },
   "outputs": [
    {
     "data": {
      "image/png": "[encoded data removed]",
      "text/plain": [
       "<Figure size 432x288 with 1 Axes>"
      ]
     },
     "metadata": {
      "needs_background": "light"
     },
     "output_type": "display_data"
    }
   ],
   "source": [
    "fig = sm.qqplot(data_gas['gas_1'], line='45')\n",
    "plt.show()"
   ]
  },
  {
   "cell_type": "markdown",
   "metadata": {},
   "source": [
    "Построил график, точки на этом графике явно не попадают на красную линию, поэтому данные не имеют нормального распределения."
   ]
  },
  {
   "cell_type": "code",
   "execution_count": 55,
   "metadata": {
    "scrolled": true
   },
   "outputs": [
    {
     "data": {
      "text/html": [
       "<div>\n",
       "<style scoped>\n",
       "    .dataframe tbody tr th:only-of-type {\n",
       "        vertical-align: middle;\n",
       "    }\n",
       "\n",
       "    .dataframe tbody tr th {\n",
       "        vertical-align: top;\n",
       "    }\n",
       "\n",
       "    .dataframe thead th {\n",
       "        text-align: right;\n",
       "    }\n",
       "</style>\n",
       "<table border=\"1\" class=\"dataframe\">\n",
       "  <thead>\n",
       "    <tr style=\"text-align: right;\">\n",
       "      <th></th>\n",
       "      <th>key</th>\n",
       "      <th>gas_1</th>\n",
       "    </tr>\n",
       "  </thead>\n",
       "  <tbody>\n",
       "    <tr>\n",
       "      <th>count</th>\n",
       "      <td>3239.000000</td>\n",
       "      <td>3239.000000</td>\n",
       "    </tr>\n",
       "    <tr>\n",
       "      <th>mean</th>\n",
       "      <td>1621.861377</td>\n",
       "      <td>11.002062</td>\n",
       "    </tr>\n",
       "    <tr>\n",
       "      <th>std</th>\n",
       "      <td>935.386334</td>\n",
       "      <td>6.220327</td>\n",
       "    </tr>\n",
       "    <tr>\n",
       "      <th>min</th>\n",
       "      <td>1.000000</td>\n",
       "      <td>0.008399</td>\n",
       "    </tr>\n",
       "    <tr>\n",
       "      <th>25%</th>\n",
       "      <td>812.500000</td>\n",
       "      <td>7.043089</td>\n",
       "    </tr>\n",
       "    <tr>\n",
       "      <th>50%</th>\n",
       "      <td>1622.000000</td>\n",
       "      <td>9.836267</td>\n",
       "    </tr>\n",
       "    <tr>\n",
       "      <th>75%</th>\n",
       "      <td>2431.500000</td>\n",
       "      <td>13.769915</td>\n",
       "    </tr>\n",
       "    <tr>\n",
       "      <th>max</th>\n",
       "      <td>3241.000000</td>\n",
       "      <td>77.995040</td>\n",
       "    </tr>\n",
       "  </tbody>\n",
       "</table>\n",
       "</div>"
      ],
      "text/plain": [
       "               key        gas_1\n",
       "count  3239.000000  3239.000000\n",
       "mean   1621.861377    11.002062\n",
       "std     935.386334     6.220327\n",
       "min       1.000000     0.008399\n",
       "25%     812.500000     7.043089\n",
       "50%    1622.000000     9.836267\n",
       "75%    2431.500000    13.769915\n",
       "max    3241.000000    77.995040"
      ]
     },
     "execution_count": 55,
     "metadata": {},
     "output_type": "execute_result"
    }
   ],
   "source": [
    "data_gas.describe()"
   ]
  },
  {
   "cell_type": "markdown",
   "metadata": {},
   "source": [
    "Делаю оценку DS."
   ]
  },
  {
   "cell_type": "markdown",
   "metadata": {},
   "source": [
    "### Вывод - data_gas"
   ]
  },
  {
   "cell_type": "markdown",
   "metadata": {},
   "source": [
    "В данном разделе я произвел анализ DS data_gas, в ходе анализа я:\n",
    "\n",
    "- загрузил DS data_gas;\n",
    "- переименовал столбец;\n",
    "- проверил кол-во пропусков, пропусков не оказалось;\n",
    "- проверил кол-во дубликатов, дубликатов не оказалось;\n",
    "- проверил кол-во уникальных значений;\n",
    "- построил график параметра, вижу, что распределение не нормальное.  "
   ]
  },
  {
   "cell_type": "markdown",
   "metadata": {},
   "source": [
    "### 1.5 data_temp - результаты измерения температуры."
   ]
  },
  {
   "cell_type": "code",
   "execution_count": 56,
   "metadata": {
    "scrolled": true
   },
   "outputs": [
    {
     "data": {
      "text/html": [
       "<div>\n",
       "<style scoped>\n",
       "    .dataframe tbody tr th:only-of-type {\n",
       "        vertical-align: middle;\n",
       "    }\n",
       "\n",
       "    .dataframe tbody tr th {\n",
       "        vertical-align: top;\n",
       "    }\n",
       "\n",
       "    .dataframe thead th {\n",
       "        text-align: right;\n",
       "    }\n",
       "</style>\n",
       "<table border=\"1\" class=\"dataframe\">\n",
       "  <thead>\n",
       "    <tr style=\"text-align: right;\">\n",
       "      <th></th>\n",
       "      <th>key</th>\n",
       "      <th>Время замера</th>\n",
       "      <th>Температура</th>\n",
       "    </tr>\n",
       "  </thead>\n",
       "  <tbody>\n",
       "    <tr>\n",
       "      <th>0</th>\n",
       "      <td>1</td>\n",
       "      <td>2019-05-03 11:16:18</td>\n",
       "      <td>1571.0</td>\n",
       "    </tr>\n",
       "    <tr>\n",
       "      <th>1</th>\n",
       "      <td>1</td>\n",
       "      <td>2019-05-03 11:25:53</td>\n",
       "      <td>1604.0</td>\n",
       "    </tr>\n",
       "    <tr>\n",
       "      <th>2</th>\n",
       "      <td>1</td>\n",
       "      <td>2019-05-03 11:29:11</td>\n",
       "      <td>1618.0</td>\n",
       "    </tr>\n",
       "    <tr>\n",
       "      <th>3</th>\n",
       "      <td>1</td>\n",
       "      <td>2019-05-03 11:30:01</td>\n",
       "      <td>1601.0</td>\n",
       "    </tr>\n",
       "    <tr>\n",
       "      <th>4</th>\n",
       "      <td>1</td>\n",
       "      <td>2019-05-03 11:30:39</td>\n",
       "      <td>1613.0</td>\n",
       "    </tr>\n",
       "  </tbody>\n",
       "</table>\n",
       "</div>"
      ],
      "text/plain": [
       "   key         Время замера  Температура\n",
       "0    1  2019-05-03 11:16:18       1571.0\n",
       "1    1  2019-05-03 11:25:53       1604.0\n",
       "2    1  2019-05-03 11:29:11       1618.0\n",
       "3    1  2019-05-03 11:30:01       1601.0\n",
       "4    1  2019-05-03 11:30:39       1613.0"
      ]
     },
     "execution_count": 56,
     "metadata": {},
     "output_type": "execute_result"
    }
   ],
   "source": [
    "data_temp.head(5)"
   ]
  },
  {
   "cell_type": "markdown",
   "metadata": {},
   "source": [
    "Просмотрел DS, первое что сделаю это переименую столбцы."
   ]
  },
  {
   "cell_type": "code",
   "execution_count": 57,
   "metadata": {},
   "outputs": [],
   "source": [
    "data_temp.rename(columns = {'Время замера':'time_zamer',\n",
    "                           'Температура':'temp',\n",
    "                            }, inplace = True)"
   ]
  },
  {
   "cell_type": "code",
   "execution_count": 58,
   "metadata": {},
   "outputs": [
    {
     "data": {
      "text/html": [
       "<div>\n",
       "<style scoped>\n",
       "    .dataframe tbody tr th:only-of-type {\n",
       "        vertical-align: middle;\n",
       "    }\n",
       "\n",
       "    .dataframe tbody tr th {\n",
       "        vertical-align: top;\n",
       "    }\n",
       "\n",
       "    .dataframe thead th {\n",
       "        text-align: right;\n",
       "    }\n",
       "</style>\n",
       "<table border=\"1\" class=\"dataframe\">\n",
       "  <thead>\n",
       "    <tr style=\"text-align: right;\">\n",
       "      <th></th>\n",
       "      <th>key</th>\n",
       "      <th>time_zamer</th>\n",
       "      <th>temp</th>\n",
       "    </tr>\n",
       "  </thead>\n",
       "  <tbody>\n",
       "    <tr>\n",
       "      <th>0</th>\n",
       "      <td>1</td>\n",
       "      <td>2019-05-03 11:16:18</td>\n",
       "      <td>1571.0</td>\n",
       "    </tr>\n",
       "    <tr>\n",
       "      <th>1</th>\n",
       "      <td>1</td>\n",
       "      <td>2019-05-03 11:25:53</td>\n",
       "      <td>1604.0</td>\n",
       "    </tr>\n",
       "    <tr>\n",
       "      <th>2</th>\n",
       "      <td>1</td>\n",
       "      <td>2019-05-03 11:29:11</td>\n",
       "      <td>1618.0</td>\n",
       "    </tr>\n",
       "  </tbody>\n",
       "</table>\n",
       "</div>"
      ],
      "text/plain": [
       "   key           time_zamer    temp\n",
       "0    1  2019-05-03 11:16:18  1571.0\n",
       "1    1  2019-05-03 11:25:53  1604.0\n",
       "2    1  2019-05-03 11:29:11  1618.0"
      ]
     },
     "execution_count": 58,
     "metadata": {},
     "output_type": "execute_result"
    }
   ],
   "source": [
    "data_temp.head(3)"
   ]
  },
  {
   "cell_type": "markdown",
   "metadata": {},
   "source": [
    "Проверил, что изменения применились."
   ]
  },
  {
   "cell_type": "code",
   "execution_count": 59,
   "metadata": {},
   "outputs": [
    {
     "name": "stdout",
     "output_type": "stream",
     "text": [
      "<class 'pandas.core.frame.DataFrame'>\n",
      "RangeIndex: 15907 entries, 0 to 15906\n",
      "Data columns (total 3 columns):\n",
      " #   Column      Non-Null Count  Dtype  \n",
      "---  ------      --------------  -----  \n",
      " 0   key         15907 non-null  int64  \n",
      " 1   time_zamer  15907 non-null  object \n",
      " 2   temp        13006 non-null  float64\n",
      "dtypes: float64(1), int64(1), object(1)\n",
      "memory usage: 372.9+ KB\n"
     ]
    }
   ],
   "source": [
    "data_temp.info()"
   ]
  },
  {
   "cell_type": "markdown",
   "metadata": {},
   "source": [
    "Вывел основную информацию о DS с помощью метода info(), обнаружил, что дата в time_zamer хранится в формате object."
   ]
  },
  {
   "cell_type": "code",
   "execution_count": 60,
   "metadata": {},
   "outputs": [],
   "source": [
    "data_temp['time_zamer'] = pd.to_datetime(data_temp['time_zamer'], format='%Y-%m-%dT%H:%M:%S')"
   ]
  },
  {
   "cell_type": "markdown",
   "metadata": {},
   "source": [
    "Изменил типа данных в столбце и преобразовал значение функцией pd.to_datetime."
   ]
  },
  {
   "cell_type": "code",
   "execution_count": 61,
   "metadata": {},
   "outputs": [
    {
     "data": {
      "text/plain": [
       "key              0\n",
       "time_zamer       0\n",
       "temp          2901\n",
       "dtype: int64"
      ]
     },
     "execution_count": 61,
     "metadata": {},
     "output_type": "execute_result"
    }
   ],
   "source": [
    "data_temp.isna().sum()"
   ]
  },
  {
   "cell_type": "markdown",
   "metadata": {},
   "source": [
    "Проверил количество пропущенных значений для каждого столбца обнаружил пропуски в temp."
   ]
  },
  {
   "cell_type": "code",
   "execution_count": 62,
   "metadata": {
    "scrolled": true
   },
   "outputs": [
    {
     "data": {
      "text/html": [
       "<div>\n",
       "<style scoped>\n",
       "    .dataframe tbody tr th:only-of-type {\n",
       "        vertical-align: middle;\n",
       "    }\n",
       "\n",
       "    .dataframe tbody tr th {\n",
       "        vertical-align: top;\n",
       "    }\n",
       "\n",
       "    .dataframe thead th {\n",
       "        text-align: right;\n",
       "    }\n",
       "</style>\n",
       "<table border=\"1\" class=\"dataframe\">\n",
       "  <thead>\n",
       "    <tr style=\"text-align: right;\">\n",
       "      <th></th>\n",
       "      <th>key</th>\n",
       "      <th>time_zamer</th>\n",
       "      <th>temp</th>\n",
       "    </tr>\n",
       "  </thead>\n",
       "  <tbody>\n",
       "    <tr>\n",
       "      <th>15901</th>\n",
       "      <td>3240</td>\n",
       "      <td>2019-09-01 03:35:16</td>\n",
       "      <td>NaN</td>\n",
       "    </tr>\n",
       "    <tr>\n",
       "      <th>15903</th>\n",
       "      <td>3241</td>\n",
       "      <td>2019-09-01 04:16:12</td>\n",
       "      <td>NaN</td>\n",
       "    </tr>\n",
       "    <tr>\n",
       "      <th>15904</th>\n",
       "      <td>3241</td>\n",
       "      <td>2019-09-01 04:22:39</td>\n",
       "      <td>NaN</td>\n",
       "    </tr>\n",
       "    <tr>\n",
       "      <th>15905</th>\n",
       "      <td>3241</td>\n",
       "      <td>2019-09-01 04:33:42</td>\n",
       "      <td>NaN</td>\n",
       "    </tr>\n",
       "    <tr>\n",
       "      <th>15906</th>\n",
       "      <td>3241</td>\n",
       "      <td>2019-09-01 04:38:08</td>\n",
       "      <td>NaN</td>\n",
       "    </tr>\n",
       "  </tbody>\n",
       "</table>\n",
       "</div>"
      ],
      "text/plain": [
       "        key          time_zamer  temp\n",
       "15901  3240 2019-09-01 03:35:16   NaN\n",
       "15903  3241 2019-09-01 04:16:12   NaN\n",
       "15904  3241 2019-09-01 04:22:39   NaN\n",
       "15905  3241 2019-09-01 04:33:42   NaN\n",
       "15906  3241 2019-09-01 04:38:08   NaN"
      ]
     },
     "execution_count": 62,
     "metadata": {},
     "output_type": "execute_result"
    }
   ],
   "source": [
    "data_temp[data_temp['temp'].isnull()].tail()"
   ]
  },
  {
   "cell_type": "markdown",
   "metadata": {},
   "source": [
    "Убеждаюсь, что в столбце temp есть NaN."
   ]
  },
  {
   "cell_type": "code",
   "execution_count": 63,
   "metadata": {
    "scrolled": true
   },
   "outputs": [],
   "source": [
    "data_temp.fillna(-50000, inplace= True)"
   ]
  },
  {
   "cell_type": "markdown",
   "metadata": {},
   "source": [
    "Делаю заглушку, меняю все NaN на большое отрицательное значение, чтобы можно было легкой найти эти партии."
   ]
  },
  {
   "cell_type": "code",
   "execution_count": 64,
   "metadata": {
    "scrolled": true
   },
   "outputs": [],
   "source": [
    "temp1 = data_temp.groupby('key')['temp'].last().to_frame()"
   ]
  },
  {
   "cell_type": "markdown",
   "metadata": {},
   "source": [
    "Преобразовываю data_temp в датафрэим."
   ]
  },
  {
   "cell_type": "code",
   "execution_count": 65,
   "metadata": {
    "scrolled": false
   },
   "outputs": [
    {
     "data": {
      "text/html": [
       "<div>\n",
       "<style scoped>\n",
       "    .dataframe tbody tr th:only-of-type {\n",
       "        vertical-align: middle;\n",
       "    }\n",
       "\n",
       "    .dataframe tbody tr th {\n",
       "        vertical-align: top;\n",
       "    }\n",
       "\n",
       "    .dataframe thead th {\n",
       "        text-align: right;\n",
       "    }\n",
       "</style>\n",
       "<table border=\"1\" class=\"dataframe\">\n",
       "  <thead>\n",
       "    <tr style=\"text-align: right;\">\n",
       "      <th></th>\n",
       "      <th>temp</th>\n",
       "    </tr>\n",
       "    <tr>\n",
       "      <th>key</th>\n",
       "      <th></th>\n",
       "    </tr>\n",
       "  </thead>\n",
       "  <tbody>\n",
       "    <tr>\n",
       "      <th>2500</th>\n",
       "      <td>-50000.0</td>\n",
       "    </tr>\n",
       "    <tr>\n",
       "      <th>2501</th>\n",
       "      <td>-50000.0</td>\n",
       "    </tr>\n",
       "    <tr>\n",
       "      <th>2502</th>\n",
       "      <td>-50000.0</td>\n",
       "    </tr>\n",
       "    <tr>\n",
       "      <th>2503</th>\n",
       "      <td>-50000.0</td>\n",
       "    </tr>\n",
       "    <tr>\n",
       "      <th>2504</th>\n",
       "      <td>-50000.0</td>\n",
       "    </tr>\n",
       "    <tr>\n",
       "      <th>...</th>\n",
       "      <td>...</td>\n",
       "    </tr>\n",
       "    <tr>\n",
       "      <th>3237</th>\n",
       "      <td>-50000.0</td>\n",
       "    </tr>\n",
       "    <tr>\n",
       "      <th>3238</th>\n",
       "      <td>-50000.0</td>\n",
       "    </tr>\n",
       "    <tr>\n",
       "      <th>3239</th>\n",
       "      <td>-50000.0</td>\n",
       "    </tr>\n",
       "    <tr>\n",
       "      <th>3240</th>\n",
       "      <td>-50000.0</td>\n",
       "    </tr>\n",
       "    <tr>\n",
       "      <th>3241</th>\n",
       "      <td>-50000.0</td>\n",
       "    </tr>\n",
       "  </tbody>\n",
       "</table>\n",
       "<p>739 rows × 1 columns</p>\n",
       "</div>"
      ],
      "text/plain": [
       "         temp\n",
       "key          \n",
       "2500 -50000.0\n",
       "2501 -50000.0\n",
       "2502 -50000.0\n",
       "2503 -50000.0\n",
       "2504 -50000.0\n",
       "...       ...\n",
       "3237 -50000.0\n",
       "3238 -50000.0\n",
       "3239 -50000.0\n",
       "3240 -50000.0\n",
       "3241 -50000.0\n",
       "\n",
       "[739 rows x 1 columns]"
      ]
     },
     "execution_count": 65,
     "metadata": {},
     "output_type": "execute_result"
    }
   ],
   "source": [
    "temp2 = temp1.loc[temp1.loc[:, 'temp'] == -50000]\n",
    "temp2"
   ]
  },
  {
   "cell_type": "markdown",
   "metadata": {},
   "source": [
    "Сортирую датафрэм, вижу, что у партий начиная с №2500 имеются пропуски в конечной температуре, такие партии я удалю."
   ]
  },
  {
   "cell_type": "code",
   "execution_count": 66,
   "metadata": {},
   "outputs": [],
   "source": [
    "data_temp = data_temp.query('key < 2500')"
   ]
  },
  {
   "cell_type": "markdown",
   "metadata": {},
   "source": [
    "Убрал из DS все значения key которые больше 2500."
   ]
  },
  {
   "cell_type": "code",
   "execution_count": 67,
   "metadata": {
    "scrolled": true
   },
   "outputs": [
    {
     "data": {
      "text/plain": [
       "key           0\n",
       "time_zamer    0\n",
       "temp          0\n",
       "dtype: int64"
      ]
     },
     "execution_count": 67,
     "metadata": {},
     "output_type": "execute_result"
    }
   ],
   "source": [
    "data_temp.isna().sum()"
   ]
  },
  {
   "cell_type": "markdown",
   "metadata": {},
   "source": [
    "Убедился в отсутствии пропусков."
   ]
  },
  {
   "cell_type": "code",
   "execution_count": 69,
   "metadata": {},
   "outputs": [
    {
     "data": {
      "text/plain": [
       "0"
      ]
     },
     "execution_count": 69,
     "metadata": {},
     "output_type": "execute_result"
    }
   ],
   "source": [
    "data_temp.duplicated().sum()"
   ]
  },
  {
   "cell_type": "markdown",
   "metadata": {},
   "source": [
    "Проверил количество явных дубликатов, убедился в их отсутствии."
   ]
  },
  {
   "cell_type": "code",
   "execution_count": 70,
   "metadata": {},
   "outputs": [
    {
     "data": {
      "text/plain": [
       "key            2477\n",
       "time_zamer    12267\n",
       "temp            174\n",
       "dtype: int64"
      ]
     },
     "execution_count": 70,
     "metadata": {},
     "output_type": "execute_result"
    }
   ],
   "source": [
    "data_temp.nunique()"
   ]
  },
  {
   "cell_type": "markdown",
   "metadata": {},
   "source": [
    "Проверил количеств уникальных значений."
   ]
  },
  {
   "cell_type": "code",
   "execution_count": 71,
   "metadata": {},
   "outputs": [
    {
     "data": {
      "text/plain": [
       "key           0\n",
       "time_zamer    0\n",
       "temp          0\n",
       "dtype: int64"
      ]
     },
     "execution_count": 71,
     "metadata": {},
     "output_type": "execute_result"
    }
   ],
   "source": [
    "data_temp.isnull().sum()"
   ]
  },
  {
   "cell_type": "markdown",
   "metadata": {},
   "source": [
    "Проверил количеств аномальных значений."
   ]
  },
  {
   "cell_type": "code",
   "execution_count": 72,
   "metadata": {
    "scrolled": false
   },
   "outputs": [
    {
     "data": {
      "image/png": "[encoded data removed]",
      "text/plain": [
       "<Figure size 1080x576 with 1 Axes>"
      ]
     },
     "metadata": {
      "needs_background": "light"
     },
     "output_type": "display_data"
    }
   ],
   "source": [
    "data_temp['temp'].hist(figsize=FIGSIZE, bins=50)\n",
    "plt.xlabel('Температура', fontsize = 16)\n",
    "plt.title('График распределения температуры', fontsize = 16)\n",
    "plt.show();"
   ]
  },
  {
   "cell_type": "markdown",
   "metadata": {},
   "source": [
    "Построил графики по всем признакам, вижу, что выбросов нет, данные сосредаточены в рабочем диапазоне температуры."
   ]
  },
  {
   "cell_type": "code",
   "execution_count": 73,
   "metadata": {
    "scrolled": true
   },
   "outputs": [
    {
     "data": {
      "text/html": [
       "<div>\n",
       "<style scoped>\n",
       "    .dataframe tbody tr th:only-of-type {\n",
       "        vertical-align: middle;\n",
       "    }\n",
       "\n",
       "    .dataframe tbody tr th {\n",
       "        vertical-align: top;\n",
       "    }\n",
       "\n",
       "    .dataframe thead th {\n",
       "        text-align: right;\n",
       "    }\n",
       "</style>\n",
       "<table border=\"1\" class=\"dataframe\">\n",
       "  <thead>\n",
       "    <tr style=\"text-align: right;\">\n",
       "      <th></th>\n",
       "      <th>key</th>\n",
       "      <th>temp</th>\n",
       "    </tr>\n",
       "  </thead>\n",
       "  <tbody>\n",
       "    <tr>\n",
       "      <th>count</th>\n",
       "      <td>12267.000000</td>\n",
       "      <td>12267.000000</td>\n",
       "    </tr>\n",
       "    <tr>\n",
       "      <th>mean</th>\n",
       "      <td>1235.589060</td>\n",
       "      <td>1591.999022</td>\n",
       "    </tr>\n",
       "    <tr>\n",
       "      <th>std</th>\n",
       "      <td>729.452481</td>\n",
       "      <td>20.833175</td>\n",
       "    </tr>\n",
       "    <tr>\n",
       "      <th>min</th>\n",
       "      <td>1.000000</td>\n",
       "      <td>1191.000000</td>\n",
       "    </tr>\n",
       "    <tr>\n",
       "      <th>25%</th>\n",
       "      <td>602.000000</td>\n",
       "      <td>1581.000000</td>\n",
       "    </tr>\n",
       "    <tr>\n",
       "      <th>50%</th>\n",
       "      <td>1238.000000</td>\n",
       "      <td>1591.000000</td>\n",
       "    </tr>\n",
       "    <tr>\n",
       "      <th>75%</th>\n",
       "      <td>1874.000000</td>\n",
       "      <td>1601.000000</td>\n",
       "    </tr>\n",
       "    <tr>\n",
       "      <th>max</th>\n",
       "      <td>2499.000000</td>\n",
       "      <td>1705.000000</td>\n",
       "    </tr>\n",
       "  </tbody>\n",
       "</table>\n",
       "</div>"
      ],
      "text/plain": [
       "                key          temp\n",
       "count  12267.000000  12267.000000\n",
       "mean    1235.589060   1591.999022\n",
       "std      729.452481     20.833175\n",
       "min        1.000000   1191.000000\n",
       "25%      602.000000   1581.000000\n",
       "50%     1238.000000   1591.000000\n",
       "75%     1874.000000   1601.000000\n",
       "max     2499.000000   1705.000000"
      ]
     },
     "execution_count": 73,
     "metadata": {},
     "output_type": "execute_result"
    }
   ],
   "source": [
    "data_temp.describe()"
   ]
  },
  {
   "cell_type": "markdown",
   "metadata": {},
   "source": [
    "Делаю оценку DS."
   ]
  },
  {
   "cell_type": "code",
   "execution_count": 74,
   "metadata": {},
   "outputs": [],
   "source": [
    "data_temporary = data_temp.groupby(by = 'key').agg(['first', 'last']).reset_index()"
   ]
  },
  {
   "cell_type": "markdown",
   "metadata": {},
   "source": [
    "Сгруппировал данные по признаку key и вывел первое и последнее значение."
   ]
  },
  {
   "cell_type": "code",
   "execution_count": 75,
   "metadata": {
    "scrolled": false
   },
   "outputs": [],
   "source": [
    "data_temporary.columns = ['key', 'time_1', 'time_2', 'temp_start', 'temp_stop']"
   ]
  },
  {
   "cell_type": "markdown",
   "metadata": {},
   "source": [
    "Переименовал получившиеся столбцы."
   ]
  },
  {
   "cell_type": "code",
   "execution_count": 76,
   "metadata": {
    "scrolled": true
   },
   "outputs": [
    {
     "data": {
      "text/html": [
       "<div>\n",
       "<style scoped>\n",
       "    .dataframe tbody tr th:only-of-type {\n",
       "        vertical-align: middle;\n",
       "    }\n",
       "\n",
       "    .dataframe tbody tr th {\n",
       "        vertical-align: top;\n",
       "    }\n",
       "\n",
       "    .dataframe thead th {\n",
       "        text-align: right;\n",
       "    }\n",
       "</style>\n",
       "<table border=\"1\" class=\"dataframe\">\n",
       "  <thead>\n",
       "    <tr style=\"text-align: right;\">\n",
       "      <th></th>\n",
       "      <th>key</th>\n",
       "      <th>time_1</th>\n",
       "      <th>time_2</th>\n",
       "      <th>temp_start</th>\n",
       "      <th>temp_stop</th>\n",
       "    </tr>\n",
       "  </thead>\n",
       "  <tbody>\n",
       "    <tr>\n",
       "      <th>0</th>\n",
       "      <td>1</td>\n",
       "      <td>2019-05-03 11:16:18</td>\n",
       "      <td>2019-05-03 11:30:39</td>\n",
       "      <td>1571.0</td>\n",
       "      <td>1613.0</td>\n",
       "    </tr>\n",
       "    <tr>\n",
       "      <th>1</th>\n",
       "      <td>2</td>\n",
       "      <td>2019-05-03 11:37:27</td>\n",
       "      <td>2019-05-03 11:59:12</td>\n",
       "      <td>1581.0</td>\n",
       "      <td>1602.0</td>\n",
       "    </tr>\n",
       "    <tr>\n",
       "      <th>2</th>\n",
       "      <td>3</td>\n",
       "      <td>2019-05-03 12:13:17</td>\n",
       "      <td>2019-05-03 12:34:57</td>\n",
       "      <td>1596.0</td>\n",
       "      <td>1599.0</td>\n",
       "    </tr>\n",
       "    <tr>\n",
       "      <th>3</th>\n",
       "      <td>4</td>\n",
       "      <td>2019-05-03 12:52:57</td>\n",
       "      <td>2019-05-03 12:59:25</td>\n",
       "      <td>1601.0</td>\n",
       "      <td>1625.0</td>\n",
       "    </tr>\n",
       "    <tr>\n",
       "      <th>4</th>\n",
       "      <td>5</td>\n",
       "      <td>2019-05-03 13:23:19</td>\n",
       "      <td>2019-05-03 13:36:01</td>\n",
       "      <td>1576.0</td>\n",
       "      <td>1602.0</td>\n",
       "    </tr>\n",
       "  </tbody>\n",
       "</table>\n",
       "</div>"
      ],
      "text/plain": [
       "   key              time_1              time_2  temp_start  temp_stop\n",
       "0    1 2019-05-03 11:16:18 2019-05-03 11:30:39      1571.0     1613.0\n",
       "1    2 2019-05-03 11:37:27 2019-05-03 11:59:12      1581.0     1602.0\n",
       "2    3 2019-05-03 12:13:17 2019-05-03 12:34:57      1596.0     1599.0\n",
       "3    4 2019-05-03 12:52:57 2019-05-03 12:59:25      1601.0     1625.0\n",
       "4    5 2019-05-03 13:23:19 2019-05-03 13:36:01      1576.0     1602.0"
      ]
     },
     "execution_count": 76,
     "metadata": {},
     "output_type": "execute_result"
    }
   ],
   "source": [
    "data_temporary.head(5)"
   ]
  },
  {
   "cell_type": "markdown",
   "metadata": {},
   "source": [
    "Вывел новую получившуюся после преобразования таблицу."
   ]
  },
  {
   "cell_type": "code",
   "execution_count": 77,
   "metadata": {},
   "outputs": [
    {
     "data": {
      "text/plain": [
       "0"
      ]
     },
     "execution_count": 77,
     "metadata": {},
     "output_type": "execute_result"
    }
   ],
   "source": [
    "data_temporary['temp_stop'].isna().sum()"
   ]
  },
  {
   "cell_type": "code",
   "execution_count": 78,
   "metadata": {},
   "outputs": [
    {
     "data": {
      "text/html": [
       "<div>\n",
       "<style scoped>\n",
       "    .dataframe tbody tr th:only-of-type {\n",
       "        vertical-align: middle;\n",
       "    }\n",
       "\n",
       "    .dataframe tbody tr th {\n",
       "        vertical-align: top;\n",
       "    }\n",
       "\n",
       "    .dataframe thead th {\n",
       "        text-align: right;\n",
       "    }\n",
       "</style>\n",
       "<table border=\"1\" class=\"dataframe\">\n",
       "  <thead>\n",
       "    <tr style=\"text-align: right;\">\n",
       "      <th></th>\n",
       "      <th>key</th>\n",
       "      <th>time_1</th>\n",
       "      <th>time_2</th>\n",
       "      <th>temp_start</th>\n",
       "      <th>temp_stop</th>\n",
       "    </tr>\n",
       "  </thead>\n",
       "  <tbody>\n",
       "    <tr>\n",
       "      <th>0</th>\n",
       "      <td>1</td>\n",
       "      <td>2019-05-03 11:16:18</td>\n",
       "      <td>2019-05-03 11:30:39</td>\n",
       "      <td>1571.0</td>\n",
       "      <td>1613.0</td>\n",
       "    </tr>\n",
       "    <tr>\n",
       "      <th>1</th>\n",
       "      <td>2</td>\n",
       "      <td>2019-05-03 11:37:27</td>\n",
       "      <td>2019-05-03 11:59:12</td>\n",
       "      <td>1581.0</td>\n",
       "      <td>1602.0</td>\n",
       "    </tr>\n",
       "    <tr>\n",
       "      <th>2</th>\n",
       "      <td>3</td>\n",
       "      <td>2019-05-03 12:13:17</td>\n",
       "      <td>2019-05-03 12:34:57</td>\n",
       "      <td>1596.0</td>\n",
       "      <td>1599.0</td>\n",
       "    </tr>\n",
       "    <tr>\n",
       "      <th>3</th>\n",
       "      <td>4</td>\n",
       "      <td>2019-05-03 12:52:57</td>\n",
       "      <td>2019-05-03 12:59:25</td>\n",
       "      <td>1601.0</td>\n",
       "      <td>1625.0</td>\n",
       "    </tr>\n",
       "    <tr>\n",
       "      <th>4</th>\n",
       "      <td>5</td>\n",
       "      <td>2019-05-03 13:23:19</td>\n",
       "      <td>2019-05-03 13:36:01</td>\n",
       "      <td>1576.0</td>\n",
       "      <td>1602.0</td>\n",
       "    </tr>\n",
       "    <tr>\n",
       "      <th>...</th>\n",
       "      <td>...</td>\n",
       "      <td>...</td>\n",
       "      <td>...</td>\n",
       "      <td>...</td>\n",
       "      <td>...</td>\n",
       "    </tr>\n",
       "    <tr>\n",
       "      <th>2472</th>\n",
       "      <td>2495</td>\n",
       "      <td>2019-08-06 00:35:45</td>\n",
       "      <td>2019-08-06 00:54:42</td>\n",
       "      <td>1570.0</td>\n",
       "      <td>1591.0</td>\n",
       "    </tr>\n",
       "    <tr>\n",
       "      <th>2473</th>\n",
       "      <td>2496</td>\n",
       "      <td>2019-08-06 01:02:54</td>\n",
       "      <td>2019-08-06 01:29:52</td>\n",
       "      <td>1554.0</td>\n",
       "      <td>1591.0</td>\n",
       "    </tr>\n",
       "    <tr>\n",
       "      <th>2474</th>\n",
       "      <td>2497</td>\n",
       "      <td>2019-08-06 01:41:53</td>\n",
       "      <td>2019-08-06 01:53:50</td>\n",
       "      <td>1571.0</td>\n",
       "      <td>1589.0</td>\n",
       "    </tr>\n",
       "    <tr>\n",
       "      <th>2475</th>\n",
       "      <td>2498</td>\n",
       "      <td>2019-08-06 02:03:49</td>\n",
       "      <td>2019-08-06 02:25:31</td>\n",
       "      <td>1591.0</td>\n",
       "      <td>1594.0</td>\n",
       "    </tr>\n",
       "    <tr>\n",
       "      <th>2476</th>\n",
       "      <td>2499</td>\n",
       "      <td>2019-08-06 02:40:25</td>\n",
       "      <td>2019-08-06 03:00:28</td>\n",
       "      <td>1569.0</td>\n",
       "      <td>1603.0</td>\n",
       "    </tr>\n",
       "  </tbody>\n",
       "</table>\n",
       "<p>2477 rows × 5 columns</p>\n",
       "</div>"
      ],
      "text/plain": [
       "       key              time_1              time_2  temp_start  temp_stop\n",
       "0        1 2019-05-03 11:16:18 2019-05-03 11:30:39      1571.0     1613.0\n",
       "1        2 2019-05-03 11:37:27 2019-05-03 11:59:12      1581.0     1602.0\n",
       "2        3 2019-05-03 12:13:17 2019-05-03 12:34:57      1596.0     1599.0\n",
       "3        4 2019-05-03 12:52:57 2019-05-03 12:59:25      1601.0     1625.0\n",
       "4        5 2019-05-03 13:23:19 2019-05-03 13:36:01      1576.0     1602.0\n",
       "...    ...                 ...                 ...         ...        ...\n",
       "2472  2495 2019-08-06 00:35:45 2019-08-06 00:54:42      1570.0     1591.0\n",
       "2473  2496 2019-08-06 01:02:54 2019-08-06 01:29:52      1554.0     1591.0\n",
       "2474  2497 2019-08-06 01:41:53 2019-08-06 01:53:50      1571.0     1589.0\n",
       "2475  2498 2019-08-06 02:03:49 2019-08-06 02:25:31      1591.0     1594.0\n",
       "2476  2499 2019-08-06 02:40:25 2019-08-06 03:00:28      1569.0     1603.0\n",
       "\n",
       "[2477 rows x 5 columns]"
      ]
     },
     "execution_count": 78,
     "metadata": {},
     "output_type": "execute_result"
    }
   ],
   "source": [
    "data_temporary"
   ]
  },
  {
   "cell_type": "markdown",
   "metadata": {},
   "source": [
    "### Вывод - data_temp"
   ]
  },
  {
   "cell_type": "markdown",
   "metadata": {},
   "source": [
    "В данном разделе я произвел анализ DS data_temp, в ходе анализа я:\n",
    "\n",
    "- загрузил DS data_temp;\n",
    "- переименовал столбец;\n",
    "- проверил кол-во дубликатов, дубликатов не оказалось;\n",
    "- проверил кол-во уникальных значений;\n",
    "- выбрал и удалил все ковши у которых не было конечной температуры;\n",
    "- построил графики параметров, вижу, что распределение нормальное;\n",
    "- сгруппировал данные по столбцу key и сформировал новую таблицу, в которой хранятся данные по температуре на начало цикла и на конец."
   ]
  },
  {
   "cell_type": "markdown",
   "metadata": {},
   "source": [
    "### 1.6 data_wire - данные о проволочных материалах (объём)."
   ]
  },
  {
   "cell_type": "code",
   "execution_count": 79,
   "metadata": {
    "scrolled": false
   },
   "outputs": [
    {
     "data": {
      "text/html": [
       "<div>\n",
       "<style scoped>\n",
       "    .dataframe tbody tr th:only-of-type {\n",
       "        vertical-align: middle;\n",
       "    }\n",
       "\n",
       "    .dataframe tbody tr th {\n",
       "        vertical-align: top;\n",
       "    }\n",
       "\n",
       "    .dataframe thead th {\n",
       "        text-align: right;\n",
       "    }\n",
       "</style>\n",
       "<table border=\"1\" class=\"dataframe\">\n",
       "  <thead>\n",
       "    <tr style=\"text-align: right;\">\n",
       "      <th></th>\n",
       "      <th>key</th>\n",
       "      <th>Wire 1</th>\n",
       "      <th>Wire 2</th>\n",
       "      <th>Wire 3</th>\n",
       "      <th>Wire 4</th>\n",
       "      <th>Wire 5</th>\n",
       "      <th>Wire 6</th>\n",
       "      <th>Wire 7</th>\n",
       "      <th>Wire 8</th>\n",
       "      <th>Wire 9</th>\n",
       "    </tr>\n",
       "  </thead>\n",
       "  <tbody>\n",
       "    <tr>\n",
       "      <th>0</th>\n",
       "      <td>1</td>\n",
       "      <td>60.059998</td>\n",
       "      <td>NaN</td>\n",
       "      <td>NaN</td>\n",
       "      <td>NaN</td>\n",
       "      <td>NaN</td>\n",
       "      <td>NaN</td>\n",
       "      <td>NaN</td>\n",
       "      <td>NaN</td>\n",
       "      <td>NaN</td>\n",
       "    </tr>\n",
       "    <tr>\n",
       "      <th>1</th>\n",
       "      <td>2</td>\n",
       "      <td>96.052315</td>\n",
       "      <td>NaN</td>\n",
       "      <td>NaN</td>\n",
       "      <td>NaN</td>\n",
       "      <td>NaN</td>\n",
       "      <td>NaN</td>\n",
       "      <td>NaN</td>\n",
       "      <td>NaN</td>\n",
       "      <td>NaN</td>\n",
       "    </tr>\n",
       "    <tr>\n",
       "      <th>2</th>\n",
       "      <td>3</td>\n",
       "      <td>91.160157</td>\n",
       "      <td>NaN</td>\n",
       "      <td>NaN</td>\n",
       "      <td>NaN</td>\n",
       "      <td>NaN</td>\n",
       "      <td>NaN</td>\n",
       "      <td>NaN</td>\n",
       "      <td>NaN</td>\n",
       "      <td>NaN</td>\n",
       "    </tr>\n",
       "    <tr>\n",
       "      <th>3</th>\n",
       "      <td>4</td>\n",
       "      <td>89.063515</td>\n",
       "      <td>NaN</td>\n",
       "      <td>NaN</td>\n",
       "      <td>NaN</td>\n",
       "      <td>NaN</td>\n",
       "      <td>NaN</td>\n",
       "      <td>NaN</td>\n",
       "      <td>NaN</td>\n",
       "      <td>NaN</td>\n",
       "    </tr>\n",
       "    <tr>\n",
       "      <th>4</th>\n",
       "      <td>5</td>\n",
       "      <td>89.238236</td>\n",
       "      <td>9.11456</td>\n",
       "      <td>NaN</td>\n",
       "      <td>NaN</td>\n",
       "      <td>NaN</td>\n",
       "      <td>NaN</td>\n",
       "      <td>NaN</td>\n",
       "      <td>NaN</td>\n",
       "      <td>NaN</td>\n",
       "    </tr>\n",
       "  </tbody>\n",
       "</table>\n",
       "</div>"
      ],
      "text/plain": [
       "   key     Wire 1   Wire 2  Wire 3  Wire 4  Wire 5  Wire 6  Wire 7  Wire 8  \\\n",
       "0    1  60.059998      NaN     NaN     NaN     NaN     NaN     NaN     NaN   \n",
       "1    2  96.052315      NaN     NaN     NaN     NaN     NaN     NaN     NaN   \n",
       "2    3  91.160157      NaN     NaN     NaN     NaN     NaN     NaN     NaN   \n",
       "3    4  89.063515      NaN     NaN     NaN     NaN     NaN     NaN     NaN   \n",
       "4    5  89.238236  9.11456     NaN     NaN     NaN     NaN     NaN     NaN   \n",
       "\n",
       "   Wire 9  \n",
       "0     NaN  \n",
       "1     NaN  \n",
       "2     NaN  \n",
       "3     NaN  \n",
       "4     NaN  "
      ]
     },
     "execution_count": 79,
     "metadata": {},
     "output_type": "execute_result"
    }
   ],
   "source": [
    "data_wire.head(5)"
   ]
  },
  {
   "cell_type": "markdown",
   "metadata": {},
   "source": [
    "Просмотрел DS, первое что сделаю это переименую столбцы."
   ]
  },
  {
   "cell_type": "code",
   "execution_count": 80,
   "metadata": {},
   "outputs": [],
   "source": [
    "data_wire.rename(columns = {'Wire 1':'wire_1',\n",
    "                            'Wire 2':'wire_2',\n",
    "                            'Wire 3':'wire_3',\n",
    "                            'Wire 4':'wire_4',\n",
    "                            'Wire 5':'wire_5',\n",
    "                            'Wire 6':'wire_6',\n",
    "                            'Wire 7':'wire_7',\n",
    "                            'Wire 8':'wire_8',\n",
    "                            'Wire 9':'wire_9',                           \n",
    "                            }, inplace = True)"
   ]
  },
  {
   "cell_type": "code",
   "execution_count": 81,
   "metadata": {},
   "outputs": [
    {
     "data": {
      "text/html": [
       "<div>\n",
       "<style scoped>\n",
       "    .dataframe tbody tr th:only-of-type {\n",
       "        vertical-align: middle;\n",
       "    }\n",
       "\n",
       "    .dataframe tbody tr th {\n",
       "        vertical-align: top;\n",
       "    }\n",
       "\n",
       "    .dataframe thead th {\n",
       "        text-align: right;\n",
       "    }\n",
       "</style>\n",
       "<table border=\"1\" class=\"dataframe\">\n",
       "  <thead>\n",
       "    <tr style=\"text-align: right;\">\n",
       "      <th></th>\n",
       "      <th>key</th>\n",
       "      <th>wire_1</th>\n",
       "      <th>wire_2</th>\n",
       "      <th>wire_3</th>\n",
       "      <th>wire_4</th>\n",
       "      <th>wire_5</th>\n",
       "      <th>wire_6</th>\n",
       "      <th>wire_7</th>\n",
       "      <th>wire_8</th>\n",
       "      <th>wire_9</th>\n",
       "    </tr>\n",
       "  </thead>\n",
       "  <tbody>\n",
       "    <tr>\n",
       "      <th>0</th>\n",
       "      <td>1</td>\n",
       "      <td>60.059998</td>\n",
       "      <td>NaN</td>\n",
       "      <td>NaN</td>\n",
       "      <td>NaN</td>\n",
       "      <td>NaN</td>\n",
       "      <td>NaN</td>\n",
       "      <td>NaN</td>\n",
       "      <td>NaN</td>\n",
       "      <td>NaN</td>\n",
       "    </tr>\n",
       "    <tr>\n",
       "      <th>1</th>\n",
       "      <td>2</td>\n",
       "      <td>96.052315</td>\n",
       "      <td>NaN</td>\n",
       "      <td>NaN</td>\n",
       "      <td>NaN</td>\n",
       "      <td>NaN</td>\n",
       "      <td>NaN</td>\n",
       "      <td>NaN</td>\n",
       "      <td>NaN</td>\n",
       "      <td>NaN</td>\n",
       "    </tr>\n",
       "    <tr>\n",
       "      <th>2</th>\n",
       "      <td>3</td>\n",
       "      <td>91.160157</td>\n",
       "      <td>NaN</td>\n",
       "      <td>NaN</td>\n",
       "      <td>NaN</td>\n",
       "      <td>NaN</td>\n",
       "      <td>NaN</td>\n",
       "      <td>NaN</td>\n",
       "      <td>NaN</td>\n",
       "      <td>NaN</td>\n",
       "    </tr>\n",
       "  </tbody>\n",
       "</table>\n",
       "</div>"
      ],
      "text/plain": [
       "   key     wire_1  wire_2  wire_3  wire_4  wire_5  wire_6  wire_7  wire_8  \\\n",
       "0    1  60.059998     NaN     NaN     NaN     NaN     NaN     NaN     NaN   \n",
       "1    2  96.052315     NaN     NaN     NaN     NaN     NaN     NaN     NaN   \n",
       "2    3  91.160157     NaN     NaN     NaN     NaN     NaN     NaN     NaN   \n",
       "\n",
       "   wire_9  \n",
       "0     NaN  \n",
       "1     NaN  \n",
       "2     NaN  "
      ]
     },
     "execution_count": 81,
     "metadata": {},
     "output_type": "execute_result"
    }
   ],
   "source": [
    "data_wire.head(3)"
   ]
  },
  {
   "cell_type": "markdown",
   "metadata": {},
   "source": [
    "Проверил, что изменения применились."
   ]
  },
  {
   "cell_type": "code",
   "execution_count": 82,
   "metadata": {},
   "outputs": [
    {
     "name": "stdout",
     "output_type": "stream",
     "text": [
      "<class 'pandas.core.frame.DataFrame'>\n",
      "RangeIndex: 3081 entries, 0 to 3080\n",
      "Data columns (total 10 columns):\n",
      " #   Column  Non-Null Count  Dtype  \n",
      "---  ------  --------------  -----  \n",
      " 0   key     3081 non-null   int64  \n",
      " 1   wire_1  3055 non-null   float64\n",
      " 2   wire_2  1079 non-null   float64\n",
      " 3   wire_3  63 non-null     float64\n",
      " 4   wire_4  14 non-null     float64\n",
      " 5   wire_5  1 non-null      float64\n",
      " 6   wire_6  73 non-null     float64\n",
      " 7   wire_7  11 non-null     float64\n",
      " 8   wire_8  19 non-null     float64\n",
      " 9   wire_9  29 non-null     float64\n",
      "dtypes: float64(9), int64(1)\n",
      "memory usage: 240.8 KB\n"
     ]
    }
   ],
   "source": [
    "data_wire.info()"
   ]
  },
  {
   "cell_type": "markdown",
   "metadata": {},
   "source": [
    "Вывел основную информацию о DS с помощью метода info()."
   ]
  },
  {
   "cell_type": "code",
   "execution_count": 83,
   "metadata": {
    "scrolled": true
   },
   "outputs": [
    {
     "data": {
      "text/plain": [
       "key          0\n",
       "wire_1      26\n",
       "wire_2    2002\n",
       "wire_3    3018\n",
       "wire_4    3067\n",
       "wire_5    3080\n",
       "wire_6    3008\n",
       "wire_7    3070\n",
       "wire_8    3062\n",
       "wire_9    3052\n",
       "dtype: int64"
      ]
     },
     "execution_count": 83,
     "metadata": {},
     "output_type": "execute_result"
    }
   ],
   "source": [
    "data_wire.isna().sum()"
   ]
  },
  {
   "cell_type": "markdown",
   "metadata": {},
   "source": [
    "Проверил количество пропущенных значений для каждого столбца, во всех столбцах кроме key присутствую пропуски в большом количестве."
   ]
  },
  {
   "cell_type": "code",
   "execution_count": 84,
   "metadata": {},
   "outputs": [
    {
     "data": {
      "text/plain": [
       "0"
      ]
     },
     "execution_count": 84,
     "metadata": {},
     "output_type": "execute_result"
    }
   ],
   "source": [
    "data_wire.duplicated().sum()"
   ]
  },
  {
   "cell_type": "markdown",
   "metadata": {},
   "source": [
    "Проверил количество явных дубликатов, убедился в их отсутствии."
   ]
  },
  {
   "cell_type": "code",
   "execution_count": 85,
   "metadata": {},
   "outputs": [
    {
     "data": {
      "text/plain": [
       "key       3081\n",
       "wire_1    2251\n",
       "wire_2     713\n",
       "wire_3      56\n",
       "wire_4      14\n",
       "wire_5       1\n",
       "wire_6      69\n",
       "wire_7      10\n",
       "wire_8      13\n",
       "wire_9      25\n",
       "dtype: int64"
      ]
     },
     "execution_count": 85,
     "metadata": {},
     "output_type": "execute_result"
    }
   ],
   "source": [
    "data_wire.nunique()"
   ]
  },
  {
   "cell_type": "markdown",
   "metadata": {},
   "source": [
    "Проверил количеств уникальных значений."
   ]
  },
  {
   "cell_type": "code",
   "execution_count": 86,
   "metadata": {},
   "outputs": [
    {
     "data": {
      "text/plain": [
       "key          0\n",
       "wire_1      26\n",
       "wire_2    2002\n",
       "wire_3    3018\n",
       "wire_4    3067\n",
       "wire_5    3080\n",
       "wire_6    3008\n",
       "wire_7    3070\n",
       "wire_8    3062\n",
       "wire_9    3052\n",
       "dtype: int64"
      ]
     },
     "execution_count": 86,
     "metadata": {},
     "output_type": "execute_result"
    }
   ],
   "source": [
    "data_wire.isnull().sum()"
   ]
  },
  {
   "cell_type": "markdown",
   "metadata": {},
   "source": [
    "Проверил количеств аномальных значений."
   ]
  },
  {
   "cell_type": "code",
   "execution_count": 87,
   "metadata": {
    "scrolled": false
   },
   "outputs": [
    {
     "data": {
      "image/png": "[encoded data removed]",
      "text/plain": [
       "<Figure size 1080x1440 with 12 Axes>"
      ]
     },
     "metadata": {
      "needs_background": "light"
     },
     "output_type": "display_data"
    }
   ],
   "source": [
    "data_wire.hist(figsize=(15, 20));"
   ]
  },
  {
   "cell_type": "markdown",
   "metadata": {},
   "source": [
    "Построил графики по всем признакам,  вижу, что wire_5 использовалась мало, скорее всего эти данные можно будет удалить в общем DS."
   ]
  },
  {
   "cell_type": "code",
   "execution_count": 88,
   "metadata": {},
   "outputs": [
    {
     "data": {
      "text/html": [
       "<div>\n",
       "<style scoped>\n",
       "    .dataframe tbody tr th:only-of-type {\n",
       "        vertical-align: middle;\n",
       "    }\n",
       "\n",
       "    .dataframe tbody tr th {\n",
       "        vertical-align: top;\n",
       "    }\n",
       "\n",
       "    .dataframe thead th {\n",
       "        text-align: right;\n",
       "    }\n",
       "</style>\n",
       "<table border=\"1\" class=\"dataframe\">\n",
       "  <thead>\n",
       "    <tr style=\"text-align: right;\">\n",
       "      <th></th>\n",
       "      <th>key</th>\n",
       "      <th>wire_1</th>\n",
       "      <th>wire_2</th>\n",
       "      <th>wire_3</th>\n",
       "      <th>wire_4</th>\n",
       "      <th>wire_5</th>\n",
       "      <th>wire_6</th>\n",
       "      <th>wire_7</th>\n",
       "      <th>wire_8</th>\n",
       "      <th>wire_9</th>\n",
       "    </tr>\n",
       "  </thead>\n",
       "  <tbody>\n",
       "    <tr>\n",
       "      <th>count</th>\n",
       "      <td>3081.000000</td>\n",
       "      <td>3055.000000</td>\n",
       "      <td>1079.000000</td>\n",
       "      <td>63.000000</td>\n",
       "      <td>14.000000</td>\n",
       "      <td>1.000</td>\n",
       "      <td>73.000000</td>\n",
       "      <td>11.000000</td>\n",
       "      <td>19.000000</td>\n",
       "      <td>29.000000</td>\n",
       "    </tr>\n",
       "    <tr>\n",
       "      <th>mean</th>\n",
       "      <td>1623.426485</td>\n",
       "      <td>100.895853</td>\n",
       "      <td>50.577323</td>\n",
       "      <td>189.482681</td>\n",
       "      <td>57.442842</td>\n",
       "      <td>15.132</td>\n",
       "      <td>48.016974</td>\n",
       "      <td>10.039007</td>\n",
       "      <td>53.625193</td>\n",
       "      <td>34.155752</td>\n",
       "    </tr>\n",
       "    <tr>\n",
       "      <th>std</th>\n",
       "      <td>932.996726</td>\n",
       "      <td>42.012518</td>\n",
       "      <td>39.320216</td>\n",
       "      <td>99.513444</td>\n",
       "      <td>28.824667</td>\n",
       "      <td>NaN</td>\n",
       "      <td>33.919845</td>\n",
       "      <td>8.610584</td>\n",
       "      <td>16.881728</td>\n",
       "      <td>19.931616</td>\n",
       "    </tr>\n",
       "    <tr>\n",
       "      <th>min</th>\n",
       "      <td>1.000000</td>\n",
       "      <td>1.918800</td>\n",
       "      <td>0.030160</td>\n",
       "      <td>0.144144</td>\n",
       "      <td>24.148801</td>\n",
       "      <td>15.132</td>\n",
       "      <td>0.034320</td>\n",
       "      <td>0.234208</td>\n",
       "      <td>45.076721</td>\n",
       "      <td>4.622800</td>\n",
       "    </tr>\n",
       "    <tr>\n",
       "      <th>25%</th>\n",
       "      <td>823.000000</td>\n",
       "      <td>72.115684</td>\n",
       "      <td>20.193680</td>\n",
       "      <td>95.135044</td>\n",
       "      <td>40.807002</td>\n",
       "      <td>15.132</td>\n",
       "      <td>25.053600</td>\n",
       "      <td>6.762756</td>\n",
       "      <td>46.094879</td>\n",
       "      <td>22.058401</td>\n",
       "    </tr>\n",
       "    <tr>\n",
       "      <th>50%</th>\n",
       "      <td>1619.000000</td>\n",
       "      <td>100.158234</td>\n",
       "      <td>40.142956</td>\n",
       "      <td>235.194977</td>\n",
       "      <td>45.234282</td>\n",
       "      <td>15.132</td>\n",
       "      <td>42.076324</td>\n",
       "      <td>9.017009</td>\n",
       "      <td>46.279999</td>\n",
       "      <td>30.066399</td>\n",
       "    </tr>\n",
       "    <tr>\n",
       "      <th>75%</th>\n",
       "      <td>2434.000000</td>\n",
       "      <td>126.060483</td>\n",
       "      <td>70.227558</td>\n",
       "      <td>276.252014</td>\n",
       "      <td>76.124619</td>\n",
       "      <td>15.132</td>\n",
       "      <td>64.212723</td>\n",
       "      <td>11.886057</td>\n",
       "      <td>48.089603</td>\n",
       "      <td>43.862003</td>\n",
       "    </tr>\n",
       "    <tr>\n",
       "      <th>max</th>\n",
       "      <td>3241.000000</td>\n",
       "      <td>330.314424</td>\n",
       "      <td>282.780152</td>\n",
       "      <td>385.008668</td>\n",
       "      <td>113.231044</td>\n",
       "      <td>15.132</td>\n",
       "      <td>180.454575</td>\n",
       "      <td>32.847674</td>\n",
       "      <td>102.762401</td>\n",
       "      <td>90.053604</td>\n",
       "    </tr>\n",
       "  </tbody>\n",
       "</table>\n",
       "</div>"
      ],
      "text/plain": [
       "               key       wire_1       wire_2      wire_3      wire_4  wire_5  \\\n",
       "count  3081.000000  3055.000000  1079.000000   63.000000   14.000000   1.000   \n",
       "mean   1623.426485   100.895853    50.577323  189.482681   57.442842  15.132   \n",
       "std     932.996726    42.012518    39.320216   99.513444   28.824667     NaN   \n",
       "min       1.000000     1.918800     0.030160    0.144144   24.148801  15.132   \n",
       "25%     823.000000    72.115684    20.193680   95.135044   40.807002  15.132   \n",
       "50%    1619.000000   100.158234    40.142956  235.194977   45.234282  15.132   \n",
       "75%    2434.000000   126.060483    70.227558  276.252014   76.124619  15.132   \n",
       "max    3241.000000   330.314424   282.780152  385.008668  113.231044  15.132   \n",
       "\n",
       "           wire_6     wire_7      wire_8     wire_9  \n",
       "count   73.000000  11.000000   19.000000  29.000000  \n",
       "mean    48.016974  10.039007   53.625193  34.155752  \n",
       "std     33.919845   8.610584   16.881728  19.931616  \n",
       "min      0.034320   0.234208   45.076721   4.622800  \n",
       "25%     25.053600   6.762756   46.094879  22.058401  \n",
       "50%     42.076324   9.017009   46.279999  30.066399  \n",
       "75%     64.212723  11.886057   48.089603  43.862003  \n",
       "max    180.454575  32.847674  102.762401  90.053604  "
      ]
     },
     "execution_count": 88,
     "metadata": {},
     "output_type": "execute_result"
    }
   ],
   "source": [
    "data_wire.describe()"
   ]
  },
  {
   "cell_type": "markdown",
   "metadata": {},
   "source": [
    "### Вывод -  data_wire"
   ]
  },
  {
   "cell_type": "markdown",
   "metadata": {},
   "source": [
    "В данном разделе я произвел анализ DS data_wire, в ходе анализа я:\n",
    "\n",
    "- загрузил DS data_wire;\n",
    "- переименовал столбецы;\n",
    "- проверил кол-во пропусков;\n",
    "- проверил кол-во дубликатов, дубликатов не оказалось;\n",
    "- проверил кол-во уникальных значений;\n",
    "- построил графики параметров, вижу, что распределение неравномерное.  \n",
    "Скорее всего это связано с особенностью технологического процесса и дополнительной предобработки не требуется."
   ]
  },
  {
   "cell_type": "markdown",
   "metadata": {},
   "source": [
    "### 1.7 data_wire_time - данные о проволочных материалах (время)."
   ]
  },
  {
   "cell_type": "code",
   "execution_count": 89,
   "metadata": {
    "scrolled": true
   },
   "outputs": [
    {
     "data": {
      "text/html": [
       "<div>\n",
       "<style scoped>\n",
       "    .dataframe tbody tr th:only-of-type {\n",
       "        vertical-align: middle;\n",
       "    }\n",
       "\n",
       "    .dataframe tbody tr th {\n",
       "        vertical-align: top;\n",
       "    }\n",
       "\n",
       "    .dataframe thead th {\n",
       "        text-align: right;\n",
       "    }\n",
       "</style>\n",
       "<table border=\"1\" class=\"dataframe\">\n",
       "  <thead>\n",
       "    <tr style=\"text-align: right;\">\n",
       "      <th></th>\n",
       "      <th>key</th>\n",
       "      <th>Wire 1</th>\n",
       "      <th>Wire 2</th>\n",
       "      <th>Wire 3</th>\n",
       "      <th>Wire 4</th>\n",
       "      <th>Wire 5</th>\n",
       "      <th>Wire 6</th>\n",
       "      <th>Wire 7</th>\n",
       "      <th>Wire 8</th>\n",
       "      <th>Wire 9</th>\n",
       "    </tr>\n",
       "  </thead>\n",
       "  <tbody>\n",
       "    <tr>\n",
       "      <th>0</th>\n",
       "      <td>1</td>\n",
       "      <td>2019-05-03 11:11:41</td>\n",
       "      <td>NaN</td>\n",
       "      <td>NaN</td>\n",
       "      <td>NaN</td>\n",
       "      <td>NaN</td>\n",
       "      <td>NaN</td>\n",
       "      <td>NaN</td>\n",
       "      <td>NaN</td>\n",
       "      <td>NaN</td>\n",
       "    </tr>\n",
       "    <tr>\n",
       "      <th>1</th>\n",
       "      <td>2</td>\n",
       "      <td>2019-05-03 11:46:10</td>\n",
       "      <td>NaN</td>\n",
       "      <td>NaN</td>\n",
       "      <td>NaN</td>\n",
       "      <td>NaN</td>\n",
       "      <td>NaN</td>\n",
       "      <td>NaN</td>\n",
       "      <td>NaN</td>\n",
       "      <td>NaN</td>\n",
       "    </tr>\n",
       "    <tr>\n",
       "      <th>2</th>\n",
       "      <td>3</td>\n",
       "      <td>2019-05-03 12:13:47</td>\n",
       "      <td>NaN</td>\n",
       "      <td>NaN</td>\n",
       "      <td>NaN</td>\n",
       "      <td>NaN</td>\n",
       "      <td>NaN</td>\n",
       "      <td>NaN</td>\n",
       "      <td>NaN</td>\n",
       "      <td>NaN</td>\n",
       "    </tr>\n",
       "    <tr>\n",
       "      <th>3</th>\n",
       "      <td>4</td>\n",
       "      <td>2019-05-03 12:48:05</td>\n",
       "      <td>NaN</td>\n",
       "      <td>NaN</td>\n",
       "      <td>NaN</td>\n",
       "      <td>NaN</td>\n",
       "      <td>NaN</td>\n",
       "      <td>NaN</td>\n",
       "      <td>NaN</td>\n",
       "      <td>NaN</td>\n",
       "    </tr>\n",
       "    <tr>\n",
       "      <th>4</th>\n",
       "      <td>5</td>\n",
       "      <td>2019-05-03 13:18:15</td>\n",
       "      <td>2019-05-03 13:32:06</td>\n",
       "      <td>NaN</td>\n",
       "      <td>NaN</td>\n",
       "      <td>NaN</td>\n",
       "      <td>NaN</td>\n",
       "      <td>NaN</td>\n",
       "      <td>NaN</td>\n",
       "      <td>NaN</td>\n",
       "    </tr>\n",
       "  </tbody>\n",
       "</table>\n",
       "</div>"
      ],
      "text/plain": [
       "   key               Wire 1               Wire 2 Wire 3 Wire 4 Wire 5 Wire 6  \\\n",
       "0    1  2019-05-03 11:11:41                  NaN    NaN    NaN    NaN    NaN   \n",
       "1    2  2019-05-03 11:46:10                  NaN    NaN    NaN    NaN    NaN   \n",
       "2    3  2019-05-03 12:13:47                  NaN    NaN    NaN    NaN    NaN   \n",
       "3    4  2019-05-03 12:48:05                  NaN    NaN    NaN    NaN    NaN   \n",
       "4    5  2019-05-03 13:18:15  2019-05-03 13:32:06    NaN    NaN    NaN    NaN   \n",
       "\n",
       "  Wire 7 Wire 8 Wire 9  \n",
       "0    NaN    NaN    NaN  \n",
       "1    NaN    NaN    NaN  \n",
       "2    NaN    NaN    NaN  \n",
       "3    NaN    NaN    NaN  \n",
       "4    NaN    NaN    NaN  "
      ]
     },
     "execution_count": 89,
     "metadata": {},
     "output_type": "execute_result"
    }
   ],
   "source": [
    "data_wire_time.head(5)"
   ]
  },
  {
   "cell_type": "markdown",
   "metadata": {},
   "source": [
    "Просмотрел DS, первое что сделаю это переименую столбцы."
   ]
  },
  {
   "cell_type": "code",
   "execution_count": 90,
   "metadata": {},
   "outputs": [],
   "source": [
    "data_wire_time.rename(columns = {'Wire 1':'wire_1',\n",
    "                            'Wire 2':'wire_2',\n",
    "                            'Wire 3':'wire_3',\n",
    "                            'Wire 4':'wire_4',\n",
    "                            'Wire 5':'wire_5',\n",
    "                            'Wire 6':'wire_6',\n",
    "                            'Wire 7':'wire_7',\n",
    "                            'Wire 8':'wire_8',\n",
    "                            'Wire 9':'wire_9',                           \n",
    "                            }, inplace = True)"
   ]
  },
  {
   "cell_type": "code",
   "execution_count": 91,
   "metadata": {},
   "outputs": [
    {
     "data": {
      "text/html": [
       "<div>\n",
       "<style scoped>\n",
       "    .dataframe tbody tr th:only-of-type {\n",
       "        vertical-align: middle;\n",
       "    }\n",
       "\n",
       "    .dataframe tbody tr th {\n",
       "        vertical-align: top;\n",
       "    }\n",
       "\n",
       "    .dataframe thead th {\n",
       "        text-align: right;\n",
       "    }\n",
       "</style>\n",
       "<table border=\"1\" class=\"dataframe\">\n",
       "  <thead>\n",
       "    <tr style=\"text-align: right;\">\n",
       "      <th></th>\n",
       "      <th>key</th>\n",
       "      <th>wire_1</th>\n",
       "      <th>wire_2</th>\n",
       "      <th>wire_3</th>\n",
       "      <th>wire_4</th>\n",
       "      <th>wire_5</th>\n",
       "      <th>wire_6</th>\n",
       "      <th>wire_7</th>\n",
       "      <th>wire_8</th>\n",
       "      <th>wire_9</th>\n",
       "    </tr>\n",
       "  </thead>\n",
       "  <tbody>\n",
       "    <tr>\n",
       "      <th>0</th>\n",
       "      <td>1</td>\n",
       "      <td>2019-05-03 11:11:41</td>\n",
       "      <td>NaN</td>\n",
       "      <td>NaN</td>\n",
       "      <td>NaN</td>\n",
       "      <td>NaN</td>\n",
       "      <td>NaN</td>\n",
       "      <td>NaN</td>\n",
       "      <td>NaN</td>\n",
       "      <td>NaN</td>\n",
       "    </tr>\n",
       "    <tr>\n",
       "      <th>1</th>\n",
       "      <td>2</td>\n",
       "      <td>2019-05-03 11:46:10</td>\n",
       "      <td>NaN</td>\n",
       "      <td>NaN</td>\n",
       "      <td>NaN</td>\n",
       "      <td>NaN</td>\n",
       "      <td>NaN</td>\n",
       "      <td>NaN</td>\n",
       "      <td>NaN</td>\n",
       "      <td>NaN</td>\n",
       "    </tr>\n",
       "    <tr>\n",
       "      <th>2</th>\n",
       "      <td>3</td>\n",
       "      <td>2019-05-03 12:13:47</td>\n",
       "      <td>NaN</td>\n",
       "      <td>NaN</td>\n",
       "      <td>NaN</td>\n",
       "      <td>NaN</td>\n",
       "      <td>NaN</td>\n",
       "      <td>NaN</td>\n",
       "      <td>NaN</td>\n",
       "      <td>NaN</td>\n",
       "    </tr>\n",
       "  </tbody>\n",
       "</table>\n",
       "</div>"
      ],
      "text/plain": [
       "   key               wire_1 wire_2 wire_3 wire_4 wire_5 wire_6 wire_7 wire_8  \\\n",
       "0    1  2019-05-03 11:11:41    NaN    NaN    NaN    NaN    NaN    NaN    NaN   \n",
       "1    2  2019-05-03 11:46:10    NaN    NaN    NaN    NaN    NaN    NaN    NaN   \n",
       "2    3  2019-05-03 12:13:47    NaN    NaN    NaN    NaN    NaN    NaN    NaN   \n",
       "\n",
       "  wire_9  \n",
       "0    NaN  \n",
       "1    NaN  \n",
       "2    NaN  "
      ]
     },
     "execution_count": 91,
     "metadata": {},
     "output_type": "execute_result"
    }
   ],
   "source": [
    "data_wire_time.head(3)"
   ]
  },
  {
   "cell_type": "markdown",
   "metadata": {},
   "source": [
    "Проверил, что изменения применились."
   ]
  },
  {
   "cell_type": "code",
   "execution_count": 92,
   "metadata": {},
   "outputs": [
    {
     "name": "stdout",
     "output_type": "stream",
     "text": [
      "<class 'pandas.core.frame.DataFrame'>\n",
      "RangeIndex: 3081 entries, 0 to 3080\n",
      "Data columns (total 10 columns):\n",
      " #   Column  Non-Null Count  Dtype \n",
      "---  ------  --------------  ----- \n",
      " 0   key     3081 non-null   int64 \n",
      " 1   wire_1  3055 non-null   object\n",
      " 2   wire_2  1079 non-null   object\n",
      " 3   wire_3  63 non-null     object\n",
      " 4   wire_4  14 non-null     object\n",
      " 5   wire_5  1 non-null      object\n",
      " 6   wire_6  73 non-null     object\n",
      " 7   wire_7  11 non-null     object\n",
      " 8   wire_8  19 non-null     object\n",
      " 9   wire_9  29 non-null     object\n",
      "dtypes: int64(1), object(9)\n",
      "memory usage: 240.8+ KB\n"
     ]
    }
   ],
   "source": [
    "data_wire_time.info()"
   ]
  },
  {
   "cell_type": "markdown",
   "metadata": {},
   "source": [
    "Вывел основную информацию о DS с помощью метода info(), обнаружил, что дата в wire_1 и т.д. хранится в формате object."
   ]
  },
  {
   "cell_type": "code",
   "execution_count": 93,
   "metadata": {},
   "outputs": [],
   "source": [
    "data_wire_time['wire_1'] = pd.to_datetime(data_wire_time['wire_1'], format='%Y-%m-%dT%H:%M:%S')\n",
    "data_wire_time['wire_2'] = pd.to_datetime(data_wire_time['wire_2'], format='%Y-%m-%dT%H:%M:%S')\n",
    "data_wire_time['wire_3'] = pd.to_datetime(data_wire_time['wire_3'], format='%Y-%m-%dT%H:%M:%S')\n",
    "data_wire_time['wire_4'] = pd.to_datetime(data_wire_time['wire_4'], format='%Y-%m-%dT%H:%M:%S')\n",
    "data_wire_time['wire_5'] = pd.to_datetime(data_wire_time['wire_5'], format='%Y-%m-%dT%H:%M:%S')\n",
    "data_wire_time['wire_6'] = pd.to_datetime(data_wire_time['wire_6'], format='%Y-%m-%dT%H:%M:%S')\n",
    "data_wire_time['wire_7'] = pd.to_datetime(data_wire_time['wire_7'], format='%Y-%m-%dT%H:%M:%S')\n",
    "data_wire_time['wire_8'] = pd.to_datetime(data_wire_time['wire_8'], format='%Y-%m-%dT%H:%M:%S')\n",
    "data_wire_time['wire_9'] = pd.to_datetime(data_wire_time['wire_9'], format='%Y-%m-%dT%H:%M:%S')"
   ]
  },
  {
   "cell_type": "markdown",
   "metadata": {},
   "source": [
    "Изменил типа данных в столбце и преобразовал значение функцией pd.to_datetime."
   ]
  },
  {
   "cell_type": "code",
   "execution_count": 94,
   "metadata": {},
   "outputs": [
    {
     "data": {
      "text/plain": [
       "key          0\n",
       "wire_1      26\n",
       "wire_2    2002\n",
       "wire_3    3018\n",
       "wire_4    3067\n",
       "wire_5    3080\n",
       "wire_6    3008\n",
       "wire_7    3070\n",
       "wire_8    3062\n",
       "wire_9    3052\n",
       "dtype: int64"
      ]
     },
     "execution_count": 94,
     "metadata": {},
     "output_type": "execute_result"
    }
   ],
   "source": [
    "data_wire_time.isna().sum()"
   ]
  },
  {
   "cell_type": "markdown",
   "metadata": {},
   "source": [
    "Проверил количество пропущенных значений для каждого столбца."
   ]
  },
  {
   "cell_type": "code",
   "execution_count": 95,
   "metadata": {},
   "outputs": [
    {
     "data": {
      "text/plain": [
       "0"
      ]
     },
     "execution_count": 95,
     "metadata": {},
     "output_type": "execute_result"
    }
   ],
   "source": [
    "data_wire_time.duplicated().sum()"
   ]
  },
  {
   "cell_type": "markdown",
   "metadata": {},
   "source": [
    "Проверил количество явных дубликатов, убедился в их отсутствии."
   ]
  },
  {
   "cell_type": "code",
   "execution_count": 96,
   "metadata": {},
   "outputs": [
    {
     "data": {
      "text/plain": [
       "key       3081\n",
       "wire_1    3055\n",
       "wire_2    1079\n",
       "wire_3      63\n",
       "wire_4      14\n",
       "wire_5       1\n",
       "wire_6      73\n",
       "wire_7      11\n",
       "wire_8      19\n",
       "wire_9      29\n",
       "dtype: int64"
      ]
     },
     "execution_count": 96,
     "metadata": {},
     "output_type": "execute_result"
    }
   ],
   "source": [
    "data_wire_time.nunique()"
   ]
  },
  {
   "cell_type": "markdown",
   "metadata": {},
   "source": [
    "Проверил количеств уникальных значений."
   ]
  },
  {
   "cell_type": "code",
   "execution_count": 97,
   "metadata": {},
   "outputs": [
    {
     "data": {
      "text/plain": [
       "key          0\n",
       "wire_1      26\n",
       "wire_2    2002\n",
       "wire_3    3018\n",
       "wire_4    3067\n",
       "wire_5    3080\n",
       "wire_6    3008\n",
       "wire_7    3070\n",
       "wire_8    3062\n",
       "wire_9    3052\n",
       "dtype: int64"
      ]
     },
     "execution_count": 97,
     "metadata": {},
     "output_type": "execute_result"
    }
   ],
   "source": [
    "data_wire_time.isnull().sum()"
   ]
  },
  {
   "cell_type": "markdown",
   "metadata": {},
   "source": [
    "Проверил количеств аномальных значений."
   ]
  },
  {
   "cell_type": "code",
   "execution_count": 98,
   "metadata": {},
   "outputs": [
    {
     "data": {
      "text/html": [
       "<div>\n",
       "<style scoped>\n",
       "    .dataframe tbody tr th:only-of-type {\n",
       "        vertical-align: middle;\n",
       "    }\n",
       "\n",
       "    .dataframe tbody tr th {\n",
       "        vertical-align: top;\n",
       "    }\n",
       "\n",
       "    .dataframe thead th {\n",
       "        text-align: right;\n",
       "    }\n",
       "</style>\n",
       "<table border=\"1\" class=\"dataframe\">\n",
       "  <thead>\n",
       "    <tr style=\"text-align: right;\">\n",
       "      <th></th>\n",
       "      <th>key</th>\n",
       "    </tr>\n",
       "  </thead>\n",
       "  <tbody>\n",
       "    <tr>\n",
       "      <th>count</th>\n",
       "      <td>3081.000000</td>\n",
       "    </tr>\n",
       "    <tr>\n",
       "      <th>mean</th>\n",
       "      <td>1623.426485</td>\n",
       "    </tr>\n",
       "    <tr>\n",
       "      <th>std</th>\n",
       "      <td>932.996726</td>\n",
       "    </tr>\n",
       "    <tr>\n",
       "      <th>min</th>\n",
       "      <td>1.000000</td>\n",
       "    </tr>\n",
       "    <tr>\n",
       "      <th>25%</th>\n",
       "      <td>823.000000</td>\n",
       "    </tr>\n",
       "    <tr>\n",
       "      <th>50%</th>\n",
       "      <td>1619.000000</td>\n",
       "    </tr>\n",
       "    <tr>\n",
       "      <th>75%</th>\n",
       "      <td>2434.000000</td>\n",
       "    </tr>\n",
       "    <tr>\n",
       "      <th>max</th>\n",
       "      <td>3241.000000</td>\n",
       "    </tr>\n",
       "  </tbody>\n",
       "</table>\n",
       "</div>"
      ],
      "text/plain": [
       "               key\n",
       "count  3081.000000\n",
       "mean   1623.426485\n",
       "std     932.996726\n",
       "min       1.000000\n",
       "25%     823.000000\n",
       "50%    1619.000000\n",
       "75%    2434.000000\n",
       "max    3241.000000"
      ]
     },
     "execution_count": 98,
     "metadata": {},
     "output_type": "execute_result"
    }
   ],
   "source": [
    "data_wire_time.describe()"
   ]
  },
  {
   "cell_type": "markdown",
   "metadata": {},
   "source": [
    "Делаю оценку DS."
   ]
  },
  {
   "cell_type": "markdown",
   "metadata": {},
   "source": [
    "### Вывод - data_wire_time"
   ]
  },
  {
   "cell_type": "markdown",
   "metadata": {},
   "source": [
    "В данном разделе я произвел анализ DS data_wire_time, в ходе анализа я:\n",
    "\n",
    "- загрузил DS data_wire_time;\n",
    "- переименовал столбецы;\n",
    "- проверил кол-во пропусков;\n",
    "- проверил кол-во дубликатов, дубликатов не оказалось;\n",
    "- проверил кол-во уникальных значений.  \n",
    "По результату проведенного анализа я делаю вывод, что данные по времени примерно совпадают с данными по объему. Считаю, что дополнительной предобработки не требуется."
   ]
  },
  {
   "cell_type": "markdown",
   "metadata": {},
   "source": [
    "## Вывод по разделу."
   ]
  },
  {
   "cell_type": "markdown",
   "metadata": {},
   "source": [
    "В ходе проведенной работы, я:  \n",
    "- загруз и проверил все DS;\n",
    "- выполлнил предобработку данных;  \n",
    "- скорректировал типы данных;  \n",
    "- проверил все DS на пропущенные значения, дубликаты и уникальные значения;\n",
    "- построил необходимые графики;\n",
    "- объединил все DS в один общий."
   ]
  },
  {
   "cell_type": "markdown",
   "metadata": {},
   "source": [
    "### 2. Подготовка выборки для обучения"
   ]
  },
  {
   "cell_type": "code",
   "execution_count": 99,
   "metadata": {},
   "outputs": [],
   "source": [
    "full = (data_temporary.merge(data_arc, how = 'inner', on = 'key')\n",
    "                 .merge(data_wire, how = 'inner', on = 'key')\n",
    "                 .merge(data_bulk, how = 'inner', on = 'key')\n",
    "                 .merge(data_gas, how = 'inner', on = 'key')\n",
    "       )"
   ]
  },
  {
   "cell_type": "markdown",
   "metadata": {},
   "source": [
    "Объединил DS по ключу key."
   ]
  },
  {
   "cell_type": "code",
   "execution_count": 100,
   "metadata": {
    "scrolled": false
   },
   "outputs": [
    {
     "data": {
      "text/html": [
       "<div>\n",
       "<style scoped>\n",
       "    .dataframe tbody tr th:only-of-type {\n",
       "        vertical-align: middle;\n",
       "    }\n",
       "\n",
       "    .dataframe tbody tr th {\n",
       "        vertical-align: top;\n",
       "    }\n",
       "\n",
       "    .dataframe thead th {\n",
       "        text-align: right;\n",
       "    }\n",
       "</style>\n",
       "<table border=\"1\" class=\"dataframe\">\n",
       "  <thead>\n",
       "    <tr style=\"text-align: right;\">\n",
       "      <th></th>\n",
       "      <th>key</th>\n",
       "      <th>time_1</th>\n",
       "      <th>time_2</th>\n",
       "      <th>temp_start</th>\n",
       "      <th>temp_stop</th>\n",
       "      <th>act_power</th>\n",
       "      <th>react_power</th>\n",
       "      <th>full_power</th>\n",
       "      <th>wire_1</th>\n",
       "      <th>wire_2</th>\n",
       "      <th>...</th>\n",
       "      <th>bulk_7</th>\n",
       "      <th>bulk_8</th>\n",
       "      <th>bulk_9</th>\n",
       "      <th>bulk_10</th>\n",
       "      <th>bulk_11</th>\n",
       "      <th>bulk_12</th>\n",
       "      <th>bulk_13</th>\n",
       "      <th>bulk_14</th>\n",
       "      <th>bulk_15</th>\n",
       "      <th>gas_1</th>\n",
       "    </tr>\n",
       "  </thead>\n",
       "  <tbody>\n",
       "    <tr>\n",
       "      <th>0</th>\n",
       "      <td>1</td>\n",
       "      <td>2019-05-03 11:16:18</td>\n",
       "      <td>2019-05-03 11:30:39</td>\n",
       "      <td>1571.0</td>\n",
       "      <td>1613.0</td>\n",
       "      <td>4.878147</td>\n",
       "      <td>3.183241</td>\n",
       "      <td>5.826395</td>\n",
       "      <td>60.059998</td>\n",
       "      <td>NaN</td>\n",
       "      <td>...</td>\n",
       "      <td>NaN</td>\n",
       "      <td>NaN</td>\n",
       "      <td>NaN</td>\n",
       "      <td>NaN</td>\n",
       "      <td>NaN</td>\n",
       "      <td>206.0</td>\n",
       "      <td>NaN</td>\n",
       "      <td>150.0</td>\n",
       "      <td>154.0</td>\n",
       "      <td>29.749986</td>\n",
       "    </tr>\n",
       "    <tr>\n",
       "      <th>1</th>\n",
       "      <td>2</td>\n",
       "      <td>2019-05-03 11:37:27</td>\n",
       "      <td>2019-05-03 11:59:12</td>\n",
       "      <td>1581.0</td>\n",
       "      <td>1602.0</td>\n",
       "      <td>3.052598</td>\n",
       "      <td>1.998112</td>\n",
       "      <td>3.649216</td>\n",
       "      <td>96.052315</td>\n",
       "      <td>NaN</td>\n",
       "      <td>...</td>\n",
       "      <td>NaN</td>\n",
       "      <td>NaN</td>\n",
       "      <td>NaN</td>\n",
       "      <td>NaN</td>\n",
       "      <td>NaN</td>\n",
       "      <td>206.0</td>\n",
       "      <td>NaN</td>\n",
       "      <td>149.0</td>\n",
       "      <td>154.0</td>\n",
       "      <td>12.555561</td>\n",
       "    </tr>\n",
       "    <tr>\n",
       "      <th>2</th>\n",
       "      <td>3</td>\n",
       "      <td>2019-05-03 12:13:17</td>\n",
       "      <td>2019-05-03 12:34:57</td>\n",
       "      <td>1596.0</td>\n",
       "      <td>1599.0</td>\n",
       "      <td>2.525882</td>\n",
       "      <td>1.599076</td>\n",
       "      <td>2.989534</td>\n",
       "      <td>91.160157</td>\n",
       "      <td>NaN</td>\n",
       "      <td>...</td>\n",
       "      <td>NaN</td>\n",
       "      <td>NaN</td>\n",
       "      <td>NaN</td>\n",
       "      <td>NaN</td>\n",
       "      <td>NaN</td>\n",
       "      <td>205.0</td>\n",
       "      <td>NaN</td>\n",
       "      <td>152.0</td>\n",
       "      <td>153.0</td>\n",
       "      <td>28.554793</td>\n",
       "    </tr>\n",
       "    <tr>\n",
       "      <th>3</th>\n",
       "      <td>4</td>\n",
       "      <td>2019-05-03 12:52:57</td>\n",
       "      <td>2019-05-03 12:59:25</td>\n",
       "      <td>1601.0</td>\n",
       "      <td>1625.0</td>\n",
       "      <td>3.209250</td>\n",
       "      <td>2.060298</td>\n",
       "      <td>3.814962</td>\n",
       "      <td>89.063515</td>\n",
       "      <td>NaN</td>\n",
       "      <td>...</td>\n",
       "      <td>NaN</td>\n",
       "      <td>NaN</td>\n",
       "      <td>NaN</td>\n",
       "      <td>NaN</td>\n",
       "      <td>NaN</td>\n",
       "      <td>207.0</td>\n",
       "      <td>NaN</td>\n",
       "      <td>153.0</td>\n",
       "      <td>154.0</td>\n",
       "      <td>18.841219</td>\n",
       "    </tr>\n",
       "    <tr>\n",
       "      <th>4</th>\n",
       "      <td>5</td>\n",
       "      <td>2019-05-03 13:23:19</td>\n",
       "      <td>2019-05-03 13:36:01</td>\n",
       "      <td>1576.0</td>\n",
       "      <td>1602.0</td>\n",
       "      <td>3.347173</td>\n",
       "      <td>2.252643</td>\n",
       "      <td>4.035758</td>\n",
       "      <td>89.238236</td>\n",
       "      <td>9.11456</td>\n",
       "      <td>...</td>\n",
       "      <td>NaN</td>\n",
       "      <td>NaN</td>\n",
       "      <td>NaN</td>\n",
       "      <td>NaN</td>\n",
       "      <td>NaN</td>\n",
       "      <td>203.0</td>\n",
       "      <td>NaN</td>\n",
       "      <td>151.0</td>\n",
       "      <td>152.0</td>\n",
       "      <td>5.413692</td>\n",
       "    </tr>\n",
       "  </tbody>\n",
       "</table>\n",
       "<p>5 rows × 33 columns</p>\n",
       "</div>"
      ],
      "text/plain": [
       "   key              time_1              time_2  temp_start  temp_stop  \\\n",
       "0    1 2019-05-03 11:16:18 2019-05-03 11:30:39      1571.0     1613.0   \n",
       "1    2 2019-05-03 11:37:27 2019-05-03 11:59:12      1581.0     1602.0   \n",
       "2    3 2019-05-03 12:13:17 2019-05-03 12:34:57      1596.0     1599.0   \n",
       "3    4 2019-05-03 12:52:57 2019-05-03 12:59:25      1601.0     1625.0   \n",
       "4    5 2019-05-03 13:23:19 2019-05-03 13:36:01      1576.0     1602.0   \n",
       "\n",
       "   act_power  react_power  full_power     wire_1   wire_2  ...  bulk_7  \\\n",
       "0   4.878147     3.183241    5.826395  60.059998      NaN  ...     NaN   \n",
       "1   3.052598     1.998112    3.649216  96.052315      NaN  ...     NaN   \n",
       "2   2.525882     1.599076    2.989534  91.160157      NaN  ...     NaN   \n",
       "3   3.209250     2.060298    3.814962  89.063515      NaN  ...     NaN   \n",
       "4   3.347173     2.252643    4.035758  89.238236  9.11456  ...     NaN   \n",
       "\n",
       "   bulk_8  bulk_9  bulk_10  bulk_11  bulk_12  bulk_13  bulk_14  bulk_15  \\\n",
       "0     NaN     NaN      NaN      NaN    206.0      NaN    150.0    154.0   \n",
       "1     NaN     NaN      NaN      NaN    206.0      NaN    149.0    154.0   \n",
       "2     NaN     NaN      NaN      NaN    205.0      NaN    152.0    153.0   \n",
       "3     NaN     NaN      NaN      NaN    207.0      NaN    153.0    154.0   \n",
       "4     NaN     NaN      NaN      NaN    203.0      NaN    151.0    152.0   \n",
       "\n",
       "       gas_1  \n",
       "0  29.749986  \n",
       "1  12.555561  \n",
       "2  28.554793  \n",
       "3  18.841219  \n",
       "4   5.413692  \n",
       "\n",
       "[5 rows x 33 columns]"
      ]
     },
     "execution_count": 100,
     "metadata": {},
     "output_type": "execute_result"
    }
   ],
   "source": [
    "full.head(5)"
   ]
  },
  {
   "cell_type": "code",
   "execution_count": 101,
   "metadata": {},
   "outputs": [],
   "source": [
    "full = full.drop(['key', \n",
    "                  'bulk_8',\n",
    "                  'wire_5',\n",
    "                  'time_1',\n",
    "                  'time_2',\n",
    "                  'act_power',\n",
    "                  'react_power',\n",
    "                  'bulk_2',\n",
    "                  'wire_9',\n",
    "                  'bulk_9'], axis = 1)"
   ]
  },
  {
   "cell_type": "markdown",
   "metadata": {},
   "source": [
    "Удалил лишние признаки."
   ]
  },
  {
   "cell_type": "code",
   "execution_count": 102,
   "metadata": {
    "scrolled": false
   },
   "outputs": [
    {
     "data": {
      "text/plain": [
       "temp_start       0\n",
       "temp_stop        0\n",
       "full_power       0\n",
       "wire_1          23\n",
       "wire_2        1518\n",
       "wire_3        2290\n",
       "wire_4        2317\n",
       "wire_6        2284\n",
       "wire_7        2325\n",
       "wire_8        2316\n",
       "bulk_1        2130\n",
       "bulk_3        1369\n",
       "bulk_4        1517\n",
       "bulk_5        2276\n",
       "bulk_6        1891\n",
       "bulk_7        2316\n",
       "bulk_10       2186\n",
       "bulk_11       2199\n",
       "bulk_12        517\n",
       "bulk_13       2315\n",
       "bulk_14        261\n",
       "bulk_15        630\n",
       "gas_1            0\n",
       "dtype: int64"
      ]
     },
     "execution_count": 102,
     "metadata": {},
     "output_type": "execute_result"
    }
   ],
   "source": [
    "full.isna().sum()"
   ]
  },
  {
   "cell_type": "markdown",
   "metadata": {},
   "source": [
    "Проверил количество уникальных значений в сводном DS."
   ]
  },
  {
   "cell_type": "code",
   "execution_count": 103,
   "metadata": {},
   "outputs": [],
   "source": [
    "full = full.fillna(0)"
   ]
  },
  {
   "cell_type": "markdown",
   "metadata": {},
   "source": [
    "Заменил все пропущенные значения на 0."
   ]
  },
  {
   "cell_type": "code",
   "execution_count": 104,
   "metadata": {
    "scrolled": false
   },
   "outputs": [
    {
     "data": {
      "text/plain": [
       "temp_start    0\n",
       "temp_stop     0\n",
       "full_power    0\n",
       "wire_1        0\n",
       "wire_2        0\n",
       "wire_3        0\n",
       "wire_4        0\n",
       "wire_6        0\n",
       "wire_7        0\n",
       "wire_8        0\n",
       "bulk_1        0\n",
       "bulk_3        0\n",
       "bulk_4        0\n",
       "bulk_5        0\n",
       "bulk_6        0\n",
       "bulk_7        0\n",
       "bulk_10       0\n",
       "bulk_11       0\n",
       "bulk_12       0\n",
       "bulk_13       0\n",
       "bulk_14       0\n",
       "bulk_15       0\n",
       "gas_1         0\n",
       "dtype: int64"
      ]
     },
     "execution_count": 104,
     "metadata": {},
     "output_type": "execute_result"
    }
   ],
   "source": [
    "full.isna().sum()"
   ]
  },
  {
   "cell_type": "markdown",
   "metadata": {},
   "source": [
    "Повторно проверил DS убедился в отсутствии пропусков."
   ]
  },
  {
   "cell_type": "code",
   "execution_count": 105,
   "metadata": {
    "scrolled": false
   },
   "outputs": [
    {
     "name": "stdout",
     "output_type": "stream",
     "text": [
      "<class 'pandas.core.frame.DataFrame'>\n",
      "Int64Index: 2329 entries, 0 to 2328\n",
      "Data columns (total 23 columns):\n",
      " #   Column      Non-Null Count  Dtype  \n",
      "---  ------      --------------  -----  \n",
      " 0   temp_start  2329 non-null   float64\n",
      " 1   temp_stop   2329 non-null   float64\n",
      " 2   full_power  2329 non-null   float64\n",
      " 3   wire_1      2329 non-null   float64\n",
      " 4   wire_2      2329 non-null   float64\n",
      " 5   wire_3      2329 non-null   float64\n",
      " 6   wire_4      2329 non-null   float64\n",
      " 7   wire_6      2329 non-null   float64\n",
      " 8   wire_7      2329 non-null   float64\n",
      " 9   wire_8      2329 non-null   float64\n",
      " 10  bulk_1      2329 non-null   float64\n",
      " 11  bulk_3      2329 non-null   float64\n",
      " 12  bulk_4      2329 non-null   float64\n",
      " 13  bulk_5      2329 non-null   float64\n",
      " 14  bulk_6      2329 non-null   float64\n",
      " 15  bulk_7      2329 non-null   float64\n",
      " 16  bulk_10     2329 non-null   float64\n",
      " 17  bulk_11     2329 non-null   float64\n",
      " 18  bulk_12     2329 non-null   float64\n",
      " 19  bulk_13     2329 non-null   float64\n",
      " 20  bulk_14     2329 non-null   float64\n",
      " 21  bulk_15     2329 non-null   float64\n",
      " 22  gas_1       2329 non-null   float64\n",
      "dtypes: float64(23)\n",
      "memory usage: 436.7 KB\n"
     ]
    }
   ],
   "source": [
    "full.info()"
   ]
  },
  {
   "cell_type": "markdown",
   "metadata": {},
   "source": [
    "Делаю оценку DS, осталось 22 признака."
   ]
  },
  {
   "cell_type": "code",
   "execution_count": 106,
   "metadata": {
    "scrolled": false
   },
   "outputs": [
    {
     "data": {
      "text/html": [
       "<div>\n",
       "<style scoped>\n",
       "    .dataframe tbody tr th:only-of-type {\n",
       "        vertical-align: middle;\n",
       "    }\n",
       "\n",
       "    .dataframe tbody tr th {\n",
       "        vertical-align: top;\n",
       "    }\n",
       "\n",
       "    .dataframe thead th {\n",
       "        text-align: right;\n",
       "    }\n",
       "</style>\n",
       "<table border=\"1\" class=\"dataframe\">\n",
       "  <thead>\n",
       "    <tr style=\"text-align: right;\">\n",
       "      <th></th>\n",
       "      <th>temp_start</th>\n",
       "      <th>temp_stop</th>\n",
       "      <th>full_power</th>\n",
       "      <th>wire_1</th>\n",
       "      <th>wire_2</th>\n",
       "      <th>wire_3</th>\n",
       "      <th>wire_4</th>\n",
       "      <th>wire_6</th>\n",
       "      <th>wire_7</th>\n",
       "      <th>wire_8</th>\n",
       "      <th>...</th>\n",
       "      <th>bulk_5</th>\n",
       "      <th>bulk_6</th>\n",
       "      <th>bulk_7</th>\n",
       "      <th>bulk_10</th>\n",
       "      <th>bulk_11</th>\n",
       "      <th>bulk_12</th>\n",
       "      <th>bulk_13</th>\n",
       "      <th>bulk_14</th>\n",
       "      <th>bulk_15</th>\n",
       "      <th>gas_1</th>\n",
       "    </tr>\n",
       "  </thead>\n",
       "  <tbody>\n",
       "    <tr>\n",
       "      <th>0</th>\n",
       "      <td>1571.0</td>\n",
       "      <td>1613.0</td>\n",
       "      <td>5.826395</td>\n",
       "      <td>60.059998</td>\n",
       "      <td>0.00000</td>\n",
       "      <td>0.0</td>\n",
       "      <td>0.0</td>\n",
       "      <td>0.0</td>\n",
       "      <td>0.0</td>\n",
       "      <td>0.0</td>\n",
       "      <td>...</td>\n",
       "      <td>0.0</td>\n",
       "      <td>0.0</td>\n",
       "      <td>0.0</td>\n",
       "      <td>0.0</td>\n",
       "      <td>0.0</td>\n",
       "      <td>206.0</td>\n",
       "      <td>0.0</td>\n",
       "      <td>150.0</td>\n",
       "      <td>154.0</td>\n",
       "      <td>29.749986</td>\n",
       "    </tr>\n",
       "    <tr>\n",
       "      <th>1</th>\n",
       "      <td>1581.0</td>\n",
       "      <td>1602.0</td>\n",
       "      <td>3.649216</td>\n",
       "      <td>96.052315</td>\n",
       "      <td>0.00000</td>\n",
       "      <td>0.0</td>\n",
       "      <td>0.0</td>\n",
       "      <td>0.0</td>\n",
       "      <td>0.0</td>\n",
       "      <td>0.0</td>\n",
       "      <td>...</td>\n",
       "      <td>0.0</td>\n",
       "      <td>0.0</td>\n",
       "      <td>0.0</td>\n",
       "      <td>0.0</td>\n",
       "      <td>0.0</td>\n",
       "      <td>206.0</td>\n",
       "      <td>0.0</td>\n",
       "      <td>149.0</td>\n",
       "      <td>154.0</td>\n",
       "      <td>12.555561</td>\n",
       "    </tr>\n",
       "    <tr>\n",
       "      <th>2</th>\n",
       "      <td>1596.0</td>\n",
       "      <td>1599.0</td>\n",
       "      <td>2.989534</td>\n",
       "      <td>91.160157</td>\n",
       "      <td>0.00000</td>\n",
       "      <td>0.0</td>\n",
       "      <td>0.0</td>\n",
       "      <td>0.0</td>\n",
       "      <td>0.0</td>\n",
       "      <td>0.0</td>\n",
       "      <td>...</td>\n",
       "      <td>0.0</td>\n",
       "      <td>0.0</td>\n",
       "      <td>0.0</td>\n",
       "      <td>0.0</td>\n",
       "      <td>0.0</td>\n",
       "      <td>205.0</td>\n",
       "      <td>0.0</td>\n",
       "      <td>152.0</td>\n",
       "      <td>153.0</td>\n",
       "      <td>28.554793</td>\n",
       "    </tr>\n",
       "    <tr>\n",
       "      <th>3</th>\n",
       "      <td>1601.0</td>\n",
       "      <td>1625.0</td>\n",
       "      <td>3.814962</td>\n",
       "      <td>89.063515</td>\n",
       "      <td>0.00000</td>\n",
       "      <td>0.0</td>\n",
       "      <td>0.0</td>\n",
       "      <td>0.0</td>\n",
       "      <td>0.0</td>\n",
       "      <td>0.0</td>\n",
       "      <td>...</td>\n",
       "      <td>0.0</td>\n",
       "      <td>0.0</td>\n",
       "      <td>0.0</td>\n",
       "      <td>0.0</td>\n",
       "      <td>0.0</td>\n",
       "      <td>207.0</td>\n",
       "      <td>0.0</td>\n",
       "      <td>153.0</td>\n",
       "      <td>154.0</td>\n",
       "      <td>18.841219</td>\n",
       "    </tr>\n",
       "    <tr>\n",
       "      <th>4</th>\n",
       "      <td>1576.0</td>\n",
       "      <td>1602.0</td>\n",
       "      <td>4.035758</td>\n",
       "      <td>89.238236</td>\n",
       "      <td>9.11456</td>\n",
       "      <td>0.0</td>\n",
       "      <td>0.0</td>\n",
       "      <td>0.0</td>\n",
       "      <td>0.0</td>\n",
       "      <td>0.0</td>\n",
       "      <td>...</td>\n",
       "      <td>0.0</td>\n",
       "      <td>0.0</td>\n",
       "      <td>0.0</td>\n",
       "      <td>0.0</td>\n",
       "      <td>0.0</td>\n",
       "      <td>203.0</td>\n",
       "      <td>0.0</td>\n",
       "      <td>151.0</td>\n",
       "      <td>152.0</td>\n",
       "      <td>5.413692</td>\n",
       "    </tr>\n",
       "  </tbody>\n",
       "</table>\n",
       "<p>5 rows × 23 columns</p>\n",
       "</div>"
      ],
      "text/plain": [
       "   temp_start  temp_stop  full_power     wire_1   wire_2  wire_3  wire_4  \\\n",
       "0      1571.0     1613.0    5.826395  60.059998  0.00000     0.0     0.0   \n",
       "1      1581.0     1602.0    3.649216  96.052315  0.00000     0.0     0.0   \n",
       "2      1596.0     1599.0    2.989534  91.160157  0.00000     0.0     0.0   \n",
       "3      1601.0     1625.0    3.814962  89.063515  0.00000     0.0     0.0   \n",
       "4      1576.0     1602.0    4.035758  89.238236  9.11456     0.0     0.0   \n",
       "\n",
       "   wire_6  wire_7  wire_8  ...  bulk_5  bulk_6  bulk_7  bulk_10  bulk_11  \\\n",
       "0     0.0     0.0     0.0  ...     0.0     0.0     0.0      0.0      0.0   \n",
       "1     0.0     0.0     0.0  ...     0.0     0.0     0.0      0.0      0.0   \n",
       "2     0.0     0.0     0.0  ...     0.0     0.0     0.0      0.0      0.0   \n",
       "3     0.0     0.0     0.0  ...     0.0     0.0     0.0      0.0      0.0   \n",
       "4     0.0     0.0     0.0  ...     0.0     0.0     0.0      0.0      0.0   \n",
       "\n",
       "   bulk_12  bulk_13  bulk_14  bulk_15      gas_1  \n",
       "0    206.0      0.0    150.0    154.0  29.749986  \n",
       "1    206.0      0.0    149.0    154.0  12.555561  \n",
       "2    205.0      0.0    152.0    153.0  28.554793  \n",
       "3    207.0      0.0    153.0    154.0  18.841219  \n",
       "4    203.0      0.0    151.0    152.0   5.413692  \n",
       "\n",
       "[5 rows x 23 columns]"
      ]
     },
     "execution_count": 106,
     "metadata": {},
     "output_type": "execute_result"
    }
   ],
   "source": [
    "full.head(5)"
   ]
  },
  {
   "cell_type": "code",
   "execution_count": 107,
   "metadata": {
    "scrolled": false
   },
   "outputs": [
    {
     "data": {
      "image/png": "[encoded data removed]",
      "text/plain": [
       "<Figure size 1080x576 with 2 Axes>"
      ]
     },
     "metadata": {
      "needs_background": "light"
     },
     "output_type": "display_data"
    }
   ],
   "source": [
    "plt.figure(figsize=FIGSIZE)\n",
    "correlation_matrix = full.corr()\n",
    "sns.heatmap(correlation_matrix, annot = True);"
   ]
  },
  {
   "cell_type": "markdown",
   "metadata": {},
   "source": [
    "Построил график коррекляции параметров, вижу большую зависимость температуры на входе и расхода газа. Т.к. ключевым параметром для нас является температура на выхоте, я принимаю решение удалить из выборки gas_1."
   ]
  },
  {
   "cell_type": "code",
   "execution_count": 108,
   "metadata": {},
   "outputs": [],
   "source": [
    "full = full.drop(['gas_1'], axis = 1)"
   ]
  },
  {
   "cell_type": "code",
   "execution_count": 109,
   "metadata": {},
   "outputs": [],
   "source": [
    "features = full.drop(['temp_stop'], axis=1) #выделил признаки\n",
    "target = full['temp_stop'] #выделил целевой признак\n",
    "features_train, features_test, target_train, target_test = train_test_split(features,\n",
    "                                                                            target,\n",
    "                                                                            test_size=0.25,\n",
    "                                                                            random_state=RANDOMSTATE\n",
    "                                                                           )"
   ]
  },
  {
   "cell_type": "markdown",
   "metadata": {},
   "source": [
    "Выделил признаки и разделил DS на обучающую и тестовую выборки в соотношении 75/25%."
   ]
  },
  {
   "cell_type": "code",
   "execution_count": 110,
   "metadata": {},
   "outputs": [
    {
     "name": "stdout",
     "output_type": "stream",
     "text": [
      "Train - 75% (1746, 21)\n",
      "Train - 75% (1746,)\n",
      "Test - 25% (583, 21)\n",
      "Test - 25% (583,)\n"
     ]
    }
   ],
   "source": [
    "print('Train - 75%', features_train.shape)\n",
    "print('Train - 75%', target_train.shape)\n",
    "print('Test - 25%', features_test.shape)\n",
    "print('Test - 25%', target_test.shape)"
   ]
  },
  {
   "cell_type": "markdown",
   "metadata": {},
   "source": [
    "Проверил количество данных, которые попали в выборки."
   ]
  },
  {
   "cell_type": "markdown",
   "metadata": {},
   "source": [
    "## Вывод по разделу."
   ]
  },
  {
   "cell_type": "markdown",
   "metadata": {},
   "source": [
    "В ходе проведенной работы, я:\n",
    "- объединил все DS в один;\n",
    "- удалил лишние признаки;\n",
    "- разделил DS на выборки."
   ]
  },
  {
   "cell_type": "markdown",
   "metadata": {},
   "source": [
    "## 3. Обучение моделей"
   ]
  },
  {
   "cell_type": "markdown",
   "metadata": {},
   "source": [
    "### 3.1 LinearRegression"
   ]
  },
  {
   "cell_type": "code",
   "execution_count": 123,
   "metadata": {},
   "outputs": [
    {
     "name": "stdout",
     "output_type": "stream",
     "text": [
      "Fitting 10 folds for each of 8 candidates, totalling 80 fits\n",
      "Значение MAE для LinearRegression:  6.81\n",
      "CPU times: total: 93.8 ms\n",
      "Wall time: 203 ms\n"
     ]
    },
    {
     "name": "stderr",
     "output_type": "stream",
     "text": []
    }
   ],
   "source": [
    "%%time\n",
    "pipeline = Pipeline([('selector', SelectKBest()), ('model', LinearRegression())])\n",
    "model_1 = GridSearchCV(estimator = pipeline, param_grid = {'selector__k':[3,4,5,6,7,8,9,10]}, n_jobs=-1, cv=10, verbose=1, scoring='neg_mean_absolute_error')\n",
    "model_1.fit(features_train, target_train)\n",
    "print('Значение MAE для LinearRegression: {: 0.2f}'.format(-model_1.best_score_))"
   ]
  },
  {
   "cell_type": "markdown",
   "metadata": {},
   "source": [
    "Обучил модель LinearRegression, значение MAE составило 6.81."
   ]
  },
  {
   "cell_type": "markdown",
   "metadata": {},
   "source": [
    "### 3.2 CatBoostRegressor"
   ]
  },
  {
   "cell_type": "code",
   "execution_count": 129,
   "metadata": {
    "scrolled": true
   },
   "outputs": [
    {
     "name": "stdout",
     "output_type": "stream",
     "text": [
      "Learning rate set to 0.043159\n",
      "0:\tlearn: 11.1764002\ttotal: 2.26ms\tremaining: 2.26s\n",
      "1:\tlearn: 11.0579863\ttotal: 4.35ms\tremaining: 2.17s\n",
      "2:\tlearn: 10.9334882\ttotal: 6.5ms\tremaining: 2.16s\n",
      "3:\tlearn: 10.8210745\ttotal: 8.81ms\tremaining: 2.19s\n",
      "4:\tlearn: 10.7262735\ttotal: 10.9ms\tremaining: 2.18s\n",
      "5:\tlearn: 10.6119644\ttotal: 13ms\tremaining: 2.15s\n",
      "6:\tlearn: 10.5220276\ttotal: 14.9ms\tremaining: 2.12s\n",
      "7:\tlearn: 10.4480442\ttotal: 17.1ms\tremaining: 2.12s\n",
      "8:\tlearn: 10.3665611\ttotal: 19.2ms\tremaining: 2.11s\n",
      "9:\tlearn: 10.2660068\ttotal: 21.7ms\tremaining: 2.14s\n",
      "999:\tlearn: 4.1740615\ttotal: 2.25s\tremaining: 0us\n",
      "Значение MAE для CatBoostRegressor:  6.06\n",
      "{'random_state': 100423}\n",
      "CPU times: total: 57.2 s\n",
      "Wall time: 13.9 s\n"
     ]
    }
   ],
   "source": [
    "%%time\n",
    "model_2 = CatBoostRegressor()\n",
    "hyperparams = [{'random_state':[RANDOMSTATE]}]\n",
    "model_2 = GridSearchCV(model_2, hyperparams, scoring='neg_mean_absolute_error')\n",
    "model_2.fit(features_train, target_train)\n",
    "print('Значение MAE для CatBoostRegressor: {: 0.2f}'.format(-model_2.best_score_))\n",
    "print(model_2.best_params_)"
   ]
  },
  {
   "cell_type": "markdown",
   "metadata": {},
   "source": [
    "Обучил модель CatBoostRegressor, значение MAE составило 6.06."
   ]
  },
  {
   "cell_type": "markdown",
   "metadata": {},
   "source": [
    "### 3.3 DecisionTreeRegressor"
   ]
  },
  {
   "cell_type": "code",
   "execution_count": 113,
   "metadata": {},
   "outputs": [
    {
     "name": "stdout",
     "output_type": "stream",
     "text": [
      "Значение MAE для LinearRegression:  7.15\n",
      "CPU times: total: 93.8 ms\n",
      "Wall time: 99 ms\n"
     ]
    }
   ],
   "source": [
    "%%time\n",
    "model_3 = DecisionTreeRegressor()\n",
    "hyperparams = [{'max_depth': range(1, 5), 'random_state':[RANDOMSTATE]}]\n",
    "model_3 = GridSearchCV(model_3, hyperparams, scoring='neg_mean_absolute_error')\n",
    "model_3.fit(features_train, target_train)\n",
    "print('Значение MAE для LinearRegression: {: 0.2f}'.format(-model_3.best_score_))"
   ]
  },
  {
   "cell_type": "markdown",
   "metadata": {},
   "source": [
    "Обучил модель DecisionTreeRegressor, значение MAE составило 7.15, этого значения не достаточно по условиям задачи."
   ]
  },
  {
   "cell_type": "code",
   "execution_count": 114,
   "metadata": {
    "scrolled": false
   },
   "outputs": [
    {
     "data": {
      "text/html": [
       "<div>\n",
       "<style scoped>\n",
       "    .dataframe tbody tr th:only-of-type {\n",
       "        vertical-align: middle;\n",
       "    }\n",
       "\n",
       "    .dataframe tbody tr th {\n",
       "        vertical-align: top;\n",
       "    }\n",
       "\n",
       "    .dataframe thead th {\n",
       "        text-align: right;\n",
       "    }\n",
       "</style>\n",
       "<table border=\"1\" class=\"dataframe\">\n",
       "  <thead>\n",
       "    <tr style=\"text-align: right;\">\n",
       "      <th></th>\n",
       "      <th>Param</th>\n",
       "      <th>LR</th>\n",
       "      <th>CatBoost</th>\n",
       "      <th>Tree</th>\n",
       "    </tr>\n",
       "  </thead>\n",
       "  <tbody>\n",
       "    <tr>\n",
       "      <th>0</th>\n",
       "      <td>MAE</td>\n",
       "      <td>6.81</td>\n",
       "      <td>6.06</td>\n",
       "      <td>7.15</td>\n",
       "    </tr>\n",
       "  </tbody>\n",
       "</table>\n",
       "</div>"
      ],
      "text/plain": [
       "  Param     LR CatBoost   Tree\n",
       "0   MAE   6.81     6.06   7.15"
      ]
     },
     "execution_count": 114,
     "metadata": {},
     "output_type": "execute_result"
    }
   ],
   "source": [
    "df = pd.DataFrame({ 'Param':['MAE'],\n",
    "                    'LR':['{: 0.2f}'.format(-model_1.best_score_)],\n",
    "                    'CatBoost':['{: 0.2f}'.format(-model_2.best_score_)],\n",
    "                    'Tree':['{: 0.2f}'.format(-model_3.best_score_)]\n",
    "                })\n",
    "                                      \n",
    "df"
   ]
  },
  {
   "cell_type": "markdown",
   "metadata": {},
   "source": [
    "Свел результаты обучения моделей в общуюу таблицу. Лучшей моделью стала CatBoostRegressor, ее и буду проверять на тестовой выборке."
   ]
  },
  {
   "cell_type": "code",
   "execution_count": 115,
   "metadata": {},
   "outputs": [
    {
     "name": "stdout",
     "output_type": "stream",
     "text": [
      "Значение MAE для CatBoostRegressor:  6.14\n",
      "CPU times: total: 0 ns\n",
      "Wall time: 3 ms\n"
     ]
    }
   ],
   "source": [
    "%%time\n",
    "test = mean_absolute_error(target_test, model_2.predict(features_test))\n",
    "print('Значение MAE для CatBoostRegressor: {: 0.2f}'.format(test))"
   ]
  },
  {
   "cell_type": "markdown",
   "metadata": {},
   "source": [
    "Результат обучения модели CatBoostRegressor на тестовой выборке составил 6.14."
   ]
  },
  {
   "cell_type": "code",
   "execution_count": 116,
   "metadata": {
    "scrolled": false
   },
   "outputs": [
    {
     "data": {
      "image/png": "[encoded data removed]",
      "text/plain": [
       "<Figure size 1080x576 with 1 Axes>"
      ]
     },
     "metadata": {
      "needs_background": "light"
     },
     "output_type": "display_data"
    }
   ],
   "source": [
    "feature_importance = model_2.best_estimator_.feature_importances_\n",
    "sorted_idx = np.argsort(feature_importance)\n",
    "fig = plt.figure(figsize=FIGSIZE)\n",
    "plt.barh(range(len(sorted_idx)), feature_importance[sorted_idx], align='center')\n",
    "plt.yticks(range(len(sorted_idx)), np.array(features_train.columns)[sorted_idx])\n",
    "plt.title('График распределения важности параметров', fontsize = 16)\n",
    "plt.show();"
   ]
  },
  {
   "cell_type": "markdown",
   "metadata": {},
   "source": [
    "Построил график распределения важности параметров обучения модели, из графика видно, что самый важный параметр был входная температура сплава."
   ]
  },
  {
   "cell_type": "markdown",
   "metadata": {},
   "source": [
    "## Вывод по разделу."
   ]
  },
  {
   "cell_type": "markdown",
   "metadata": {},
   "source": [
    "В данном разделе своего проекта я обучил 3 различные модели:\n",
    "- LinearRegression;\n",
    "- CatBoostRegressor;\n",
    "- DecisionTreeRegressor.\n",
    "\n",
    "Выполнил тестирование лучшей модели на тестовой выборке.  \n",
    "Лучший результат был достигнут на модели CatBoostRegressor и составил 6.06;  \n",
    "Результат модели CatBoostRegressor на тестовой выборке составил 6.14."
   ]
  },
  {
   "cell_type": "markdown",
   "metadata": {},
   "source": [
    "## Вывод по проекту"
   ]
  },
  {
   "cell_type": "markdown",
   "metadata": {},
   "source": [
    "1. В ходе за выполнение проекта были выполнены все заранее обозначенные пункты кроме обучения модели без гиперпараметров, так как результат модели оказался очень плохим и эксперимент я не стал продолжать."
   ]
  },
  {
   "cell_type": "markdown",
   "metadata": {},
   "source": [
    "2. Первоначально не до конца была ясна теория самого технологического процесса, пришлось дополнительно почитать литературу и добавить в проект описания процесса. На многие вопросы были получены ответы во время первой консультации. Самый главный вопрос для меня был что является целевым признаком и значение какой метрики необходимо добиться по результатам выполнения проекта."
   ]
  },
  {
   "cell_type": "markdown",
   "metadata": {},
   "source": [
    "3. Изучение задания теоретическая часть;\n",
    "- Загрузка данных;\n",
    "- Предобработка данных;\n",
    "- Объединение всех баз данных в одну общую;\n",
    "- Разбивка базы данных на обучающую и тестовую выборки;\n",
    "- Обучение моделей;\n",
    "- Выбор лучшей модели;\n",
    "- Проверка лучшей модели на тестовой выборке;\n",
    "- Анализ результатов;\n",
    "- Подготовка вывода."
   ]
  },
  {
   "cell_type": "markdown",
   "metadata": {},
   "source": [
    "4. Итоговая модель CatBoostRegressor. Значение MAE 6.06 на обучающей выборке и 6.45 на тестовой выборке."
   ]
  },
  {
   "cell_type": "markdown",
   "metadata": {},
   "source": [
    "Лучшая модель была обучена на следующих признаках:\n",
    "- temp_start\n",
    "- temp_stop \n",
    "- full_power\n",
    "- wire_1\n",
    "- wire_2\n",
    "- wire_3\n",
    "- wire_4\n",
    "- wire_6\n",
    "- wire_7\n",
    "- wire_8\n",
    "- bulk_1\n",
    "- bulk_3\n",
    "- bulk_4\n",
    "- bulk_5\n",
    "- bulk_6\n",
    "- bulk_7\n",
    "- bulk_10\n",
    "- bulk_11\n",
    "- bulk_12\n",
    "- bulk_13\n",
    "- bulk_14\n",
    "- bulk_15"
   ]
  },
  {
   "cell_type": "markdown",
   "metadata": {},
   "source": [
    "**full_power** - полная мощность была рассчитана на основе активной и реактивной мощности, данные значения были даны;\n",
    "temp_stop - из базы данных были удалены все партии, у которых не было значения целевого признака **temp_stop**.\n",
    "Все замеры температуры были сгруппированы по номерам ковшей из расчета один ковш - один замер."
   ]
  },
  {
   "cell_type": "markdown",
   "metadata": {},
   "source": [
    "-\tГиперпараметры лучшей модели: random_state = 100423"
   ]
  },
  {
   "cell_type": "markdown",
   "metadata": {},
   "source": [
    "Для улучшения модели можно:\n",
    "-\tпопробовать поискать корреляции между параметрами и исключить из выборки признаки с высокой корреляцией, аналогично как это было сделано с temp_start и gas_1;\n",
    "-\tпопробовать ввести дополнительные признаки, некий коэффициент, например, сгруппировать добавки как 1 группа, 2 группа и так далее;\n",
    "-\tпопробовать сформировать и проверить различные гипотезы, например, смена №1 работала 1, 5, 10 и 15 числа месяца, им удавалось добиться требуемого качества сплава за более короткий промежуток времени, а смена №2 тратила больше времени, что приводило к перерасходу электроэнергии."
   ]
  },
  {
   "cell_type": "markdown",
   "metadata": {},
   "source": [
    "Решение нашей задачи только маленький шаг на пути к решению большой задачи по оптимизации производства, так как самыми важными параметрами при обучении моделей стали начальная температура сплава, полная мощность и значение проволочной добавки №1, то следует начать с оптимизацией этих параметров. Возможно нужно:\n",
    "-\tнастроить ПИД регуляторы которые поддерживают температуру в печи и подавать расплав с более высокой температурой перед началом ввода добавки;\n",
    "-\tвозможно стоит более точно рассчитать количество добавки, тогда нужного химеческого состава сплава удастся достичь за меньшее время, а значит это потребует меньшего количества электроэнергии на подогрев расплава."
   ]
  },
  {
   "cell_type": "markdown",
   "metadata": {},
   "source": [
    "## Чек-лист проверки"
   ]
  },
  {
   "cell_type": "markdown",
   "metadata": {},
   "source": [
    "- [x]  Jupyter Notebook открыт\n",
    "- [x]  Весь код выполняется без ошибок\n",
    "- [x]  Ячейки с кодом расположены в порядке исполнения\n",
    "- [x]  Данные загружены и подготовлены\n",
    "- [x]  Данные проанализированы\n",
    "- [x]  Модель обучена, гиперпараметры подобраны\n",
    "- [x]  Качество моделей проверено, выводы сделаны\n",
    "- [x]  Значение *MAE* на тестовой выборке не больше 6.8"
   ]
  }
 ],
 "metadata": {
  "ExecuteTimeLog": [
   {
    "duration": 5956,
    "start_time": "2023-04-11T06:38:45.669Z"
   },
   {
    "duration": 194,
    "start_time": "2023-04-11T06:40:39.763Z"
   },
   {
    "duration": 457,
    "start_time": "2023-04-11T06:41:44.493Z"
   },
   {
    "duration": 14,
    "start_time": "2023-04-11T06:41:52.362Z"
   },
   {
    "duration": 4,
    "start_time": "2023-04-11T06:41:53.474Z"
   },
   {
    "duration": 10,
    "start_time": "2023-04-11T06:41:54.357Z"
   },
   {
    "duration": 12,
    "start_time": "2023-04-11T06:41:55.706Z"
   },
   {
    "duration": 13,
    "start_time": "2023-04-11T06:42:18.176Z"
   },
   {
    "duration": 11,
    "start_time": "2023-04-11T06:42:19.791Z"
   },
   {
    "duration": 12,
    "start_time": "2023-04-11T06:42:22.950Z"
   },
   {
    "duration": 7,
    "start_time": "2023-04-11T06:42:24.657Z"
   },
   {
    "duration": 16,
    "start_time": "2023-04-11T06:42:25.683Z"
   },
   {
    "duration": 13,
    "start_time": "2023-04-11T06:42:39.319Z"
   },
   {
    "duration": 7,
    "start_time": "2023-04-11T06:42:39.940Z"
   },
   {
    "duration": 1153,
    "start_time": "2023-04-11T06:42:41.358Z"
   },
   {
    "duration": 282,
    "start_time": "2023-04-11T06:42:43.196Z"
   },
   {
    "duration": 19,
    "start_time": "2023-04-11T06:42:44.285Z"
   },
   {
    "duration": 5,
    "start_time": "2023-04-11T06:42:53.880Z"
   },
   {
    "duration": 19,
    "start_time": "2023-04-11T06:42:55.103Z"
   },
   {
    "duration": 201,
    "start_time": "2023-04-11T06:42:56.639Z"
   },
   {
    "duration": 19,
    "start_time": "2023-04-11T06:44:22.333Z"
   },
   {
    "duration": 3,
    "start_time": "2023-04-11T06:44:23.249Z"
   },
   {
    "duration": 18,
    "start_time": "2023-04-11T06:44:24.110Z"
   },
   {
    "duration": 5,
    "start_time": "2023-04-11T06:44:24.678Z"
   },
   {
    "duration": 17,
    "start_time": "2023-04-11T06:44:26.495Z"
   },
   {
    "duration": 12,
    "start_time": "2023-04-11T06:44:27.542Z"
   },
   {
    "duration": 6,
    "start_time": "2023-04-11T06:44:29.434Z"
   },
   {
    "duration": 8,
    "start_time": "2023-04-11T06:44:32.441Z"
   },
   {
    "duration": 10,
    "start_time": "2023-04-11T06:44:33.442Z"
   },
   {
    "duration": 6,
    "start_time": "2023-04-11T06:44:34.783Z"
   },
   {
    "duration": 1990,
    "start_time": "2023-04-11T06:44:36.173Z"
   },
   {
    "duration": 87,
    "start_time": "2023-04-11T06:44:38.165Z"
   },
   {
    "duration": 16,
    "start_time": "2023-04-11T06:45:02.157Z"
   },
   {
    "duration": 5,
    "start_time": "2023-04-11T06:45:03.244Z"
   },
   {
    "duration": 17,
    "start_time": "2023-04-11T06:45:04.341Z"
   },
   {
    "duration": 4,
    "start_time": "2023-04-11T06:45:04.735Z"
   },
   {
    "duration": 15,
    "start_time": "2023-04-11T06:45:05.153Z"
   },
   {
    "duration": 13,
    "start_time": "2023-04-11T06:45:05.653Z"
   },
   {
    "duration": 35,
    "start_time": "2023-04-11T06:45:06.336Z"
   },
   {
    "duration": 13,
    "start_time": "2023-04-11T06:45:08.363Z"
   },
   {
    "duration": 7,
    "start_time": "2023-04-11T06:45:09.696Z"
   },
   {
    "duration": 9,
    "start_time": "2023-04-11T06:45:10.917Z"
   },
   {
    "duration": 13,
    "start_time": "2023-04-11T06:45:13.879Z"
   },
   {
    "duration": 10,
    "start_time": "2023-04-11T06:45:15.119Z"
   },
   {
    "duration": 2598,
    "start_time": "2023-04-11T06:45:15.576Z"
   },
   {
    "duration": 22,
    "start_time": "2023-04-11T06:45:18.177Z"
   },
   {
    "duration": 8,
    "start_time": "2023-04-11T06:46:23.910Z"
   },
   {
    "duration": 4,
    "start_time": "2023-04-11T06:46:24.436Z"
   },
   {
    "duration": 8,
    "start_time": "2023-04-11T06:46:24.682Z"
   },
   {
    "duration": 10,
    "start_time": "2023-04-11T06:46:25.336Z"
   },
   {
    "duration": 6,
    "start_time": "2023-04-11T06:46:25.778Z"
   },
   {
    "duration": 6,
    "start_time": "2023-04-11T06:46:26.229Z"
   },
   {
    "duration": 7,
    "start_time": "2023-04-11T06:46:26.850Z"
   },
   {
    "duration": 7,
    "start_time": "2023-04-11T06:46:27.387Z"
   },
   {
    "duration": 178,
    "start_time": "2023-04-11T06:46:28.120Z"
   },
   {
    "duration": 16,
    "start_time": "2023-04-11T06:46:28.325Z"
   },
   {
    "duration": 9,
    "start_time": "2023-04-11T06:47:31.696Z"
   },
   {
    "duration": 4,
    "start_time": "2023-04-11T06:47:32.240Z"
   },
   {
    "duration": 9,
    "start_time": "2023-04-11T06:47:32.894Z"
   },
   {
    "duration": 12,
    "start_time": "2023-04-11T06:47:36.211Z"
   },
   {
    "duration": 7,
    "start_time": "2023-04-11T06:47:37.804Z"
   },
   {
    "duration": 7,
    "start_time": "2023-04-11T06:47:38.633Z"
   },
   {
    "duration": 5,
    "start_time": "2023-04-11T06:47:47.079Z"
   },
   {
    "duration": 1347,
    "start_time": "2023-04-12T12:55:21.924Z"
   },
   {
    "duration": 162,
    "start_time": "2023-04-12T12:55:43.371Z"
   },
   {
    "duration": 13,
    "start_time": "2023-04-12T12:56:09.061Z"
   },
   {
    "duration": 4,
    "start_time": "2023-04-12T12:56:09.709Z"
   },
   {
    "duration": 10,
    "start_time": "2023-04-12T12:56:10.195Z"
   },
   {
    "duration": 13,
    "start_time": "2023-04-12T12:56:11.999Z"
   },
   {
    "duration": 12,
    "start_time": "2023-04-12T12:56:12.428Z"
   },
   {
    "duration": 14,
    "start_time": "2023-04-12T12:56:13.088Z"
   },
   {
    "duration": 7,
    "start_time": "2023-04-12T12:56:13.667Z"
   },
   {
    "duration": 14,
    "start_time": "2023-04-12T12:56:14.123Z"
   },
   {
    "duration": 12,
    "start_time": "2023-04-12T12:56:14.717Z"
   },
   {
    "duration": 7,
    "start_time": "2023-04-12T12:56:15.171Z"
   },
   {
    "duration": 988,
    "start_time": "2023-04-12T12:56:15.727Z"
   },
   {
    "duration": 237,
    "start_time": "2023-04-12T12:56:16.901Z"
   },
   {
    "duration": 19,
    "start_time": "2023-04-12T12:56:17.461Z"
   },
   {
    "duration": 6,
    "start_time": "2023-04-12T12:56:18.396Z"
   },
   {
    "duration": 25,
    "start_time": "2023-04-12T12:56:19.383Z"
   },
   {
    "duration": 189,
    "start_time": "2023-04-12T12:56:21.512Z"
   },
   {
    "duration": 23,
    "start_time": "2023-04-12T12:56:29.502Z"
   },
   {
    "duration": 4,
    "start_time": "2023-04-12T12:56:30.232Z"
   },
   {
    "duration": 16,
    "start_time": "2023-04-12T12:56:30.821Z"
   },
   {
    "duration": 13,
    "start_time": "2023-04-12T12:56:31.346Z"
   },
   {
    "duration": 7,
    "start_time": "2023-04-12T12:56:31.916Z"
   },
   {
    "duration": 9,
    "start_time": "2023-04-12T12:56:32.382Z"
   },
   {
    "duration": 12,
    "start_time": "2023-04-12T12:56:32.733Z"
   },
   {
    "duration": 9,
    "start_time": "2023-04-12T12:56:33.101Z"
   },
   {
    "duration": 1729,
    "start_time": "2023-04-12T12:56:33.906Z"
   },
   {
    "duration": 168,
    "start_time": "2023-04-12T12:56:35.637Z"
   },
   {
    "duration": 14,
    "start_time": "2023-04-12T12:56:38.165Z"
   },
   {
    "duration": 3,
    "start_time": "2023-04-12T12:56:38.518Z"
   },
   {
    "duration": 12,
    "start_time": "2023-04-12T12:56:38.870Z"
   },
   {
    "duration": 13,
    "start_time": "2023-04-12T12:56:39.219Z"
   },
   {
    "duration": 34,
    "start_time": "2023-04-12T12:56:39.777Z"
   },
   {
    "duration": 14,
    "start_time": "2023-04-12T12:56:40.087Z"
   },
   {
    "duration": 9,
    "start_time": "2023-04-12T12:56:40.467Z"
   },
   {
    "duration": 9,
    "start_time": "2023-04-12T12:56:40.803Z"
   },
   {
    "duration": 11,
    "start_time": "2023-04-12T12:56:41.157Z"
   },
   {
    "duration": 7,
    "start_time": "2023-04-12T12:56:41.498Z"
   },
   {
    "duration": 12,
    "start_time": "2023-04-12T12:56:41.961Z"
   },
   {
    "duration": 58,
    "start_time": "2023-04-13T12:51:38.854Z"
   },
   {
    "duration": 6446,
    "start_time": "2023-04-13T12:52:31.771Z"
   },
   {
    "duration": 170,
    "start_time": "2023-04-13T12:52:38.219Z"
   },
   {
    "duration": 13,
    "start_time": "2023-04-13T12:52:38.390Z"
   },
   {
    "duration": 21,
    "start_time": "2023-04-13T12:52:38.406Z"
   },
   {
    "duration": 52,
    "start_time": "2023-04-13T12:52:38.429Z"
   },
   {
    "duration": 15,
    "start_time": "2023-04-13T12:52:38.483Z"
   },
   {
    "duration": 11,
    "start_time": "2023-04-13T12:52:38.625Z"
   },
   {
    "duration": 12,
    "start_time": "2023-04-13T12:52:38.971Z"
   },
   {
    "duration": 7,
    "start_time": "2023-04-13T12:52:39.288Z"
   },
   {
    "duration": 12,
    "start_time": "2023-04-13T12:52:39.633Z"
   },
   {
    "duration": 12,
    "start_time": "2023-04-13T12:52:40.168Z"
   },
   {
    "duration": 7,
    "start_time": "2023-04-13T12:52:40.501Z"
   },
   {
    "duration": 1046,
    "start_time": "2023-04-13T12:52:40.841Z"
   },
   {
    "duration": 264,
    "start_time": "2023-04-13T12:52:41.889Z"
   },
   {
    "duration": 20,
    "start_time": "2023-04-13T12:52:42.154Z"
   },
   {
    "duration": 12,
    "start_time": "2023-04-13T12:52:42.176Z"
   },
   {
    "duration": 28,
    "start_time": "2023-04-13T12:52:42.189Z"
   },
   {
    "duration": 180,
    "start_time": "2023-04-13T12:52:42.484Z"
   },
   {
    "duration": 5,
    "start_time": "2023-04-13T12:52:43.020Z"
   },
   {
    "duration": 4,
    "start_time": "2023-04-13T12:52:44.813Z"
   },
   {
    "duration": 323,
    "start_time": "2023-04-13T12:52:45.088Z"
   },
   {
    "duration": 11,
    "start_time": "2023-04-13T12:52:45.418Z"
   },
   {
    "duration": 25,
    "start_time": "2023-04-13T12:52:46.203Z"
   },
   {
    "duration": 4,
    "start_time": "2023-04-13T12:52:46.916Z"
   },
   {
    "duration": 16,
    "start_time": "2023-04-13T12:52:47.232Z"
   },
   {
    "duration": 11,
    "start_time": "2023-04-13T12:52:47.557Z"
   },
   {
    "duration": 6,
    "start_time": "2023-04-13T12:52:47.866Z"
   },
   {
    "duration": 9,
    "start_time": "2023-04-13T12:52:48.335Z"
   },
   {
    "duration": 9,
    "start_time": "2023-04-13T12:52:48.650Z"
   },
   {
    "duration": 6,
    "start_time": "2023-04-13T12:52:49.093Z"
   },
   {
    "duration": 1836,
    "start_time": "2023-04-13T12:52:49.402Z"
   },
   {
    "duration": 59,
    "start_time": "2023-04-13T12:52:51.240Z"
   },
   {
    "duration": 21,
    "start_time": "2023-04-13T12:52:51.301Z"
   },
   {
    "duration": 16,
    "start_time": "2023-04-13T12:52:51.324Z"
   },
   {
    "duration": 14,
    "start_time": "2023-04-13T12:52:51.723Z"
   },
   {
    "duration": 15,
    "start_time": "2023-04-13T12:52:52.038Z"
   },
   {
    "duration": 34,
    "start_time": "2023-04-13T12:52:52.342Z"
   },
   {
    "duration": 15,
    "start_time": "2023-04-13T12:52:52.721Z"
   },
   {
    "duration": 9,
    "start_time": "2023-04-13T12:52:53.390Z"
   },
   {
    "duration": 8,
    "start_time": "2023-04-13T12:52:53.831Z"
   },
   {
    "duration": 15,
    "start_time": "2023-04-13T12:52:54.205Z"
   },
   {
    "duration": 9,
    "start_time": "2023-04-13T12:52:54.640Z"
   },
   {
    "duration": 14,
    "start_time": "2023-04-13T12:52:55.084Z"
   },
   {
    "duration": 6,
    "start_time": "2023-04-13T12:52:56.951Z"
   },
   {
    "duration": 3,
    "start_time": "2023-04-13T12:52:57.601Z"
   },
   {
    "duration": 8,
    "start_time": "2023-04-13T12:52:57.825Z"
   },
   {
    "duration": 13,
    "start_time": "2023-04-13T12:52:58.300Z"
   },
   {
    "duration": 6,
    "start_time": "2023-04-13T12:52:58.821Z"
   },
   {
    "duration": 7,
    "start_time": "2023-04-13T12:52:59.385Z"
   },
   {
    "duration": 7,
    "start_time": "2023-04-13T12:53:00.249Z"
   },
   {
    "duration": 7,
    "start_time": "2023-04-13T12:53:03.718Z"
   },
   {
    "duration": 156,
    "start_time": "2023-04-13T12:53:04.624Z"
   },
   {
    "duration": 15,
    "start_time": "2023-04-13T12:53:05.240Z"
   },
   {
    "duration": 8,
    "start_time": "2023-04-13T12:53:07.585Z"
   },
   {
    "duration": 4,
    "start_time": "2023-04-13T12:53:08.954Z"
   },
   {
    "duration": 8,
    "start_time": "2023-04-13T12:53:09.224Z"
   },
   {
    "duration": 11,
    "start_time": "2023-04-13T12:53:09.946Z"
   },
   {
    "duration": 6,
    "start_time": "2023-04-13T12:53:12.022Z"
   },
   {
    "duration": 7,
    "start_time": "2023-04-13T12:53:12.682Z"
   },
   {
    "duration": 3,
    "start_time": "2023-04-13T12:53:13.044Z"
   },
   {
    "duration": 7,
    "start_time": "2023-04-13T12:53:16.334Z"
   },
   {
    "duration": 8,
    "start_time": "2023-04-13T12:53:17.194Z"
   },
   {
    "duration": 7,
    "start_time": "2023-04-13T12:53:19.295Z"
   },
   {
    "duration": 226,
    "start_time": "2023-04-13T12:53:20.362Z"
   },
   {
    "duration": 17,
    "start_time": "2023-04-13T12:53:21.982Z"
   },
   {
    "duration": 13,
    "start_time": "2023-04-13T12:53:25.040Z"
   },
   {
    "duration": 3,
    "start_time": "2023-04-13T12:53:26.161Z"
   },
   {
    "duration": 11,
    "start_time": "2023-04-13T12:53:27.911Z"
   },
   {
    "duration": 14,
    "start_time": "2023-04-13T12:53:39.065Z"
   },
   {
    "duration": 13,
    "start_time": "2023-04-13T12:54:06.083Z"
   },
   {
    "duration": 5,
    "start_time": "2023-04-13T12:54:06.707Z"
   },
   {
    "duration": 13,
    "start_time": "2023-04-13T12:54:06.859Z"
   },
   {
    "duration": 11,
    "start_time": "2023-04-13T12:54:07.703Z"
   },
   {
    "duration": 8,
    "start_time": "2023-04-13T12:54:08.783Z"
   },
   {
    "duration": 7,
    "start_time": "2023-04-13T12:54:09.408Z"
   },
   {
    "duration": 9,
    "start_time": "2023-04-13T12:54:10.127Z"
   },
   {
    "duration": 6,
    "start_time": "2023-04-13T12:54:11.816Z"
   },
   {
    "duration": 1460,
    "start_time": "2023-04-13T12:54:13.006Z"
   },
   {
    "duration": 37,
    "start_time": "2023-04-13T12:54:14.487Z"
   },
   {
    "duration": 13,
    "start_time": "2023-04-13T12:54:27.709Z"
   },
   {
    "duration": 4,
    "start_time": "2023-04-13T12:54:28.370Z"
   },
   {
    "duration": 12,
    "start_time": "2023-04-13T12:54:28.723Z"
   },
   {
    "duration": 13,
    "start_time": "2023-04-13T12:54:29.356Z"
   },
   {
    "duration": 24,
    "start_time": "2023-04-13T12:54:30.457Z"
   },
   {
    "duration": 8,
    "start_time": "2023-04-13T12:54:30.727Z"
   },
   {
    "duration": 9,
    "start_time": "2023-04-13T12:54:31.544Z"
   },
   {
    "duration": 11,
    "start_time": "2023-04-13T12:54:32.122Z"
   },
   {
    "duration": 7,
    "start_time": "2023-04-13T12:54:33.469Z"
   },
   {
    "duration": 14,
    "start_time": "2023-04-13T12:54:33.800Z"
   },
   {
    "duration": 3515,
    "start_time": "2023-04-14T16:41:44.233Z"
   },
   {
    "duration": 194,
    "start_time": "2023-04-14T16:41:47.750Z"
   },
   {
    "duration": 12,
    "start_time": "2023-04-14T16:41:47.946Z"
   },
   {
    "duration": 4,
    "start_time": "2023-04-14T16:41:48.547Z"
   },
   {
    "duration": 14,
    "start_time": "2023-04-14T16:41:48.862Z"
   },
   {
    "duration": 20,
    "start_time": "2023-04-14T16:41:49.377Z"
   },
   {
    "duration": 21,
    "start_time": "2023-04-14T16:41:50.082Z"
   },
   {
    "duration": 14,
    "start_time": "2023-04-14T16:41:50.423Z"
   },
   {
    "duration": 8,
    "start_time": "2023-04-14T16:41:50.740Z"
   },
   {
    "duration": 13,
    "start_time": "2023-04-14T16:41:51.113Z"
   },
   {
    "duration": 13,
    "start_time": "2023-04-14T16:41:51.846Z"
   },
   {
    "duration": 7,
    "start_time": "2023-04-14T16:41:52.346Z"
   },
   {
    "duration": 1105,
    "start_time": "2023-04-14T16:41:52.728Z"
   },
   {
    "duration": 290,
    "start_time": "2023-04-14T16:41:53.836Z"
   },
   {
    "duration": 19,
    "start_time": "2023-04-14T16:41:54.129Z"
   },
   {
    "duration": 7,
    "start_time": "2023-04-14T16:41:54.150Z"
   },
   {
    "duration": 21,
    "start_time": "2023-04-14T16:41:54.218Z"
   },
   {
    "duration": 230,
    "start_time": "2023-04-14T16:41:54.583Z"
   },
   {
    "duration": 5,
    "start_time": "2023-04-14T16:41:55.219Z"
   },
   {
    "duration": 3,
    "start_time": "2023-04-14T16:41:56.555Z"
   },
   {
    "duration": 370,
    "start_time": "2023-04-14T16:41:57.282Z"
   },
   {
    "duration": 11,
    "start_time": "2023-04-14T16:41:57.817Z"
   },
   {
    "duration": 7,
    "start_time": "2023-04-14T16:41:58.129Z"
   },
   {
    "duration": 9,
    "start_time": "2023-04-14T16:41:58.547Z"
   },
   {
    "duration": 19,
    "start_time": "2023-04-14T16:42:00.016Z"
   },
   {
    "duration": 7,
    "start_time": "2023-04-14T16:42:00.411Z"
   },
   {
    "duration": 22,
    "start_time": "2023-04-14T16:42:00.961Z"
   },
   {
    "duration": 17,
    "start_time": "2023-04-14T16:42:01.578Z"
   },
   {
    "duration": 12,
    "start_time": "2023-04-14T16:42:01.916Z"
   },
   {
    "duration": 9,
    "start_time": "2023-04-14T16:42:02.565Z"
   },
   {
    "duration": 11,
    "start_time": "2023-04-14T16:42:03.064Z"
   },
   {
    "duration": 10,
    "start_time": "2023-04-14T16:42:03.415Z"
   },
   {
    "duration": 2113,
    "start_time": "2023-04-14T16:42:03.761Z"
   },
   {
    "duration": 80,
    "start_time": "2023-04-14T16:42:05.876Z"
   },
   {
    "duration": 16,
    "start_time": "2023-04-14T16:42:06.116Z"
   },
   {
    "duration": 4,
    "start_time": "2023-04-14T16:42:06.627Z"
   },
   {
    "duration": 30,
    "start_time": "2023-04-14T16:42:06.995Z"
   },
   {
    "duration": 36,
    "start_time": "2023-04-14T16:42:07.387Z"
   },
   {
    "duration": 35,
    "start_time": "2023-04-14T16:42:07.743Z"
   },
   {
    "duration": 18,
    "start_time": "2023-04-14T16:42:08.129Z"
   },
   {
    "duration": 8,
    "start_time": "2023-04-14T16:42:08.556Z"
   },
   {
    "duration": 10,
    "start_time": "2023-04-14T16:42:08.931Z"
   },
   {
    "duration": 12,
    "start_time": "2023-04-14T16:42:09.334Z"
   },
   {
    "duration": 8,
    "start_time": "2023-04-14T16:42:10.017Z"
   },
   {
    "duration": 22,
    "start_time": "2023-04-14T16:42:10.410Z"
   },
   {
    "duration": 7,
    "start_time": "2023-04-14T16:42:12.180Z"
   },
   {
    "duration": 3,
    "start_time": "2023-04-14T16:42:12.538Z"
   },
   {
    "duration": 8,
    "start_time": "2023-04-14T16:42:13.019Z"
   },
   {
    "duration": 20,
    "start_time": "2023-04-14T16:42:13.399Z"
   },
   {
    "duration": 13,
    "start_time": "2023-04-14T16:42:13.892Z"
   },
   {
    "duration": 7,
    "start_time": "2023-04-14T16:42:14.269Z"
   },
   {
    "duration": 8,
    "start_time": "2023-04-14T16:42:14.616Z"
   },
   {
    "duration": 6,
    "start_time": "2023-04-14T16:42:14.941Z"
   },
   {
    "duration": 179,
    "start_time": "2023-04-14T16:42:15.324Z"
   },
   {
    "duration": 19,
    "start_time": "2023-04-14T16:42:15.911Z"
   },
   {
    "duration": 9,
    "start_time": "2023-04-14T16:42:17.672Z"
   },
   {
    "duration": 4,
    "start_time": "2023-04-14T16:42:18.335Z"
   },
   {
    "duration": 9,
    "start_time": "2023-04-14T16:42:18.617Z"
   },
   {
    "duration": 13,
    "start_time": "2023-04-14T16:42:18.952Z"
   },
   {
    "duration": 11,
    "start_time": "2023-04-14T16:42:19.737Z"
   },
   {
    "duration": 11,
    "start_time": "2023-04-14T16:42:20.107Z"
   },
   {
    "duration": 14,
    "start_time": "2023-04-14T16:42:20.449Z"
   },
   {
    "duration": 4,
    "start_time": "2023-04-14T16:42:20.830Z"
   },
   {
    "duration": 7,
    "start_time": "2023-04-14T16:42:21.250Z"
   },
   {
    "duration": 16,
    "start_time": "2023-04-14T16:42:21.660Z"
   },
   {
    "duration": 8,
    "start_time": "2023-04-14T16:42:22.054Z"
   },
   {
    "duration": 17,
    "start_time": "2023-04-14T16:42:22.504Z"
   },
   {
    "duration": 2,
    "start_time": "2023-04-14T16:42:22.977Z"
   },
   {
    "duration": 9,
    "start_time": "2023-04-14T16:42:25.778Z"
   },
   {
    "duration": 7,
    "start_time": "2023-04-14T16:42:26.228Z"
   },
   {
    "duration": 11,
    "start_time": "2023-04-14T16:42:27.405Z"
   },
   {
    "duration": 259,
    "start_time": "2023-04-14T16:42:28.577Z"
   },
   {
    "duration": 16,
    "start_time": "2023-04-14T16:42:29.269Z"
   },
   {
    "duration": 16,
    "start_time": "2023-04-14T16:42:29.684Z"
   },
   {
    "duration": 5,
    "start_time": "2023-04-14T16:42:30.117Z"
   },
   {
    "duration": 16,
    "start_time": "2023-04-14T16:42:30.580Z"
   },
   {
    "duration": 7,
    "start_time": "2023-04-14T16:42:33.424Z"
   },
   {
    "duration": 35,
    "start_time": "2023-04-14T16:43:05.883Z"
   },
   {
    "duration": 16,
    "start_time": "2023-04-14T16:43:20.565Z"
   },
   {
    "duration": 11,
    "start_time": "2023-04-14T16:43:21.605Z"
   },
   {
    "duration": 29,
    "start_time": "2023-04-14T16:43:22.383Z"
   },
   {
    "duration": 13,
    "start_time": "2023-04-14T16:43:23.034Z"
   },
   {
    "duration": 8,
    "start_time": "2023-04-14T16:43:24.027Z"
   },
   {
    "duration": 7,
    "start_time": "2023-04-14T16:43:24.676Z"
   },
   {
    "duration": 13,
    "start_time": "2023-04-14T16:43:25.152Z"
   },
   {
    "duration": 14,
    "start_time": "2023-04-14T16:43:25.716Z"
   },
   {
    "duration": 1690,
    "start_time": "2023-04-14T16:43:26.465Z"
   },
   {
    "duration": 52,
    "start_time": "2023-04-14T16:43:28.158Z"
   },
   {
    "duration": 12,
    "start_time": "2023-04-14T16:43:29.639Z"
   },
   {
    "duration": 11,
    "start_time": "2023-04-14T16:43:30.225Z"
   },
   {
    "duration": 16,
    "start_time": "2023-04-14T16:43:30.654Z"
   },
   {
    "duration": 26,
    "start_time": "2023-04-14T16:43:33.008Z"
   },
   {
    "duration": 22,
    "start_time": "2023-04-14T16:43:33.364Z"
   },
   {
    "duration": 13,
    "start_time": "2023-04-14T16:43:33.726Z"
   },
   {
    "duration": 9,
    "start_time": "2023-04-14T16:43:34.053Z"
   },
   {
    "duration": 18,
    "start_time": "2023-04-14T16:43:34.421Z"
   },
   {
    "duration": 7,
    "start_time": "2023-04-14T16:43:35.035Z"
   },
   {
    "duration": 15,
    "start_time": "2023-04-14T16:43:35.627Z"
   },
   {
    "duration": 25,
    "start_time": "2023-04-14T16:43:39.829Z"
   },
   {
    "duration": 37,
    "start_time": "2023-04-14T16:43:57.901Z"
   },
   {
    "duration": 9,
    "start_time": "2023-04-14T16:44:04.015Z"
   },
   {
    "duration": 6,
    "start_time": "2023-04-14T16:44:05.634Z"
   },
   {
    "duration": 6,
    "start_time": "2023-04-14T16:44:07.226Z"
   },
   {
    "duration": 7,
    "start_time": "2023-04-14T16:44:08.164Z"
   },
   {
    "duration": 20,
    "start_time": "2023-04-14T16:44:09.811Z"
   },
   {
    "duration": 27,
    "start_time": "2023-04-14T16:44:46.431Z"
   },
   {
    "duration": 3662,
    "start_time": "2023-04-14T16:44:47.511Z"
   },
   {
    "duration": 4,
    "start_time": "2023-04-14T16:44:51.176Z"
   },
   {
    "duration": 8,
    "start_time": "2023-04-14T16:44:53.813Z"
   },
   {
    "duration": 9,
    "start_time": "2023-04-14T16:44:57.905Z"
   },
   {
    "duration": 27424,
    "start_time": "2023-04-14T16:50:58.343Z"
   },
   {
    "duration": 159,
    "start_time": "2023-04-14T16:51:25.769Z"
   },
   {
    "duration": 155,
    "start_time": "2023-04-14T16:51:25.930Z"
   },
   {
    "duration": 1,
    "start_time": "2023-04-14T16:51:26.088Z"
   },
   {
    "duration": 0,
    "start_time": "2023-04-14T16:51:26.090Z"
   },
   {
    "duration": 2072,
    "start_time": "2023-04-14T16:52:17.125Z"
   },
   {
    "duration": 11,
    "start_time": "2023-04-14T16:52:24.347Z"
   },
   {
    "duration": 8,
    "start_time": "2023-04-14T16:52:29.345Z"
   },
   {
    "duration": 275,
    "start_time": "2023-04-14T16:52:31.127Z"
   }
  ],
  "kernelspec": {
   "display_name": "Python 3 (ipykernel)",
   "language": "python",
   "name": "python3"
  },
  "language_info": {
   "codemirror_mode": {
    "name": "ipython",
    "version": 3
   },
   "file_extension": ".py",
   "mimetype": "text/x-python",
   "name": "python",
   "nbconvert_exporter": "python",
   "pygments_lexer": "ipython3",
   "version": "3.9.12"
  },
  "toc": {
   "base_numbering": 1,
   "nav_menu": {},
   "number_sections": true,
   "sideBar": true,
   "skip_h1_title": true,
   "title_cell": "Содержание",
   "title_sidebar": "Contents",
   "toc_cell": true,
   "toc_position": {},
   "toc_section_display": true,
   "toc_window_display": false
  }
 },
 "nbformat": 4,
 "nbformat_minor": 2
}
