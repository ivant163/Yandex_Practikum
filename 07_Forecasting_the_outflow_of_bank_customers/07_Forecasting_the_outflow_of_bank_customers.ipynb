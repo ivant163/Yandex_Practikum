{
 "cells": [
  {
   "cell_type": "markdown",
   "metadata": {},
   "source": [
    "# Описание проекта"
   ]
  },
  {
   "cell_type": "markdown",
   "metadata": {},
   "source": [
    "Из «Бета-Банка» стали уходить клиенты. Каждый месяц. Немного, но заметно. Банковские маркетологи посчитали: сохранять текущих клиентов дешевле, чем привлекать новых. Нужно спрогнозировать, уйдёт клиент из банка в ближайшее время или нет. Вам предоставлены исторические данные о поведении клиентов и расторжении договоров с банком.   \n",
    "**Постройте модель с предельно большим значением F1-меры.** Чтобы сдать проект успешно, нужно **довести метрику до 0.59. Проверьте F1-меру на тестовой выборке самостоятельно. Дополнительно измеряйте AUC-ROC, сравнивайте её значение с F1-мерой.**"
   ]
  },
  {
   "cell_type": "markdown",
   "metadata": {},
   "source": [
    "## 1. Загрузите и подготовьте данные. Поясните порядок действий."
   ]
  },
  {
   "cell_type": "code",
   "execution_count": 1,
   "metadata": {
    "scrolled": false
   },
   "outputs": [],
   "source": [
    "import pandas as pd\n",
    "from joblib import dump\n",
    "from sklearn.model_selection import train_test_split \n",
    "from sklearn.tree import DecisionTreeClassifier\n",
    "from sklearn.ensemble import RandomForestClassifier\n",
    "from sklearn.linear_model import LogisticRegression\n",
    "from sklearn.metrics import accuracy_score\n",
    "import seaborn as sns\n",
    "import numpy as np\n",
    "from sklearn.metrics import precision_score\n",
    "from sklearn.metrics import recall_score\n",
    "from sklearn.metrics import confusion_matrix\n",
    "from sklearn.metrics import f1_score\n",
    "from sklearn.utils import shuffle\n",
    "from sklearn.metrics import roc_auc_score \n",
    "from sklearn.linear_model import LinearRegression\n",
    "from sklearn.preprocessing import StandardScaler\n",
    "from sklearn.metrics import roc_curve \n",
    "import matplotlib.pyplot as plt\n",
    "from time import sleep\n",
    "from tqdm import tqdm\n",
    "import sys\n",
    "from sklearn.model_selection import GridSearchCV"
   ]
  },
  {
   "cell_type": "markdown",
   "metadata": {},
   "source": [
    "Подключил библиотеки."
   ]
  },
  {
   "cell_type": "code",
   "execution_count": 2,
   "metadata": {
    "scrolled": false
   },
   "outputs": [],
   "source": [
    "data = pd.read_csv('/datasets/Churn.csv')"
   ]
  },
  {
   "cell_type": "markdown",
   "metadata": {},
   "source": [
    "Загрузил файл с базой данных и сохранил ее в переменную data"
   ]
  },
  {
   "cell_type": "code",
   "execution_count": 3,
   "metadata": {
    "scrolled": true
   },
   "outputs": [
    {
     "data": {
      "text/html": [
       "<div>\n",
       "<style scoped>\n",
       "    .dataframe tbody tr th:only-of-type {\n",
       "        vertical-align: middle;\n",
       "    }\n",
       "\n",
       "    .dataframe tbody tr th {\n",
       "        vertical-align: top;\n",
       "    }\n",
       "\n",
       "    .dataframe thead th {\n",
       "        text-align: right;\n",
       "    }\n",
       "</style>\n",
       "<table border=\"1\" class=\"dataframe\">\n",
       "  <thead>\n",
       "    <tr style=\"text-align: right;\">\n",
       "      <th></th>\n",
       "      <th>RowNumber</th>\n",
       "      <th>CustomerId</th>\n",
       "      <th>Surname</th>\n",
       "      <th>CreditScore</th>\n",
       "      <th>Geography</th>\n",
       "      <th>Gender</th>\n",
       "      <th>Age</th>\n",
       "      <th>Tenure</th>\n",
       "      <th>Balance</th>\n",
       "      <th>NumOfProducts</th>\n",
       "      <th>HasCrCard</th>\n",
       "      <th>IsActiveMember</th>\n",
       "      <th>EstimatedSalary</th>\n",
       "      <th>Exited</th>\n",
       "    </tr>\n",
       "  </thead>\n",
       "  <tbody>\n",
       "    <tr>\n",
       "      <th>0</th>\n",
       "      <td>1</td>\n",
       "      <td>15634602</td>\n",
       "      <td>Hargrave</td>\n",
       "      <td>619</td>\n",
       "      <td>France</td>\n",
       "      <td>Female</td>\n",
       "      <td>42</td>\n",
       "      <td>2.0</td>\n",
       "      <td>0.00</td>\n",
       "      <td>1</td>\n",
       "      <td>1</td>\n",
       "      <td>1</td>\n",
       "      <td>101348.88</td>\n",
       "      <td>1</td>\n",
       "    </tr>\n",
       "    <tr>\n",
       "      <th>1</th>\n",
       "      <td>2</td>\n",
       "      <td>15647311</td>\n",
       "      <td>Hill</td>\n",
       "      <td>608</td>\n",
       "      <td>Spain</td>\n",
       "      <td>Female</td>\n",
       "      <td>41</td>\n",
       "      <td>1.0</td>\n",
       "      <td>83807.86</td>\n",
       "      <td>1</td>\n",
       "      <td>0</td>\n",
       "      <td>1</td>\n",
       "      <td>112542.58</td>\n",
       "      <td>0</td>\n",
       "    </tr>\n",
       "    <tr>\n",
       "      <th>2</th>\n",
       "      <td>3</td>\n",
       "      <td>15619304</td>\n",
       "      <td>Onio</td>\n",
       "      <td>502</td>\n",
       "      <td>France</td>\n",
       "      <td>Female</td>\n",
       "      <td>42</td>\n",
       "      <td>8.0</td>\n",
       "      <td>159660.80</td>\n",
       "      <td>3</td>\n",
       "      <td>1</td>\n",
       "      <td>0</td>\n",
       "      <td>113931.57</td>\n",
       "      <td>1</td>\n",
       "    </tr>\n",
       "    <tr>\n",
       "      <th>3</th>\n",
       "      <td>4</td>\n",
       "      <td>15701354</td>\n",
       "      <td>Boni</td>\n",
       "      <td>699</td>\n",
       "      <td>France</td>\n",
       "      <td>Female</td>\n",
       "      <td>39</td>\n",
       "      <td>1.0</td>\n",
       "      <td>0.00</td>\n",
       "      <td>2</td>\n",
       "      <td>0</td>\n",
       "      <td>0</td>\n",
       "      <td>93826.63</td>\n",
       "      <td>0</td>\n",
       "    </tr>\n",
       "    <tr>\n",
       "      <th>4</th>\n",
       "      <td>5</td>\n",
       "      <td>15737888</td>\n",
       "      <td>Mitchell</td>\n",
       "      <td>850</td>\n",
       "      <td>Spain</td>\n",
       "      <td>Female</td>\n",
       "      <td>43</td>\n",
       "      <td>2.0</td>\n",
       "      <td>125510.82</td>\n",
       "      <td>1</td>\n",
       "      <td>1</td>\n",
       "      <td>1</td>\n",
       "      <td>79084.10</td>\n",
       "      <td>0</td>\n",
       "    </tr>\n",
       "    <tr>\n",
       "      <th>5</th>\n",
       "      <td>6</td>\n",
       "      <td>15574012</td>\n",
       "      <td>Chu</td>\n",
       "      <td>645</td>\n",
       "      <td>Spain</td>\n",
       "      <td>Male</td>\n",
       "      <td>44</td>\n",
       "      <td>8.0</td>\n",
       "      <td>113755.78</td>\n",
       "      <td>2</td>\n",
       "      <td>1</td>\n",
       "      <td>0</td>\n",
       "      <td>149756.71</td>\n",
       "      <td>1</td>\n",
       "    </tr>\n",
       "    <tr>\n",
       "      <th>6</th>\n",
       "      <td>7</td>\n",
       "      <td>15592531</td>\n",
       "      <td>Bartlett</td>\n",
       "      <td>822</td>\n",
       "      <td>France</td>\n",
       "      <td>Male</td>\n",
       "      <td>50</td>\n",
       "      <td>7.0</td>\n",
       "      <td>0.00</td>\n",
       "      <td>2</td>\n",
       "      <td>1</td>\n",
       "      <td>1</td>\n",
       "      <td>10062.80</td>\n",
       "      <td>0</td>\n",
       "    </tr>\n",
       "    <tr>\n",
       "      <th>7</th>\n",
       "      <td>8</td>\n",
       "      <td>15656148</td>\n",
       "      <td>Obinna</td>\n",
       "      <td>376</td>\n",
       "      <td>Germany</td>\n",
       "      <td>Female</td>\n",
       "      <td>29</td>\n",
       "      <td>4.0</td>\n",
       "      <td>115046.74</td>\n",
       "      <td>4</td>\n",
       "      <td>1</td>\n",
       "      <td>0</td>\n",
       "      <td>119346.88</td>\n",
       "      <td>1</td>\n",
       "    </tr>\n",
       "    <tr>\n",
       "      <th>8</th>\n",
       "      <td>9</td>\n",
       "      <td>15792365</td>\n",
       "      <td>He</td>\n",
       "      <td>501</td>\n",
       "      <td>France</td>\n",
       "      <td>Male</td>\n",
       "      <td>44</td>\n",
       "      <td>4.0</td>\n",
       "      <td>142051.07</td>\n",
       "      <td>2</td>\n",
       "      <td>0</td>\n",
       "      <td>1</td>\n",
       "      <td>74940.50</td>\n",
       "      <td>0</td>\n",
       "    </tr>\n",
       "    <tr>\n",
       "      <th>9</th>\n",
       "      <td>10</td>\n",
       "      <td>15592389</td>\n",
       "      <td>H?</td>\n",
       "      <td>684</td>\n",
       "      <td>France</td>\n",
       "      <td>Male</td>\n",
       "      <td>27</td>\n",
       "      <td>2.0</td>\n",
       "      <td>134603.88</td>\n",
       "      <td>1</td>\n",
       "      <td>1</td>\n",
       "      <td>1</td>\n",
       "      <td>71725.73</td>\n",
       "      <td>0</td>\n",
       "    </tr>\n",
       "  </tbody>\n",
       "</table>\n",
       "</div>"
      ],
      "text/plain": [
       "   RowNumber  CustomerId   Surname  CreditScore Geography  Gender  Age  \\\n",
       "0          1    15634602  Hargrave          619    France  Female   42   \n",
       "1          2    15647311      Hill          608     Spain  Female   41   \n",
       "2          3    15619304      Onio          502    France  Female   42   \n",
       "3          4    15701354      Boni          699    France  Female   39   \n",
       "4          5    15737888  Mitchell          850     Spain  Female   43   \n",
       "5          6    15574012       Chu          645     Spain    Male   44   \n",
       "6          7    15592531  Bartlett          822    France    Male   50   \n",
       "7          8    15656148    Obinna          376   Germany  Female   29   \n",
       "8          9    15792365        He          501    France    Male   44   \n",
       "9         10    15592389        H?          684    France    Male   27   \n",
       "\n",
       "   Tenure    Balance  NumOfProducts  HasCrCard  IsActiveMember  \\\n",
       "0     2.0       0.00              1          1               1   \n",
       "1     1.0   83807.86              1          0               1   \n",
       "2     8.0  159660.80              3          1               0   \n",
       "3     1.0       0.00              2          0               0   \n",
       "4     2.0  125510.82              1          1               1   \n",
       "5     8.0  113755.78              2          1               0   \n",
       "6     7.0       0.00              2          1               1   \n",
       "7     4.0  115046.74              4          1               0   \n",
       "8     4.0  142051.07              2          0               1   \n",
       "9     2.0  134603.88              1          1               1   \n",
       "\n",
       "   EstimatedSalary  Exited  \n",
       "0        101348.88       1  \n",
       "1        112542.58       0  \n",
       "2        113931.57       1  \n",
       "3         93826.63       0  \n",
       "4         79084.10       0  \n",
       "5        149756.71       1  \n",
       "6         10062.80       0  \n",
       "7        119346.88       1  \n",
       "8         74940.50       0  \n",
       "9         71725.73       0  "
      ]
     },
     "execution_count": 3,
     "metadata": {},
     "output_type": "execute_result"
    }
   ],
   "source": [
    "data.head(10)"
   ]
  },
  {
   "cell_type": "markdown",
   "metadata": {},
   "source": [
    "Просмотрел первые 10 значений в таблице."
   ]
  },
  {
   "cell_type": "code",
   "execution_count": 4,
   "metadata": {
    "scrolled": true
   },
   "outputs": [
    {
     "name": "stdout",
     "output_type": "stream",
     "text": [
      "(10000, 14)\n"
     ]
    }
   ],
   "source": [
    "print(data.shape)"
   ]
  },
  {
   "cell_type": "markdown",
   "metadata": {},
   "source": [
    "Просмотрел информацию о количестве наблюдений и признаков, вижу, что в таблице 10000 строк и 14 столбцов."
   ]
  },
  {
   "cell_type": "code",
   "execution_count": 5,
   "metadata": {
    "scrolled": true
   },
   "outputs": [
    {
     "name": "stdout",
     "output_type": "stream",
     "text": [
      "Index(['RowNumber', 'CustomerId', 'Surname', 'CreditScore', 'Geography',\n",
      "       'Gender', 'Age', 'Tenure', 'Balance', 'NumOfProducts', 'HasCrCard',\n",
      "       'IsActiveMember', 'EstimatedSalary', 'Exited'],\n",
      "      dtype='object')\n"
     ]
    }
   ],
   "source": [
    "print(data.columns)"
   ]
  },
  {
   "cell_type": "markdown",
   "metadata": {},
   "source": [
    "Вывел названия столбцов."
   ]
  },
  {
   "cell_type": "code",
   "execution_count": 6,
   "metadata": {},
   "outputs": [],
   "source": [
    "data.columns = data.columns.str.lower()"
   ]
  },
  {
   "cell_type": "markdown",
   "metadata": {},
   "source": [
    "Переименовал столбцы, привел все названия к нижнему регистру."
   ]
  },
  {
   "cell_type": "code",
   "execution_count": 7,
   "metadata": {
    "scrolled": true
   },
   "outputs": [
    {
     "data": {
      "text/plain": [
       "0"
      ]
     },
     "execution_count": 7,
     "metadata": {},
     "output_type": "execute_result"
    }
   ],
   "source": [
    "data.duplicated().sum()"
   ]
  },
  {
   "cell_type": "markdown",
   "metadata": {},
   "source": [
    "Проверил количество явных дубликатов."
   ]
  },
  {
   "cell_type": "code",
   "execution_count": 8,
   "metadata": {
    "scrolled": true
   },
   "outputs": [
    {
     "data": {
      "text/plain": [
       "rownumber            0\n",
       "customerid           0\n",
       "surname              0\n",
       "creditscore          0\n",
       "geography            0\n",
       "gender               0\n",
       "age                  0\n",
       "tenure             909\n",
       "balance              0\n",
       "numofproducts        0\n",
       "hascrcard            0\n",
       "isactivemember       0\n",
       "estimatedsalary      0\n",
       "exited               0\n",
       "dtype: int64"
      ]
     },
     "execution_count": 8,
     "metadata": {},
     "output_type": "execute_result"
    }
   ],
   "source": [
    "data.isna().sum()"
   ]
  },
  {
   "cell_type": "markdown",
   "metadata": {},
   "source": [
    "Проверил количество пропущенных значений, обнаружил 909 пропусков в столбце tenure."
   ]
  },
  {
   "cell_type": "code",
   "execution_count": 9,
   "metadata": {},
   "outputs": [],
   "source": [
    "data['tenure'] = data['tenure'].fillna(value='0')"
   ]
  },
  {
   "cell_type": "markdown",
   "metadata": {},
   "source": [
    "Заменил все пропущенные значения в **tenure** на 0."
   ]
  },
  {
   "cell_type": "code",
   "execution_count": 10,
   "metadata": {
    "scrolled": true
   },
   "outputs": [
    {
     "data": {
      "text/plain": [
       "rownumber          0\n",
       "customerid         0\n",
       "surname            0\n",
       "creditscore        0\n",
       "geography          0\n",
       "gender             0\n",
       "age                0\n",
       "tenure             0\n",
       "balance            0\n",
       "numofproducts      0\n",
       "hascrcard          0\n",
       "isactivemember     0\n",
       "estimatedsalary    0\n",
       "exited             0\n",
       "dtype: int64"
      ]
     },
     "execution_count": 10,
     "metadata": {},
     "output_type": "execute_result"
    }
   ],
   "source": [
    "data.isna().sum()"
   ]
  },
  {
   "cell_type": "markdown",
   "metadata": {},
   "source": [
    "Повторно проверил и убедился, что теперь Nan отсутствуют."
   ]
  },
  {
   "cell_type": "code",
   "execution_count": 11,
   "metadata": {
    "scrolled": true
   },
   "outputs": [
    {
     "data": {
      "text/plain": [
       "rownumber          10000\n",
       "customerid         10000\n",
       "surname             2932\n",
       "creditscore          460\n",
       "geography              3\n",
       "gender                 2\n",
       "age                   70\n",
       "tenure                12\n",
       "balance             6382\n",
       "numofproducts          4\n",
       "hascrcard              2\n",
       "isactivemember         2\n",
       "estimatedsalary     9999\n",
       "exited                 2\n",
       "dtype: int64"
      ]
     },
     "execution_count": 11,
     "metadata": {},
     "output_type": "execute_result"
    }
   ],
   "source": [
    "data.nunique()"
   ]
  },
  {
   "cell_type": "markdown",
   "metadata": {},
   "source": [
    "Количество уникальных значений."
   ]
  },
  {
   "cell_type": "code",
   "execution_count": 12,
   "metadata": {
    "scrolled": false
   },
   "outputs": [
    {
     "name": "stdout",
     "output_type": "stream",
     "text": [
      "<class 'pandas.core.frame.DataFrame'>\n",
      "RangeIndex: 10000 entries, 0 to 9999\n",
      "Data columns (total 14 columns):\n",
      " #   Column           Non-Null Count  Dtype  \n",
      "---  ------           --------------  -----  \n",
      " 0   rownumber        10000 non-null  int64  \n",
      " 1   customerid       10000 non-null  int64  \n",
      " 2   surname          10000 non-null  object \n",
      " 3   creditscore      10000 non-null  int64  \n",
      " 4   geography        10000 non-null  object \n",
      " 5   gender           10000 non-null  object \n",
      " 6   age              10000 non-null  int64  \n",
      " 7   tenure           10000 non-null  object \n",
      " 8   balance          10000 non-null  float64\n",
      " 9   numofproducts    10000 non-null  int64  \n",
      " 10  hascrcard        10000 non-null  int64  \n",
      " 11  isactivemember   10000 non-null  int64  \n",
      " 12  estimatedsalary  10000 non-null  float64\n",
      " 13  exited           10000 non-null  int64  \n",
      "dtypes: float64(2), int64(8), object(4)\n",
      "memory usage: 1.1+ MB\n"
     ]
    }
   ],
   "source": [
    "data.info()"
   ]
  },
  {
   "cell_type": "markdown",
   "metadata": {},
   "source": [
    "Просмотрел общую информацию по датафрейму и всем признакам."
   ]
  },
  {
   "cell_type": "markdown",
   "metadata": {},
   "source": [
    "## Исследуйте баланс классов, обучите модель без учёта дисбаланса. Кратко опишите выводы."
   ]
  },
  {
   "cell_type": "code",
   "execution_count": 13,
   "metadata": {
    "scrolled": false
   },
   "outputs": [],
   "source": [
    "data = data.drop(columns = ['rownumber', 'customerid', 'surname'],axis = 1)"
   ]
  },
  {
   "cell_type": "markdown",
   "metadata": {},
   "source": [
    "Удалил столбцы с не нужными данными из датафрэйма."
   ]
  },
  {
   "cell_type": "code",
   "execution_count": 14,
   "metadata": {},
   "outputs": [],
   "source": [
    "data_ohe = pd.get_dummies(data, drop_first=True)"
   ]
  },
  {
   "cell_type": "markdown",
   "metadata": {},
   "source": [
    "Применил прямое кодирование ко всему датафрейму."
   ]
  },
  {
   "cell_type": "code",
   "execution_count": 15,
   "metadata": {},
   "outputs": [
    {
     "name": "stdout",
     "output_type": "stream",
     "text": [
      "Index(['creditscore', 'age', 'balance', 'numofproducts', 'hascrcard',\n",
      "       'isactivemember', 'estimatedsalary', 'exited', 'geography_Germany',\n",
      "       'geography_Spain', 'gender_Male', 'tenure_1.0', 'tenure_2.0',\n",
      "       'tenure_3.0', 'tenure_4.0', 'tenure_5.0', 'tenure_6.0', 'tenure_7.0',\n",
      "       'tenure_8.0', 'tenure_9.0', 'tenure_10.0', 'tenure_0'],\n",
      "      dtype='object')\n"
     ]
    }
   ],
   "source": [
    "print(data_ohe.columns)"
   ]
  },
  {
   "cell_type": "markdown",
   "metadata": {},
   "source": [
    "Проверил названия столбцов после преобразования."
   ]
  },
  {
   "cell_type": "code",
   "execution_count": 16,
   "metadata": {
    "scrolled": true
   },
   "outputs": [
    {
     "name": "stdout",
     "output_type": "stream",
     "text": [
      "0    0.7963\n",
      "1    0.2037\n",
      "Name: exited, dtype: float64\n"
     ]
    },
    {
     "data": {
      "image/png": "[encoded data removed]",
      "text/plain": [
       "<Figure size 432x288 with 1 Axes>"
      ]
     },
     "metadata": {
      "needs_background": "light"
     },
     "output_type": "display_data"
    }
   ],
   "source": [
    "exited = data_ohe['exited'].value_counts(normalize=True)\n",
    "print(exited)\n",
    "exited.plot(kind='bar');"
   ]
  },
  {
   "cell_type": "markdown",
   "metadata": {},
   "source": [
    "Проверил какое количество пользователей ушли:  \n",
    "**Остались** - 0.8%;    \n",
    "**Ушли** - 0.2%."
   ]
  },
  {
   "cell_type": "code",
   "execution_count": 17,
   "metadata": {
    "scrolled": false
   },
   "outputs": [],
   "source": [
    "features = data_ohe.drop(['exited'], axis=1) # выделил признак\n",
    "target = data_ohe['exited'] # выделил целевой признак"
   ]
  },
  {
   "cell_type": "markdown",
   "metadata": {},
   "source": [
    "Выделил признаки."
   ]
  },
  {
   "cell_type": "code",
   "execution_count": 18,
   "metadata": {
    "scrolled": false
   },
   "outputs": [],
   "source": [
    "features_train, features_valid, target_train, target_valid = train_test_split\\\n",
    "                    (features, target, test_size=0.4, random_state=54321, stratify=target)"
   ]
  },
  {
   "cell_type": "markdown",
   "metadata": {},
   "source": [
    "Выделил 40% данных для валидационной выборки."
   ]
  },
  {
   "cell_type": "code",
   "execution_count": 19,
   "metadata": {
    "scrolled": false
   },
   "outputs": [],
   "source": [
    "features_train, features_test, target_train, target_test = train_test_split\\\n",
    "                    (features_train, target_train, test_size=0.2, random_state=54321, stratify=target_train)"
   ]
  },
  {
   "cell_type": "markdown",
   "metadata": {},
   "source": [
    "Выделил 20% данных для тестовой выборки."
   ]
  },
  {
   "cell_type": "code",
   "execution_count": 20,
   "metadata": {
    "scrolled": true
   },
   "outputs": [
    {
     "name": "stdout",
     "output_type": "stream",
     "text": [
      "(4800, 21)\n",
      "(4000, 21)\n",
      "(1200, 21)\n"
     ]
    }
   ],
   "source": [
    "print(features_train.shape)\n",
    "print(features_valid.shape)\n",
    "print(features_test.shape)"
   ]
  },
  {
   "cell_type": "markdown",
   "metadata": {},
   "source": [
    "Проверил количество наблюдений для каждой выборки."
   ]
  },
  {
   "cell_type": "code",
   "execution_count": 21,
   "metadata": {},
   "outputs": [
    {
     "name": "stdout",
     "output_type": "stream",
     "text": [
      "F1-мера: 0.5813040062843676\n"
     ]
    }
   ],
   "source": [
    "model = RandomForestClassifier(random_state=123456) # исследую модель случайный лес\n",
    "model.fit(features_train, target_train) # обучил модель на обучающей выборке\n",
    "predictions_valid = model.predict(features_valid) # нашел предсказания на валидационной выборке\n",
    "print(\"F1-мера:\", f1_score(target_valid, predictions_valid))"
   ]
  },
  {
   "cell_type": "code",
   "execution_count": 22,
   "metadata": {
    "scrolled": true
   },
   "outputs": [
    {
     "name": "stdout",
     "output_type": "stream",
     "text": [
      "0    0.8855\n",
      "1    0.1145\n",
      "dtype: float64\n"
     ]
    },
    {
     "data": {
      "image/png": "[encoded data removed]",
      "text/plain": [
       "<Figure size 432x288 with 1 Axes>"
      ]
     },
     "metadata": {
      "needs_background": "light"
     },
     "output_type": "display_data"
    }
   ],
   "source": [
    "predictions_valid = pd.Series(model.predict(features_valid))\n",
    "class_frequency = predictions_valid.value_counts(normalize=True)\n",
    "print(class_frequency)\n",
    "class_frequency.plot(kind='bar');"
   ]
  },
  {
   "cell_type": "markdown",
   "metadata": {},
   "source": [
    "Проверил предсказание на модели решающее дерево:  \n",
    "\n",
    "**Остались** - 0.89%;  \n",
    "**Ушли** - 0.11%."
   ]
  },
  {
   "cell_type": "code",
   "execution_count": 23,
   "metadata": {},
   "outputs": [
    {
     "name": "stdout",
     "output_type": "stream",
     "text": [
      "F1-мера: 0.12358393408856848\n"
     ]
    }
   ],
   "source": [
    "model = LogisticRegression(random_state=123456) # исследую модель логистическая регрессия\n",
    "model.fit(features_train, target_train) # обучил модель на обучающей выборке\n",
    "predictions_valid = model.predict(features_valid) # нашел предсказания на валидационной выборке\n",
    "print(\"F1-мера:\", f1_score(target_valid, predictions_valid))"
   ]
  },
  {
   "cell_type": "markdown",
   "metadata": {},
   "source": [
    "Исследую модель Логистическая регрессия"
   ]
  },
  {
   "cell_type": "code",
   "execution_count": 24,
   "metadata": {},
   "outputs": [
    {
     "name": "stdout",
     "output_type": "stream",
     "text": [
      "F1-мера: 0.49610545236668663\n"
     ]
    }
   ],
   "source": [
    "model = DecisionTreeClassifier(random_state=123456) # исследую модель дерево решений\n",
    "model.fit(features_train, target_train) # обучил модель на обучающей выборке\n",
    "predictions_valid = model.predict(features_valid) # нашел предсказания на валидационной выборке\n",
    "print(\"F1-мера:\", f1_score(target_valid, predictions_valid))"
   ]
  },
  {
   "cell_type": "markdown",
   "metadata": {},
   "source": [
    "Исследую модель Дерево решений"
   ]
  },
  {
   "cell_type": "code",
   "execution_count": 25,
   "metadata": {},
   "outputs": [
    {
     "name": "stdout",
     "output_type": "stream",
     "text": [
      "F1-мера: 0.5813040062843676\n"
     ]
    }
   ],
   "source": [
    "model = RandomForestClassifier(random_state=123456) # исследую модель случайный лес\n",
    "model.fit(features_train, target_train) # обучил модель на обучающей выборке\n",
    "predictions_valid = model.predict(features_valid) # нашел предсказания на валидационной выборке\n",
    "print(\"F1-мера:\", f1_score(target_valid, predictions_valid))"
   ]
  },
  {
   "cell_type": "markdown",
   "metadata": {},
   "source": [
    "Исследую модель Случайный лес"
   ]
  },
  {
   "cell_type": "code",
   "execution_count": 26,
   "metadata": {
    "scrolled": true
   },
   "outputs": [
    {
     "name": "stdout",
     "output_type": "stream",
     "text": [
      "[[3097   88]\n",
      " [ 445  370]]\n",
      "processed: 3: 100%|██████████| 3/3 [00:03<00:00,  1.00s/it]\n"
     ]
    }
   ],
   "source": [
    "values = confusion_matrix(target_valid, predictions_valid) \n",
    "print(values)\n",
    "values = range(3)\n",
    "with tqdm(total=len(values), file=sys.stdout) as pbar:\n",
    "    for i in values:\n",
    "        pbar.set_description('processed: %d' % (1 + i))\n",
    "        pbar.update(1)\n",
    "        sleep(1)"
   ]
  },
  {
   "cell_type": "markdown",
   "metadata": {},
   "source": [
    "Рассчитал матрицу ошибок"
   ]
  },
  {
   "cell_type": "code",
   "execution_count": 27,
   "metadata": {
    "scrolled": true
   },
   "outputs": [
    {
     "name": "stdout",
     "output_type": "stream",
     "text": [
      "Полнота: 0.4539877300613497\n",
      "Точность: 0.8078602620087336\n",
      "F1-мера: 0.5813040062843676\n"
     ]
    }
   ],
   "source": [
    "precision = precision_score(target_valid, predictions_valid)\n",
    "recall = recall_score(target_valid, predictions_valid)\n",
    "f1 = 2 * precision * recall / (precision + recall)\n",
    "\n",
    "print(\"Полнота:\", recall)\n",
    "print(\"Точность:\", precision)\n",
    "print(\"F1-мера:\", f1)"
   ]
  },
  {
   "cell_type": "markdown",
   "metadata": {},
   "source": [
    "**Вывод** - Проведя анализ данных, мы видим, что данные не сбалансированы:  \n",
    "[3097 | 88]  \n",
    " [ 445 | 370]\n",
    "\n",
    "Значение **recall** - ближе к нулю, модель надо перепроверить и починить.  \n",
    "Значение **precision** - модель считается хорошей, если точность близка к единице.  \n",
    "Значение **F1-меры** - когда полнота или точность близки к нулю, то к 0 приближается и само среднее гармоническое.  "
   ]
  },
  {
   "cell_type": "markdown",
   "metadata": {},
   "source": [
    "## Борьба с дисбалансом."
   ]
  },
  {
   "cell_type": "code",
   "execution_count": 28,
   "metadata": {
    "scrolled": true
   },
   "outputs": [
    {
     "name": "stdout",
     "output_type": "stream",
     "text": [
      "max_depth = 490 :  0.594887683965918 : 0.86925\n",
      "max_depth = 491 :  0.5944272445820433 : 0.869\n",
      "max_depth = 492 :  0.594887683965918 : 0.86925\n",
      "max_depth = 493 :  0.5939675174013921 : 0.86875\n",
      "max_depth = 494 :  0.5944272445820433 : 0.869\n",
      "max_depth = 495 :  0.5944272445820433 : 0.869\n",
      "max_depth = 496 :  0.5953488372093023 : 0.8695\n",
      "max_depth = 497 :  0.5953488372093023 : 0.8695\n",
      "max_depth = 498 :  0.5953488372093023 : 0.8695\n",
      "max_depth = 499 :  0.5944272445820433 : 0.869\n"
     ]
    }
   ],
   "source": [
    "best_model = None\n",
    "best_result = 0\n",
    "for depth in range(490, 500):\n",
    "    model = RandomForestClassifier(n_estimators=depth, random_state=123) # < создайте модель, указав max_depth=depth >\n",
    "    model.fit(features_train, target_train)# < обучите модель >\n",
    "    predictions_valid = model.predict(features_valid)# < найдите предсказания на валидационной выборке >\n",
    "    result = model.score(features_valid, target_valid)\n",
    "    \n",
    "    precision = precision_score(target_valid, predictions_valid)\n",
    "    recall = recall_score(target_valid, predictions_valid)\n",
    "    f1 = 2 * precision * recall / (precision + recall)\n",
    "    \n",
    "    if result > best_result:\n",
    "        best_model = model # сохраните наилучшую модель\n",
    "        best_result = result #  сохраните наилучшее значение метрики accuracy на валидационных данных\n",
    "    print(\"max_depth =\", depth, \": \", f1, \": \", end='')\n",
    "    print(accuracy_score(target_valid, predictions_valid)) "
   ]
  },
  {
   "cell_type": "markdown",
   "metadata": {},
   "source": [
    "Добавил функция для расчета максильного значения F1-меры для RandomForestClassifier."
   ]
  },
  {
   "cell_type": "code",
   "execution_count": 29,
   "metadata": {
    "scrolled": false
   },
   "outputs": [
    {
     "name": "stdout",
     "output_type": "stream",
     "text": [
      "F1-мера: 0.44097639055622245\n"
     ]
    }
   ],
   "source": [
    "model = LogisticRegression(random_state=12345, solver='liblinear', class_weight='balanced') # исследую модель лог.регресс\n",
    "model.fit(features_train, target_train) # обучил модель на обучающей выборке\n",
    "predictions_valid = model.predict(features_valid) # нашел предсказания на валидационной выборке\n",
    "print(\"F1-мера:\", f1_score(target_valid, predictions_valid))"
   ]
  },
  {
   "cell_type": "markdown",
   "metadata": {},
   "source": [
    "Переобучил модель логистической регрессии с равнозначными классами. Сделал веса классов сбалансированными.  \n",
    "Значение **F1-меры** увеличилось с 0.1 до 0.44."
   ]
  },
  {
   "cell_type": "code",
   "execution_count": 48,
   "metadata": {
    "scrolled": false
   },
   "outputs": [
    {
     "name": "stdout",
     "output_type": "stream",
     "text": [
      "F1-мера: 0.5753931544865866\n"
     ]
    }
   ],
   "source": [
    "model = DecisionTreeClassifier(max_depth=5, random_state=123456, class_weight='balanced') # исследую модель дерево решений\n",
    "model.fit(features_train, target_train) # обучил модель на обучающей выборке\n",
    "predictions_valid = model.predict(features_valid) # нашел предсказания на валидационной выборке\n",
    "print(\"F1-мера:\", f1_score(target_valid, predictions_valid))"
   ]
  },
  {
   "cell_type": "markdown",
   "metadata": {},
   "source": [
    "Переобучил модель дереву решений.  \n",
    "Значение **F1-меры** увеличилось с 0.44 до 0.57.  "
   ]
  },
  {
   "cell_type": "code",
   "execution_count": 31,
   "metadata": {
    "scrolled": true
   },
   "outputs": [
    {
     "name": "stdout",
     "output_type": "stream",
     "text": [
      "F1-мера: 0.5944272445820433\n"
     ]
    }
   ],
   "source": [
    "model = RandomForestClassifier(n_estimators=495, random_state=123) # исследую модель случайный лес\n",
    "model.fit(features_train, target_train) # обучил модель на обучающей выборке\n",
    "predictions_valid = model.predict(features_valid) # нашел предсказания на валидационной выборке\n",
    "print(\"F1-мера:\", f1_score(target_valid, predictions_valid))"
   ]
  },
  {
   "cell_type": "markdown",
   "metadata": {},
   "source": [
    "Переобучил модель распределенное дерево.    \n",
    "Значение **F1-меры** увеличилось до 0.59."
   ]
  },
  {
   "cell_type": "code",
   "execution_count": 49,
   "metadata": {},
   "outputs": [],
   "source": [
    "numeric = ['creditscore', 'age', 'balance',\n",
    "       'numofproducts', 'hascrcard', 'isactivemember', 'estimatedsalary']\n",
    "\n",
    "scaler = StandardScaler()\n",
    "scaler.fit(features_train[numeric])\n",
    "\n",
    "features_train[numeric] = scaler.transform(features_train[numeric])\n",
    "features_test[numeric] = scaler.transform(features_test[numeric])"
   ]
  },
  {
   "cell_type": "markdown",
   "metadata": {},
   "source": [
    "Стандартизировал признаки."
   ]
  },
  {
   "cell_type": "code",
   "execution_count": 50,
   "metadata": {
    "scrolled": true
   },
   "outputs": [
    {
     "name": "stdout",
     "output_type": "stream",
     "text": [
      "F1-мера: 0.5955143078112916\n"
     ]
    }
   ],
   "source": [
    "model = RandomForestClassifier(n_estimators=495, random_state=123) # исследую модель случайный лес\n",
    "model.fit(features_train, target_train) # обучил модель на обучающей выборке\n",
    "predictions_valid = model.predict(features_valid) # нашел предсказания на валидационной выборке\n",
    "print(\"F1-мера:\", f1_score(target_valid, predictions_valid))"
   ]
  },
  {
   "cell_type": "markdown",
   "metadata": {},
   "source": [
    "Переобучил модель случайный лес.  \n",
    "Значение F1-меры увеличилось незначительно с 0.561 до 0.595"
   ]
  },
  {
   "cell_type": "code",
   "execution_count": 51,
   "metadata": {
    "scrolled": true
   },
   "outputs": [
    {
     "name": "stdout",
     "output_type": "stream",
     "text": [
      "F1-мера: 0.5357548240635642\n"
     ]
    }
   ],
   "source": [
    "model = DecisionTreeClassifier(max_depth=10, random_state=123456) # исследую модель дерево решений7\n",
    "model.fit(features_valid, target_valid) # обучил модель на валидационной выборке\n",
    "predictions_train = model.predict(features_train) # нашел предсказания на обучающей выборке\n",
    "print(\"F1-мера:\", f1_score(target_train, predictions_train))"
   ]
  },
  {
   "cell_type": "markdown",
   "metadata": {},
   "source": [
    "Переобучил модель дереву решений.  \n",
    "Значение F1-меры уменьшилось."
   ]
  },
  {
   "cell_type": "code",
   "execution_count": 63,
   "metadata": {
    "scrolled": false
   },
   "outputs": [
    {
     "name": "stdout",
     "output_type": "stream",
     "text": [
      "F1-мера: 0.6065340909090908\n"
     ]
    }
   ],
   "source": [
    "def upsample(features, target, repeat):\n",
    "    features_zeros = features[target_train == 0]\n",
    "    features_ones = features[target_train == 1]\n",
    "    target_zeros = target[target_train == 0]\n",
    "    target_ones = target[target_train == 1]\n",
    "    \n",
    "    features_upsampled = pd.concat([features_zeros] + [features_ones] * repeat)\n",
    "    target_upsampled = pd.concat([target_zeros] + [target_ones] * repeat)\n",
    "    \n",
    "    features_upsampled, target_upsampled = shuffle (features_upsampled, target_upsampled, random_state=123456)\n",
    "    return features_upsampled, target_upsampled\n",
    "\n",
    "features_upsampled, target_upsampled = upsample(features_train, target_train, 2)\n",
    "\n",
    "model = RandomForestClassifier(n_estimators=495, random_state=123)\n",
    "model.fit(features_upsampled, target_upsampled)\n",
    "\n",
    "predicted_valid = model.predict(features_valid)\n",
    "print(\"F1-мера:\", f1_score(target_valid, predicted_valid))"
   ]
  },
  {
   "cell_type": "markdown",
   "metadata": {},
   "source": [
    "Увеличил выборки, значение F1-меры увеличилось с 0.53 до 0.6."
   ]
  },
  {
   "cell_type": "code",
   "execution_count": 59,
   "metadata": {
    "scrolled": true
   },
   "outputs": [
    {
     "name": "stdout",
     "output_type": "stream",
     "text": [
      "0    0.83875\n",
      "1    0.16125\n",
      "dtype: float64\n"
     ]
    },
    {
     "data": {
      "image/png": "[encoded data removed]",
      "text/plain": [
       "<Figure size 432x288 with 1 Axes>"
      ]
     },
     "metadata": {
      "needs_background": "light"
     },
     "output_type": "display_data"
    }
   ],
   "source": [
    "predictions_valid = pd.Series(model.predict(features_valid))\n",
    "class_frequency = predictions_valid.value_counts(normalize=True)\n",
    "print(class_frequency)\n",
    "class_frequency.plot(kind='bar');"
   ]
  },
  {
   "cell_type": "markdown",
   "metadata": {},
   "source": [
    "Проверил предсказание на модели решающее дерево:  \n",
    "\n",
    "**Остались** - 0.84%;  \n",
    "**Ушли** - 0.16%."
   ]
  },
  {
   "cell_type": "code",
   "execution_count": 60,
   "metadata": {
    "scrolled": true
   },
   "outputs": [
    {
     "name": "stdout",
     "output_type": "stream",
     "text": [
      "Вероятность класса 1 [0.08080808 0.16969697 0.07474747 0.01414141 0.71919192]\n",
      "\n",
      "Порог = 0.00 | Точность = 0.205, Полнота = 1.000\n",
      "Порог = 0.02 | Точность = 0.222, Полнота = 0.996\n",
      "Порог = 0.04 | Точность = 0.241, Полнота = 0.985\n",
      "Порог = 0.06 | Точность = 0.262, Полнота = 0.968\n",
      "Порог = 0.08 | Точность = 0.283, Полнота = 0.948\n",
      "Порог = 0.10 | Точность = 0.302, Полнота = 0.929\n",
      "Порог = 0.12 | Точность = 0.318, Полнота = 0.910\n",
      "Порог = 0.14 | Точность = 0.337, Полнота = 0.883\n",
      "Порог = 0.16 | Точность = 0.356, Полнота = 0.869\n",
      "Порог = 0.18 | Точность = 0.374, Полнота = 0.845\n",
      "Порог = 0.20 | Точность = 0.394, Полнота = 0.831\n",
      "Порог = 0.22 | Точность = 0.407, Полнота = 0.813\n",
      "Порог = 0.24 | Точность = 0.424, Полнота = 0.796\n",
      "Порог = 0.26 | Точность = 0.441, Полнота = 0.767\n",
      "Порог = 0.28 | Точность = 0.465, Полнота = 0.751\n"
     ]
    }
   ],
   "source": [
    "probabilities_valid = model.predict_proba(features_valid)\n",
    "probabilities_one_valid = probabilities_valid[:, 1]\n",
    "print('Вероятность класса 1',probabilities_one_valid[:5])\n",
    "print()\n",
    "for threshold in np.arange(0, 0.3, 0.02):\n",
    "    predicted_valid = probabilities_one_valid > threshold\n",
    "    precision = precision_score(target_valid, predicted_valid)\n",
    "    recall = recall_score(target_valid, predicted_valid)\n",
    "    print(\"Порог = {:.2f} | Точность = {:.3f}, Полнота = {:.3f}\".format(threshold, precision, recall))    "
   ]
  },
  {
   "cell_type": "markdown",
   "metadata": {},
   "source": [
    "Вероятность не большая, при пороге 0 полнота равна 1 - все ответы положительные.  \n",
    "При увеличении порога полнота падает."
   ]
  },
  {
   "cell_type": "code",
   "execution_count": 61,
   "metadata": {
    "scrolled": false
   },
   "outputs": [
    {
     "name": "stdout",
     "output_type": "stream",
     "text": [
      "AUC-ROC 0.848096233302193\n"
     ]
    },
    {
     "data": {
      "image/png": "[encoded data removed]",
      "text/plain": [
       "<Figure size 432x288 with 1 Axes>"
      ]
     },
     "metadata": {
      "needs_background": "light"
     },
     "output_type": "display_data"
    }
   ],
   "source": [
    "probabilities_valid = model.predict_proba(features_valid)\n",
    "probabilities_one_valid = probabilities_valid[:, 1]\n",
    "\n",
    "fpr, tpr, thresholds = roc_curve(target_valid, probabilities_one_valid)  # < напишите код здесь >\n",
    "auc_roc = roc_auc_score(target_valid, model.predict_proba(features_valid)[:, 1])# < напишите код здесь >\n",
    "print('AUC-ROC', auc_roc)\n",
    "plt.figure()\n",
    "plt.plot([0, 1], [0, 1])\n",
    "plt.plot(fpr, tpr)\n",
    "plt.xlim([0.0, 1.0])\n",
    "plt.ylim([0.0, 1.0])\n",
    "plt.xlabel('False Positive Rate')\n",
    "plt.ylabel('True Positive Rate')\n",
    "plt.title('ROC-кривая')\n",
    "plt.show()    "
   ]
  },
  {
   "cell_type": "markdown",
   "metadata": {},
   "source": [
    "Доля TPR больше чем FPR, качество модели лучше. Метрика AUC-ROC равно 0.85."
   ]
  },
  {
   "cell_type": "markdown",
   "metadata": {},
   "source": [
    "**Вывод** - В данном модуле я проверил несколько разных методов борьбы с несбалансированностью классов, некоторые методы показали незначительный результат, некоторые дали заметный положительный результат.  \n",
    "В результате, на модели RandomForestClassifier, после перемешивания данных удалось достигнуть величины F1-меры равной 0.60."
   ]
  },
  {
   "cell_type": "markdown",
   "metadata": {},
   "source": [
    "## Тестирование модели."
   ]
  },
  {
   "cell_type": "code",
   "execution_count": 64,
   "metadata": {
    "scrolled": true
   },
   "outputs": [
    {
     "name": "stdout",
     "output_type": "stream",
     "text": [
      "F1-мера: 0.591016548463357\n"
     ]
    }
   ],
   "source": [
    "predicted_test = model.predict(features_test)\n",
    "print(\"F1-мера:\", f1_score(target_test, predicted_test))"
   ]
  },
  {
   "cell_type": "markdown",
   "metadata": {},
   "source": [
    "На тестовой выборке значение F1-меры 0.59."
   ]
  },
  {
   "cell_type": "code",
   "execution_count": 65,
   "metadata": {
    "scrolled": true
   },
   "outputs": [
    {
     "name": "stdout",
     "output_type": "stream",
     "text": [
      "AUC-ROC 0.8614702654503051\n"
     ]
    }
   ],
   "source": [
    "probabilities_test = model.predict_proba(features_test)\n",
    "probabilities_one_test = probabilities_test[:, 1]\n",
    "fpr, tpr, thresholds = roc_curve(target_test, probabilities_one_test)\n",
    "auc_roc = roc_auc_score(target_test, model.predict_proba(features_test)[:, 1])# < напишите код здесь >\n",
    "print('AUC-ROC', auc_roc)"
   ]
  },
  {
   "cell_type": "markdown",
   "metadata": {},
   "source": [
    "На тестовой выборке значение AUC-ROC 0.86."
   ]
  },
  {
   "cell_type": "markdown",
   "metadata": {},
   "source": [
    "## Вывод"
   ]
  },
  {
   "cell_type": "markdown",
   "metadata": {},
   "source": [
    "Перед нами стояла задача построить модель с предельно большим значением F1-меры.  \n",
    "- Мы загрузили исходный датасет, провели минимальный анализ данных на наличие дубликатов, пропущенных значений и т.д.\n",
    "- Выполнили разделение исходных данных на обучающую, валидационную и тестовую выборку;\n",
    "- Далее выделили признаки для моделей и обучили модели.  \n",
    "- Выбрали модель с самым высоким уровнем F-меры на обучающей выборке и провели сравнение с тестовой выборкой.\n",
    "- Сравнили значения AUC-ROC для модели на обучающей выборке и на тестовой выборке."
   ]
  },
  {
   "cell_type": "markdown",
   "metadata": {},
   "source": [
    "Модель случайны лес, показала лучшее значение F1-меры равное 0.6., т.е. 6 из 10 правильных ответов. Модель нам подходит."
   ]
  }
 ],
 "metadata": {
  "ExecuteTimeLog": [
   {
    "duration": 2195,
    "start_time": "2022-11-08T09:22:27.800Z"
   },
   {
    "duration": 259,
    "start_time": "2022-11-08T09:22:29.996Z"
   },
   {
    "duration": 0,
    "start_time": "2022-11-08T09:22:30.258Z"
   },
   {
    "duration": 0,
    "start_time": "2022-11-08T09:22:30.259Z"
   },
   {
    "duration": 0,
    "start_time": "2022-11-08T09:22:30.260Z"
   },
   {
    "duration": 0,
    "start_time": "2022-11-08T09:22:30.263Z"
   },
   {
    "duration": 0,
    "start_time": "2022-11-08T09:22:30.265Z"
   },
   {
    "duration": 0,
    "start_time": "2022-11-08T09:22:30.266Z"
   },
   {
    "duration": 0,
    "start_time": "2022-11-08T09:22:30.268Z"
   },
   {
    "duration": 0,
    "start_time": "2022-11-08T09:22:30.269Z"
   },
   {
    "duration": 0,
    "start_time": "2022-11-08T09:22:30.271Z"
   },
   {
    "duration": 0,
    "start_time": "2022-11-08T09:22:30.273Z"
   },
   {
    "duration": 0,
    "start_time": "2022-11-08T09:22:30.274Z"
   },
   {
    "duration": 0,
    "start_time": "2022-11-08T09:22:30.276Z"
   },
   {
    "duration": 0,
    "start_time": "2022-11-08T09:22:30.277Z"
   },
   {
    "duration": 0,
    "start_time": "2022-11-08T09:22:30.349Z"
   },
   {
    "duration": 0,
    "start_time": "2022-11-08T09:22:30.350Z"
   },
   {
    "duration": 0,
    "start_time": "2022-11-08T09:22:30.351Z"
   },
   {
    "duration": 0,
    "start_time": "2022-11-08T09:22:30.352Z"
   },
   {
    "duration": 1,
    "start_time": "2022-11-08T09:22:30.353Z"
   },
   {
    "duration": 0,
    "start_time": "2022-11-08T09:22:30.355Z"
   },
   {
    "duration": 0,
    "start_time": "2022-11-08T09:22:30.356Z"
   },
   {
    "duration": 0,
    "start_time": "2022-11-08T09:22:30.357Z"
   },
   {
    "duration": 0,
    "start_time": "2022-11-08T09:22:30.358Z"
   },
   {
    "duration": 0,
    "start_time": "2022-11-08T09:22:30.360Z"
   },
   {
    "duration": 0,
    "start_time": "2022-11-08T09:22:30.361Z"
   },
   {
    "duration": 0,
    "start_time": "2022-11-08T09:22:30.362Z"
   },
   {
    "duration": 3,
    "start_time": "2022-11-08T09:23:49.285Z"
   },
   {
    "duration": 7,
    "start_time": "2022-11-08T09:23:50.757Z"
   },
   {
    "duration": 27,
    "start_time": "2022-11-08T09:24:03.959Z"
   },
   {
    "duration": 3,
    "start_time": "2022-11-08T09:24:03.988Z"
   },
   {
    "duration": 55,
    "start_time": "2022-11-08T09:24:03.993Z"
   },
   {
    "duration": 19,
    "start_time": "2022-11-08T09:24:04.050Z"
   },
   {
    "duration": 14,
    "start_time": "2022-11-08T09:24:04.071Z"
   },
   {
    "duration": 63,
    "start_time": "2022-11-08T09:24:04.086Z"
   },
   {
    "duration": 14,
    "start_time": "2022-11-08T09:24:04.157Z"
   },
   {
    "duration": 11,
    "start_time": "2022-11-08T09:24:04.172Z"
   },
   {
    "duration": 64,
    "start_time": "2022-11-08T09:24:04.184Z"
   },
   {
    "duration": 5,
    "start_time": "2022-11-08T09:24:04.249Z"
   },
   {
    "duration": 8,
    "start_time": "2022-11-08T09:24:04.255Z"
   },
   {
    "duration": 16,
    "start_time": "2022-11-08T09:24:04.264Z"
   },
   {
    "duration": 16,
    "start_time": "2022-11-08T09:24:04.281Z"
   },
   {
    "duration": 3,
    "start_time": "2022-11-08T09:24:04.350Z"
   },
   {
    "duration": 10,
    "start_time": "2022-11-08T09:24:04.355Z"
   },
   {
    "duration": 11,
    "start_time": "2022-11-08T09:24:04.366Z"
   },
   {
    "duration": 70,
    "start_time": "2022-11-08T09:24:04.378Z"
   },
   {
    "duration": 7,
    "start_time": "2022-11-08T09:24:04.450Z"
   },
   {
    "duration": 12,
    "start_time": "2022-11-08T09:24:04.459Z"
   },
   {
    "duration": 77,
    "start_time": "2022-11-08T09:24:04.472Z"
   },
   {
    "duration": 821,
    "start_time": "2022-11-08T09:24:04.551Z"
   },
   {
    "duration": 90,
    "start_time": "2022-11-08T09:24:05.374Z"
   },
   {
    "duration": 90,
    "start_time": "2022-11-08T09:24:05.466Z"
   },
   {
    "duration": 90,
    "start_time": "2022-11-08T09:24:05.558Z"
   },
   {
    "duration": 36,
    "start_time": "2022-11-08T09:24:05.650Z"
   },
   {
    "duration": 161,
    "start_time": "2022-11-08T09:24:05.688Z"
   },
   {
    "duration": 1577,
    "start_time": "2022-11-08T10:10:24.394Z"
   },
   {
    "duration": 193,
    "start_time": "2022-11-08T10:10:25.973Z"
   },
   {
    "duration": 0,
    "start_time": "2022-11-08T10:10:26.168Z"
   },
   {
    "duration": 0,
    "start_time": "2022-11-08T10:10:26.170Z"
   },
   {
    "duration": 0,
    "start_time": "2022-11-08T10:10:26.171Z"
   },
   {
    "duration": 0,
    "start_time": "2022-11-08T10:10:26.172Z"
   },
   {
    "duration": 0,
    "start_time": "2022-11-08T10:10:26.173Z"
   },
   {
    "duration": 0,
    "start_time": "2022-11-08T10:10:26.173Z"
   },
   {
    "duration": 0,
    "start_time": "2022-11-08T10:10:26.174Z"
   },
   {
    "duration": 0,
    "start_time": "2022-11-08T10:10:26.175Z"
   },
   {
    "duration": 0,
    "start_time": "2022-11-08T10:10:26.176Z"
   },
   {
    "duration": 0,
    "start_time": "2022-11-08T10:10:26.177Z"
   },
   {
    "duration": 0,
    "start_time": "2022-11-08T10:10:26.178Z"
   },
   {
    "duration": 0,
    "start_time": "2022-11-08T10:10:26.179Z"
   },
   {
    "duration": 0,
    "start_time": "2022-11-08T10:10:26.180Z"
   },
   {
    "duration": 0,
    "start_time": "2022-11-08T10:10:26.180Z"
   },
   {
    "duration": 0,
    "start_time": "2022-11-08T10:10:26.181Z"
   },
   {
    "duration": 0,
    "start_time": "2022-11-08T10:10:26.183Z"
   },
   {
    "duration": 0,
    "start_time": "2022-11-08T10:10:26.184Z"
   },
   {
    "duration": 0,
    "start_time": "2022-11-08T10:10:26.185Z"
   },
   {
    "duration": 0,
    "start_time": "2022-11-08T10:10:26.186Z"
   },
   {
    "duration": 0,
    "start_time": "2022-11-08T10:10:26.187Z"
   },
   {
    "duration": 0,
    "start_time": "2022-11-08T10:10:26.188Z"
   },
   {
    "duration": 0,
    "start_time": "2022-11-08T10:10:26.189Z"
   },
   {
    "duration": 0,
    "start_time": "2022-11-08T10:10:26.248Z"
   },
   {
    "duration": 0,
    "start_time": "2022-11-08T10:10:26.249Z"
   },
   {
    "duration": 0,
    "start_time": "2022-11-08T10:10:26.251Z"
   },
   {
    "duration": 3602,
    "start_time": "2022-11-09T08:56:17.330Z"
   },
   {
    "duration": 108,
    "start_time": "2022-11-09T08:56:20.935Z"
   },
   {
    "duration": 3,
    "start_time": "2022-11-09T08:56:21.045Z"
   },
   {
    "duration": 7,
    "start_time": "2022-11-09T08:56:21.049Z"
   },
   {
    "duration": 78,
    "start_time": "2022-11-09T08:56:21.059Z"
   },
   {
    "duration": 7,
    "start_time": "2022-11-09T08:56:21.139Z"
   },
   {
    "duration": 6,
    "start_time": "2022-11-09T08:56:21.147Z"
   },
   {
    "duration": 500,
    "start_time": "2022-11-09T08:56:21.230Z"
   },
   {
    "duration": 14123,
    "start_time": "2022-11-09T08:56:21.731Z"
   },
   {
    "duration": 77,
    "start_time": "2022-11-09T08:56:35.856Z"
   },
   {
    "duration": 9,
    "start_time": "2022-11-09T08:56:35.936Z"
   },
   {
    "duration": 7,
    "start_time": "2022-11-09T08:56:35.947Z"
   },
   {
    "duration": 4,
    "start_time": "2022-11-09T08:56:36.031Z"
   },
   {
    "duration": 17,
    "start_time": "2022-11-09T08:56:36.039Z"
   },
   {
    "duration": 73,
    "start_time": "2022-11-09T08:56:36.058Z"
   },
   {
    "duration": 14,
    "start_time": "2022-11-09T08:56:36.133Z"
   },
   {
    "duration": 11,
    "start_time": "2022-11-09T08:56:36.149Z"
   },
   {
    "duration": 86,
    "start_time": "2022-11-09T08:56:36.161Z"
   },
   {
    "duration": 81,
    "start_time": "2022-11-09T08:56:36.249Z"
   },
   {
    "duration": 21,
    "start_time": "2022-11-09T08:56:36.332Z"
   },
   {
    "duration": 84,
    "start_time": "2022-11-09T08:56:36.354Z"
   },
   {
    "duration": 13,
    "start_time": "2022-11-09T08:56:36.440Z"
   },
   {
    "duration": 97,
    "start_time": "2022-11-09T08:56:36.455Z"
   },
   {
    "duration": 1307,
    "start_time": "2022-11-09T08:56:36.554Z"
   },
   {
    "duration": 167,
    "start_time": "2022-11-09T08:56:37.863Z"
   },
   {
    "duration": 2321,
    "start_time": "2022-11-09T08:56:38.032Z"
   },
   {
    "duration": 5807,
    "start_time": "2022-11-09T08:56:40.355Z"
   },
   {
    "duration": 9307,
    "start_time": "2022-11-09T08:56:46.230Z"
   },
   {
    "duration": 95,
    "start_time": "2022-11-09T08:56:55.538Z"
   },
   {
    "duration": 98,
    "start_time": "2022-11-09T08:56:55.634Z"
   },
   {
    "duration": 36,
    "start_time": "2022-11-09T08:56:55.734Z"
   },
   {
    "duration": 44,
    "start_time": "2022-11-09T08:56:55.830Z"
   },
   {
    "duration": 62,
    "start_time": "2022-11-23T11:00:13.261Z"
   },
   {
    "duration": 61,
    "start_time": "2022-11-23T11:00:19.163Z"
   },
   {
    "duration": 1763,
    "start_time": "2022-11-23T11:00:29.674Z"
   },
   {
    "duration": 76,
    "start_time": "2022-11-23T11:00:31.440Z"
   },
   {
    "duration": 30,
    "start_time": "2022-11-23T11:00:31.519Z"
   },
   {
    "duration": 4,
    "start_time": "2022-11-23T11:00:32.251Z"
   },
   {
    "duration": 4,
    "start_time": "2022-11-23T11:00:33.032Z"
   },
   {
    "duration": 4,
    "start_time": "2022-11-23T11:00:33.821Z"
   },
   {
    "duration": 12,
    "start_time": "2022-11-23T11:00:34.617Z"
   },
   {
    "duration": 10,
    "start_time": "2022-11-23T11:00:35.379Z"
   },
   {
    "duration": 7,
    "start_time": "2022-11-23T11:00:36.179Z"
   },
   {
    "duration": 15,
    "start_time": "2022-11-23T11:00:37.954Z"
   },
   {
    "duration": 21,
    "start_time": "2022-11-23T11:00:38.923Z"
   },
   {
    "duration": 18,
    "start_time": "2022-11-23T11:00:39.820Z"
   },
   {
    "duration": 6,
    "start_time": "2022-11-23T11:00:40.776Z"
   },
   {
    "duration": 5,
    "start_time": "2022-11-23T11:00:42.163Z"
   },
   {
    "duration": 20,
    "start_time": "2022-11-23T11:00:43.692Z"
   },
   {
    "duration": 4,
    "start_time": "2022-11-23T11:00:49.418Z"
   },
   {
    "duration": 7,
    "start_time": "2022-11-23T11:00:50.935Z"
   },
   {
    "duration": 5,
    "start_time": "2022-11-23T11:00:51.954Z"
   },
   {
    "duration": 7,
    "start_time": "2022-11-23T11:00:53.034Z"
   },
   {
    "duration": 5,
    "start_time": "2022-11-23T11:00:55.944Z"
   },
   {
    "duration": 5,
    "start_time": "2022-11-23T11:00:57.426Z"
   },
   {
    "duration": 4,
    "start_time": "2022-11-23T11:00:58.450Z"
   },
   {
    "duration": 4,
    "start_time": "2022-11-23T11:00:58.954Z"
   },
   {
    "duration": 7,
    "start_time": "2022-11-23T11:00:59.795Z"
   },
   {
    "duration": 5,
    "start_time": "2022-11-23T11:01:00.320Z"
   },
   {
    "duration": 4,
    "start_time": "2022-11-23T11:01:01.684Z"
   },
   {
    "duration": 968,
    "start_time": "2022-11-23T11:01:02.260Z"
   },
   {
    "duration": 15,
    "start_time": "2022-11-23T11:01:03.300Z"
   },
   {
    "duration": 6,
    "start_time": "2022-11-23T11:01:04.415Z"
   },
   {
    "duration": 6,
    "start_time": "2022-11-23T11:01:05.340Z"
   },
   {
    "duration": 6,
    "start_time": "2022-11-23T11:01:06.619Z"
   },
   {
    "duration": 88,
    "start_time": "2022-11-23T11:01:07.650Z"
   },
   {
    "duration": 47,
    "start_time": "2022-11-23T11:02:48.515Z"
   },
   {
    "duration": 81,
    "start_time": "2022-11-23T11:02:54.395Z"
   },
   {
    "duration": 62,
    "start_time": "2022-11-23T11:03:22.796Z"
   },
   {
    "duration": 77,
    "start_time": "2022-11-23T11:03:38.877Z"
   },
   {
    "duration": 6,
    "start_time": "2022-11-23T11:08:28.255Z"
   },
   {
    "duration": 20,
    "start_time": "2022-11-23T11:08:56.210Z"
   },
   {
    "duration": 14,
    "start_time": "2022-11-23T11:09:05.539Z"
   },
   {
    "duration": 3031,
    "start_time": "2022-11-23T11:09:20.101Z"
   },
   {
    "duration": 3028,
    "start_time": "2022-11-23T11:09:44.338Z"
   },
   {
    "duration": 14,
    "start_time": "2022-11-23T11:10:13.469Z"
   },
   {
    "duration": 15,
    "start_time": "2022-11-23T11:10:22.348Z"
   },
   {
    "duration": 6,
    "start_time": "2022-11-23T11:10:40.946Z"
   },
   {
    "duration": 3018,
    "start_time": "2022-11-23T11:10:47.171Z"
   },
   {
    "duration": 10,
    "start_time": "2022-11-23T11:11:57.651Z"
   },
   {
    "duration": 72,
    "start_time": "2022-11-23T11:11:59.756Z"
   },
   {
    "duration": 30,
    "start_time": "2022-11-23T11:12:01.426Z"
   },
   {
    "duration": 845,
    "start_time": "2022-11-23T11:20:01.875Z"
   },
   {
    "duration": 63,
    "start_time": "2022-11-23T11:21:46.852Z"
   },
   {
    "duration": 704,
    "start_time": "2022-11-23T11:22:58.118Z"
   },
   {
    "duration": 57,
    "start_time": "2022-11-23T11:23:01.043Z"
   },
   {
    "duration": 1876,
    "start_time": "2022-11-23T11:23:02.941Z"
   },
   {
    "duration": 49,
    "start_time": "2022-11-23T11:23:11.970Z"
   },
   {
    "duration": 755,
    "start_time": "2022-11-23T11:23:13.387Z"
   },
   {
    "duration": 7,
    "start_time": "2022-11-23T11:23:14.829Z"
   },
   {
    "duration": 6,
    "start_time": "2022-11-23T11:23:15.930Z"
   },
   {
    "duration": 27,
    "start_time": "2022-11-23T11:23:20.373Z"
   },
   {
    "duration": 215,
    "start_time": "2022-11-23T11:23:21.680Z"
   },
   {
    "duration": 27,
    "start_time": "2022-11-23T11:24:30.748Z"
   },
   {
    "duration": 77,
    "start_time": "2022-11-23T11:24:36.332Z"
   },
   {
    "duration": 160,
    "start_time": "2022-11-23T11:28:36.139Z"
   },
   {
    "duration": 23,
    "start_time": "2022-11-23T11:28:39.020Z"
   },
   {
    "duration": 17,
    "start_time": "2022-11-23T11:30:47.018Z"
   },
   {
    "duration": 22,
    "start_time": "2022-11-23T11:30:48.203Z"
   },
   {
    "duration": 20,
    "start_time": "2022-11-23T11:32:14.716Z"
   },
   {
    "duration": 230,
    "start_time": "2022-11-23T11:32:56.394Z"
   },
   {
    "duration": 25,
    "start_time": "2022-11-23T11:33:00.022Z"
   },
   {
    "duration": 15,
    "start_time": "2022-11-23T11:33:03.893Z"
   },
   {
    "duration": 13,
    "start_time": "2022-11-23T11:33:48.892Z"
   },
   {
    "duration": 3015,
    "start_time": "2022-11-23T11:33:54.170Z"
   },
   {
    "duration": 3017,
    "start_time": "2022-11-23T11:34:04.778Z"
   },
   {
    "duration": 3023,
    "start_time": "2022-11-23T11:34:45.052Z"
   },
   {
    "duration": 3021,
    "start_time": "2022-11-23T11:35:25.108Z"
   },
   {
    "duration": 3017,
    "start_time": "2022-11-23T11:35:38.124Z"
   },
   {
    "duration": 3018,
    "start_time": "2022-11-23T11:35:47.916Z"
   },
   {
    "duration": 3019,
    "start_time": "2022-11-23T11:36:26.188Z"
   },
   {
    "duration": 6,
    "start_time": "2022-11-23T11:36:34.916Z"
   },
   {
    "duration": 5,
    "start_time": "2022-11-23T11:36:41.658Z"
   },
   {
    "duration": 63,
    "start_time": "2022-11-23T11:36:42.628Z"
   },
   {
    "duration": 15,
    "start_time": "2022-11-23T11:36:43.515Z"
   },
   {
    "duration": 3,
    "start_time": "2022-11-23T11:36:44.619Z"
   },
   {
    "duration": 4,
    "start_time": "2022-11-23T11:36:45.739Z"
   },
   {
    "duration": 4,
    "start_time": "2022-11-23T11:36:46.653Z"
   },
   {
    "duration": 12,
    "start_time": "2022-11-23T11:36:47.643Z"
   },
   {
    "duration": 8,
    "start_time": "2022-11-23T11:36:48.732Z"
   },
   {
    "duration": 6,
    "start_time": "2022-11-23T11:36:49.740Z"
   },
   {
    "duration": 10,
    "start_time": "2022-11-23T11:36:52.092Z"
   },
   {
    "duration": 23,
    "start_time": "2022-11-23T11:36:53.292Z"
   },
   {
    "duration": 19,
    "start_time": "2022-11-23T11:36:54.251Z"
   },
   {
    "duration": 8,
    "start_time": "2022-11-23T11:36:55.661Z"
   },
   {
    "duration": 7,
    "start_time": "2022-11-23T11:36:57.419Z"
   },
   {
    "duration": 17,
    "start_time": "2022-11-23T11:37:03.877Z"
   },
   {
    "duration": 3,
    "start_time": "2022-11-23T11:37:05.636Z"
   },
   {
    "duration": 7,
    "start_time": "2022-11-23T11:37:06.842Z"
   },
   {
    "duration": 6,
    "start_time": "2022-11-23T11:37:07.739Z"
   },
   {
    "duration": 6,
    "start_time": "2022-11-23T11:37:08.603Z"
   },
   {
    "duration": 5,
    "start_time": "2022-11-23T11:37:10.685Z"
   },
   {
    "duration": 5,
    "start_time": "2022-11-23T11:37:11.925Z"
   },
   {
    "duration": 4,
    "start_time": "2022-11-23T11:37:12.835Z"
   },
   {
    "duration": 5,
    "start_time": "2022-11-23T11:37:13.302Z"
   },
   {
    "duration": 4,
    "start_time": "2022-11-23T11:37:14.171Z"
   },
   {
    "duration": 5,
    "start_time": "2022-11-23T11:37:14.652Z"
   },
   {
    "duration": 4,
    "start_time": "2022-11-23T11:37:15.707Z"
   },
   {
    "duration": 625,
    "start_time": "2022-11-23T11:37:16.181Z"
   },
   {
    "duration": 43,
    "start_time": "2022-11-23T11:37:17.044Z"
   },
   {
    "duration": 689,
    "start_time": "2022-11-23T11:37:19.243Z"
   },
   {
    "duration": 5,
    "start_time": "2022-11-23T11:37:22.255Z"
   },
   {
    "duration": 6,
    "start_time": "2022-11-23T11:37:25.659Z"
   },
   {
    "duration": 6,
    "start_time": "2022-11-23T11:37:39.395Z"
   },
   {
    "duration": 5,
    "start_time": "2022-11-23T11:37:42.772Z"
   },
   {
    "duration": 3017,
    "start_time": "2022-11-23T11:37:47.420Z"
   },
   {
    "duration": 3020,
    "start_time": "2022-11-23T11:38:07.253Z"
   },
   {
    "duration": 12,
    "start_time": "2022-11-23T11:38:10.276Z"
   },
   {
    "duration": 46,
    "start_time": "2022-11-23T11:38:11.404Z"
   },
   {
    "duration": 24,
    "start_time": "2022-11-23T11:38:12.516Z"
   },
   {
    "duration": 116,
    "start_time": "2022-11-23T11:38:15.090Z"
   },
   {
    "duration": 19,
    "start_time": "2022-11-23T11:38:17.723Z"
   },
   {
    "duration": 15,
    "start_time": "2022-11-23T11:38:20.475Z"
   },
   {
    "duration": 15,
    "start_time": "2022-11-23T11:38:22.171Z"
   },
   {
    "duration": 224,
    "start_time": "2022-11-23T11:38:25.645Z"
   },
   {
    "duration": 30,
    "start_time": "2022-11-23T11:38:28.156Z"
   },
   {
    "duration": 13,
    "start_time": "2022-11-23T11:38:29.428Z"
   },
   {
    "duration": 3018,
    "start_time": "2022-11-23T11:38:50.725Z"
   },
   {
    "duration": 6709,
    "start_time": "2022-11-23T11:40:16.246Z"
   },
   {
    "duration": 6584,
    "start_time": "2022-11-23T11:42:19.191Z"
   },
   {
    "duration": 1457,
    "start_time": "2022-11-23T11:42:33.316Z"
   },
   {
    "duration": 77,
    "start_time": "2022-11-23T11:42:34.776Z"
   },
   {
    "duration": 28,
    "start_time": "2022-11-23T11:42:34.855Z"
   },
   {
    "duration": 5,
    "start_time": "2022-11-23T11:42:34.886Z"
   },
   {
    "duration": 14,
    "start_time": "2022-11-23T11:42:34.892Z"
   },
   {
    "duration": 8,
    "start_time": "2022-11-23T11:42:34.908Z"
   },
   {
    "duration": 21,
    "start_time": "2022-11-23T11:42:34.918Z"
   },
   {
    "duration": 10,
    "start_time": "2022-11-23T11:42:34.941Z"
   },
   {
    "duration": 12,
    "start_time": "2022-11-23T11:42:34.953Z"
   },
   {
    "duration": 16,
    "start_time": "2022-11-23T11:42:34.969Z"
   },
   {
    "duration": 16,
    "start_time": "2022-11-23T11:42:34.996Z"
   },
   {
    "duration": 13,
    "start_time": "2022-11-23T11:42:35.014Z"
   },
   {
    "duration": 8,
    "start_time": "2022-11-23T11:42:35.029Z"
   },
   {
    "duration": 8,
    "start_time": "2022-11-23T11:42:35.038Z"
   },
   {
    "duration": 15,
    "start_time": "2022-11-23T11:42:35.048Z"
   },
   {
    "duration": 8,
    "start_time": "2022-11-23T11:42:35.096Z"
   },
   {
    "duration": 15,
    "start_time": "2022-11-23T11:42:35.106Z"
   },
   {
    "duration": 5,
    "start_time": "2022-11-23T11:42:35.123Z"
   },
   {
    "duration": 8,
    "start_time": "2022-11-23T11:42:35.130Z"
   },
   {
    "duration": 12,
    "start_time": "2022-11-23T11:42:35.140Z"
   },
   {
    "duration": 15,
    "start_time": "2022-11-23T11:42:35.154Z"
   },
   {
    "duration": 23,
    "start_time": "2022-11-23T11:42:35.171Z"
   },
   {
    "duration": 21,
    "start_time": "2022-11-23T11:42:35.197Z"
   },
   {
    "duration": 7,
    "start_time": "2022-11-23T11:42:35.220Z"
   },
   {
    "duration": 8,
    "start_time": "2022-11-23T11:42:35.229Z"
   },
   {
    "duration": 8,
    "start_time": "2022-11-23T11:42:35.238Z"
   },
   {
    "duration": 353,
    "start_time": "2022-11-23T11:42:35.248Z"
   },
   {
    "duration": 125,
    "start_time": "2022-11-23T11:42:35.608Z"
   },
   {
    "duration": 760,
    "start_time": "2022-11-23T11:42:35.735Z"
   },
   {
    "duration": 7,
    "start_time": "2022-11-23T11:42:36.497Z"
   },
   {
    "duration": 6,
    "start_time": "2022-11-23T11:42:36.506Z"
   },
   {
    "duration": 16,
    "start_time": "2022-11-23T11:42:36.514Z"
   },
   {
    "duration": 13,
    "start_time": "2022-11-23T11:42:36.532Z"
   },
   {
    "duration": 3024,
    "start_time": "2022-11-23T11:42:36.547Z"
   },
   {
    "duration": 11,
    "start_time": "2022-11-23T11:42:39.573Z"
   },
   {
    "duration": 52,
    "start_time": "2022-11-23T11:42:39.586Z"
   },
   {
    "duration": 112,
    "start_time": "2022-11-23T11:42:39.697Z"
   },
   {
    "duration": 142,
    "start_time": "2022-11-23T11:42:39.811Z"
   },
   {
    "duration": 22,
    "start_time": "2022-11-23T11:42:39.955Z"
   },
   {
    "duration": 28,
    "start_time": "2022-11-23T11:42:39.978Z"
   },
   {
    "duration": 16,
    "start_time": "2022-11-23T11:42:40.008Z"
   },
   {
    "duration": 219,
    "start_time": "2022-11-23T11:42:40.026Z"
   },
   {
    "duration": 20,
    "start_time": "2022-11-23T11:42:40.247Z"
   },
   {
    "duration": 34,
    "start_time": "2022-11-23T11:42:40.269Z"
   },
   {
    "duration": 3020,
    "start_time": "2022-11-23T11:42:40.305Z"
   },
   {
    "duration": 6729,
    "start_time": "2022-11-23T11:42:43.327Z"
   },
   {
    "duration": 6696,
    "start_time": "2022-11-23T11:42:50.061Z"
   },
   {
    "duration": 6658,
    "start_time": "2022-11-23T11:42:56.760Z"
   },
   {
    "duration": 1572,
    "start_time": "2022-11-23T11:43:03.420Z"
   },
   {
    "duration": 1604,
    "start_time": "2022-11-23T11:44:38.598Z"
   },
   {
    "duration": 1473,
    "start_time": "2022-11-23T11:46:02.181Z"
   },
   {
    "duration": 7441,
    "start_time": "2022-11-23T11:52:38.949Z"
   },
   {
    "duration": 1486,
    "start_time": "2022-11-23T11:52:50.916Z"
   },
   {
    "duration": 427,
    "start_time": "2022-11-23T11:52:52.404Z"
   },
   {
    "duration": 20,
    "start_time": "2022-11-23T11:52:52.832Z"
   },
   {
    "duration": 3,
    "start_time": "2022-11-23T11:52:52.855Z"
   },
   {
    "duration": 8,
    "start_time": "2022-11-23T11:52:52.860Z"
   },
   {
    "duration": 7,
    "start_time": "2022-11-23T11:52:52.870Z"
   },
   {
    "duration": 34,
    "start_time": "2022-11-23T11:52:52.879Z"
   },
   {
    "duration": 9,
    "start_time": "2022-11-23T11:52:52.914Z"
   },
   {
    "duration": 5,
    "start_time": "2022-11-23T11:52:52.925Z"
   },
   {
    "duration": 17,
    "start_time": "2022-11-23T11:52:52.935Z"
   },
   {
    "duration": 15,
    "start_time": "2022-11-23T11:52:52.953Z"
   },
   {
    "duration": 44,
    "start_time": "2022-11-23T11:52:52.970Z"
   },
   {
    "duration": 8,
    "start_time": "2022-11-23T11:52:53.017Z"
   },
   {
    "duration": 7,
    "start_time": "2022-11-23T11:52:53.026Z"
   },
   {
    "duration": 18,
    "start_time": "2022-11-23T11:52:53.034Z"
   },
   {
    "duration": 5,
    "start_time": "2022-11-23T11:52:53.053Z"
   },
   {
    "duration": 38,
    "start_time": "2022-11-23T11:52:53.060Z"
   },
   {
    "duration": 8,
    "start_time": "2022-11-23T11:52:53.102Z"
   },
   {
    "duration": 15,
    "start_time": "2022-11-23T11:52:53.113Z"
   },
   {
    "duration": 8,
    "start_time": "2022-11-23T11:52:53.130Z"
   },
   {
    "duration": 9,
    "start_time": "2022-11-23T11:52:53.139Z"
   },
   {
    "duration": 10,
    "start_time": "2022-11-23T11:52:53.150Z"
   },
   {
    "duration": 9,
    "start_time": "2022-11-23T11:52:53.162Z"
   },
   {
    "duration": 26,
    "start_time": "2022-11-23T11:52:53.172Z"
   },
   {
    "duration": 10,
    "start_time": "2022-11-23T11:52:53.200Z"
   },
   {
    "duration": 18,
    "start_time": "2022-11-23T11:52:53.212Z"
   },
   {
    "duration": 1383,
    "start_time": "2022-11-23T11:52:53.232Z"
   },
   {
    "duration": 197,
    "start_time": "2022-11-23T11:52:54.625Z"
   },
   {
    "duration": 769,
    "start_time": "2022-11-23T11:52:54.824Z"
   },
   {
    "duration": 21,
    "start_time": "2022-11-23T11:52:55.599Z"
   },
   {
    "duration": 9,
    "start_time": "2022-11-23T11:52:55.623Z"
   },
   {
    "duration": 18,
    "start_time": "2022-11-23T11:52:55.634Z"
   },
   {
    "duration": 7,
    "start_time": "2022-11-23T11:52:55.654Z"
   },
   {
    "duration": 3016,
    "start_time": "2022-11-23T11:52:55.663Z"
   },
   {
    "duration": 8,
    "start_time": "2022-11-23T11:52:58.680Z"
   },
   {
    "duration": 55,
    "start_time": "2022-11-23T11:52:58.689Z"
   },
   {
    "duration": 82,
    "start_time": "2022-11-23T11:52:58.746Z"
   },
   {
    "duration": 173,
    "start_time": "2022-11-23T11:52:58.899Z"
   },
   {
    "duration": 46,
    "start_time": "2022-11-23T11:52:59.074Z"
   },
   {
    "duration": 17,
    "start_time": "2022-11-23T11:52:59.122Z"
   },
   {
    "duration": 17,
    "start_time": "2022-11-23T11:52:59.141Z"
   },
   {
    "duration": 229,
    "start_time": "2022-11-23T11:52:59.160Z"
   },
   {
    "duration": 26,
    "start_time": "2022-11-23T11:52:59.390Z"
   },
   {
    "duration": 16,
    "start_time": "2022-11-23T11:52:59.419Z"
   },
   {
    "duration": 3018,
    "start_time": "2022-11-23T11:52:59.437Z"
   },
   {
    "duration": 7226,
    "start_time": "2022-11-23T11:53:02.456Z"
   },
   {
    "duration": 7709,
    "start_time": "2022-11-23T11:53:09.685Z"
   },
   {
    "duration": 7104,
    "start_time": "2022-11-23T11:53:17.397Z"
   },
   {
    "duration": 1760,
    "start_time": "2022-11-23T11:53:24.503Z"
   },
   {
    "duration": 6571,
    "start_time": "2022-11-23T11:57:07.086Z"
   },
   {
    "duration": 44,
    "start_time": "2022-11-24T12:27:31.808Z"
   },
   {
    "duration": 1665,
    "start_time": "2022-11-24T12:27:44.118Z"
   },
   {
    "duration": 59,
    "start_time": "2022-11-24T12:27:45.785Z"
   },
   {
    "duration": 19,
    "start_time": "2022-11-24T12:27:45.862Z"
   },
   {
    "duration": 3,
    "start_time": "2022-11-24T12:27:46.902Z"
   },
   {
    "duration": 3,
    "start_time": "2022-11-24T12:27:47.870Z"
   },
   {
    "duration": 3,
    "start_time": "2022-11-24T12:27:48.677Z"
   },
   {
    "duration": 12,
    "start_time": "2022-11-24T12:27:49.606Z"
   },
   {
    "duration": 8,
    "start_time": "2022-11-24T12:27:50.582Z"
   },
   {
    "duration": 5,
    "start_time": "2022-11-24T12:27:51.526Z"
   },
   {
    "duration": 7,
    "start_time": "2022-11-24T12:27:54.510Z"
   },
   {
    "duration": 15,
    "start_time": "2022-11-24T12:27:55.558Z"
   },
   {
    "duration": 13,
    "start_time": "2022-11-24T12:27:56.526Z"
   },
   {
    "duration": 5,
    "start_time": "2022-11-24T12:27:57.358Z"
   },
   {
    "duration": 5,
    "start_time": "2022-11-24T12:28:05.326Z"
   },
   {
    "duration": 12,
    "start_time": "2022-11-24T12:28:06.838Z"
   },
   {
    "duration": 4,
    "start_time": "2022-11-24T12:28:08.261Z"
   },
   {
    "duration": 6,
    "start_time": "2022-11-24T12:28:09.254Z"
   },
   {
    "duration": 4,
    "start_time": "2022-11-24T12:28:10.158Z"
   },
   {
    "duration": 6,
    "start_time": "2022-11-24T12:28:11.029Z"
   },
   {
    "duration": 4,
    "start_time": "2022-11-24T12:28:21.455Z"
   },
   {
    "duration": 6,
    "start_time": "2022-11-24T12:28:22.958Z"
   },
   {
    "duration": 4,
    "start_time": "2022-11-24T12:28:24.184Z"
   },
   {
    "duration": 5,
    "start_time": "2022-11-24T12:28:24.670Z"
   },
   {
    "duration": 3,
    "start_time": "2022-11-24T12:28:25.582Z"
   },
   {
    "duration": 4,
    "start_time": "2022-11-24T12:28:26.095Z"
   },
   {
    "duration": 4,
    "start_time": "2022-11-24T12:28:27.134Z"
   },
   {
    "duration": 469,
    "start_time": "2022-11-24T12:28:27.584Z"
   },
   {
    "duration": 40,
    "start_time": "2022-11-24T12:28:29.294Z"
   },
   {
    "duration": 623,
    "start_time": "2022-11-24T12:28:30.790Z"
   },
   {
    "duration": 6,
    "start_time": "2022-11-24T12:28:32.886Z"
   },
   {
    "duration": 4,
    "start_time": "2022-11-24T12:28:33.817Z"
   },
   {
    "duration": 4,
    "start_time": "2022-11-24T12:28:34.671Z"
   },
   {
    "duration": 4,
    "start_time": "2022-11-24T12:28:35.462Z"
   },
   {
    "duration": 3016,
    "start_time": "2022-11-24T12:28:36.518Z"
   },
   {
    "duration": 9,
    "start_time": "2022-11-24T12:28:42.455Z"
   },
   {
    "duration": 44,
    "start_time": "2022-11-24T12:28:45.751Z"
   },
   {
    "duration": 22,
    "start_time": "2022-11-24T12:28:47.174Z"
   },
   {
    "duration": 105,
    "start_time": "2022-11-24T12:28:51.895Z"
   },
   {
    "duration": 28,
    "start_time": "2022-11-24T12:28:54.383Z"
   },
   {
    "duration": 170,
    "start_time": "2022-11-24T12:29:50.071Z"
   },
   {
    "duration": 20,
    "start_time": "2022-11-24T12:29:54.200Z"
   },
   {
    "duration": 11,
    "start_time": "2022-11-24T12:29:56.919Z"
   },
   {
    "duration": 1424,
    "start_time": "2022-11-24T12:35:56.988Z"
   },
   {
    "duration": 10,
    "start_time": "2022-11-24T12:36:47.530Z"
   },
   {
    "duration": 9,
    "start_time": "2022-11-24T12:38:07.203Z"
   },
   {
    "duration": 13,
    "start_time": "2022-11-24T12:53:57.556Z"
   },
   {
    "duration": 10,
    "start_time": "2022-11-24T12:53:59.851Z"
   },
   {
    "duration": 11,
    "start_time": "2022-11-24T12:54:03.788Z"
   },
   {
    "duration": 169,
    "start_time": "2022-11-24T12:54:11.490Z"
   },
   {
    "duration": 18,
    "start_time": "2022-11-24T12:54:13.172Z"
   },
   {
    "duration": 11,
    "start_time": "2022-11-24T12:54:15.467Z"
   },
   {
    "duration": 11,
    "start_time": "2022-11-24T12:54:18.702Z"
   },
   {
    "duration": 11,
    "start_time": "2022-11-24T12:54:25.461Z"
   },
   {
    "duration": 349,
    "start_time": "2022-11-24T12:54:31.635Z"
   },
   {
    "duration": 36,
    "start_time": "2022-11-24T12:54:36.355Z"
   },
   {
    "duration": 13,
    "start_time": "2022-11-24T12:54:44.429Z"
   },
   {
    "duration": 11,
    "start_time": "2022-11-24T12:54:50.435Z"
   },
   {
    "duration": 40,
    "start_time": "2022-11-24T13:30:56.320Z"
   },
   {
    "duration": 35,
    "start_time": "2022-11-24T13:31:08.951Z"
   },
   {
    "duration": 27,
    "start_time": "2022-11-24T13:31:15.375Z"
   },
   {
    "duration": 55,
    "start_time": "2022-11-24T13:39:51.508Z"
   },
   {
    "duration": 54,
    "start_time": "2022-11-24T13:40:14.468Z"
   },
   {
    "duration": 3016,
    "start_time": "2022-11-24T13:40:22.099Z"
   },
   {
    "duration": 6019,
    "start_time": "2022-11-24T13:40:31.676Z"
   },
   {
    "duration": 6179,
    "start_time": "2022-11-24T13:40:39.796Z"
   },
   {
    "duration": 5902,
    "start_time": "2022-11-24T13:40:54.548Z"
   },
   {
    "duration": 105,
    "start_time": "2022-11-24T13:45:26.726Z"
   },
   {
    "duration": 26,
    "start_time": "2022-11-24T13:45:32.878Z"
   },
   {
    "duration": 39,
    "start_time": "2022-11-24T13:46:29.047Z"
   },
   {
    "duration": 25,
    "start_time": "2022-11-24T13:46:34.398Z"
   },
   {
    "duration": 25,
    "start_time": "2022-11-24T13:46:37.855Z"
   },
   {
    "duration": 16,
    "start_time": "2022-11-24T13:47:45.359Z"
   },
   {
    "duration": 14,
    "start_time": "2022-11-24T13:47:55.033Z"
   },
   {
    "duration": 17,
    "start_time": "2022-11-24T13:48:49.144Z"
   },
   {
    "duration": 17,
    "start_time": "2022-11-24T13:48:49.967Z"
   },
   {
    "duration": 16,
    "start_time": "2022-11-24T13:48:50.703Z"
   },
   {
    "duration": 25,
    "start_time": "2022-11-24T13:50:53.496Z"
   },
   {
    "duration": 41,
    "start_time": "2022-11-24T13:54:08.930Z"
   },
   {
    "duration": 633,
    "start_time": "2022-11-24T13:54:10.564Z"
   },
   {
    "duration": 5,
    "start_time": "2022-11-24T13:54:13.145Z"
   },
   {
    "duration": 5,
    "start_time": "2022-11-24T13:54:14.082Z"
   },
   {
    "duration": 4,
    "start_time": "2022-11-24T13:54:15.011Z"
   },
   {
    "duration": 6,
    "start_time": "2022-11-24T13:54:15.947Z"
   },
   {
    "duration": 3015,
    "start_time": "2022-11-24T13:54:17.169Z"
   },
   {
    "duration": 26,
    "start_time": "2022-11-24T13:55:20.274Z"
   },
   {
    "duration": 52,
    "start_time": "2022-11-24T14:01:18.549Z"
   },
   {
    "duration": 85,
    "start_time": "2022-11-24T14:01:27.966Z"
   },
   {
    "duration": 133,
    "start_time": "2022-11-24T14:11:04.923Z"
   },
   {
    "duration": 99,
    "start_time": "2022-11-24T14:11:11.756Z"
   },
   {
    "duration": 53,
    "start_time": "2022-11-24T14:11:16.242Z"
   },
   {
    "duration": 86,
    "start_time": "2022-11-24T14:11:19.965Z"
   },
   {
    "duration": 53,
    "start_time": "2022-11-24T14:11:26.003Z"
   },
   {
    "duration": 186,
    "start_time": "2022-11-24T14:11:39.571Z"
   },
   {
    "duration": 23,
    "start_time": "2022-11-24T14:11:41.699Z"
   },
   {
    "duration": 59,
    "start_time": "2022-11-24T14:11:43.075Z"
   },
   {
    "duration": 34,
    "start_time": "2022-11-24T14:12:19.244Z"
   },
   {
    "duration": 41,
    "start_time": "2022-11-24T14:12:24.757Z"
   },
   {
    "duration": 54,
    "start_time": "2022-11-24T14:13:44.428Z"
   },
   {
    "duration": 1454,
    "start_time": "2022-11-24T14:13:52.216Z"
   },
   {
    "duration": 124,
    "start_time": "2022-11-24T14:13:53.672Z"
   },
   {
    "duration": 18,
    "start_time": "2022-11-24T14:13:53.797Z"
   },
   {
    "duration": 4,
    "start_time": "2022-11-24T14:13:53.817Z"
   },
   {
    "duration": 5,
    "start_time": "2022-11-24T14:13:53.823Z"
   },
   {
    "duration": 6,
    "start_time": "2022-11-24T14:13:53.829Z"
   },
   {
    "duration": 13,
    "start_time": "2022-11-24T14:13:53.836Z"
   },
   {
    "duration": 7,
    "start_time": "2022-11-24T14:13:53.851Z"
   },
   {
    "duration": 8,
    "start_time": "2022-11-24T14:13:53.859Z"
   },
   {
    "duration": 8,
    "start_time": "2022-11-24T14:13:53.869Z"
   },
   {
    "duration": 18,
    "start_time": "2022-11-24T14:13:53.879Z"
   },
   {
    "duration": 12,
    "start_time": "2022-11-24T14:13:53.899Z"
   },
   {
    "duration": 5,
    "start_time": "2022-11-24T14:13:53.912Z"
   },
   {
    "duration": 39,
    "start_time": "2022-11-24T14:13:53.919Z"
   },
   {
    "duration": 28,
    "start_time": "2022-11-24T14:13:53.960Z"
   },
   {
    "duration": 6,
    "start_time": "2022-11-24T14:13:53.990Z"
   },
   {
    "duration": 9,
    "start_time": "2022-11-24T14:13:53.997Z"
   },
   {
    "duration": 4,
    "start_time": "2022-11-24T14:13:54.008Z"
   },
   {
    "duration": 7,
    "start_time": "2022-11-24T14:13:54.014Z"
   },
   {
    "duration": 9,
    "start_time": "2022-11-24T14:13:54.023Z"
   },
   {
    "duration": 24,
    "start_time": "2022-11-24T14:13:54.034Z"
   },
   {
    "duration": 6,
    "start_time": "2022-11-24T14:13:54.060Z"
   },
   {
    "duration": 7,
    "start_time": "2022-11-24T14:13:54.068Z"
   },
   {
    "duration": 12,
    "start_time": "2022-11-24T14:13:54.076Z"
   },
   {
    "duration": 9,
    "start_time": "2022-11-24T14:13:54.090Z"
   },
   {
    "duration": 10,
    "start_time": "2022-11-24T14:13:54.101Z"
   },
   {
    "duration": 443,
    "start_time": "2022-11-24T14:13:54.113Z"
   },
   {
    "duration": 120,
    "start_time": "2022-11-24T14:13:54.560Z"
   },
   {
    "duration": 654,
    "start_time": "2022-11-24T14:13:54.682Z"
   },
   {
    "duration": 6,
    "start_time": "2022-11-24T14:13:55.338Z"
   },
   {
    "duration": 20,
    "start_time": "2022-11-24T14:13:55.345Z"
   },
   {
    "duration": 25,
    "start_time": "2022-11-24T14:13:55.367Z"
   },
   {
    "duration": 25,
    "start_time": "2022-11-24T14:13:55.393Z"
   },
   {
    "duration": 3037,
    "start_time": "2022-11-24T14:13:55.419Z"
   },
   {
    "duration": 8,
    "start_time": "2022-11-24T14:13:58.457Z"
   },
   {
    "duration": 95,
    "start_time": "2022-11-24T14:13:58.466Z"
   },
   {
    "duration": 28,
    "start_time": "2022-11-24T14:13:58.652Z"
   },
   {
    "duration": 116,
    "start_time": "2022-11-24T14:13:58.681Z"
   },
   {
    "duration": 30,
    "start_time": "2022-11-24T14:13:58.798Z"
   },
   {
    "duration": 184,
    "start_time": "2022-11-24T14:13:58.829Z"
   },
   {
    "duration": 18,
    "start_time": "2022-11-24T14:13:59.014Z"
   },
   {
    "duration": 120,
    "start_time": "2022-11-24T14:13:59.033Z"
   },
   {
    "duration": 6124,
    "start_time": "2022-11-24T14:13:59.156Z"
   },
   {
    "duration": 5883,
    "start_time": "2022-11-24T14:14:05.282Z"
   },
   {
    "duration": 110,
    "start_time": "2022-11-24T14:15:09.580Z"
   },
   {
    "duration": 13,
    "start_time": "2022-11-24T14:15:27.277Z"
   },
   {
    "duration": 18,
    "start_time": "2022-11-24T14:15:42.044Z"
   },
   {
    "duration": 13,
    "start_time": "2022-11-24T14:15:55.429Z"
   },
   {
    "duration": 100,
    "start_time": "2022-11-24T14:16:06.381Z"
   },
   {
    "duration": 14,
    "start_time": "2022-11-24T14:16:07.526Z"
   },
   {
    "duration": 17,
    "start_time": "2022-11-24T14:16:08.098Z"
   },
   {
    "duration": 12,
    "start_time": "2022-11-24T14:16:08.863Z"
   },
   {
    "duration": 14,
    "start_time": "2022-11-24T14:17:40.686Z"
   },
   {
    "duration": 17,
    "start_time": "2022-11-24T14:17:41.415Z"
   },
   {
    "duration": 12,
    "start_time": "2022-11-24T14:17:41.815Z"
   },
   {
    "duration": 13,
    "start_time": "2022-11-24T14:18:45.575Z"
   },
   {
    "duration": 17,
    "start_time": "2022-11-24T14:18:46.810Z"
   },
   {
    "duration": 16,
    "start_time": "2022-11-24T14:18:47.943Z"
   },
   {
    "duration": 127,
    "start_time": "2022-11-25T05:58:19.896Z"
   },
   {
    "duration": 111,
    "start_time": "2022-11-25T05:58:29.303Z"
   },
   {
    "duration": 11,
    "start_time": "2022-11-25T05:59:10.991Z"
   },
   {
    "duration": 99,
    "start_time": "2022-11-25T05:59:24.942Z"
   },
   {
    "duration": 178,
    "start_time": "2022-11-25T06:00:28.471Z"
   },
   {
    "duration": 9,
    "start_time": "2022-11-25T06:08:59.299Z"
   },
   {
    "duration": 9,
    "start_time": "2022-11-25T06:09:42.626Z"
   },
   {
    "duration": 15,
    "start_time": "2022-11-25T06:09:48.308Z"
   },
   {
    "duration": 5,
    "start_time": "2022-11-25T06:09:54.829Z"
   },
   {
    "duration": 84,
    "start_time": "2022-11-25T06:09:55.779Z"
   },
   {
    "duration": 14,
    "start_time": "2022-11-25T06:09:56.844Z"
   },
   {
    "duration": 3,
    "start_time": "2022-11-25T06:09:58.059Z"
   },
   {
    "duration": 3,
    "start_time": "2022-11-25T06:09:59.091Z"
   },
   {
    "duration": 3,
    "start_time": "2022-11-25T06:10:00.035Z"
   },
   {
    "duration": 11,
    "start_time": "2022-11-25T06:10:00.979Z"
   },
   {
    "duration": 8,
    "start_time": "2022-11-25T06:10:02.131Z"
   },
   {
    "duration": 5,
    "start_time": "2022-11-25T06:10:03.307Z"
   },
   {
    "duration": 8,
    "start_time": "2022-11-25T06:10:07.557Z"
   },
   {
    "duration": 14,
    "start_time": "2022-11-25T06:10:08.835Z"
   },
   {
    "duration": 12,
    "start_time": "2022-11-25T06:10:10.228Z"
   },
   {
    "duration": 99,
    "start_time": "2022-11-25T06:10:11.434Z"
   },
   {
    "duration": 5,
    "start_time": "2022-11-25T06:10:14.236Z"
   },
   {
    "duration": 11,
    "start_time": "2022-11-25T06:10:18.701Z"
   },
   {
    "duration": 3,
    "start_time": "2022-11-25T06:10:20.995Z"
   },
   {
    "duration": 5,
    "start_time": "2022-11-25T06:10:23.044Z"
   },
   {
    "duration": 11,
    "start_time": "2022-11-25T06:10:25.763Z"
   },
   {
    "duration": 8,
    "start_time": "2022-11-25T06:12:11.315Z"
   },
   {
    "duration": 7,
    "start_time": "2022-11-25T06:12:49.644Z"
   },
   {
    "duration": 7,
    "start_time": "2022-11-25T06:13:04.181Z"
   },
   {
    "duration": 4,
    "start_time": "2022-11-25T06:13:08.732Z"
   },
   {
    "duration": 4,
    "start_time": "2022-11-25T06:13:45.493Z"
   },
   {
    "duration": 228,
    "start_time": "2022-11-25T06:15:30.428Z"
   },
   {
    "duration": 25,
    "start_time": "2022-11-25T06:15:34.012Z"
   },
   {
    "duration": 432,
    "start_time": "2022-11-25T06:15:39.413Z"
   },
   {
    "duration": 3016,
    "start_time": "2022-11-25T06:19:00.606Z"
   },
   {
    "duration": 26,
    "start_time": "2022-11-25T06:19:17.143Z"
   },
   {
    "duration": 437,
    "start_time": "2022-11-25T06:19:18.733Z"
   },
   {
    "duration": 3016,
    "start_time": "2022-11-25T06:19:20.621Z"
   },
   {
    "duration": 97,
    "start_time": "2022-11-25T06:22:31.640Z"
   },
   {
    "duration": 11,
    "start_time": "2022-11-25T06:27:12.218Z"
   },
   {
    "duration": 10,
    "start_time": "2022-11-25T06:27:28.546Z"
   },
   {
    "duration": 10,
    "start_time": "2022-11-25T06:27:37.714Z"
   },
   {
    "duration": 435,
    "start_time": "2022-11-25T06:29:24.066Z"
   },
   {
    "duration": 79,
    "start_time": "2022-11-25T06:29:53.780Z"
   },
   {
    "duration": 153,
    "start_time": "2022-11-25T06:30:04.650Z"
   },
   {
    "duration": 4,
    "start_time": "2022-11-25T06:34:07.266Z"
   },
   {
    "duration": 3,
    "start_time": "2022-11-25T06:34:27.438Z"
   },
   {
    "duration": 4,
    "start_time": "2022-11-25T06:34:39.190Z"
   },
   {
    "duration": 97,
    "start_time": "2022-11-25T06:37:09.647Z"
   },
   {
    "duration": 4,
    "start_time": "2022-11-25T06:37:16.815Z"
   },
   {
    "duration": 8,
    "start_time": "2022-11-25T06:37:18.718Z"
   },
   {
    "duration": 6,
    "start_time": "2022-11-25T06:37:19.895Z"
   },
   {
    "duration": 4,
    "start_time": "2022-11-25T06:37:21.094Z"
   },
   {
    "duration": 511,
    "start_time": "2022-11-25T06:37:24.791Z"
   },
   {
    "duration": 152,
    "start_time": "2022-11-25T06:38:04.272Z"
   },
   {
    "duration": 4,
    "start_time": "2022-11-25T06:39:35.080Z"
   },
   {
    "duration": 8,
    "start_time": "2022-11-25T06:39:36.256Z"
   },
   {
    "duration": 7,
    "start_time": "2022-11-25T06:39:36.951Z"
   },
   {
    "duration": 4,
    "start_time": "2022-11-25T06:39:37.663Z"
   },
   {
    "duration": 515,
    "start_time": "2022-11-25T06:39:40.080Z"
   },
   {
    "duration": 168,
    "start_time": "2022-11-25T06:39:44.968Z"
   },
   {
    "duration": 313,
    "start_time": "2022-11-25T06:39:49.343Z"
   },
   {
    "duration": 29,
    "start_time": "2022-11-25T06:39:52.799Z"
   },
   {
    "duration": 507,
    "start_time": "2022-11-25T06:39:54.976Z"
   },
   {
    "duration": 3017,
    "start_time": "2022-11-25T06:40:24.817Z"
   },
   {
    "duration": 9,
    "start_time": "2022-11-25T06:40:45.616Z"
   },
   {
    "duration": 28,
    "start_time": "2022-11-25T06:41:46.466Z"
   },
   {
    "duration": 19,
    "start_time": "2022-11-25T06:41:54.428Z"
   },
   {
    "duration": 86,
    "start_time": "2022-11-25T06:42:07.402Z"
   },
   {
    "duration": 17,
    "start_time": "2022-11-25T06:42:22.129Z"
   },
   {
    "duration": 16,
    "start_time": "2022-11-25T06:42:25.258Z"
   },
   {
    "duration": 13,
    "start_time": "2022-11-25T06:42:25.826Z"
   },
   {
    "duration": 14,
    "start_time": "2022-11-25T06:43:31.795Z"
   },
   {
    "duration": 15,
    "start_time": "2022-11-25T06:44:23.435Z"
   },
   {
    "duration": 15,
    "start_time": "2022-11-25T06:45:45.900Z"
   },
   {
    "duration": 17,
    "start_time": "2022-11-25T06:45:46.939Z"
   },
   {
    "duration": 13,
    "start_time": "2022-11-25T06:45:47.684Z"
   },
   {
    "duration": 3,
    "start_time": "2022-11-25T06:45:50.779Z"
   },
   {
    "duration": 144,
    "start_time": "2022-11-25T06:47:58.797Z"
   },
   {
    "duration": 24,
    "start_time": "2022-11-25T06:48:16.493Z"
   },
   {
    "duration": 23,
    "start_time": "2022-11-25T06:48:47.278Z"
   },
   {
    "duration": 111,
    "start_time": "2022-11-25T06:49:41.942Z"
   },
   {
    "duration": 50,
    "start_time": "2022-11-25T06:49:44.674Z"
   },
   {
    "duration": 44,
    "start_time": "2022-11-25T06:49:49.574Z"
   },
   {
    "duration": 45,
    "start_time": "2022-11-25T06:49:52.510Z"
   },
   {
    "duration": 45,
    "start_time": "2022-11-25T06:49:58.262Z"
   },
   {
    "duration": 386,
    "start_time": "2022-11-25T06:50:01.767Z"
   },
   {
    "duration": 45,
    "start_time": "2022-11-25T06:50:05.918Z"
   },
   {
    "duration": 44,
    "start_time": "2022-11-25T06:50:10.472Z"
   },
   {
    "duration": 48,
    "start_time": "2022-11-25T06:50:37.223Z"
   },
   {
    "duration": 256,
    "start_time": "2022-11-25T06:52:06.128Z"
   },
   {
    "duration": 4723,
    "start_time": "2022-11-25T06:53:34.579Z"
   },
   {
    "duration": 458,
    "start_time": "2022-11-25T06:59:20.188Z"
   },
   {
    "duration": 464,
    "start_time": "2022-11-25T07:00:00.635Z"
   },
   {
    "duration": 4880,
    "start_time": "2022-11-25T07:01:42.974Z"
   },
   {
    "duration": 463,
    "start_time": "2022-11-25T07:02:25.814Z"
   },
   {
    "duration": 4534,
    "start_time": "2022-11-25T07:02:29.454Z"
   },
   {
    "duration": 425,
    "start_time": "2022-11-25T07:05:27.479Z"
   },
   {
    "duration": 375,
    "start_time": "2022-11-25T07:06:38.368Z"
   },
   {
    "duration": 429,
    "start_time": "2022-11-25T07:06:48.247Z"
   },
   {
    "duration": 419,
    "start_time": "2022-11-25T07:07:28.992Z"
   },
   {
    "duration": 419,
    "start_time": "2022-11-25T07:07:36.976Z"
   },
   {
    "duration": 468,
    "start_time": "2022-11-25T07:11:16.819Z"
   },
   {
    "duration": 557,
    "start_time": "2022-11-25T07:11:46.138Z"
   },
   {
    "duration": 829,
    "start_time": "2022-11-25T07:14:36.020Z"
   },
   {
    "duration": 829,
    "start_time": "2022-11-25T07:15:07.955Z"
   },
   {
    "duration": 834,
    "start_time": "2022-11-25T07:16:05.325Z"
   },
   {
    "duration": 839,
    "start_time": "2022-11-25T07:16:10.877Z"
   },
   {
    "duration": 826,
    "start_time": "2022-11-25T07:16:15.318Z"
   },
   {
    "duration": 843,
    "start_time": "2022-11-25T07:16:18.717Z"
   },
   {
    "duration": 839,
    "start_time": "2022-11-25T07:16:33.893Z"
   },
   {
    "duration": 99,
    "start_time": "2022-11-25T07:19:56.976Z"
   },
   {
    "duration": 28,
    "start_time": "2022-11-25T07:20:22.368Z"
   },
   {
    "duration": 4496,
    "start_time": "2022-11-25T07:20:24.238Z"
   },
   {
    "duration": 471,
    "start_time": "2022-11-25T07:20:28.736Z"
   },
   {
    "duration": 432,
    "start_time": "2022-11-25T07:20:29.208Z"
   },
   {
    "duration": 839,
    "start_time": "2022-11-25T07:20:29.724Z"
   },
   {
    "duration": 95,
    "start_time": "2022-11-25T07:20:34.743Z"
   },
   {
    "duration": 96,
    "start_time": "2022-11-25T07:21:37.001Z"
   },
   {
    "duration": 99,
    "start_time": "2022-11-25T07:24:40.433Z"
   },
   {
    "duration": 192,
    "start_time": "2022-11-25T07:25:25.826Z"
   },
   {
    "duration": 98,
    "start_time": "2022-11-25T07:25:38.290Z"
   },
   {
    "duration": 1006,
    "start_time": "2022-11-25T07:27:42.356Z"
   },
   {
    "duration": 129,
    "start_time": "2022-11-25T07:28:14.796Z"
   },
   {
    "duration": 1380,
    "start_time": "2022-11-25T07:28:21.043Z"
   },
   {
    "duration": 146,
    "start_time": "2022-11-25T07:28:22.426Z"
   },
   {
    "duration": 18,
    "start_time": "2022-11-25T07:28:22.574Z"
   },
   {
    "duration": 3,
    "start_time": "2022-11-25T07:28:22.594Z"
   },
   {
    "duration": 5,
    "start_time": "2022-11-25T07:28:22.598Z"
   },
   {
    "duration": 5,
    "start_time": "2022-11-25T07:28:22.605Z"
   },
   {
    "duration": 12,
    "start_time": "2022-11-25T07:28:22.612Z"
   },
   {
    "duration": 27,
    "start_time": "2022-11-25T07:28:22.626Z"
   },
   {
    "duration": 5,
    "start_time": "2022-11-25T07:28:22.655Z"
   },
   {
    "duration": 8,
    "start_time": "2022-11-25T07:28:22.662Z"
   },
   {
    "duration": 14,
    "start_time": "2022-11-25T07:28:22.671Z"
   },
   {
    "duration": 12,
    "start_time": "2022-11-25T07:28:22.686Z"
   },
   {
    "duration": 8,
    "start_time": "2022-11-25T07:28:22.700Z"
   },
   {
    "duration": 42,
    "start_time": "2022-11-25T07:28:22.710Z"
   },
   {
    "duration": 4,
    "start_time": "2022-11-25T07:28:22.754Z"
   },
   {
    "duration": 126,
    "start_time": "2022-11-25T07:28:22.759Z"
   },
   {
    "duration": 5,
    "start_time": "2022-11-25T07:28:22.887Z"
   },
   {
    "duration": 8,
    "start_time": "2022-11-25T07:28:22.893Z"
   },
   {
    "duration": 7,
    "start_time": "2022-11-25T07:28:22.902Z"
   },
   {
    "duration": 3,
    "start_time": "2022-11-25T07:28:22.910Z"
   },
   {
    "duration": 537,
    "start_time": "2022-11-25T07:28:22.915Z"
   },
   {
    "duration": 156,
    "start_time": "2022-11-25T07:28:23.454Z"
   },
   {
    "duration": 442,
    "start_time": "2022-11-25T07:28:23.611Z"
   },
   {
    "duration": 117,
    "start_time": "2022-11-25T07:28:24.055Z"
   },
   {
    "duration": 541,
    "start_time": "2022-11-25T07:28:24.174Z"
   },
   {
    "duration": 3018,
    "start_time": "2022-11-25T07:28:24.716Z"
   },
   {
    "duration": 9,
    "start_time": "2022-11-25T07:28:27.736Z"
   },
   {
    "duration": 31,
    "start_time": "2022-11-25T07:28:27.748Z"
   },
   {
    "duration": 111,
    "start_time": "2022-11-25T07:28:27.853Z"
   },
   {
    "duration": 112,
    "start_time": "2022-11-25T07:28:27.966Z"
   },
   {
    "duration": 3,
    "start_time": "2022-11-25T07:28:28.080Z"
   },
   {
    "duration": 22,
    "start_time": "2022-11-25T07:28:28.085Z"
   },
   {
    "duration": 16,
    "start_time": "2022-11-25T07:28:28.108Z"
   },
   {
    "duration": 35,
    "start_time": "2022-11-25T07:28:28.126Z"
   },
   {
    "duration": 165,
    "start_time": "2022-11-25T07:28:28.162Z"
   },
   {
    "duration": 36,
    "start_time": "2022-11-25T07:28:28.328Z"
   },
   {
    "duration": 4719,
    "start_time": "2022-11-25T07:28:28.366Z"
   },
   {
    "duration": 461,
    "start_time": "2022-11-25T07:28:33.087Z"
   },
   {
    "duration": 505,
    "start_time": "2022-11-25T07:28:33.549Z"
   },
   {
    "duration": 851,
    "start_time": "2022-11-25T07:28:34.056Z"
   },
   {
    "duration": 198,
    "start_time": "2022-11-25T07:28:34.909Z"
   },
   {
    "duration": 0,
    "start_time": "2022-11-25T07:28:35.108Z"
   },
   {
    "duration": 97,
    "start_time": "2022-11-25T07:28:53.445Z"
   },
   {
    "duration": 188,
    "start_time": "2022-11-25T07:29:00.526Z"
   },
   {
    "duration": 4616,
    "start_time": "2022-11-25T07:38:15.676Z"
   },
   {
    "duration": 9103,
    "start_time": "2022-11-25T07:39:01.300Z"
   },
   {
    "duration": 94,
    "start_time": "2022-11-25T07:40:46.684Z"
   },
   {
    "duration": 4692,
    "start_time": "2022-11-25T07:41:03.700Z"
   },
   {
    "duration": 4376,
    "start_time": "2022-11-25T07:41:30.220Z"
   },
   {
    "duration": 990,
    "start_time": "2022-11-25T07:41:51.397Z"
   },
   {
    "duration": 972,
    "start_time": "2022-11-25T07:42:19.653Z"
   },
   {
    "duration": 2357,
    "start_time": "2022-11-25T07:43:04.708Z"
   },
   {
    "duration": 1932,
    "start_time": "2022-11-25T07:43:21.325Z"
   },
   {
    "duration": 116,
    "start_time": "2022-11-25T07:43:35.117Z"
   },
   {
    "duration": 99,
    "start_time": "2022-11-25T07:43:41.478Z"
   },
   {
    "duration": 100,
    "start_time": "2022-11-25T07:44:09.565Z"
   },
   {
    "duration": 385,
    "start_time": "2022-11-25T07:44:20.422Z"
   },
   {
    "duration": 774,
    "start_time": "2022-11-25T07:44:22.573Z"
   },
   {
    "duration": 3,
    "start_time": "2022-11-25T07:44:35.878Z"
   },
   {
    "duration": 67,
    "start_time": "2022-11-25T07:44:37.180Z"
   },
   {
    "duration": 13,
    "start_time": "2022-11-25T07:44:38.295Z"
   },
   {
    "duration": 3,
    "start_time": "2022-11-25T07:44:39.581Z"
   },
   {
    "duration": 3,
    "start_time": "2022-11-25T07:44:40.574Z"
   },
   {
    "duration": 4,
    "start_time": "2022-11-25T07:44:41.613Z"
   },
   {
    "duration": 11,
    "start_time": "2022-11-25T07:44:43.118Z"
   },
   {
    "duration": 8,
    "start_time": "2022-11-25T07:44:44.325Z"
   },
   {
    "duration": 4,
    "start_time": "2022-11-25T07:44:45.446Z"
   },
   {
    "duration": 8,
    "start_time": "2022-11-25T07:44:48.405Z"
   },
   {
    "duration": 13,
    "start_time": "2022-11-25T07:44:49.478Z"
   },
   {
    "duration": 13,
    "start_time": "2022-11-25T07:44:50.581Z"
   },
   {
    "duration": 5,
    "start_time": "2022-11-25T07:44:52.117Z"
   },
   {
    "duration": 12,
    "start_time": "2022-11-25T07:44:54.446Z"
   },
   {
    "duration": 4,
    "start_time": "2022-11-25T07:44:57.253Z"
   },
   {
    "duration": 106,
    "start_time": "2022-11-25T07:44:58.853Z"
   },
   {
    "duration": 5,
    "start_time": "2022-11-25T07:45:01.670Z"
   },
   {
    "duration": 8,
    "start_time": "2022-11-25T07:45:12.710Z"
   },
   {
    "duration": 6,
    "start_time": "2022-11-25T07:45:13.870Z"
   },
   {
    "duration": 3,
    "start_time": "2022-11-25T07:45:15.526Z"
   },
   {
    "duration": 505,
    "start_time": "2022-11-25T07:45:21.102Z"
   },
   {
    "duration": 148,
    "start_time": "2022-11-25T07:45:23.334Z"
   },
   {
    "duration": 378,
    "start_time": "2022-11-25T07:45:25.380Z"
   },
   {
    "duration": 29,
    "start_time": "2022-11-25T07:45:29.313Z"
   },
   {
    "duration": 541,
    "start_time": "2022-11-25T07:45:31.071Z"
   },
   {
    "duration": 3016,
    "start_time": "2022-11-25T07:45:38.382Z"
   },
   {
    "duration": 8,
    "start_time": "2022-11-25T07:46:04.903Z"
   },
   {
    "duration": 25,
    "start_time": "2022-11-25T07:46:09.806Z"
   },
   {
    "duration": 19,
    "start_time": "2022-11-25T07:46:11.151Z"
   },
   {
    "duration": 88,
    "start_time": "2022-11-25T07:46:14.383Z"
   },
   {
    "duration": 3,
    "start_time": "2022-11-25T07:46:19.415Z"
   },
   {
    "duration": 17,
    "start_time": "2022-11-25T07:46:20.087Z"
   },
   {
    "duration": 16,
    "start_time": "2022-11-25T07:46:50.000Z"
   },
   {
    "duration": 14,
    "start_time": "2022-11-25T07:46:51.615Z"
   },
   {
    "duration": 3,
    "start_time": "2022-11-25T07:47:08.783Z"
   },
   {
    "duration": 16,
    "start_time": "2022-11-25T07:47:09.623Z"
   },
   {
    "duration": 15,
    "start_time": "2022-11-25T07:47:17.688Z"
   },
   {
    "duration": 12,
    "start_time": "2022-11-25T07:47:18.679Z"
   },
   {
    "duration": 14,
    "start_time": "2022-11-25T07:48:10.399Z"
   },
   {
    "duration": 8,
    "start_time": "2022-11-25T07:48:16.878Z"
   },
   {
    "duration": 15,
    "start_time": "2022-11-25T07:49:18.536Z"
   },
   {
    "duration": 3,
    "start_time": "2022-11-25T07:49:21.031Z"
   },
   {
    "duration": 15,
    "start_time": "2022-11-25T07:49:21.496Z"
   },
   {
    "duration": 14,
    "start_time": "2022-11-25T07:49:22.216Z"
   },
   {
    "duration": 12,
    "start_time": "2022-11-25T07:49:22.752Z"
   },
   {
    "duration": 27,
    "start_time": "2022-11-25T07:49:46.241Z"
   },
   {
    "duration": 3,
    "start_time": "2022-11-25T07:49:55.832Z"
   },
   {
    "duration": 15,
    "start_time": "2022-11-25T07:49:57.176Z"
   },
   {
    "duration": 1315,
    "start_time": "2022-11-25T07:50:02.941Z"
   },
   {
    "duration": 102,
    "start_time": "2022-11-25T07:50:04.258Z"
   },
   {
    "duration": 18,
    "start_time": "2022-11-25T07:50:04.361Z"
   },
   {
    "duration": 3,
    "start_time": "2022-11-25T07:50:04.381Z"
   },
   {
    "duration": 10,
    "start_time": "2022-11-25T07:50:04.385Z"
   },
   {
    "duration": 11,
    "start_time": "2022-11-25T07:50:04.396Z"
   },
   {
    "duration": 15,
    "start_time": "2022-11-25T07:50:04.408Z"
   },
   {
    "duration": 6,
    "start_time": "2022-11-25T07:50:04.425Z"
   },
   {
    "duration": 24,
    "start_time": "2022-11-25T07:50:04.432Z"
   },
   {
    "duration": 9,
    "start_time": "2022-11-25T07:50:04.459Z"
   },
   {
    "duration": 19,
    "start_time": "2022-11-25T07:50:04.470Z"
   },
   {
    "duration": 12,
    "start_time": "2022-11-25T07:50:04.491Z"
   },
   {
    "duration": 4,
    "start_time": "2022-11-25T07:50:04.505Z"
   },
   {
    "duration": 14,
    "start_time": "2022-11-25T07:50:04.511Z"
   },
   {
    "duration": 26,
    "start_time": "2022-11-25T07:50:04.527Z"
   },
   {
    "duration": 129,
    "start_time": "2022-11-25T07:50:04.555Z"
   },
   {
    "duration": 6,
    "start_time": "2022-11-25T07:50:04.685Z"
   },
   {
    "duration": 12,
    "start_time": "2022-11-25T07:50:04.692Z"
   },
   {
    "duration": 6,
    "start_time": "2022-11-25T07:50:04.705Z"
   },
   {
    "duration": 3,
    "start_time": "2022-11-25T07:50:04.713Z"
   },
   {
    "duration": 545,
    "start_time": "2022-11-25T07:50:04.718Z"
   },
   {
    "duration": 158,
    "start_time": "2022-11-25T07:50:05.265Z"
   },
   {
    "duration": 428,
    "start_time": "2022-11-25T07:50:05.425Z"
   },
   {
    "duration": 120,
    "start_time": "2022-11-25T07:50:05.856Z"
   },
   {
    "duration": 519,
    "start_time": "2022-11-25T07:50:05.977Z"
   },
   {
    "duration": 3018,
    "start_time": "2022-11-25T07:50:06.497Z"
   },
   {
    "duration": 9,
    "start_time": "2022-11-25T07:50:09.517Z"
   },
   {
    "duration": 124,
    "start_time": "2022-11-25T07:50:09.529Z"
   },
   {
    "duration": 105,
    "start_time": "2022-11-25T07:50:09.654Z"
   },
   {
    "duration": 101,
    "start_time": "2022-11-25T07:50:09.761Z"
   },
   {
    "duration": 3,
    "start_time": "2022-11-25T07:50:09.863Z"
   },
   {
    "duration": 53,
    "start_time": "2022-11-25T07:50:09.867Z"
   },
   {
    "duration": 15,
    "start_time": "2022-11-25T07:50:09.922Z"
   },
   {
    "duration": 26,
    "start_time": "2022-11-25T07:50:09.938Z"
   },
   {
    "duration": 160,
    "start_time": "2022-11-25T07:50:09.966Z"
   },
   {
    "duration": 26,
    "start_time": "2022-11-25T07:50:10.128Z"
   },
   {
    "duration": 4577,
    "start_time": "2022-11-25T07:50:10.156Z"
   },
   {
    "duration": 471,
    "start_time": "2022-11-25T07:50:14.735Z"
   },
   {
    "duration": 496,
    "start_time": "2022-11-25T07:50:15.208Z"
   },
   {
    "duration": 846,
    "start_time": "2022-11-25T07:50:15.706Z"
   },
   {
    "duration": 106,
    "start_time": "2022-11-25T07:50:16.554Z"
   },
   {
    "duration": 205,
    "start_time": "2022-11-25T07:50:16.662Z"
   },
   {
    "duration": 9,
    "start_time": "2022-11-25T07:52:20.338Z"
   },
   {
    "duration": 13,
    "start_time": "2022-11-25T07:52:24.762Z"
   },
   {
    "duration": 15,
    "start_time": "2022-11-25T07:52:25.411Z"
   },
   {
    "duration": 10,
    "start_time": "2022-11-25T07:52:35.171Z"
   },
   {
    "duration": 12,
    "start_time": "2022-11-25T07:52:37.755Z"
   },
   {
    "duration": 16,
    "start_time": "2022-11-25T07:52:41.202Z"
   },
   {
    "duration": 12,
    "start_time": "2022-11-25T07:52:50.451Z"
   },
   {
    "duration": 22,
    "start_time": "2022-11-25T07:54:42.211Z"
   },
   {
    "duration": 16,
    "start_time": "2022-11-25T07:54:47.899Z"
   },
   {
    "duration": 3,
    "start_time": "2022-11-25T07:55:17.204Z"
   },
   {
    "duration": 104,
    "start_time": "2022-11-25T07:55:18.156Z"
   },
   {
    "duration": 18,
    "start_time": "2022-11-25T07:55:41.686Z"
   },
   {
    "duration": 14,
    "start_time": "2022-11-25T07:55:42.767Z"
   },
   {
    "duration": 12,
    "start_time": "2022-11-25T07:55:43.468Z"
   },
   {
    "duration": 16,
    "start_time": "2022-11-25T07:56:08.821Z"
   },
   {
    "duration": 2,
    "start_time": "2022-11-25T07:57:18.038Z"
   },
   {
    "duration": 15,
    "start_time": "2022-11-25T07:57:18.902Z"
   },
   {
    "duration": 11,
    "start_time": "2022-11-25T07:57:19.573Z"
   },
   {
    "duration": 145,
    "start_time": "2022-11-25T07:57:35.285Z"
   },
   {
    "duration": 26,
    "start_time": "2022-11-25T07:57:45.238Z"
   },
   {
    "duration": 4636,
    "start_time": "2022-11-25T07:57:47.029Z"
   },
   {
    "duration": 460,
    "start_time": "2022-11-25T07:57:55.573Z"
   },
   {
    "duration": 424,
    "start_time": "2022-11-25T07:57:57.718Z"
   },
   {
    "duration": 846,
    "start_time": "2022-11-25T07:58:00.246Z"
   },
   {
    "duration": 96,
    "start_time": "2022-11-25T07:58:09.102Z"
   },
   {
    "duration": 192,
    "start_time": "2022-11-25T07:58:10.413Z"
   },
   {
    "duration": 217,
    "start_time": "2022-11-25T07:59:43.871Z"
   },
   {
    "duration": 186,
    "start_time": "2022-11-25T07:59:50.287Z"
   },
   {
    "duration": 94,
    "start_time": "2022-11-25T07:59:53.745Z"
   },
   {
    "duration": 424,
    "start_time": "2022-11-25T08:00:05.062Z"
   },
   {
    "duration": 95,
    "start_time": "2022-11-25T08:00:24.015Z"
   },
   {
    "duration": 4,
    "start_time": "2022-11-25T08:01:17.818Z"
   },
   {
    "duration": 3,
    "start_time": "2022-11-25T08:01:40.672Z"
   },
   {
    "duration": 17,
    "start_time": "2022-11-25T08:02:10.513Z"
   },
   {
    "duration": 2,
    "start_time": "2022-11-25T08:02:53.365Z"
   },
   {
    "duration": 18,
    "start_time": "2022-11-25T08:02:54.936Z"
   },
   {
    "duration": 12,
    "start_time": "2022-11-25T08:02:57.023Z"
   },
   {
    "duration": 880,
    "start_time": "2022-11-25T08:04:19.170Z"
   },
   {
    "duration": 16,
    "start_time": "2022-11-25T08:09:48.356Z"
   },
   {
    "duration": 31,
    "start_time": "2022-11-25T08:10:20.974Z"
   },
   {
    "duration": 31,
    "start_time": "2022-11-25T08:10:49.620Z"
   },
   {
    "duration": 31,
    "start_time": "2022-11-25T08:11:04.453Z"
   },
   {
    "duration": 38,
    "start_time": "2022-11-25T08:12:14.247Z"
   },
   {
    "duration": 148,
    "start_time": "2022-11-25T08:12:23.341Z"
   },
   {
    "duration": 28,
    "start_time": "2022-11-25T08:12:24.949Z"
   },
   {
    "duration": 5259,
    "start_time": "2022-11-25T08:12:26.294Z"
   },
   {
    "duration": 194,
    "start_time": "2022-11-25T08:12:31.555Z"
   },
   {
    "duration": 466,
    "start_time": "2022-11-25T08:12:54.875Z"
   },
   {
    "duration": 426,
    "start_time": "2022-11-25T08:12:56.981Z"
   },
   {
    "duration": 845,
    "start_time": "2022-11-25T08:12:59.014Z"
   },
   {
    "duration": 949,
    "start_time": "2022-11-25T08:13:15.073Z"
   },
   {
    "duration": 188,
    "start_time": "2022-11-25T08:13:27.983Z"
   },
   {
    "duration": 355,
    "start_time": "2022-11-25T08:13:34.207Z"
   },
   {
    "duration": 1938,
    "start_time": "2022-11-25T08:19:40.217Z"
   },
   {
    "duration": 126,
    "start_time": "2022-11-25T08:21:20.483Z"
   },
   {
    "duration": 145,
    "start_time": "2022-11-25T08:21:28.819Z"
   },
   {
    "duration": 9674,
    "start_time": "2022-11-25T08:21:34.075Z"
   },
   {
    "duration": 34,
    "start_time": "2022-11-25T08:22:42.574Z"
   },
   {
    "duration": 17,
    "start_time": "2022-11-25T08:33:24.115Z"
   },
   {
    "duration": 344,
    "start_time": "2022-11-25T08:33:32.456Z"
   },
   {
    "duration": 19,
    "start_time": "2022-11-25T08:33:42.178Z"
   },
   {
    "duration": 13,
    "start_time": "2022-11-25T08:37:25.354Z"
   },
   {
    "duration": 11,
    "start_time": "2022-11-25T08:37:38.467Z"
   },
   {
    "duration": 15,
    "start_time": "2022-11-25T08:37:44.547Z"
   },
   {
    "duration": 6,
    "start_time": "2022-11-25T08:37:47.356Z"
   },
   {
    "duration": 4,
    "start_time": "2022-11-25T08:41:06.573Z"
   },
   {
    "duration": 12,
    "start_time": "2022-11-25T08:41:43.734Z"
   },
   {
    "duration": 1410,
    "start_time": "2022-11-25T08:41:56.992Z"
   },
   {
    "duration": 136,
    "start_time": "2022-11-25T08:41:58.404Z"
   },
   {
    "duration": 19,
    "start_time": "2022-11-25T08:41:58.541Z"
   },
   {
    "duration": 4,
    "start_time": "2022-11-25T08:41:58.563Z"
   },
   {
    "duration": 6,
    "start_time": "2022-11-25T08:41:58.568Z"
   },
   {
    "duration": 5,
    "start_time": "2022-11-25T08:41:58.575Z"
   },
   {
    "duration": 15,
    "start_time": "2022-11-25T08:41:58.581Z"
   },
   {
    "duration": 7,
    "start_time": "2022-11-25T08:41:58.598Z"
   },
   {
    "duration": 5,
    "start_time": "2022-11-25T08:41:58.606Z"
   },
   {
    "duration": 38,
    "start_time": "2022-11-25T08:41:58.614Z"
   },
   {
    "duration": 21,
    "start_time": "2022-11-25T08:41:58.654Z"
   },
   {
    "duration": 14,
    "start_time": "2022-11-25T08:41:58.677Z"
   },
   {
    "duration": 6,
    "start_time": "2022-11-25T08:41:58.693Z"
   },
   {
    "duration": 15,
    "start_time": "2022-11-25T08:41:58.700Z"
   },
   {
    "duration": 4,
    "start_time": "2022-11-25T08:41:58.717Z"
   },
   {
    "duration": 124,
    "start_time": "2022-11-25T08:41:58.752Z"
   },
   {
    "duration": 6,
    "start_time": "2022-11-25T08:41:58.878Z"
   },
   {
    "duration": 10,
    "start_time": "2022-11-25T08:41:58.885Z"
   },
   {
    "duration": 7,
    "start_time": "2022-11-25T08:41:58.896Z"
   },
   {
    "duration": 3,
    "start_time": "2022-11-25T08:41:58.904Z"
   },
   {
    "duration": 569,
    "start_time": "2022-11-25T08:41:58.909Z"
   },
   {
    "duration": 165,
    "start_time": "2022-11-25T08:41:59.479Z"
   },
   {
    "duration": 503,
    "start_time": "2022-11-25T08:41:59.651Z"
   },
   {
    "duration": 118,
    "start_time": "2022-11-25T08:42:00.160Z"
   },
   {
    "duration": 543,
    "start_time": "2022-11-25T08:42:00.280Z"
   },
   {
    "duration": 3018,
    "start_time": "2022-11-25T08:42:00.825Z"
   },
   {
    "duration": 8,
    "start_time": "2022-11-25T08:42:03.844Z"
   },
   {
    "duration": 101,
    "start_time": "2022-11-25T08:42:03.855Z"
   },
   {
    "duration": 114,
    "start_time": "2022-11-25T08:42:03.958Z"
   },
   {
    "duration": 100,
    "start_time": "2022-11-25T08:42:04.073Z"
   },
   {
    "duration": 36,
    "start_time": "2022-11-25T08:42:04.174Z"
   },
   {
    "duration": 186,
    "start_time": "2022-11-25T08:42:04.212Z"
   },
   {
    "duration": 25,
    "start_time": "2022-11-25T08:42:04.400Z"
   },
   {
    "duration": 4615,
    "start_time": "2022-11-25T08:42:04.426Z"
   },
   {
    "duration": 483,
    "start_time": "2022-11-25T08:42:09.043Z"
   },
   {
    "duration": 529,
    "start_time": "2022-11-25T08:42:09.529Z"
   },
   {
    "duration": 851,
    "start_time": "2022-11-25T08:42:10.060Z"
   },
   {
    "duration": 184,
    "start_time": "2022-11-25T08:42:10.913Z"
   },
   {
    "duration": 345,
    "start_time": "2022-11-25T08:42:11.099Z"
   },
   {
    "duration": 7,
    "start_time": "2022-11-25T08:42:11.446Z"
   },
   {
    "duration": 142,
    "start_time": "2022-11-25T08:42:11.454Z"
   },
   {
    "duration": 10,
    "start_time": "2022-11-25T08:42:33.355Z"
   },
   {
    "duration": 11,
    "start_time": "2022-11-25T08:42:53.428Z"
   },
   {
    "duration": 14,
    "start_time": "2022-11-25T08:43:12.125Z"
   },
   {
    "duration": 3,
    "start_time": "2022-11-25T08:44:37.406Z"
   },
   {
    "duration": 10,
    "start_time": "2022-11-25T08:44:49.470Z"
   },
   {
    "duration": 112,
    "start_time": "2022-11-25T08:55:57.997Z"
   },
   {
    "duration": 14654,
    "start_time": "2022-11-25T08:56:07.035Z"
   },
   {
    "duration": 10997,
    "start_time": "2022-11-25T08:56:47.565Z"
   },
   {
    "duration": 6903,
    "start_time": "2022-11-25T08:57:13.637Z"
   },
   {
    "duration": 1098,
    "start_time": "2022-11-25T08:57:45.971Z"
   },
   {
    "duration": 1138,
    "start_time": "2022-11-25T08:57:57.020Z"
   },
   {
    "duration": 1323,
    "start_time": "2022-11-25T09:00:24.374Z"
   },
   {
    "duration": 1321,
    "start_time": "2022-11-25T09:00:46.933Z"
   },
   {
    "duration": 1324,
    "start_time": "2022-11-25T09:01:05.534Z"
   },
   {
    "duration": 22,
    "start_time": "2022-11-25T09:01:28.149Z"
   },
   {
    "duration": 1266,
    "start_time": "2022-11-25T09:01:45.295Z"
   },
   {
    "duration": 1254,
    "start_time": "2022-11-25T09:01:58.815Z"
   },
   {
    "duration": 339,
    "start_time": "2022-11-25T09:02:20.758Z"
   },
   {
    "duration": 131979,
    "start_time": "2022-11-25T09:03:29.487Z"
   },
   {
    "duration": 333,
    "start_time": "2022-11-25T09:05:48.386Z"
   },
   {
    "duration": 29763,
    "start_time": "2022-11-25T09:05:52.680Z"
   },
   {
    "duration": 43,
    "start_time": "2022-11-25T09:19:52.550Z"
   },
   {
    "duration": 1379,
    "start_time": "2022-11-25T09:20:07.623Z"
   },
   {
    "duration": 67,
    "start_time": "2022-11-25T09:20:09.004Z"
   },
   {
    "duration": 18,
    "start_time": "2022-11-25T09:20:09.073Z"
   },
   {
    "duration": 4,
    "start_time": "2022-11-25T09:20:09.092Z"
   },
   {
    "duration": 8,
    "start_time": "2022-11-25T09:20:09.097Z"
   },
   {
    "duration": 5,
    "start_time": "2022-11-25T09:20:09.107Z"
   },
   {
    "duration": 13,
    "start_time": "2022-11-25T09:20:09.114Z"
   },
   {
    "duration": 26,
    "start_time": "2022-11-25T09:20:09.129Z"
   },
   {
    "duration": 5,
    "start_time": "2022-11-25T09:20:09.157Z"
   },
   {
    "duration": 9,
    "start_time": "2022-11-25T09:20:09.165Z"
   },
   {
    "duration": 14,
    "start_time": "2022-11-25T09:20:09.176Z"
   },
   {
    "duration": 12,
    "start_time": "2022-11-25T09:20:09.192Z"
   },
   {
    "duration": 5,
    "start_time": "2022-11-25T09:20:09.206Z"
   },
   {
    "duration": 45,
    "start_time": "2022-11-25T09:20:09.213Z"
   },
   {
    "duration": 4,
    "start_time": "2022-11-25T09:20:09.259Z"
   },
   {
    "duration": 167,
    "start_time": "2022-11-25T09:20:09.264Z"
   },
   {
    "duration": 7,
    "start_time": "2022-11-25T09:20:09.433Z"
   },
   {
    "duration": 17,
    "start_time": "2022-11-25T09:20:09.442Z"
   },
   {
    "duration": 7,
    "start_time": "2022-11-25T09:20:09.461Z"
   },
   {
    "duration": 4,
    "start_time": "2022-11-25T09:20:09.470Z"
   },
   {
    "duration": 556,
    "start_time": "2022-11-25T09:20:09.475Z"
   },
   {
    "duration": 165,
    "start_time": "2022-11-25T09:20:10.033Z"
   },
   {
    "duration": 360,
    "start_time": "2022-11-25T09:20:10.200Z"
   },
   {
    "duration": 206,
    "start_time": "2022-11-25T09:20:10.561Z"
   },
   {
    "duration": 542,
    "start_time": "2022-11-25T09:20:10.769Z"
   },
   {
    "duration": 3019,
    "start_time": "2022-11-25T09:20:11.312Z"
   },
   {
    "duration": 9,
    "start_time": "2022-11-25T09:20:14.332Z"
   },
   {
    "duration": 37,
    "start_time": "2022-11-25T09:20:14.344Z"
   },
   {
    "duration": 178,
    "start_time": "2022-11-25T09:20:14.383Z"
   },
   {
    "duration": 126,
    "start_time": "2022-11-25T09:20:14.563Z"
   },
   {
    "duration": 36,
    "start_time": "2022-11-25T09:20:14.691Z"
   },
   {
    "duration": 169,
    "start_time": "2022-11-25T09:20:14.728Z"
   },
   {
    "duration": 24,
    "start_time": "2022-11-25T09:20:14.898Z"
   },
   {
    "duration": 4816,
    "start_time": "2022-11-25T09:20:14.924Z"
   },
   {
    "duration": 469,
    "start_time": "2022-11-25T09:20:19.742Z"
   },
   {
    "duration": 514,
    "start_time": "2022-11-25T09:20:20.212Z"
   },
   {
    "duration": 851,
    "start_time": "2022-11-25T09:20:20.727Z"
   },
   {
    "duration": 186,
    "start_time": "2022-11-25T09:20:21.579Z"
   },
   {
    "duration": 347,
    "start_time": "2022-11-25T09:20:21.766Z"
   },
   {
    "duration": 21,
    "start_time": "2022-11-25T09:20:52.297Z"
   },
   {
    "duration": 36,
    "start_time": "2022-11-25T09:20:59.232Z"
   },
   {
    "duration": 27,
    "start_time": "2022-11-25T09:21:53.921Z"
   },
   {
    "duration": 7928,
    "start_time": "2022-11-25T09:25:47.643Z"
   },
   {
    "duration": 457,
    "start_time": "2022-11-25T09:29:21.653Z"
   },
   {
    "duration": 436,
    "start_time": "2022-11-25T09:29:30.460Z"
   },
   {
    "duration": 418,
    "start_time": "2022-11-25T09:29:40.997Z"
   },
   {
    "duration": 52,
    "start_time": "2022-11-25T09:30:42.575Z"
   },
   {
    "duration": 63,
    "start_time": "2022-11-25T09:30:58.638Z"
   },
   {
    "duration": 88,
    "start_time": "2022-11-25T09:31:04.865Z"
   },
   {
    "duration": 5100,
    "start_time": "2022-11-25T09:31:19.797Z"
   },
   {
    "duration": 33020,
    "start_time": "2022-11-25T09:31:51.319Z"
   },
   {
    "duration": 1357,
    "start_time": "2022-11-25T09:36:39.522Z"
   },
   {
    "duration": 63,
    "start_time": "2022-11-25T09:36:40.881Z"
   },
   {
    "duration": 29,
    "start_time": "2022-11-25T09:36:40.946Z"
   },
   {
    "duration": 27,
    "start_time": "2022-11-25T09:36:40.978Z"
   },
   {
    "duration": 23,
    "start_time": "2022-11-25T09:36:41.007Z"
   },
   {
    "duration": 37,
    "start_time": "2022-11-25T09:36:41.031Z"
   },
   {
    "duration": 36,
    "start_time": "2022-11-25T09:36:41.070Z"
   },
   {
    "duration": 22,
    "start_time": "2022-11-25T09:36:41.107Z"
   },
   {
    "duration": 11,
    "start_time": "2022-11-25T09:36:41.131Z"
   },
   {
    "duration": 33,
    "start_time": "2022-11-25T09:36:41.145Z"
   },
   {
    "duration": 20,
    "start_time": "2022-11-25T09:36:41.180Z"
   },
   {
    "duration": 22,
    "start_time": "2022-11-25T09:36:41.202Z"
   },
   {
    "duration": 18,
    "start_time": "2022-11-25T09:36:41.226Z"
   },
   {
    "duration": 42,
    "start_time": "2022-11-25T09:36:41.246Z"
   },
   {
    "duration": 25,
    "start_time": "2022-11-25T09:36:41.290Z"
   },
   {
    "duration": 133,
    "start_time": "2022-11-25T09:36:41.316Z"
   },
   {
    "duration": 9,
    "start_time": "2022-11-25T09:36:41.451Z"
   },
   {
    "duration": 33,
    "start_time": "2022-11-25T09:36:41.461Z"
   },
   {
    "duration": 37,
    "start_time": "2022-11-25T09:36:41.495Z"
   },
   {
    "duration": 26,
    "start_time": "2022-11-25T09:36:41.534Z"
   },
   {
    "duration": 579,
    "start_time": "2022-11-25T09:36:41.562Z"
   },
   {
    "duration": 162,
    "start_time": "2022-11-25T09:36:42.142Z"
   },
   {
    "duration": 1065,
    "start_time": "2022-11-25T09:36:42.305Z"
   },
   {
    "duration": 189,
    "start_time": "2022-11-25T09:36:43.372Z"
   },
   {
    "duration": 603,
    "start_time": "2022-11-25T09:36:43.565Z"
   },
   {
    "duration": 3025,
    "start_time": "2022-11-25T09:36:44.170Z"
   },
   {
    "duration": 9,
    "start_time": "2022-11-25T09:36:47.197Z"
   },
   {
    "duration": 45,
    "start_time": "2022-11-25T09:36:47.211Z"
   },
   {
    "duration": 121,
    "start_time": "2022-11-25T09:36:47.258Z"
   },
   {
    "duration": 188,
    "start_time": "2022-11-25T09:36:47.381Z"
   },
   {
    "duration": 32,
    "start_time": "2022-11-25T09:36:47.571Z"
   },
   {
    "duration": 202,
    "start_time": "2022-11-25T09:36:47.605Z"
   },
   {
    "duration": 26,
    "start_time": "2022-11-25T09:36:47.808Z"
   },
   {
    "duration": 5032,
    "start_time": "2022-11-25T09:36:47.836Z"
   },
   {
    "duration": 505,
    "start_time": "2022-11-25T09:36:52.870Z"
   },
   {
    "duration": 524,
    "start_time": "2022-11-25T09:36:53.377Z"
   },
   {
    "duration": 902,
    "start_time": "2022-11-25T09:36:53.902Z"
   },
   {
    "duration": 192,
    "start_time": "2022-11-25T09:36:54.805Z"
   },
   {
    "duration": 368,
    "start_time": "2022-11-25T09:36:54.998Z"
   },
   {
    "duration": 89468,
    "start_time": "2022-11-25T09:36:55.368Z"
   },
   {
    "duration": 31254,
    "start_time": "2022-11-25T09:39:37.815Z"
   },
   {
    "duration": 3477,
    "start_time": "2022-11-25T09:40:27.187Z"
   },
   {
    "duration": 29950,
    "start_time": "2022-11-25T09:41:15.881Z"
   },
   {
    "duration": 30754,
    "start_time": "2022-11-25T09:41:46.690Z"
   },
   {
    "duration": 32017,
    "start_time": "2022-11-25T09:42:27.346Z"
   },
   {
    "duration": 5172,
    "start_time": "2022-11-25T09:43:53.329Z"
   },
   {
    "duration": 2836,
    "start_time": "2022-11-25T09:45:05.815Z"
   },
   {
    "duration": 172,
    "start_time": "2022-11-25T09:47:55.324Z"
   },
   {
    "duration": 329,
    "start_time": "2022-11-25T09:47:58.093Z"
   },
   {
    "duration": 310,
    "start_time": "2022-11-25T09:53:40.342Z"
   },
   {
    "duration": 29391,
    "start_time": "2022-11-25T09:56:00.954Z"
   },
   {
    "duration": 2725,
    "start_time": "2022-11-25T09:58:50.641Z"
   },
   {
    "duration": 24,
    "start_time": "2022-11-25T10:00:18.899Z"
   },
   {
    "duration": 2615,
    "start_time": "2022-11-25T10:00:33.010Z"
   },
   {
    "duration": 4531,
    "start_time": "2022-11-25T10:02:07.515Z"
   },
   {
    "duration": 2575,
    "start_time": "2022-11-25T10:02:17.202Z"
   },
   {
    "duration": 25,
    "start_time": "2022-11-25T10:02:38.867Z"
   },
   {
    "duration": 4833,
    "start_time": "2022-11-25T10:02:40.276Z"
   },
   {
    "duration": 492,
    "start_time": "2022-11-25T10:02:45.111Z"
   },
   {
    "duration": 422,
    "start_time": "2022-11-25T10:02:51.004Z"
   },
   {
    "duration": 857,
    "start_time": "2022-11-25T10:02:54.290Z"
   },
   {
    "duration": 168,
    "start_time": "2022-11-25T10:03:07.724Z"
   },
   {
    "duration": 372,
    "start_time": "2022-11-25T10:03:18.884Z"
   },
   {
    "duration": 176,
    "start_time": "2022-11-25T10:04:09.187Z"
   },
   {
    "duration": 1463,
    "start_time": "2022-11-25T10:04:18.731Z"
   },
   {
    "duration": 78,
    "start_time": "2022-11-25T10:04:20.196Z"
   },
   {
    "duration": 18,
    "start_time": "2022-11-25T10:04:20.275Z"
   },
   {
    "duration": 4,
    "start_time": "2022-11-25T10:04:20.295Z"
   },
   {
    "duration": 5,
    "start_time": "2022-11-25T10:04:20.300Z"
   },
   {
    "duration": 6,
    "start_time": "2022-11-25T10:04:20.306Z"
   },
   {
    "duration": 16,
    "start_time": "2022-11-25T10:04:20.313Z"
   },
   {
    "duration": 27,
    "start_time": "2022-11-25T10:04:20.330Z"
   },
   {
    "duration": 6,
    "start_time": "2022-11-25T10:04:20.359Z"
   },
   {
    "duration": 11,
    "start_time": "2022-11-25T10:04:20.368Z"
   },
   {
    "duration": 16,
    "start_time": "2022-11-25T10:04:20.380Z"
   },
   {
    "duration": 13,
    "start_time": "2022-11-25T10:04:20.398Z"
   },
   {
    "duration": 9,
    "start_time": "2022-11-25T10:04:20.413Z"
   },
   {
    "duration": 38,
    "start_time": "2022-11-25T10:04:20.423Z"
   },
   {
    "duration": 4,
    "start_time": "2022-11-25T10:04:20.462Z"
   },
   {
    "duration": 133,
    "start_time": "2022-11-25T10:04:20.468Z"
   },
   {
    "duration": 5,
    "start_time": "2022-11-25T10:04:20.603Z"
   },
   {
    "duration": 9,
    "start_time": "2022-11-25T10:04:20.610Z"
   },
   {
    "duration": 7,
    "start_time": "2022-11-25T10:04:20.621Z"
   },
   {
    "duration": 25,
    "start_time": "2022-11-25T10:04:20.629Z"
   },
   {
    "duration": 579,
    "start_time": "2022-11-25T10:04:20.656Z"
   },
   {
    "duration": 165,
    "start_time": "2022-11-25T10:04:21.236Z"
   },
   {
    "duration": 650,
    "start_time": "2022-11-25T10:04:21.403Z"
   },
   {
    "duration": 127,
    "start_time": "2022-11-25T10:04:22.055Z"
   },
   {
    "duration": 600,
    "start_time": "2022-11-25T10:04:22.184Z"
   },
   {
    "duration": 3018,
    "start_time": "2022-11-25T10:04:22.786Z"
   },
   {
    "duration": 9,
    "start_time": "2022-11-25T10:04:25.805Z"
   },
   {
    "duration": 31079,
    "start_time": "2022-11-25T10:04:25.818Z"
   },
   {
    "duration": 154,
    "start_time": "2022-11-25T10:04:56.898Z"
   },
   {
    "duration": 37,
    "start_time": "2022-11-25T10:04:57.054Z"
   },
   {
    "duration": 2725,
    "start_time": "2022-11-25T10:04:57.093Z"
   },
   {
    "duration": 35,
    "start_time": "2022-11-25T10:04:59.820Z"
   },
   {
    "duration": 2633,
    "start_time": "2022-11-25T10:04:59.856Z"
   },
   {
    "duration": 31,
    "start_time": "2022-11-25T10:05:02.491Z"
   },
   {
    "duration": 5032,
    "start_time": "2022-11-25T10:05:02.525Z"
   },
   {
    "duration": 483,
    "start_time": "2022-11-25T10:05:07.558Z"
   },
   {
    "duration": 441,
    "start_time": "2022-11-25T10:05:08.043Z"
   },
   {
    "duration": 854,
    "start_time": "2022-11-25T10:05:08.486Z"
   },
   {
    "duration": 182,
    "start_time": "2022-11-25T10:05:09.342Z"
   },
   {
    "duration": 362,
    "start_time": "2022-11-25T10:05:09.526Z"
   },
   {
    "duration": 2592,
    "start_time": "2022-11-25T10:05:17.684Z"
   },
   {
    "duration": 25,
    "start_time": "2022-11-25T10:05:22.044Z"
   },
   {
    "duration": 4789,
    "start_time": "2022-11-25T10:05:31.956Z"
   },
   {
    "duration": 464,
    "start_time": "2022-11-25T10:05:46.236Z"
   },
   {
    "duration": 439,
    "start_time": "2022-11-25T10:05:55.133Z"
   },
   {
    "duration": 34,
    "start_time": "2022-11-25T10:10:00.527Z"
   },
   {
    "duration": 31,
    "start_time": "2022-11-25T10:10:12.791Z"
   },
   {
    "duration": 20,
    "start_time": "2022-11-25T10:10:25.628Z"
   },
   {
    "duration": 20,
    "start_time": "2022-11-25T10:11:04.247Z"
   },
   {
    "duration": 2565,
    "start_time": "2022-11-25T10:11:19.711Z"
   },
   {
    "duration": 29,
    "start_time": "2022-11-25T10:11:24.834Z"
   },
   {
    "duration": 4916,
    "start_time": "2022-11-25T10:11:30.895Z"
   },
   {
    "duration": 472,
    "start_time": "2022-11-25T10:11:40.577Z"
   },
   {
    "duration": 466,
    "start_time": "2022-11-25T10:11:43.544Z"
   },
   {
    "duration": 868,
    "start_time": "2022-11-25T10:11:48.553Z"
   },
   {
    "duration": 181,
    "start_time": "2022-11-25T10:11:59.806Z"
   },
   {
    "duration": 352,
    "start_time": "2022-11-25T10:12:08.097Z"
   },
   {
    "duration": 28074,
    "start_time": "2022-11-25T10:12:58.930Z"
   },
   {
    "duration": 474,
    "start_time": "2022-11-25T10:13:33.033Z"
   },
   {
    "duration": 437,
    "start_time": "2022-11-25T10:13:35.336Z"
   },
   {
    "duration": 860,
    "start_time": "2022-11-25T10:13:36.906Z"
   },
   {
    "duration": 205,
    "start_time": "2022-11-25T10:13:44.307Z"
   },
   {
    "duration": 2916,
    "start_time": "2022-11-25T10:14:03.050Z"
   },
   {
    "duration": 177,
    "start_time": "2022-11-25T10:14:12.131Z"
   },
   {
    "duration": 355,
    "start_time": "2022-11-25T10:14:17.674Z"
   },
   {
    "duration": 3,
    "start_time": "2022-11-25T10:14:29.281Z"
   },
   {
    "duration": 4,
    "start_time": "2022-11-25T10:14:29.474Z"
   },
   {
    "duration": 4,
    "start_time": "2022-11-25T10:14:29.673Z"
   },
   {
    "duration": 3,
    "start_time": "2022-11-25T10:14:29.879Z"
   },
   {
    "duration": 4,
    "start_time": "2022-11-25T10:14:30.072Z"
   },
   {
    "duration": 3,
    "start_time": "2022-11-25T10:14:30.247Z"
   },
   {
    "duration": 4,
    "start_time": "2022-11-25T10:14:30.387Z"
   },
   {
    "duration": 3,
    "start_time": "2022-11-25T10:14:30.542Z"
   },
   {
    "duration": 4,
    "start_time": "2022-11-25T10:14:30.655Z"
   },
   {
    "duration": 4,
    "start_time": "2022-11-25T10:14:30.760Z"
   },
   {
    "duration": 3,
    "start_time": "2022-11-25T10:14:30.867Z"
   },
   {
    "duration": 3,
    "start_time": "2022-11-25T10:14:30.970Z"
   },
   {
    "duration": 4,
    "start_time": "2022-11-25T10:14:31.070Z"
   },
   {
    "duration": 4,
    "start_time": "2022-11-25T10:14:31.174Z"
   },
   {
    "duration": 4,
    "start_time": "2022-11-25T10:14:31.290Z"
   },
   {
    "duration": 4,
    "start_time": "2022-11-25T10:14:31.407Z"
   }
  ],
  "kernelspec": {
   "display_name": "Python 3 (ipykernel)",
   "language": "python",
   "name": "python3"
  },
  "language_info": {
   "codemirror_mode": {
    "name": "ipython",
    "version": 3
   },
   "file_extension": ".py",
   "mimetype": "text/x-python",
   "name": "python",
   "nbconvert_exporter": "python",
   "pygments_lexer": "ipython3",
   "version": "3.9.12"
  },
  "toc": {
   "base_numbering": 1,
   "nav_menu": {},
   "number_sections": true,
   "sideBar": true,
   "skip_h1_title": true,
   "title_cell": "Table of Contents",
   "title_sidebar": "Contents",
   "toc_cell": false,
   "toc_position": {
    "height": "calc(100% - 180px)",
    "left": "10px",
    "top": "150px",
    "width": "173px"
   },
   "toc_section_display": true,
   "toc_window_display": false
  }
 },
 "nbformat": 4,
 "nbformat_minor": 2
}
