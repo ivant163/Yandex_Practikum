{
 "cells": [
  {
   "cell_type": "markdown",
   "metadata": {},
   "source": [
    "# Исследование объявлений о продаже квартир\n",
    "\n",
    "В вашем распоряжении данные сервиса Яндекс.Недвижимость — архив объявлений о продаже квартир в Санкт-Петербурге и соседних населённых пунктов за несколько лет. Нужно научиться определять рыночную стоимость объектов недвижимости. Ваша задача — установить параметры. Это позволит построить автоматизированную систему: она отследит аномалии и мошенническую деятельность. \n",
    "\n",
    "По каждой квартире на продажу доступны два вида данных. Первые вписаны пользователем, вторые — получены автоматически на основе картографических данных. Например, расстояние до центра, аэропорта, ближайшего парка и водоёма. "
   ]
  },
  {
   "cell_type": "markdown",
   "metadata": {},
   "source": [
    "### Шаг 1. Откройте файл с данными и изучите общую информацию. "
   ]
  },
  {
   "cell_type": "code",
   "execution_count": 1,
   "metadata": {},
   "outputs": [],
   "source": [
    "import matplotlib.pyplot as plt\n",
    "import pandas as pd\n",
    "import seaborn as sns\n",
    "import numpy as np\n",
    "import pandas as pd\n",
    "%matplotlib inline"
   ]
  },
  {
   "cell_type": "markdown",
   "metadata": {},
   "source": [
    "Подключил необходимые библиотеки."
   ]
  },
  {
   "cell_type": "code",
   "execution_count": 2,
   "metadata": {},
   "outputs": [],
   "source": [
    "data = pd.read_csv('/datasets/real_estate_data.csv', sep='\\t') # прочитал файл с датасет указав разделить"
   ]
  },
  {
   "cell_type": "markdown",
   "metadata": {},
   "source": [
    "Загрузил файл с базой данных и сохранил ее в переменную data"
   ]
  },
  {
   "cell_type": "code",
   "execution_count": 3,
   "metadata": {
    "scrolled": false
   },
   "outputs": [
    {
     "data": {
      "text/html": [
       "<div>\n",
       "<style scoped>\n",
       "    .dataframe tbody tr th:only-of-type {\n",
       "        vertical-align: middle;\n",
       "    }\n",
       "\n",
       "    .dataframe tbody tr th {\n",
       "        vertical-align: top;\n",
       "    }\n",
       "\n",
       "    .dataframe thead th {\n",
       "        text-align: right;\n",
       "    }\n",
       "</style>\n",
       "<table border=\"1\" class=\"dataframe\">\n",
       "  <thead>\n",
       "    <tr style=\"text-align: right;\">\n",
       "      <th></th>\n",
       "      <th>total_images</th>\n",
       "      <th>last_price</th>\n",
       "      <th>total_area</th>\n",
       "      <th>first_day_exposition</th>\n",
       "      <th>rooms</th>\n",
       "      <th>ceiling_height</th>\n",
       "      <th>floors_total</th>\n",
       "      <th>living_area</th>\n",
       "      <th>floor</th>\n",
       "      <th>is_apartment</th>\n",
       "      <th>...</th>\n",
       "      <th>kitchen_area</th>\n",
       "      <th>balcony</th>\n",
       "      <th>locality_name</th>\n",
       "      <th>airports_nearest</th>\n",
       "      <th>cityCenters_nearest</th>\n",
       "      <th>parks_around3000</th>\n",
       "      <th>parks_nearest</th>\n",
       "      <th>ponds_around3000</th>\n",
       "      <th>ponds_nearest</th>\n",
       "      <th>days_exposition</th>\n",
       "    </tr>\n",
       "  </thead>\n",
       "  <tbody>\n",
       "    <tr>\n",
       "      <th>0</th>\n",
       "      <td>20</td>\n",
       "      <td>13000000.0</td>\n",
       "      <td>108.0</td>\n",
       "      <td>2019-03-07T00:00:00</td>\n",
       "      <td>3</td>\n",
       "      <td>2.70</td>\n",
       "      <td>16.0</td>\n",
       "      <td>51.0</td>\n",
       "      <td>8</td>\n",
       "      <td>NaN</td>\n",
       "      <td>...</td>\n",
       "      <td>25.0</td>\n",
       "      <td>NaN</td>\n",
       "      <td>Санкт-Петербург</td>\n",
       "      <td>18863.0</td>\n",
       "      <td>16028.0</td>\n",
       "      <td>1.0</td>\n",
       "      <td>482.0</td>\n",
       "      <td>2.0</td>\n",
       "      <td>755.0</td>\n",
       "      <td>NaN</td>\n",
       "    </tr>\n",
       "    <tr>\n",
       "      <th>1</th>\n",
       "      <td>7</td>\n",
       "      <td>3350000.0</td>\n",
       "      <td>40.4</td>\n",
       "      <td>2018-12-04T00:00:00</td>\n",
       "      <td>1</td>\n",
       "      <td>NaN</td>\n",
       "      <td>11.0</td>\n",
       "      <td>18.6</td>\n",
       "      <td>1</td>\n",
       "      <td>NaN</td>\n",
       "      <td>...</td>\n",
       "      <td>11.0</td>\n",
       "      <td>2.0</td>\n",
       "      <td>посёлок Шушары</td>\n",
       "      <td>12817.0</td>\n",
       "      <td>18603.0</td>\n",
       "      <td>0.0</td>\n",
       "      <td>NaN</td>\n",
       "      <td>0.0</td>\n",
       "      <td>NaN</td>\n",
       "      <td>81.0</td>\n",
       "    </tr>\n",
       "    <tr>\n",
       "      <th>2</th>\n",
       "      <td>10</td>\n",
       "      <td>5196000.0</td>\n",
       "      <td>56.0</td>\n",
       "      <td>2015-08-20T00:00:00</td>\n",
       "      <td>2</td>\n",
       "      <td>NaN</td>\n",
       "      <td>5.0</td>\n",
       "      <td>34.3</td>\n",
       "      <td>4</td>\n",
       "      <td>NaN</td>\n",
       "      <td>...</td>\n",
       "      <td>8.3</td>\n",
       "      <td>0.0</td>\n",
       "      <td>Санкт-Петербург</td>\n",
       "      <td>21741.0</td>\n",
       "      <td>13933.0</td>\n",
       "      <td>1.0</td>\n",
       "      <td>90.0</td>\n",
       "      <td>2.0</td>\n",
       "      <td>574.0</td>\n",
       "      <td>558.0</td>\n",
       "    </tr>\n",
       "    <tr>\n",
       "      <th>3</th>\n",
       "      <td>0</td>\n",
       "      <td>64900000.0</td>\n",
       "      <td>159.0</td>\n",
       "      <td>2015-07-24T00:00:00</td>\n",
       "      <td>3</td>\n",
       "      <td>NaN</td>\n",
       "      <td>14.0</td>\n",
       "      <td>NaN</td>\n",
       "      <td>9</td>\n",
       "      <td>NaN</td>\n",
       "      <td>...</td>\n",
       "      <td>NaN</td>\n",
       "      <td>0.0</td>\n",
       "      <td>Санкт-Петербург</td>\n",
       "      <td>28098.0</td>\n",
       "      <td>6800.0</td>\n",
       "      <td>2.0</td>\n",
       "      <td>84.0</td>\n",
       "      <td>3.0</td>\n",
       "      <td>234.0</td>\n",
       "      <td>424.0</td>\n",
       "    </tr>\n",
       "    <tr>\n",
       "      <th>4</th>\n",
       "      <td>2</td>\n",
       "      <td>10000000.0</td>\n",
       "      <td>100.0</td>\n",
       "      <td>2018-06-19T00:00:00</td>\n",
       "      <td>2</td>\n",
       "      <td>3.03</td>\n",
       "      <td>14.0</td>\n",
       "      <td>32.0</td>\n",
       "      <td>13</td>\n",
       "      <td>NaN</td>\n",
       "      <td>...</td>\n",
       "      <td>41.0</td>\n",
       "      <td>NaN</td>\n",
       "      <td>Санкт-Петербург</td>\n",
       "      <td>31856.0</td>\n",
       "      <td>8098.0</td>\n",
       "      <td>2.0</td>\n",
       "      <td>112.0</td>\n",
       "      <td>1.0</td>\n",
       "      <td>48.0</td>\n",
       "      <td>121.0</td>\n",
       "    </tr>\n",
       "  </tbody>\n",
       "</table>\n",
       "<p>5 rows × 22 columns</p>\n",
       "</div>"
      ],
      "text/plain": [
       "   total_images  last_price  total_area first_day_exposition  rooms  \\\n",
       "0            20  13000000.0       108.0  2019-03-07T00:00:00      3   \n",
       "1             7   3350000.0        40.4  2018-12-04T00:00:00      1   \n",
       "2            10   5196000.0        56.0  2015-08-20T00:00:00      2   \n",
       "3             0  64900000.0       159.0  2015-07-24T00:00:00      3   \n",
       "4             2  10000000.0       100.0  2018-06-19T00:00:00      2   \n",
       "\n",
       "   ceiling_height  floors_total  living_area  floor is_apartment  ...  \\\n",
       "0            2.70          16.0         51.0      8          NaN  ...   \n",
       "1             NaN          11.0         18.6      1          NaN  ...   \n",
       "2             NaN           5.0         34.3      4          NaN  ...   \n",
       "3             NaN          14.0          NaN      9          NaN  ...   \n",
       "4            3.03          14.0         32.0     13          NaN  ...   \n",
       "\n",
       "   kitchen_area  balcony    locality_name  airports_nearest  \\\n",
       "0          25.0      NaN  Санкт-Петербург           18863.0   \n",
       "1          11.0      2.0   посёлок Шушары           12817.0   \n",
       "2           8.3      0.0  Санкт-Петербург           21741.0   \n",
       "3           NaN      0.0  Санкт-Петербург           28098.0   \n",
       "4          41.0      NaN  Санкт-Петербург           31856.0   \n",
       "\n",
       "  cityCenters_nearest  parks_around3000  parks_nearest  ponds_around3000  \\\n",
       "0             16028.0               1.0          482.0               2.0   \n",
       "1             18603.0               0.0            NaN               0.0   \n",
       "2             13933.0               1.0           90.0               2.0   \n",
       "3              6800.0               2.0           84.0               3.0   \n",
       "4              8098.0               2.0          112.0               1.0   \n",
       "\n",
       "   ponds_nearest  days_exposition  \n",
       "0          755.0              NaN  \n",
       "1            NaN             81.0  \n",
       "2          574.0            558.0  \n",
       "3          234.0            424.0  \n",
       "4           48.0            121.0  \n",
       "\n",
       "[5 rows x 22 columns]"
      ]
     },
     "metadata": {},
     "output_type": "display_data"
    }
   ],
   "source": [
    "display(data.head(5)) "
   ]
  },
  {
   "cell_type": "markdown",
   "metadata": {},
   "source": [
    "Просмотрел как выглядит таблица"
   ]
  },
  {
   "cell_type": "code",
   "execution_count": 4,
   "metadata": {},
   "outputs": [
    {
     "name": "stdout",
     "output_type": "stream",
     "text": [
      "<class 'pandas.core.frame.DataFrame'>\n",
      "RangeIndex: 23699 entries, 0 to 23698\n",
      "Data columns (total 22 columns):\n",
      " #   Column                Non-Null Count  Dtype  \n",
      "---  ------                --------------  -----  \n",
      " 0   total_images          23699 non-null  int64  \n",
      " 1   last_price            23699 non-null  float64\n",
      " 2   total_area            23699 non-null  float64\n",
      " 3   first_day_exposition  23699 non-null  object \n",
      " 4   rooms                 23699 non-null  int64  \n",
      " 5   ceiling_height        14504 non-null  float64\n",
      " 6   floors_total          23613 non-null  float64\n",
      " 7   living_area           21796 non-null  float64\n",
      " 8   floor                 23699 non-null  int64  \n",
      " 9   is_apartment          2775 non-null   object \n",
      " 10  studio                23699 non-null  bool   \n",
      " 11  open_plan             23699 non-null  bool   \n",
      " 12  kitchen_area          21421 non-null  float64\n",
      " 13  balcony               12180 non-null  float64\n",
      " 14  locality_name         23650 non-null  object \n",
      " 15  airports_nearest      18157 non-null  float64\n",
      " 16  cityCenters_nearest   18180 non-null  float64\n",
      " 17  parks_around3000      18181 non-null  float64\n",
      " 18  parks_nearest         8079 non-null   float64\n",
      " 19  ponds_around3000      18181 non-null  float64\n",
      " 20  ponds_nearest         9110 non-null   float64\n",
      " 21  days_exposition       20518 non-null  float64\n",
      "dtypes: bool(2), float64(14), int64(3), object(3)\n",
      "memory usage: 3.7+ MB\n"
     ]
    }
   ],
   "source": [
    "data.info()"
   ]
  },
  {
   "cell_type": "markdown",
   "metadata": {},
   "source": [
    "Просмотрел количество столбцов, отдельно записал себе какой тип данных в каждом столбце"
   ]
  },
  {
   "cell_type": "code",
   "execution_count": 5,
   "metadata": {},
   "outputs": [
    {
     "data": {
      "image/png": "[encoded data removed]",
      "text/plain": [
       "<Figure size 1080x1440 with 20 Axes>"
      ]
     },
     "metadata": {
      "needs_background": "light"
     },
     "output_type": "display_data"
    }
   ],
   "source": [
    "data.hist(figsize=(15, 20)); "
   ]
  },
  {
   "cell_type": "markdown",
   "metadata": {},
   "source": [
    "Построил гистаграмы для всей таблицы"
   ]
  },
  {
   "cell_type": "markdown",
   "metadata": {},
   "source": [
    "## Шаг 2. Предобработка данных."
   ]
  },
  {
   "cell_type": "markdown",
   "metadata": {},
   "source": [
    "### Шаг 2.1"
   ]
  },
  {
   "cell_type": "code",
   "execution_count": 8,
   "metadata": {
    "scrolled": false
   },
   "outputs": [
    {
     "name": "stdout",
     "output_type": "stream",
     "text": [
      "Количество явных дубликатов: 0\n"
     ]
    }
   ],
   "source": [
    "print('Количество явных дубликатов:', data.duplicated().sum())"
   ]
  },
  {
   "cell_type": "markdown",
   "metadata": {},
   "source": [
    "Проверка на явные дубликаты"
   ]
  },
  {
   "cell_type": "code",
   "execution_count": 9,
   "metadata": {},
   "outputs": [
    {
     "name": "stdout",
     "output_type": "stream",
     "text": [
      "Количества пропущенных значений total_images                0\n",
      "last_price                  0\n",
      "total_area                  0\n",
      "first_day_exposition        0\n",
      "rooms                       0\n",
      "ceiling_height           9195\n",
      "floors_total               86\n",
      "living_area              1903\n",
      "floor                       0\n",
      "is_apartment            20924\n",
      "studio                      0\n",
      "open_plan                   0\n",
      "kitchen_area             2278\n",
      "balcony                 11519\n",
      "locality_name              49\n",
      "airports_nearest         5542\n",
      "cityCenters_nearest      5519\n",
      "parks_around3000         5518\n",
      "parks_nearest           15620\n",
      "ponds_around3000         5518\n",
      "ponds_nearest           14589\n",
      "days_exposition          3181\n",
      "dtype: int64\n"
     ]
    }
   ],
   "source": [
    "print('Количества пропущенных значений', data.isna().sum())"
   ]
  },
  {
   "cell_type": "markdown",
   "metadata": {},
   "source": [
    "Подсчёт количества пропущенных значений по всем столбцам"
   ]
  },
  {
   "cell_type": "code",
   "execution_count": 10,
   "metadata": {},
   "outputs": [
    {
     "name": "stdout",
     "output_type": "stream",
     "text": [
      "Количество уникальны значений total_images              38\n",
      "last_price              2978\n",
      "total_area              2182\n",
      "first_day_exposition    1491\n",
      "rooms                     17\n",
      "ceiling_height           183\n",
      "floors_total              36\n",
      "living_area             1782\n",
      "floor                     33\n",
      "is_apartment               2\n",
      "studio                     2\n",
      "open_plan                  2\n",
      "kitchen_area             971\n",
      "balcony                    6\n",
      "locality_name            364\n",
      "airports_nearest        8275\n",
      "cityCenters_nearest     7642\n",
      "parks_around3000           4\n",
      "parks_nearest            995\n",
      "ponds_around3000           4\n",
      "ponds_nearest           1096\n",
      "days_exposition         1141\n",
      "dtype: int64\n"
     ]
    }
   ],
   "source": [
    "print('Количество уникальны значений', data.nunique()) "
   ]
  },
  {
   "cell_type": "markdown",
   "metadata": {},
   "source": [
    "Подсчет количества"
   ]
  },
  {
   "cell_type": "code",
   "execution_count": 11,
   "metadata": {},
   "outputs": [
    {
     "name": "stdout",
     "output_type": "stream",
     "text": [
      "0\n"
     ]
    }
   ],
   "source": [
    "print(data['total_images'].head(50).isnull().sum())"
   ]
  },
  {
   "cell_type": "markdown",
   "metadata": {},
   "source": [
    "- **total_images** - не нашел аномальные значения и пропущенные значения "
   ]
  },
  {
   "cell_type": "code",
   "execution_count": 12,
   "metadata": {},
   "outputs": [
    {
     "name": "stdout",
     "output_type": "stream",
     "text": [
      "0\n"
     ]
    }
   ],
   "source": [
    "print(data['last_price'].head(50).isnull().sum())"
   ]
  },
  {
   "cell_type": "markdown",
   "metadata": {},
   "source": [
    "- **last_price** - не нашел аномальные значения и пропущенные значения  "
   ]
  },
  {
   "cell_type": "code",
   "execution_count": 13,
   "metadata": {},
   "outputs": [
    {
     "name": "stdout",
     "output_type": "stream",
     "text": [
      "0\n"
     ]
    }
   ],
   "source": [
    "print(data['total_area'].head(50).isnull().sum())\n",
    "data['total_area'] = data['total_area'].replace('12190.0', '12190000.0')"
   ]
  },
  {
   "cell_type": "markdown",
   "metadata": {},
   "source": [
    "- **total_area** - не нашел аномальные значения и пропущенные значения "
   ]
  },
  {
   "cell_type": "code",
   "execution_count": 14,
   "metadata": {},
   "outputs": [
    {
     "data": {
      "text/html": [
       "<div>\n",
       "<style scoped>\n",
       "    .dataframe tbody tr th:only-of-type {\n",
       "        vertical-align: middle;\n",
       "    }\n",
       "\n",
       "    .dataframe tbody tr th {\n",
       "        vertical-align: top;\n",
       "    }\n",
       "\n",
       "    .dataframe thead th {\n",
       "        text-align: right;\n",
       "    }\n",
       "</style>\n",
       "<table border=\"1\" class=\"dataframe\">\n",
       "  <thead>\n",
       "    <tr style=\"text-align: right;\">\n",
       "      <th></th>\n",
       "      <th>total_images</th>\n",
       "      <th>last_price</th>\n",
       "      <th>total_area</th>\n",
       "      <th>first_day_exposition</th>\n",
       "      <th>rooms</th>\n",
       "      <th>ceiling_height</th>\n",
       "      <th>floors_total</th>\n",
       "      <th>living_area</th>\n",
       "      <th>floor</th>\n",
       "      <th>is_apartment</th>\n",
       "      <th>...</th>\n",
       "      <th>kitchen_area</th>\n",
       "      <th>balcony</th>\n",
       "      <th>locality_name</th>\n",
       "      <th>airports_nearest</th>\n",
       "      <th>cityCenters_nearest</th>\n",
       "      <th>parks_around3000</th>\n",
       "      <th>parks_nearest</th>\n",
       "      <th>ponds_around3000</th>\n",
       "      <th>ponds_nearest</th>\n",
       "      <th>days_exposition</th>\n",
       "    </tr>\n",
       "  </thead>\n",
       "  <tbody>\n",
       "    <tr>\n",
       "      <th>0</th>\n",
       "      <td>20</td>\n",
       "      <td>13000000.0</td>\n",
       "      <td>108.00</td>\n",
       "      <td>2019-03-07T00:00:00</td>\n",
       "      <td>3</td>\n",
       "      <td>2.70</td>\n",
       "      <td>16.0</td>\n",
       "      <td>51.00</td>\n",
       "      <td>8</td>\n",
       "      <td>NaN</td>\n",
       "      <td>...</td>\n",
       "      <td>25.00</td>\n",
       "      <td>NaN</td>\n",
       "      <td>Санкт-Петербург</td>\n",
       "      <td>18863.0</td>\n",
       "      <td>16028.0</td>\n",
       "      <td>1.0</td>\n",
       "      <td>482.0</td>\n",
       "      <td>2.0</td>\n",
       "      <td>755.0</td>\n",
       "      <td>NaN</td>\n",
       "    </tr>\n",
       "    <tr>\n",
       "      <th>1</th>\n",
       "      <td>7</td>\n",
       "      <td>3350000.0</td>\n",
       "      <td>40.40</td>\n",
       "      <td>2018-12-04T00:00:00</td>\n",
       "      <td>1</td>\n",
       "      <td>2.65</td>\n",
       "      <td>11.0</td>\n",
       "      <td>18.60</td>\n",
       "      <td>1</td>\n",
       "      <td>NaN</td>\n",
       "      <td>...</td>\n",
       "      <td>11.00</td>\n",
       "      <td>2.0</td>\n",
       "      <td>посёлок Шушары</td>\n",
       "      <td>12817.0</td>\n",
       "      <td>18603.0</td>\n",
       "      <td>0.0</td>\n",
       "      <td>NaN</td>\n",
       "      <td>0.0</td>\n",
       "      <td>NaN</td>\n",
       "      <td>81.0</td>\n",
       "    </tr>\n",
       "    <tr>\n",
       "      <th>2</th>\n",
       "      <td>10</td>\n",
       "      <td>5196000.0</td>\n",
       "      <td>56.00</td>\n",
       "      <td>2015-08-20T00:00:00</td>\n",
       "      <td>2</td>\n",
       "      <td>2.65</td>\n",
       "      <td>5.0</td>\n",
       "      <td>34.30</td>\n",
       "      <td>4</td>\n",
       "      <td>NaN</td>\n",
       "      <td>...</td>\n",
       "      <td>8.30</td>\n",
       "      <td>0.0</td>\n",
       "      <td>Санкт-Петербург</td>\n",
       "      <td>21741.0</td>\n",
       "      <td>13933.0</td>\n",
       "      <td>1.0</td>\n",
       "      <td>90.0</td>\n",
       "      <td>2.0</td>\n",
       "      <td>574.0</td>\n",
       "      <td>558.0</td>\n",
       "    </tr>\n",
       "    <tr>\n",
       "      <th>3</th>\n",
       "      <td>0</td>\n",
       "      <td>64900000.0</td>\n",
       "      <td>159.00</td>\n",
       "      <td>2015-07-24T00:00:00</td>\n",
       "      <td>3</td>\n",
       "      <td>2.65</td>\n",
       "      <td>14.0</td>\n",
       "      <td>NaN</td>\n",
       "      <td>9</td>\n",
       "      <td>NaN</td>\n",
       "      <td>...</td>\n",
       "      <td>NaN</td>\n",
       "      <td>0.0</td>\n",
       "      <td>Санкт-Петербург</td>\n",
       "      <td>28098.0</td>\n",
       "      <td>6800.0</td>\n",
       "      <td>2.0</td>\n",
       "      <td>84.0</td>\n",
       "      <td>3.0</td>\n",
       "      <td>234.0</td>\n",
       "      <td>424.0</td>\n",
       "    </tr>\n",
       "    <tr>\n",
       "      <th>4</th>\n",
       "      <td>2</td>\n",
       "      <td>10000000.0</td>\n",
       "      <td>100.00</td>\n",
       "      <td>2018-06-19T00:00:00</td>\n",
       "      <td>2</td>\n",
       "      <td>3.03</td>\n",
       "      <td>14.0</td>\n",
       "      <td>32.00</td>\n",
       "      <td>13</td>\n",
       "      <td>NaN</td>\n",
       "      <td>...</td>\n",
       "      <td>41.00</td>\n",
       "      <td>NaN</td>\n",
       "      <td>Санкт-Петербург</td>\n",
       "      <td>31856.0</td>\n",
       "      <td>8098.0</td>\n",
       "      <td>2.0</td>\n",
       "      <td>112.0</td>\n",
       "      <td>1.0</td>\n",
       "      <td>48.0</td>\n",
       "      <td>121.0</td>\n",
       "    </tr>\n",
       "    <tr>\n",
       "      <th>5</th>\n",
       "      <td>10</td>\n",
       "      <td>2890000.0</td>\n",
       "      <td>30.40</td>\n",
       "      <td>2018-09-10T00:00:00</td>\n",
       "      <td>1</td>\n",
       "      <td>2.65</td>\n",
       "      <td>12.0</td>\n",
       "      <td>14.40</td>\n",
       "      <td>5</td>\n",
       "      <td>NaN</td>\n",
       "      <td>...</td>\n",
       "      <td>9.10</td>\n",
       "      <td>NaN</td>\n",
       "      <td>городской посёлок Янино-1</td>\n",
       "      <td>NaN</td>\n",
       "      <td>NaN</td>\n",
       "      <td>NaN</td>\n",
       "      <td>NaN</td>\n",
       "      <td>NaN</td>\n",
       "      <td>NaN</td>\n",
       "      <td>55.0</td>\n",
       "    </tr>\n",
       "    <tr>\n",
       "      <th>6</th>\n",
       "      <td>6</td>\n",
       "      <td>3700000.0</td>\n",
       "      <td>37.30</td>\n",
       "      <td>2017-11-02T00:00:00</td>\n",
       "      <td>1</td>\n",
       "      <td>2.65</td>\n",
       "      <td>26.0</td>\n",
       "      <td>10.60</td>\n",
       "      <td>6</td>\n",
       "      <td>NaN</td>\n",
       "      <td>...</td>\n",
       "      <td>14.40</td>\n",
       "      <td>1.0</td>\n",
       "      <td>посёлок Парголово</td>\n",
       "      <td>52996.0</td>\n",
       "      <td>19143.0</td>\n",
       "      <td>0.0</td>\n",
       "      <td>NaN</td>\n",
       "      <td>0.0</td>\n",
       "      <td>NaN</td>\n",
       "      <td>155.0</td>\n",
       "    </tr>\n",
       "    <tr>\n",
       "      <th>7</th>\n",
       "      <td>5</td>\n",
       "      <td>7915000.0</td>\n",
       "      <td>71.60</td>\n",
       "      <td>2019-04-18T00:00:00</td>\n",
       "      <td>2</td>\n",
       "      <td>2.65</td>\n",
       "      <td>24.0</td>\n",
       "      <td>NaN</td>\n",
       "      <td>22</td>\n",
       "      <td>NaN</td>\n",
       "      <td>...</td>\n",
       "      <td>18.90</td>\n",
       "      <td>2.0</td>\n",
       "      <td>Санкт-Петербург</td>\n",
       "      <td>23982.0</td>\n",
       "      <td>11634.0</td>\n",
       "      <td>0.0</td>\n",
       "      <td>NaN</td>\n",
       "      <td>0.0</td>\n",
       "      <td>NaN</td>\n",
       "      <td>NaN</td>\n",
       "    </tr>\n",
       "    <tr>\n",
       "      <th>8</th>\n",
       "      <td>20</td>\n",
       "      <td>2900000.0</td>\n",
       "      <td>33.16</td>\n",
       "      <td>2018-05-23T00:00:00</td>\n",
       "      <td>1</td>\n",
       "      <td>2.65</td>\n",
       "      <td>27.0</td>\n",
       "      <td>15.43</td>\n",
       "      <td>26</td>\n",
       "      <td>NaN</td>\n",
       "      <td>...</td>\n",
       "      <td>8.81</td>\n",
       "      <td>NaN</td>\n",
       "      <td>посёлок Мурино</td>\n",
       "      <td>NaN</td>\n",
       "      <td>NaN</td>\n",
       "      <td>NaN</td>\n",
       "      <td>NaN</td>\n",
       "      <td>NaN</td>\n",
       "      <td>NaN</td>\n",
       "      <td>189.0</td>\n",
       "    </tr>\n",
       "    <tr>\n",
       "      <th>9</th>\n",
       "      <td>18</td>\n",
       "      <td>5400000.0</td>\n",
       "      <td>61.00</td>\n",
       "      <td>2017-02-26T00:00:00</td>\n",
       "      <td>3</td>\n",
       "      <td>2.50</td>\n",
       "      <td>9.0</td>\n",
       "      <td>43.60</td>\n",
       "      <td>7</td>\n",
       "      <td>NaN</td>\n",
       "      <td>...</td>\n",
       "      <td>6.50</td>\n",
       "      <td>2.0</td>\n",
       "      <td>Санкт-Петербург</td>\n",
       "      <td>50898.0</td>\n",
       "      <td>15008.0</td>\n",
       "      <td>0.0</td>\n",
       "      <td>NaN</td>\n",
       "      <td>0.0</td>\n",
       "      <td>NaN</td>\n",
       "      <td>289.0</td>\n",
       "    </tr>\n",
       "  </tbody>\n",
       "</table>\n",
       "<p>10 rows × 22 columns</p>\n",
       "</div>"
      ],
      "text/plain": [
       "   total_images  last_price  total_area first_day_exposition  rooms  \\\n",
       "0            20  13000000.0      108.00  2019-03-07T00:00:00      3   \n",
       "1             7   3350000.0       40.40  2018-12-04T00:00:00      1   \n",
       "2            10   5196000.0       56.00  2015-08-20T00:00:00      2   \n",
       "3             0  64900000.0      159.00  2015-07-24T00:00:00      3   \n",
       "4             2  10000000.0      100.00  2018-06-19T00:00:00      2   \n",
       "5            10   2890000.0       30.40  2018-09-10T00:00:00      1   \n",
       "6             6   3700000.0       37.30  2017-11-02T00:00:00      1   \n",
       "7             5   7915000.0       71.60  2019-04-18T00:00:00      2   \n",
       "8            20   2900000.0       33.16  2018-05-23T00:00:00      1   \n",
       "9            18   5400000.0       61.00  2017-02-26T00:00:00      3   \n",
       "\n",
       "   ceiling_height  floors_total  living_area  floor is_apartment  ...  \\\n",
       "0            2.70          16.0        51.00      8          NaN  ...   \n",
       "1            2.65          11.0        18.60      1          NaN  ...   \n",
       "2            2.65           5.0        34.30      4          NaN  ...   \n",
       "3            2.65          14.0          NaN      9          NaN  ...   \n",
       "4            3.03          14.0        32.00     13          NaN  ...   \n",
       "5            2.65          12.0        14.40      5          NaN  ...   \n",
       "6            2.65          26.0        10.60      6          NaN  ...   \n",
       "7            2.65          24.0          NaN     22          NaN  ...   \n",
       "8            2.65          27.0        15.43     26          NaN  ...   \n",
       "9            2.50           9.0        43.60      7          NaN  ...   \n",
       "\n",
       "   kitchen_area  balcony              locality_name  airports_nearest  \\\n",
       "0         25.00      NaN            Санкт-Петербург           18863.0   \n",
       "1         11.00      2.0             посёлок Шушары           12817.0   \n",
       "2          8.30      0.0            Санкт-Петербург           21741.0   \n",
       "3           NaN      0.0            Санкт-Петербург           28098.0   \n",
       "4         41.00      NaN            Санкт-Петербург           31856.0   \n",
       "5          9.10      NaN  городской посёлок Янино-1               NaN   \n",
       "6         14.40      1.0          посёлок Парголово           52996.0   \n",
       "7         18.90      2.0            Санкт-Петербург           23982.0   \n",
       "8          8.81      NaN             посёлок Мурино               NaN   \n",
       "9          6.50      2.0            Санкт-Петербург           50898.0   \n",
       "\n",
       "  cityCenters_nearest  parks_around3000  parks_nearest  ponds_around3000  \\\n",
       "0             16028.0               1.0          482.0               2.0   \n",
       "1             18603.0               0.0            NaN               0.0   \n",
       "2             13933.0               1.0           90.0               2.0   \n",
       "3              6800.0               2.0           84.0               3.0   \n",
       "4              8098.0               2.0          112.0               1.0   \n",
       "5                 NaN               NaN            NaN               NaN   \n",
       "6             19143.0               0.0            NaN               0.0   \n",
       "7             11634.0               0.0            NaN               0.0   \n",
       "8                 NaN               NaN            NaN               NaN   \n",
       "9             15008.0               0.0            NaN               0.0   \n",
       "\n",
       "   ponds_nearest  days_exposition  \n",
       "0          755.0              NaN  \n",
       "1            NaN             81.0  \n",
       "2          574.0            558.0  \n",
       "3          234.0            424.0  \n",
       "4           48.0            121.0  \n",
       "5            NaN             55.0  \n",
       "6            NaN            155.0  \n",
       "7            NaN              NaN  \n",
       "8            NaN            189.0  \n",
       "9            NaN            289.0  \n",
       "\n",
       "[10 rows x 22 columns]"
      ]
     },
     "metadata": {},
     "output_type": "display_data"
    }
   ],
   "source": [
    "data['ceiling_height'].median() # подсчет медианного значения столбца ceiling_height\n",
    "data['ceiling_height'] = data['ceiling_height'].fillna(data['ceiling_height'].median()) # заменил все пропущенные значения на медианные\n",
    "data = (data[(data['ceiling_height']>2.0) | (data['ceiling_height']<5.0)]) # оставил в data только квартиры с высотой от 2 до 5 метров\n",
    "display(data.head(10))"
   ]
  },
  {
   "cell_type": "markdown",
   "metadata": {},
   "source": [
    "- **ceiling_height** - были обнаружены не верно заполненные данные, данные были исключены из датасета, в выборке остались только от 2-5 метров. Причина ошибки не верно указана высота, например вместо 2.5 м. указано 25.0 м.    "
   ]
  },
  {
   "cell_type": "code",
   "execution_count": 15,
   "metadata": {
    "scrolled": false
   },
   "outputs": [
    {
     "name": "stdout",
     "output_type": "stream",
     "text": [
      "<class 'pandas.core.frame.DataFrame'>\n",
      "Int64Index: 23699 entries, 0 to 23698\n",
      "Data columns (total 22 columns):\n",
      " #   Column                Non-Null Count  Dtype         \n",
      "---  ------                --------------  -----         \n",
      " 0   total_images          23699 non-null  int64         \n",
      " 1   last_price            23699 non-null  float64       \n",
      " 2   total_area            23699 non-null  float64       \n",
      " 3   first_day_exposition  23699 non-null  datetime64[ns]\n",
      " 4   rooms                 23699 non-null  int64         \n",
      " 5   ceiling_height        23699 non-null  float64       \n",
      " 6   floors_total          23613 non-null  float64       \n",
      " 7   living_area           21796 non-null  float64       \n",
      " 8   floor                 23699 non-null  int64         \n",
      " 9   is_apartment          2775 non-null   object        \n",
      " 10  studio                23699 non-null  bool          \n",
      " 11  open_plan             23699 non-null  bool          \n",
      " 12  kitchen_area          21421 non-null  float64       \n",
      " 13  balcony               12180 non-null  float64       \n",
      " 14  locality_name         23650 non-null  object        \n",
      " 15  airports_nearest      18157 non-null  float64       \n",
      " 16  cityCenters_nearest   18180 non-null  float64       \n",
      " 17  parks_around3000      18181 non-null  float64       \n",
      " 18  parks_nearest         8079 non-null   float64       \n",
      " 19  ponds_around3000      18181 non-null  float64       \n",
      " 20  ponds_nearest         9110 non-null   float64       \n",
      " 21  days_exposition       20518 non-null  float64       \n",
      "dtypes: bool(2), datetime64[ns](1), float64(14), int64(3), object(2)\n",
      "memory usage: 3.8+ MB\n"
     ]
    }
   ],
   "source": [
    "data['first_day_exposition'] = pd.to_datetime(data['first_day_exposition'], format='%Y-%m-%dT%H:%M:%S')\n",
    "data.info()"
   ]
  },
  {
   "cell_type": "markdown",
   "metadata": {},
   "source": [
    "- **first_day_exposition** - изменил типа данных в столбце и преобразовал значение столбца функцией pd.to_datetime     "
   ]
  },
  {
   "cell_type": "code",
   "execution_count": 16,
   "metadata": {
    "scrolled": true
   },
   "outputs": [
    {
     "name": "stdout",
     "output_type": "stream",
     "text": [
      "0\n"
     ]
    }
   ],
   "source": [
    "print(data['rooms'].head(50).isnull().sum())"
   ]
  },
  {
   "cell_type": "markdown",
   "metadata": {},
   "source": [
    "- **rooms** - не нашел аномальные значения и пропущенные значения  "
   ]
  },
  {
   "cell_type": "code",
   "execution_count": 17,
   "metadata": {
    "scrolled": false
   },
   "outputs": [
    {
     "data": {
      "text/plain": [
       "0    16\n",
       "1    11\n",
       "2     5\n",
       "3    14\n",
       "4    14\n",
       "5    12\n",
       "6    26\n",
       "7    24\n",
       "8    27\n",
       "9     9\n",
       "Name: floors_total, dtype: int32"
      ]
     },
     "metadata": {},
     "output_type": "display_data"
    }
   ],
   "source": [
    "data['floors_total'].median() # подсчет медианного значения столбца floors_total \n",
    "data['floors_total'] = data['floors_total'].fillna(data['floors_total'].median()) # заменил все пропущенные значения на медианные\n",
    "data['floors_total'] = data['floors_total'].astype(int) # изменил тип данных с float на int\n",
    "data['floors_total'].isnull().sum()\n",
    "display(data['floors_total'].head(10)) # просмотрел первые 10 значений обновленной таблицы, внешне нет проблем"
   ]
  },
  {
   "cell_type": "markdown",
   "metadata": {},
   "source": [
    "- **floors_total** - были обнаружены пропуски в значениях, они были заменены на медианные значения. Ошибки связаны с незаполнением данных пользователем при размещение объявления. Изменил тип данных с float на int  "
   ]
  },
  {
   "cell_type": "code",
   "execution_count": 18,
   "metadata": {
    "scrolled": false
   },
   "outputs": [
    {
     "data": {
      "text/html": [
       "<div>\n",
       "<style scoped>\n",
       "    .dataframe tbody tr th:only-of-type {\n",
       "        vertical-align: middle;\n",
       "    }\n",
       "\n",
       "    .dataframe tbody tr th {\n",
       "        vertical-align: top;\n",
       "    }\n",
       "\n",
       "    .dataframe thead th {\n",
       "        text-align: right;\n",
       "    }\n",
       "</style>\n",
       "<table border=\"1\" class=\"dataframe\">\n",
       "  <thead>\n",
       "    <tr style=\"text-align: right;\">\n",
       "      <th></th>\n",
       "      <th>total_images</th>\n",
       "      <th>last_price</th>\n",
       "      <th>total_area</th>\n",
       "      <th>first_day_exposition</th>\n",
       "      <th>rooms</th>\n",
       "      <th>ceiling_height</th>\n",
       "      <th>floors_total</th>\n",
       "      <th>living_area</th>\n",
       "      <th>floor</th>\n",
       "      <th>is_apartment</th>\n",
       "      <th>...</th>\n",
       "      <th>kitchen_area</th>\n",
       "      <th>balcony</th>\n",
       "      <th>locality_name</th>\n",
       "      <th>airports_nearest</th>\n",
       "      <th>cityCenters_nearest</th>\n",
       "      <th>parks_around3000</th>\n",
       "      <th>parks_nearest</th>\n",
       "      <th>ponds_around3000</th>\n",
       "      <th>ponds_nearest</th>\n",
       "      <th>days_exposition</th>\n",
       "    </tr>\n",
       "  </thead>\n",
       "  <tbody>\n",
       "    <tr>\n",
       "      <th>0</th>\n",
       "      <td>20</td>\n",
       "      <td>13000000.0</td>\n",
       "      <td>108.00</td>\n",
       "      <td>2019-03-07</td>\n",
       "      <td>3</td>\n",
       "      <td>2.70</td>\n",
       "      <td>16</td>\n",
       "      <td>51.00</td>\n",
       "      <td>8</td>\n",
       "      <td>NaN</td>\n",
       "      <td>...</td>\n",
       "      <td>25.00</td>\n",
       "      <td>NaN</td>\n",
       "      <td>Санкт-Петербург</td>\n",
       "      <td>18863.0</td>\n",
       "      <td>16028.0</td>\n",
       "      <td>1.0</td>\n",
       "      <td>482.0</td>\n",
       "      <td>2.0</td>\n",
       "      <td>755.0</td>\n",
       "      <td>NaN</td>\n",
       "    </tr>\n",
       "    <tr>\n",
       "      <th>1</th>\n",
       "      <td>7</td>\n",
       "      <td>3350000.0</td>\n",
       "      <td>40.40</td>\n",
       "      <td>2018-12-04</td>\n",
       "      <td>1</td>\n",
       "      <td>2.65</td>\n",
       "      <td>11</td>\n",
       "      <td>18.60</td>\n",
       "      <td>1</td>\n",
       "      <td>NaN</td>\n",
       "      <td>...</td>\n",
       "      <td>11.00</td>\n",
       "      <td>2.0</td>\n",
       "      <td>посёлок Шушары</td>\n",
       "      <td>12817.0</td>\n",
       "      <td>18603.0</td>\n",
       "      <td>0.0</td>\n",
       "      <td>NaN</td>\n",
       "      <td>0.0</td>\n",
       "      <td>NaN</td>\n",
       "      <td>81.0</td>\n",
       "    </tr>\n",
       "    <tr>\n",
       "      <th>2</th>\n",
       "      <td>10</td>\n",
       "      <td>5196000.0</td>\n",
       "      <td>56.00</td>\n",
       "      <td>2015-08-20</td>\n",
       "      <td>2</td>\n",
       "      <td>2.65</td>\n",
       "      <td>5</td>\n",
       "      <td>34.30</td>\n",
       "      <td>4</td>\n",
       "      <td>NaN</td>\n",
       "      <td>...</td>\n",
       "      <td>8.30</td>\n",
       "      <td>0.0</td>\n",
       "      <td>Санкт-Петербург</td>\n",
       "      <td>21741.0</td>\n",
       "      <td>13933.0</td>\n",
       "      <td>1.0</td>\n",
       "      <td>90.0</td>\n",
       "      <td>2.0</td>\n",
       "      <td>574.0</td>\n",
       "      <td>558.0</td>\n",
       "    </tr>\n",
       "    <tr>\n",
       "      <th>3</th>\n",
       "      <td>0</td>\n",
       "      <td>64900000.0</td>\n",
       "      <td>159.00</td>\n",
       "      <td>2015-07-24</td>\n",
       "      <td>3</td>\n",
       "      <td>2.65</td>\n",
       "      <td>14</td>\n",
       "      <td>30.00</td>\n",
       "      <td>9</td>\n",
       "      <td>NaN</td>\n",
       "      <td>...</td>\n",
       "      <td>NaN</td>\n",
       "      <td>0.0</td>\n",
       "      <td>Санкт-Петербург</td>\n",
       "      <td>28098.0</td>\n",
       "      <td>6800.0</td>\n",
       "      <td>2.0</td>\n",
       "      <td>84.0</td>\n",
       "      <td>3.0</td>\n",
       "      <td>234.0</td>\n",
       "      <td>424.0</td>\n",
       "    </tr>\n",
       "    <tr>\n",
       "      <th>4</th>\n",
       "      <td>2</td>\n",
       "      <td>10000000.0</td>\n",
       "      <td>100.00</td>\n",
       "      <td>2018-06-19</td>\n",
       "      <td>2</td>\n",
       "      <td>3.03</td>\n",
       "      <td>14</td>\n",
       "      <td>32.00</td>\n",
       "      <td>13</td>\n",
       "      <td>NaN</td>\n",
       "      <td>...</td>\n",
       "      <td>41.00</td>\n",
       "      <td>NaN</td>\n",
       "      <td>Санкт-Петербург</td>\n",
       "      <td>31856.0</td>\n",
       "      <td>8098.0</td>\n",
       "      <td>2.0</td>\n",
       "      <td>112.0</td>\n",
       "      <td>1.0</td>\n",
       "      <td>48.0</td>\n",
       "      <td>121.0</td>\n",
       "    </tr>\n",
       "    <tr>\n",
       "      <th>5</th>\n",
       "      <td>10</td>\n",
       "      <td>2890000.0</td>\n",
       "      <td>30.40</td>\n",
       "      <td>2018-09-10</td>\n",
       "      <td>1</td>\n",
       "      <td>2.65</td>\n",
       "      <td>12</td>\n",
       "      <td>14.40</td>\n",
       "      <td>5</td>\n",
       "      <td>NaN</td>\n",
       "      <td>...</td>\n",
       "      <td>9.10</td>\n",
       "      <td>NaN</td>\n",
       "      <td>городской посёлок Янино-1</td>\n",
       "      <td>NaN</td>\n",
       "      <td>NaN</td>\n",
       "      <td>NaN</td>\n",
       "      <td>NaN</td>\n",
       "      <td>NaN</td>\n",
       "      <td>NaN</td>\n",
       "      <td>55.0</td>\n",
       "    </tr>\n",
       "    <tr>\n",
       "      <th>6</th>\n",
       "      <td>6</td>\n",
       "      <td>3700000.0</td>\n",
       "      <td>37.30</td>\n",
       "      <td>2017-11-02</td>\n",
       "      <td>1</td>\n",
       "      <td>2.65</td>\n",
       "      <td>26</td>\n",
       "      <td>10.60</td>\n",
       "      <td>6</td>\n",
       "      <td>NaN</td>\n",
       "      <td>...</td>\n",
       "      <td>14.40</td>\n",
       "      <td>1.0</td>\n",
       "      <td>посёлок Парголово</td>\n",
       "      <td>52996.0</td>\n",
       "      <td>19143.0</td>\n",
       "      <td>0.0</td>\n",
       "      <td>NaN</td>\n",
       "      <td>0.0</td>\n",
       "      <td>NaN</td>\n",
       "      <td>155.0</td>\n",
       "    </tr>\n",
       "    <tr>\n",
       "      <th>7</th>\n",
       "      <td>5</td>\n",
       "      <td>7915000.0</td>\n",
       "      <td>71.60</td>\n",
       "      <td>2019-04-18</td>\n",
       "      <td>2</td>\n",
       "      <td>2.65</td>\n",
       "      <td>24</td>\n",
       "      <td>30.00</td>\n",
       "      <td>22</td>\n",
       "      <td>NaN</td>\n",
       "      <td>...</td>\n",
       "      <td>18.90</td>\n",
       "      <td>2.0</td>\n",
       "      <td>Санкт-Петербург</td>\n",
       "      <td>23982.0</td>\n",
       "      <td>11634.0</td>\n",
       "      <td>0.0</td>\n",
       "      <td>NaN</td>\n",
       "      <td>0.0</td>\n",
       "      <td>NaN</td>\n",
       "      <td>NaN</td>\n",
       "    </tr>\n",
       "    <tr>\n",
       "      <th>8</th>\n",
       "      <td>20</td>\n",
       "      <td>2900000.0</td>\n",
       "      <td>33.16</td>\n",
       "      <td>2018-05-23</td>\n",
       "      <td>1</td>\n",
       "      <td>2.65</td>\n",
       "      <td>27</td>\n",
       "      <td>15.43</td>\n",
       "      <td>26</td>\n",
       "      <td>NaN</td>\n",
       "      <td>...</td>\n",
       "      <td>8.81</td>\n",
       "      <td>NaN</td>\n",
       "      <td>посёлок Мурино</td>\n",
       "      <td>NaN</td>\n",
       "      <td>NaN</td>\n",
       "      <td>NaN</td>\n",
       "      <td>NaN</td>\n",
       "      <td>NaN</td>\n",
       "      <td>NaN</td>\n",
       "      <td>189.0</td>\n",
       "    </tr>\n",
       "    <tr>\n",
       "      <th>9</th>\n",
       "      <td>18</td>\n",
       "      <td>5400000.0</td>\n",
       "      <td>61.00</td>\n",
       "      <td>2017-02-26</td>\n",
       "      <td>3</td>\n",
       "      <td>2.50</td>\n",
       "      <td>9</td>\n",
       "      <td>43.60</td>\n",
       "      <td>7</td>\n",
       "      <td>NaN</td>\n",
       "      <td>...</td>\n",
       "      <td>6.50</td>\n",
       "      <td>2.0</td>\n",
       "      <td>Санкт-Петербург</td>\n",
       "      <td>50898.0</td>\n",
       "      <td>15008.0</td>\n",
       "      <td>0.0</td>\n",
       "      <td>NaN</td>\n",
       "      <td>0.0</td>\n",
       "      <td>NaN</td>\n",
       "      <td>289.0</td>\n",
       "    </tr>\n",
       "  </tbody>\n",
       "</table>\n",
       "<p>10 rows × 22 columns</p>\n",
       "</div>"
      ],
      "text/plain": [
       "   total_images  last_price  total_area first_day_exposition  rooms  \\\n",
       "0            20  13000000.0      108.00           2019-03-07      3   \n",
       "1             7   3350000.0       40.40           2018-12-04      1   \n",
       "2            10   5196000.0       56.00           2015-08-20      2   \n",
       "3             0  64900000.0      159.00           2015-07-24      3   \n",
       "4             2  10000000.0      100.00           2018-06-19      2   \n",
       "5            10   2890000.0       30.40           2018-09-10      1   \n",
       "6             6   3700000.0       37.30           2017-11-02      1   \n",
       "7             5   7915000.0       71.60           2019-04-18      2   \n",
       "8            20   2900000.0       33.16           2018-05-23      1   \n",
       "9            18   5400000.0       61.00           2017-02-26      3   \n",
       "\n",
       "   ceiling_height  floors_total  living_area  floor is_apartment  ...  \\\n",
       "0            2.70            16        51.00      8          NaN  ...   \n",
       "1            2.65            11        18.60      1          NaN  ...   \n",
       "2            2.65             5        34.30      4          NaN  ...   \n",
       "3            2.65            14        30.00      9          NaN  ...   \n",
       "4            3.03            14        32.00     13          NaN  ...   \n",
       "5            2.65            12        14.40      5          NaN  ...   \n",
       "6            2.65            26        10.60      6          NaN  ...   \n",
       "7            2.65            24        30.00     22          NaN  ...   \n",
       "8            2.65            27        15.43     26          NaN  ...   \n",
       "9            2.50             9        43.60      7          NaN  ...   \n",
       "\n",
       "   kitchen_area  balcony              locality_name  airports_nearest  \\\n",
       "0         25.00      NaN            Санкт-Петербург           18863.0   \n",
       "1         11.00      2.0             посёлок Шушары           12817.0   \n",
       "2          8.30      0.0            Санкт-Петербург           21741.0   \n",
       "3           NaN      0.0            Санкт-Петербург           28098.0   \n",
       "4         41.00      NaN            Санкт-Петербург           31856.0   \n",
       "5          9.10      NaN  городской посёлок Янино-1               NaN   \n",
       "6         14.40      1.0          посёлок Парголово           52996.0   \n",
       "7         18.90      2.0            Санкт-Петербург           23982.0   \n",
       "8          8.81      NaN             посёлок Мурино               NaN   \n",
       "9          6.50      2.0            Санкт-Петербург           50898.0   \n",
       "\n",
       "  cityCenters_nearest  parks_around3000  parks_nearest  ponds_around3000  \\\n",
       "0             16028.0               1.0          482.0               2.0   \n",
       "1             18603.0               0.0            NaN               0.0   \n",
       "2             13933.0               1.0           90.0               2.0   \n",
       "3              6800.0               2.0           84.0               3.0   \n",
       "4              8098.0               2.0          112.0               1.0   \n",
       "5                 NaN               NaN            NaN               NaN   \n",
       "6             19143.0               0.0            NaN               0.0   \n",
       "7             11634.0               0.0            NaN               0.0   \n",
       "8                 NaN               NaN            NaN               NaN   \n",
       "9             15008.0               0.0            NaN               0.0   \n",
       "\n",
       "   ponds_nearest  days_exposition  \n",
       "0          755.0              NaN  \n",
       "1            NaN             81.0  \n",
       "2          574.0            558.0  \n",
       "3          234.0            424.0  \n",
       "4           48.0            121.0  \n",
       "5            NaN             55.0  \n",
       "6            NaN            155.0  \n",
       "7            NaN              NaN  \n",
       "8            NaN            189.0  \n",
       "9            NaN            289.0  \n",
       "\n",
       "[10 rows x 22 columns]"
      ]
     },
     "metadata": {},
     "output_type": "display_data"
    }
   ],
   "source": [
    "data['living_area'].isnull().sum()\n",
    "data['living_area'] = data['living_area'].fillna(data['living_area'].median())\n",
    "display(data.head(10))"
   ]
  },
  {
   "cell_type": "markdown",
   "metadata": {},
   "source": [
    "- **living_area** - были обнаружены пропуски в значениях, они были заменены на медианные значения. Ошибки связаны с незаполнением данных пользователем при размещение объявления  "
   ]
  },
  {
   "cell_type": "code",
   "execution_count": null,
   "metadata": {},
   "outputs": [],
   "source": [
    "data['floor'].isnull().sum()"
   ]
  },
  {
   "cell_type": "markdown",
   "metadata": {},
   "source": [
    "- **floor** - не нашел аномальные значения и пропущенные значения  "
   ]
  },
  {
   "cell_type": "code",
   "execution_count": 19,
   "metadata": {},
   "outputs": [],
   "source": [
    "data['is_apartment'].isnull().sum()\n",
    "data['is_apartment'] = data['is_apartment'].fillna(True)"
   ]
  },
  {
   "cell_type": "markdown",
   "metadata": {},
   "source": [
    "- **is_apartment** - были обнаружены пропуски в значениях, заменил все Nan на TRUE. Ошибки связаны с незаполнением данных пользователем при размещение объявления "
   ]
  },
  {
   "cell_type": "code",
   "execution_count": null,
   "metadata": {
    "scrolled": true
   },
   "outputs": [],
   "source": [
    "data['studio'].isnull().sum() # Nan нет, значения только TRUE и FALSE\n",
    "display(data['studio'].head(10)) # визуально просмотрел таблицу, вроде нет проблем с данными"
   ]
  },
  {
   "cell_type": "markdown",
   "metadata": {},
   "source": [
    "- **studio** - не нашел аномальные значения и пропущенные значения  "
   ]
  },
  {
   "cell_type": "code",
   "execution_count": 21,
   "metadata": {
    "scrolled": true
   },
   "outputs": [
    {
     "data": {
      "text/plain": [
       "0    False\n",
       "1    False\n",
       "2    False\n",
       "3    False\n",
       "4    False\n",
       "5    False\n",
       "6    False\n",
       "7    False\n",
       "8    False\n",
       "9    False\n",
       "Name: open_plan, dtype: bool"
      ]
     },
     "metadata": {},
     "output_type": "display_data"
    }
   ],
   "source": [
    "data['open_plan'].isnull().sum() \n",
    "display(data['open_plan'].head(10))"
   ]
  },
  {
   "cell_type": "markdown",
   "metadata": {},
   "source": [
    "- **open_plan** - не нашел аномальные значения и пропущенные значения "
   ]
  },
  {
   "cell_type": "code",
   "execution_count": 22,
   "metadata": {
    "scrolled": true
   },
   "outputs": [
    {
     "data": {
      "text/plain": [
       "0    25.00\n",
       "1    11.00\n",
       "2     8.30\n",
       "3      NaN\n",
       "4    41.00\n",
       "5     9.10\n",
       "6    14.40\n",
       "7    18.90\n",
       "8     8.81\n",
       "9     6.50\n",
       "Name: kitchen_area, dtype: float64"
      ]
     },
     "metadata": {},
     "output_type": "display_data"
    },
    {
     "data": {
      "text/plain": [
       "0"
      ]
     },
     "execution_count": 22,
     "metadata": {},
     "output_type": "execute_result"
    }
   ],
   "source": [
    "\n",
    "data['kitchen_area'].isnull().sum()\n",
    "display(data['kitchen_area'].head(10))\n",
    "data['kitchen_area'] = data['kitchen_area'].fillna(data['kitchen_area'].median())\n",
    "data['kitchen_area'].isnull().sum()"
   ]
  },
  {
   "cell_type": "markdown",
   "metadata": {},
   "source": [
    "- **kitchen_area** - были обнаружены пропуски в значениях, они были заменены на медианные значения. Ошибки связаны с незаполнением данных пользователем при размещение объявления  "
   ]
  },
  {
   "cell_type": "code",
   "execution_count": 24,
   "metadata": {},
   "outputs": [
    {
     "data": {
      "text/plain": [
       "array([0., 2., 1., 5., 4., 3.])"
      ]
     },
     "execution_count": 24,
     "metadata": {},
     "output_type": "execute_result"
    }
   ],
   "source": [
    "data['balcony'].isnull().sum()\n",
    "data['balcony'] = data['balcony'].fillna(0)\n",
    "data['balcony'].isnull().sum()\n",
    "data['balcony'].unique()"
   ]
  },
  {
   "cell_type": "markdown",
   "metadata": {},
   "source": [
    "- **balcony** - были обнаружены пропуски в значениях, заменил все Nan на 0. Ошибки связаны с незаполнением данных пользователем при размещение объявления, если пользователь не указал количество балконов, то считаем что их 0   "
   ]
  },
  {
   "cell_type": "code",
   "execution_count": 25,
   "metadata": {},
   "outputs": [
    {
     "data": {
      "text/plain": [
       "365"
      ]
     },
     "metadata": {},
     "output_type": "display_data"
    },
    {
     "data": {
      "text/plain": [
       "326"
      ]
     },
     "metadata": {},
     "output_type": "display_data"
    }
   ],
   "source": [
    "data['locality_name'].isnull().sum()\n",
    "display(len(data['locality_name'].unique()))\n",
    "data['locality_name'] = data['locality_name'].str.replace('ё', 'е')\n",
    "data['locality_name'] = data['locality_name'].replace('поселок городского типа Рябово', 'поселок Рябово') \n",
    "data['locality_name'] = data['locality_name'].replace('поселок при железнодорожной станции Вещево', 'поселок станции Вещево')\n",
    "data['locality_name'] = data['locality_name'].replace('поселок при железнодорожной станции Приветнинское', 'поселок станции Приветнинское')\n",
    "data['locality_name'] = data['locality_name'].replace('поселок Мурино', 'Мурино')\n",
    "data = data.dropna(subset=['locality_name'])\n",
    "display(len(data['locality_name'].unique()))"
   ]
  },
  {
   "cell_type": "markdown",
   "metadata": {},
   "source": [
    "- **locality_name** - обнаружены разные варианты написания одинаковых названий, произведены замены для приведения в соответствие. Следует выбирать название населенного пункта из справочника  "
   ]
  },
  {
   "cell_type": "code",
   "execution_count": 26,
   "metadata": {},
   "outputs": [
    {
     "data": {
      "text/plain": [
       "0        19.0\n",
       "1        13.0\n",
       "2        22.0\n",
       "3        28.0\n",
       "4        32.0\n",
       "         ... \n",
       "23690    20.0\n",
       "23691    19.0\n",
       "23693    46.0\n",
       "23694    25.0\n",
       "23697    39.0\n",
       "Name: airports_nearest, Length: 18116, dtype: float64"
      ]
     },
     "metadata": {},
     "output_type": "display_data"
    }
   ],
   "source": [
    "data['airports_nearest'].isnull().sum()\n",
    "data = data.dropna(subset=['airports_nearest'])\n",
    "data['airports_nearest'] = data['airports_nearest'].fillna(0)\n",
    "data['airports_nearest'] = (data['airports_nearest'] / 1000).round(0)\n",
    "data['airports_nearest'].isnull().sum()\n",
    "display(data['airports_nearest'])"
   ]
  },
  {
   "cell_type": "markdown",
   "metadata": {},
   "source": [
    "- **airports_nearest** - были обнаружены пропуски в значениях, они были заменены на 0, значени были переведены в км. и округлены. Ошибки связаны с незаполнением данных пользователем при размещение объявления  "
   ]
  },
  {
   "cell_type": "code",
   "execution_count": 27,
   "metadata": {},
   "outputs": [
    {
     "data": {
      "text/plain": [
       "0"
      ]
     },
     "execution_count": 27,
     "metadata": {},
     "output_type": "execute_result"
    }
   ],
   "source": [
    "data = data.rename(columns={'cityCenters_nearest':'city_сenters_nearest'})\n",
    "data['city_сenters_nearest'].isnull().sum()\n",
    "data['city_сenters_nearest'] = data['city_сenters_nearest'].fillna(0)\n",
    "data['city_сenters_nearest'] = (data['city_сenters_nearest'] / 1000).round(0)\n",
    "data['city_сenters_nearest'].isnull().sum()"
   ]
  },
  {
   "cell_type": "markdown",
   "metadata": {},
   "source": [
    "- **cityCenters_nearest** - столбец был переименован в **city_сenters_nearest** были обнаружены пропуски в значениях, они были заменены на 0, значения были переведены в км. и округлены. Ошибки связаны с незаполнением данных пользователем при размещение объявления   "
   ]
  },
  {
   "cell_type": "code",
   "execution_count": 28,
   "metadata": {},
   "outputs": [
    {
     "data": {
      "text/plain": [
       "array([1., 0., 2., 3.])"
      ]
     },
     "execution_count": 28,
     "metadata": {},
     "output_type": "execute_result"
    }
   ],
   "source": [
    "data['parks_around3000'].isnull().sum()\n",
    "data['parks_around3000'] = data['parks_around3000'].fillna(0)\n",
    "data['parks_around3000'].isnull().sum()\n",
    "data['parks_around3000'].unique()"
   ]
  },
  {
   "cell_type": "markdown",
   "metadata": {},
   "source": [
    "- **parks_around3000** - были обнаружены пропуски в значениях, они были заменены на 0, значения были переведены в км. и округлены. Ошибки связаны с незаполнением данных пользователем при размещение объявления  "
   ]
  },
  {
   "cell_type": "code",
   "execution_count": 29,
   "metadata": {},
   "outputs": [
    {
     "data": {
      "text/plain": [
       "array([0.5, 0. , 0.1, 0.3, 0.6, 0.4, 0.8, 0.2, 0.7, 1.1, 1.2, 0.9, 1. ,\n",
       "       2.3, 1.5, 2.1, 1.4, 2.2, 1.7, 1.8, 3.1, 2.7, 2.9, 1.3, 2.5, 1.6,\n",
       "       2.8, 2.4, 1.9, 2. , 2.6, 3.2, 3. ])"
      ]
     },
     "execution_count": 29,
     "metadata": {},
     "output_type": "execute_result"
    }
   ],
   "source": [
    "data['parks_nearest'].isnull().sum()\n",
    "data['parks_nearest'] = data['parks_nearest'].fillna(0)\n",
    "data['parks_nearest'] = (data['parks_nearest'] / 1000).round(1)\n",
    "data['parks_nearest'].unique()"
   ]
  },
  {
   "cell_type": "markdown",
   "metadata": {},
   "source": [
    "- **parks_nearest** - были обнаружены пропуски в значениях, они были заменены на 0, значения были переведены в км. и округлены. Ошибки связаны с незаполнением данных пользователем при размещение объявления   "
   ]
  },
  {
   "cell_type": "code",
   "execution_count": 30,
   "metadata": {},
   "outputs": [
    {
     "data": {
      "text/plain": [
       "array([2., 0., 3., 1.])"
      ]
     },
     "execution_count": 30,
     "metadata": {},
     "output_type": "execute_result"
    }
   ],
   "source": [
    "data['ponds_around3000'].isnull().sum()\n",
    "data['ponds_around3000'] = data['ponds_around3000'].fillna(0)\n",
    "data['ponds_around3000'].unique()"
   ]
  },
  {
   "cell_type": "markdown",
   "metadata": {},
   "source": [
    "- **ponds_around3000** - были обнаружены пропуски в значениях, они были заменены на 0. Ошибки связаны с незаполнением данных пользователем при размещение объявления. Если поле осталось не заполлненным, то предполагаем, что водоемов 0.   "
   ]
  },
  {
   "cell_type": "code",
   "execution_count": 31,
   "metadata": {},
   "outputs": [
    {
     "data": {
      "text/plain": [
       "array([0.8, 0. , 0.6, 0.2, 0.3, 0.1, 0.9, 0.4, 1.2, 0.5, 1. , 0.7, 1.1,\n",
       "       1.3])"
      ]
     },
     "execution_count": 31,
     "metadata": {},
     "output_type": "execute_result"
    }
   ],
   "source": [
    "data['ponds_nearest'].isnull().sum()\n",
    "data['ponds_nearest'] = data['ponds_nearest'].fillna(0)\n",
    "data['ponds_nearest'] = (data['ponds_nearest'] / 1000).round(1)\n",
    "data['ponds_nearest'].unique()"
   ]
  },
  {
   "cell_type": "markdown",
   "metadata": {},
   "source": [
    "- **ponds_nearest**- были обнаружены пропуски в значениях, они были заменены на 0, значения были переведены в км. и округлены. Ошибки связаны с незаполнением данных пользователем при размещение объявления   "
   ]
  },
  {
   "cell_type": "code",
   "execution_count": 32,
   "metadata": {},
   "outputs": [
    {
     "data": {
      "text/plain": [
       "array([  0.,  81., 558., ..., 800., 777., 971.])"
      ]
     },
     "execution_count": 32,
     "metadata": {},
     "output_type": "execute_result"
    }
   ],
   "source": [
    "data['days_exposition'].isnull().sum()\n",
    "data['days_exposition'] = data['days_exposition'].fillna(0)\n",
    "data['days_exposition'].unique()"
   ]
  },
  {
   "cell_type": "markdown",
   "metadata": {},
   "source": [
    "- **days_exposition** - были обнаружены пропуски в значениях, они были заменены на 0, скорее всего ошибка в БД, т.к. данное значение должно расчитываться автоматически   "
   ]
  },
  {
   "cell_type": "code",
   "execution_count": 33,
   "metadata": {},
   "outputs": [
    {
     "data": {
      "image/png": "[encoded data removed]",
      "text/plain": [
       "<Figure size 1080x1440 with 20 Axes>"
      ]
     },
     "metadata": {
      "needs_background": "light"
     },
     "output_type": "display_data"
    }
   ],
   "source": [
    "data.hist(figsize=(15, 20));"
   ]
  },
  {
   "cell_type": "markdown",
   "metadata": {},
   "source": [
    "Построил гистаграмы для всей таблицы повторно посмотрел графики"
   ]
  },
  {
   "cell_type": "markdown",
   "metadata": {},
   "source": [
    "### Шаг 2.2"
   ]
  },
  {
   "cell_type": "markdown",
   "metadata": {},
   "source": [
    "**Изменен тип данных (Dtype) у следующих столбцов:**    \n",
    "- **first_day_exposition** с object на datetime64 - время хранилось в виде строки и не было возможности с ним работать.  \n",
    "- **is_apartment** с object на bool - в таблице хранятся значения bool.  \n",
    "- **floors_total** - изменил тип данных с float на int."
   ]
  },
  {
   "cell_type": "markdown",
   "metadata": {},
   "source": [
    "### Шаг 2.3"
   ]
  },
  {
   "cell_type": "markdown",
   "metadata": {},
   "source": [
    "**Неявные дубликаты**  \n",
    "- В столбце **locality_name** были произведены замены: 'ё', 'е'; 'поселок городского типа Рябово', 'поселок Рябово'; 'поселок при железнодорожной станции Вещево', 'поселок станции Вещево'; 'поселок при железнодорожной станции Приветнинское', 'поселок станции Приветнинское'; 'поселок Мурино', 'Мурино'."
   ]
  },
  {
   "cell_type": "markdown",
   "metadata": {},
   "source": [
    "### Шаг 2.4"
   ]
  },
  {
   "cell_type": "markdown",
   "metadata": {},
   "source": [
    "**Найдите редкие и выбивающиеся значения**  \n",
    "- В столбце **ceiling_height** были обнаружены не верно заполненные данные, т.к. количество таких данных было не больлшим, данные были исключены из датасета, в выборке остались только квартиры с высотой потолков от 2-5 метров.  \n",
    "Причина ошибки не верно указана высота, например вместо 2.5 м. указано 25.0 м.  "
   ]
  },
  {
   "cell_type": "markdown",
   "metadata": {},
   "source": [
    "В хоте проделанной работы, я произвел подготовку БД для дальнейшего анализа:  \n",
    "- была произведена проверка на явные дубликаты;  \n",
    "- были выявлены и скорректированы не явные дубликаты;  \n",
    "- были заменены пропущенные данные, в некоторых случаях на медианные значаения, в некоторых были заменены на 0 значения;  \n",
    "- были преобразованы типы данных для столбцов, для удобства работы;  \n",
    "- были удалены строки с пропущенными данными которые не удалось заполнить;  \n",
    "- были скорректированы данные, аномалию которых удалось установить.  "
   ]
  },
  {
   "cell_type": "markdown",
   "metadata": {},
   "source": [
    "### Шаг 3. Добавьте в таблицу новые столбцы со следующими параметрами. "
   ]
  },
  {
   "cell_type": "code",
   "execution_count": 34,
   "metadata": {},
   "outputs": [
    {
     "data": {
      "text/html": [
       "<div>\n",
       "<style scoped>\n",
       "    .dataframe tbody tr th:only-of-type {\n",
       "        vertical-align: middle;\n",
       "    }\n",
       "\n",
       "    .dataframe tbody tr th {\n",
       "        vertical-align: top;\n",
       "    }\n",
       "\n",
       "    .dataframe thead th {\n",
       "        text-align: right;\n",
       "    }\n",
       "</style>\n",
       "<table border=\"1\" class=\"dataframe\">\n",
       "  <thead>\n",
       "    <tr style=\"text-align: right;\">\n",
       "      <th></th>\n",
       "      <th>total_images</th>\n",
       "      <th>last_price</th>\n",
       "      <th>total_area</th>\n",
       "      <th>first_day_exposition</th>\n",
       "      <th>rooms</th>\n",
       "      <th>ceiling_height</th>\n",
       "      <th>floors_total</th>\n",
       "      <th>living_area</th>\n",
       "      <th>floor</th>\n",
       "      <th>is_apartment</th>\n",
       "      <th>...</th>\n",
       "      <th>balcony</th>\n",
       "      <th>locality_name</th>\n",
       "      <th>airports_nearest</th>\n",
       "      <th>city_сenters_nearest</th>\n",
       "      <th>parks_around3000</th>\n",
       "      <th>parks_nearest</th>\n",
       "      <th>ponds_around3000</th>\n",
       "      <th>ponds_nearest</th>\n",
       "      <th>days_exposition</th>\n",
       "      <th>cost_metr</th>\n",
       "    </tr>\n",
       "  </thead>\n",
       "  <tbody>\n",
       "    <tr>\n",
       "      <th>0</th>\n",
       "      <td>20</td>\n",
       "      <td>13000000.0</td>\n",
       "      <td>108.0</td>\n",
       "      <td>2019-03-07</td>\n",
       "      <td>3</td>\n",
       "      <td>2.70</td>\n",
       "      <td>16</td>\n",
       "      <td>51.0</td>\n",
       "      <td>8</td>\n",
       "      <td>True</td>\n",
       "      <td>...</td>\n",
       "      <td>0.0</td>\n",
       "      <td>Санкт-Петербург</td>\n",
       "      <td>19.0</td>\n",
       "      <td>16.0</td>\n",
       "      <td>1.0</td>\n",
       "      <td>0.5</td>\n",
       "      <td>2.0</td>\n",
       "      <td>0.8</td>\n",
       "      <td>0.0</td>\n",
       "      <td>120370.0</td>\n",
       "    </tr>\n",
       "    <tr>\n",
       "      <th>1</th>\n",
       "      <td>7</td>\n",
       "      <td>3350000.0</td>\n",
       "      <td>40.4</td>\n",
       "      <td>2018-12-04</td>\n",
       "      <td>1</td>\n",
       "      <td>2.65</td>\n",
       "      <td>11</td>\n",
       "      <td>18.6</td>\n",
       "      <td>1</td>\n",
       "      <td>True</td>\n",
       "      <td>...</td>\n",
       "      <td>2.0</td>\n",
       "      <td>поселок Шушары</td>\n",
       "      <td>13.0</td>\n",
       "      <td>19.0</td>\n",
       "      <td>0.0</td>\n",
       "      <td>0.0</td>\n",
       "      <td>0.0</td>\n",
       "      <td>0.0</td>\n",
       "      <td>81.0</td>\n",
       "      <td>82921.0</td>\n",
       "    </tr>\n",
       "    <tr>\n",
       "      <th>2</th>\n",
       "      <td>10</td>\n",
       "      <td>5196000.0</td>\n",
       "      <td>56.0</td>\n",
       "      <td>2015-08-20</td>\n",
       "      <td>2</td>\n",
       "      <td>2.65</td>\n",
       "      <td>5</td>\n",
       "      <td>34.3</td>\n",
       "      <td>4</td>\n",
       "      <td>True</td>\n",
       "      <td>...</td>\n",
       "      <td>0.0</td>\n",
       "      <td>Санкт-Петербург</td>\n",
       "      <td>22.0</td>\n",
       "      <td>14.0</td>\n",
       "      <td>1.0</td>\n",
       "      <td>0.1</td>\n",
       "      <td>2.0</td>\n",
       "      <td>0.6</td>\n",
       "      <td>558.0</td>\n",
       "      <td>92786.0</td>\n",
       "    </tr>\n",
       "    <tr>\n",
       "      <th>3</th>\n",
       "      <td>0</td>\n",
       "      <td>64900000.0</td>\n",
       "      <td>159.0</td>\n",
       "      <td>2015-07-24</td>\n",
       "      <td>3</td>\n",
       "      <td>2.65</td>\n",
       "      <td>14</td>\n",
       "      <td>30.0</td>\n",
       "      <td>9</td>\n",
       "      <td>True</td>\n",
       "      <td>...</td>\n",
       "      <td>0.0</td>\n",
       "      <td>Санкт-Петербург</td>\n",
       "      <td>28.0</td>\n",
       "      <td>7.0</td>\n",
       "      <td>2.0</td>\n",
       "      <td>0.1</td>\n",
       "      <td>3.0</td>\n",
       "      <td>0.2</td>\n",
       "      <td>424.0</td>\n",
       "      <td>408176.0</td>\n",
       "    </tr>\n",
       "    <tr>\n",
       "      <th>4</th>\n",
       "      <td>2</td>\n",
       "      <td>10000000.0</td>\n",
       "      <td>100.0</td>\n",
       "      <td>2018-06-19</td>\n",
       "      <td>2</td>\n",
       "      <td>3.03</td>\n",
       "      <td>14</td>\n",
       "      <td>32.0</td>\n",
       "      <td>13</td>\n",
       "      <td>True</td>\n",
       "      <td>...</td>\n",
       "      <td>0.0</td>\n",
       "      <td>Санкт-Петербург</td>\n",
       "      <td>32.0</td>\n",
       "      <td>8.0</td>\n",
       "      <td>2.0</td>\n",
       "      <td>0.1</td>\n",
       "      <td>1.0</td>\n",
       "      <td>0.0</td>\n",
       "      <td>121.0</td>\n",
       "      <td>100000.0</td>\n",
       "    </tr>\n",
       "  </tbody>\n",
       "</table>\n",
       "<p>5 rows × 23 columns</p>\n",
       "</div>"
      ],
      "text/plain": [
       "   total_images  last_price  total_area first_day_exposition  rooms  \\\n",
       "0            20  13000000.0       108.0           2019-03-07      3   \n",
       "1             7   3350000.0        40.4           2018-12-04      1   \n",
       "2            10   5196000.0        56.0           2015-08-20      2   \n",
       "3             0  64900000.0       159.0           2015-07-24      3   \n",
       "4             2  10000000.0       100.0           2018-06-19      2   \n",
       "\n",
       "   ceiling_height  floors_total  living_area  floor  is_apartment  ...  \\\n",
       "0            2.70            16         51.0      8          True  ...   \n",
       "1            2.65            11         18.6      1          True  ...   \n",
       "2            2.65             5         34.3      4          True  ...   \n",
       "3            2.65            14         30.0      9          True  ...   \n",
       "4            3.03            14         32.0     13          True  ...   \n",
       "\n",
       "   balcony    locality_name  airports_nearest  city_сenters_nearest  \\\n",
       "0      0.0  Санкт-Петербург              19.0                  16.0   \n",
       "1      2.0   поселок Шушары              13.0                  19.0   \n",
       "2      0.0  Санкт-Петербург              22.0                  14.0   \n",
       "3      0.0  Санкт-Петербург              28.0                   7.0   \n",
       "4      0.0  Санкт-Петербург              32.0                   8.0   \n",
       "\n",
       "  parks_around3000  parks_nearest  ponds_around3000  ponds_nearest  \\\n",
       "0              1.0            0.5               2.0            0.8   \n",
       "1              0.0            0.0               0.0            0.0   \n",
       "2              1.0            0.1               2.0            0.6   \n",
       "3              2.0            0.1               3.0            0.2   \n",
       "4              2.0            0.1               1.0            0.0   \n",
       "\n",
       "   days_exposition  cost_metr  \n",
       "0              0.0   120370.0  \n",
       "1             81.0    82921.0  \n",
       "2            558.0    92786.0  \n",
       "3            424.0   408176.0  \n",
       "4            121.0   100000.0  \n",
       "\n",
       "[5 rows x 23 columns]"
      ]
     },
     "metadata": {},
     "output_type": "display_data"
    }
   ],
   "source": [
    "## стоимость одного квадратного метра\n",
    "data['cost_metr'] = data['last_price'] / data['total_area'] # разделил стоимоть квартиры на площадь\n",
    "data['cost_metr'] = data['cost_metr'].round(0) # округлил стоимость одного м2.\n",
    "display(data.head(5))"
   ]
  },
  {
   "cell_type": "code",
   "execution_count": 35,
   "metadata": {},
   "outputs": [
    {
     "data": {
      "text/html": [
       "<div>\n",
       "<style scoped>\n",
       "    .dataframe tbody tr th:only-of-type {\n",
       "        vertical-align: middle;\n",
       "    }\n",
       "\n",
       "    .dataframe tbody tr th {\n",
       "        vertical-align: top;\n",
       "    }\n",
       "\n",
       "    .dataframe thead th {\n",
       "        text-align: right;\n",
       "    }\n",
       "</style>\n",
       "<table border=\"1\" class=\"dataframe\">\n",
       "  <thead>\n",
       "    <tr style=\"text-align: right;\">\n",
       "      <th></th>\n",
       "      <th>total_images</th>\n",
       "      <th>last_price</th>\n",
       "      <th>total_area</th>\n",
       "      <th>first_day_exposition</th>\n",
       "      <th>rooms</th>\n",
       "      <th>ceiling_height</th>\n",
       "      <th>floors_total</th>\n",
       "      <th>living_area</th>\n",
       "      <th>floor</th>\n",
       "      <th>is_apartment</th>\n",
       "      <th>...</th>\n",
       "      <th>locality_name</th>\n",
       "      <th>airports_nearest</th>\n",
       "      <th>city_сenters_nearest</th>\n",
       "      <th>parks_around3000</th>\n",
       "      <th>parks_nearest</th>\n",
       "      <th>ponds_around3000</th>\n",
       "      <th>ponds_nearest</th>\n",
       "      <th>days_exposition</th>\n",
       "      <th>cost_metr</th>\n",
       "      <th>date</th>\n",
       "    </tr>\n",
       "  </thead>\n",
       "  <tbody>\n",
       "    <tr>\n",
       "      <th>0</th>\n",
       "      <td>20</td>\n",
       "      <td>13000000.0</td>\n",
       "      <td>108.0</td>\n",
       "      <td>2019-03-07</td>\n",
       "      <td>3</td>\n",
       "      <td>2.70</td>\n",
       "      <td>16</td>\n",
       "      <td>51.0</td>\n",
       "      <td>8</td>\n",
       "      <td>True</td>\n",
       "      <td>...</td>\n",
       "      <td>Санкт-Петербург</td>\n",
       "      <td>19.0</td>\n",
       "      <td>16.0</td>\n",
       "      <td>1.0</td>\n",
       "      <td>0.5</td>\n",
       "      <td>2.0</td>\n",
       "      <td>0.8</td>\n",
       "      <td>0.0</td>\n",
       "      <td>120370.0</td>\n",
       "      <td>3</td>\n",
       "    </tr>\n",
       "    <tr>\n",
       "      <th>1</th>\n",
       "      <td>7</td>\n",
       "      <td>3350000.0</td>\n",
       "      <td>40.4</td>\n",
       "      <td>2018-12-04</td>\n",
       "      <td>1</td>\n",
       "      <td>2.65</td>\n",
       "      <td>11</td>\n",
       "      <td>18.6</td>\n",
       "      <td>1</td>\n",
       "      <td>True</td>\n",
       "      <td>...</td>\n",
       "      <td>поселок Шушары</td>\n",
       "      <td>13.0</td>\n",
       "      <td>19.0</td>\n",
       "      <td>0.0</td>\n",
       "      <td>0.0</td>\n",
       "      <td>0.0</td>\n",
       "      <td>0.0</td>\n",
       "      <td>81.0</td>\n",
       "      <td>82921.0</td>\n",
       "      <td>1</td>\n",
       "    </tr>\n",
       "    <tr>\n",
       "      <th>2</th>\n",
       "      <td>10</td>\n",
       "      <td>5196000.0</td>\n",
       "      <td>56.0</td>\n",
       "      <td>2015-08-20</td>\n",
       "      <td>2</td>\n",
       "      <td>2.65</td>\n",
       "      <td>5</td>\n",
       "      <td>34.3</td>\n",
       "      <td>4</td>\n",
       "      <td>True</td>\n",
       "      <td>...</td>\n",
       "      <td>Санкт-Петербург</td>\n",
       "      <td>22.0</td>\n",
       "      <td>14.0</td>\n",
       "      <td>1.0</td>\n",
       "      <td>0.1</td>\n",
       "      <td>2.0</td>\n",
       "      <td>0.6</td>\n",
       "      <td>558.0</td>\n",
       "      <td>92786.0</td>\n",
       "      <td>3</td>\n",
       "    </tr>\n",
       "    <tr>\n",
       "      <th>3</th>\n",
       "      <td>0</td>\n",
       "      <td>64900000.0</td>\n",
       "      <td>159.0</td>\n",
       "      <td>2015-07-24</td>\n",
       "      <td>3</td>\n",
       "      <td>2.65</td>\n",
       "      <td>14</td>\n",
       "      <td>30.0</td>\n",
       "      <td>9</td>\n",
       "      <td>True</td>\n",
       "      <td>...</td>\n",
       "      <td>Санкт-Петербург</td>\n",
       "      <td>28.0</td>\n",
       "      <td>7.0</td>\n",
       "      <td>2.0</td>\n",
       "      <td>0.1</td>\n",
       "      <td>3.0</td>\n",
       "      <td>0.2</td>\n",
       "      <td>424.0</td>\n",
       "      <td>408176.0</td>\n",
       "      <td>4</td>\n",
       "    </tr>\n",
       "    <tr>\n",
       "      <th>4</th>\n",
       "      <td>2</td>\n",
       "      <td>10000000.0</td>\n",
       "      <td>100.0</td>\n",
       "      <td>2018-06-19</td>\n",
       "      <td>2</td>\n",
       "      <td>3.03</td>\n",
       "      <td>14</td>\n",
       "      <td>32.0</td>\n",
       "      <td>13</td>\n",
       "      <td>True</td>\n",
       "      <td>...</td>\n",
       "      <td>Санкт-Петербург</td>\n",
       "      <td>32.0</td>\n",
       "      <td>8.0</td>\n",
       "      <td>2.0</td>\n",
       "      <td>0.1</td>\n",
       "      <td>1.0</td>\n",
       "      <td>0.0</td>\n",
       "      <td>121.0</td>\n",
       "      <td>100000.0</td>\n",
       "      <td>1</td>\n",
       "    </tr>\n",
       "  </tbody>\n",
       "</table>\n",
       "<p>5 rows × 24 columns</p>\n",
       "</div>"
      ],
      "text/plain": [
       "   total_images  last_price  total_area first_day_exposition  rooms  \\\n",
       "0            20  13000000.0       108.0           2019-03-07      3   \n",
       "1             7   3350000.0        40.4           2018-12-04      1   \n",
       "2            10   5196000.0        56.0           2015-08-20      2   \n",
       "3             0  64900000.0       159.0           2015-07-24      3   \n",
       "4             2  10000000.0       100.0           2018-06-19      2   \n",
       "\n",
       "   ceiling_height  floors_total  living_area  floor  is_apartment  ...  \\\n",
       "0            2.70            16         51.0      8          True  ...   \n",
       "1            2.65            11         18.6      1          True  ...   \n",
       "2            2.65             5         34.3      4          True  ...   \n",
       "3            2.65            14         30.0      9          True  ...   \n",
       "4            3.03            14         32.0     13          True  ...   \n",
       "\n",
       "     locality_name  airports_nearest  city_сenters_nearest  parks_around3000  \\\n",
       "0  Санкт-Петербург              19.0                  16.0               1.0   \n",
       "1   поселок Шушары              13.0                  19.0               0.0   \n",
       "2  Санкт-Петербург              22.0                  14.0               1.0   \n",
       "3  Санкт-Петербург              28.0                   7.0               2.0   \n",
       "4  Санкт-Петербург              32.0                   8.0               2.0   \n",
       "\n",
       "  parks_nearest  ponds_around3000  ponds_nearest  days_exposition  cost_metr  \\\n",
       "0           0.5               2.0            0.8              0.0   120370.0   \n",
       "1           0.0               0.0            0.0             81.0    82921.0   \n",
       "2           0.1               2.0            0.6            558.0    92786.0   \n",
       "3           0.1               3.0            0.2            424.0   408176.0   \n",
       "4           0.1               1.0            0.0            121.0   100000.0   \n",
       "\n",
       "   date  \n",
       "0     3  \n",
       "1     1  \n",
       "2     3  \n",
       "3     4  \n",
       "4     1  \n",
       "\n",
       "[5 rows x 24 columns]"
      ]
     },
     "metadata": {},
     "output_type": "display_data"
    }
   ],
   "source": [
    "## день недели публикации объявления\n",
    "data['date'] = data['first_day_exposition'].dt.weekday # сохранил в столбец date номерад дней недели\n",
    "display(data.head(5))"
   ]
  },
  {
   "cell_type": "code",
   "execution_count": 36,
   "metadata": {},
   "outputs": [
    {
     "data": {
      "text/html": [
       "<div>\n",
       "<style scoped>\n",
       "    .dataframe tbody tr th:only-of-type {\n",
       "        vertical-align: middle;\n",
       "    }\n",
       "\n",
       "    .dataframe tbody tr th {\n",
       "        vertical-align: top;\n",
       "    }\n",
       "\n",
       "    .dataframe thead th {\n",
       "        text-align: right;\n",
       "    }\n",
       "</style>\n",
       "<table border=\"1\" class=\"dataframe\">\n",
       "  <thead>\n",
       "    <tr style=\"text-align: right;\">\n",
       "      <th></th>\n",
       "      <th>total_images</th>\n",
       "      <th>last_price</th>\n",
       "      <th>total_area</th>\n",
       "      <th>first_day_exposition</th>\n",
       "      <th>rooms</th>\n",
       "      <th>ceiling_height</th>\n",
       "      <th>floors_total</th>\n",
       "      <th>living_area</th>\n",
       "      <th>floor</th>\n",
       "      <th>is_apartment</th>\n",
       "      <th>...</th>\n",
       "      <th>airports_nearest</th>\n",
       "      <th>city_сenters_nearest</th>\n",
       "      <th>parks_around3000</th>\n",
       "      <th>parks_nearest</th>\n",
       "      <th>ponds_around3000</th>\n",
       "      <th>ponds_nearest</th>\n",
       "      <th>days_exposition</th>\n",
       "      <th>cost_metr</th>\n",
       "      <th>date</th>\n",
       "      <th>month</th>\n",
       "    </tr>\n",
       "  </thead>\n",
       "  <tbody>\n",
       "    <tr>\n",
       "      <th>0</th>\n",
       "      <td>20</td>\n",
       "      <td>13000000.0</td>\n",
       "      <td>108.0</td>\n",
       "      <td>2019-03-07</td>\n",
       "      <td>3</td>\n",
       "      <td>2.70</td>\n",
       "      <td>16</td>\n",
       "      <td>51.0</td>\n",
       "      <td>8</td>\n",
       "      <td>True</td>\n",
       "      <td>...</td>\n",
       "      <td>19.0</td>\n",
       "      <td>16.0</td>\n",
       "      <td>1.0</td>\n",
       "      <td>0.5</td>\n",
       "      <td>2.0</td>\n",
       "      <td>0.8</td>\n",
       "      <td>0.0</td>\n",
       "      <td>120370.0</td>\n",
       "      <td>3</td>\n",
       "      <td>3</td>\n",
       "    </tr>\n",
       "    <tr>\n",
       "      <th>1</th>\n",
       "      <td>7</td>\n",
       "      <td>3350000.0</td>\n",
       "      <td>40.4</td>\n",
       "      <td>2018-12-04</td>\n",
       "      <td>1</td>\n",
       "      <td>2.65</td>\n",
       "      <td>11</td>\n",
       "      <td>18.6</td>\n",
       "      <td>1</td>\n",
       "      <td>True</td>\n",
       "      <td>...</td>\n",
       "      <td>13.0</td>\n",
       "      <td>19.0</td>\n",
       "      <td>0.0</td>\n",
       "      <td>0.0</td>\n",
       "      <td>0.0</td>\n",
       "      <td>0.0</td>\n",
       "      <td>81.0</td>\n",
       "      <td>82921.0</td>\n",
       "      <td>1</td>\n",
       "      <td>12</td>\n",
       "    </tr>\n",
       "    <tr>\n",
       "      <th>2</th>\n",
       "      <td>10</td>\n",
       "      <td>5196000.0</td>\n",
       "      <td>56.0</td>\n",
       "      <td>2015-08-20</td>\n",
       "      <td>2</td>\n",
       "      <td>2.65</td>\n",
       "      <td>5</td>\n",
       "      <td>34.3</td>\n",
       "      <td>4</td>\n",
       "      <td>True</td>\n",
       "      <td>...</td>\n",
       "      <td>22.0</td>\n",
       "      <td>14.0</td>\n",
       "      <td>1.0</td>\n",
       "      <td>0.1</td>\n",
       "      <td>2.0</td>\n",
       "      <td>0.6</td>\n",
       "      <td>558.0</td>\n",
       "      <td>92786.0</td>\n",
       "      <td>3</td>\n",
       "      <td>8</td>\n",
       "    </tr>\n",
       "    <tr>\n",
       "      <th>3</th>\n",
       "      <td>0</td>\n",
       "      <td>64900000.0</td>\n",
       "      <td>159.0</td>\n",
       "      <td>2015-07-24</td>\n",
       "      <td>3</td>\n",
       "      <td>2.65</td>\n",
       "      <td>14</td>\n",
       "      <td>30.0</td>\n",
       "      <td>9</td>\n",
       "      <td>True</td>\n",
       "      <td>...</td>\n",
       "      <td>28.0</td>\n",
       "      <td>7.0</td>\n",
       "      <td>2.0</td>\n",
       "      <td>0.1</td>\n",
       "      <td>3.0</td>\n",
       "      <td>0.2</td>\n",
       "      <td>424.0</td>\n",
       "      <td>408176.0</td>\n",
       "      <td>4</td>\n",
       "      <td>7</td>\n",
       "    </tr>\n",
       "    <tr>\n",
       "      <th>4</th>\n",
       "      <td>2</td>\n",
       "      <td>10000000.0</td>\n",
       "      <td>100.0</td>\n",
       "      <td>2018-06-19</td>\n",
       "      <td>2</td>\n",
       "      <td>3.03</td>\n",
       "      <td>14</td>\n",
       "      <td>32.0</td>\n",
       "      <td>13</td>\n",
       "      <td>True</td>\n",
       "      <td>...</td>\n",
       "      <td>32.0</td>\n",
       "      <td>8.0</td>\n",
       "      <td>2.0</td>\n",
       "      <td>0.1</td>\n",
       "      <td>1.0</td>\n",
       "      <td>0.0</td>\n",
       "      <td>121.0</td>\n",
       "      <td>100000.0</td>\n",
       "      <td>1</td>\n",
       "      <td>6</td>\n",
       "    </tr>\n",
       "  </tbody>\n",
       "</table>\n",
       "<p>5 rows × 25 columns</p>\n",
       "</div>"
      ],
      "text/plain": [
       "   total_images  last_price  total_area first_day_exposition  rooms  \\\n",
       "0            20  13000000.0       108.0           2019-03-07      3   \n",
       "1             7   3350000.0        40.4           2018-12-04      1   \n",
       "2            10   5196000.0        56.0           2015-08-20      2   \n",
       "3             0  64900000.0       159.0           2015-07-24      3   \n",
       "4             2  10000000.0       100.0           2018-06-19      2   \n",
       "\n",
       "   ceiling_height  floors_total  living_area  floor  is_apartment  ...  \\\n",
       "0            2.70            16         51.0      8          True  ...   \n",
       "1            2.65            11         18.6      1          True  ...   \n",
       "2            2.65             5         34.3      4          True  ...   \n",
       "3            2.65            14         30.0      9          True  ...   \n",
       "4            3.03            14         32.0     13          True  ...   \n",
       "\n",
       "   airports_nearest  city_сenters_nearest  parks_around3000  parks_nearest  \\\n",
       "0              19.0                  16.0               1.0            0.5   \n",
       "1              13.0                  19.0               0.0            0.0   \n",
       "2              22.0                  14.0               1.0            0.1   \n",
       "3              28.0                   7.0               2.0            0.1   \n",
       "4              32.0                   8.0               2.0            0.1   \n",
       "\n",
       "  ponds_around3000  ponds_nearest  days_exposition  cost_metr  date  month  \n",
       "0              2.0            0.8              0.0   120370.0     3      3  \n",
       "1              0.0            0.0             81.0    82921.0     1     12  \n",
       "2              2.0            0.6            558.0    92786.0     3      8  \n",
       "3              3.0            0.2            424.0   408176.0     4      7  \n",
       "4              1.0            0.0            121.0   100000.0     1      6  \n",
       "\n",
       "[5 rows x 25 columns]"
      ]
     },
     "execution_count": 36,
     "metadata": {},
     "output_type": "execute_result"
    }
   ],
   "source": [
    "## месяц публикации объявления\n",
    "data['month'] = data['first_day_exposition'].dt.month # созранил в столбце month номер месяца\n",
    "(data.head(5))"
   ]
  },
  {
   "cell_type": "code",
   "execution_count": 37,
   "metadata": {},
   "outputs": [
    {
     "data": {
      "text/html": [
       "<div>\n",
       "<style scoped>\n",
       "    .dataframe tbody tr th:only-of-type {\n",
       "        vertical-align: middle;\n",
       "    }\n",
       "\n",
       "    .dataframe tbody tr th {\n",
       "        vertical-align: top;\n",
       "    }\n",
       "\n",
       "    .dataframe thead th {\n",
       "        text-align: right;\n",
       "    }\n",
       "</style>\n",
       "<table border=\"1\" class=\"dataframe\">\n",
       "  <thead>\n",
       "    <tr style=\"text-align: right;\">\n",
       "      <th></th>\n",
       "      <th>total_images</th>\n",
       "      <th>last_price</th>\n",
       "      <th>total_area</th>\n",
       "      <th>first_day_exposition</th>\n",
       "      <th>rooms</th>\n",
       "      <th>ceiling_height</th>\n",
       "      <th>floors_total</th>\n",
       "      <th>living_area</th>\n",
       "      <th>floor</th>\n",
       "      <th>is_apartment</th>\n",
       "      <th>...</th>\n",
       "      <th>city_сenters_nearest</th>\n",
       "      <th>parks_around3000</th>\n",
       "      <th>parks_nearest</th>\n",
       "      <th>ponds_around3000</th>\n",
       "      <th>ponds_nearest</th>\n",
       "      <th>days_exposition</th>\n",
       "      <th>cost_metr</th>\n",
       "      <th>date</th>\n",
       "      <th>month</th>\n",
       "      <th>year</th>\n",
       "    </tr>\n",
       "  </thead>\n",
       "  <tbody>\n",
       "    <tr>\n",
       "      <th>0</th>\n",
       "      <td>20</td>\n",
       "      <td>13000000.0</td>\n",
       "      <td>108.0</td>\n",
       "      <td>2019-03-07</td>\n",
       "      <td>3</td>\n",
       "      <td>2.70</td>\n",
       "      <td>16</td>\n",
       "      <td>51.0</td>\n",
       "      <td>8</td>\n",
       "      <td>True</td>\n",
       "      <td>...</td>\n",
       "      <td>16.0</td>\n",
       "      <td>1.0</td>\n",
       "      <td>0.5</td>\n",
       "      <td>2.0</td>\n",
       "      <td>0.8</td>\n",
       "      <td>0.0</td>\n",
       "      <td>120370.0</td>\n",
       "      <td>3</td>\n",
       "      <td>3</td>\n",
       "      <td>2019</td>\n",
       "    </tr>\n",
       "    <tr>\n",
       "      <th>1</th>\n",
       "      <td>7</td>\n",
       "      <td>3350000.0</td>\n",
       "      <td>40.4</td>\n",
       "      <td>2018-12-04</td>\n",
       "      <td>1</td>\n",
       "      <td>2.65</td>\n",
       "      <td>11</td>\n",
       "      <td>18.6</td>\n",
       "      <td>1</td>\n",
       "      <td>True</td>\n",
       "      <td>...</td>\n",
       "      <td>19.0</td>\n",
       "      <td>0.0</td>\n",
       "      <td>0.0</td>\n",
       "      <td>0.0</td>\n",
       "      <td>0.0</td>\n",
       "      <td>81.0</td>\n",
       "      <td>82921.0</td>\n",
       "      <td>1</td>\n",
       "      <td>12</td>\n",
       "      <td>2018</td>\n",
       "    </tr>\n",
       "    <tr>\n",
       "      <th>2</th>\n",
       "      <td>10</td>\n",
       "      <td>5196000.0</td>\n",
       "      <td>56.0</td>\n",
       "      <td>2015-08-20</td>\n",
       "      <td>2</td>\n",
       "      <td>2.65</td>\n",
       "      <td>5</td>\n",
       "      <td>34.3</td>\n",
       "      <td>4</td>\n",
       "      <td>True</td>\n",
       "      <td>...</td>\n",
       "      <td>14.0</td>\n",
       "      <td>1.0</td>\n",
       "      <td>0.1</td>\n",
       "      <td>2.0</td>\n",
       "      <td>0.6</td>\n",
       "      <td>558.0</td>\n",
       "      <td>92786.0</td>\n",
       "      <td>3</td>\n",
       "      <td>8</td>\n",
       "      <td>2015</td>\n",
       "    </tr>\n",
       "    <tr>\n",
       "      <th>3</th>\n",
       "      <td>0</td>\n",
       "      <td>64900000.0</td>\n",
       "      <td>159.0</td>\n",
       "      <td>2015-07-24</td>\n",
       "      <td>3</td>\n",
       "      <td>2.65</td>\n",
       "      <td>14</td>\n",
       "      <td>30.0</td>\n",
       "      <td>9</td>\n",
       "      <td>True</td>\n",
       "      <td>...</td>\n",
       "      <td>7.0</td>\n",
       "      <td>2.0</td>\n",
       "      <td>0.1</td>\n",
       "      <td>3.0</td>\n",
       "      <td>0.2</td>\n",
       "      <td>424.0</td>\n",
       "      <td>408176.0</td>\n",
       "      <td>4</td>\n",
       "      <td>7</td>\n",
       "      <td>2015</td>\n",
       "    </tr>\n",
       "    <tr>\n",
       "      <th>4</th>\n",
       "      <td>2</td>\n",
       "      <td>10000000.0</td>\n",
       "      <td>100.0</td>\n",
       "      <td>2018-06-19</td>\n",
       "      <td>2</td>\n",
       "      <td>3.03</td>\n",
       "      <td>14</td>\n",
       "      <td>32.0</td>\n",
       "      <td>13</td>\n",
       "      <td>True</td>\n",
       "      <td>...</td>\n",
       "      <td>8.0</td>\n",
       "      <td>2.0</td>\n",
       "      <td>0.1</td>\n",
       "      <td>1.0</td>\n",
       "      <td>0.0</td>\n",
       "      <td>121.0</td>\n",
       "      <td>100000.0</td>\n",
       "      <td>1</td>\n",
       "      <td>6</td>\n",
       "      <td>2018</td>\n",
       "    </tr>\n",
       "  </tbody>\n",
       "</table>\n",
       "<p>5 rows × 26 columns</p>\n",
       "</div>"
      ],
      "text/plain": [
       "   total_images  last_price  total_area first_day_exposition  rooms  \\\n",
       "0            20  13000000.0       108.0           2019-03-07      3   \n",
       "1             7   3350000.0        40.4           2018-12-04      1   \n",
       "2            10   5196000.0        56.0           2015-08-20      2   \n",
       "3             0  64900000.0       159.0           2015-07-24      3   \n",
       "4             2  10000000.0       100.0           2018-06-19      2   \n",
       "\n",
       "   ceiling_height  floors_total  living_area  floor  is_apartment  ...  \\\n",
       "0            2.70            16         51.0      8          True  ...   \n",
       "1            2.65            11         18.6      1          True  ...   \n",
       "2            2.65             5         34.3      4          True  ...   \n",
       "3            2.65            14         30.0      9          True  ...   \n",
       "4            3.03            14         32.0     13          True  ...   \n",
       "\n",
       "   city_сenters_nearest  parks_around3000  parks_nearest  ponds_around3000  \\\n",
       "0                  16.0               1.0            0.5               2.0   \n",
       "1                  19.0               0.0            0.0               0.0   \n",
       "2                  14.0               1.0            0.1               2.0   \n",
       "3                   7.0               2.0            0.1               3.0   \n",
       "4                   8.0               2.0            0.1               1.0   \n",
       "\n",
       "  ponds_nearest  days_exposition  cost_metr  date  month  year  \n",
       "0           0.8              0.0   120370.0     3      3  2019  \n",
       "1           0.0             81.0    82921.0     1     12  2018  \n",
       "2           0.6            558.0    92786.0     3      8  2015  \n",
       "3           0.2            424.0   408176.0     4      7  2015  \n",
       "4           0.0            121.0   100000.0     1      6  2018  \n",
       "\n",
       "[5 rows x 26 columns]"
      ]
     },
     "metadata": {},
     "output_type": "display_data"
    }
   ],
   "source": [
    "## год публикации объявления\n",
    "data['year'] = data['first_day_exposition'].dt.year # сохранил в столбце year год публицации объявления\n",
    "display(data.head(5))"
   ]
  },
  {
   "cell_type": "code",
   "execution_count": 38,
   "metadata": {},
   "outputs": [
    {
     "data": {
      "text/html": [
       "<div>\n",
       "<style scoped>\n",
       "    .dataframe tbody tr th:only-of-type {\n",
       "        vertical-align: middle;\n",
       "    }\n",
       "\n",
       "    .dataframe tbody tr th {\n",
       "        vertical-align: top;\n",
       "    }\n",
       "\n",
       "    .dataframe thead th {\n",
       "        text-align: right;\n",
       "    }\n",
       "</style>\n",
       "<table border=\"1\" class=\"dataframe\">\n",
       "  <thead>\n",
       "    <tr style=\"text-align: right;\">\n",
       "      <th></th>\n",
       "      <th>total_images</th>\n",
       "      <th>last_price</th>\n",
       "      <th>total_area</th>\n",
       "      <th>first_day_exposition</th>\n",
       "      <th>rooms</th>\n",
       "      <th>ceiling_height</th>\n",
       "      <th>floors_total</th>\n",
       "      <th>living_area</th>\n",
       "      <th>floor</th>\n",
       "      <th>is_apartment</th>\n",
       "      <th>...</th>\n",
       "      <th>parks_around3000</th>\n",
       "      <th>parks_nearest</th>\n",
       "      <th>ponds_around3000</th>\n",
       "      <th>ponds_nearest</th>\n",
       "      <th>days_exposition</th>\n",
       "      <th>cost_metr</th>\n",
       "      <th>date</th>\n",
       "      <th>month</th>\n",
       "      <th>year</th>\n",
       "      <th>floor_type</th>\n",
       "    </tr>\n",
       "  </thead>\n",
       "  <tbody>\n",
       "    <tr>\n",
       "      <th>0</th>\n",
       "      <td>20</td>\n",
       "      <td>13000000.0</td>\n",
       "      <td>108.0</td>\n",
       "      <td>2019-03-07</td>\n",
       "      <td>3</td>\n",
       "      <td>2.70</td>\n",
       "      <td>16</td>\n",
       "      <td>51.0</td>\n",
       "      <td>8</td>\n",
       "      <td>True</td>\n",
       "      <td>...</td>\n",
       "      <td>1.0</td>\n",
       "      <td>0.5</td>\n",
       "      <td>2.0</td>\n",
       "      <td>0.8</td>\n",
       "      <td>0.0</td>\n",
       "      <td>120370.0</td>\n",
       "      <td>3</td>\n",
       "      <td>3</td>\n",
       "      <td>2019</td>\n",
       "      <td>другой</td>\n",
       "    </tr>\n",
       "    <tr>\n",
       "      <th>1</th>\n",
       "      <td>7</td>\n",
       "      <td>3350000.0</td>\n",
       "      <td>40.4</td>\n",
       "      <td>2018-12-04</td>\n",
       "      <td>1</td>\n",
       "      <td>2.65</td>\n",
       "      <td>11</td>\n",
       "      <td>18.6</td>\n",
       "      <td>1</td>\n",
       "      <td>True</td>\n",
       "      <td>...</td>\n",
       "      <td>0.0</td>\n",
       "      <td>0.0</td>\n",
       "      <td>0.0</td>\n",
       "      <td>0.0</td>\n",
       "      <td>81.0</td>\n",
       "      <td>82921.0</td>\n",
       "      <td>1</td>\n",
       "      <td>12</td>\n",
       "      <td>2018</td>\n",
       "      <td>первый</td>\n",
       "    </tr>\n",
       "    <tr>\n",
       "      <th>2</th>\n",
       "      <td>10</td>\n",
       "      <td>5196000.0</td>\n",
       "      <td>56.0</td>\n",
       "      <td>2015-08-20</td>\n",
       "      <td>2</td>\n",
       "      <td>2.65</td>\n",
       "      <td>5</td>\n",
       "      <td>34.3</td>\n",
       "      <td>4</td>\n",
       "      <td>True</td>\n",
       "      <td>...</td>\n",
       "      <td>1.0</td>\n",
       "      <td>0.1</td>\n",
       "      <td>2.0</td>\n",
       "      <td>0.6</td>\n",
       "      <td>558.0</td>\n",
       "      <td>92786.0</td>\n",
       "      <td>3</td>\n",
       "      <td>8</td>\n",
       "      <td>2015</td>\n",
       "      <td>другой</td>\n",
       "    </tr>\n",
       "    <tr>\n",
       "      <th>3</th>\n",
       "      <td>0</td>\n",
       "      <td>64900000.0</td>\n",
       "      <td>159.0</td>\n",
       "      <td>2015-07-24</td>\n",
       "      <td>3</td>\n",
       "      <td>2.65</td>\n",
       "      <td>14</td>\n",
       "      <td>30.0</td>\n",
       "      <td>9</td>\n",
       "      <td>True</td>\n",
       "      <td>...</td>\n",
       "      <td>2.0</td>\n",
       "      <td>0.1</td>\n",
       "      <td>3.0</td>\n",
       "      <td>0.2</td>\n",
       "      <td>424.0</td>\n",
       "      <td>408176.0</td>\n",
       "      <td>4</td>\n",
       "      <td>7</td>\n",
       "      <td>2015</td>\n",
       "      <td>другой</td>\n",
       "    </tr>\n",
       "    <tr>\n",
       "      <th>4</th>\n",
       "      <td>2</td>\n",
       "      <td>10000000.0</td>\n",
       "      <td>100.0</td>\n",
       "      <td>2018-06-19</td>\n",
       "      <td>2</td>\n",
       "      <td>3.03</td>\n",
       "      <td>14</td>\n",
       "      <td>32.0</td>\n",
       "      <td>13</td>\n",
       "      <td>True</td>\n",
       "      <td>...</td>\n",
       "      <td>2.0</td>\n",
       "      <td>0.1</td>\n",
       "      <td>1.0</td>\n",
       "      <td>0.0</td>\n",
       "      <td>121.0</td>\n",
       "      <td>100000.0</td>\n",
       "      <td>1</td>\n",
       "      <td>6</td>\n",
       "      <td>2018</td>\n",
       "      <td>другой</td>\n",
       "    </tr>\n",
       "  </tbody>\n",
       "</table>\n",
       "<p>5 rows × 27 columns</p>\n",
       "</div>"
      ],
      "text/plain": [
       "   total_images  last_price  total_area first_day_exposition  rooms  \\\n",
       "0            20  13000000.0       108.0           2019-03-07      3   \n",
       "1             7   3350000.0        40.4           2018-12-04      1   \n",
       "2            10   5196000.0        56.0           2015-08-20      2   \n",
       "3             0  64900000.0       159.0           2015-07-24      3   \n",
       "4             2  10000000.0       100.0           2018-06-19      2   \n",
       "\n",
       "   ceiling_height  floors_total  living_area  floor  is_apartment  ...  \\\n",
       "0            2.70            16         51.0      8          True  ...   \n",
       "1            2.65            11         18.6      1          True  ...   \n",
       "2            2.65             5         34.3      4          True  ...   \n",
       "3            2.65            14         30.0      9          True  ...   \n",
       "4            3.03            14         32.0     13          True  ...   \n",
       "\n",
       "   parks_around3000  parks_nearest  ponds_around3000  ponds_nearest  \\\n",
       "0               1.0            0.5               2.0            0.8   \n",
       "1               0.0            0.0               0.0            0.0   \n",
       "2               1.0            0.1               2.0            0.6   \n",
       "3               2.0            0.1               3.0            0.2   \n",
       "4               2.0            0.1               1.0            0.0   \n",
       "\n",
       "  days_exposition  cost_metr  date  month  year  floor_type  \n",
       "0             0.0   120370.0     3      3  2019      другой  \n",
       "1            81.0    82921.0     1     12  2018      первый  \n",
       "2           558.0    92786.0     3      8  2015      другой  \n",
       "3           424.0   408176.0     4      7  2015      другой  \n",
       "4           121.0   100000.0     1      6  2018      другой  \n",
       "\n",
       "[5 rows x 27 columns]"
      ]
     },
     "metadata": {},
     "output_type": "display_data"
    }
   ],
   "source": [
    "## определяем тип этажа и записываем в столбец floor_type\n",
    "data.loc[(data['floor'] == 1), 'floor_type'] = 'первый'\n",
    "data.loc[(data['floor'] == data['floors_total']), 'floor_type'] = 'последний'\n",
    "data.loc[(data['floor'] != data['floors_total']) & (data['floor'] != 1), 'floor_type'] = 'другой'\n",
    "display(data.head(5))"
   ]
  },
  {
   "cell_type": "code",
   "execution_count": 40,
   "metadata": {},
   "outputs": [
    {
     "data": {
      "text/html": [
       "<div>\n",
       "<style scoped>\n",
       "    .dataframe tbody tr th:only-of-type {\n",
       "        vertical-align: middle;\n",
       "    }\n",
       "\n",
       "    .dataframe tbody tr th {\n",
       "        vertical-align: top;\n",
       "    }\n",
       "\n",
       "    .dataframe thead th {\n",
       "        text-align: right;\n",
       "    }\n",
       "</style>\n",
       "<table border=\"1\" class=\"dataframe\">\n",
       "  <thead>\n",
       "    <tr style=\"text-align: right;\">\n",
       "      <th></th>\n",
       "      <th>total_images</th>\n",
       "      <th>last_price</th>\n",
       "      <th>total_area</th>\n",
       "      <th>first_day_exposition</th>\n",
       "      <th>rooms</th>\n",
       "      <th>ceiling_height</th>\n",
       "      <th>floors_total</th>\n",
       "      <th>living_area</th>\n",
       "      <th>floor</th>\n",
       "      <th>is_apartment</th>\n",
       "      <th>...</th>\n",
       "      <th>parks_nearest</th>\n",
       "      <th>ponds_around3000</th>\n",
       "      <th>ponds_nearest</th>\n",
       "      <th>days_exposition</th>\n",
       "      <th>cost_metr</th>\n",
       "      <th>date</th>\n",
       "      <th>month</th>\n",
       "      <th>year</th>\n",
       "      <th>floor_type</th>\n",
       "      <th>floor_type_sns</th>\n",
       "    </tr>\n",
       "  </thead>\n",
       "  <tbody>\n",
       "    <tr>\n",
       "      <th>0</th>\n",
       "      <td>20</td>\n",
       "      <td>13000000.0</td>\n",
       "      <td>108.0</td>\n",
       "      <td>2019-03-07</td>\n",
       "      <td>3</td>\n",
       "      <td>2.70</td>\n",
       "      <td>16</td>\n",
       "      <td>51.0</td>\n",
       "      <td>8</td>\n",
       "      <td>True</td>\n",
       "      <td>...</td>\n",
       "      <td>0.5</td>\n",
       "      <td>2.0</td>\n",
       "      <td>0.8</td>\n",
       "      <td>0.0</td>\n",
       "      <td>120370.0</td>\n",
       "      <td>3</td>\n",
       "      <td>3</td>\n",
       "      <td>2019</td>\n",
       "      <td>другой</td>\n",
       "      <td>3.0</td>\n",
       "    </tr>\n",
       "    <tr>\n",
       "      <th>1</th>\n",
       "      <td>7</td>\n",
       "      <td>3350000.0</td>\n",
       "      <td>40.4</td>\n",
       "      <td>2018-12-04</td>\n",
       "      <td>1</td>\n",
       "      <td>2.65</td>\n",
       "      <td>11</td>\n",
       "      <td>18.6</td>\n",
       "      <td>1</td>\n",
       "      <td>True</td>\n",
       "      <td>...</td>\n",
       "      <td>0.0</td>\n",
       "      <td>0.0</td>\n",
       "      <td>0.0</td>\n",
       "      <td>81.0</td>\n",
       "      <td>82921.0</td>\n",
       "      <td>1</td>\n",
       "      <td>12</td>\n",
       "      <td>2018</td>\n",
       "      <td>первый</td>\n",
       "      <td>1.0</td>\n",
       "    </tr>\n",
       "    <tr>\n",
       "      <th>2</th>\n",
       "      <td>10</td>\n",
       "      <td>5196000.0</td>\n",
       "      <td>56.0</td>\n",
       "      <td>2015-08-20</td>\n",
       "      <td>2</td>\n",
       "      <td>2.65</td>\n",
       "      <td>5</td>\n",
       "      <td>34.3</td>\n",
       "      <td>4</td>\n",
       "      <td>True</td>\n",
       "      <td>...</td>\n",
       "      <td>0.1</td>\n",
       "      <td>2.0</td>\n",
       "      <td>0.6</td>\n",
       "      <td>558.0</td>\n",
       "      <td>92786.0</td>\n",
       "      <td>3</td>\n",
       "      <td>8</td>\n",
       "      <td>2015</td>\n",
       "      <td>другой</td>\n",
       "      <td>3.0</td>\n",
       "    </tr>\n",
       "    <tr>\n",
       "      <th>3</th>\n",
       "      <td>0</td>\n",
       "      <td>64900000.0</td>\n",
       "      <td>159.0</td>\n",
       "      <td>2015-07-24</td>\n",
       "      <td>3</td>\n",
       "      <td>2.65</td>\n",
       "      <td>14</td>\n",
       "      <td>30.0</td>\n",
       "      <td>9</td>\n",
       "      <td>True</td>\n",
       "      <td>...</td>\n",
       "      <td>0.1</td>\n",
       "      <td>3.0</td>\n",
       "      <td>0.2</td>\n",
       "      <td>424.0</td>\n",
       "      <td>408176.0</td>\n",
       "      <td>4</td>\n",
       "      <td>7</td>\n",
       "      <td>2015</td>\n",
       "      <td>другой</td>\n",
       "      <td>3.0</td>\n",
       "    </tr>\n",
       "    <tr>\n",
       "      <th>4</th>\n",
       "      <td>2</td>\n",
       "      <td>10000000.0</td>\n",
       "      <td>100.0</td>\n",
       "      <td>2018-06-19</td>\n",
       "      <td>2</td>\n",
       "      <td>3.03</td>\n",
       "      <td>14</td>\n",
       "      <td>32.0</td>\n",
       "      <td>13</td>\n",
       "      <td>True</td>\n",
       "      <td>...</td>\n",
       "      <td>0.1</td>\n",
       "      <td>1.0</td>\n",
       "      <td>0.0</td>\n",
       "      <td>121.0</td>\n",
       "      <td>100000.0</td>\n",
       "      <td>1</td>\n",
       "      <td>6</td>\n",
       "      <td>2018</td>\n",
       "      <td>другой</td>\n",
       "      <td>3.0</td>\n",
       "    </tr>\n",
       "  </tbody>\n",
       "</table>\n",
       "<p>5 rows × 28 columns</p>\n",
       "</div>"
      ],
      "text/plain": [
       "   total_images  last_price  total_area first_day_exposition  rooms  \\\n",
       "0            20  13000000.0       108.0           2019-03-07      3   \n",
       "1             7   3350000.0        40.4           2018-12-04      1   \n",
       "2            10   5196000.0        56.0           2015-08-20      2   \n",
       "3             0  64900000.0       159.0           2015-07-24      3   \n",
       "4             2  10000000.0       100.0           2018-06-19      2   \n",
       "\n",
       "   ceiling_height  floors_total  living_area  floor  is_apartment  ...  \\\n",
       "0            2.70            16         51.0      8          True  ...   \n",
       "1            2.65            11         18.6      1          True  ...   \n",
       "2            2.65             5         34.3      4          True  ...   \n",
       "3            2.65            14         30.0      9          True  ...   \n",
       "4            3.03            14         32.0     13          True  ...   \n",
       "\n",
       "   parks_nearest  ponds_around3000  ponds_nearest  days_exposition cost_metr  \\\n",
       "0            0.5               2.0            0.8              0.0  120370.0   \n",
       "1            0.0               0.0            0.0             81.0   82921.0   \n",
       "2            0.1               2.0            0.6            558.0   92786.0   \n",
       "3            0.1               3.0            0.2            424.0  408176.0   \n",
       "4            0.1               1.0            0.0            121.0  100000.0   \n",
       "\n",
       "   date  month  year  floor_type  floor_type_sns  \n",
       "0     3      3  2019      другой             3.0  \n",
       "1     1     12  2018      первый             1.0  \n",
       "2     3      8  2015      другой             3.0  \n",
       "3     4      7  2015      другой             3.0  \n",
       "4     1      6  2018      другой             3.0  \n",
       "\n",
       "[5 rows x 28 columns]"
      ]
     },
     "metadata": {},
     "output_type": "display_data"
    }
   ],
   "source": [
    "## определяем тип этажа и записываем в столбец floor_type_sns для построения графика\n",
    "data.loc[(data['floor'] == 1), 'floor_type_sns'] = 1\n",
    "data.loc[(data['floor'] == data['floors_total']), 'floor_type_sns'] = 2\n",
    "data.loc[(data['floor'] != data['floors_total']) & (data['floor'] != 1), 'floor_type_sns'] = 3\n",
    "display(data.head(5))"
   ]
  },
  {
   "cell_type": "markdown",
   "metadata": {},
   "source": [
    "### Шаг 4. Проведите исследовательский анализ данных."
   ]
  },
  {
   "cell_type": "markdown",
   "metadata": {},
   "source": [
    "### Шаг 4.1 Изучите следующие параметры"
   ]
  },
  {
   "cell_type": "code",
   "execution_count": 45,
   "metadata": {
    "scrolled": true
   },
   "outputs": [
    {
     "name": "stdout",
     "output_type": "stream",
     "text": [
      "Общая площадь AxesSubplot(0.125,0.125;0.775x0.755)\n"
     ]
    },
    {
     "data": {
      "image/png": "[encoded data removed]",
      "text/plain": [
       "<Figure size 432x288 with 1 Axes>"
      ]
     },
     "metadata": {
      "needs_background": "light"
     },
     "output_type": "display_data"
    }
   ],
   "source": [
    "print('Общая площадь',data['total_area'].hist(range = (0, 200), bins=10))\n",
    "plt.show()"
   ]
  },
  {
   "cell_type": "markdown",
   "metadata": {},
   "source": [
    "- **Общая площадь** продаваемых квартир варьируется от 23м2 до 100м2. Больше всего продается квартиры с площадью от 40м2 - 60м2. Квартир с площадью более 100м2 представлено достаточно мало.  "
   ]
  },
  {
   "cell_type": "code",
   "execution_count": 46,
   "metadata": {
    "scrolled": true
   },
   "outputs": [
    {
     "name": "stdout",
     "output_type": "stream",
     "text": [
      "Жилая площадь AxesSubplot(0.125,0.125;0.775x0.755)\n"
     ]
    },
    {
     "data": {
      "image/png": "[encoded data removed]",
      "text/plain": [
       "<Figure size 432x288 with 1 Axes>"
      ]
     },
     "metadata": {
      "needs_background": "light"
     },
     "output_type": "display_data"
    }
   ],
   "source": [
    "print('Жилая площадь',data['living_area'].hist(range = (0, 100), bins=10));\n",
    "plt.show()"
   ]
  },
  {
   "cell_type": "markdown",
   "metadata": {},
   "source": [
    "- **Жилая площадь** в продаваемых квартирах находится в диапазоне от 15м2 до 40м2. Наблюдается спад в районе 30м2. После 40м2 наблюдается равномерное снижение.  "
   ]
  },
  {
   "cell_type": "code",
   "execution_count": 47,
   "metadata": {
    "scrolled": true
   },
   "outputs": [
    {
     "name": "stdout",
     "output_type": "stream",
     "text": [
      "Площадь кухни AxesSubplot(0.125,0.125;0.775x0.755)\n"
     ]
    },
    {
     "data": {
      "image/png": "[encoded data removed]",
      "text/plain": [
       "<Figure size 432x288 with 1 Axes>"
      ]
     },
     "metadata": {
      "needs_background": "light"
     },
     "output_type": "display_data"
    }
   ],
   "source": [
    "print('Площадь кухни',data['kitchen_area'].hist(range = (0, 40), bins=10))\n",
    "plt.show()"
   ]
  },
  {
   "cell_type": "markdown",
   "metadata": {},
   "source": [
    "- **Площадь кухни** в продаваемых квартирах находится в диапазоне от 5м2 до 10м2. После 12 м2 наблюдается резкий спад.   "
   ]
  },
  {
   "cell_type": "code",
   "execution_count": 48,
   "metadata": {
    "scrolled": true
   },
   "outputs": [
    {
     "name": "stdout",
     "output_type": "stream",
     "text": [
      "Цена объекта AxesSubplot(0.125,0.125;0.775x0.755)\n"
     ]
    },
    {
     "data": {
      "image/png": "[encoded data removed]",
      "text/plain": [
       "<Figure size 432x288 with 1 Axes>"
      ]
     },
     "metadata": {
      "needs_background": "light"
     },
     "output_type": "display_data"
    }
   ],
   "source": [
    "print('Цена объекта',data['last_price'].hist(range = (1000000, 10000000), bins=50))#, figsize=(20, 10)))\n",
    "plt.show()"
   ]
  },
  {
   "cell_type": "markdown",
   "metadata": {},
   "source": [
    "- **Цена объекта** находится в диапазоне от 500 т.р. до 500 млн.р., стоимость распределилась равномерно, с пиком в районе от 25 млн.р. до 60 млн.р.  "
   ]
  },
  {
   "cell_type": "code",
   "execution_count": 49,
   "metadata": {
    "scrolled": true
   },
   "outputs": [
    {
     "name": "stdout",
     "output_type": "stream",
     "text": [
      "Количество комнат AxesSubplot(0.125,0.125;0.775x0.755)\n"
     ]
    },
    {
     "data": {
      "image/png": "[encoded data removed]",
      "text/plain": [
       "<Figure size 432x288 with 1 Axes>"
      ]
     },
     "metadata": {
      "needs_background": "light"
     },
     "output_type": "display_data"
    }
   ],
   "source": [
    "print('Количество комнат',data['rooms'].hist(range = (0, 10), bins=10))#, figsize=(20, 10)))\n",
    "plt.show()"
   ]
  },
  {
   "cell_type": "markdown",
   "metadata": {},
   "source": [
    "- **Количество комнат** в продаваемых квартирах в своем большинстве составляет от 1 до 3, значительно меньше от 4 до 4.  "
   ]
  },
  {
   "cell_type": "code",
   "execution_count": 50,
   "metadata": {
    "scrolled": true
   },
   "outputs": [
    {
     "name": "stdout",
     "output_type": "stream",
     "text": [
      "Высота потолков AxesSubplot(0.125,0.125;0.775x0.755)\n"
     ]
    },
    {
     "data": {
      "image/png": "[encoded data removed]",
      "text/plain": [
       "<Figure size 432x288 with 1 Axes>"
      ]
     },
     "metadata": {
      "needs_background": "light"
     },
     "output_type": "display_data"
    }
   ],
   "source": [
    "print('Высота потолков',data['ceiling_height'].hist(range = (2, 5), bins=4))#, figsize=(20, 10)))\n",
    "plt.show()"
   ]
  },
  {
   "cell_type": "markdown",
   "metadata": {},
   "source": [
    "- **Высота потолков** - находится в диапазоне от 2м. до 2,75м. и от 2.75 до 3.5. Квартиры с высотой потолков выше 5м. в выборку не попали.  "
   ]
  },
  {
   "cell_type": "code",
   "execution_count": 51,
   "metadata": {
    "scrolled": true
   },
   "outputs": [
    {
     "name": "stdout",
     "output_type": "stream",
     "text": [
      "Этаж квартиры AxesSubplot(0.125,0.125;0.775x0.755)\n"
     ]
    },
    {
     "data": {
      "image/png": "[encoded data removed]",
      "text/plain": [
       "<Figure size 432x288 with 1 Axes>"
      ]
     },
     "metadata": {
      "needs_background": "light"
     },
     "output_type": "display_data"
    }
   ],
   "source": [
    "print('Этаж квартиры',data['floor'].hist(range = (1, 30), bins=30))#, figsize=(10, 10)))\n",
    "plt.show()"
   ]
  },
  {
   "cell_type": "markdown",
   "metadata": {},
   "source": [
    "- **Этаж продаваемых квартир** большинство квартир продаются с 1 по 7 этаж, с выраженным увеличением в районе 2 и 3 этажей. После 7 этажа идет равномерный спад."
   ]
  },
  {
   "cell_type": "code",
   "execution_count": 52,
   "metadata": {
    "scrolled": true
   },
   "outputs": [
    {
     "name": "stdout",
     "output_type": "stream",
     "text": [
      "Тип этажа AxesSubplot(0.125,0.125;0.775x0.755)\n"
     ]
    },
    {
     "data": {
      "image/png": "[encoded data removed]",
      "text/plain": [
       "<Figure size 432x288 with 1 Axes>"
      ]
     },
     "metadata": {
      "needs_background": "light"
     },
     "output_type": "display_data"
    }
   ],
   "source": [
    "print('Тип этажа',data['floor_type'].hist(range = (0, 3), bins=3))#, figsize=(10, 10)))\n",
    "plt.show()"
   ]
  },
  {
   "cell_type": "markdown",
   "metadata": {},
   "source": [
    "- **Тип этажа** данные между крайними этажами распределились равномерно, по графику мы видимо, что большая часть квартир продается на средних этажах.  "
   ]
  },
  {
   "cell_type": "code",
   "execution_count": 53,
   "metadata": {
    "scrolled": true
   },
   "outputs": [
    {
     "name": "stdout",
     "output_type": "stream",
     "text": [
      "Общее количество этажей в доме AxesSubplot(0.125,0.125;0.775x0.755)\n"
     ]
    },
    {
     "data": {
      "image/png": "[encoded data removed]",
      "text/plain": [
       "<Figure size 432x288 with 1 Axes>"
      ]
     },
     "metadata": {
      "needs_background": "light"
     },
     "output_type": "display_data"
    }
   ],
   "source": [
    "print('Общее количество этажей в доме',data['floors_total'].hist(range = (0, 30), bins=30))#, figsize=(10, 10)))\n",
    "plt.show()"
   ]
  },
  {
   "cell_type": "markdown",
   "metadata": {},
   "source": [
    "- **Количество этажей в доме** из представленного графика видно, что большая часть квартир продается в 5, 9 и 16 этажных домах. Остальные дома распределились равномерно от общего количества.  "
   ]
  },
  {
   "cell_type": "code",
   "execution_count": 54,
   "metadata": {
    "scrolled": true
   },
   "outputs": [
    {
     "name": "stdout",
     "output_type": "stream",
     "text": [
      "Расстояние от центра города AxesSubplot(0.125,0.125;0.775x0.755)\n"
     ]
    },
    {
     "data": {
      "image/png": "[encoded data removed]",
      "text/plain": [
       "<Figure size 432x288 with 1 Axes>"
      ]
     },
     "metadata": {
      "needs_background": "light"
     },
     "output_type": "display_data"
    }
   ],
   "source": [
    "print('Расстояние от центра города',data['city_сenters_nearest'].hist(range = (1, 40), bins=30))#, figsize=(10, 10)))\n",
    "plt.show()"
   ]
  },
  {
   "cell_type": "markdown",
   "metadata": {},
   "source": [
    "- **Расстояние от центра города** расстояние распределилось от 7 до 17 км., ярко выраженные участки 5 и 15 км. "
   ]
  },
  {
   "cell_type": "code",
   "execution_count": 55,
   "metadata": {
    "scrolled": true
   },
   "outputs": [
    {
     "name": "stdout",
     "output_type": "stream",
     "text": [
      "Расстояние от аэропорта AxesSubplot(0.125,0.125;0.775x0.755)\n"
     ]
    },
    {
     "data": {
      "image/png": "[encoded data removed]",
      "text/plain": [
       "<Figure size 432x288 with 1 Axes>"
      ]
     },
     "metadata": {
      "needs_background": "light"
     },
     "output_type": "display_data"
    }
   ],
   "source": [
    "print('Расстояние от аэропорта',data['airports_nearest'].hist(range = (5, 80), bins=30));#, figsize=(10, 10)))\n",
    "plt.show()"
   ]
  },
  {
   "cell_type": "markdown",
   "metadata": {},
   "source": [
    "- **Расстояние от аэропорта** в среднем значения распределились от 10 до 35 км., после 35 км. идет равномерный спад."
   ]
  },
  {
   "cell_type": "code",
   "execution_count": 56,
   "metadata": {
    "scrolled": true
   },
   "outputs": [
    {
     "name": "stdout",
     "output_type": "stream",
     "text": [
      "Расстояние до ближайшего парка AxesSubplot(0.125,0.125;0.775x0.755)\n"
     ]
    },
    {
     "data": {
      "image/png": "[encoded data removed]",
      "text/plain": [
       "<Figure size 432x288 with 1 Axes>"
      ]
     },
     "metadata": {
      "needs_background": "light"
     },
     "output_type": "display_data"
    }
   ],
   "source": [
    "print('Расстояние до ближайшего парка',data['parks_nearest'].hist(range = (1, 3), bins=10))#, figsize=(10, 10)))\n",
    "plt.show()"
   ]
  },
  {
   "cell_type": "markdown",
   "metadata": {},
   "source": [
    "- **Расстояние до парка** в большинстве случаев квартиры находятся на расстоянии от 1 до 1,5 км. до парка и далее наблюдается увеличение в диапазоне от 2 до 2,25 км. "
   ]
  },
  {
   "cell_type": "code",
   "execution_count": 57,
   "metadata": {
    "scrolled": true
   },
   "outputs": [
    {
     "name": "stdout",
     "output_type": "stream",
     "text": [
      "День публикации объявления AxesSubplot(0.125,0.125;0.775x0.755)\n",
      "Месяц публикации объявления AxesSubplot(0.125,0.125;0.775x0.755)\n"
     ]
    },
    {
     "data": {
      "image/png": "[encoded data removed]",
      "text/plain": [
       "<Figure size 432x288 with 1 Axes>"
      ]
     },
     "metadata": {
      "needs_background": "light"
     },
     "output_type": "display_data"
    }
   ],
   "source": [
    "print('День публикации объявления',data['date'].hist(range = (0, 8), bins=8));#, figsize=(10, 10)))\n",
    "print('Месяц публикации объявления',data['month'].hist(range = (0, 12), bins=12, alpha = 0.5));#, figsize=(10, 10)))\n",
    "plt.show()"
   ]
  },
  {
   "cell_type": "markdown",
   "metadata": {},
   "source": [
    "- **День и месяц размещения объявления** по графику видно, что больше всего объявлений размещали в декабре и в весенние месяцы, летом наблюдается незначительный спад. По дням недели видно, что в выходные дни размещают в 2 раза меньше объявлений чем в рабочие дни, пик размещений приходится на вторник и четверг. "
   ]
  },
  {
   "cell_type": "markdown",
   "metadata": {},
   "source": [
    "### Шаг 4.2 Как быстро продавались квартиры"
   ]
  },
  {
   "cell_type": "code",
   "execution_count": 58,
   "metadata": {
    "scrolled": false
   },
   "outputs": [
    {
     "name": "stdout",
     "output_type": "stream",
     "text": [
      "Как быстро продавались квартиры AxesSubplot(0.125,0.125;0.775x0.755)\n",
      "Средний срок продажи квартиры составляет: 159.09367410024288\n",
      "Медианный срок продажи квартиры составляет: 75.0\n"
     ]
    },
    {
     "data": {
      "image/png": "[encoded data removed]",
      "text/plain": [
       "<Figure size 432x288 with 1 Axes>"
      ]
     },
     "metadata": {
      "needs_background": "light"
     },
     "output_type": "display_data"
    }
   ],
   "source": [
    "print('Как быстро продавались квартиры',data['days_exposition'].hist(range = (0, 1000), bins=12))#, figsize=(10, 10)))\n",
    "print('Средний срок продажи квартиры составляет:', data['days_exposition'].mean())\n",
    "print('Медианный срок продажи квартиры составляет:', data['days_exposition'].median())\n",
    "plt.show()"
   ]
  },
  {
   "cell_type": "markdown",
   "metadata": {},
   "source": [
    "- Средний срок продажи квартиры составляет: 159 дней.\n",
    "- Медианный срок продажи квартиры составляет: 75 дней.\n",
    "- **Изучите, как быстро продавались квартиры** - по графику мы видим, что большинство квартир продавались с срок до 200 дней, средний срок по всей выборке состаивл 159 дней. Медианное значение составило 75 дней. Исходя из этого я могу сделать вывод, что нормальным сроком для продажи квартиры является срок равный 100-115 дней или от 3 до 4 месяцев. Объявление имеющий срок больше одного года являются необычно долгими. "
   ]
  },
  {
   "cell_type": "markdown",
   "metadata": {},
   "source": [
    "### Шаг 4.3 Какие факторы больше всего влияют на общую стоимость"
   ]
  },
  {
   "cell_type": "code",
   "execution_count": 59,
   "metadata": {
    "scrolled": false
   },
   "outputs": [
    {
     "data": {
      "image/png": "[encoded data removed]",
      "text/plain": [
       "<Figure size 432x288 with 1 Axes>"
      ]
     },
     "metadata": {
      "needs_background": "light"
     },
     "output_type": "display_data"
    }
   ],
   "source": [
    "x1 = data['last_price']\n",
    "y1 = data['total_area']\n",
    "plt.scatter(x1, y1, c =\"pink\", linewidths = 1, marker =\"o\", edgecolor =\"black\", alpha = 0.1, s = 100)\n",
    "plt.xlabel(\"Стоимость\")\n",
    "plt.ylabel(\"Общая площадь\")\n",
    "plt.show()"
   ]
  },
  {
   "cell_type": "code",
   "execution_count": 60,
   "metadata": {
    "scrolled": false
   },
   "outputs": [
    {
     "data": {
      "image/png": "[encoded data removed]",
      "text/plain": [
       "<Figure size 432x288 with 1 Axes>"
      ]
     },
     "metadata": {
      "needs_background": "light"
     },
     "output_type": "display_data"
    }
   ],
   "source": [
    "x1 = data['last_price']\n",
    "y1 = data['living_area']\n",
    "plt.scatter(x1, y1, c =\"pink\", linewidths = 1, marker =\"o\", edgecolor =\"black\", alpha = 0.1, s = 100)\n",
    "plt.xlabel(\"Стоимость\")\n",
    "plt.ylabel(\"Жилая площадь\")\n",
    "plt.show()"
   ]
  },
  {
   "cell_type": "code",
   "execution_count": 61,
   "metadata": {
    "scrolled": false
   },
   "outputs": [
    {
     "data": {
      "image/png": "[encoded data removed]",
      "text/plain": [
       "<Figure size 432x288 with 1 Axes>"
      ]
     },
     "metadata": {
      "needs_background": "light"
     },
     "output_type": "display_data"
    }
   ],
   "source": [
    "x1 = data['last_price']\n",
    "y2 = data['kitchen_area']\n",
    "plt.scatter(x1, y2, c =\"pink\", linewidths = 1, marker =\"o\", edgecolor =\"black\", alpha = 0.1, s = 100)\n",
    "plt.xlabel(\"Стоимость\")\n",
    "plt.ylabel(\"Площадь кухни\")\n",
    "plt.show()"
   ]
  },
  {
   "cell_type": "code",
   "execution_count": 62,
   "metadata": {
    "scrolled": false
   },
   "outputs": [
    {
     "data": {
      "image/png": "[encoded data removed]",
      "text/plain": [
       "<Figure size 432x288 with 1 Axes>"
      ]
     },
     "metadata": {
      "needs_background": "light"
     },
     "output_type": "display_data"
    }
   ],
   "source": [
    "x1 = data['last_price']\n",
    "y3 = data['rooms']\n",
    "plt.scatter(x1, y3, c =\"pink\", linewidths = 1, marker =\"o\", edgecolor =\"black\", alpha = 0.1, s = 100)\n",
    "plt.xlabel(\"Стоимость\")\n",
    "plt.ylabel(\"Количество комнат\")\n",
    "plt.show()"
   ]
  },
  {
   "cell_type": "code",
   "execution_count": 63,
   "metadata": {
    "scrolled": false
   },
   "outputs": [
    {
     "data": {
      "image/png": "[encoded data removed]",
      "text/plain": [
       "<Figure size 432x288 with 1 Axes>"
      ]
     },
     "metadata": {
      "needs_background": "light"
     },
     "output_type": "display_data"
    }
   ],
   "source": [
    "x1 = data['last_price']\n",
    "y4 = data['floor_type_sns']\n",
    "plt.scatter(x1, y4, c =\"pink\", linewidths = 1, marker =\"o\", edgecolor =\"black\", alpha = 0.1, s = 100)\n",
    "plt.xlabel(\"Стоимость\")\n",
    "plt.ylabel(\"Тип этажа: 1 - первый, 2 - посдений, 3 - другой\")\n",
    "plt.show()"
   ]
  },
  {
   "cell_type": "code",
   "execution_count": 64,
   "metadata": {
    "scrolled": false
   },
   "outputs": [
    {
     "data": {
      "image/png": "[encoded data removed]",
      "text/plain": [
       "<Figure size 432x288 with 1 Axes>"
      ]
     },
     "metadata": {
      "needs_background": "light"
     },
     "output_type": "display_data"
    }
   ],
   "source": [
    "x1 = data['last_price']\n",
    "y5 = data['date']\n",
    "plt.scatter(x1, y5, c =\"pink\", linewidths = 1, marker =\"o\", edgecolor =\"black\", alpha = 0.1, s = 100)\n",
    "plt.xlabel(\"Стоимость\")\n",
    "plt.ylabel(\"День размещения объявления\")\n",
    "plt.show()"
   ]
  },
  {
   "cell_type": "code",
   "execution_count": 65,
   "metadata": {
    "scrolled": false
   },
   "outputs": [
    {
     "data": {
      "image/png": "[encoded data removed]",
      "text/plain": [
       "<Figure size 432x288 with 1 Axes>"
      ]
     },
     "metadata": {
      "needs_background": "light"
     },
     "output_type": "display_data"
    }
   ],
   "source": [
    "x1 = data['last_price']\n",
    "y6 = data['month']\n",
    "plt.scatter(x1, y6, c =\"pink\", linewidths = 1, marker =\"o\", edgecolor =\"black\", alpha = 0.1, s = 100)\n",
    "plt.xlabel(\"Стоимость\")\n",
    "plt.ylabel(\"Месяц размещения объявления\")\n",
    "plt.show()"
   ]
  },
  {
   "cell_type": "code",
   "execution_count": 66,
   "metadata": {
    "scrolled": false
   },
   "outputs": [
    {
     "data": {
      "image/png": "[encoded data removed]",
      "text/plain": [
       "<Figure size 432x288 with 1 Axes>"
      ]
     },
     "metadata": {
      "needs_background": "light"
     },
     "output_type": "display_data"
    }
   ],
   "source": [
    "x1 = data['last_price']\n",
    "y7 = data['year']\n",
    "plt.scatter(x1, y7, c =\"pink\", linewidths = 1, marker =\"o\", edgecolor =\"black\", alpha = 0.1, s = 100)\n",
    "plt.xlabel(\"Стоимость\")\n",
    "plt.ylabel(\"Год размещения объявления\")\n",
    "plt.show()"
   ]
  },
  {
   "cell_type": "code",
   "execution_count": 67,
   "metadata": {
    "scrolled": false
   },
   "outputs": [
    {
     "name": "stdout",
     "output_type": "stream",
     "text": [
      "[[<AxesSubplot:title={'center':'living_area'}>]]\n"
     ]
    },
    {
     "data": {
      "image/png": "[encoded data removed]",
      "text/plain": [
       "<Figure size 432x288 with 1 Axes>"
      ]
     },
     "metadata": {
      "needs_background": "light"
     },
     "output_type": "display_data"
    }
   ],
   "source": [
    "living_area = data.pivot_table(index='last_price', values='living_area')\n",
    "print(living_area.hist(bins=30, range = (0, 100)))\n",
    "plt.xlabel('Площадь жилая')\n",
    "plt.ylabel('Стоимость квартиры')\n",
    "plt.title('Зависимость стоимости от жилой площади')\n",
    "plt.show()"
   ]
  },
  {
   "cell_type": "markdown",
   "metadata": {},
   "source": [
    "- **Зависимость от жилой площади** - по построенному графику вижу зависимость, что самая высокая стоимость у квартир, имеющих жилую площадь равную 20 – 30 м2. Чем больше жилая площадь, тем ниже стоимость.   "
   ]
  },
  {
   "cell_type": "code",
   "execution_count": 68,
   "metadata": {
    "scrolled": false
   },
   "outputs": [
    {
     "name": "stdout",
     "output_type": "stream",
     "text": [
      "[[<AxesSubplot:title={'center':'kitchen_area'}>]]\n"
     ]
    },
    {
     "data": {
      "text/plain": [
       "Text(0.5, 1.0, 'Зависимость стоимости от площади кухни')"
      ]
     },
     "execution_count": 68,
     "metadata": {},
     "output_type": "execute_result"
    },
    {
     "data": {
      "image/png": "[encoded data removed]",
      "text/plain": [
       "<Figure size 432x288 with 1 Axes>"
      ]
     },
     "metadata": {
      "needs_background": "light"
     },
     "output_type": "display_data"
    }
   ],
   "source": [
    "kitchen_area = data.pivot_table(index='last_price', values='kitchen_area')\n",
    "print(kitchen_area.hist(bins=30, range = (0, 50), grid=True))\n",
    "plt.xlabel('Площадь кухни')\n",
    "plt.ylabel('Стоимость квартиры')\n",
    "plt.title('Зависимость стоимости от площади кухни')"
   ]
  },
  {
   "cell_type": "markdown",
   "metadata": {},
   "source": [
    "- **Зависимость от площади кухни** - по построенному графику вижу зависимость, что самая высокая стоимость у квартир, имеющих площадь кухни около 10 м2., чем больше площадь кухни, тем ниже стоимость квартиры.  "
   ]
  },
  {
   "cell_type": "code",
   "execution_count": 69,
   "metadata": {
    "scrolled": false
   },
   "outputs": [
    {
     "name": "stdout",
     "output_type": "stream",
     "text": [
      "[[<AxesSubplot:title={'center':'rooms'}>]]\n"
     ]
    },
    {
     "data": {
      "text/plain": [
       "Text(0.5, 1.0, 'Зависимость стоимости от количества комнат')"
      ]
     },
     "execution_count": 69,
     "metadata": {},
     "output_type": "execute_result"
    },
    {
     "data": {
      "image/png": "[encoded data removed]",
      "text/plain": [
       "<Figure size 432x288 with 1 Axes>"
      ]
     },
     "metadata": {
      "needs_background": "light"
     },
     "output_type": "display_data"
    }
   ],
   "source": [
    "rooms = data.pivot_table(index='last_price', values='rooms')\n",
    "print(rooms.hist(bins=30, range = (1, 10)))\n",
    "plt.xlabel('Количество комнат')\n",
    "plt.ylabel('Стоимость квартиры')\n",
    "plt.title('Зависимость стоимости от количества комнат')"
   ]
  },
  {
   "cell_type": "markdown",
   "metadata": {},
   "source": [
    "- **Зависимость от количества комнат** - по построенному графику вижу, что самая высокая стоимость у квартир, имеющих от 1 до 3 комнат, далее вижу, что чем больше комнат, тем ниже стоимость.  "
   ]
  },
  {
   "cell_type": "code",
   "execution_count": 70,
   "metadata": {
    "scrolled": false
   },
   "outputs": [
    {
     "data": {
      "text/plain": [
       "Text(0.5, 1.0, 'Зависимость стоимости от количества комнат')"
      ]
     },
     "execution_count": 70,
     "metadata": {},
     "output_type": "execute_result"
    },
    {
     "data": {
      "image/png": "[encoded data removed]",
      "text/plain": [
       "<Figure size 432x288 with 1 Axes>"
      ]
     },
     "metadata": {
      "needs_background": "light"
     },
     "output_type": "display_data"
    }
   ],
   "source": [
    "floor_type_plt = data.pivot_table(index='floor_type', values='last_price', \\\n",
    "aggfunc='median').sort_values('floor_type', ascending=False)\n",
    "floor_type_plt.plot(y='last_price', kind='barh', legend=False, grid=True)\n",
    "plt.ylabel('Количество комнат')\n",
    "plt.xlabel('Стоимость квартиры')\n",
    "plt.title('Зависимость стоимости от количества комнат')"
   ]
  },
  {
   "cell_type": "markdown",
   "metadata": {},
   "source": [
    "- **Зависимость от этажа, на котором расположена квартира (первый, последний, другой)** - по графику видно, что меньше всего квартир на первом этаже, на втором месте расположились квартиры на последнем этаже. В своем большинстве квартиры на средних этажах.  "
   ]
  },
  {
   "cell_type": "code",
   "execution_count": 71,
   "metadata": {
    "scrolled": false
   },
   "outputs": [
    {
     "data": {
      "text/plain": [
       "Text(0.5, 1.0, 'Зависимость стоимости от дня размещения')"
      ]
     },
     "execution_count": 71,
     "metadata": {},
     "output_type": "execute_result"
    },
    {
     "data": {
      "image/png": "[encoded data removed]",
      "text/plain": [
       "<Figure size 432x288 with 1 Axes>"
      ]
     },
     "metadata": {
      "needs_background": "light"
     },
     "output_type": "display_data"
    }
   ],
   "source": [
    "date = data.pivot_table(index='date', values='last_price')\n",
    "date.plot(y='last_price', kind='barh', legend=False, grid=True)\n",
    "plt.ylabel('День размещения объявления')\n",
    "plt.xlabel('Стоимость квартиры')\n",
    "plt.title('Зависимость стоимости от дня размещения')"
   ]
  },
  {
   "cell_type": "markdown",
   "metadata": {},
   "source": [
    "- **Зависимость от даты размещения (день недели, месяц, год)** - по графику вижу, что самая высокая стоимость у квартир, чьи объявления были размещены в субботу, в воскресенье самая низкая стоимость. Остальные дни распределились равномерно, с незначительным увеличением в среду и четверг.   "
   ]
  },
  {
   "cell_type": "code",
   "execution_count": 72,
   "metadata": {
    "scrolled": false
   },
   "outputs": [
    {
     "data": {
      "text/plain": [
       "Text(0.5, 1.0, 'Зависимость стоимости от года размещения')"
      ]
     },
     "execution_count": 72,
     "metadata": {},
     "output_type": "execute_result"
    },
    {
     "data": {
      "image/png": "[encoded data removed]",
      "text/plain": [
       "<Figure size 432x288 with 1 Axes>"
      ]
     },
     "metadata": {
      "needs_background": "light"
     },
     "output_type": "display_data"
    }
   ],
   "source": [
    "year = data.pivot_table(index='year', values='last_price')\n",
    "year.plot(y='last_price', kind='barh', legend=False, grid=True)\n",
    "plt.ylabel('Год размещения объявления')\n",
    "plt.xlabel('Стоимость квартиры')\n",
    "plt.title('Зависимость стоимости от года размещения')"
   ]
  },
  {
   "cell_type": "markdown",
   "metadata": {},
   "source": [
    "- **Зависимость от года размещения** - объявления размещенные в 2014 имели большую стоимость, видна зависимость как стоимость снижалась с 2014 по 2018 год, в 2019 году стоимость увеличилась.  "
   ]
  },
  {
   "cell_type": "code",
   "execution_count": 73,
   "metadata": {
    "scrolled": false
   },
   "outputs": [
    {
     "data": {
      "text/plain": [
       "Text(0.5, 1.0, 'Зависимость стоимости от месяца размещения')"
      ]
     },
     "execution_count": 73,
     "metadata": {},
     "output_type": "execute_result"
    },
    {
     "data": {
      "image/png": "[encoded data removed]",
      "text/plain": [
       "<Figure size 432x288 with 1 Axes>"
      ]
     },
     "metadata": {
      "needs_background": "light"
     },
     "output_type": "display_data"
    }
   ],
   "source": [
    "month = data.pivot_table(index='month', values='last_price')\n",
    "month.plot(y='last_price', kind='barh', legend=False, grid=True)\n",
    "plt.ylabel('Месяц размещения объявления')\n",
    "plt.xlabel('Стоимость квартиры')\n",
    "plt.title('Зависимость стоимости от месяца размещения')"
   ]
  },
  {
   "cell_type": "markdown",
   "metadata": {},
   "source": [
    "- **Зависимость от месяца размещения** - самая высокая стоимость у объявлений, размещенных в декабре. "
   ]
  },
  {
   "cell_type": "markdown",
   "metadata": {},
   "source": [
    "### Шаг 4.4 Посчитайте среднюю цену одного м2 в 10 населенных пунктах с наибольшим числом объявлений, выделите населенные пункты с самой низкой и самой высокой стоимостью"
   ]
  },
  {
   "cell_type": "code",
   "execution_count": 74,
   "metadata": {},
   "outputs": [
    {
     "name": "stdout",
     "output_type": "stream",
     "text": [
      "10 населенных пунктов с наибольшим количеством объявлений\n"
     ]
    },
    {
     "data": {
      "text/html": [
       "<div>\n",
       "<style scoped>\n",
       "    .dataframe tbody tr th:only-of-type {\n",
       "        vertical-align: middle;\n",
       "    }\n",
       "\n",
       "    .dataframe tbody tr th {\n",
       "        vertical-align: top;\n",
       "    }\n",
       "\n",
       "    .dataframe thead th {\n",
       "        text-align: right;\n",
       "    }\n",
       "</style>\n",
       "<table border=\"1\" class=\"dataframe\">\n",
       "  <thead>\n",
       "    <tr style=\"text-align: right;\">\n",
       "      <th></th>\n",
       "      <th>count</th>\n",
       "      <th>median</th>\n",
       "    </tr>\n",
       "    <tr>\n",
       "      <th>locality_name</th>\n",
       "      <th></th>\n",
       "      <th></th>\n",
       "    </tr>\n",
       "  </thead>\n",
       "  <tbody>\n",
       "    <tr>\n",
       "      <th>Санкт-Петербург</th>\n",
       "      <td>15636</td>\n",
       "      <td>104667.5</td>\n",
       "    </tr>\n",
       "    <tr>\n",
       "      <th>поселок Шушары</th>\n",
       "      <td>436</td>\n",
       "      <td>76748.0</td>\n",
       "    </tr>\n",
       "    <tr>\n",
       "      <th>Пушкин</th>\n",
       "      <td>369</td>\n",
       "      <td>100000.0</td>\n",
       "    </tr>\n",
       "    <tr>\n",
       "      <th>Колпино</th>\n",
       "      <td>337</td>\n",
       "      <td>74722.0</td>\n",
       "    </tr>\n",
       "    <tr>\n",
       "      <th>поселок Парголово</th>\n",
       "      <td>327</td>\n",
       "      <td>91643.0</td>\n",
       "    </tr>\n",
       "    <tr>\n",
       "      <th>Петергоф</th>\n",
       "      <td>201</td>\n",
       "      <td>82143.0</td>\n",
       "    </tr>\n",
       "    <tr>\n",
       "      <th>Сестрорецк</th>\n",
       "      <td>183</td>\n",
       "      <td>99678.0</td>\n",
       "    </tr>\n",
       "    <tr>\n",
       "      <th>Красное Село</th>\n",
       "      <td>176</td>\n",
       "      <td>71685.5</td>\n",
       "    </tr>\n",
       "    <tr>\n",
       "      <th>Ломоносов</th>\n",
       "      <td>132</td>\n",
       "      <td>71817.0</td>\n",
       "    </tr>\n",
       "    <tr>\n",
       "      <th>Кронштадт</th>\n",
       "      <td>95</td>\n",
       "      <td>81163.0</td>\n",
       "    </tr>\n",
       "  </tbody>\n",
       "</table>\n",
       "</div>"
      ],
      "text/plain": [
       "                   count    median\n",
       "locality_name                     \n",
       "Санкт-Петербург    15636  104667.5\n",
       "поселок Шушары       436   76748.0\n",
       "Пушкин               369  100000.0\n",
       "Колпино              337   74722.0\n",
       "поселок Парголово    327   91643.0\n",
       "Петергоф             201   82143.0\n",
       "Сестрорецк           183   99678.0\n",
       "Красное Село         176   71685.5\n",
       "Ломоносов            132   71817.0\n",
       "Кронштадт             95   81163.0"
      ]
     },
     "metadata": {},
     "output_type": "display_data"
    }
   ],
   "source": [
    "print('10 населенных пунктов с наибольшим количеством объявлений')\n",
    "cost_metr = data.pivot_table(index='locality_name', values='cost_metr', aggfunc=('count', 'median')).sort_values(by='count',ascending=False).head(10)\n",
    "display(cost_metr)"
   ]
  },
  {
   "cell_type": "code",
   "execution_count": 75,
   "metadata": {},
   "outputs": [
    {
     "name": "stdout",
     "output_type": "stream",
     "text": [
      "Населенный пункт с самой высокой стоимостью:\n"
     ]
    },
    {
     "data": {
      "text/html": [
       "<div>\n",
       "<style scoped>\n",
       "    .dataframe tbody tr th:only-of-type {\n",
       "        vertical-align: middle;\n",
       "    }\n",
       "\n",
       "    .dataframe tbody tr th {\n",
       "        vertical-align: top;\n",
       "    }\n",
       "\n",
       "    .dataframe thead th {\n",
       "        text-align: right;\n",
       "    }\n",
       "</style>\n",
       "<table border=\"1\" class=\"dataframe\">\n",
       "  <thead>\n",
       "    <tr style=\"text-align: right;\">\n",
       "      <th></th>\n",
       "      <th>count</th>\n",
       "      <th>median</th>\n",
       "    </tr>\n",
       "    <tr>\n",
       "      <th>locality_name</th>\n",
       "      <th></th>\n",
       "      <th></th>\n",
       "    </tr>\n",
       "  </thead>\n",
       "  <tbody>\n",
       "    <tr>\n",
       "      <th>Санкт-Петербург</th>\n",
       "      <td>15636</td>\n",
       "      <td>104667.5</td>\n",
       "    </tr>\n",
       "  </tbody>\n",
       "</table>\n",
       "</div>"
      ],
      "text/plain": [
       "                 count    median\n",
       "locality_name                   \n",
       "Санкт-Петербург  15636  104667.5"
      ]
     },
     "metadata": {},
     "output_type": "display_data"
    }
   ],
   "source": [
    "print('Населенный пункт с самой высокой стоимостью:')\n",
    "display(cost_metr.query('median == median.max()'))"
   ]
  },
  {
   "cell_type": "code",
   "execution_count": 76,
   "metadata": {},
   "outputs": [
    {
     "name": "stdout",
     "output_type": "stream",
     "text": [
      "Населенный пункт с самой низкой стоимостью\n"
     ]
    },
    {
     "data": {
      "text/html": [
       "<div>\n",
       "<style scoped>\n",
       "    .dataframe tbody tr th:only-of-type {\n",
       "        vertical-align: middle;\n",
       "    }\n",
       "\n",
       "    .dataframe tbody tr th {\n",
       "        vertical-align: top;\n",
       "    }\n",
       "\n",
       "    .dataframe thead th {\n",
       "        text-align: right;\n",
       "    }\n",
       "</style>\n",
       "<table border=\"1\" class=\"dataframe\">\n",
       "  <thead>\n",
       "    <tr style=\"text-align: right;\">\n",
       "      <th></th>\n",
       "      <th>count</th>\n",
       "      <th>median</th>\n",
       "    </tr>\n",
       "    <tr>\n",
       "      <th>locality_name</th>\n",
       "      <th></th>\n",
       "      <th></th>\n",
       "    </tr>\n",
       "  </thead>\n",
       "  <tbody>\n",
       "    <tr>\n",
       "      <th>Красное Село</th>\n",
       "      <td>176</td>\n",
       "      <td>71685.5</td>\n",
       "    </tr>\n",
       "  </tbody>\n",
       "</table>\n",
       "</div>"
      ],
      "text/plain": [
       "               count   median\n",
       "locality_name                \n",
       "Красное Село     176  71685.5"
      ]
     },
     "metadata": {},
     "output_type": "display_data"
    }
   ],
   "source": [
    "print('Населенный пункт с самой низкой стоимостью')\n",
    "display(cost_metr.query('median == median.min()'))"
   ]
  },
  {
   "cell_type": "markdown",
   "metadata": {},
   "source": [
    "### Шаг 4.5 Средняя стоимость км. для Санкт-Петербурга"
   ]
  },
  {
   "cell_type": "code",
   "execution_count": 77,
   "metadata": {
    "scrolled": true
   },
   "outputs": [
    {
     "data": {
      "image/png": "[encoded data removed]",
      "text/plain": [
       "<Figure size 1080x360 with 1 Axes>"
      ]
     },
     "metadata": {
      "needs_background": "light"
     },
     "output_type": "display_data"
    }
   ],
   "source": [
    "data_spb = data[(data['locality_name'] == 'Санкт-Петербург') & (data['city_сenters_nearest'].isna() == False)] # сделал выборку для Санкт-Петербург\n",
    "df_spb = data_spb['cost_metr'] / data_spb['city_сenters_nearest'] # Расчитал стоимость 1 км\n",
    "df_spb = df_spb.mean()\n",
    "df_spb = data[data['locality_name'] == 'Санкт-Петербург']\n",
    "spb_price = df_spb.pivot_table(index = 'city_сenters_nearest', values = 'cost_metr')\n",
    "spb_price.plot(y='cost_metr', style='o', ylim=(0, 250000), kind='bar', grid=True, figsize=(15, 5), title = 'Заголовок');"
   ]
  },
  {
   "cell_type": "markdown",
   "metadata": {},
   "source": [
    "- **Как стоимость объектов зависит от расстояния до центра города** - исходя из выборки, я сделал вывод, что самая высокая стоимость за квадратный метр находится в центре города. Далее стоимость равномерно снижается, но после 4 км. стоимость снова растет и только после 7 км. снова видно снижение стоимости. Максимальная стоимость квадратного метра в центре города составляет 250 т.р. за 1м2, в 30 км от цента стоимость одного м2 составляет 72 т.р."
   ]
  },
  {
   "cell_type": "markdown",
   "metadata": {},
   "source": [
    "### Шаг 5. Общий вывод\n",
    "Я провел анализ объявлений и внимательно изучил предоставленные данные. В результате я сделал некоторые выводы:  \n",
    "- на стоимость квартиры влияют многие факторы, некоторые оказывают сильное влияние, некоторые незначительное, так, например,:\n",
    "- чем ближе квартира расположена к центру города, тем ее стоимость выше и наоборот;\n",
    "- больше всего продаются квартиры расположенных средних этажах, со второго по 7;\n",
    "- обычно квартиры располагаются в 5, 9 и 16 этажных домах;\n",
    "- общая жилая площадь квартир составляет от 23м2 до 100м2.;\n",
    "- большинство продаваемых квартир имеют от 1 до 3 комнат;\n",
    "- самая высокая стоимость у квартир с площадью 50 м2."
   ]
  }
 ],
 "metadata": {
  "ExecuteTimeLog": [
   {
    "duration": 1071,
    "start_time": "2022-09-23T08:52:09.378Z"
   },
   {
    "duration": 807,
    "start_time": "2022-09-23T08:52:20.959Z"
   },
   {
    "duration": 108,
    "start_time": "2022-09-23T08:52:35.286Z"
   },
   {
    "duration": 99,
    "start_time": "2022-09-23T08:52:52.686Z"
   },
   {
    "duration": 90,
    "start_time": "2022-09-23T08:53:13.662Z"
   },
   {
    "duration": 121,
    "start_time": "2022-09-23T08:54:39.271Z"
   },
   {
    "duration": 106,
    "start_time": "2022-09-23T08:54:48.021Z"
   },
   {
    "duration": 141,
    "start_time": "2022-09-23T08:54:51.463Z"
   },
   {
    "duration": 2174,
    "start_time": "2022-09-23T08:55:14.287Z"
   },
   {
    "duration": 2296,
    "start_time": "2022-09-23T08:55:50.136Z"
   },
   {
    "duration": 2261,
    "start_time": "2022-09-23T08:56:54.256Z"
   },
   {
    "duration": 2173,
    "start_time": "2022-09-23T09:10:53.754Z"
   },
   {
    "duration": 120,
    "start_time": "2022-09-23T09:11:02.175Z"
   },
   {
    "duration": 1451,
    "start_time": "2022-09-23T09:13:56.737Z"
   },
   {
    "duration": 3632,
    "start_time": "2022-09-23T09:14:18.329Z"
   },
   {
    "duration": 3889,
    "start_time": "2022-09-23T09:14:31.706Z"
   },
   {
    "duration": 3663,
    "start_time": "2022-09-23T09:14:48.993Z"
   },
   {
    "duration": 2402,
    "start_time": "2022-09-23T09:15:18.291Z"
   },
   {
    "duration": 4,
    "start_time": "2022-09-23T10:40:16.669Z"
   },
   {
    "duration": 10,
    "start_time": "2022-09-23T10:40:23.653Z"
   },
   {
    "duration": 8,
    "start_time": "2022-09-23T10:40:46.357Z"
   },
   {
    "duration": 2144,
    "start_time": "2022-09-23T10:40:52.174Z"
   },
   {
    "duration": 5,
    "start_time": "2022-09-23T10:40:58.084Z"
   },
   {
    "duration": 8,
    "start_time": "2022-09-23T10:41:06.756Z"
   },
   {
    "duration": 9,
    "start_time": "2022-09-23T10:41:24.821Z"
   },
   {
    "duration": 10,
    "start_time": "2022-09-23T10:41:30.702Z"
   },
   {
    "duration": 9,
    "start_time": "2022-09-23T10:41:47.653Z"
   },
   {
    "duration": 8,
    "start_time": "2022-09-23T10:41:50.982Z"
   },
   {
    "duration": 3,
    "start_time": "2022-09-23T10:43:27.663Z"
   },
   {
    "duration": 4,
    "start_time": "2022-09-23T10:43:31.574Z"
   },
   {
    "duration": 1963,
    "start_time": "2022-09-23T10:43:38.166Z"
   },
   {
    "duration": 25,
    "start_time": "2022-09-23T10:43:43.382Z"
   },
   {
    "duration": 4,
    "start_time": "2022-09-23T10:43:53.647Z"
   },
   {
    "duration": 9,
    "start_time": "2022-09-23T10:44:33.263Z"
   },
   {
    "duration": 25,
    "start_time": "2022-09-23T10:46:37.656Z"
   },
   {
    "duration": 25,
    "start_time": "2022-09-23T10:46:42.696Z"
   },
   {
    "duration": 24,
    "start_time": "2022-09-23T10:46:45.865Z"
   },
   {
    "duration": 2145,
    "start_time": "2022-09-23T10:46:49.312Z"
   },
   {
    "duration": 27,
    "start_time": "2022-09-23T10:46:56.479Z"
   },
   {
    "duration": 9,
    "start_time": "2022-09-23T10:47:06.088Z"
   },
   {
    "duration": 22,
    "start_time": "2022-09-23T10:47:12.656Z"
   },
   {
    "duration": 79,
    "start_time": "2022-09-23T10:47:31.976Z"
   },
   {
    "duration": 5,
    "start_time": "2022-09-23T10:47:41.568Z"
   },
   {
    "duration": 11,
    "start_time": "2022-09-23T10:47:56.801Z"
   },
   {
    "duration": 27,
    "start_time": "2022-09-23T10:48:22.857Z"
   },
   {
    "duration": 11,
    "start_time": "2022-09-23T10:48:53.265Z"
   },
   {
    "duration": 13,
    "start_time": "2022-09-23T10:49:05.025Z"
   },
   {
    "duration": 11,
    "start_time": "2022-09-23T10:49:11.225Z"
   },
   {
    "duration": 1804,
    "start_time": "2022-09-23T10:49:20.089Z"
   },
   {
    "duration": 10,
    "start_time": "2022-09-23T10:50:12.770Z"
   },
   {
    "duration": 11,
    "start_time": "2022-09-23T10:50:31.539Z"
   },
   {
    "duration": 11,
    "start_time": "2022-09-23T10:50:39.883Z"
   },
   {
    "duration": 11,
    "start_time": "2022-09-23T10:50:53.346Z"
   },
   {
    "duration": 26,
    "start_time": "2022-09-23T10:51:49.827Z"
   },
   {
    "duration": 25,
    "start_time": "2022-09-23T10:56:08.826Z"
   },
   {
    "duration": 1299,
    "start_time": "2022-09-23T11:10:38.869Z"
   },
   {
    "duration": 1347,
    "start_time": "2022-09-23T11:10:41.357Z"
   },
   {
    "duration": 2009,
    "start_time": "2022-09-23T11:10:46.045Z"
   },
   {
    "duration": 1181,
    "start_time": "2022-09-23T11:10:52.949Z"
   },
   {
    "duration": 5,
    "start_time": "2022-09-23T11:11:04.702Z"
   },
   {
    "duration": 8,
    "start_time": "2022-09-23T11:11:23.765Z"
   },
   {
    "duration": 6,
    "start_time": "2022-09-23T11:11:31.902Z"
   },
   {
    "duration": 9,
    "start_time": "2022-09-23T11:11:45.166Z"
   },
   {
    "duration": 5,
    "start_time": "2022-09-23T11:11:50.134Z"
   },
   {
    "duration": 9,
    "start_time": "2022-09-23T11:12:19.702Z"
   },
   {
    "duration": 9,
    "start_time": "2022-09-23T11:12:24.758Z"
   },
   {
    "duration": 8,
    "start_time": "2022-09-23T11:12:27.926Z"
   },
   {
    "duration": 6,
    "start_time": "2022-09-23T11:12:38.274Z"
   },
   {
    "duration": 6,
    "start_time": "2022-09-23T11:12:47.406Z"
   },
   {
    "duration": 5,
    "start_time": "2022-09-23T11:13:03.016Z"
   },
   {
    "duration": 7,
    "start_time": "2022-09-23T11:18:12.424Z"
   },
   {
    "duration": 4,
    "start_time": "2022-09-23T11:19:33.378Z"
   },
   {
    "duration": 11,
    "start_time": "2022-09-23T11:21:39.746Z"
   },
   {
    "duration": 13,
    "start_time": "2022-09-23T11:23:55.237Z"
   },
   {
    "duration": 12,
    "start_time": "2022-09-23T11:24:58.372Z"
   },
   {
    "duration": 16,
    "start_time": "2022-09-23T11:25:35.877Z"
   },
   {
    "duration": 16,
    "start_time": "2022-09-23T11:25:40.469Z"
   },
   {
    "duration": 16,
    "start_time": "2022-09-23T11:25:45.541Z"
   },
   {
    "duration": 6,
    "start_time": "2022-09-23T11:26:54.141Z"
   },
   {
    "duration": 5,
    "start_time": "2022-09-23T11:28:09.454Z"
   },
   {
    "duration": 6,
    "start_time": "2022-09-23T11:32:07.473Z"
   },
   {
    "duration": 8,
    "start_time": "2022-09-23T11:54:28.517Z"
   },
   {
    "duration": 9,
    "start_time": "2022-09-23T11:54:40.341Z"
   },
   {
    "duration": 8,
    "start_time": "2022-09-23T11:54:45.212Z"
   },
   {
    "duration": 7,
    "start_time": "2022-09-23T11:54:49.749Z"
   },
   {
    "duration": 12,
    "start_time": "2022-09-23T11:55:05.948Z"
   },
   {
    "duration": 13,
    "start_time": "2022-09-23T11:55:25.924Z"
   },
   {
    "duration": 10,
    "start_time": "2022-09-23T11:56:00.557Z"
   },
   {
    "duration": 191,
    "start_time": "2022-09-23T11:56:28.742Z"
   },
   {
    "duration": 144,
    "start_time": "2022-09-23T11:56:58.949Z"
   },
   {
    "duration": 124,
    "start_time": "2022-09-23T11:57:18.670Z"
   },
   {
    "duration": 156,
    "start_time": "2022-09-23T11:57:52.646Z"
   },
   {
    "duration": 39,
    "start_time": "2022-09-23T12:00:15.008Z"
   },
   {
    "duration": 31,
    "start_time": "2022-09-23T12:01:10.784Z"
   },
   {
    "duration": 36,
    "start_time": "2022-09-23T12:01:27.440Z"
   },
   {
    "duration": 14,
    "start_time": "2022-09-23T12:01:45.352Z"
   },
   {
    "duration": 64,
    "start_time": "2022-09-23T12:01:56.784Z"
   },
   {
    "duration": 66,
    "start_time": "2022-09-23T12:02:45.222Z"
   },
   {
    "duration": 70,
    "start_time": "2022-09-23T12:03:44.564Z"
   },
   {
    "duration": 17,
    "start_time": "2022-09-23T12:03:53.876Z"
   },
   {
    "duration": 69,
    "start_time": "2022-09-23T12:04:04.905Z"
   },
   {
    "duration": 63,
    "start_time": "2022-09-23T12:04:13.971Z"
   },
   {
    "duration": 32,
    "start_time": "2022-09-23T12:04:22.755Z"
   },
   {
    "duration": 5,
    "start_time": "2022-09-23T12:04:49.266Z"
   },
   {
    "duration": 22,
    "start_time": "2022-09-23T12:04:56.041Z"
   },
   {
    "duration": 26,
    "start_time": "2022-09-23T12:05:25.961Z"
   },
   {
    "duration": 20,
    "start_time": "2022-09-23T12:05:32.506Z"
   },
   {
    "duration": 20,
    "start_time": "2022-09-23T12:05:43.122Z"
   },
   {
    "duration": 38,
    "start_time": "2022-09-23T12:05:54.867Z"
   },
   {
    "duration": 27,
    "start_time": "2022-09-23T12:06:13.963Z"
   },
   {
    "duration": 40,
    "start_time": "2022-09-23T12:06:29.962Z"
   },
   {
    "duration": 29,
    "start_time": "2022-09-23T12:06:36.747Z"
   },
   {
    "duration": 4,
    "start_time": "2022-09-23T12:07:03.659Z"
   },
   {
    "duration": 43,
    "start_time": "2022-09-23T12:07:08.299Z"
   },
   {
    "duration": 14,
    "start_time": "2022-09-23T12:09:36.725Z"
   },
   {
    "duration": 12,
    "start_time": "2022-09-23T12:09:52.807Z"
   },
   {
    "duration": 8,
    "start_time": "2022-09-23T12:09:57.748Z"
   },
   {
    "duration": 39,
    "start_time": "2022-09-23T12:13:32.991Z"
   },
   {
    "duration": 45,
    "start_time": "2022-09-23T12:14:03.887Z"
   },
   {
    "duration": 15,
    "start_time": "2022-09-23T12:16:44.474Z"
   },
   {
    "duration": 14,
    "start_time": "2022-09-23T12:16:51.529Z"
   },
   {
    "duration": 44,
    "start_time": "2022-09-23T12:16:55.944Z"
   },
   {
    "duration": 2913,
    "start_time": "2022-09-30T13:01:04.034Z"
   },
   {
    "duration": 135,
    "start_time": "2022-09-30T13:01:06.949Z"
   },
   {
    "duration": 0,
    "start_time": "2022-09-30T13:01:07.087Z"
   },
   {
    "duration": 0,
    "start_time": "2022-09-30T13:01:07.088Z"
   },
   {
    "duration": 0,
    "start_time": "2022-09-30T13:01:07.090Z"
   },
   {
    "duration": 0,
    "start_time": "2022-09-30T13:01:07.091Z"
   },
   {
    "duration": 0,
    "start_time": "2022-09-30T13:01:07.092Z"
   },
   {
    "duration": 0,
    "start_time": "2022-09-30T13:01:07.093Z"
   },
   {
    "duration": 1,
    "start_time": "2022-09-30T13:01:07.093Z"
   },
   {
    "duration": 0,
    "start_time": "2022-09-30T13:01:07.095Z"
   },
   {
    "duration": 0,
    "start_time": "2022-09-30T13:01:07.095Z"
   },
   {
    "duration": 0,
    "start_time": "2022-09-30T13:01:07.096Z"
   },
   {
    "duration": 0,
    "start_time": "2022-09-30T13:01:07.098Z"
   },
   {
    "duration": 0,
    "start_time": "2022-09-30T13:01:07.099Z"
   },
   {
    "duration": 0,
    "start_time": "2022-09-30T13:01:07.100Z"
   },
   {
    "duration": 0,
    "start_time": "2022-09-30T13:01:07.101Z"
   },
   {
    "duration": 0,
    "start_time": "2022-09-30T13:01:07.102Z"
   },
   {
    "duration": 0,
    "start_time": "2022-09-30T13:01:07.103Z"
   },
   {
    "duration": 0,
    "start_time": "2022-09-30T13:01:07.104Z"
   },
   {
    "duration": 0,
    "start_time": "2022-09-30T13:01:07.105Z"
   },
   {
    "duration": 0,
    "start_time": "2022-09-30T13:01:07.106Z"
   },
   {
    "duration": 0,
    "start_time": "2022-09-30T13:01:07.139Z"
   },
   {
    "duration": 0,
    "start_time": "2022-09-30T13:01:07.140Z"
   },
   {
    "duration": 0,
    "start_time": "2022-09-30T13:01:07.141Z"
   },
   {
    "duration": 0,
    "start_time": "2022-09-30T13:01:07.143Z"
   },
   {
    "duration": 0,
    "start_time": "2022-09-30T13:01:07.144Z"
   },
   {
    "duration": 0,
    "start_time": "2022-09-30T13:01:07.145Z"
   },
   {
    "duration": 0,
    "start_time": "2022-09-30T13:01:07.146Z"
   },
   {
    "duration": 0,
    "start_time": "2022-09-30T13:01:07.147Z"
   },
   {
    "duration": 0,
    "start_time": "2022-09-30T13:01:07.148Z"
   },
   {
    "duration": 0,
    "start_time": "2022-09-30T13:01:07.150Z"
   },
   {
    "duration": 0,
    "start_time": "2022-09-30T13:01:07.151Z"
   },
   {
    "duration": 0,
    "start_time": "2022-09-30T13:01:07.153Z"
   },
   {
    "duration": 0,
    "start_time": "2022-09-30T13:01:07.154Z"
   },
   {
    "duration": 0,
    "start_time": "2022-09-30T13:01:07.156Z"
   },
   {
    "duration": 0,
    "start_time": "2022-09-30T13:01:07.157Z"
   },
   {
    "duration": 0,
    "start_time": "2022-09-30T13:01:07.158Z"
   },
   {
    "duration": 0,
    "start_time": "2022-09-30T13:01:07.159Z"
   },
   {
    "duration": 0,
    "start_time": "2022-09-30T13:01:07.161Z"
   },
   {
    "duration": 0,
    "start_time": "2022-09-30T13:01:07.162Z"
   },
   {
    "duration": 0,
    "start_time": "2022-09-30T13:01:07.163Z"
   },
   {
    "duration": 0,
    "start_time": "2022-09-30T13:01:07.164Z"
   },
   {
    "duration": 0,
    "start_time": "2022-09-30T13:01:07.165Z"
   },
   {
    "duration": 0,
    "start_time": "2022-09-30T13:01:07.166Z"
   },
   {
    "duration": 1,
    "start_time": "2022-09-30T13:01:07.167Z"
   },
   {
    "duration": 0,
    "start_time": "2022-09-30T13:01:07.169Z"
   },
   {
    "duration": 0,
    "start_time": "2022-09-30T13:01:07.170Z"
   },
   {
    "duration": 0,
    "start_time": "2022-09-30T13:01:07.171Z"
   },
   {
    "duration": 0,
    "start_time": "2022-09-30T13:01:07.172Z"
   },
   {
    "duration": 0,
    "start_time": "2022-09-30T13:01:07.173Z"
   },
   {
    "duration": 0,
    "start_time": "2022-09-30T13:01:07.174Z"
   },
   {
    "duration": 0,
    "start_time": "2022-09-30T13:01:07.175Z"
   },
   {
    "duration": 0,
    "start_time": "2022-09-30T13:01:07.177Z"
   },
   {
    "duration": 0,
    "start_time": "2022-09-30T13:01:07.178Z"
   },
   {
    "duration": 0,
    "start_time": "2022-09-30T13:01:07.179Z"
   },
   {
    "duration": 0,
    "start_time": "2022-09-30T13:01:07.239Z"
   },
   {
    "duration": 0,
    "start_time": "2022-09-30T13:01:07.241Z"
   },
   {
    "duration": 0,
    "start_time": "2022-09-30T13:01:07.243Z"
   },
   {
    "duration": 161,
    "start_time": "2022-09-30T13:04:01.854Z"
   },
   {
    "duration": 2973,
    "start_time": "2022-09-30T13:04:29.252Z"
   },
   {
    "duration": 171,
    "start_time": "2022-09-30T13:04:32.227Z"
   },
   {
    "duration": 5,
    "start_time": "2022-09-30T13:04:32.399Z"
   },
   {
    "duration": 8,
    "start_time": "2022-09-30T13:04:32.406Z"
   },
   {
    "duration": 28,
    "start_time": "2022-09-30T13:04:32.417Z"
   },
   {
    "duration": 46,
    "start_time": "2022-09-30T13:04:32.447Z"
   },
   {
    "duration": 22,
    "start_time": "2022-09-30T13:04:32.495Z"
   },
   {
    "duration": 21,
    "start_time": "2022-09-30T13:04:32.519Z"
   },
   {
    "duration": 12,
    "start_time": "2022-09-30T13:04:32.542Z"
   },
   {
    "duration": 35,
    "start_time": "2022-09-30T13:04:32.556Z"
   },
   {
    "duration": 6,
    "start_time": "2022-09-30T13:04:32.593Z"
   },
   {
    "duration": 37,
    "start_time": "2022-09-30T13:04:32.602Z"
   },
   {
    "duration": 8,
    "start_time": "2022-09-30T13:04:32.641Z"
   },
   {
    "duration": 8,
    "start_time": "2022-09-30T13:04:32.653Z"
   },
   {
    "duration": 14,
    "start_time": "2022-09-30T13:04:32.663Z"
   },
   {
    "duration": 13,
    "start_time": "2022-09-30T13:04:32.679Z"
   },
   {
    "duration": 63,
    "start_time": "2022-09-30T13:04:32.694Z"
   },
   {
    "duration": 13,
    "start_time": "2022-09-30T13:04:32.759Z"
   },
   {
    "duration": 9,
    "start_time": "2022-09-30T13:04:32.774Z"
   },
   {
    "duration": 8,
    "start_time": "2022-09-30T13:04:32.784Z"
   },
   {
    "duration": 47,
    "start_time": "2022-09-30T13:04:32.793Z"
   },
   {
    "duration": 7,
    "start_time": "2022-09-30T13:04:32.841Z"
   },
   {
    "duration": 9,
    "start_time": "2022-09-30T13:04:32.850Z"
   },
   {
    "duration": 8,
    "start_time": "2022-09-30T13:04:32.861Z"
   },
   {
    "duration": 2395,
    "start_time": "2022-09-30T13:04:32.871Z"
   },
   {
    "duration": 30,
    "start_time": "2022-09-30T13:04:35.268Z"
   },
   {
    "duration": 53,
    "start_time": "2022-09-30T13:04:35.300Z"
   },
   {
    "duration": 30,
    "start_time": "2022-09-30T13:04:35.356Z"
   },
   {
    "duration": 53,
    "start_time": "2022-09-30T13:04:35.388Z"
   },
   {
    "duration": 35,
    "start_time": "2022-09-30T13:04:35.443Z"
   },
   {
    "duration": 3,
    "start_time": "2022-09-30T13:04:35.480Z"
   },
   {
    "duration": 15,
    "start_time": "2022-09-30T13:04:35.485Z"
   },
   {
    "duration": 785,
    "start_time": "2022-09-30T13:04:35.502Z"
   },
   {
    "duration": 151,
    "start_time": "2022-09-30T13:04:36.289Z"
   },
   {
    "duration": 177,
    "start_time": "2022-09-30T13:04:36.442Z"
   },
   {
    "duration": 212,
    "start_time": "2022-09-30T13:04:36.621Z"
   },
   {
    "duration": 151,
    "start_time": "2022-09-30T13:04:36.838Z"
   },
   {
    "duration": 183,
    "start_time": "2022-09-30T13:04:36.991Z"
   },
   {
    "duration": 246,
    "start_time": "2022-09-30T13:04:37.176Z"
   },
   {
    "duration": 144,
    "start_time": "2022-09-30T13:04:37.425Z"
   },
   {
    "duration": 194,
    "start_time": "2022-09-30T13:04:37.574Z"
   },
   {
    "duration": 209,
    "start_time": "2022-09-30T13:04:37.771Z"
   },
   {
    "duration": 207,
    "start_time": "2022-09-30T13:04:37.982Z"
   },
   {
    "duration": 181,
    "start_time": "2022-09-30T13:04:38.191Z"
   },
   {
    "duration": 183,
    "start_time": "2022-09-30T13:04:38.374Z"
   },
   {
    "duration": 174,
    "start_time": "2022-09-30T13:04:38.559Z"
   },
   {
    "duration": 378,
    "start_time": "2022-09-30T13:04:38.735Z"
   },
   {
    "duration": 224,
    "start_time": "2022-09-30T13:04:39.115Z"
   },
   {
    "duration": 202,
    "start_time": "2022-09-30T13:04:39.340Z"
   },
   {
    "duration": 202,
    "start_time": "2022-09-30T13:04:39.544Z"
   },
   {
    "duration": 149,
    "start_time": "2022-09-30T13:04:39.748Z"
   },
   {
    "duration": 182,
    "start_time": "2022-09-30T13:04:39.899Z"
   },
   {
    "duration": 171,
    "start_time": "2022-09-30T13:04:40.083Z"
   },
   {
    "duration": 214,
    "start_time": "2022-09-30T13:04:40.257Z"
   },
   {
    "duration": 23,
    "start_time": "2022-09-30T13:04:40.473Z"
   },
   {
    "duration": 47,
    "start_time": "2022-09-30T13:04:40.497Z"
   },
   {
    "duration": 30,
    "start_time": "2022-09-30T13:04:40.546Z"
   },
   {
    "duration": 42,
    "start_time": "2022-09-30T13:04:40.578Z"
   },
   {
    "duration": 7,
    "start_time": "2022-09-30T13:08:00.189Z"
   },
   {
    "duration": 20,
    "start_time": "2022-09-30T13:14:08.803Z"
   },
   {
    "duration": 3064,
    "start_time": "2022-09-30T13:14:19.460Z"
   },
   {
    "duration": 155,
    "start_time": "2022-09-30T13:14:22.527Z"
   },
   {
    "duration": 5,
    "start_time": "2022-09-30T13:14:22.684Z"
   },
   {
    "duration": 9,
    "start_time": "2022-09-30T13:14:22.691Z"
   },
   {
    "duration": 6,
    "start_time": "2022-09-30T13:14:22.702Z"
   },
   {
    "duration": 68,
    "start_time": "2022-09-30T13:14:22.709Z"
   },
   {
    "duration": 22,
    "start_time": "2022-09-30T13:14:22.779Z"
   },
   {
    "duration": 5,
    "start_time": "2022-09-30T13:14:22.802Z"
   },
   {
    "duration": 32,
    "start_time": "2022-09-30T13:14:22.808Z"
   },
   {
    "duration": 34,
    "start_time": "2022-09-30T13:14:22.841Z"
   },
   {
    "duration": 5,
    "start_time": "2022-09-30T13:14:22.876Z"
   },
   {
    "duration": 8,
    "start_time": "2022-09-30T13:14:22.883Z"
   },
   {
    "duration": 7,
    "start_time": "2022-09-30T13:14:22.892Z"
   },
   {
    "duration": 40,
    "start_time": "2022-09-30T13:14:22.902Z"
   },
   {
    "duration": 14,
    "start_time": "2022-09-30T13:14:22.944Z"
   },
   {
    "duration": 7,
    "start_time": "2022-09-30T13:14:22.960Z"
   },
   {
    "duration": 30,
    "start_time": "2022-09-30T13:14:22.969Z"
   },
   {
    "duration": 46,
    "start_time": "2022-09-30T13:14:23.000Z"
   },
   {
    "duration": 8,
    "start_time": "2022-09-30T13:14:23.048Z"
   },
   {
    "duration": 11,
    "start_time": "2022-09-30T13:14:23.058Z"
   },
   {
    "duration": 7,
    "start_time": "2022-09-30T13:14:23.071Z"
   },
   {
    "duration": 9,
    "start_time": "2022-09-30T13:14:23.080Z"
   },
   {
    "duration": 7,
    "start_time": "2022-09-30T13:14:23.091Z"
   },
   {
    "duration": 43,
    "start_time": "2022-09-30T13:14:23.100Z"
   },
   {
    "duration": 2465,
    "start_time": "2022-09-30T13:14:23.145Z"
   },
   {
    "duration": 34,
    "start_time": "2022-09-30T13:14:25.612Z"
   },
   {
    "duration": 46,
    "start_time": "2022-09-30T13:14:25.648Z"
   },
   {
    "duration": 51,
    "start_time": "2022-09-30T13:14:25.698Z"
   },
   {
    "duration": 33,
    "start_time": "2022-09-30T13:14:25.751Z"
   },
   {
    "duration": 54,
    "start_time": "2022-09-30T13:14:25.787Z"
   },
   {
    "duration": 37,
    "start_time": "2022-09-30T13:14:25.844Z"
   },
   {
    "duration": 3,
    "start_time": "2022-09-30T13:14:25.883Z"
   },
   {
    "duration": 13,
    "start_time": "2022-09-30T13:14:25.888Z"
   },
   {
    "duration": 787,
    "start_time": "2022-09-30T13:14:25.903Z"
   },
   {
    "duration": 168,
    "start_time": "2022-09-30T13:14:26.692Z"
   },
   {
    "duration": 181,
    "start_time": "2022-09-30T13:14:26.864Z"
   },
   {
    "duration": 267,
    "start_time": "2022-09-30T13:14:27.047Z"
   },
   {
    "duration": 204,
    "start_time": "2022-09-30T13:14:27.316Z"
   },
   {
    "duration": 226,
    "start_time": "2022-09-30T13:14:27.525Z"
   },
   {
    "duration": 227,
    "start_time": "2022-09-30T13:14:27.753Z"
   },
   {
    "duration": 158,
    "start_time": "2022-09-30T13:14:27.986Z"
   },
   {
    "duration": 233,
    "start_time": "2022-09-30T13:14:28.146Z"
   },
   {
    "duration": 220,
    "start_time": "2022-09-30T13:14:28.382Z"
   },
   {
    "duration": 217,
    "start_time": "2022-09-30T13:14:28.604Z"
   },
   {
    "duration": 179,
    "start_time": "2022-09-30T13:14:28.823Z"
   },
   {
    "duration": 215,
    "start_time": "2022-09-30T13:14:29.004Z"
   },
   {
    "duration": 144,
    "start_time": "2022-09-30T13:14:29.222Z"
   },
   {
    "duration": 362,
    "start_time": "2022-09-30T13:14:29.367Z"
   },
   {
    "duration": 252,
    "start_time": "2022-09-30T13:14:29.732Z"
   },
   {
    "duration": 224,
    "start_time": "2022-09-30T13:14:29.986Z"
   },
   {
    "duration": 205,
    "start_time": "2022-09-30T13:14:30.212Z"
   },
   {
    "duration": 149,
    "start_time": "2022-09-30T13:14:30.420Z"
   },
   {
    "duration": 182,
    "start_time": "2022-09-30T13:14:30.571Z"
   },
   {
    "duration": 182,
    "start_time": "2022-09-30T13:14:30.755Z"
   },
   {
    "duration": 254,
    "start_time": "2022-09-30T13:14:30.939Z"
   },
   {
    "duration": 45,
    "start_time": "2022-09-30T13:14:31.195Z"
   },
   {
    "duration": 17,
    "start_time": "2022-09-30T13:14:31.242Z"
   },
   {
    "duration": 42,
    "start_time": "2022-09-30T13:14:31.261Z"
   },
   {
    "duration": 33,
    "start_time": "2022-09-30T13:14:31.306Z"
   },
   {
    "duration": 9,
    "start_time": "2022-09-30T13:17:07.303Z"
   },
   {
    "duration": 2478,
    "start_time": "2022-10-01T14:47:45.087Z"
   },
   {
    "duration": 162,
    "start_time": "2022-10-01T14:47:47.568Z"
   },
   {
    "duration": 3,
    "start_time": "2022-10-01T14:47:47.731Z"
   },
   {
    "duration": 21,
    "start_time": "2022-10-01T14:47:47.736Z"
   },
   {
    "duration": 12,
    "start_time": "2022-10-01T14:47:47.760Z"
   },
   {
    "duration": 48,
    "start_time": "2022-10-01T14:47:47.774Z"
   },
   {
    "duration": 19,
    "start_time": "2022-10-01T14:47:47.824Z"
   },
   {
    "duration": 17,
    "start_time": "2022-10-01T14:47:47.845Z"
   },
   {
    "duration": 23,
    "start_time": "2022-10-01T14:47:47.864Z"
   },
   {
    "duration": 59,
    "start_time": "2022-10-01T14:47:47.888Z"
   },
   {
    "duration": 4,
    "start_time": "2022-10-01T14:47:47.949Z"
   },
   {
    "duration": 24,
    "start_time": "2022-10-01T14:47:47.954Z"
   },
   {
    "duration": 12,
    "start_time": "2022-10-01T14:47:47.980Z"
   },
   {
    "duration": 25,
    "start_time": "2022-10-01T14:47:47.994Z"
   },
   {
    "duration": 34,
    "start_time": "2022-10-01T14:47:48.021Z"
   },
   {
    "duration": 20,
    "start_time": "2022-10-01T14:47:48.056Z"
   },
   {
    "duration": 40,
    "start_time": "2022-10-01T14:47:48.077Z"
   },
   {
    "duration": 14,
    "start_time": "2022-10-01T14:47:48.119Z"
   },
   {
    "duration": 24,
    "start_time": "2022-10-01T14:47:48.135Z"
   },
   {
    "duration": 27,
    "start_time": "2022-10-01T14:47:48.160Z"
   },
   {
    "duration": 28,
    "start_time": "2022-10-01T14:47:48.189Z"
   },
   {
    "duration": 20,
    "start_time": "2022-10-01T14:47:48.219Z"
   },
   {
    "duration": 15,
    "start_time": "2022-10-01T14:47:48.240Z"
   },
   {
    "duration": 26,
    "start_time": "2022-10-01T14:47:48.257Z"
   },
   {
    "duration": 2007,
    "start_time": "2022-10-01T14:47:48.284Z"
   },
   {
    "duration": 34,
    "start_time": "2022-10-01T14:47:50.293Z"
   },
   {
    "duration": 24,
    "start_time": "2022-10-01T14:47:50.328Z"
   },
   {
    "duration": 24,
    "start_time": "2022-10-01T14:47:50.354Z"
   },
   {
    "duration": 50,
    "start_time": "2022-10-01T14:47:50.380Z"
   },
   {
    "duration": 28,
    "start_time": "2022-10-01T14:47:50.432Z"
   },
   {
    "duration": 8,
    "start_time": "2022-10-01T14:47:50.462Z"
   },
   {
    "duration": 10,
    "start_time": "2022-10-01T14:47:50.471Z"
   },
   {
    "duration": 674,
    "start_time": "2022-10-01T14:47:50.482Z"
   },
   {
    "duration": 121,
    "start_time": "2022-10-01T14:47:51.158Z"
   },
   {
    "duration": 148,
    "start_time": "2022-10-01T14:47:51.281Z"
   },
   {
    "duration": 170,
    "start_time": "2022-10-01T14:47:51.431Z"
   },
   {
    "duration": 127,
    "start_time": "2022-10-01T14:47:51.603Z"
   },
   {
    "duration": 131,
    "start_time": "2022-10-01T14:47:51.732Z"
   },
   {
    "duration": 148,
    "start_time": "2022-10-01T14:47:51.864Z"
   },
   {
    "duration": 107,
    "start_time": "2022-10-01T14:47:52.014Z"
   },
   {
    "duration": 154,
    "start_time": "2022-10-01T14:47:52.125Z"
   },
   {
    "duration": 149,
    "start_time": "2022-10-01T14:47:52.280Z"
   },
   {
    "duration": 278,
    "start_time": "2022-10-01T14:47:52.431Z"
   },
   {
    "duration": 135,
    "start_time": "2022-10-01T14:47:52.710Z"
   },
   {
    "duration": 143,
    "start_time": "2022-10-01T14:47:52.847Z"
   },
   {
    "duration": 123,
    "start_time": "2022-10-01T14:47:52.992Z"
   },
   {
    "duration": 681,
    "start_time": "2022-10-01T14:47:53.117Z"
   },
   {
    "duration": 267,
    "start_time": "2022-10-01T14:47:53.800Z"
   },
   {
    "duration": 258,
    "start_time": "2022-10-01T14:47:54.069Z"
   },
   {
    "duration": 259,
    "start_time": "2022-10-01T14:47:54.329Z"
   },
   {
    "duration": 210,
    "start_time": "2022-10-01T14:47:54.590Z"
   },
   {
    "duration": 238,
    "start_time": "2022-10-01T14:47:54.802Z"
   },
   {
    "duration": 307,
    "start_time": "2022-10-01T14:47:55.041Z"
   },
   {
    "duration": 264,
    "start_time": "2022-10-01T14:47:55.349Z"
   },
   {
    "duration": 19,
    "start_time": "2022-10-01T14:47:55.615Z"
   },
   {
    "duration": 23,
    "start_time": "2022-10-01T14:47:55.635Z"
   },
   {
    "duration": 29,
    "start_time": "2022-10-01T14:47:55.660Z"
   },
   {
    "duration": 337,
    "start_time": "2022-10-01T14:47:55.691Z"
   },
   {
    "duration": 14,
    "start_time": "2022-10-01T14:50:44.637Z"
   },
   {
    "duration": 336,
    "start_time": "2022-10-01T14:54:20.143Z"
   },
   {
    "duration": 1242,
    "start_time": "2022-10-02T13:55:55.522Z"
   },
   {
    "duration": 0,
    "start_time": "2022-10-02T13:55:56.767Z"
   },
   {
    "duration": 0,
    "start_time": "2022-10-02T13:55:56.769Z"
   },
   {
    "duration": 0,
    "start_time": "2022-10-02T13:55:56.771Z"
   },
   {
    "duration": 0,
    "start_time": "2022-10-02T13:55:56.773Z"
   },
   {
    "duration": 0,
    "start_time": "2022-10-02T13:55:56.774Z"
   },
   {
    "duration": 0,
    "start_time": "2022-10-02T13:55:56.776Z"
   },
   {
    "duration": 0,
    "start_time": "2022-10-02T13:55:56.778Z"
   },
   {
    "duration": 0,
    "start_time": "2022-10-02T13:55:56.780Z"
   },
   {
    "duration": 0,
    "start_time": "2022-10-02T13:55:56.782Z"
   },
   {
    "duration": 0,
    "start_time": "2022-10-02T13:55:56.783Z"
   },
   {
    "duration": 0,
    "start_time": "2022-10-02T13:55:56.785Z"
   },
   {
    "duration": 0,
    "start_time": "2022-10-02T13:55:56.786Z"
   },
   {
    "duration": 0,
    "start_time": "2022-10-02T13:55:56.787Z"
   },
   {
    "duration": 0,
    "start_time": "2022-10-02T13:55:56.788Z"
   },
   {
    "duration": 0,
    "start_time": "2022-10-02T13:55:56.789Z"
   },
   {
    "duration": 0,
    "start_time": "2022-10-02T13:55:56.790Z"
   },
   {
    "duration": 0,
    "start_time": "2022-10-02T13:55:56.790Z"
   },
   {
    "duration": 0,
    "start_time": "2022-10-02T13:55:56.792Z"
   },
   {
    "duration": 0,
    "start_time": "2022-10-02T13:55:56.793Z"
   },
   {
    "duration": 0,
    "start_time": "2022-10-02T13:55:56.794Z"
   },
   {
    "duration": 0,
    "start_time": "2022-10-02T13:55:56.795Z"
   },
   {
    "duration": 0,
    "start_time": "2022-10-02T13:55:56.834Z"
   },
   {
    "duration": 0,
    "start_time": "2022-10-02T13:55:56.835Z"
   },
   {
    "duration": 0,
    "start_time": "2022-10-02T13:55:56.836Z"
   },
   {
    "duration": 0,
    "start_time": "2022-10-02T13:55:56.838Z"
   },
   {
    "duration": 0,
    "start_time": "2022-10-02T13:55:56.839Z"
   },
   {
    "duration": 0,
    "start_time": "2022-10-02T13:55:56.841Z"
   },
   {
    "duration": 0,
    "start_time": "2022-10-02T13:55:56.843Z"
   },
   {
    "duration": 0,
    "start_time": "2022-10-02T13:55:56.844Z"
   },
   {
    "duration": 0,
    "start_time": "2022-10-02T13:55:56.845Z"
   },
   {
    "duration": 0,
    "start_time": "2022-10-02T13:55:56.846Z"
   },
   {
    "duration": 0,
    "start_time": "2022-10-02T13:55:56.847Z"
   },
   {
    "duration": 0,
    "start_time": "2022-10-02T13:55:56.848Z"
   },
   {
    "duration": 0,
    "start_time": "2022-10-02T13:55:56.849Z"
   },
   {
    "duration": 0,
    "start_time": "2022-10-02T13:55:56.850Z"
   },
   {
    "duration": 0,
    "start_time": "2022-10-02T13:55:56.851Z"
   },
   {
    "duration": 0,
    "start_time": "2022-10-02T13:55:56.852Z"
   },
   {
    "duration": 0,
    "start_time": "2022-10-02T13:55:56.853Z"
   },
   {
    "duration": 0,
    "start_time": "2022-10-02T13:55:56.854Z"
   },
   {
    "duration": 0,
    "start_time": "2022-10-02T13:55:56.855Z"
   },
   {
    "duration": 0,
    "start_time": "2022-10-02T13:55:56.856Z"
   },
   {
    "duration": 0,
    "start_time": "2022-10-02T13:55:56.857Z"
   },
   {
    "duration": 0,
    "start_time": "2022-10-02T13:55:56.858Z"
   },
   {
    "duration": 0,
    "start_time": "2022-10-02T13:55:56.859Z"
   },
   {
    "duration": 0,
    "start_time": "2022-10-02T13:55:56.860Z"
   },
   {
    "duration": 0,
    "start_time": "2022-10-02T13:55:56.861Z"
   },
   {
    "duration": 0,
    "start_time": "2022-10-02T13:55:56.862Z"
   },
   {
    "duration": 0,
    "start_time": "2022-10-02T13:55:56.863Z"
   },
   {
    "duration": 0,
    "start_time": "2022-10-02T13:55:56.864Z"
   },
   {
    "duration": 0,
    "start_time": "2022-10-02T13:55:56.865Z"
   },
   {
    "duration": 0,
    "start_time": "2022-10-02T13:55:56.866Z"
   },
   {
    "duration": 0,
    "start_time": "2022-10-02T13:55:56.867Z"
   },
   {
    "duration": 0,
    "start_time": "2022-10-02T13:55:56.868Z"
   },
   {
    "duration": 0,
    "start_time": "2022-10-02T13:55:56.868Z"
   },
   {
    "duration": 0,
    "start_time": "2022-10-02T13:55:56.933Z"
   },
   {
    "duration": 0,
    "start_time": "2022-10-02T13:55:56.935Z"
   },
   {
    "duration": 0,
    "start_time": "2022-10-02T13:55:56.936Z"
   },
   {
    "duration": 0,
    "start_time": "2022-10-02T13:55:56.936Z"
   },
   {
    "duration": 0,
    "start_time": "2022-10-02T13:55:56.937Z"
   },
   {
    "duration": 0,
    "start_time": "2022-10-02T13:55:56.938Z"
   },
   {
    "duration": 0,
    "start_time": "2022-10-02T13:55:56.939Z"
   },
   {
    "duration": 0,
    "start_time": "2022-10-02T13:55:56.940Z"
   },
   {
    "duration": 0,
    "start_time": "2022-10-02T13:55:56.941Z"
   },
   {
    "duration": 0,
    "start_time": "2022-10-02T13:55:56.941Z"
   },
   {
    "duration": 0,
    "start_time": "2022-10-02T13:55:56.942Z"
   },
   {
    "duration": 1965,
    "start_time": "2022-10-02T13:56:47.308Z"
   },
   {
    "duration": 2976,
    "start_time": "2022-10-02T13:57:07.573Z"
   },
   {
    "duration": 93,
    "start_time": "2022-10-02T13:57:10.551Z"
   },
   {
    "duration": 0,
    "start_time": "2022-10-02T13:57:10.647Z"
   },
   {
    "duration": 0,
    "start_time": "2022-10-02T13:57:10.649Z"
   },
   {
    "duration": 0,
    "start_time": "2022-10-02T13:57:10.650Z"
   },
   {
    "duration": 0,
    "start_time": "2022-10-02T13:57:10.651Z"
   },
   {
    "duration": 0,
    "start_time": "2022-10-02T13:57:10.653Z"
   },
   {
    "duration": 0,
    "start_time": "2022-10-02T13:57:10.655Z"
   },
   {
    "duration": 0,
    "start_time": "2022-10-02T13:57:10.656Z"
   },
   {
    "duration": 0,
    "start_time": "2022-10-02T13:57:10.658Z"
   },
   {
    "duration": 0,
    "start_time": "2022-10-02T13:57:10.659Z"
   },
   {
    "duration": 0,
    "start_time": "2022-10-02T13:57:10.661Z"
   },
   {
    "duration": 0,
    "start_time": "2022-10-02T13:57:10.662Z"
   },
   {
    "duration": 0,
    "start_time": "2022-10-02T13:57:10.663Z"
   },
   {
    "duration": 0,
    "start_time": "2022-10-02T13:57:10.665Z"
   },
   {
    "duration": 0,
    "start_time": "2022-10-02T13:57:10.666Z"
   },
   {
    "duration": 0,
    "start_time": "2022-10-02T13:57:10.667Z"
   },
   {
    "duration": 1,
    "start_time": "2022-10-02T13:57:10.668Z"
   },
   {
    "duration": 0,
    "start_time": "2022-10-02T13:57:10.670Z"
   },
   {
    "duration": 1,
    "start_time": "2022-10-02T13:57:10.671Z"
   },
   {
    "duration": 0,
    "start_time": "2022-10-02T13:57:10.673Z"
   },
   {
    "duration": 0,
    "start_time": "2022-10-02T13:57:10.674Z"
   },
   {
    "duration": 0,
    "start_time": "2022-10-02T13:57:10.675Z"
   },
   {
    "duration": 0,
    "start_time": "2022-10-02T13:57:10.676Z"
   },
   {
    "duration": 0,
    "start_time": "2022-10-02T13:57:10.677Z"
   },
   {
    "duration": 0,
    "start_time": "2022-10-02T13:57:10.678Z"
   },
   {
    "duration": 0,
    "start_time": "2022-10-02T13:57:10.679Z"
   },
   {
    "duration": 0,
    "start_time": "2022-10-02T13:57:10.680Z"
   },
   {
    "duration": 0,
    "start_time": "2022-10-02T13:57:10.681Z"
   },
   {
    "duration": 0,
    "start_time": "2022-10-02T13:57:10.682Z"
   },
   {
    "duration": 0,
    "start_time": "2022-10-02T13:57:10.733Z"
   },
   {
    "duration": 0,
    "start_time": "2022-10-02T13:57:10.735Z"
   },
   {
    "duration": 0,
    "start_time": "2022-10-02T13:57:10.736Z"
   },
   {
    "duration": 0,
    "start_time": "2022-10-02T13:57:10.738Z"
   },
   {
    "duration": 0,
    "start_time": "2022-10-02T13:57:10.739Z"
   },
   {
    "duration": 0,
    "start_time": "2022-10-02T13:57:10.740Z"
   },
   {
    "duration": 0,
    "start_time": "2022-10-02T13:57:10.741Z"
   },
   {
    "duration": 0,
    "start_time": "2022-10-02T13:57:10.742Z"
   },
   {
    "duration": 0,
    "start_time": "2022-10-02T13:57:10.743Z"
   },
   {
    "duration": 0,
    "start_time": "2022-10-02T13:57:10.744Z"
   },
   {
    "duration": 0,
    "start_time": "2022-10-02T13:57:10.745Z"
   },
   {
    "duration": 0,
    "start_time": "2022-10-02T13:57:10.746Z"
   },
   {
    "duration": 0,
    "start_time": "2022-10-02T13:57:10.747Z"
   },
   {
    "duration": 0,
    "start_time": "2022-10-02T13:57:10.748Z"
   },
   {
    "duration": 0,
    "start_time": "2022-10-02T13:57:10.749Z"
   },
   {
    "duration": 0,
    "start_time": "2022-10-02T13:57:10.750Z"
   },
   {
    "duration": 0,
    "start_time": "2022-10-02T13:57:10.751Z"
   },
   {
    "duration": 0,
    "start_time": "2022-10-02T13:57:10.752Z"
   },
   {
    "duration": 0,
    "start_time": "2022-10-02T13:57:10.754Z"
   },
   {
    "duration": 0,
    "start_time": "2022-10-02T13:57:10.755Z"
   },
   {
    "duration": 0,
    "start_time": "2022-10-02T13:57:10.756Z"
   },
   {
    "duration": 0,
    "start_time": "2022-10-02T13:57:10.757Z"
   },
   {
    "duration": 0,
    "start_time": "2022-10-02T13:57:10.759Z"
   },
   {
    "duration": 0,
    "start_time": "2022-10-02T13:57:10.760Z"
   },
   {
    "duration": 0,
    "start_time": "2022-10-02T13:57:10.762Z"
   },
   {
    "duration": 0,
    "start_time": "2022-10-02T13:57:10.763Z"
   },
   {
    "duration": 0,
    "start_time": "2022-10-02T13:57:10.765Z"
   },
   {
    "duration": 0,
    "start_time": "2022-10-02T13:57:10.766Z"
   },
   {
    "duration": 0,
    "start_time": "2022-10-02T13:57:10.768Z"
   },
   {
    "duration": 0,
    "start_time": "2022-10-02T13:57:10.769Z"
   },
   {
    "duration": 0,
    "start_time": "2022-10-02T13:57:10.770Z"
   },
   {
    "duration": 0,
    "start_time": "2022-10-02T13:57:10.835Z"
   },
   {
    "duration": 0,
    "start_time": "2022-10-02T13:57:10.837Z"
   },
   {
    "duration": 0,
    "start_time": "2022-10-02T13:57:10.839Z"
   },
   {
    "duration": 0,
    "start_time": "2022-10-02T13:57:10.840Z"
   },
   {
    "duration": 0,
    "start_time": "2022-10-02T13:57:10.842Z"
   },
   {
    "duration": 160,
    "start_time": "2022-10-02T13:57:43.661Z"
   },
   {
    "duration": 3087,
    "start_time": "2022-10-02T13:57:54.018Z"
   },
   {
    "duration": 156,
    "start_time": "2022-10-02T13:57:57.107Z"
   },
   {
    "duration": 4,
    "start_time": "2022-10-02T13:57:57.264Z"
   },
   {
    "duration": 8,
    "start_time": "2022-10-02T13:57:57.269Z"
   },
   {
    "duration": 8,
    "start_time": "2022-10-02T13:57:57.278Z"
   },
   {
    "duration": 46,
    "start_time": "2022-10-02T13:57:57.287Z"
   },
   {
    "duration": 19,
    "start_time": "2022-10-02T13:57:57.335Z"
   },
   {
    "duration": 4,
    "start_time": "2022-10-02T13:57:57.355Z"
   },
   {
    "duration": 15,
    "start_time": "2022-10-02T13:57:57.360Z"
   },
   {
    "duration": 36,
    "start_time": "2022-10-02T13:57:57.377Z"
   },
   {
    "duration": 22,
    "start_time": "2022-10-02T13:57:57.415Z"
   },
   {
    "duration": 10,
    "start_time": "2022-10-02T13:57:57.438Z"
   },
   {
    "duration": 6,
    "start_time": "2022-10-02T13:57:57.449Z"
   },
   {
    "duration": 7,
    "start_time": "2022-10-02T13:57:57.457Z"
   },
   {
    "duration": 10,
    "start_time": "2022-10-02T13:57:57.466Z"
   },
   {
    "duration": 11,
    "start_time": "2022-10-02T13:57:57.477Z"
   },
   {
    "duration": 50,
    "start_time": "2022-10-02T13:57:57.490Z"
   },
   {
    "duration": 11,
    "start_time": "2022-10-02T13:57:57.541Z"
   },
   {
    "duration": 9,
    "start_time": "2022-10-02T13:57:57.553Z"
   },
   {
    "duration": 7,
    "start_time": "2022-10-02T13:57:57.564Z"
   },
   {
    "duration": 9,
    "start_time": "2022-10-02T13:57:57.572Z"
   },
   {
    "duration": 8,
    "start_time": "2022-10-02T13:57:57.583Z"
   },
   {
    "duration": 41,
    "start_time": "2022-10-02T13:57:57.593Z"
   },
   {
    "duration": 7,
    "start_time": "2022-10-02T13:57:57.636Z"
   },
   {
    "duration": 2054,
    "start_time": "2022-10-02T13:57:57.645Z"
   },
   {
    "duration": 44,
    "start_time": "2022-10-02T13:57:59.701Z"
   },
   {
    "duration": 31,
    "start_time": "2022-10-02T13:57:59.747Z"
   },
   {
    "duration": 26,
    "start_time": "2022-10-02T13:57:59.782Z"
   },
   {
    "duration": 44,
    "start_time": "2022-10-02T13:57:59.809Z"
   },
   {
    "duration": 27,
    "start_time": "2022-10-02T13:57:59.855Z"
   },
   {
    "duration": 7,
    "start_time": "2022-10-02T13:57:59.883Z"
   },
   {
    "duration": 5,
    "start_time": "2022-10-02T13:57:59.891Z"
   },
   {
    "duration": 162,
    "start_time": "2022-10-02T13:57:59.897Z"
   },
   {
    "duration": 129,
    "start_time": "2022-10-02T13:58:00.061Z"
   },
   {
    "duration": 159,
    "start_time": "2022-10-02T13:58:00.192Z"
   },
   {
    "duration": 183,
    "start_time": "2022-10-02T13:58:00.353Z"
   },
   {
    "duration": 123,
    "start_time": "2022-10-02T13:58:00.537Z"
   },
   {
    "duration": 130,
    "start_time": "2022-10-02T13:58:00.662Z"
   },
   {
    "duration": 178,
    "start_time": "2022-10-02T13:58:00.794Z"
   },
   {
    "duration": 116,
    "start_time": "2022-10-02T13:58:00.974Z"
   },
   {
    "duration": 282,
    "start_time": "2022-10-02T13:58:01.091Z"
   },
   {
    "duration": 160,
    "start_time": "2022-10-02T13:58:01.375Z"
   },
   {
    "duration": 198,
    "start_time": "2022-10-02T13:58:01.538Z"
   },
   {
    "duration": 230,
    "start_time": "2022-10-02T13:58:01.737Z"
   },
   {
    "duration": 288,
    "start_time": "2022-10-02T13:58:01.969Z"
   },
   {
    "duration": 216,
    "start_time": "2022-10-02T13:58:02.258Z"
   },
   {
    "duration": 2,
    "start_time": "2022-10-02T13:58:02.476Z"
   },
   {
    "duration": 340,
    "start_time": "2022-10-02T13:58:02.534Z"
   },
   {
    "duration": 385,
    "start_time": "2022-10-02T13:58:02.875Z"
   },
   {
    "duration": 235,
    "start_time": "2022-10-02T13:58:03.262Z"
   },
   {
    "duration": 188,
    "start_time": "2022-10-02T13:58:03.499Z"
   },
   {
    "duration": 194,
    "start_time": "2022-10-02T13:58:03.689Z"
   },
   {
    "duration": 256,
    "start_time": "2022-10-02T13:58:03.885Z"
   },
   {
    "duration": 193,
    "start_time": "2022-10-02T13:58:04.142Z"
   },
   {
    "duration": 181,
    "start_time": "2022-10-02T13:58:04.337Z"
   },
   {
    "duration": 174,
    "start_time": "2022-10-02T13:58:04.520Z"
   },
   {
    "duration": 166,
    "start_time": "2022-10-02T13:58:04.696Z"
   },
   {
    "duration": 162,
    "start_time": "2022-10-02T13:58:04.864Z"
   },
   {
    "duration": 123,
    "start_time": "2022-10-02T13:58:05.027Z"
   },
   {
    "duration": 155,
    "start_time": "2022-10-02T13:58:05.152Z"
   },
   {
    "duration": 145,
    "start_time": "2022-10-02T13:58:05.308Z"
   },
   {
    "duration": 175,
    "start_time": "2022-10-02T13:58:05.455Z"
   },
   {
    "duration": 20,
    "start_time": "2022-10-02T13:58:05.634Z"
   },
   {
    "duration": 9,
    "start_time": "2022-10-02T13:58:05.656Z"
   },
   {
    "duration": 16,
    "start_time": "2022-10-02T13:58:05.666Z"
   },
   {
    "duration": 383,
    "start_time": "2022-10-02T13:58:05.683Z"
   }
  ],
  "kernelspec": {
   "display_name": "Python 3 (ipykernel)",
   "language": "python",
   "name": "python3"
  },
  "language_info": {
   "codemirror_mode": {
    "name": "ipython",
    "version": 3
   },
   "file_extension": ".py",
   "mimetype": "text/x-python",
   "name": "python",
   "nbconvert_exporter": "python",
   "pygments_lexer": "ipython3",
   "version": "3.9.12"
  },
  "toc": {
   "base_numbering": 1,
   "nav_menu": {},
   "number_sections": true,
   "sideBar": true,
   "skip_h1_title": true,
   "title_cell": "Table of Contents",
   "title_sidebar": "Contents",
   "toc_cell": false,
   "toc_position": {},
   "toc_section_display": true,
   "toc_window_display": true
  }
 },
 "nbformat": 4,
 "nbformat_minor": 4
}
