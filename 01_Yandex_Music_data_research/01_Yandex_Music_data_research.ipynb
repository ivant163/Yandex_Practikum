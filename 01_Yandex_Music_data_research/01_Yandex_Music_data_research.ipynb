{
 "cells": [
  {
   "cell_type": "markdown",
   "metadata": {
    "deletable": false,
    "editable": false,
    "id": "E0vqbgi9ay0H"
   },
   "source": [
    "# Яндекс Музыка"
   ]
  },
  {
   "cell_type": "markdown",
   "metadata": {
    "deletable": false,
    "editable": false,
    "id": "VUC88oWjTJw2"
   },
   "source": [
    "Сравнение Москвы и Петербурга окружено мифами. Например:\n",
    " * Москва — мегаполис, подчинённый жёсткому ритму рабочей недели;\n",
    " * Петербург — культурная столица, со своими вкусами.\n",
    "\n",
    "На данных Яндекс Музыки вы сравните поведение пользователей двух столиц.\n",
    "\n",
    "**Цель исследования** — проверьте три гипотезы:\n",
    "1. Активность пользователей зависит от дня недели. Причём в Москве и Петербурге это проявляется по-разному.\n",
    "2. В понедельник утром в Москве преобладают одни жанры, а в Петербурге — другие. Так же и вечером пятницы преобладают разные жанры — в зависимости от города. \n",
    "3. Москва и Петербург предпочитают разные жанры музыки. В Москве чаще слушают поп-музыку, в Петербурге — русский рэп.\n",
    "\n",
    "**Ход исследования**\n",
    "\n",
    "Данные о поведении пользователей вы получите из файла `yandex_music_project.csv`. О качестве данных ничего не известно. Поэтому перед проверкой гипотез понадобится обзор данных. \n",
    "\n",
    "Вы проверите данные на ошибки и оцените их влияние на исследование. Затем, на этапе предобработки вы поищете возможность исправить самые критичные ошибки данных.\n",
    " \n",
    "Таким образом, исследование пройдёт в три этапа:\n",
    " 1. Обзор данных.\n",
    " 2. Предобработка данных.\n",
    " 3. Проверка гипотез.\n",
    "\n"
   ]
  },
  {
   "cell_type": "markdown",
   "metadata": {
    "deletable": false,
    "editable": false,
    "id": "Ml1hmfXC_Zcs"
   },
   "source": [
    "## Обзор данных\n",
    "\n",
    "Составьте первое представление о данных Яндекс Музыки.\n",
    "\n",
    "\n"
   ]
  },
  {
   "cell_type": "markdown",
   "metadata": {
    "deletable": false,
    "editable": false,
    "id": "57eAOGIz_Zcs",
    "tags": [
     "start_task"
    ]
   },
   "source": [
    "**Задание 1**\n",
    "\n",
    "Основной инструмент аналитика — `pandas`. Импортируйте эту библиотеку."
   ]
  },
  {
   "cell_type": "code",
   "execution_count": 1,
   "metadata": {
    "deletable": false,
    "id": "AXN7PHPN_Zcs"
   },
   "outputs": [],
   "source": [
    "import pandas as pd"
   ]
  },
  {
   "cell_type": "markdown",
   "metadata": {},
   "source": [
    "Подключил необходимую библиотеку."
   ]
  },
  {
   "cell_type": "markdown",
   "metadata": {
    "deletable": false,
    "editable": false,
    "id": "SG23P8tt_Zcs",
    "tags": [
     "start_task"
    ]
   },
   "source": [
    "**Задание 2**\n",
    "\n",
    "Прочитайте файл `yandex_music_project.csv` из папки `/datasets` и сохраните его в переменной `df`:"
   ]
  },
  {
   "cell_type": "code",
   "execution_count": 2,
   "metadata": {
    "deletable": false,
    "id": "fFVu7vqh_Zct"
   },
   "outputs": [],
   "source": [
    "df = pd.read_csv('/datasets/yandex_music_project.csv')"
   ]
  },
  {
   "cell_type": "markdown",
   "metadata": {},
   "source": [
    "Загрузил файл с базой данных и сохранил ее в переменную df."
   ]
  },
  {
   "cell_type": "markdown",
   "metadata": {
    "deletable": false,
    "editable": false,
    "id": "rDoOMd3uTqnZ",
    "tags": [
     "start_task"
    ]
   },
   "source": [
    "**Задание 3**\n",
    "\n",
    "\n",
    "Выведите на экран первые десять строк таблицы:"
   ]
  },
  {
   "cell_type": "code",
   "execution_count": 3,
   "metadata": {
    "deletable": false,
    "id": "oWTVX3gW_Zct",
    "scrolled": false
   },
   "outputs": [
    {
     "data": {
      "text/html": [
       "<div>\n",
       "<style scoped>\n",
       "    .dataframe tbody tr th:only-of-type {\n",
       "        vertical-align: middle;\n",
       "    }\n",
       "\n",
       "    .dataframe tbody tr th {\n",
       "        vertical-align: top;\n",
       "    }\n",
       "\n",
       "    .dataframe thead th {\n",
       "        text-align: right;\n",
       "    }\n",
       "</style>\n",
       "<table border=\"1\" class=\"dataframe\">\n",
       "  <thead>\n",
       "    <tr style=\"text-align: right;\">\n",
       "      <th></th>\n",
       "      <th>userID</th>\n",
       "      <th>Track</th>\n",
       "      <th>artist</th>\n",
       "      <th>genre</th>\n",
       "      <th>City</th>\n",
       "      <th>time</th>\n",
       "      <th>Day</th>\n",
       "    </tr>\n",
       "  </thead>\n",
       "  <tbody>\n",
       "    <tr>\n",
       "      <th>0</th>\n",
       "      <td>FFB692EC</td>\n",
       "      <td>Kamigata To Boots</td>\n",
       "      <td>The Mass Missile</td>\n",
       "      <td>rock</td>\n",
       "      <td>Saint-Petersburg</td>\n",
       "      <td>20:28:33</td>\n",
       "      <td>Wednesday</td>\n",
       "    </tr>\n",
       "    <tr>\n",
       "      <th>1</th>\n",
       "      <td>55204538</td>\n",
       "      <td>Delayed Because of Accident</td>\n",
       "      <td>Andreas Rönnberg</td>\n",
       "      <td>rock</td>\n",
       "      <td>Moscow</td>\n",
       "      <td>14:07:09</td>\n",
       "      <td>Friday</td>\n",
       "    </tr>\n",
       "    <tr>\n",
       "      <th>2</th>\n",
       "      <td>20EC38</td>\n",
       "      <td>Funiculì funiculà</td>\n",
       "      <td>Mario Lanza</td>\n",
       "      <td>pop</td>\n",
       "      <td>Saint-Petersburg</td>\n",
       "      <td>20:58:07</td>\n",
       "      <td>Wednesday</td>\n",
       "    </tr>\n",
       "    <tr>\n",
       "      <th>3</th>\n",
       "      <td>A3DD03C9</td>\n",
       "      <td>Dragons in the Sunset</td>\n",
       "      <td>Fire + Ice</td>\n",
       "      <td>folk</td>\n",
       "      <td>Saint-Petersburg</td>\n",
       "      <td>08:37:09</td>\n",
       "      <td>Monday</td>\n",
       "    </tr>\n",
       "    <tr>\n",
       "      <th>4</th>\n",
       "      <td>E2DC1FAE</td>\n",
       "      <td>Soul People</td>\n",
       "      <td>Space Echo</td>\n",
       "      <td>dance</td>\n",
       "      <td>Moscow</td>\n",
       "      <td>08:34:34</td>\n",
       "      <td>Monday</td>\n",
       "    </tr>\n",
       "    <tr>\n",
       "      <th>5</th>\n",
       "      <td>842029A1</td>\n",
       "      <td>Преданная</td>\n",
       "      <td>IMPERVTOR</td>\n",
       "      <td>rusrap</td>\n",
       "      <td>Saint-Petersburg</td>\n",
       "      <td>13:09:41</td>\n",
       "      <td>Friday</td>\n",
       "    </tr>\n",
       "    <tr>\n",
       "      <th>6</th>\n",
       "      <td>4CB90AA5</td>\n",
       "      <td>True</td>\n",
       "      <td>Roman Messer</td>\n",
       "      <td>dance</td>\n",
       "      <td>Moscow</td>\n",
       "      <td>13:00:07</td>\n",
       "      <td>Wednesday</td>\n",
       "    </tr>\n",
       "    <tr>\n",
       "      <th>7</th>\n",
       "      <td>F03E1C1F</td>\n",
       "      <td>Feeling This Way</td>\n",
       "      <td>Polina Griffith</td>\n",
       "      <td>dance</td>\n",
       "      <td>Moscow</td>\n",
       "      <td>20:47:49</td>\n",
       "      <td>Wednesday</td>\n",
       "    </tr>\n",
       "    <tr>\n",
       "      <th>8</th>\n",
       "      <td>8FA1D3BE</td>\n",
       "      <td>И вновь продолжается бой</td>\n",
       "      <td>NaN</td>\n",
       "      <td>ruspop</td>\n",
       "      <td>Moscow</td>\n",
       "      <td>09:17:40</td>\n",
       "      <td>Friday</td>\n",
       "    </tr>\n",
       "    <tr>\n",
       "      <th>9</th>\n",
       "      <td>E772D5C0</td>\n",
       "      <td>Pessimist</td>\n",
       "      <td>NaN</td>\n",
       "      <td>dance</td>\n",
       "      <td>Saint-Petersburg</td>\n",
       "      <td>21:20:49</td>\n",
       "      <td>Wednesday</td>\n",
       "    </tr>\n",
       "  </tbody>\n",
       "</table>\n",
       "</div>"
      ],
      "text/plain": [
       "     userID                        Track            artist   genre  \\\n",
       "0  FFB692EC            Kamigata To Boots  The Mass Missile    rock   \n",
       "1  55204538  Delayed Because of Accident  Andreas Rönnberg    rock   \n",
       "2    20EC38            Funiculì funiculà       Mario Lanza     pop   \n",
       "3  A3DD03C9        Dragons in the Sunset        Fire + Ice    folk   \n",
       "4  E2DC1FAE                  Soul People        Space Echo   dance   \n",
       "5  842029A1                    Преданная         IMPERVTOR  rusrap   \n",
       "6  4CB90AA5                         True      Roman Messer   dance   \n",
       "7  F03E1C1F             Feeling This Way   Polina Griffith   dance   \n",
       "8  8FA1D3BE     И вновь продолжается бой               NaN  ruspop   \n",
       "9  E772D5C0                    Pessimist               NaN   dance   \n",
       "\n",
       "             City        time        Day  \n",
       "0  Saint-Petersburg  20:28:33  Wednesday  \n",
       "1            Moscow  14:07:09     Friday  \n",
       "2  Saint-Petersburg  20:58:07  Wednesday  \n",
       "3  Saint-Petersburg  08:37:09     Monday  \n",
       "4            Moscow  08:34:34     Monday  \n",
       "5  Saint-Petersburg  13:09:41     Friday  \n",
       "6            Moscow  13:00:07  Wednesday  \n",
       "7            Moscow  20:47:49  Wednesday  \n",
       "8            Moscow  09:17:40     Friday  \n",
       "9  Saint-Petersburg  21:20:49  Wednesday  "
      ]
     },
     "execution_count": 3,
     "metadata": {},
     "output_type": "execute_result"
    }
   ],
   "source": [
    "df.head(10)"
   ]
  },
  {
   "cell_type": "markdown",
   "metadata": {},
   "source": [
    "Просмотрел первые 10 строк таблицы df."
   ]
  },
  {
   "cell_type": "markdown",
   "metadata": {
    "deletable": false,
    "editable": false,
    "id": "EO73Kwic_Zct",
    "tags": [
     "start_task"
    ]
   },
   "source": [
    "**Задание 4**\n",
    "\n",
    "\n",
    "Одной командой получить общую информацию о таблице c помощью метода `info()`:"
   ]
  },
  {
   "cell_type": "code",
   "execution_count": 4,
   "metadata": {
    "deletable": false,
    "id": "DSf2kIb-_Zct",
    "scrolled": true
   },
   "outputs": [
    {
     "name": "stdout",
     "output_type": "stream",
     "text": [
      "<class 'pandas.core.frame.DataFrame'>\n",
      "RangeIndex: 65079 entries, 0 to 65078\n",
      "Data columns (total 7 columns):\n",
      " #   Column    Non-Null Count  Dtype \n",
      "---  ------    --------------  ----- \n",
      " 0     userID  65079 non-null  object\n",
      " 1   Track     63848 non-null  object\n",
      " 2   artist    57876 non-null  object\n",
      " 3   genre     63881 non-null  object\n",
      " 4     City    65079 non-null  object\n",
      " 5   time      65079 non-null  object\n",
      " 6   Day       65079 non-null  object\n",
      "dtypes: object(7)\n",
      "memory usage: 3.5+ MB\n"
     ]
    }
   ],
   "source": [
    "df.info()"
   ]
  },
  {
   "cell_type": "markdown",
   "metadata": {},
   "source": [
    "Получил общую информацию о данных в таблице df."
   ]
  },
  {
   "cell_type": "markdown",
   "metadata": {
    "deletable": false,
    "editable": false,
    "id": "TaQ2Iwbr_Zct"
   },
   "source": [
    "Итак, в таблице семь столбцов. Тип данных во всех столбцах — `object`.\n",
    "\n",
    "Согласно документации к данным:\n",
    "* `userID` — идентификатор пользователя;\n",
    "* `Track` — название трека;  \n",
    "* `artist` — имя исполнителя;\n",
    "* `genre` — название жанра;\n",
    "* `City` — город пользователя;\n",
    "* `time` — время начала прослушивания;\n",
    "* `Day` — день недели.\n",
    "\n",
    "Количество значений в столбцах различается. Значит, в данных есть пропущенные значения."
   ]
  },
  {
   "cell_type": "markdown",
   "metadata": {
    "deletable": false,
    "editable": false,
    "id": "rAfziTBDmf2h",
    "tags": [
     "start_task"
    ]
   },
   "source": [
    "**Задание 5**\n",
    "\n",
    "**Вопрос со свободной формой ответа**\n",
    "\n",
    "В названиях колонок видны нарушения стиля:\n",
    "* Строчные буквы сочетаются с прописными.\n",
    "* Встречаются пробелы.\n",
    "\n",
    "Какое третье нарушение?"
   ]
  },
  {
   "cell_type": "code",
   "execution_count": 5,
   "metadata": {
    "id": "jD8EXEIvmf2h"
   },
   "outputs": [
    {
     "data": {
      "text/plain": [
       "' Отсутствует разделитель.'"
      ]
     },
     "execution_count": 5,
     "metadata": {},
     "output_type": "execute_result"
    }
   ],
   "source": [
    "' Отсутствует разделитель.'"
   ]
  },
  {
   "cell_type": "markdown",
   "metadata": {
    "deletable": false,
    "editable": false,
    "id": "MCB6-dXG_Zct"
   },
   "source": [
    "**Выводы**\n",
    "\n",
    "В каждой строке таблицы — данные о прослушанном треке. Часть колонок описывает саму композицию: название, исполнителя и жанр. Остальные данные рассказывают о пользователе: из какого он города, когда он слушал музыку. \n",
    "\n",
    "Предварительно можно утверждать, что данных достаточно для проверки гипотез. Но встречаются пропуски в данных, а в названиях колонок — расхождения с хорошим стилем.\n",
    "\n",
    "Чтобы двигаться дальше, нужно устранить проблемы в данных."
   ]
  },
  {
   "cell_type": "markdown",
   "metadata": {
    "deletable": false,
    "editable": false,
    "id": "SjYF6Ub9_Zct"
   },
   "source": [
    "## Предобработка данных\n",
    "Исправьте стиль в заголовках столбцов, исключите пропуски. Затем проверьте данные на дубликаты."
   ]
  },
  {
   "cell_type": "markdown",
   "metadata": {
    "deletable": false,
    "editable": false,
    "id": "dIaKXr29_Zct",
    "tags": [
     "start_task"
    ]
   },
   "source": [
    "### Стиль заголовков\n",
    "\n",
    "**Задание 6**\n",
    "\n",
    "Выведите на экран названия столбцов:"
   ]
  },
  {
   "cell_type": "code",
   "execution_count": 6,
   "metadata": {
    "deletable": false,
    "id": "oKOTdF_Q_Zct"
   },
   "outputs": [
    {
     "name": "stdout",
     "output_type": "stream",
     "text": [
      "Index(['  userID', 'Track', 'artist', 'genre', '  City  ', 'time', 'Day'], dtype='object')\n"
     ]
    }
   ],
   "source": [
    "print(df.columns)# перечень названий столбцов таблицы df"
   ]
  },
  {
   "cell_type": "markdown",
   "metadata": {
    "deletable": false,
    "editable": false,
    "id": "zj5534cv_Zct",
    "tags": [
     "start_task"
    ]
   },
   "source": [
    "**Задание 7**\n",
    "\n",
    "\n",
    "Приведите названия в соответствие с хорошим стилем:\n",
    "* несколько слов в названии запишите в «змеином_регистре»,\n",
    "* все символы сделайте строчными,\n",
    "* устраните пробелы.\n",
    "\n",
    "Для этого переименуйте колонки так:\n",
    "* `'  userID'` → `'user_id'`;\n",
    "* `'Track'` → `'track'`;\n",
    "* `'  City  '` → `'city'`;\n",
    "* `'Day'` → `'day'`."
   ]
  },
  {
   "cell_type": "code",
   "execution_count": 7,
   "metadata": {
    "deletable": false,
    "id": "ISlFqs5y_Zct"
   },
   "outputs": [],
   "source": [
    "df = df.rename(columns={'  userID':'user_id', 'Track':'track', '  City  ':'city','Day':'day'})# переименование столбцов"
   ]
  },
  {
   "cell_type": "markdown",
   "metadata": {},
   "source": [
    "Переименовал колонки."
   ]
  },
  {
   "cell_type": "markdown",
   "metadata": {
    "deletable": false,
    "editable": false,
    "id": "1dqbh00J_Zct",
    "tags": [
     "start_task"
    ]
   },
   "source": [
    "**Задание 8**\n",
    "\n",
    "\n",
    "Проверьте результат. Для этого ещё раз выведите на экран названия столбцов:"
   ]
  },
  {
   "cell_type": "code",
   "execution_count": 8,
   "metadata": {
    "deletable": false,
    "id": "d4NOAmTW_Zct",
    "scrolled": true
   },
   "outputs": [
    {
     "name": "stdout",
     "output_type": "stream",
     "text": [
      "Index(['user_id', 'track', 'artist', 'genre', 'city', 'time', 'day'], dtype='object')\n"
     ]
    }
   ],
   "source": [
    "print(df.columns)"
   ]
  },
  {
   "cell_type": "markdown",
   "metadata": {},
   "source": [
    "Повторно провел результат."
   ]
  },
  {
   "cell_type": "markdown",
   "metadata": {
    "deletable": false,
    "editable": false,
    "id": "5ISfbcfY_Zct",
    "tags": [
     "start_task"
    ]
   },
   "source": [
    "### Пропуски значений\n",
    "\n",
    "**Задание 9**\n",
    "\n",
    "Сначала посчитайте, сколько в таблице пропущенных значений. Для этого достаточно двух методов `pandas`:"
   ]
  },
  {
   "cell_type": "code",
   "execution_count": 9,
   "metadata": {
    "deletable": false,
    "id": "RskX29qr_Zct",
    "scrolled": true
   },
   "outputs": [
    {
     "name": "stdout",
     "output_type": "stream",
     "text": [
      "user_id       0\n",
      "track      1231\n",
      "artist     7203\n",
      "genre      1198\n",
      "city          0\n",
      "time          0\n",
      "day           0\n",
      "dtype: int64\n"
     ]
    }
   ],
   "source": [
    "print(df.isna().sum())"
   ]
  },
  {
   "cell_type": "markdown",
   "metadata": {},
   "source": [
    "Выполнил подсчет пропусков."
   ]
  },
  {
   "cell_type": "markdown",
   "metadata": {
    "deletable": false,
    "editable": false,
    "id": "qubhgnlO_Zct"
   },
   "source": [
    "Не все пропущенные значения влияют на исследование. Так в `track` и `artist` пропуски не важны для вашей работы. Достаточно заменить их явными обозначениями.\n",
    "\n",
    "Но пропуски в `genre` могут помешать сравнению музыкальных вкусов в Москве и Санкт-Петербурге. На практике было бы правильно установить причину пропусков и восстановить данные. Такой возможности нет в учебном проекте. Придётся:\n",
    "* заполнить и эти пропуски явными обозначениями;\n",
    "* оценить, насколько они повредят расчётам. "
   ]
  },
  {
   "cell_type": "markdown",
   "metadata": {
    "deletable": false,
    "editable": false,
    "id": "fSv2laPA_Zct",
    "tags": [
     "start_task"
    ]
   },
   "source": [
    "**Задание 10**\n",
    "\n",
    "Замените пропущенные значения в столбцах `track`, `artist` и `genre` на строку `'unknown'`. Для этого создайте список `columns_to_replace`, переберите его элементы циклом `for` и для каждого столбца выполните замену пропущенных значений:"
   ]
  },
  {
   "cell_type": "code",
   "execution_count": 10,
   "metadata": {
    "deletable": false,
    "id": "KplB5qWs_Zct"
   },
   "outputs": [],
   "source": [
    "columns_to_replace = ['track', 'artist', 'genre']\n",
    "for column in columns_to_replace:\n",
    "    df['track'] = df['track'].fillna('unknown')\n",
    "    df['artist'] = df['artist'].fillna('unknown')\n",
    "    df['genre'] = df['genre'].fillna('unknown')    "
   ]
  },
  {
   "cell_type": "markdown",
   "metadata": {},
   "source": [
    "Перебрал названия столбцов в цикле и заменил пропущенные значения на 'unknown'."
   ]
  },
  {
   "cell_type": "markdown",
   "metadata": {
    "deletable": false,
    "editable": false,
    "id": "Ilsm-MZo_Zct",
    "tags": [
     "start_task"
    ]
   },
   "source": [
    "**Задание 11**\n",
    "\n",
    "Убедитесь, что в таблице не осталось пропусков. Для этого ещё раз посчитайте пропущенные значения."
   ]
  },
  {
   "cell_type": "code",
   "execution_count": 11,
   "metadata": {
    "deletable": false,
    "id": "Tq4nYRX4_Zct",
    "scrolled": true
   },
   "outputs": [
    {
     "name": "stdout",
     "output_type": "stream",
     "text": [
      "user_id    0\n",
      "track      0\n",
      "artist     0\n",
      "genre      0\n",
      "city       0\n",
      "time       0\n",
      "day        0\n",
      "dtype: int64\n"
     ]
    }
   ],
   "source": [
    "print(df.isna().sum())"
   ]
  },
  {
   "cell_type": "markdown",
   "metadata": {},
   "source": [
    "Убедился в отсутствии пропусков."
   ]
  },
  {
   "cell_type": "markdown",
   "metadata": {
    "deletable": false,
    "editable": false,
    "id": "BWKRtBJ3_Zct",
    "tags": [
     "start_task"
    ]
   },
   "source": [
    "### Дубликаты\n",
    "\n",
    "**Задание 12**\n",
    "\n",
    "Посчитайте явные дубликаты в таблице одной командой:"
   ]
  },
  {
   "cell_type": "code",
   "execution_count": 12,
   "metadata": {
    "deletable": false,
    "id": "36eES_S0_Zct",
    "scrolled": true
   },
   "outputs": [
    {
     "name": "stdout",
     "output_type": "stream",
     "text": [
      "3826\n"
     ]
    }
   ],
   "source": [
    "print(df.duplicated().sum())"
   ]
  },
  {
   "cell_type": "markdown",
   "metadata": {},
   "source": [
    "Произвел подсчёт явных дубликатов."
   ]
  },
  {
   "cell_type": "markdown",
   "metadata": {
    "deletable": false,
    "editable": false,
    "id": "Ot25h6XR_Zct",
    "tags": [
     "start_task"
    ]
   },
   "source": [
    "**Задание 13**\n",
    "\n",
    "Вызовите специальный метод `pandas`, чтобы удалить явные дубликаты:"
   ]
  },
  {
   "cell_type": "code",
   "execution_count": 13,
   "metadata": {
    "deletable": false,
    "id": "exFHq6tt_Zct"
   },
   "outputs": [],
   "source": [
    "df = df.drop_duplicates()"
   ]
  },
  {
   "cell_type": "markdown",
   "metadata": {},
   "source": [
    "Удалил явные дубликаты."
   ]
  },
  {
   "cell_type": "markdown",
   "metadata": {
    "deletable": false,
    "editable": false,
    "id": "Im2YwBEG_Zct",
    "tags": [
     "start_task"
    ]
   },
   "source": [
    "**Задание 14**\n",
    "\n",
    "Ещё раз посчитайте явные дубликаты в таблице — убедитесь, что полностью от них избавились:"
   ]
  },
  {
   "cell_type": "code",
   "execution_count": 14,
   "metadata": {
    "deletable": false,
    "id": "-8PuNWQ0_Zct",
    "scrolled": true
   },
   "outputs": [
    {
     "name": "stdout",
     "output_type": "stream",
     "text": [
      "0\n"
     ]
    }
   ],
   "source": [
    "print(df.duplicated().sum())"
   ]
  },
  {
   "cell_type": "markdown",
   "metadata": {},
   "source": [
    "Убедился в отсутствии дубликатов."
   ]
  },
  {
   "cell_type": "markdown",
   "metadata": {
    "deletable": false,
    "editable": false,
    "id": "QlFBsxAr_Zct"
   },
   "source": [
    "Теперь избавьтесь от неявных дубликатов в колонке `genre`. Например, название одного и того же жанра может быть записано немного по-разному. Такие ошибки тоже повлияют на результат исследования."
   ]
  },
  {
   "cell_type": "markdown",
   "metadata": {
    "deletable": false,
    "editable": false,
    "id": "eSjWwsOh_Zct",
    "tags": [
     "start_task"
    ]
   },
   "source": [
    "**Задание 15**\n",
    "\n",
    "Выведите на экран список уникальных названий жанров, отсортированный в алфавитном порядке. Для этого:\n",
    "1. извлеките нужный столбец датафрейма; \n",
    "2. примените к нему метод сортировки;\n",
    "3. для отсортированного столбца вызовите метод, который вернёт уникальные значения из столбца."
   ]
  },
  {
   "cell_type": "code",
   "execution_count": 15,
   "metadata": {
    "deletable": false,
    "id": "JIUcqzZN_Zct"
   },
   "outputs": [
    {
     "data": {
      "text/plain": [
       "array(['acid', 'acoustic', 'action', 'adult', 'africa', 'afrikaans',\n",
       "       'alternative', 'alternativepunk', 'ambient', 'americana',\n",
       "       'animated', 'anime', 'arabesk', 'arabic', 'arena',\n",
       "       'argentinetango', 'art', 'audiobook', 'author', 'avantgarde',\n",
       "       'axé', 'baile', 'balkan', 'beats', 'bigroom', 'black', 'bluegrass',\n",
       "       'blues', 'bollywood', 'bossa', 'brazilian', 'breakbeat', 'breaks',\n",
       "       'broadway', 'cantautori', 'cantopop', 'canzone', 'caribbean',\n",
       "       'caucasian', 'celtic', 'chamber', 'chanson', 'children', 'chill',\n",
       "       'chinese', 'choral', 'christian', 'christmas', 'classical',\n",
       "       'classicmetal', 'club', 'colombian', 'comedy', 'conjazz',\n",
       "       'contemporary', 'country', 'cuban', 'dance', 'dancehall',\n",
       "       'dancepop', 'dark', 'death', 'deep', 'deutschrock', 'deutschspr',\n",
       "       'dirty', 'disco', 'dnb', 'documentary', 'downbeat', 'downtempo',\n",
       "       'drum', 'dub', 'dubstep', 'eastern', 'easy', 'electronic',\n",
       "       'electropop', 'emo', 'entehno', 'epicmetal', 'estrada', 'ethnic',\n",
       "       'eurofolk', 'european', 'experimental', 'extrememetal', 'fado',\n",
       "       'fairytail', 'film', 'fitness', 'flamenco', 'folk', 'folklore',\n",
       "       'folkmetal', 'folkrock', 'folktronica', 'forró', 'frankreich',\n",
       "       'französisch', 'french', 'funk', 'future', 'gangsta', 'garage',\n",
       "       'german', 'ghazal', 'gitarre', 'glitch', 'gospel', 'gothic',\n",
       "       'grime', 'grunge', 'gypsy', 'handsup', \"hard'n'heavy\", 'hardcore',\n",
       "       'hardstyle', 'hardtechno', 'hip', 'hip-hop', 'hiphop',\n",
       "       'historisch', 'holiday', 'hop', 'horror', 'house', 'hymn', 'idm',\n",
       "       'independent', 'indian', 'indie', 'indipop', 'industrial',\n",
       "       'inspirational', 'instrumental', 'international', 'irish', 'jam',\n",
       "       'japanese', 'jazz', 'jewish', 'jpop', 'jungle', 'k-pop',\n",
       "       'karadeniz', 'karaoke', 'kayokyoku', 'korean', 'laiko', 'latin',\n",
       "       'latino', 'leftfield', 'local', 'lounge', 'loungeelectronic',\n",
       "       'lovers', 'malaysian', 'mandopop', 'marschmusik', 'meditative',\n",
       "       'mediterranean', 'melodic', 'metal', 'metalcore', 'mexican',\n",
       "       'middle', 'minimal', 'miscellaneous', 'modern', 'mood', 'mpb',\n",
       "       'muslim', 'native', 'neoklassik', 'neue', 'new', 'newage',\n",
       "       'newwave', 'nu', 'nujazz', 'numetal', 'oceania', 'old', 'opera',\n",
       "       'orchestral', 'other', 'piano', 'podcasts', 'pop', 'popdance',\n",
       "       'popelectronic', 'popeurodance', 'poprussian', 'post',\n",
       "       'posthardcore', 'postrock', 'power', 'progmetal', 'progressive',\n",
       "       'psychedelic', 'punjabi', 'punk', 'quebecois', 'ragga', 'ram',\n",
       "       'rancheras', 'rap', 'rave', 'reggae', 'reggaeton', 'regional',\n",
       "       'relax', 'religious', 'retro', 'rhythm', 'rnb', 'rnr', 'rock',\n",
       "       'rockabilly', 'rockalternative', 'rockindie', 'rockother',\n",
       "       'romance', 'roots', 'ruspop', 'rusrap', 'rusrock', 'russian',\n",
       "       'salsa', 'samba', 'scenic', 'schlager', 'self', 'sertanejo',\n",
       "       'shanson', 'shoegazing', 'showtunes', 'singer', 'ska', 'skarock',\n",
       "       'slow', 'smooth', 'soft', 'soul', 'soulful', 'sound', 'soundtrack',\n",
       "       'southern', 'specialty', 'speech', 'spiritual', 'sport',\n",
       "       'stonerrock', 'surf', 'swing', 'synthpop', 'synthrock',\n",
       "       'sängerportrait', 'tango', 'tanzorchester', 'taraftar', 'tatar',\n",
       "       'tech', 'techno', 'teen', 'thrash', 'top', 'traditional',\n",
       "       'tradjazz', 'trance', 'tribal', 'trip', 'triphop', 'tropical',\n",
       "       'türk', 'türkçe', 'ukrrock', 'unknown', 'urban', 'uzbek',\n",
       "       'variété', 'vi', 'videogame', 'vocal', 'western', 'world',\n",
       "       'worldbeat', 'ïîï', 'электроника'], dtype=object)"
      ]
     },
     "execution_count": 15,
     "metadata": {},
     "output_type": "execute_result"
    }
   ],
   "source": [
    "df_genre = df['genre']\n",
    "df_genre = df_genre.sort_values()\n",
    "df_genre = df_genre.unique()\n",
    "df_genre"
   ]
  },
  {
   "cell_type": "markdown",
   "metadata": {
    "deletable": false,
    "editable": false,
    "id": "qej-Qmuo_Zct",
    "tags": [
     "start_task"
    ]
   },
   "source": [
    "**Задание 16**\n",
    "\n",
    "Просмотрите список и найдите неявные дубликаты названия `hiphop`. Это могут быть названия с ошибками или альтернативные названия того же жанра.\n",
    "\n",
    "Вы увидите следующие неявные дубликаты:\n",
    "* *hip*,\n",
    "* *hop*,\n",
    "* *hip-hop*.\n",
    "\n",
    "Чтобы очистить от них таблицу используйте метод `replace()` с двумя аргументами: списком строк-дубликатов (включащий *hip*, *hop* и *hip-hop*) и строкой с правильным значением. Вам нужно исправить колонку `genre` в таблице `df`: заменить каждое значение из списка дубликатов на верное. Вместо `hip`, `hop` и `hip-hop` в таблице должно быть значение `hiphop`:"
   ]
  },
  {
   "cell_type": "code",
   "execution_count": 16,
   "metadata": {
    "deletable": false,
    "id": "ErNDkmns_Zct"
   },
   "outputs": [],
   "source": [
    "df['genre'] = df['genre'].replace('hip', 'hiphop')\n",
    "df['genre'] = df['genre'].replace('hop', 'hiphop')\n",
    "df['genre'] = df['genre'].replace('hip-hop', 'hiphop')"
   ]
  },
  {
   "cell_type": "markdown",
   "metadata": {},
   "source": [
    "Устраненил неявные дубликаты."
   ]
  },
  {
   "cell_type": "markdown",
   "metadata": {
    "deletable": false,
    "editable": false,
    "id": "zQKF16_RG15m",
    "tags": [
     "start_task"
    ]
   },
   "source": [
    "**Задание 17**\n",
    "\n",
    "Проверьте, что заменили неправильные названия:\n",
    "\n",
    "*   hip,\n",
    "*   hop,\n",
    "*   hip-hop.\n",
    "\n",
    "Выведите отсортированный список уникальных значений столбца `genre`:"
   ]
  },
  {
   "cell_type": "code",
   "execution_count": 17,
   "metadata": {
    "deletable": false,
    "id": "wvixALnFG15m"
   },
   "outputs": [
    {
     "data": {
      "text/plain": [
       "array(['acid', 'acoustic', 'action', 'adult', 'africa', 'afrikaans',\n",
       "       'alternative', 'alternativepunk', 'ambient', 'americana',\n",
       "       'animated', 'anime', 'arabesk', 'arabic', 'arena',\n",
       "       'argentinetango', 'art', 'audiobook', 'author', 'avantgarde',\n",
       "       'axé', 'baile', 'balkan', 'beats', 'bigroom', 'black', 'bluegrass',\n",
       "       'blues', 'bollywood', 'bossa', 'brazilian', 'breakbeat', 'breaks',\n",
       "       'broadway', 'cantautori', 'cantopop', 'canzone', 'caribbean',\n",
       "       'caucasian', 'celtic', 'chamber', 'chanson', 'children', 'chill',\n",
       "       'chinese', 'choral', 'christian', 'christmas', 'classical',\n",
       "       'classicmetal', 'club', 'colombian', 'comedy', 'conjazz',\n",
       "       'contemporary', 'country', 'cuban', 'dance', 'dancehall',\n",
       "       'dancepop', 'dark', 'death', 'deep', 'deutschrock', 'deutschspr',\n",
       "       'dirty', 'disco', 'dnb', 'documentary', 'downbeat', 'downtempo',\n",
       "       'drum', 'dub', 'dubstep', 'eastern', 'easy', 'electronic',\n",
       "       'electropop', 'emo', 'entehno', 'epicmetal', 'estrada', 'ethnic',\n",
       "       'eurofolk', 'european', 'experimental', 'extrememetal', 'fado',\n",
       "       'fairytail', 'film', 'fitness', 'flamenco', 'folk', 'folklore',\n",
       "       'folkmetal', 'folkrock', 'folktronica', 'forró', 'frankreich',\n",
       "       'französisch', 'french', 'funk', 'future', 'gangsta', 'garage',\n",
       "       'german', 'ghazal', 'gitarre', 'glitch', 'gospel', 'gothic',\n",
       "       'grime', 'grunge', 'gypsy', 'handsup', \"hard'n'heavy\", 'hardcore',\n",
       "       'hardstyle', 'hardtechno', 'hiphop', 'historisch', 'holiday',\n",
       "       'horror', 'house', 'hymn', 'idm', 'independent', 'indian', 'indie',\n",
       "       'indipop', 'industrial', 'inspirational', 'instrumental',\n",
       "       'international', 'irish', 'jam', 'japanese', 'jazz', 'jewish',\n",
       "       'jpop', 'jungle', 'k-pop', 'karadeniz', 'karaoke', 'kayokyoku',\n",
       "       'korean', 'laiko', 'latin', 'latino', 'leftfield', 'local',\n",
       "       'lounge', 'loungeelectronic', 'lovers', 'malaysian', 'mandopop',\n",
       "       'marschmusik', 'meditative', 'mediterranean', 'melodic', 'metal',\n",
       "       'metalcore', 'mexican', 'middle', 'minimal', 'miscellaneous',\n",
       "       'modern', 'mood', 'mpb', 'muslim', 'native', 'neoklassik', 'neue',\n",
       "       'new', 'newage', 'newwave', 'nu', 'nujazz', 'numetal', 'oceania',\n",
       "       'old', 'opera', 'orchestral', 'other', 'piano', 'podcasts', 'pop',\n",
       "       'popdance', 'popelectronic', 'popeurodance', 'poprussian', 'post',\n",
       "       'posthardcore', 'postrock', 'power', 'progmetal', 'progressive',\n",
       "       'psychedelic', 'punjabi', 'punk', 'quebecois', 'ragga', 'ram',\n",
       "       'rancheras', 'rap', 'rave', 'reggae', 'reggaeton', 'regional',\n",
       "       'relax', 'religious', 'retro', 'rhythm', 'rnb', 'rnr', 'rock',\n",
       "       'rockabilly', 'rockalternative', 'rockindie', 'rockother',\n",
       "       'romance', 'roots', 'ruspop', 'rusrap', 'rusrock', 'russian',\n",
       "       'salsa', 'samba', 'scenic', 'schlager', 'self', 'sertanejo',\n",
       "       'shanson', 'shoegazing', 'showtunes', 'singer', 'ska', 'skarock',\n",
       "       'slow', 'smooth', 'soft', 'soul', 'soulful', 'sound', 'soundtrack',\n",
       "       'southern', 'specialty', 'speech', 'spiritual', 'sport',\n",
       "       'stonerrock', 'surf', 'swing', 'synthpop', 'synthrock',\n",
       "       'sängerportrait', 'tango', 'tanzorchester', 'taraftar', 'tatar',\n",
       "       'tech', 'techno', 'teen', 'thrash', 'top', 'traditional',\n",
       "       'tradjazz', 'trance', 'tribal', 'trip', 'triphop', 'tropical',\n",
       "       'türk', 'türkçe', 'ukrrock', 'unknown', 'urban', 'uzbek',\n",
       "       'variété', 'vi', 'videogame', 'vocal', 'western', 'world',\n",
       "       'worldbeat', 'ïîï', 'электроника'], dtype=object)"
      ]
     },
     "execution_count": 17,
     "metadata": {},
     "output_type": "execute_result"
    }
   ],
   "source": [
    "df_genre = df['genre']\n",
    "df_genre = df_genre.sort_values()\n",
    "df_genre = df_genre.unique()\n",
    "df_genre"
   ]
  },
  {
   "cell_type": "markdown",
   "metadata": {
    "deletable": false,
    "editable": false,
    "id": "jz6a9-7HQUDd"
   },
   "source": [
    "**Выводы**\n",
    "\n",
    "Предобработка обнаружила три проблемы в данных:\n",
    "\n",
    "- нарушения в стиле заголовков,\n",
    "- пропущенные значения,\n",
    "- дубликаты — явные и неявные.\n",
    "\n",
    "Вы исправили заголовки, чтобы упростить работу с таблицей. Без дубликатов исследование станет более точным.\n",
    "\n",
    "Пропущенные значения вы заменили на `'unknown'`. Ещё предстоит увидеть, не повредят ли исследованию пропуски в колонке `genre`.\n",
    "\n",
    "Теперь можно перейти к проверке гипотез. "
   ]
  },
  {
   "cell_type": "markdown",
   "metadata": {
    "deletable": false,
    "editable": false,
    "id": "WttZHXH0SqKk"
   },
   "source": [
    "## Проверка гипотез"
   ]
  },
  {
   "cell_type": "markdown",
   "metadata": {
    "deletable": false,
    "editable": false,
    "id": "Im936VVi_Zcu"
   },
   "source": [
    "### Сравнение поведения пользователей двух столиц"
   ]
  },
  {
   "cell_type": "markdown",
   "metadata": {
    "deletable": false,
    "editable": false,
    "id": "nwt_MuaL_Zcu"
   },
   "source": [
    "Первая гипотеза утверждает, что пользователи по-разному слушают музыку в Москве и Санкт-Петербурге. Проверьте это предположение по данным о трёх днях недели — понедельнике, среде и пятнице. Для этого:\n",
    "\n",
    "* Разделите пользователей Москвы и Санкт-Петербурга.\n",
    "* Сравните, сколько треков послушала каждая группа пользователей в понедельник, среду и пятницу.\n"
   ]
  },
  {
   "cell_type": "markdown",
   "metadata": {
    "deletable": false,
    "editable": false,
    "id": "8Dw_YMmT_Zcu",
    "tags": [
     "start_task"
    ]
   },
   "source": [
    "**Задание 18**\n",
    "\n",
    "Для тренировки сначала выполните каждый из расчётов по отдельности. \n",
    "\n",
    "Оцените активность пользователей в каждом городе. Сгруппируйте данные по городу и посчитайте прослушивания в каждой группе.\n",
    "\n"
   ]
  },
  {
   "cell_type": "code",
   "execution_count": 18,
   "metadata": {
    "deletable": false,
    "id": "0_Qs96oh_Zcu"
   },
   "outputs": [
    {
     "data": {
      "text/plain": [
       "city\n",
       "Moscow              42741\n",
       "Saint-Petersburg    18512\n",
       "Name: city, dtype: int64"
      ]
     },
     "execution_count": 18,
     "metadata": {},
     "output_type": "execute_result"
    }
   ],
   "source": [
    "moscow = df[df['city'] == 'Moscow']['city']\n",
    "moscow = df.groupby('city')['city'].count()\n",
    "moscow"
   ]
  },
  {
   "cell_type": "markdown",
   "metadata": {
    "deletable": false,
    "editable": false,
    "id": "dzli3w8o_Zcu",
    "tags": [
     "start_task"
    ]
   },
   "source": [
    "В Москве прослушиваний больше, чем в Петербурге. Из этого не следует, что московские пользователи чаще слушают музыку. Просто самих пользователей в Москве больше.\n",
    "\n",
    "**Задание 19**\n",
    "\n",
    "Теперь сгруппируйте данные по дню недели и посчитайте прослушивания в понедельник, среду и пятницу. Учтите, что в данных есть информация о прослушиваниях только за эти дни.\n"
   ]
  },
  {
   "cell_type": "code",
   "execution_count": 19,
   "metadata": {
    "deletable": false,
    "id": "uZMKjiJz_Zcu"
   },
   "outputs": [
    {
     "data": {
      "text/plain": [
       "day\n",
       "Friday       21840\n",
       "Monday       21354\n",
       "Wednesday    18059\n",
       "Name: city, dtype: int64"
      ]
     },
     "execution_count": 19,
     "metadata": {},
     "output_type": "execute_result"
    }
   ],
   "source": [
    "monday = df.groupby('day') == 'Monday'\n",
    "monday = df.groupby('day')['city'] == 'Monday'\n",
    "monday = df.groupby('day')['city'].count()\n",
    "monday"
   ]
  },
  {
   "cell_type": "markdown",
   "metadata": {
    "deletable": false,
    "editable": false,
    "id": "cC2tNrlL_Zcu"
   },
   "source": [
    "В среднем пользователи из двух городов менее активны по средам. Но картина может измениться, если рассмотреть каждый город в отдельности."
   ]
  },
  {
   "cell_type": "markdown",
   "metadata": {
    "deletable": false,
    "editable": false,
    "id": "POzs8bGa_Zcu",
    "tags": [
     "start_task"
    ]
   },
   "source": [
    "**Задание 20**\n",
    "\n",
    "\n",
    "Вы видели, как работает группировка по городу и по дням недели. Теперь напишите функцию, которая объединит два эти расчёта.\n",
    "\n",
    "Создайте функцию `number_tracks()`, которая посчитает прослушивания для заданного дня и города. Ей понадобятся два параметра:\n",
    "* день недели,\n",
    "* название города.\n",
    "\n",
    "В функции сохраните в переменную строки исходной таблицы, у которых значение:\n",
    "  * в колонке `day` равно параметру `day`,\n",
    "  * в колонке `city` равно параметру `city`.\n",
    "\n",
    "Для этого примените последовательную фильтрацию с логической индексацией (или сложные логические выражения в одну строку, если вы уже знакомы с ними).\n",
    "\n",
    "Затем посчитайте значения в столбце `user_id` получившейся таблицы. Результат сохраните в новую переменную. Верните эту переменную из функции."
   ]
  },
  {
   "cell_type": "code",
   "execution_count": 20,
   "metadata": {
    "deletable": false,
    "id": "Nz3GdQB1_Zcu"
   },
   "outputs": [],
   "source": [
    "def number_tracks(day, city):\n",
    "    track_list=df[(df['day'] == day)&(df['city'] == city)]\n",
    "    track_list_count=track_list['user_id'].count()\n",
    "    return track_list_count"
   ]
  },
  {
   "cell_type": "markdown",
   "metadata": {
    "deletable": false,
    "editable": false,
    "id": "ytf7xFrFJQ2r",
    "tags": [
     "start_task"
    ]
   },
   "source": [
    "**Задание 21**\n",
    "\n",
    "Вызовите `number_tracks()` шесть раз, меняя значение параметров — так, чтобы получить данные для каждого города в каждый из трёх дней."
   ]
  },
  {
   "cell_type": "code",
   "execution_count": 21,
   "metadata": {
    "deletable": false,
    "id": "rJcRATNQ_Zcu",
    "scrolled": true
   },
   "outputs": [
    {
     "name": "stdout",
     "output_type": "stream",
     "text": [
      "15740\n"
     ]
    }
   ],
   "source": [
    "print(number_tracks('Monday', 'Moscow'))"
   ]
  },
  {
   "cell_type": "markdown",
   "metadata": {},
   "source": [
    "Количество прослушиваний в Москве по понедельникам."
   ]
  },
  {
   "cell_type": "code",
   "execution_count": 22,
   "metadata": {
    "deletable": false,
    "id": "hq_ncZ5T_Zcu",
    "scrolled": true
   },
   "outputs": [
    {
     "name": "stdout",
     "output_type": "stream",
     "text": [
      "5614\n"
     ]
    }
   ],
   "source": [
    "print(number_tracks('Monday', 'Saint-Petersburg'))"
   ]
  },
  {
   "cell_type": "markdown",
   "metadata": {},
   "source": [
    "Количество прослушиваний в Санкт-Петербурге по понедельникам."
   ]
  },
  {
   "cell_type": "code",
   "execution_count": 23,
   "metadata": {
    "deletable": false,
    "id": "_NTy2VPU_Zcu",
    "scrolled": true
   },
   "outputs": [
    {
     "name": "stdout",
     "output_type": "stream",
     "text": [
      "11056\n"
     ]
    }
   ],
   "source": [
    "print(number_tracks('Wednesday', 'Moscow'))"
   ]
  },
  {
   "cell_type": "markdown",
   "metadata": {},
   "source": [
    "Количество прослушиваний в Москве по средам."
   ]
  },
  {
   "cell_type": "code",
   "execution_count": 24,
   "metadata": {
    "deletable": false,
    "id": "j2y3TAwo_Zcu",
    "scrolled": true
   },
   "outputs": [
    {
     "name": "stdout",
     "output_type": "stream",
     "text": [
      "7003\n"
     ]
    }
   ],
   "source": [
    "print(number_tracks('Wednesday', 'Saint-Petersburg'))"
   ]
  },
  {
   "cell_type": "markdown",
   "metadata": {},
   "source": [
    "Количество прослушиваний в Санкт-Петербурге по средам."
   ]
  },
  {
   "cell_type": "code",
   "execution_count": 25,
   "metadata": {
    "deletable": false,
    "id": "vYDw5u_K_Zcu"
   },
   "outputs": [
    {
     "name": "stdout",
     "output_type": "stream",
     "text": [
      "15945\n"
     ]
    }
   ],
   "source": [
    "print(number_tracks('Friday', 'Moscow'))"
   ]
  },
  {
   "cell_type": "markdown",
   "metadata": {},
   "source": [
    "Количество прослушиваний в Москве по пятницам."
   ]
  },
  {
   "cell_type": "code",
   "execution_count": 26,
   "metadata": {
    "deletable": false,
    "id": "8_yzFtW3_Zcu",
    "scrolled": true
   },
   "outputs": [
    {
     "name": "stdout",
     "output_type": "stream",
     "text": [
      "5895\n"
     ]
    }
   ],
   "source": [
    "print(number_tracks('Friday', 'Saint-Petersburg'))"
   ]
  },
  {
   "cell_type": "markdown",
   "metadata": {},
   "source": [
    "Количество прослушиваний в Санкт-Петербурге по пятницам."
   ]
  },
  {
   "cell_type": "markdown",
   "metadata": {
    "deletable": false,
    "editable": false,
    "id": "7QXffbO-_Zcu",
    "tags": [
     "start_task"
    ]
   },
   "source": [
    "**Задание 22**\n",
    "\n",
    "Создайте c помощью конструктора `pd.DataFrame` таблицу, где\n",
    "* названия колонок — `['city', 'monday', 'wednesday', 'friday']`;\n",
    "* данные — результаты, которые вы получили с помощью `number_tracks`."
   ]
  },
  {
   "cell_type": "code",
   "execution_count": 27,
   "metadata": {
    "deletable": false,
    "id": "APAcLpOr_Zcu"
   },
   "outputs": [
    {
     "name": "stdout",
     "output_type": "stream",
     "text": [
      "               city  monday  wednesday  friday\n",
      "0            Moscow   15740      11056   15945\n",
      "1  Saint-Petersburg    5614       7003    5895\n"
     ]
    }
   ],
   "source": [
    "number_tracks = pd.DataFrame({\n",
    "    'city': ['Moscow', 'Saint-Petersburg'],\n",
    "    'monday': [15740, 5614],\n",
    "    'wednesday': [11056, 7003],\n",
    "    'friday': [15945, 5895]\n",
    "})\n",
    "print(number_tracks)"
   ]
  },
  {
   "cell_type": "markdown",
   "metadata": {
    "deletable": false,
    "editable": false,
    "id": "-EgPIHYu_Zcu"
   },
   "source": [
    "**Выводы**\n",
    "\n",
    "Данные показывают разницу поведения пользователей:\n",
    "\n",
    "- В Москве пик прослушиваний приходится на понедельник и пятницу, а в среду заметен спад.\n",
    "- В Петербурге, наоборот, больше слушают музыку по средам. Активность в понедельник и пятницу здесь почти в равной мере уступает среде.\n",
    "\n",
    "Значит, данные говорят в пользу первой гипотезы."
   ]
  },
  {
   "cell_type": "markdown",
   "metadata": {
    "deletable": false,
    "editable": false,
    "id": "atZAxtq4_Zcu"
   },
   "source": [
    "### Музыка в начале и в конце недели"
   ]
  },
  {
   "cell_type": "markdown",
   "metadata": {
    "deletable": false,
    "editable": false,
    "id": "eXrQqXFH_Zcu"
   },
   "source": [
    "Согласно второй гипотезе, утром в понедельник в Москве преобладают одни жанры, а в Петербурге — другие. Так же и вечером пятницы преобладают разные жанры — в зависимости от города."
   ]
  },
  {
   "cell_type": "markdown",
   "metadata": {
    "deletable": false,
    "editable": false,
    "id": "S8UcW6Hw_Zcu",
    "tags": [
     "start_task"
    ]
   },
   "source": [
    "**Задание 23**\n",
    "\n",
    "Сохраните таблицы с данными в две переменные:\n",
    "* по Москве — в `moscow_general`;\n",
    "* по Санкт-Петербургу — в `spb_general`."
   ]
  },
  {
   "cell_type": "code",
   "execution_count": 28,
   "metadata": {
    "deletable": false,
    "id": "qeaFfM_P_Zcu"
   },
   "outputs": [],
   "source": [
    "moscow_general = df[df['city'] == 'Moscow']"
   ]
  },
  {
   "cell_type": "markdown",
   "metadata": {},
   "source": [
    "Получение таблицы moscow_general из тех строк таблицы df."
   ]
  },
  {
   "cell_type": "code",
   "execution_count": 29,
   "metadata": {
    "deletable": false,
    "id": "ORaVRKto_Zcu"
   },
   "outputs": [],
   "source": [
    "spb_general = df[df['city'] == 'Saint-Petersburg']"
   ]
  },
  {
   "cell_type": "markdown",
   "metadata": {},
   "source": [
    "Получение таблицы spb_general из тех строк таблицы df."
   ]
  },
  {
   "cell_type": "markdown",
   "metadata": {
    "deletable": false,
    "editable": false,
    "id": "MEJV-CX2_Zcu",
    "tags": [
     "start_task"
    ]
   },
   "source": [
    "**Задание 24**\n",
    "\n",
    "Создайте функцию `genre_weekday()` с четырьмя параметрами:\n",
    "* таблица (датафрейм) с данными,\n",
    "* день недели,\n",
    "* начальная временная метка в формате 'hh:mm', \n",
    "* последняя временная метка в формате 'hh:mm'.\n",
    "\n",
    "Функция должна вернуть информацию о топ-10 жанров тех треков, которые прослушивали в указанный день, в промежутке между двумя отметками времени."
   ]
  },
  {
   "cell_type": "code",
   "execution_count": 30,
   "metadata": {
    "deletable": false,
    "id": "laJT9BYl_Zcu"
   },
   "outputs": [],
   "source": [
    "def genre_weekday(df, day, time1, time2):    \n",
    "    genre_df = df[df['day'] == day]\n",
    "    genre_df = genre_df[genre_df['time'] < time2]\n",
    "    genre_df = genre_df[genre_df['time'] > time1]\n",
    "    genre_df_grouped = genre_df.groupby('genre')['genre'].count()\n",
    "    genre_df_sorted = genre_df_grouped.sort_values(ascending = False)\n",
    "    return genre_df_sorted[:10]"
   ]
  },
  {
   "cell_type": "markdown",
   "metadata": {
    "deletable": false,
    "editable": false,
    "id": "la2s2_PF_Zcu",
    "tags": [
     "start_task"
    ]
   },
   "source": [
    "**Задание 25**\n",
    "\n",
    "\n",
    "Cравните результаты функции `genre_weekday()` для Москвы и Санкт-Петербурга в понедельник утром (с 7:00 до 11:00) и в пятницу вечером (с 17:00 до 23:00):"
   ]
  },
  {
   "cell_type": "code",
   "execution_count": 31,
   "metadata": {
    "deletable": false,
    "id": "yz7itPUQ_Zcu",
    "scrolled": false
   },
   "outputs": [
    {
     "data": {
      "text/plain": [
       "genre\n",
       "pop            781\n",
       "dance          549\n",
       "electronic     480\n",
       "rock           474\n",
       "hiphop         286\n",
       "ruspop         186\n",
       "world          181\n",
       "rusrap         175\n",
       "alternative    164\n",
       "unknown        161\n",
       "Name: genre, dtype: int64"
      ]
     },
     "execution_count": 31,
     "metadata": {},
     "output_type": "execute_result"
    }
   ],
   "source": [
    "genre_weekday(moscow_general, 'Monday', '07:00', '11:00')"
   ]
  },
  {
   "cell_type": "markdown",
   "metadata": {},
   "source": [
    "Вызов функции для утра понедельника в Москве."
   ]
  },
  {
   "cell_type": "code",
   "execution_count": 32,
   "metadata": {
    "deletable": false,
    "id": "kwUcHPdy_Zcu",
    "scrolled": false
   },
   "outputs": [
    {
     "data": {
      "text/plain": [
       "genre\n",
       "pop            218\n",
       "dance          182\n",
       "rock           162\n",
       "electronic     147\n",
       "hiphop          80\n",
       "ruspop          64\n",
       "alternative     58\n",
       "rusrap          55\n",
       "jazz            44\n",
       "classical       40\n",
       "Name: genre, dtype: int64"
      ]
     },
     "execution_count": 32,
     "metadata": {},
     "output_type": "execute_result"
    }
   ],
   "source": [
    "genre_weekday(spb_general, 'Monday', '07:00', '11:00')"
   ]
  },
  {
   "cell_type": "markdown",
   "metadata": {},
   "source": [
    "Вызов функции для утра понедельника в Петербурге."
   ]
  },
  {
   "cell_type": "code",
   "execution_count": 33,
   "metadata": {
    "deletable": false,
    "id": "EzXVRE1o_Zcu",
    "scrolled": true
   },
   "outputs": [
    {
     "data": {
      "text/plain": [
       "genre\n",
       "pop            713\n",
       "rock           517\n",
       "dance          495\n",
       "electronic     482\n",
       "hiphop         273\n",
       "world          208\n",
       "ruspop         170\n",
       "alternative    163\n",
       "classical      163\n",
       "rusrap         142\n",
       "Name: genre, dtype: int64"
      ]
     },
     "execution_count": 33,
     "metadata": {},
     "output_type": "execute_result"
    }
   ],
   "source": [
    "genre_weekday(moscow_general, 'Friday', '17:00', '23:00')"
   ]
  },
  {
   "cell_type": "markdown",
   "metadata": {},
   "source": [
    "Вызов функции для вечера пятницы в Москве."
   ]
  },
  {
   "cell_type": "code",
   "execution_count": 34,
   "metadata": {
    "deletable": false,
    "id": "JZaEKu5v_Zcu",
    "scrolled": true
   },
   "outputs": [
    {
     "data": {
      "text/plain": [
       "genre\n",
       "pop            256\n",
       "electronic     216\n",
       "rock           216\n",
       "dance          210\n",
       "hiphop          97\n",
       "alternative     63\n",
       "jazz            61\n",
       "classical       60\n",
       "rusrap          59\n",
       "world           54\n",
       "Name: genre, dtype: int64"
      ]
     },
     "execution_count": 34,
     "metadata": {},
     "output_type": "execute_result"
    }
   ],
   "source": [
    "genre_weekday(spb_general, 'Friday', '17:00', '23:00')"
   ]
  },
  {
   "cell_type": "markdown",
   "metadata": {},
   "source": [
    "Вызов функции для вечера пятницы в Петербурге."
   ]
  },
  {
   "cell_type": "markdown",
   "metadata": {
    "deletable": false,
    "editable": false,
    "id": "wrCe4MNX_Zcu"
   },
   "source": [
    "**Выводы**\n",
    "\n",
    "Если сравнить топ-10 жанров в понедельник утром, можно сделать такие выводы:\n",
    "\n",
    "1. В Москве и Петербурге слушают похожую музыку. Единственное отличие — в московский рейтинг вошёл жанр “world”, а в петербургский — джаз и классика.\n",
    "\n",
    "2. В Москве пропущенных значений оказалось так много, что значение `'unknown'` заняло десятое место среди самых популярных жанров. Значит, пропущенные значения занимают существенную долю в данных и угрожают достоверности исследования.\n",
    "\n",
    "Вечер пятницы не меняет эту картину. Некоторые жанры поднимаются немного выше, другие спускаются, но в целом топ-10 остаётся тем же самым.\n",
    "\n",
    "Таким образом, вторая гипотеза подтвердилась лишь частично:\n",
    "* Пользователи слушают похожую музыку в начале недели и в конце.\n",
    "* Разница между Москвой и Петербургом не слишком выражена. В Москве чаще слушают русскую популярную музыку, в Петербурге — джаз.\n",
    "\n",
    "Однако пропуски в данных ставят под сомнение этот результат. В Москве их так много, что рейтинг топ-10 мог бы выглядеть иначе, если бы не утерянные  данные о жанрах."
   ]
  },
  {
   "cell_type": "markdown",
   "metadata": {
    "deletable": false,
    "editable": false,
    "id": "JolODAqr_Zcu"
   },
   "source": [
    "### Жанровые предпочтения в Москве и Петербурге\n",
    "\n",
    "Гипотеза: Петербург — столица рэпа, музыку этого жанра там слушают чаще, чем в Москве.  А Москва — город контрастов, в котором, тем не менее, преобладает поп-музыка."
   ]
  },
  {
   "cell_type": "markdown",
   "metadata": {
    "deletable": false,
    "editable": false,
    "id": "DlegSvaT_Zcu",
    "tags": [
     "start_task"
    ]
   },
   "source": [
    "**Задание 26**\n",
    "\n",
    "Сгруппируйте таблицу `moscow_general` по жанру и посчитайте прослушивания треков каждого жанра методом `count()`. Затем отсортируйте результат в порядке убывания и сохраните его в таблице `moscow_genres`."
   ]
  },
  {
   "cell_type": "code",
   "execution_count": 35,
   "metadata": {
    "deletable": false,
    "id": "r19lIPke_Zcu"
   },
   "outputs": [
    {
     "name": "stdout",
     "output_type": "stream",
     "text": [
      "genre\n",
      "pop            5892\n",
      "dance          4435\n",
      "rock           3965\n",
      "electronic     3786\n",
      "hiphop         2096\n",
      "               ... \n",
      "neoklassik        1\n",
      "mood              1\n",
      "metalcore         1\n",
      "marschmusik       1\n",
      "ïîï               1\n",
      "Name: genre, Length: 267, dtype: int64\n"
     ]
    }
   ],
   "source": [
    "moscow_genres = df[df['city'] == 'Moscow'].groupby('genre')['genre'].count().sort_values(ascending = False)\n",
    "print(moscow_genres)"
   ]
  },
  {
   "cell_type": "markdown",
   "metadata": {
    "deletable": false,
    "editable": false,
    "id": "6kMuomxTiIr8",
    "tags": [
     "start_task"
    ]
   },
   "source": [
    "**Задание 27**\n",
    "\n",
    "Выведите на экран первые десять строк `moscow_genres`:"
   ]
  },
  {
   "cell_type": "code",
   "execution_count": 36,
   "metadata": {
    "deletable": false,
    "id": "WhCSooF8_Zcv",
    "scrolled": true
   },
   "outputs": [
    {
     "data": {
      "text/plain": [
       "genre\n",
       "pop            5892\n",
       "dance          4435\n",
       "rock           3965\n",
       "electronic     3786\n",
       "hiphop         2096\n",
       "classical      1616\n",
       "world          1432\n",
       "alternative    1379\n",
       "ruspop         1372\n",
       "rusrap         1161\n",
       "Name: genre, dtype: int64"
      ]
     },
     "execution_count": 36,
     "metadata": {},
     "output_type": "execute_result"
    }
   ],
   "source": [
    "moscow_genres.head(10)"
   ]
  },
  {
   "cell_type": "markdown",
   "metadata": {},
   "source": [
    "Просмотр первых 10 строк moscow_genres."
   ]
  },
  {
   "cell_type": "markdown",
   "metadata": {
    "deletable": false,
    "editable": false,
    "id": "cnPG2vnN_Zcv",
    "tags": [
     "start_task"
    ]
   },
   "source": [
    "**Задание 28**\n",
    "\n",
    "\n",
    "Теперь повторите то же и для Петербурга.\n",
    "\n",
    "Сгруппируйте таблицу `spb_general` по жанру. Посчитайте прослушивания треков каждого жанра. Результат отсортируйте в порядке убывания и сохраните в таблице `spb_genres`:\n"
   ]
  },
  {
   "cell_type": "code",
   "execution_count": 37,
   "metadata": {
    "deletable": false,
    "id": "gluLIpE7_Zcv"
   },
   "outputs": [],
   "source": [
    "spb_genres = df[df['city'] == 'Saint-Petersburg'].groupby('genre')['genre'].count().sort_values(ascending = False)\n",
    "spb_genres = spb_general.groupby('genre')['genre'].count()\n",
    "spb_genres = spb_genres.sort_values(ascending = True)"
   ]
  },
  {
   "cell_type": "markdown",
   "metadata": {
    "deletable": false,
    "editable": false,
    "id": "5Doha_ODgyQ8",
    "tags": [
     "start_task"
    ]
   },
   "source": [
    "**Задание 29**\n",
    "\n",
    "Выведите на экран первые десять строк `spb_genres`:"
   ]
  },
  {
   "cell_type": "code",
   "execution_count": 38,
   "metadata": {
    "deletable": false,
    "id": "uaGJHjVU_Zcv",
    "scrolled": true
   },
   "outputs": [
    {
     "data": {
      "text/plain": [
       "genre\n",
       "электроника    1\n",
       "folklore       1\n",
       "neoklassik     1\n",
       "native         1\n",
       "mpb            1\n",
       "mood           1\n",
       "mexican        1\n",
       "mandopop       1\n",
       "club           1\n",
       "leftfield      1\n",
       "Name: genre, dtype: int64"
      ]
     },
     "execution_count": 38,
     "metadata": {},
     "output_type": "execute_result"
    }
   ],
   "source": [
    "spb_genres.head(10)"
   ]
  },
  {
   "cell_type": "markdown",
   "metadata": {},
   "source": [
    "Просмотр первых 10 строк spb_genres."
   ]
  },
  {
   "cell_type": "markdown",
   "metadata": {
    "deletable": false,
    "editable": false,
    "id": "RY51YJYu_Zcv"
   },
   "source": [
    "**Выводы**"
   ]
  },
  {
   "cell_type": "markdown",
   "metadata": {
    "deletable": false,
    "editable": false,
    "id": "nVhnJEm__Zcv"
   },
   "source": [
    "Гипотеза частично подтвердилась:\n",
    "* Поп-музыка — самый популярный жанр в Москве, как и предполагала гипотеза. Более того, в топ-10 жанров встречается близкий жанр — русская популярная музыка.\n",
    "* Вопреки ожиданиям, рэп одинаково популярен в Москве и Петербурге. \n"
   ]
  },
  {
   "cell_type": "markdown",
   "metadata": {
    "deletable": false,
    "editable": false,
    "id": "ykKQ0N65_Zcv"
   },
   "source": [
    "## Итоги исследования"
   ]
  },
  {
   "cell_type": "markdown",
   "metadata": {
    "deletable": false,
    "editable": false,
    "id": "tjUwbHb3_Zcv"
   },
   "source": [
    "Вы проверили три гипотезы и установили:\n",
    "\n",
    "1. День недели по-разному влияет на активность пользователей в Москве и Петербурге. \n",
    "\n",
    "Первая гипотеза полностью подтвердилась.\n",
    "\n",
    "2. Музыкальные предпочтения не сильно меняются в течение недели — будь то Москва или Петербург. Небольшие различия заметны в начале недели, по понедельникам:\n",
    "* в Москве слушают музыку жанра “world”,\n",
    "* в Петербурге — джаз и классику.\n",
    "\n",
    "Таким образом, вторая гипотеза подтвердилась лишь отчасти. Этот результат мог оказаться иным, если бы не пропуски в данных.\n",
    "\n",
    "3. Во вкусах пользователей Москвы и Петербурга больше общего чем различий. Вопреки ожиданиям, предпочтения жанров в Петербурге напоминают московские.\n",
    "\n",
    "Третья гипотеза не подтвердилась. Если различия в предпочтениях и существуют, на основной массе пользователей они незаметны.\n",
    "\n",
    "**На практике исследования содержат проверки статистических гипотез.**\n",
    "Из данных одного сервиса не всегда можно сделать вывод о всех жителях города.\n",
    "Проверки статистических гипотез покажут, насколько они достоверны, исходя из имеющихся данных. \n",
    "С методами проверок гипотез вы ещё познакомитесь в следующих темах."
   ]
  }
 ],
 "metadata": {
  "ExecuteTimeLog": [
   {
    "duration": 364,
    "start_time": "2022-09-02T04:14:37.865Z"
   },
   {
    "duration": 65,
    "start_time": "2022-09-02T04:15:20.281Z"
   },
   {
    "duration": 220,
    "start_time": "2022-09-02T04:16:30.522Z"
   },
   {
    "duration": 8,
    "start_time": "2022-09-02T04:16:59.905Z"
   },
   {
    "duration": 8,
    "start_time": "2022-09-02T04:17:20.569Z"
   },
   {
    "duration": 6,
    "start_time": "2022-09-02T04:17:32.714Z"
   },
   {
    "duration": 31,
    "start_time": "2022-09-02T04:17:51.866Z"
   },
   {
    "duration": 45,
    "start_time": "2022-09-02T04:20:05.002Z"
   },
   {
    "duration": 55,
    "start_time": "2022-09-02T04:20:26.730Z"
   },
   {
    "duration": 2,
    "start_time": "2022-09-02T04:20:39.428Z"
   },
   {
    "duration": 64,
    "start_time": "2022-09-02T04:20:47.650Z"
   },
   {
    "duration": 51,
    "start_time": "2022-09-02T04:21:04.115Z"
   },
   {
    "duration": 2,
    "start_time": "2022-09-02T04:21:12.717Z"
   },
   {
    "duration": 60,
    "start_time": "2022-09-02T04:22:00.965Z"
   },
   {
    "duration": 8,
    "start_time": "2022-09-02T04:22:18.092Z"
   },
   {
    "duration": 4,
    "start_time": "2022-09-02T04:22:35.243Z"
   },
   {
    "duration": 3,
    "start_time": "2022-09-02T04:22:42.828Z"
   },
   {
    "duration": 3,
    "start_time": "2022-09-02T04:22:47.709Z"
   },
   {
    "duration": 3,
    "start_time": "2022-09-02T04:24:00.288Z"
   },
   {
    "duration": 13,
    "start_time": "2022-09-02T04:26:24.530Z"
   },
   {
    "duration": 3,
    "start_time": "2022-09-02T04:26:33.569Z"
   },
   {
    "duration": 22,
    "start_time": "2022-09-02T04:29:37.577Z"
   },
   {
    "duration": 52,
    "start_time": "2022-09-02T04:37:53.349Z"
   },
   {
    "duration": 129,
    "start_time": "2022-09-02T04:38:01.013Z"
   },
   {
    "duration": 7,
    "start_time": "2022-09-02T04:38:12.566Z"
   },
   {
    "duration": 39,
    "start_time": "2022-09-02T04:45:19.931Z"
   },
   {
    "duration": 22,
    "start_time": "2022-09-02T04:45:29.906Z"
   },
   {
    "duration": 58,
    "start_time": "2022-09-02T05:12:45.705Z"
   },
   {
    "duration": 61,
    "start_time": "2022-09-02T05:15:07.849Z"
   },
   {
    "duration": 54,
    "start_time": "2022-09-02T05:15:18.361Z"
   },
   {
    "duration": 92,
    "start_time": "2022-09-02T05:17:05.347Z"
   },
   {
    "duration": 61,
    "start_time": "2022-09-02T05:20:29.291Z"
   },
   {
    "duration": 57,
    "start_time": "2022-09-02T05:20:40.219Z"
   },
   {
    "duration": 48,
    "start_time": "2022-09-02T05:24:46.530Z"
   },
   {
    "duration": 723,
    "start_time": "2022-09-02T05:25:06.488Z"
   },
   {
    "duration": 168,
    "start_time": "2022-09-02T05:25:14.398Z"
   },
   {
    "duration": 389,
    "start_time": "2022-09-02T05:25:31.391Z"
   },
   {
    "duration": 44,
    "start_time": "2022-09-02T05:25:56.023Z"
   },
   {
    "duration": 106,
    "start_time": "2022-09-02T05:26:01.391Z"
   },
   {
    "duration": 39,
    "start_time": "2022-09-02T05:27:05.087Z"
   },
   {
    "duration": 5,
    "start_time": "2022-09-02T05:27:59.616Z"
   },
   {
    "duration": 648,
    "start_time": "2022-09-02T05:28:11.793Z"
   },
   {
    "duration": 23,
    "start_time": "2022-09-02T05:29:24.568Z"
   },
   {
    "duration": 10,
    "start_time": "2022-09-02T05:30:59.002Z"
   },
   {
    "duration": 7,
    "start_time": "2022-09-02T05:33:36.587Z"
   },
   {
    "duration": 6,
    "start_time": "2022-09-02T05:33:50.628Z"
   },
   {
    "duration": 9,
    "start_time": "2022-09-02T05:35:09.492Z"
   },
   {
    "duration": 6,
    "start_time": "2022-09-02T05:35:14.604Z"
   },
   {
    "duration": 683,
    "start_time": "2022-09-02T05:38:42.164Z"
   },
   {
    "duration": 726,
    "start_time": "2022-09-02T05:38:54.670Z"
   },
   {
    "duration": 7,
    "start_time": "2022-09-02T05:39:52.054Z"
   },
   {
    "duration": 46,
    "start_time": "2022-09-02T05:42:41.015Z"
   },
   {
    "duration": 44,
    "start_time": "2022-09-02T05:42:57.832Z"
   },
   {
    "duration": 41,
    "start_time": "2022-09-02T05:43:35.040Z"
   },
   {
    "duration": 52,
    "start_time": "2022-09-02T05:43:45.192Z"
   },
   {
    "duration": 50,
    "start_time": "2022-09-02T05:43:50.623Z"
   },
   {
    "duration": 56,
    "start_time": "2022-09-02T05:43:56.496Z"
   },
   {
    "duration": 51,
    "start_time": "2022-09-02T05:44:04.032Z"
   },
   {
    "duration": 643,
    "start_time": "2022-09-02T05:44:42.113Z"
   },
   {
    "duration": 6,
    "start_time": "2022-09-02T05:50:20.812Z"
   },
   {
    "duration": 48,
    "start_time": "2022-09-02T05:51:39.495Z"
   },
   {
    "duration": 72,
    "start_time": "2022-09-02T05:51:52.955Z"
   },
   {
    "duration": 43,
    "start_time": "2022-09-02T05:52:02.581Z"
   },
   {
    "duration": 6,
    "start_time": "2022-09-02T05:55:11.293Z"
   },
   {
    "duration": 7,
    "start_time": "2022-09-02T05:55:22.902Z"
   },
   {
    "duration": 9,
    "start_time": "2022-09-02T05:56:18.590Z"
   },
   {
    "duration": 10,
    "start_time": "2022-09-02T05:56:30.600Z"
   },
   {
    "duration": 12,
    "start_time": "2022-09-02T05:56:58.415Z"
   },
   {
    "duration": 11,
    "start_time": "2022-09-02T05:57:09.663Z"
   },
   {
    "duration": 65,
    "start_time": "2022-09-02T05:57:27.661Z"
   },
   {
    "duration": 6,
    "start_time": "2022-09-02T05:57:34.816Z"
   },
   {
    "duration": 10,
    "start_time": "2022-09-02T05:58:41.377Z"
   },
   {
    "duration": 7,
    "start_time": "2022-09-02T05:59:08.200Z"
   },
   {
    "duration": 7,
    "start_time": "2022-09-02T05:59:49.144Z"
   },
   {
    "duration": 7,
    "start_time": "2022-09-02T05:59:55.305Z"
   },
   {
    "duration": 43,
    "start_time": "2022-09-02T06:00:51.673Z"
   },
   {
    "duration": 7,
    "start_time": "2022-09-02T06:01:09.210Z"
   },
   {
    "duration": 6,
    "start_time": "2022-09-02T06:01:39.698Z"
   },
   {
    "duration": 8,
    "start_time": "2022-09-02T06:02:01.715Z"
   },
   {
    "duration": 57,
    "start_time": "2022-09-02T06:02:39.145Z"
   },
   {
    "duration": 8,
    "start_time": "2022-09-02T06:02:44.353Z"
   },
   {
    "duration": 82,
    "start_time": "2022-09-02T06:05:24.956Z"
   },
   {
    "duration": 10,
    "start_time": "2022-09-02T06:09:30.477Z"
   },
   {
    "duration": 16,
    "start_time": "2022-09-02T06:09:39.269Z"
   },
   {
    "duration": 36,
    "start_time": "2022-09-02T06:11:21.270Z"
   },
   {
    "duration": 783,
    "start_time": "2022-09-02T06:11:36.934Z"
   },
   {
    "duration": 2159,
    "start_time": "2022-09-02T06:11:48.318Z"
   },
   {
    "duration": 1345,
    "start_time": "2022-09-02T06:12:04.158Z"
   },
   {
    "duration": 52,
    "start_time": "2022-09-02T06:12:14.304Z"
   },
   {
    "duration": 26,
    "start_time": "2022-09-02T06:13:05.559Z"
   },
   {
    "duration": 29,
    "start_time": "2022-09-02T06:13:31.550Z"
   },
   {
    "duration": 47,
    "start_time": "2022-09-02T06:28:56.472Z"
   },
   {
    "duration": 54,
    "start_time": "2022-09-02T06:30:21.536Z"
   },
   {
    "duration": 87,
    "start_time": "2022-09-02T06:30:31.792Z"
   },
   {
    "duration": 59,
    "start_time": "2022-09-02T06:32:32.352Z"
   },
   {
    "duration": 4,
    "start_time": "2022-09-02T06:33:30.951Z"
   },
   {
    "duration": 7,
    "start_time": "2022-09-02T06:33:58.386Z"
   },
   {
    "duration": 7,
    "start_time": "2022-09-02T06:34:20.350Z"
   },
   {
    "duration": 7,
    "start_time": "2022-09-02T06:35:46.253Z"
   },
   {
    "duration": 2,
    "start_time": "2022-09-02T06:35:47.593Z"
   },
   {
    "duration": 6,
    "start_time": "2022-09-02T06:36:17.964Z"
   },
   {
    "duration": 50,
    "start_time": "2022-09-02T06:36:34.252Z"
   },
   {
    "duration": 9,
    "start_time": "2022-09-02T06:36:47.054Z"
   },
   {
    "duration": 10,
    "start_time": "2022-09-02T06:37:11.130Z"
   },
   {
    "duration": 6,
    "start_time": "2022-09-02T06:37:35.451Z"
   },
   {
    "duration": 3,
    "start_time": "2022-09-02T06:38:41.820Z"
   },
   {
    "duration": 16,
    "start_time": "2022-09-02T06:41:22.023Z"
   },
   {
    "duration": 23,
    "start_time": "2022-09-02T06:41:38.955Z"
   },
   {
    "duration": 14,
    "start_time": "2022-09-02T06:42:08.763Z"
   },
   {
    "duration": 21,
    "start_time": "2022-09-02T06:42:20.769Z"
   },
   {
    "duration": 14,
    "start_time": "2022-09-02T06:42:22.918Z"
   },
   {
    "duration": 17,
    "start_time": "2022-09-02T06:42:23.550Z"
   },
   {
    "duration": 7,
    "start_time": "2022-09-02T06:43:52.632Z"
   },
   {
    "duration": 52,
    "start_time": "2022-09-02T06:45:34.778Z"
   },
   {
    "duration": 44,
    "start_time": "2022-09-02T06:45:43.009Z"
   },
   {
    "duration": 4,
    "start_time": "2022-09-02T06:45:53.144Z"
   },
   {
    "duration": 4,
    "start_time": "2022-09-02T07:09:11.123Z"
   },
   {
    "duration": 45,
    "start_time": "2022-09-02T07:11:07.723Z"
   },
   {
    "duration": 48,
    "start_time": "2022-09-02T07:11:40.715Z"
   },
   {
    "duration": 45,
    "start_time": "2022-09-02T07:11:58.547Z"
   },
   {
    "duration": 5,
    "start_time": "2022-09-02T07:12:07.477Z"
   },
   {
    "duration": 8,
    "start_time": "2022-09-02T07:12:22.491Z"
   },
   {
    "duration": 6,
    "start_time": "2022-09-02T07:13:22.598Z"
   },
   {
    "duration": 6,
    "start_time": "2022-09-02T07:13:24.732Z"
   },
   {
    "duration": 4,
    "start_time": "2022-09-02T08:21:00.257Z"
   },
   {
    "duration": 618,
    "start_time": "2022-09-02T08:26:19.385Z"
   },
   {
    "duration": 637,
    "start_time": "2022-09-02T08:30:24.315Z"
   },
   {
    "duration": 6,
    "start_time": "2022-09-02T08:31:39.987Z"
   },
   {
    "duration": 3,
    "start_time": "2022-09-02T08:31:41.460Z"
   },
   {
    "duration": 6,
    "start_time": "2022-09-02T08:32:29.163Z"
   },
   {
    "duration": 4,
    "start_time": "2022-09-02T08:32:35.731Z"
   },
   {
    "duration": 834,
    "start_time": "2022-09-02T08:32:46.014Z"
   },
   {
    "duration": 7,
    "start_time": "2022-09-02T08:33:32.573Z"
   },
   {
    "duration": 4,
    "start_time": "2022-09-02T08:35:16.781Z"
   },
   {
    "duration": 1065,
    "start_time": "2022-09-02T08:35:22.350Z"
   },
   {
    "duration": 829,
    "start_time": "2022-09-02T08:35:29.532Z"
   },
   {
    "duration": 4,
    "start_time": "2022-09-02T08:42:14.466Z"
   },
   {
    "duration": 687,
    "start_time": "2022-09-02T08:42:40.513Z"
   },
   {
    "duration": 3,
    "start_time": "2022-09-02T08:43:03.384Z"
   },
   {
    "duration": 5,
    "start_time": "2022-09-02T08:44:23.985Z"
   },
   {
    "duration": 699,
    "start_time": "2022-09-02T08:44:34.233Z"
   },
   {
    "duration": 7,
    "start_time": "2022-09-02T08:46:03.810Z"
   },
   {
    "duration": 591,
    "start_time": "2022-09-02T08:49:33.212Z"
   },
   {
    "duration": 581,
    "start_time": "2022-09-02T08:49:52.693Z"
   },
   {
    "duration": 746,
    "start_time": "2022-09-02T08:50:17.355Z"
   },
   {
    "duration": 871,
    "start_time": "2022-09-02T08:54:28.759Z"
   },
   {
    "duration": 597,
    "start_time": "2022-09-02T08:56:31.568Z"
   },
   {
    "duration": 3,
    "start_time": "2022-09-02T08:58:45.825Z"
   },
   {
    "duration": 3,
    "start_time": "2022-09-02T08:59:27.764Z"
   },
   {
    "duration": 3,
    "start_time": "2022-09-02T09:00:28.546Z"
   },
   {
    "duration": 1178,
    "start_time": "2022-09-02T09:02:14.026Z"
   },
   {
    "duration": 418,
    "start_time": "2022-09-02T09:02:55.772Z"
   },
   {
    "duration": 176,
    "start_time": "2022-09-02T09:02:56.192Z"
   },
   {
    "duration": 8,
    "start_time": "2022-09-02T09:02:56.370Z"
   },
   {
    "duration": 81,
    "start_time": "2022-09-02T09:02:56.380Z"
   },
   {
    "duration": 48,
    "start_time": "2022-09-02T09:02:56.463Z"
   },
   {
    "duration": 23,
    "start_time": "2022-09-02T09:02:56.513Z"
   },
   {
    "duration": 49,
    "start_time": "2022-09-02T09:02:56.538Z"
   },
   {
    "duration": 57,
    "start_time": "2022-09-02T09:02:56.588Z"
   },
   {
    "duration": 61,
    "start_time": "2022-09-02T09:02:56.647Z"
   },
   {
    "duration": 54,
    "start_time": "2022-09-02T09:02:56.711Z"
   },
   {
    "duration": 27,
    "start_time": "2022-09-02T09:02:56.766Z"
   },
   {
    "duration": 115,
    "start_time": "2022-09-02T09:02:56.794Z"
   },
   {
    "duration": 64,
    "start_time": "2022-09-02T09:02:56.911Z"
   },
   {
    "duration": 64,
    "start_time": "2022-09-02T09:02:56.977Z"
   },
   {
    "duration": 8,
    "start_time": "2022-09-02T09:02:57.043Z"
   },
   {
    "duration": 38,
    "start_time": "2022-09-02T09:02:57.052Z"
   },
   {
    "duration": 14,
    "start_time": "2022-09-02T09:02:57.091Z"
   },
   {
    "duration": 19,
    "start_time": "2022-09-02T09:02:57.106Z"
   },
   {
    "duration": 53,
    "start_time": "2022-09-02T09:02:57.126Z"
   },
   {
    "duration": 6,
    "start_time": "2022-09-02T09:02:57.180Z"
   },
   {
    "duration": 88,
    "start_time": "2022-09-02T09:02:57.187Z"
   },
   {
    "duration": 0,
    "start_time": "2022-09-02T09:02:57.276Z"
   },
   {
    "duration": 0,
    "start_time": "2022-09-02T09:02:57.277Z"
   },
   {
    "duration": 0,
    "start_time": "2022-09-02T09:02:57.278Z"
   },
   {
    "duration": 0,
    "start_time": "2022-09-02T09:02:57.279Z"
   },
   {
    "duration": 0,
    "start_time": "2022-09-02T09:02:57.280Z"
   },
   {
    "duration": 0,
    "start_time": "2022-09-02T09:02:57.281Z"
   },
   {
    "duration": 0,
    "start_time": "2022-09-02T09:02:57.282Z"
   },
   {
    "duration": 0,
    "start_time": "2022-09-02T09:02:57.283Z"
   },
   {
    "duration": 0,
    "start_time": "2022-09-02T09:02:57.284Z"
   },
   {
    "duration": 0,
    "start_time": "2022-09-02T09:02:57.285Z"
   },
   {
    "duration": 0,
    "start_time": "2022-09-02T09:02:57.286Z"
   },
   {
    "duration": 0,
    "start_time": "2022-09-02T09:02:57.286Z"
   },
   {
    "duration": 0,
    "start_time": "2022-09-02T09:02:57.288Z"
   },
   {
    "duration": 0,
    "start_time": "2022-09-02T09:02:57.289Z"
   },
   {
    "duration": 0,
    "start_time": "2022-09-02T09:02:57.290Z"
   },
   {
    "duration": 0,
    "start_time": "2022-09-02T09:02:57.291Z"
   },
   {
    "duration": 0,
    "start_time": "2022-09-02T09:02:57.291Z"
   },
   {
    "duration": 6,
    "start_time": "2022-09-02T09:03:05.924Z"
   },
   {
    "duration": 3,
    "start_time": "2022-09-02T09:03:16.360Z"
   },
   {
    "duration": 4,
    "start_time": "2022-09-02T09:03:27.457Z"
   },
   {
    "duration": 3,
    "start_time": "2022-09-02T09:03:30.175Z"
   },
   {
    "duration": 3,
    "start_time": "2022-09-02T09:03:49.359Z"
   },
   {
    "duration": 4,
    "start_time": "2022-09-02T09:03:50.421Z"
   },
   {
    "duration": 491,
    "start_time": "2022-09-02T09:05:03.682Z"
   },
   {
    "duration": 1454,
    "start_time": "2022-09-02T09:05:16.242Z"
   },
   {
    "duration": 56,
    "start_time": "2022-09-02T09:06:54.770Z"
   },
   {
    "duration": 8,
    "start_time": "2022-09-02T09:07:48.775Z"
   },
   {
    "duration": 6,
    "start_time": "2022-09-02T09:08:47.698Z"
   },
   {
    "duration": 3,
    "start_time": "2022-09-02T09:08:56.828Z"
   },
   {
    "duration": 7,
    "start_time": "2022-09-02T09:08:59.658Z"
   },
   {
    "duration": 7,
    "start_time": "2022-09-02T09:09:07.112Z"
   },
   {
    "duration": 10,
    "start_time": "2022-09-02T09:10:02.875Z"
   },
   {
    "duration": 7,
    "start_time": "2022-09-02T09:10:04.730Z"
   },
   {
    "duration": 12,
    "start_time": "2022-09-02T09:10:09.609Z"
   },
   {
    "duration": 28,
    "start_time": "2022-09-02T09:10:12.420Z"
   },
   {
    "duration": 26,
    "start_time": "2022-09-02T09:10:33.140Z"
   },
   {
    "duration": 3,
    "start_time": "2022-09-02T09:10:44.559Z"
   },
   {
    "duration": 7,
    "start_time": "2022-09-02T09:11:15.915Z"
   },
   {
    "duration": 7,
    "start_time": "2022-09-02T09:11:27.302Z"
   },
   {
    "duration": 4,
    "start_time": "2022-09-02T09:13:47.344Z"
   },
   {
    "duration": 3,
    "start_time": "2022-09-02T09:14:12.030Z"
   },
   {
    "duration": 7,
    "start_time": "2022-09-02T09:14:17.725Z"
   },
   {
    "duration": 9,
    "start_time": "2022-09-02T09:14:18.901Z"
   },
   {
    "duration": 18,
    "start_time": "2022-09-02T09:14:40.557Z"
   },
   {
    "duration": 15,
    "start_time": "2022-09-02T09:14:53.526Z"
   },
   {
    "duration": 13,
    "start_time": "2022-09-02T09:14:55.694Z"
   },
   {
    "duration": 13,
    "start_time": "2022-09-02T09:14:57.478Z"
   },
   {
    "duration": 16,
    "start_time": "2022-09-02T09:14:58.894Z"
   },
   {
    "duration": 12,
    "start_time": "2022-09-02T09:15:00.672Z"
   },
   {
    "duration": 15,
    "start_time": "2022-09-02T09:15:02.662Z"
   },
   {
    "duration": 15,
    "start_time": "2022-09-02T09:15:04.373Z"
   },
   {
    "duration": 4,
    "start_time": "2022-09-02T09:15:53.775Z"
   },
   {
    "duration": 10,
    "start_time": "2022-09-02T09:15:58.949Z"
   },
   {
    "duration": 6,
    "start_time": "2022-09-02T09:15:59.950Z"
   },
   {
    "duration": 4,
    "start_time": "2022-09-02T09:16:04.159Z"
   },
   {
    "duration": 635,
    "start_time": "2022-09-02T09:16:06.401Z"
   },
   {
    "duration": 1220,
    "start_time": "2022-09-02T09:17:12.102Z"
   },
   {
    "duration": 706,
    "start_time": "2022-09-02T09:18:43.520Z"
   },
   {
    "duration": 3,
    "start_time": "2022-09-02T09:20:10.242Z"
   },
   {
    "duration": 997,
    "start_time": "2022-09-02T09:20:27.889Z"
   },
   {
    "duration": 681,
    "start_time": "2022-09-02T09:21:04.825Z"
   },
   {
    "duration": 4,
    "start_time": "2022-09-02T09:23:35.333Z"
   },
   {
    "duration": 758,
    "start_time": "2022-09-02T09:23:38.077Z"
   },
   {
    "duration": 616,
    "start_time": "2022-09-02T09:23:53.476Z"
   },
   {
    "duration": 1319,
    "start_time": "2022-09-02T09:24:01.428Z"
   },
   {
    "duration": 4449,
    "start_time": "2022-09-02T09:24:43.053Z"
   },
   {
    "duration": 0,
    "start_time": "2022-09-02T09:24:47.504Z"
   },
   {
    "duration": 5089,
    "start_time": "2022-09-02T09:24:54.293Z"
   },
   {
    "duration": 701,
    "start_time": "2022-09-02T09:28:25.533Z"
   },
   {
    "duration": 820,
    "start_time": "2022-09-02T09:28:41.279Z"
   },
   {
    "duration": 1064,
    "start_time": "2022-09-02T09:28:54.757Z"
   },
   {
    "duration": 2154,
    "start_time": "2022-09-02T09:29:05.518Z"
   },
   {
    "duration": 4,
    "start_time": "2022-09-02T09:31:03.726Z"
   },
   {
    "duration": 707,
    "start_time": "2022-09-02T09:31:06.376Z"
   },
   {
    "duration": 569,
    "start_time": "2022-09-02T09:38:54.787Z"
   },
   {
    "duration": 4,
    "start_time": "2022-09-02T09:39:08.948Z"
   },
   {
    "duration": 6960,
    "start_time": "2022-09-02T09:39:10.836Z"
   },
   {
    "duration": 0,
    "start_time": "2022-09-02T09:39:17.798Z"
   },
   {
    "duration": 0,
    "start_time": "2022-09-02T09:39:17.799Z"
   },
   {
    "duration": 0,
    "start_time": "2022-09-02T09:39:17.800Z"
   },
   {
    "duration": 6,
    "start_time": "2022-09-02T09:39:32.189Z"
   },
   {
    "duration": 5,
    "start_time": "2022-09-02T09:39:33.620Z"
   },
   {
    "duration": 4,
    "start_time": "2022-09-02T09:41:54.318Z"
   },
   {
    "duration": 9,
    "start_time": "2022-09-02T09:41:56.357Z"
   },
   {
    "duration": 3,
    "start_time": "2022-09-02T09:42:07.373Z"
   },
   {
    "duration": 644,
    "start_time": "2022-09-02T09:42:09.159Z"
   },
   {
    "duration": 7,
    "start_time": "2022-09-02T09:45:12.560Z"
   },
   {
    "duration": 4,
    "start_time": "2022-09-02T09:45:29.934Z"
   },
   {
    "duration": 7,
    "start_time": "2022-09-02T09:45:45.982Z"
   },
   {
    "duration": 17,
    "start_time": "2022-09-02T09:52:42.404Z"
   },
   {
    "duration": 14,
    "start_time": "2022-09-02T09:53:03.899Z"
   },
   {
    "duration": 21,
    "start_time": "2022-09-02T09:53:11.531Z"
   },
   {
    "duration": 16,
    "start_time": "2022-09-02T09:53:13.187Z"
   },
   {
    "duration": 3,
    "start_time": "2022-09-02T09:53:20.124Z"
   },
   {
    "duration": 5,
    "start_time": "2022-09-02T09:54:14.188Z"
   },
   {
    "duration": 20,
    "start_time": "2022-09-02T09:54:21.851Z"
   },
   {
    "duration": 20,
    "start_time": "2022-09-02T09:54:38.715Z"
   },
   {
    "duration": 3,
    "start_time": "2022-09-02T09:56:25.693Z"
   },
   {
    "duration": 17,
    "start_time": "2022-09-02T09:56:27.108Z"
   },
   {
    "duration": 12,
    "start_time": "2022-09-02T09:56:45.917Z"
   },
   {
    "duration": 26,
    "start_time": "2022-09-02T09:56:48.946Z"
   },
   {
    "duration": 12,
    "start_time": "2022-09-02T09:56:51.924Z"
   },
   {
    "duration": 60,
    "start_time": "2022-09-02T10:00:56.193Z"
   },
   {
    "duration": 7,
    "start_time": "2022-09-02T10:01:04.487Z"
   },
   {
    "duration": 11,
    "start_time": "2022-09-02T10:02:57.652Z"
   },
   {
    "duration": 9,
    "start_time": "2022-09-02T10:03:10.665Z"
   },
   {
    "duration": 8,
    "start_time": "2022-09-02T10:03:33.242Z"
   },
   {
    "duration": 8,
    "start_time": "2022-09-02T10:04:32.979Z"
   },
   {
    "duration": 8,
    "start_time": "2022-09-02T10:05:30.540Z"
   },
   {
    "duration": 3,
    "start_time": "2022-09-02T10:05:33.001Z"
   },
   {
    "duration": 8,
    "start_time": "2022-09-02T10:05:44.115Z"
   },
   {
    "duration": 2,
    "start_time": "2022-09-02T10:05:47.291Z"
   },
   {
    "duration": 9,
    "start_time": "2022-09-02T10:05:55.537Z"
   },
   {
    "duration": 8,
    "start_time": "2022-09-02T10:06:10.236Z"
   },
   {
    "duration": 8,
    "start_time": "2022-09-02T10:07:02.676Z"
   },
   {
    "duration": 9,
    "start_time": "2022-09-02T10:07:55.979Z"
   },
   {
    "duration": 6,
    "start_time": "2022-09-02T10:08:26.372Z"
   },
   {
    "duration": 7,
    "start_time": "2022-09-02T10:08:30.564Z"
   },
   {
    "duration": 12,
    "start_time": "2022-09-02T10:08:36.846Z"
   },
   {
    "duration": 5,
    "start_time": "2022-09-02T10:08:48.180Z"
   },
   {
    "duration": 7,
    "start_time": "2022-09-02T10:09:15.174Z"
   },
   {
    "duration": 8,
    "start_time": "2022-09-02T10:09:24.204Z"
   },
   {
    "duration": 8,
    "start_time": "2022-09-02T10:09:40.229Z"
   },
   {
    "duration": 8,
    "start_time": "2022-09-02T10:11:37.006Z"
   },
   {
    "duration": 10,
    "start_time": "2022-09-02T10:12:00.829Z"
   },
   {
    "duration": 8,
    "start_time": "2022-09-02T10:12:32.138Z"
   },
   {
    "duration": 9,
    "start_time": "2022-09-02T10:12:46.011Z"
   },
   {
    "duration": 8,
    "start_time": "2022-09-02T10:12:53.274Z"
   },
   {
    "duration": 10,
    "start_time": "2022-09-02T10:20:36.397Z"
   },
   {
    "duration": 7,
    "start_time": "2022-09-02T10:22:22.304Z"
   },
   {
    "duration": 8,
    "start_time": "2022-09-02T10:22:28.686Z"
   },
   {
    "duration": 3,
    "start_time": "2022-09-02T10:22:31.728Z"
   },
   {
    "duration": 4,
    "start_time": "2022-09-02T10:22:45.360Z"
   },
   {
    "duration": 9,
    "start_time": "2022-09-02T10:22:54.271Z"
   },
   {
    "duration": 7,
    "start_time": "2022-09-02T10:23:08.319Z"
   },
   {
    "duration": 33,
    "start_time": "2022-09-02T10:23:29.754Z"
   },
   {
    "duration": 671,
    "start_time": "2022-09-02T10:23:42.295Z"
   },
   {
    "duration": 713,
    "start_time": "2022-09-02T10:24:34.968Z"
   },
   {
    "duration": 1048,
    "start_time": "2022-09-02T10:25:10.217Z"
   },
   {
    "duration": 1204,
    "start_time": "2022-09-02T10:25:21.322Z"
   },
   {
    "duration": 679,
    "start_time": "2022-09-02T10:26:15.654Z"
   },
   {
    "duration": 1012,
    "start_time": "2022-09-02T10:28:22.321Z"
   },
   {
    "duration": 605,
    "start_time": "2022-09-02T10:28:31.714Z"
   },
   {
    "duration": 37,
    "start_time": "2022-09-02T10:28:44.995Z"
   },
   {
    "duration": 35,
    "start_time": "2022-09-02T10:28:52.795Z"
   },
   {
    "duration": 35,
    "start_time": "2022-09-02T10:29:10.698Z"
   },
   {
    "duration": 36,
    "start_time": "2022-09-02T10:29:16.930Z"
   },
   {
    "duration": 553,
    "start_time": "2022-09-02T10:29:34.340Z"
   },
   {
    "duration": 36,
    "start_time": "2022-09-02T10:31:00.188Z"
   },
   {
    "duration": 37,
    "start_time": "2022-09-02T10:31:25.293Z"
   },
   {
    "duration": 4,
    "start_time": "2022-09-02T10:33:42.781Z"
   },
   {
    "duration": 22,
    "start_time": "2022-09-02T10:33:46.789Z"
   },
   {
    "duration": 47,
    "start_time": "2022-09-02T10:34:13.958Z"
   },
   {
    "duration": 4,
    "start_time": "2022-09-02T10:34:33.285Z"
   },
   {
    "duration": 36,
    "start_time": "2022-09-02T10:35:10.902Z"
   },
   {
    "duration": 11,
    "start_time": "2022-09-02T10:36:24.903Z"
   },
   {
    "duration": 11,
    "start_time": "2022-09-02T10:37:06.895Z"
   },
   {
    "duration": 14,
    "start_time": "2022-09-02T10:37:17.359Z"
   },
   {
    "duration": 14,
    "start_time": "2022-09-02T10:38:29.807Z"
   },
   {
    "duration": 13,
    "start_time": "2022-09-02T10:38:41.480Z"
   },
   {
    "duration": 13,
    "start_time": "2022-09-02T10:38:49.520Z"
   },
   {
    "duration": 14,
    "start_time": "2022-09-02T10:39:57.128Z"
   },
   {
    "duration": 13,
    "start_time": "2022-09-02T10:40:12.882Z"
   },
   {
    "duration": 20,
    "start_time": "2022-09-02T10:40:45.745Z"
   },
   {
    "duration": 22,
    "start_time": "2022-09-02T10:42:02.483Z"
   },
   {
    "duration": 16,
    "start_time": "2022-09-02T10:42:26.038Z"
   },
   {
    "duration": 18,
    "start_time": "2022-09-02T10:42:39.219Z"
   },
   {
    "duration": 14,
    "start_time": "2022-09-02T10:42:44.438Z"
   },
   {
    "duration": 16,
    "start_time": "2022-09-02T10:42:59.394Z"
   },
   {
    "duration": 14,
    "start_time": "2022-09-02T10:43:10.788Z"
   },
   {
    "duration": 22,
    "start_time": "2022-09-02T10:44:05.068Z"
   },
   {
    "duration": 20,
    "start_time": "2022-09-02T10:44:13.491Z"
   },
   {
    "duration": 20,
    "start_time": "2022-09-02T10:45:11.356Z"
   },
   {
    "duration": 26,
    "start_time": "2022-09-02T10:45:40.629Z"
   },
   {
    "duration": 27,
    "start_time": "2022-09-02T10:45:45.964Z"
   },
   {
    "duration": 26,
    "start_time": "2022-09-02T10:46:01.325Z"
   },
   {
    "duration": 21,
    "start_time": "2022-09-02T10:46:08.166Z"
   },
   {
    "duration": 11,
    "start_time": "2022-09-02T10:47:32.653Z"
   },
   {
    "duration": 28,
    "start_time": "2022-09-02T10:47:35.205Z"
   },
   {
    "duration": 19,
    "start_time": "2022-09-02T10:47:55.750Z"
   },
   {
    "duration": 18,
    "start_time": "2022-09-02T10:48:18.111Z"
   },
   {
    "duration": 18,
    "start_time": "2022-09-02T10:48:23.950Z"
   },
   {
    "duration": 14,
    "start_time": "2022-09-02T10:49:13.711Z"
   },
   {
    "duration": 18,
    "start_time": "2022-09-02T10:49:28.198Z"
   },
   {
    "duration": 19,
    "start_time": "2022-09-02T10:50:25.647Z"
   },
   {
    "duration": 15,
    "start_time": "2022-09-02T10:50:42.904Z"
   },
   {
    "duration": 22,
    "start_time": "2022-09-02T10:50:57.232Z"
   },
   {
    "duration": 17,
    "start_time": "2022-09-02T10:51:07.240Z"
   },
   {
    "duration": 14,
    "start_time": "2022-09-02T10:51:17.831Z"
   },
   {
    "duration": 15,
    "start_time": "2022-09-02T10:51:22.104Z"
   },
   {
    "duration": 20,
    "start_time": "2022-09-02T10:51:27.120Z"
   },
   {
    "duration": 21,
    "start_time": "2022-09-02T10:51:38.248Z"
   },
   {
    "duration": 20,
    "start_time": "2022-09-02T10:51:41.167Z"
   },
   {
    "duration": 27,
    "start_time": "2022-09-02T10:51:49.000Z"
   },
   {
    "duration": 30,
    "start_time": "2022-09-02T10:52:47.960Z"
   },
   {
    "duration": 28,
    "start_time": "2022-09-02T10:53:07.433Z"
   },
   {
    "duration": 31,
    "start_time": "2022-09-02T10:53:29.737Z"
   },
   {
    "duration": 33,
    "start_time": "2022-09-02T10:58:28.659Z"
   },
   {
    "duration": 31,
    "start_time": "2022-09-02T10:58:39.244Z"
   },
   {
    "duration": 20,
    "start_time": "2022-09-02T10:58:53.900Z"
   },
   {
    "duration": 20,
    "start_time": "2022-09-02T10:59:11.139Z"
   },
   {
    "duration": 16,
    "start_time": "2022-09-02T10:59:19.347Z"
   },
   {
    "duration": 18,
    "start_time": "2022-09-02T10:59:30.339Z"
   },
   {
    "duration": 15,
    "start_time": "2022-09-02T10:59:41.573Z"
   },
   {
    "duration": 19,
    "start_time": "2022-09-02T11:00:27.788Z"
   },
   {
    "duration": 58,
    "start_time": "2022-09-02T11:00:35.413Z"
   },
   {
    "duration": 26,
    "start_time": "2022-09-02T11:00:56.332Z"
   },
   {
    "duration": 21,
    "start_time": "2022-09-02T11:01:03.029Z"
   },
   {
    "duration": 31,
    "start_time": "2022-09-02T11:02:06.661Z"
   },
   {
    "duration": 19,
    "start_time": "2022-09-02T11:02:32.671Z"
   },
   {
    "duration": 26,
    "start_time": "2022-09-02T11:04:02.919Z"
   },
   {
    "duration": 28,
    "start_time": "2022-09-02T11:04:06.814Z"
   },
   {
    "duration": 3,
    "start_time": "2022-09-02T11:06:26.056Z"
   },
   {
    "duration": 8,
    "start_time": "2022-09-02T11:06:37.864Z"
   },
   {
    "duration": 7,
    "start_time": "2022-09-02T11:07:10.903Z"
   },
   {
    "duration": 4,
    "start_time": "2022-09-02T11:07:14.190Z"
   },
   {
    "duration": 8,
    "start_time": "2022-09-02T11:07:36.840Z"
   },
   {
    "duration": 4,
    "start_time": "2022-09-02T11:07:51.519Z"
   },
   {
    "duration": 4,
    "start_time": "2022-09-02T11:08:58.137Z"
   },
   {
    "duration": 4,
    "start_time": "2022-09-02T11:09:09.698Z"
   },
   {
    "duration": 8,
    "start_time": "2022-09-02T11:09:16.752Z"
   },
   {
    "duration": 3,
    "start_time": "2022-09-02T11:09:27.105Z"
   },
   {
    "duration": 14,
    "start_time": "2022-09-02T11:10:53.490Z"
   },
   {
    "duration": 10,
    "start_time": "2022-09-02T11:11:11.649Z"
   },
   {
    "duration": 11,
    "start_time": "2022-09-02T11:13:19.578Z"
   },
   {
    "duration": 9,
    "start_time": "2022-09-02T11:13:21.266Z"
   },
   {
    "duration": 12,
    "start_time": "2022-09-02T11:16:30.730Z"
   },
   {
    "duration": 54,
    "start_time": "2022-09-02T11:17:03.405Z"
   },
   {
    "duration": 8,
    "start_time": "2022-09-02T11:18:31.750Z"
   },
   {
    "duration": 9,
    "start_time": "2022-09-02T11:18:37.132Z"
   },
   {
    "duration": 13,
    "start_time": "2022-09-02T11:19:53.677Z"
   },
   {
    "duration": 8,
    "start_time": "2022-09-02T11:20:07.277Z"
   },
   {
    "duration": 8,
    "start_time": "2022-09-02T11:20:23.327Z"
   },
   {
    "duration": 8,
    "start_time": "2022-09-02T11:22:14.055Z"
   },
   {
    "duration": 8,
    "start_time": "2022-09-02T11:22:33.824Z"
   },
   {
    "duration": 10,
    "start_time": "2022-09-02T11:22:52.750Z"
   },
   {
    "duration": 14,
    "start_time": "2022-09-02T11:24:14.961Z"
   },
   {
    "duration": 9,
    "start_time": "2022-09-02T11:24:18.118Z"
   },
   {
    "duration": 11,
    "start_time": "2022-09-02T11:24:21.728Z"
   },
   {
    "duration": 14,
    "start_time": "2022-09-02T11:24:34.617Z"
   },
   {
    "duration": 160,
    "start_time": "2022-09-02T11:24:50.576Z"
   },
   {
    "duration": 45,
    "start_time": "2022-09-02T11:24:56.600Z"
   },
   {
    "duration": 52,
    "start_time": "2022-09-02T11:25:09.471Z"
   },
   {
    "duration": 54,
    "start_time": "2022-09-02T11:27:04.873Z"
   },
   {
    "duration": 10,
    "start_time": "2022-09-02T11:27:22.321Z"
   },
   {
    "duration": 10,
    "start_time": "2022-09-02T11:27:27.993Z"
   },
   {
    "duration": 65,
    "start_time": "2022-09-02T11:27:32.209Z"
   },
   {
    "duration": 57,
    "start_time": "2022-09-02T11:27:41.633Z"
   },
   {
    "duration": 58,
    "start_time": "2022-09-02T11:27:48.882Z"
   },
   {
    "duration": 53,
    "start_time": "2022-09-02T11:27:54.646Z"
   },
   {
    "duration": 55,
    "start_time": "2022-09-02T11:29:35.306Z"
   },
   {
    "duration": 45,
    "start_time": "2022-09-02T11:30:55.605Z"
   },
   {
    "duration": 60,
    "start_time": "2022-09-02T11:31:06.292Z"
   },
   {
    "duration": 16,
    "start_time": "2022-09-02T11:31:32.131Z"
   },
   {
    "duration": 10,
    "start_time": "2022-09-02T11:31:32.955Z"
   },
   {
    "duration": 4,
    "start_time": "2022-09-02T11:31:36.117Z"
   },
   {
    "duration": 18,
    "start_time": "2022-09-02T11:31:37.195Z"
   },
   {
    "duration": 44,
    "start_time": "2022-09-02T11:32:26.989Z"
   },
   {
    "duration": 9,
    "start_time": "2022-09-02T11:32:38.685Z"
   },
   {
    "duration": 7,
    "start_time": "2022-09-02T11:32:46.693Z"
   },
   {
    "duration": 8,
    "start_time": "2022-09-02T11:34:22.997Z"
   },
   {
    "duration": 7,
    "start_time": "2022-09-02T11:34:29.326Z"
   },
   {
    "duration": 6,
    "start_time": "2022-09-02T11:35:06.559Z"
   },
   {
    "duration": 7,
    "start_time": "2022-09-02T11:35:13.213Z"
   },
   {
    "duration": 7,
    "start_time": "2022-09-02T11:35:54.167Z"
   },
   {
    "duration": 7,
    "start_time": "2022-09-02T11:36:05.349Z"
   },
   {
    "duration": 8,
    "start_time": "2022-09-02T11:37:18.976Z"
   },
   {
    "duration": 8,
    "start_time": "2022-09-02T11:37:52.035Z"
   },
   {
    "duration": 10,
    "start_time": "2022-09-02T11:38:39.069Z"
   },
   {
    "duration": 7,
    "start_time": "2022-09-02T11:40:46.471Z"
   },
   {
    "duration": 8,
    "start_time": "2022-09-02T11:40:51.824Z"
   },
   {
    "duration": 8,
    "start_time": "2022-09-02T11:42:39.737Z"
   },
   {
    "duration": 7,
    "start_time": "2022-09-02T11:42:48.247Z"
   },
   {
    "duration": 8,
    "start_time": "2022-09-02T11:42:53.691Z"
   },
   {
    "duration": 8,
    "start_time": "2022-09-02T11:42:57.943Z"
   },
   {
    "duration": 6,
    "start_time": "2022-09-02T11:43:02.161Z"
   },
   {
    "duration": 7,
    "start_time": "2022-09-02T11:43:05.752Z"
   },
   {
    "duration": 10,
    "start_time": "2022-09-02T11:43:12.457Z"
   },
   {
    "duration": 7,
    "start_time": "2022-09-02T11:43:41.514Z"
   },
   {
    "duration": 8,
    "start_time": "2022-09-02T11:43:44.377Z"
   },
   {
    "duration": 7,
    "start_time": "2022-09-02T11:44:26.723Z"
   },
   {
    "duration": 7,
    "start_time": "2022-09-02T11:44:36.536Z"
   },
   {
    "duration": 7,
    "start_time": "2022-09-02T11:45:11.179Z"
   },
   {
    "duration": 9,
    "start_time": "2022-09-02T11:46:05.842Z"
   },
   {
    "duration": 7,
    "start_time": "2022-09-02T11:46:16.627Z"
   },
   {
    "duration": 7,
    "start_time": "2022-09-02T11:48:18.389Z"
   },
   {
    "duration": 10,
    "start_time": "2022-09-02T11:48:33.765Z"
   },
   {
    "duration": 18,
    "start_time": "2022-09-02T11:48:37.293Z"
   },
   {
    "duration": 19,
    "start_time": "2022-09-02T11:49:06.750Z"
   },
   {
    "duration": 18,
    "start_time": "2022-09-02T11:49:21.022Z"
   },
   {
    "duration": 4,
    "start_time": "2022-09-02T11:50:13.335Z"
   },
   {
    "duration": 17,
    "start_time": "2022-09-02T11:51:12.031Z"
   }
  ],
  "colab": {
   "collapsed_sections": [
    "E0vqbgi9ay0H",
    "VUC88oWjTJw2"
   ],
   "name": "automatization_template_upd4.ipynb",
   "provenance": []
  },
  "kernelspec": {
   "display_name": "Python 3 (ipykernel)",
   "language": "python",
   "name": "python3"
  },
  "language_info": {
   "codemirror_mode": {
    "name": "ipython",
    "version": 3
   },
   "file_extension": ".py",
   "mimetype": "text/x-python",
   "name": "python",
   "nbconvert_exporter": "python",
   "pygments_lexer": "ipython3",
   "version": "3.9.12"
  },
  "toc": {
   "base_numbering": 1,
   "nav_menu": {
    "height": "215px",
    "width": "403px"
   },
   "number_sections": true,
   "sideBar": true,
   "skip_h1_title": true,
   "title_cell": "Table of Contents",
   "title_sidebar": "Contents",
   "toc_cell": false,
   "toc_position": {
    "height": "calc(100% - 180px)",
    "left": "10px",
    "top": "150px",
    "width": "285.825px"
   },
   "toc_section_display": true,
   "toc_window_display": false
  }
 },
 "nbformat": 4,
 "nbformat_minor": 1
}
