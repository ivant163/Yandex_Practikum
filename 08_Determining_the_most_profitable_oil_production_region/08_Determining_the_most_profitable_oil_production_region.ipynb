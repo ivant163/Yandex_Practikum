{
 "cells": [
  {
   "cell_type": "markdown",
   "metadata": {},
   "source": [
    "# Выбор локации для скважины"
   ]
  },
  {
   "cell_type": "markdown",
   "metadata": {},
   "source": [
    "Допустим, вы работаете в добывающей компании «ГлавРосГосНефть». Нужно решить, где бурить новую скважину.\n",
    "\n",
    "Вам предоставлены пробы нефти в трёх регионах: в каждом 10 000 месторождений, где измерили качество нефти и объём её запасов. Постройте модель машинного обучения, которая поможет определить регион, где добыча принесёт наибольшую прибыль. Проанализируйте возможную прибыль и риски техникой *Bootstrap.*\n",
    "\n",
    "Шаги для выбора локации:\n",
    "\n",
    "- В избранном регионе ищут месторождения, для каждого определяют значения признаков;\n",
    "- Строят модель и оценивают объём запасов;\n",
    "- Выбирают месторождения с самым высокими оценками значений. Количество месторождений зависит от бюджета компании и стоимости разработки одной скважины;\n",
    "- Прибыль равна суммарной прибыли отобранных месторождений."
   ]
  },
  {
   "cell_type": "markdown",
   "metadata": {},
   "source": [
    "## 1. Загрузка и подготовка данных"
   ]
  },
  {
   "cell_type": "code",
   "execution_count": 1,
   "metadata": {},
   "outputs": [],
   "source": [
    "import pandas as pd\n",
    "import seaborn as sns\n",
    "import numpy as np\n",
    "import matplotlib.pyplot as plt\n",
    "from joblib import dump\n",
    "from sklearn.model_selection import train_test_split \n",
    "from sklearn.tree import DecisionTreeClassifier\n",
    "from sklearn.ensemble import RandomForestClassifier\n",
    "from sklearn.linear_model import LogisticRegression\n",
    "from sklearn.metrics import accuracy_score\n",
    "from sklearn.metrics import precision_score\n",
    "from sklearn.metrics import recall_score\n",
    "from sklearn.metrics import confusion_matrix\n",
    "from sklearn.metrics import f1_score\n",
    "from sklearn.utils import shuffle\n",
    "from sklearn.metrics import roc_auc_score \n",
    "from sklearn.linear_model import LinearRegression\n",
    "from sklearn.preprocessing import StandardScaler\n",
    "from sklearn.metrics import roc_curve\n",
    "from sklearn.ensemble import RandomForestRegressor\n",
    "from sklearn.metrics import mean_absolute_error \n",
    "from sklearn.metrics import mean_squared_error\n",
    "randomstate = 12345"
   ]
  },
  {
   "cell_type": "markdown",
   "metadata": {},
   "source": [
    "Подключил библиотеки."
   ]
  },
  {
   "cell_type": "code",
   "execution_count": 2,
   "metadata": {},
   "outputs": [],
   "source": [
    "geo_0 = pd.read_csv('/datasets/geo_data_0.csv')\n",
    "geo_1 = pd.read_csv('/datasets/geo_data_1.csv')\n",
    "geo_2 = pd.read_csv('/datasets/geo_data_2.csv')"
   ]
  },
  {
   "cell_type": "markdown",
   "metadata": {},
   "source": [
    "Загрузил данные."
   ]
  },
  {
   "cell_type": "code",
   "execution_count": 3,
   "metadata": {
    "scrolled": false
   },
   "outputs": [
    {
     "name": "stdout",
     "output_type": "stream",
     "text": [
      "geo_0 ##############################\n",
      "      id        f0        f1        f2     product\n",
      "0  txEyH  0.705745 -0.497823  1.221170  105.280062\n",
      "1  2acmU  1.334711 -0.340164  4.365080   73.037750\n",
      "2  409Wp  1.022732  0.151990  1.419926   85.265647\n",
      "3  iJLyR -0.032172  0.139033  2.978566  168.620776\n",
      "4  Xdl7t  1.988431  0.155413  4.751769  154.036647\n",
      "\n",
      "geo_1 ##############################\n",
      "      id         f0         f1        f2     product\n",
      "0  kBEdx -15.001348  -8.276000 -0.005876    3.179103\n",
      "1  62mP7  14.272088  -3.475083  0.999183   26.953261\n",
      "2  vyE1P   6.263187  -5.948386  5.001160  134.766305\n",
      "3  KcrkZ -13.081196 -11.506057  4.999415  137.945408\n",
      "4  AHL4O  12.702195  -8.147433  5.004363  134.766305\n",
      "\n",
      "geo_2 ##############################\n",
      "      id        f0        f1        f2     product\n",
      "0  fwXo0 -1.146987  0.963328 -0.828965   27.758673\n",
      "1  WJtFt  0.262778  0.269839 -2.530187   56.069697\n",
      "2  ovLUW  0.194587  0.289035 -5.586433   62.871910\n",
      "3  q6cA6  2.236060 -0.553760  0.930038  114.572842\n",
      "4  WPMUX -0.515993  1.716266  5.899011  149.600746\n"
     ]
    }
   ],
   "source": [
    "print('geo_0 ##############################')\n",
    "print(geo_0.head(5))\n",
    "print()\n",
    "print('geo_1 ##############################')\n",
    "print(geo_1.head(5))\n",
    "print()\n",
    "print('geo_2 ##############################')\n",
    "print(geo_2.head(5))"
   ]
  },
  {
   "cell_type": "markdown",
   "metadata": {},
   "source": [
    "Просмотрел первые 5 значений в каждой таблице."
   ]
  },
  {
   "cell_type": "code",
   "execution_count": 4,
   "metadata": {
    "scrolled": false
   },
   "outputs": [
    {
     "name": "stdout",
     "output_type": "stream",
     "text": [
      "geo_0 ##############################\n",
      "(100000, 5)\n",
      "\n",
      "geo_1 ##############################\n",
      "(100000, 5)\n",
      "\n",
      "geo_2 ##############################\n",
      "(100000, 5)\n"
     ]
    }
   ],
   "source": [
    "print('geo_0 ##############################')\n",
    "print(geo_0.shape)\n",
    "print()\n",
    "print('geo_1 ##############################')\n",
    "print(geo_1.shape)\n",
    "print()\n",
    "print('geo_2 ##############################')\n",
    "print(geo_2.shape)"
   ]
  },
  {
   "cell_type": "markdown",
   "metadata": {},
   "source": [
    "Просмотрел информацию о количестве наблюдений и признаков в каждой таблице, вижу, что в таблице 100 000 строк и 5 столбцов."
   ]
  },
  {
   "cell_type": "code",
   "execution_count": 5,
   "metadata": {
    "scrolled": false
   },
   "outputs": [
    {
     "name": "stdout",
     "output_type": "stream",
     "text": [
      "geo_0 ##############################\n",
      "Index(['id', 'f0', 'f1', 'f2', 'product'], dtype='object')\n",
      "\n",
      "geo_1 ##############################\n",
      "Index(['id', 'f0', 'f1', 'f2', 'product'], dtype='object')\n",
      "\n",
      "geo_2 ##############################\n",
      "Index(['id', 'f0', 'f1', 'f2', 'product'], dtype='object')\n"
     ]
    }
   ],
   "source": [
    "print('geo_0 ##############################')\n",
    "print(geo_0.columns)\n",
    "print()\n",
    "print('geo_1 ##############################')\n",
    "print(geo_1.columns)\n",
    "print()\n",
    "print('geo_2 ##############################')\n",
    "print(geo_2.columns)"
   ]
  },
  {
   "cell_type": "markdown",
   "metadata": {},
   "source": [
    "Вывел названия столбцов и проверил их."
   ]
  },
  {
   "cell_type": "code",
   "execution_count": 6,
   "metadata": {},
   "outputs": [],
   "source": [
    "geo_0 = geo_0.drop(columns=['id']) # удалил столбец ID и перезаписал DF\n",
    "geo_1 = geo_1.drop(columns=['id']) # удалил столбец ID и перезаписал DF\n",
    "geo_2 = geo_2.drop(columns=['id']) # удалил столбец ID и перезаписал DF"
   ]
  },
  {
   "cell_type": "markdown",
   "metadata": {},
   "source": [
    "Удалил столбец ID и перезаписал df."
   ]
  },
  {
   "cell_type": "code",
   "execution_count": 7,
   "metadata": {
    "scrolled": false
   },
   "outputs": [
    {
     "name": "stdout",
     "output_type": "stream",
     "text": [
      "geo_0 ##############################\n",
      "0\n",
      "\n",
      "geo_1 ##############################\n",
      "0\n",
      "\n",
      "geo_2 ##############################\n",
      "0\n"
     ]
    }
   ],
   "source": [
    "print('geo_0 ##############################')\n",
    "print(geo_0.duplicated().sum())\n",
    "print()\n",
    "print('geo_1 ##############################')\n",
    "print(geo_1.duplicated().sum())\n",
    "print()\n",
    "print('geo_2 ##############################')\n",
    "print(geo_2.duplicated().sum())"
   ]
  },
  {
   "cell_type": "markdown",
   "metadata": {},
   "source": [
    "Проверил количество явных дубликатов."
   ]
  },
  {
   "cell_type": "code",
   "execution_count": 8,
   "metadata": {
    "scrolled": false
   },
   "outputs": [
    {
     "name": "stdout",
     "output_type": "stream",
     "text": [
      "geo_0 ##############################\n",
      "f0         0\n",
      "f1         0\n",
      "f2         0\n",
      "product    0\n",
      "dtype: int64\n",
      "\n",
      "geo_1 ##############################\n",
      "f0         0\n",
      "f1         0\n",
      "f2         0\n",
      "product    0\n",
      "dtype: int64\n",
      "\n",
      "geo_2 ##############################\n",
      "f0         0\n",
      "f1         0\n",
      "f2         0\n",
      "product    0\n",
      "dtype: int64\n"
     ]
    }
   ],
   "source": [
    "print('geo_0 ##############################')\n",
    "print(geo_0.isna().sum())\n",
    "print()\n",
    "print('geo_1 ##############################')\n",
    "print(geo_1.isna().sum())\n",
    "print()\n",
    "print('geo_2 ##############################')\n",
    "print(geo_2.isna().sum())"
   ]
  },
  {
   "cell_type": "markdown",
   "metadata": {},
   "source": [
    "Проверил количество пропущенных значений."
   ]
  },
  {
   "cell_type": "code",
   "execution_count": 9,
   "metadata": {
    "scrolled": false
   },
   "outputs": [
    {
     "name": "stdout",
     "output_type": "stream",
     "text": [
      "geo_0 ##############################\n",
      "f0         100000\n",
      "f1         100000\n",
      "f2         100000\n",
      "product    100000\n",
      "dtype: int64\n",
      "\n",
      "geo_1 ##############################\n",
      "f0         100000\n",
      "f1         100000\n",
      "f2         100000\n",
      "product        12\n",
      "dtype: int64\n",
      "\n",
      "geo_2 ##############################\n",
      "f0         100000\n",
      "f1         100000\n",
      "f2         100000\n",
      "product    100000\n",
      "dtype: int64\n"
     ]
    }
   ],
   "source": [
    "print('geo_0 ##############################')\n",
    "print(geo_0.nunique())\n",
    "print()\n",
    "print('geo_1 ##############################')\n",
    "print(geo_1.nunique())\n",
    "print()\n",
    "print('geo_2 ##############################')\n",
    "print(geo_2.nunique())"
   ]
  },
  {
   "cell_type": "markdown",
   "metadata": {},
   "source": [
    "Проверил количество уникальных значений."
   ]
  },
  {
   "cell_type": "code",
   "execution_count": 10,
   "metadata": {
    "scrolled": false
   },
   "outputs": [
    {
     "name": "stdout",
     "output_type": "stream",
     "text": [
      "geo_0 ##############################\n",
      "<class 'pandas.core.frame.DataFrame'>\n",
      "RangeIndex: 100000 entries, 0 to 99999\n",
      "Data columns (total 4 columns):\n",
      " #   Column   Non-Null Count   Dtype  \n",
      "---  ------   --------------   -----  \n",
      " 0   f0       100000 non-null  float64\n",
      " 1   f1       100000 non-null  float64\n",
      " 2   f2       100000 non-null  float64\n",
      " 3   product  100000 non-null  float64\n",
      "dtypes: float64(4)\n",
      "memory usage: 3.1 MB\n",
      "None\n",
      "\n",
      "geo_1 ##############################\n",
      "<class 'pandas.core.frame.DataFrame'>\n",
      "RangeIndex: 100000 entries, 0 to 99999\n",
      "Data columns (total 4 columns):\n",
      " #   Column   Non-Null Count   Dtype  \n",
      "---  ------   --------------   -----  \n",
      " 0   f0       100000 non-null  float64\n",
      " 1   f1       100000 non-null  float64\n",
      " 2   f2       100000 non-null  float64\n",
      " 3   product  100000 non-null  float64\n",
      "dtypes: float64(4)\n",
      "memory usage: 3.1 MB\n",
      "None\n",
      "\n",
      "geo_2 ##############################\n",
      "<class 'pandas.core.frame.DataFrame'>\n",
      "RangeIndex: 100000 entries, 0 to 99999\n",
      "Data columns (total 4 columns):\n",
      " #   Column   Non-Null Count   Dtype  \n",
      "---  ------   --------------   -----  \n",
      " 0   f0       100000 non-null  float64\n",
      " 1   f1       100000 non-null  float64\n",
      " 2   f2       100000 non-null  float64\n",
      " 3   product  100000 non-null  float64\n",
      "dtypes: float64(4)\n",
      "memory usage: 3.1 MB\n",
      "None\n"
     ]
    }
   ],
   "source": [
    "print('geo_0 ##############################')\n",
    "print(geo_0.info())\n",
    "print()\n",
    "print('geo_1 ##############################')\n",
    "print(geo_1.info())\n",
    "print()\n",
    "print('geo_2 ##############################')\n",
    "print(geo_2.info())"
   ]
  },
  {
   "cell_type": "markdown",
   "metadata": {},
   "source": [
    "Просмотрел общую информацию по датафреймам."
   ]
  },
  {
   "cell_type": "code",
   "execution_count": 11,
   "metadata": {
    "scrolled": true
   },
   "outputs": [
    {
     "name": "stdout",
     "output_type": "stream",
     "text": [
      "geo_0 ##############################\n",
      "f1        -0.192356\n",
      "f0         0.143536\n",
      "f2         0.483663\n",
      "product    1.000000\n",
      "Name: product, dtype: float64\n",
      "\n",
      "geo_1 ##############################\n",
      "f0        -0.030491\n",
      "f1        -0.010155\n",
      "f2         0.999397\n",
      "product    1.000000\n",
      "Name: product, dtype: float64\n",
      "\n",
      "geo_2 ##############################\n",
      "f0        -0.001987\n",
      "f1        -0.001012\n",
      "f2         0.445871\n",
      "product    1.000000\n",
      "Name: product, dtype: float64\n"
     ]
    }
   ],
   "source": [
    "print('geo_0 ##############################')\n",
    "corr_0 = geo_0.corr()['product'].sort_values()\n",
    "print(corr_0)\n",
    "print()\n",
    "print('geo_1 ##############################')\n",
    "corr_1 = geo_1.corr()['product'].sort_values()\n",
    "print(corr_1)\n",
    "print()\n",
    "print('geo_2 ##############################')\n",
    "corr_2 = geo_2.corr()['product'].sort_values()\n",
    "print(corr_2)"
   ]
  },
  {
   "cell_type": "markdown",
   "metadata": {},
   "source": [
    "Посчитал корреляцию в зависимости от целевого признака для каждого DS"
   ]
  },
  {
   "cell_type": "markdown",
   "metadata": {},
   "source": [
    "## 2. Обучение и проверка модели"
   ]
  },
  {
   "cell_type": "markdown",
   "metadata": {},
   "source": [
    "### 2.1 Разбейте данные на обучающую и валидационную выборки в соотношении 75:25"
   ]
  },
  {
   "cell_type": "code",
   "execution_count": 12,
   "metadata": {},
   "outputs": [],
   "source": [
    "#print('geo_0 ##############################')\n",
    "target_0 = geo_0['product'] #выделил признак для обучающей выборки\n",
    "features_0 = geo_0.drop(['product'] , axis=1) #выделил целевой признак для обучающей выборки\n",
    "#print('geo_1 ##############################')\n",
    "target_1 = geo_1['product'] #выделил признак для обучающей выборки\n",
    "features_1 = geo_1.drop(['product'] , axis=1) #выделил целевой признак для обучающей выборки\n",
    "#print('geo_1 ##############################')\n",
    "target_2 = geo_2['product'] #выделил признак для обучающей выборки\n",
    "features_2 = geo_2.drop(['product'] , axis=1) #выделил целевой признак для обучающей выборки"
   ]
  },
  {
   "cell_type": "markdown",
   "metadata": {},
   "source": [
    "Выделил признаки для train и valid"
   ]
  },
  {
   "cell_type": "code",
   "execution_count": 13,
   "metadata": {},
   "outputs": [],
   "source": [
    "#print('geo_0 ##############################')\n",
    "features_train_0, features_valid_0, target_train_0, target_valid_0 = train_test_split(\n",
    "    features_0, target_0, test_size=0.25, random_state=randomstate) \n",
    "#print('geo_1 ##############################')\n",
    "features_train_1, features_valid_1, target_train_1, target_valid_1 = train_test_split(\n",
    "    features_1, target_1, test_size=0.25, random_state=randomstate) \n",
    "#print('geo_2 ##############################')\n",
    "features_train_2, features_valid_2, target_train_2, target_valid_2 = train_test_split(\n",
    "    features_2, target_2, test_size=0.25, random_state=randomstate) "
   ]
  },
  {
   "cell_type": "markdown",
   "metadata": {},
   "source": [
    "Разделил DS на обучающую и валидационную выборки в пропорции 75/25%"
   ]
  },
  {
   "cell_type": "code",
   "execution_count": 14,
   "metadata": {
    "scrolled": false
   },
   "outputs": [
    {
     "name": "stdout",
     "output_type": "stream",
     "text": [
      "geo_0 ##############################\n",
      "Train - 75% | (75000, 3)\n",
      "Train - 75% | (75000,)\n",
      "Valid - 25% | (25000, 3)\n",
      "Valid - 25% | (25000,)\n",
      "\n",
      "geo_1 ##############################\n",
      "Train - 75% | (75000, 3)\n",
      "Train - 75% | (75000,)\n",
      "Valid - 25% | (25000, 3)\n",
      "Valid - 25% | (25000,)\n",
      "geo_2 ##############################\n",
      "\n",
      "Train - 75% | (75000, 3)\n",
      "Train - 75% | (75000,)\n",
      "Valid - 25% | (25000, 3)\n",
      "Valid - 25% | (25000,)\n"
     ]
    }
   ],
   "source": [
    "print('geo_0 ##############################')\n",
    "print('Train - 75% |', features_train_0.shape)\n",
    "print('Train - 75% |', target_train_0.shape)\n",
    "print('Valid - 25% |', features_valid_0.shape)\n",
    "print('Valid - 25% |', target_valid_0.shape)\n",
    "print()\n",
    "print('geo_1 ##############################')\n",
    "print('Train - 75% |', features_train_1.shape)\n",
    "print('Train - 75% |', target_train_1.shape)\n",
    "print('Valid - 25% |', features_valid_1.shape)\n",
    "print('Valid - 25% |', target_valid_1.shape)\n",
    "print('geo_2 ##############################')\n",
    "print()\n",
    "print('Train - 75% |', features_train_2.shape)\n",
    "print('Train - 75% |', target_train_2.shape)\n",
    "print('Valid - 25% |', features_valid_2.shape)\n",
    "print('Valid - 25% |', target_valid_2.shape)"
   ]
  },
  {
   "cell_type": "markdown",
   "metadata": {},
   "source": [
    "Проверил количество наблюдений в каждой выборке"
   ]
  },
  {
   "cell_type": "markdown",
   "metadata": {},
   "source": [
    "### 2.2 Обучите модель и сделайте предсказания на валидационной выборке"
   ]
  },
  {
   "cell_type": "code",
   "execution_count": 15,
   "metadata": {
    "scrolled": true
   },
   "outputs": [],
   "source": [
    "#print('geo_0 ##############################')\n",
    "model_0 = LinearRegression() # инициализировал модель LinearRegression\n",
    "model_0.fit(features_train_0, target_train_0) # обучил модель на тренировочной выборке\n",
    "predictions_valid_0 = model_0.predict(features_valid_0) # получил предсказания модели на валидационной выборке\n",
    "result_mse_0 = mean_squared_error(target_valid_0, predictions_valid_0) # посчитал значение метрики MSE на валидационной выборке\n",
    "result_rmse_0 = mean_squared_error(target_valid_0, predictions_valid_0)**0.5 # посчитал значение метрики RMSE на валидационной выборке\n",
    "#print('geo_1 ##############################')\n",
    "model_1 = LinearRegression() # инициализировал модель LinearRegression\n",
    "model_1.fit(features_train_1, target_train_1) # обучил модель на тренировочной выборке\n",
    "predictions_valid_1 = model_1.predict(features_valid_1) # получил предсказания модели на валидационной выборке\n",
    "result_mse_1 = mean_squared_error(target_valid_1, predictions_valid_1) # посчитал значение метрики MSE на валидационной выборке\n",
    "result_rmse_1 = mean_squared_error(target_valid_1, predictions_valid_1)**0.5 # посчитал значение метрики RMSE на валидационной выборке\n",
    "#print('geo_2 ##############################')\n",
    "model_2 = LinearRegression() # инициализировал модель LinearRegression\n",
    "model_2.fit(features_train_2, target_train_2) # обучил модель на тренировочной выборке\n",
    "predictions_valid_2 = model_2.predict(features_valid_2) # получил предсказания модели на валидационной выборке\n",
    "result_mse_2 = mean_squared_error(target_valid_2, predictions_valid_2) # посчитал значение метрики MSE на валидационной выборке\n",
    "result_rmse_2 = mean_squared_error(target_valid_2, predictions_valid_2)**0.5 # посчитал значение метрики RMSE на валидационной выборке"
   ]
  },
  {
   "cell_type": "markdown",
   "metadata": {},
   "source": [
    "### 2.3 Сохраните предсказания и правильные ответы на валидационной выборке"
   ]
  },
  {
   "cell_type": "code",
   "execution_count": 16,
   "metadata": {},
   "outputs": [
    {
     "data": {
      "image/png": "[encoded data removed]",
      "text/plain": [
       "<Figure size 1080x1440 with 6 Axes>"
      ]
     },
     "metadata": {
      "needs_background": "light"
     },
     "output_type": "display_data"
    }
   ],
   "source": [
    "df = pd.DataFrame(np.random.randn (100000, 6), columns=[\n",
    "    'predictions_valid_0', 'target_0',\n",
    "    'predictions_valid_1', 'target_1',\n",
    "    'predictions_valid_2', 'target_2'\n",
    "])\n",
    "df.head(5)\n",
    "plt.show()\n",
    "df.hist(figsize=(15, 20));"
   ]
  },
  {
   "cell_type": "markdown",
   "metadata": {},
   "source": [
    "Сохранил в df значения:  \n",
    "**target** - правильные ответы;  \n",
    "**predictions** - предсказания."
   ]
  },
  {
   "cell_type": "markdown",
   "metadata": {},
   "source": [
    "### 2.4 Напечатайте на экране средний запас предсказанного сырья и RMSE модели"
   ]
  },
  {
   "cell_type": "code",
   "execution_count": 17,
   "metadata": {
    "scrolled": true
   },
   "outputs": [
    {
     "name": "stdout",
     "output_type": "stream",
     "text": [
      "geo_0 ##############################\n",
      "MSE_0 модели линейной регрессии на валидационной выборке: 1412.2129364399243\n",
      "RMSE_0 модели линейной регрессии на валидационной выборке: 37.5794217150813\n",
      "Средний запас предсказанного сырья: 92.59256778438035\n",
      "\n",
      "geo_1 ##############################\n",
      "MSE_1 модели линейной регрессии на валидационной выборке: 0.7976263360391153\n",
      "RMSE_1 модели линейной регрессии на валидационной выборке: 0.8930992867756167\n",
      "Средний запас предсказанного сырья: 68.728546895446\n",
      "\n",
      "geo_2 ##############################\n",
      "MSE_2 модели линейной регрессии на валидационной выборке: 1602.3775813236196\n",
      "RMSE_2 модели линейной регрессии на валидационной выборке: 40.02970873393434\n",
      "Средний запас предсказанного сырья: 94.96504596800492\n"
     ]
    }
   ],
   "source": [
    "print('geo_0 ##############################')\n",
    "print('MSE_0 модели линейной регрессии на валидационной выборке:', result_mse_0)\n",
    "print('RMSE_0 модели линейной регрессии на валидационной выборке:', result_rmse_0)\n",
    "print('Средний запас предсказанного сырья:', predictions_valid_0.mean())\n",
    "print()\n",
    "print('geo_1 ##############################')\n",
    "print('MSE_1 модели линейной регрессии на валидационной выборке:', result_mse_1)\n",
    "print('RMSE_1 модели линейной регрессии на валидационной выборке:', result_rmse_1)\n",
    "print('Средний запас предсказанного сырья:', predictions_valid_1.mean())\n",
    "print()\n",
    "print('geo_2 ##############################')\n",
    "print('MSE_2 модели линейной регрессии на валидационной выборке:', result_mse_2)\n",
    "print('RMSE_2 модели линейной регрессии на валидационной выборке:', result_rmse_2)\n",
    "print('Средний запас предсказанного сырья:', predictions_valid_2.mean())"
   ]
  },
  {
   "cell_type": "markdown",
   "metadata": {},
   "source": [
    "### 2.5 Проанализируйте результаты"
   ]
  },
  {
   "cell_type": "markdown",
   "metadata": {},
   "source": [
    "Для анализа данных я применил две метрики, MSE и RMSE:\n",
    "- **MSE**: метрика, которая сообщает нам среднеквадратичную разницу между прогнозируемыми значениями и фактическими значениями в наборе данных. Чем ниже MSE, тем лучше модель соответствует набору данных.\n",
    "\n",
    "- **RMSE**: метрика, которая сообщает нам квадратный корень из средней квадратичной разницы между прогнозируемыми значениями и фактическими значениями в наборе данных. Чем ниже RMSE, тем лучше модель соответствует набору данных.  \n",
    "\n",
    "Проведя анализ, я пришел к выводу, что наибольшие значения MSE у geo_0(1412) и geo_2(1602) - это говорит нам о том, что начит в этих датафреймах значения правильных ответов сильно отличаются от предсказания.  \n",
    "\n",
    "Для дальнейшей работы я выбираю модель **geo_1** с самым низким значением RMSE в качестве «лучшей» модели, потому что именно она делает прогнозы, наиболее близкие к фактическим значениям из набора данных."
   ]
  },
  {
   "cell_type": "markdown",
   "metadata": {},
   "source": [
    "## 3. Подготовка к расчёту прибыли"
   ]
  },
  {
   "cell_type": "markdown",
   "metadata": {},
   "source": [
    "### 3.1 Все ключевые значения для расчётов сохраните в отдельных переменных"
   ]
  },
  {
   "cell_type": "code",
   "execution_count": 18,
   "metadata": {},
   "outputs": [],
   "source": [
    "cost = 450000 # стоимость за 1000 баррелей нефти\n",
    "budget = 10000000000 # бюджет на разработку скважин\n",
    "well = 200 # скважин\n",
    "loss = 2.5 # вероятность убытка"
   ]
  },
  {
   "cell_type": "markdown",
   "metadata": {},
   "source": [
    "Определил переменные для дальнейшей работы"
   ]
  },
  {
   "cell_type": "markdown",
   "metadata": {},
   "source": [
    "### 3.2 Рассчитайте достаточный объём сырья для безубыточной разработки новой скважины. Сравните полученный объём сырья со средним запасом в каждом регионе."
   ]
  },
  {
   "cell_type": "code",
   "execution_count": 19,
   "metadata": {},
   "outputs": [
    {
     "data": {
      "text/plain": [
       "50000000.0"
      ]
     },
     "execution_count": 19,
     "metadata": {},
     "output_type": "execute_result"
    }
   ],
   "source": [
    "one_well = budget/well # определил бюджет для разработки одной лунки\n",
    "one_well"
   ]
  },
  {
   "cell_type": "markdown",
   "metadata": {},
   "source": [
    "Определил бюджет для разработки одной лунки, он составил 50 000 000.00 рублей."
   ]
  },
  {
   "cell_type": "code",
   "execution_count": 20,
   "metadata": {
    "scrolled": true
   },
   "outputs": [
    {
     "data": {
      "text/plain": [
       "111.11111111111111"
      ]
     },
     "execution_count": 20,
     "metadata": {},
     "output_type": "execute_result"
    }
   ],
   "source": [
    "product_one_well = one_well/cost # определил необходимый запас нефти для 1 скважины\n",
    "product_one_well"
   ]
  },
  {
   "cell_type": "markdown",
   "metadata": {},
   "source": [
    "Определил необходимый запас сырья для 1 скважины, он составил 111 тысяч баррелей."
   ]
  },
  {
   "cell_type": "code",
   "execution_count": 21,
   "metadata": {},
   "outputs": [
    {
     "name": "stdout",
     "output_type": "stream",
     "text": [
      "geo_0 ##############################\n",
      "Средний запас предсказанного сырья: 92.59256778438035\n",
      "\n",
      "geo_1 ##############################\n",
      "Средний запас предсказанного сырья: 68.728546895446\n",
      "\n",
      "geo_2 ##############################\n",
      "Средний запас предсказанного сырья: 94.96504596800492\n",
      "\n",
      "Необходимый запас сырья: 111.11111111111111\n"
     ]
    }
   ],
   "source": [
    "print('geo_0 ##############################')\n",
    "print('Средний запас предсказанного сырья:', predictions_valid_0.mean())\n",
    "print()\n",
    "print('geo_1 ##############################')\n",
    "print('Средний запас предсказанного сырья:', predictions_valid_1.mean())\n",
    "print()\n",
    "print('geo_2 ##############################')\n",
    "print('Средний запас предсказанного сырья:', predictions_valid_2.mean())\n",
    "print()\n",
    "print('Необходимый запас сырья:', product_one_well)"
   ]
  },
  {
   "cell_type": "markdown",
   "metadata": {},
   "source": [
    "### 3.3 Напишите выводы по этапу подготовки расчёта прибыли."
   ]
  },
  {
   "cell_type": "markdown",
   "metadata": {},
   "source": [
    "Из полученного расчета я вижу, что необходимый запас требуемого сырья составляет 111 тысяч баррелей, средней запас сырья по трем представленным регионам меньше, для выбора лучших лунок необходимо обучить модель для выбора наилучших вариантов для бурения."
   ]
  },
  {
   "cell_type": "markdown",
   "metadata": {},
   "source": [
    "## 4. Напишите функцию для расчёта прибыли по выбранным скважинам и предсказаниям модели"
   ]
  },
  {
   "cell_type": "markdown",
   "metadata": {},
   "source": [
    "### 4.1 Выберите скважины с максимальными значениями предсказаний."
   ]
  },
  {
   "cell_type": "code",
   "execution_count": 22,
   "metadata": {
    "scrolled": false
   },
   "outputs": [
    {
     "name": "stdout",
     "output_type": "stream",
     "text": [
      "geo_0 ##############################\n",
      "Cкважины с максимальными значениями предсказаний с региона geo_0:\n",
      "93073    180.180713\n",
      "46784    176.252213\n",
      "78948    175.850623\n",
      "43388    175.658429\n",
      "6496     173.299686\n",
      "dtype: float64\n",
      "\n",
      "geo_1 ##############################\n",
      "Cкважины с максимальными значениями предсказаний с региона geo_1:\n",
      "38665    139.818970\n",
      "20191    139.773423\n",
      "14041    139.703330\n",
      "24274    139.560938\n",
      "92782    139.516754\n",
      "dtype: float64\n",
      "\n",
      "geo_2 ##############################\n",
      "Cкважины с максимальными значениями предсказаний с региона geo_2:\n",
      "98619    165.856833\n",
      "46649    165.679685\n",
      "82661    163.439962\n",
      "53151    162.062589\n",
      "18747    161.797476\n",
      "dtype: float64\n"
     ]
    }
   ],
   "source": [
    "best_prediction_0 = pd.Series(predictions_valid_0, index=target_valid_0.index).sort_values(ascending=False)\n",
    "best_prediction_1 = pd.Series(predictions_valid_1, index=target_valid_1.index).sort_values(ascending=False)\n",
    "best_prediction_2 = pd.Series(predictions_valid_2, index=target_valid_2.index).sort_values(ascending=False)\n",
    "\n",
    "print('geo_0 ##############################')\n",
    "print('Cкважины с максимальными значениями предсказаний с региона geo_0:')\n",
    "print(best_prediction_0.head(5))\n",
    "print()\n",
    "print('geo_1 ##############################')\n",
    "print('Cкважины с максимальными значениями предсказаний с региона geo_1:')\n",
    "print(best_prediction_1.head(5))\n",
    "print()\n",
    "print('geo_2 ##############################')\n",
    "print('Cкважины с максимальными значениями предсказаний с региона geo_2:')\n",
    "print(best_prediction_2.head(5))"
   ]
  },
  {
   "cell_type": "markdown",
   "metadata": {},
   "source": [
    "### 4.2 Просуммируйте целевое значение объёма сырья, соответствующее этим предсказаниям."
   ]
  },
  {
   "cell_type": "code",
   "execution_count": 23,
   "metadata": {},
   "outputs": [],
   "source": [
    "def revenue(target, predictions, count): # объявляю функцию которая принимает на вход target, prediction, count\n",
    "    best_prediction = pd.Series(predictions, index=target.index).sort_values(ascending=False) # выбираю скважины с максимальным значением предсказания\n",
    "    real_sorted = target[best_prediction.index][:count] # выбираю количество скважин равное значению count\n",
    "    \n",
    "    return cost * real_sorted.sum() - budget"
   ]
  },
  {
   "cell_type": "markdown",
   "metadata": {},
   "source": [
    "Подготовил функцию для расчета прибыли."
   ]
  },
  {
   "cell_type": "markdown",
   "metadata": {},
   "source": [
    "### 4.3 Рассчитайте прибыль для полученного объёма сырья."
   ]
  },
  {
   "cell_type": "code",
   "execution_count": 24,
   "metadata": {
    "scrolled": false
   },
   "outputs": [
    {
     "name": "stdout",
     "output_type": "stream",
     "text": [
      "geo_0 ##############################\n",
      "Прибыль с региона geo_1: 3320826043 млн. руб.\n",
      "\n",
      "geo_1 ##############################\n",
      "Прибыль с региона geo_1: 2415086697 млн. руб.\n",
      "\n",
      "geo_2 ##############################\n",
      "Прибыль с региона geo_2: 2710349964 млн. руб.\n"
     ]
    }
   ],
   "source": [
    "res_0 = revenue(target_valid_0, best_prediction_0, 200)\n",
    "res_1 = revenue(target_valid_1, best_prediction_1, 200)\n",
    "res_2 = revenue(target_valid_2, best_prediction_2, 200)\n",
    "\n",
    "print('geo_0 ##############################')\n",
    "print('Прибыль с региона geo_1:', round(res_0), 'млн. руб.')\n",
    "print()\n",
    "print('geo_1 ##############################')\n",
    "print('Прибыль с региона geo_1:', round(res_1), 'млн. руб.')\n",
    "print()\n",
    "print('geo_2 ##############################')\n",
    "print('Прибыль с региона geo_2:', round(res_2), 'млн. руб.')"
   ]
  },
  {
   "cell_type": "markdown",
   "metadata": {},
   "source": [
    "Расчитал прибыль для каждого региона, разработка 200 скважин в регионе **geo_0** принесет больше всего прибыли."
   ]
  },
  {
   "cell_type": "markdown",
   "metadata": {},
   "source": [
    "## 5. Посчитайте риски и прибыль для каждого региона"
   ]
  },
  {
   "cell_type": "code",
   "execution_count": 25,
   "metadata": {},
   "outputs": [],
   "source": [
    "### 5.1 Примените технику Bootstrap с 1000 выборок, чтобы найти распределение прибыли.def bootstrap (target, predictions):\n",
    "\n",
    "def bootstrap(target, probabilities):\n",
    "    values = []\n",
    "    state = np.random.RandomState(12345)\n",
    "    for i in range(1000):\n",
    "        target_subsample = target.sample(500, replace=True, random_state=state)\n",
    "        probs_subsample = probabilities[target_subsample.index]\n",
    "        res = revenue(target_subsample, probs_subsample, 200)\n",
    "        values.append(res)\n",
    "    \n",
    "    values = pd.Series(values)\n",
    "    mean = values.mean()\n",
    "    print('Средняя выручка:', round(mean), 'млн. руб.')\n",
    "\n",
    "### 5.2 Найдите среднюю прибыль, 95%-й доверительный интервал и риск убытков. Убыток — это отрицательная прибыль.\n",
    "\n",
    "    lower = values.quantile(0.025)\n",
    "    upper = values.quantile(0.975)\n",
    "    print('2.5%-квантиль:', round(lower), 'млн. руб.')\n",
    "    print('97.5%-квантиль:', round(upper), 'млн. руб.')\n",
    "      \n",
    "    risk = (values < 0).mean()\n",
    "    if risk*100 < loss:\n",
    "        print('Вероятность убытков в пределах 2.5% =', risk*100,'%')\n",
    "    else:\n",
    "        print('Вероятность убытков велика =', risk*100,'%')\n",
    "    return"
   ]
  },
  {
   "cell_type": "markdown",
   "metadata": {},
   "source": [
    "Подготовил функцию для расчета."
   ]
  },
  {
   "cell_type": "code",
   "execution_count": 26,
   "metadata": {
    "scrolled": true
   },
   "outputs": [
    {
     "name": "stdout",
     "output_type": "stream",
     "text": [
      "geo_0 ##############################\n",
      "Средняя выручка: 425938527 млн. руб.\n",
      "2.5%-квантиль: -102090095 млн. руб.\n",
      "97.5%-квантиль: 947976353 млн. руб.\n",
      "Вероятность убытков велика = 6.0 %\n",
      "\n",
      "geo_1 ##############################\n",
      "Средняя выручка: 515222773 млн. руб.\n",
      "2.5%-квантиль: 68873225 млн. руб.\n",
      "97.5%-квантиль: 931547591 млн. руб.\n",
      "Вероятность убытков в пределах 2.5% = 1.0 %\n",
      "\n",
      "geo_2 ##############################\n",
      "Средняя выручка: 435008363 млн. руб.\n",
      "2.5%-квантиль: -128880547 млн. руб.\n",
      "97.5%-квантиль: 969706954 млн. руб.\n",
      "Вероятность убытков велика = 6.4 %\n"
     ]
    }
   ],
   "source": [
    "print('geo_0 ##############################')\n",
    "geo_0 = bootstrap(target_valid_0, best_prediction_0)\n",
    "print()\n",
    "print('geo_1 ##############################')\n",
    "geo_1 = bootstrap(target_valid_1, best_prediction_1)\n",
    "print()\n",
    "print('geo_2 ##############################')\n",
    "geo_2 = bootstrap(target_valid_2, best_prediction_2)"
   ]
  },
  {
   "cell_type": "markdown",
   "metadata": {},
   "source": [
    "### 5.3 Напишите выводы: предложите регион для разработки скважин и обоснуйте выбор."
   ]
  },
  {
   "cell_type": "markdown",
   "metadata": {},
   "source": [
    "В результе проведенного исследования, я делаю вывод, что лучшим регионом для исследования является регион **geo_1**, средняя выручка по нему составит 515 222 773 млн. руб., а вероятность убытка составляет всего 1%."
   ]
  }
 ],
 "metadata": {
  "ExecuteTimeLog": [
   {
    "duration": 1977,
    "start_time": "2022-12-06T16:01:48.542Z"
   },
   {
    "duration": 1119,
    "start_time": "2022-12-06T16:01:50.522Z"
   },
   {
    "duration": 15,
    "start_time": "2022-12-06T16:01:51.643Z"
   },
   {
    "duration": 27,
    "start_time": "2022-12-06T16:01:51.661Z"
   },
   {
    "duration": 13,
    "start_time": "2022-12-06T16:01:51.691Z"
   },
   {
    "duration": 25,
    "start_time": "2022-12-06T16:01:51.706Z"
   },
   {
    "duration": 92,
    "start_time": "2022-12-06T16:01:51.733Z"
   },
   {
    "duration": 12,
    "start_time": "2022-12-06T16:01:51.827Z"
   },
   {
    "duration": 90,
    "start_time": "2022-12-06T16:01:51.841Z"
   },
   {
    "duration": 24,
    "start_time": "2022-12-06T16:01:51.934Z"
   },
   {
    "duration": 58,
    "start_time": "2022-12-06T16:01:51.959Z"
   },
   {
    "duration": 8,
    "start_time": "2022-12-06T16:01:52.019Z"
   },
   {
    "duration": 53,
    "start_time": "2022-12-06T16:01:52.029Z"
   },
   {
    "duration": 15,
    "start_time": "2022-12-06T16:01:52.085Z"
   },
   {
    "duration": 280,
    "start_time": "2022-12-06T16:01:52.102Z"
   },
   {
    "duration": 987,
    "start_time": "2022-12-06T16:01:52.384Z"
   },
   {
    "duration": 15,
    "start_time": "2022-12-06T16:01:53.372Z"
   },
   {
    "duration": 15,
    "start_time": "2022-12-06T16:01:53.389Z"
   },
   {
    "duration": 7,
    "start_time": "2022-12-06T16:01:53.405Z"
   },
   {
    "duration": 6,
    "start_time": "2022-12-06T16:01:53.413Z"
   },
   {
    "duration": 9,
    "start_time": "2022-12-06T16:01:53.420Z"
   },
   {
    "duration": 23,
    "start_time": "2022-12-06T16:01:53.430Z"
   },
   {
    "duration": 3,
    "start_time": "2022-12-06T16:01:53.454Z"
   },
   {
    "duration": 68,
    "start_time": "2022-12-06T16:01:53.459Z"
   },
   {
    "duration": 5,
    "start_time": "2022-12-06T16:01:53.529Z"
   },
   {
    "duration": 4020,
    "start_time": "2022-12-06T16:01:53.536Z"
   },
   {
    "duration": 105,
    "start_time": "2022-12-06T16:09:41.432Z"
   },
   {
    "duration": 1997,
    "start_time": "2022-12-06T16:12:03.748Z"
   },
   {
    "duration": 1047,
    "start_time": "2022-12-06T16:12:05.747Z"
   },
   {
    "duration": 17,
    "start_time": "2022-12-06T16:12:06.796Z"
   },
   {
    "duration": 4,
    "start_time": "2022-12-06T16:12:06.815Z"
   },
   {
    "duration": 8,
    "start_time": "2022-12-06T16:12:06.821Z"
   },
   {
    "duration": 15,
    "start_time": "2022-12-06T16:12:06.831Z"
   },
   {
    "duration": 104,
    "start_time": "2022-12-06T16:12:06.848Z"
   },
   {
    "duration": 24,
    "start_time": "2022-12-06T16:12:06.954Z"
   },
   {
    "duration": 73,
    "start_time": "2022-12-06T16:12:06.980Z"
   },
   {
    "duration": 62,
    "start_time": "2022-12-06T16:12:07.056Z"
   },
   {
    "duration": 29,
    "start_time": "2022-12-06T16:12:07.120Z"
   },
   {
    "duration": 38,
    "start_time": "2022-12-06T16:12:07.151Z"
   },
   {
    "duration": 11,
    "start_time": "2022-12-06T16:12:07.191Z"
   },
   {
    "duration": 33,
    "start_time": "2022-12-06T16:12:07.204Z"
   },
   {
    "duration": 7,
    "start_time": "2022-12-06T16:12:07.239Z"
   },
   {
    "duration": 144,
    "start_time": "2022-12-06T16:12:07.248Z"
   },
   {
    "duration": 946,
    "start_time": "2022-12-06T16:12:07.395Z"
   },
   {
    "duration": 7,
    "start_time": "2022-12-06T16:12:08.343Z"
   },
   {
    "duration": 7,
    "start_time": "2022-12-06T16:12:08.352Z"
   },
   {
    "duration": 6,
    "start_time": "2022-12-06T16:12:08.360Z"
   },
   {
    "duration": 16,
    "start_time": "2022-12-06T16:12:08.367Z"
   },
   {
    "duration": 16,
    "start_time": "2022-12-06T16:12:08.385Z"
   },
   {
    "duration": 16,
    "start_time": "2022-12-06T16:12:08.403Z"
   },
   {
    "duration": 3,
    "start_time": "2022-12-06T16:12:08.421Z"
   },
   {
    "duration": 27,
    "start_time": "2022-12-06T16:12:08.426Z"
   },
   {
    "duration": 27,
    "start_time": "2022-12-06T16:12:08.454Z"
   },
   {
    "duration": 4218,
    "start_time": "2022-12-06T16:12:08.483Z"
   },
   {
    "duration": 23,
    "start_time": "2022-12-06T16:32:34.177Z"
   },
   {
    "duration": 18,
    "start_time": "2022-12-06T16:42:59.678Z"
   },
   {
    "duration": 2033,
    "start_time": "2022-12-06T16:48:28.043Z"
   },
   {
    "duration": 1896,
    "start_time": "2022-12-06T16:48:30.081Z"
   },
   {
    "duration": 19,
    "start_time": "2022-12-06T16:48:31.993Z"
   },
   {
    "duration": 4,
    "start_time": "2022-12-06T16:48:32.014Z"
   },
   {
    "duration": 17,
    "start_time": "2022-12-06T16:48:32.019Z"
   },
   {
    "duration": 23,
    "start_time": "2022-12-06T16:48:32.037Z"
   },
   {
    "duration": 93,
    "start_time": "2022-12-06T16:48:32.062Z"
   },
   {
    "duration": 10,
    "start_time": "2022-12-06T16:48:32.156Z"
   },
   {
    "duration": 79,
    "start_time": "2022-12-06T16:48:32.168Z"
   },
   {
    "duration": 52,
    "start_time": "2022-12-06T16:48:32.250Z"
   },
   {
    "duration": 27,
    "start_time": "2022-12-06T16:48:32.304Z"
   },
   {
    "duration": 8,
    "start_time": "2022-12-06T16:48:32.332Z"
   },
   {
    "duration": 54,
    "start_time": "2022-12-06T16:48:32.342Z"
   },
   {
    "duration": 13,
    "start_time": "2022-12-06T16:48:32.399Z"
   },
   {
    "duration": 272,
    "start_time": "2022-12-06T16:48:32.413Z"
   },
   {
    "duration": 934,
    "start_time": "2022-12-06T16:48:32.686Z"
   },
   {
    "duration": 6,
    "start_time": "2022-12-06T16:48:33.622Z"
   },
   {
    "duration": 15,
    "start_time": "2022-12-06T16:48:33.630Z"
   },
   {
    "duration": 10,
    "start_time": "2022-12-06T16:48:33.646Z"
   },
   {
    "duration": 11,
    "start_time": "2022-12-06T16:48:33.657Z"
   },
   {
    "duration": 38,
    "start_time": "2022-12-06T16:48:33.669Z"
   },
   {
    "duration": 27,
    "start_time": "2022-12-06T16:48:33.709Z"
   },
   {
    "duration": 4,
    "start_time": "2022-12-06T16:48:33.737Z"
   },
   {
    "duration": 31,
    "start_time": "2022-12-06T16:48:33.742Z"
   },
   {
    "duration": 10,
    "start_time": "2022-12-06T16:48:33.774Z"
   },
   {
    "duration": 4598,
    "start_time": "2022-12-06T16:48:33.790Z"
   },
   {
    "duration": 2172,
    "start_time": "2022-12-06T16:49:23.971Z"
   },
   {
    "duration": 1191,
    "start_time": "2022-12-06T16:49:26.146Z"
   },
   {
    "duration": 15,
    "start_time": "2022-12-06T16:49:27.339Z"
   },
   {
    "duration": 4,
    "start_time": "2022-12-06T16:49:27.356Z"
   },
   {
    "duration": 18,
    "start_time": "2022-12-06T16:49:27.382Z"
   },
   {
    "duration": 20,
    "start_time": "2022-12-06T16:49:27.403Z"
   },
   {
    "duration": 92,
    "start_time": "2022-12-06T16:49:27.425Z"
   },
   {
    "duration": 11,
    "start_time": "2022-12-06T16:49:27.518Z"
   },
   {
    "duration": 96,
    "start_time": "2022-12-06T16:49:27.531Z"
   },
   {
    "duration": 25,
    "start_time": "2022-12-06T16:49:27.631Z"
   },
   {
    "duration": 61,
    "start_time": "2022-12-06T16:49:27.658Z"
   },
   {
    "duration": 8,
    "start_time": "2022-12-06T16:49:27.720Z"
   },
   {
    "duration": 35,
    "start_time": "2022-12-06T16:49:27.729Z"
   },
   {
    "duration": 22,
    "start_time": "2022-12-06T16:49:27.766Z"
   },
   {
    "duration": 206,
    "start_time": "2022-12-06T16:49:27.790Z"
   },
   {
    "duration": 959,
    "start_time": "2022-12-06T16:49:28.004Z"
   },
   {
    "duration": 23,
    "start_time": "2022-12-06T16:49:28.964Z"
   },
   {
    "duration": 6,
    "start_time": "2022-12-06T16:49:29.001Z"
   },
   {
    "duration": 7,
    "start_time": "2022-12-06T16:49:29.011Z"
   },
   {
    "duration": 7,
    "start_time": "2022-12-06T16:49:29.020Z"
   },
   {
    "duration": 7,
    "start_time": "2022-12-06T16:49:29.029Z"
   },
   {
    "duration": 25,
    "start_time": "2022-12-06T16:49:29.038Z"
   },
   {
    "duration": 4,
    "start_time": "2022-12-06T16:49:29.065Z"
   },
   {
    "duration": 62,
    "start_time": "2022-12-06T16:49:29.071Z"
   },
   {
    "duration": 7,
    "start_time": "2022-12-06T16:49:29.134Z"
   },
   {
    "duration": 4682,
    "start_time": "2022-12-06T16:49:29.142Z"
   }
  ],
  "kernelspec": {
   "display_name": "Python 3 (ipykernel)",
   "language": "python",
   "name": "python3"
  },
  "language_info": {
   "codemirror_mode": {
    "name": "ipython",
    "version": 3
   },
   "file_extension": ".py",
   "mimetype": "text/x-python",
   "name": "python",
   "nbconvert_exporter": "python",
   "pygments_lexer": "ipython3",
   "version": "3.9.12"
  },
  "toc": {
   "base_numbering": 1,
   "nav_menu": {},
   "number_sections": true,
   "sideBar": true,
   "skip_h1_title": true,
   "title_cell": "Table of Contents",
   "title_sidebar": "Contents",
   "toc_cell": false,
   "toc_position": {},
   "toc_section_display": true,
   "toc_window_display": true
  }
 },
 "nbformat": 4,
 "nbformat_minor": 2
}
